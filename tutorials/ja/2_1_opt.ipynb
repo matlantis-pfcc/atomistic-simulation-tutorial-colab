{
 "cells": [
  {
   "cell_type": "markdown",
   "id": "8b186961-995f-4b40-9580-8d816992d1c1",
   "metadata": {
    "id": "8b186961-995f-4b40-9580-8d816992d1c1",
    "tags": []
   },
   "source": [
    "# Notion"
   ]
  },
  {
   "cell_type": "markdown",
   "id": "d8fcb2a7-1aa4-4843-b447-bc1b073ffd91",
   "metadata": {
    "id": "d8fcb2a7-1aa4-4843-b447-bc1b073ffd91"
   },
   "source": [
    "本notebookは[AtomisticSimulationTutorial](https://docs.matlantis.com/atomistic-simulation-tutorial/ja/)をGoogleColab上で実行するために修正したものであり、一般的なライブラリで実行可能な部分だけを提供しております。"
   ]
  },
  {
   "cell_type": "markdown",
   "id": "728da3a4-b437-4f81-b13e-6ac8fbe820ec",
   "metadata": {
    "id": "728da3a4-b437-4f81-b13e-6ac8fbe820ec",
    "tags": []
   },
   "source": [
    "# Opt\n",
    "\n",
    "この章では系の局所安定座標とそのエネルギーを計算する、 **構造最適化** (構造緩和などとも呼びます) について学びます。\n",
    "\n",
    "最適化アルゴリズムには大域的最適化 (Global optimization)と、局所最適化(Local optimization)がありますが、構造最適化では局所最適化アルゴリズムを用います。\n",
    "\n",
    "\n",
    "<figure>\n",
    "    <img src=\"../assets/ch2/local-global-minimum.png\" width=\"720px\">\n",
    "    <figcaption>ここでは横軸は系の様々な配座(Conformation) を表し、縦軸はエネルギーを表します。</figcaption>\n",
    "</figure>\n",
    "\n",
    "分子や結晶などの構造最適化を考える場合、N個の原子からなる系の座標値は 3*N 次元の自由度があり、例えば100原子からなる系では300次元もの高次元空間での最適化問題となります。<br/>\n",
    "大域最適解を見つけることは一般に難しい問題です。\n",
    "\n",
    "構造最適化は、系の初期座標を定めて、そこから局所安定点を見つけることにより、その安定構造を見つけます。<br/>\n",
    "\n",
    "ある物質の組成(元素の組み合わせとその割合、例えばNaCl など)がわかっている場合でも、その構造がどの様になっているかは自明ではありませんが、<br/>\n",
    "物質の多くの性質が安定構造付近の状態から決まるため、安定構造を求めることは重要です。\n",
    "\n",
    "\n",
    "実験的に構造を決定する場合は以下のような分析機器・計測装置を使う事が考えられます。\n",
    "しかし、その場合でも\n",
    "\n",
    " - スペクトル情報から物質の部分的な情報が得られるのみで、3次元構造の情報が直接観測できるわけではない (1~6)\n",
    " - 単結晶や、薄膜といった構造を作成する必要があり、現実ではそういった試料の準備が難しいことがある (3, 8)\n",
    " - 原子レベルのスケールで見るには解像度が足りない (7)\n",
    " - 表面の形状は観察できるものの、その原子・分子の種類を区別することができない (9)\n",
    "\n",
    "など、課題があり、今扱っている物質の各原子がどのように配置されているか、3次元構造の特定は容易ではありません。\n",
    "\n",
    "分析機器の例：\n",
    "\n",
    "| 名前 | 特徴 |\n",
    "|:---|:---|\n",
    "|1. 赤外分光法 |分子の振動による赤外線吸収を測定することで、分子構造の情報を得る |\n",
    "|2. Raman分光法 |ラマン散乱光を用いて物質の評価を行う |\n",
    "|3. X線回折法 (XRD: X-ray Diffraction) |結晶構造を持つ物質にX線を照射することで得られる回折線を解析することで物質の同定や定量を行う |\n",
    "|4. X線光電子分光法 (XPS: X-ray Photoelectron Spectroscopy) |軟X線を物質に照射し、物質のイオン化に伴い放出される光電子e-を補足しエネルギー分析を行う |\n",
    "|5. 質量分析計 (MS: Mass Spectroscopy) |物質を構成している個々の化合物の質量を正確に測定 |\n",
    "|6. 核磁気共鳴装置 (NMR: Nuclear Magnetic Resonance) | 原子核の共鳴現象を利用して、有機化合物の分析を行う |\n",
    "|7. 走査電子顕微鏡 (SEM: Scanning Electron Microscope) | 波長の短い電子線を利用して0.4~4nmの解像度で表面を観察 |\n",
    "|8. 透過電子顕微鏡 (TEM: Transmission Electron Microscope) |電子線を当て透過した電子線の強弱により微小な物質を観察 |\n",
    "|9. 原子間力顕微鏡 (AFM: Atomic Force Microscope) | 探針と試料に作用する原子間力を検出する顕微鏡 |\n",
    "\n",
    "\n",
    "分析機器の参考文献\n",
    "\n",
    " - [やさしい科学 | JEOL 日本電子株式会社](https://www.jeol.co.jp/science/)\n",
    " - [分析の原理 | JAIMA 一般社団法人 日本分析機器工業会](https://www.jaima.or.jp/jp/analytical/basic/)\n",
    " - [分析装置 | 環境リサーチ株式会社](https://www.kankyo-research.co.jp/equipment/)\n",
    " - [MST｜分析手法](https://www.mst.or.jp/method/tabid/64/Default.aspx)\n",
    "\n",
    "\n",
    "そのため、シミュレーション上でどの構造になっていそうかを推定し、実験で検証する（またはその逆）を行うことが重要となります。\n"
   ]
  },
  {
   "cell_type": "markdown",
   "id": "08fa3f3f-b404-439e-aeec-914ed207c963",
   "metadata": {
    "id": "08fa3f3f-b404-439e-aeec-914ed207c963",
    "tags": []
   },
   "source": [
    "## Initial setup"
   ]
  },
  {
   "cell_type": "code",
   "execution_count": 1,
   "id": "873d9848-772f-45b5-a5b7-3cddd7ef762a",
   "metadata": {
    "colab": {
     "base_uri": "https://localhost:8080/"
    },
    "id": "873d9848-772f-45b5-a5b7-3cddd7ef762a",
    "outputId": "b830cb03-e2f8-4850-a802-b82db2474b56"
   },
   "outputs": [
    {
     "name": "stdout",
     "output_type": "stream",
     "text": [
      "Requirement already satisfied: ase in /usr/local/lib/python3.10/dist-packages (3.23.0)\n",
      "Requirement already satisfied: numpy>=1.18.5 in /usr/local/lib/python3.10/dist-packages (from ase) (1.26.4)\n",
      "Requirement already satisfied: scipy>=1.6.0 in /usr/local/lib/python3.10/dist-packages (from ase) (1.13.1)\n",
      "Requirement already satisfied: matplotlib>=3.3.4 in /usr/local/lib/python3.10/dist-packages (from ase) (3.8.0)\n",
      "Requirement already satisfied: contourpy>=1.0.1 in /usr/local/lib/python3.10/dist-packages (from matplotlib>=3.3.4->ase) (1.3.1)\n",
      "Requirement already satisfied: cycler>=0.10 in /usr/local/lib/python3.10/dist-packages (from matplotlib>=3.3.4->ase) (0.12.1)\n",
      "Requirement already satisfied: fonttools>=4.22.0 in /usr/local/lib/python3.10/dist-packages (from matplotlib>=3.3.4->ase) (4.55.3)\n",
      "Requirement already satisfied: kiwisolver>=1.0.1 in /usr/local/lib/python3.10/dist-packages (from matplotlib>=3.3.4->ase) (1.4.7)\n",
      "Requirement already satisfied: packaging>=20.0 in /usr/local/lib/python3.10/dist-packages (from matplotlib>=3.3.4->ase) (24.2)\n",
      "Requirement already satisfied: pillow>=6.2.0 in /usr/local/lib/python3.10/dist-packages (from matplotlib>=3.3.4->ase) (11.0.0)\n",
      "Requirement already satisfied: pyparsing>=2.3.1 in /usr/local/lib/python3.10/dist-packages (from matplotlib>=3.3.4->ase) (3.2.0)\n",
      "Requirement already satisfied: python-dateutil>=2.7 in /usr/local/lib/python3.10/dist-packages (from matplotlib>=3.3.4->ase) (2.8.2)\n",
      "Requirement already satisfied: six>=1.5 in /usr/local/lib/python3.10/dist-packages (from python-dateutil>=2.7->matplotlib>=3.3.4->ase) (1.17.0)\n"
     ]
    }
   ],
   "source": [
    "!pip install ase"
   ]
  },
  {
   "cell_type": "code",
   "execution_count": 2,
   "id": "64d5c37d-6b30-4e77-b3a4-f5be11123046",
   "metadata": {
    "id": "64d5c37d-6b30-4e77-b3a4-f5be11123046",
    "tags": []
   },
   "outputs": [],
   "source": [
    "import os\n",
    "\n",
    "from IPython.display import HTML, Image\n",
    "\n",
    "import matplotlib.pyplot as plt\n",
    "import matplotlib.image as mpimg\n",
    "from matplotlib.animation import FuncAnimation\n",
    "\n",
    "from ase import Atoms\n",
    "from ase.build import make_supercell\n",
    "from ase.io import write\n",
    "from ase.visualize import view\n",
    "\n",
    "os.makedirs(\"output\", exist_ok=True)\n",
    "\n",
    "def view_x3d(atoms, idx=0):\n",
    "    if isinstance(atoms[0], Atoms):\n",
    "        # Assume this is a trajectory or struct list\n",
    "        if (len(atoms) <= idx):\n",
    "                print(f\"The specified index exceeds the length of the trajectory. The length of the trajectory is {len(atoms)}.\")\n",
    "        return view(atoms[idx], viewer=\"x3d\")\n",
    "    else:\n",
    "        return view(atoms, viewer=\"x3d\")\n",
    "\n",
    "\n",
    "def view_ase_atoms(atoms, rotation=\"0x,0y,0z\", figsize=(4, 4), title=\"\", scale=100):\n",
    "    fig, ax = plt.subplots(figsize=figsize)\n",
    "    write(\"output/tmp.png\", atoms, rotation=rotation, scale=scale)\n",
    "    img = mpimg.imread('output/tmp.png')\n",
    "    ax.imshow(img)\n",
    "    ax.set_title(title)\n",
    "    ax.axis('off')\n",
    "    plt.show()\n",
    "    os.remove('output/tmp.png')\n",
    "    return\n",
    "\n",
    "def traj_to_apng(traj, rotation='30x,30y,30z'):\n",
    "    imgs = []\n",
    "    for atom in traj:\n",
    "        supercell = make_supercell(atom, [[1, 0, 0], [0, 1, 0], [0, 0, 1]])\n",
    "        write('output/tmp.png', supercell, rotation=rotation, show_unit_cell=2)\n",
    "        img = mpimg.imread('output/tmp.png')\n",
    "        imgs.append(img)\n",
    "    os.remove('output/tmp.png')\n",
    "\n",
    "    fig, ax = plt.subplots()\n",
    "\n",
    "    def update(frame):\n",
    "        img = imgs[frame]\n",
    "        ax.clear()\n",
    "        ax.imshow(img)\n",
    "        return []\n",
    "\n",
    "    ani = FuncAnimation(fig, update, frames=len(imgs), blit=True)\n",
    "    plt.close()\n",
    "    return HTML(ani.to_jshtml())"
   ]
  },
  {
   "cell_type": "code",
   "execution_count": 3,
   "id": "8e42b27c-6977-41a6-b23d-df9d90f387e6",
   "metadata": {
    "colab": {
     "base_uri": "https://localhost:8080/"
    },
    "id": "8e42b27c-6977-41a6-b23d-df9d90f387e6",
    "outputId": "04a1c8ee-3a11-4d44-819f-86890a675de7"
   },
   "outputs": [
    {
     "name": "stdout",
     "output_type": "stream",
     "text": [
      "Hit:1 https://cloud.r-project.org/bin/linux/ubuntu jammy-cran40/ InRelease\n",
      "Hit:2 https://developer.download.nvidia.com/compute/cuda/repos/ubuntu2204/x86_64  InRelease\n",
      "Hit:3 http://archive.ubuntu.com/ubuntu jammy InRelease\n",
      "Hit:4 http://security.ubuntu.com/ubuntu jammy-security InRelease\n",
      "Hit:5 http://archive.ubuntu.com/ubuntu jammy-updates InRelease\n",
      "Hit:6 https://r2u.stat.illinois.edu/ubuntu jammy InRelease\n",
      "Hit:7 http://archive.ubuntu.com/ubuntu jammy-backports InRelease\n",
      "Hit:8 https://ppa.launchpadcontent.net/deadsnakes/ppa/ubuntu jammy InRelease\n",
      "Hit:9 https://ppa.launchpadcontent.net/graphics-drivers/ppa/ubuntu jammy InRelease\n",
      "Hit:10 https://ppa.launchpadcontent.net/ubuntugis/ppa/ubuntu jammy InRelease\n",
      "Reading package lists... Done\n",
      "W: Skipping acquire of configured file 'main/source/Sources' as repository 'https://r2u.stat.illinois.edu/ubuntu jammy InRelease' does not seem to provide it (sources.list entry misspelt?)\n",
      "Reading package lists... Done\n",
      "Building dependency tree... Done\n",
      "Reading state information... Done\n",
      "build-essential is already the newest version (12.9ubuntu3).\n",
      "gfortran is already the newest version (4:11.2.0-1ubuntu1).\n",
      "libopenblas-dev is already the newest version (0.3.20+ds-1).\n",
      "cmake is already the newest version (3.22.1-1ubuntu1.22.04.2).\n",
      "0 upgraded, 0 newly installed, 0 to remove and 50 not upgraded.\n",
      "fatal: destination path 'mopac' already exists and is not an empty directory.\n",
      "/content/mopac\n",
      "mkdir: cannot create directory ‘build’: File exists\n",
      "/content/mopac/build\n",
      "-- Build type is Release\n",
      "-- Shared library and dynamic executables\n",
      "-- Configuring done (1.9s)\n",
      "-- Generating done (0.2s)\n",
      "-- Build files have been written to: /content/mopac/build\n",
      "[  6%] Built target mopac-makpol\n",
      "[ 98%] Built target mopac-core\n",
      "[ 98%] Built target mopac\n",
      "[ 99%] Built target mopac-param\n",
      "[100%] Built target mopac-api-test\n",
      "[ 92%] Built target mopac-core\n",
      "[ 92%] Built target mopac\n",
      "[ 93%] Built target mopac-param\n",
      "[ 99%] Built target mopac-makpol\n",
      "[100%] Built target mopac-api-test\n",
      "\u001b[36mInstall the project...\u001b[0m\n",
      "-- Install configuration: \"Release\"\n",
      "-- Up-to-date: /usr/local/include/mopac.h\n",
      "-- Up-to-date: /usr/local/bin/mopac\n",
      "-- Up-to-date: /usr/local/bin/mopac-param\n",
      "-- Up-to-date: /usr/local/bin/mopac-makpol\n",
      "-- Up-to-date: /usr/local/lib/libmopac.so.2\n",
      "-- Up-to-date: /usr/local/lib/libmopac.so\n"
     ]
    }
   ],
   "source": [
    "# this command takes several minutes\n",
    "\n",
    "## install mopac\n",
    "# 環境変数を設定して非対話モードに\n",
    "!export DEBIAN_FRONTEND=noninteractive\n",
    "\n",
    "# 必要なパッケージのインストール（-yフラグで自動承認）\n",
    "!apt-get update -y\n",
    "!apt-get install -y build-essential gfortran cmake libopenblas-dev\n",
    "\n",
    "# 古いビルドディレクトリがある場合は削除\n",
    "!rm -rf build\n",
    "\n",
    "# GitHubからMOPACをクローン\n",
    "!git clone https://github.com/openmopac/mopac.git\n",
    "\n",
    "# ビルドディレクトリの作成\n",
    "%cd /content/mopac\n",
    "!mkdir build\n",
    "%cd build\n",
    "\n",
    "# CMakeを非対話モードで実行\n",
    "!cmake -DCMAKE_BUILD_TYPE=Release ..\n",
    "\n",
    "# ビルドの実行（-jフラグで並列ビルド）\n",
    "!make -j$(nproc)\n",
    "\n",
    "# インストール\n",
    "!make install"
   ]
  },
  {
   "cell_type": "code",
   "execution_count": 4,
   "id": "19d232ca-a9a8-49c8-913b-a1eed01dcee5",
   "metadata": {
    "colab": {
     "base_uri": "https://localhost:8080/"
    },
    "id": "19d232ca-a9a8-49c8-913b-a1eed01dcee5",
    "outputId": "e47478c0-f421-443b-cd38-75d70f51f264"
   },
   "outputs": [
    {
     "name": "stdout",
     "output_type": "stream",
     "text": [
      "/content\n"
     ]
    }
   ],
   "source": [
    "%cd /content"
   ]
  },
  {
   "cell_type": "markdown",
   "id": "123471d5-cf9b-461a-9772-7c8bc78d6078",
   "metadata": {
    "id": "123471d5-cf9b-461a-9772-7c8bc78d6078"
   },
   "source": [
    "## Opt molecules\n",
    "\n",
    "まずは簡単な例として、周期境界条件のない単体の有機分子の構造最適化を行ってみます。\n",
    "\n",
    "\n",
    "### 1. 水素分子\n",
    "\n",
    "まずは、前章でも行った水素分子の最安定構造の結合距離を、構造最適化を用いて求めてみます。\n",
    "\n",
    "以下のような流れとなります。\n",
    "\n",
    " - Step 1: ポテンシャルエネルギーを計算するCalculatorを用意\n",
    " - Step 2: 構造最適化を行いたい分子を用意\n",
    " - Step 3: 構造最適化アルゴリズムの手法を選択し、実行\n"
   ]
  },
  {
   "cell_type": "markdown",
   "id": "b1006680-cc5e-4ca2-b796-96f885692ddb",
   "metadata": {
    "id": "b1006680-cc5e-4ca2-b796-96f885692ddb"
   },
   "source": [
    "Step 1: Calculatorを用意"
   ]
  },
  {
   "cell_type": "code",
   "execution_count": 5,
   "id": "5e2d3f45-5626-41a0-88a1-baaaea6c8b61",
   "metadata": {
    "id": "5e2d3f45-5626-41a0-88a1-baaaea6c8b61",
    "tags": []
   },
   "outputs": [],
   "source": [
    "from ase.calculators.emt import EMT\n",
    "\n",
    "calculator = EMT()"
   ]
  },
  {
   "cell_type": "markdown",
   "id": "9e5f4170-9518-4e01-9e53-a748daee2239",
   "metadata": {
    "id": "9e5f4170-9518-4e01-9e53-a748daee2239"
   },
   "source": [
    "Step 2: 構造最適化を行いたい分子を用意\n",
    "\n",
    "ここでは水素分子を作成します。座標値は人手で、1.0A 離れたところで初期座標を設定してみます。"
   ]
  },
  {
   "cell_type": "code",
   "execution_count": 6,
   "id": "7b4afeca-4f4c-422e-bb7a-56c084c772ad",
   "metadata": {
    "id": "7b4afeca-4f4c-422e-bb7a-56c084c772ad",
    "tags": []
   },
   "outputs": [],
   "source": [
    "from ase import Atoms\n",
    "\n",
    "atoms = Atoms(\"H2\", [[0, 0, 0], [0, 0, 1.0]])\n",
    "atoms.calc = calculator"
   ]
  },
  {
   "cell_type": "markdown",
   "id": "ad5a29f8-b762-4b80-8955-46e29ecad5e4",
   "metadata": {
    "id": "ad5a29f8-b762-4b80-8955-46e29ecad5e4"
   },
   "source": [
    "Step 3: 構造最適化アルゴリズムの手法を選択し、実行\n",
    "\n",
    "局所最適化アルゴリズムとして、ASEではNewton法に似た振る舞いで最適化を行う `FIRE`, `MDMin` や、2次関数近似をおこなって最適化を行う `BFGS`, `LBFGS`, `BFGSLineSearch`=`QuasiNewton`, `LBFGSLineSearch`法などが提供されています。これらのアルゴリズムの違いや性質については次節で説明をします。\n",
    "\n",
    " - https://wiki.fysik.dtu.dk/ase/ase/optimize.html\n",
    "\n",
    "\n",
    "今回は、`LBFGS` を用いて構造最適化を行ってみます。<br/>\n",
    "基本的には `atoms` を局所最適化アルゴリズムに設定し、 `run`関数を呼ぶと構造最適化が行われます。<br/>\n",
    "`trajectory` 引数を指定しておくと、構造最適化の過程を保存できます。"
   ]
  },
  {
   "cell_type": "code",
   "execution_count": 7,
   "id": "e186514f-2167-4c77-b21b-02bb698b1a5b",
   "metadata": {
    "colab": {
     "base_uri": "https://localhost:8080/"
    },
    "id": "e186514f-2167-4c77-b21b-02bb698b1a5b",
    "outputId": "d7344f87-5693-4a84-8af9-9e95ade46fb0",
    "tags": []
   },
   "outputs": [
    {
     "name": "stdout",
     "output_type": "stream",
     "text": [
      "       Step     Time          Energy          fmax\n",
      "LBFGS:    0 02:41:01        2.299030        8.035807\n",
      "LBFGS:    1 02:41:01        1.073973        0.803630\n",
      "LBFGS:    2 02:41:01        1.077039        1.044666\n",
      "LBFGS:    3 02:41:01        1.070550        0.038983\n",
      "LBFGS:    4 02:41:01        1.070541        0.002004\n"
     ]
    },
    {
     "data": {
      "text/plain": [
       "True"
      ]
     },
     "execution_count": 7,
     "metadata": {},
     "output_type": "execute_result"
    }
   ],
   "source": [
    "import os\n",
    "from ase.optimize import LBFGS, BFGS, FIRE\n",
    "\n",
    "os.makedirs(\"output\", exist_ok=True)\n",
    "\n",
    "opt = LBFGS(atoms, trajectory=\"output/bfgs_h2.traj\")\n",
    "opt.run(fmax=0.01)"
   ]
  },
  {
   "cell_type": "markdown",
   "id": "a83340ef-bd0d-4650-9f0a-660be92f92c1",
   "metadata": {
    "id": "a83340ef-bd0d-4650-9f0a-660be92f92c1"
   },
   "source": [
    "今回の簡単な例では 7step、Matlantis では約2秒で構造最適化が終了しました。\n",
    "\n",
    "構造最適化途中の系の可視化を行ってみます。"
   ]
  },
  {
   "cell_type": "code",
   "execution_count": 8,
   "id": "c2618e31-d49b-401c-bfa5-3db1ae6beb4d",
   "metadata": {
    "colab": {
     "base_uri": "https://localhost:8080/",
     "height": 317
    },
    "id": "c2618e31-d49b-401c-bfa5-3db1ae6beb4d",
    "outputId": "18dc1951-0aff-462e-f6f3-4768ffc1a94c",
    "tags": []
   },
   "outputs": [
    {
     "data": {
      "text/html": [
       "<html>\n",
       "    <head>\n",
       "        <title>ASE atomic visualization</title>\n",
       "        <link rel=\"stylesheet\" type=\"text/css\"             href=\"https://www.x3dom.org/release/x3dom.css\"></link>\n",
       "        <script type=\"text/javascript\"             src=\"https://www.x3dom.org/release/x3dom.js\"></script>\n",
       "    </head>\n",
       "    <body>\n",
       "        <X3D width=\"400px\"; height=\"300px\";>\n",
       "\n",
       "<!--Inserting Generated X3D Scene-->\n",
       "<scene>\n",
       "  <viewpoint position=\"0 0 2.0\">\n",
       "    <group/>\n",
       "  </viewpoint>\n",
       "  <transform translation=\"-0.0 -0.0 -0.0\">\n",
       "    <group>\n",
       "      <group>\n",
       "        <transform translation=\"0 0 0\">\n",
       "          <shape>\n",
       "            <appearance>\n",
       "              <material diffuseColor=\"0 0 0\"/>\n",
       "            </appearance>\n",
       "            <lineset vertexCount=\"5\">\n",
       "              <coordinate point=\"0 0 0 0.0 0.0 0.0 0.0 0.0 0.0 0.0 0.0 0.0 0 0 0\"/>\n",
       "            </lineset>\n",
       "          </shape>\n",
       "        </transform>\n",
       "        <transform translation=\"0.0 0.0 0.0\">\n",
       "          <shape>\n",
       "            <appearance>\n",
       "              <material diffuseColor=\"0 0 0\"/>\n",
       "            </appearance>\n",
       "            <lineset vertexCount=\"5\">\n",
       "              <coordinate point=\"0 0 0 0.0 0.0 0.0 0.0 0.0 0.0 0.0 0.0 0.0 0 0 0\"/>\n",
       "            </lineset>\n",
       "          </shape>\n",
       "        </transform>\n",
       "        <transform translation=\"0 0 0\">\n",
       "          <shape>\n",
       "            <appearance>\n",
       "              <material diffuseColor=\"0 0 0\"/>\n",
       "            </appearance>\n",
       "            <lineset vertexCount=\"5\">\n",
       "              <coordinate point=\"0 0 0 0.0 0.0 0.0 0.0 0.0 0.0 0.0 0.0 0.0 0 0 0\"/>\n",
       "            </lineset>\n",
       "          </shape>\n",
       "        </transform>\n",
       "        <transform translation=\"0.0 0.0 0.0\">\n",
       "          <shape>\n",
       "            <appearance>\n",
       "              <material diffuseColor=\"0 0 0\"/>\n",
       "            </appearance>\n",
       "            <lineset vertexCount=\"5\">\n",
       "              <coordinate point=\"0 0 0 0.0 0.0 0.0 0.0 0.0 0.0 0.0 0.0 0.0 0 0 0\"/>\n",
       "            </lineset>\n",
       "          </shape>\n",
       "        </transform>\n",
       "      </group>\n",
       "      <group>\n",
       "        <transform translation=\"0.0 0.0 0.0\">\n",
       "          <shape>\n",
       "            <appearance>\n",
       "              <material diffuseColor=\"1.0 1.0 1.0\"/>\n",
       "            </appearance>\n",
       "            <sphere radius=\"0.31\"/>\n",
       "          </shape>\n",
       "        </transform>\n",
       "        <transform translation=\"0.0 0.0 1.0\">\n",
       "          <shape>\n",
       "            <appearance>\n",
       "              <material diffuseColor=\"1.0 1.0 1.0\"/>\n",
       "            </appearance>\n",
       "            <sphere radius=\"0.31\"/>\n",
       "          </shape>\n",
       "        </transform>\n",
       "      </group>\n",
       "    </group>\n",
       "  </transform>\n",
       "</scene>\n",
       "<!--End of Inserted Scene-->\n",
       "\n",
       "        </X3D>\n",
       "    </body>\n",
       "</html>\n",
       "\n"
      ],
      "text/plain": [
       "<IPython.core.display.HTML object>"
      ]
     },
     "execution_count": 8,
     "metadata": {},
     "output_type": "execute_result"
    }
   ],
   "source": [
    "from ase.io import Trajectory\n",
    "\n",
    "traj = Trajectory(\"output/bfgs_h2.traj\")\n",
    "view_x3d(traj)"
   ]
  },
  {
   "cell_type": "markdown",
   "id": "bb12ab10-ef59-42af-a7d8-26c55a36db1c",
   "metadata": {
    "id": "bb12ab10-ef59-42af-a7d8-26c55a36db1c"
   },
   "source": [
    "構造最適化により、原子距離がどのように推移したかをプロットしてみます。"
   ]
  },
  {
   "cell_type": "code",
   "execution_count": 9,
   "id": "20d5625f-b8a7-4467-aac4-03b15746e18c",
   "metadata": {
    "colab": {
     "base_uri": "https://localhost:8080/"
    },
    "id": "20d5625f-b8a7-4467-aac4-03b15746e18c",
    "outputId": "80fe0585-894b-4e75-f376-822e3bc1d0dd",
    "tags": []
   },
   "outputs": [
    {
     "name": "stdout",
     "output_type": "stream",
     "text": [
      "Distance trajectory [1.0, 0.7704055255375273, 0.7912789110251786, 0.7794811681635996, 0.7790238514009783]\n"
     ]
    }
   ],
   "source": [
    "import numpy as np\n",
    "\n",
    "# np.linalg.norm?\n",
    "distance_list = []\n",
    "E_pot_list = []\n",
    "for atoms in traj:\n",
    "    p1, p2 = atoms.get_positions()\n",
    "    distance = np.linalg.norm(p1 - p2)\n",
    "    distance_list.append(distance)\n",
    "    E_pot_list.append(atoms.get_potential_energy())\n",
    "\n",
    "print(\"Distance trajectory\", distance_list)"
   ]
  },
  {
   "cell_type": "code",
   "execution_count": 10,
   "id": "6c8d9bff-43c5-4fb1-903a-cdec07ec4b00",
   "metadata": {
    "colab": {
     "base_uri": "https://localhost:8080/",
     "height": 472
    },
    "id": "6c8d9bff-43c5-4fb1-903a-cdec07ec4b00",
    "outputId": "3ad874a9-c4c4-471c-a09f-78edcfea322a",
    "tags": []
   },
   "outputs": [
    {
     "data": {
      "image/png": "[encoded data removed]",
      "text/plain": [
       "<Figure size 640x480 with 1 Axes>"
      ]
     },
     "metadata": {},
     "output_type": "display_data"
    }
   ],
   "source": [
    "import matplotlib.pyplot as plt\n",
    "plt.plot(distance_list)\n",
    "plt.xlabel(\"step\")\n",
    "plt.ylabel(\"Distance [A]\")\n",
    "plt.title(\"H2 opt trajectory\")\n",
    "plt.show()"
   ]
  },
  {
   "cell_type": "code",
   "execution_count": 11,
   "id": "392c8215-3348-4255-a55b-6a20427d0da0",
   "metadata": {
    "colab": {
     "base_uri": "https://localhost:8080/"
    },
    "id": "392c8215-3348-4255-a55b-6a20427d0da0",
    "outputId": "a724b81b-bb6f-4b6b-f67e-e014c01852aa",
    "tags": []
   },
   "outputs": [
    {
     "data": {
      "text/plain": [
       "0.7790238514009783"
      ]
     },
     "execution_count": 11,
     "metadata": {},
     "output_type": "execute_result"
    }
   ],
   "source": [
    "atoms.get_distance(0,1)"
   ]
  },
  {
   "cell_type": "markdown",
   "id": "d99173fc-b1dc-4bfe-8d54-ee0dd2506afc",
   "metadata": {
    "id": "d99173fc-b1dc-4bfe-8d54-ee0dd2506afc"
   },
   "source": [
    "最終的に、 `0.78` A あたりで落ち着くことが確認できました。\n",
    "\n",
    "前章ではすべての結合距離に対するエネルギーを計算し、最低エネルギーになる値を求めましたが、構造最適化を用いることで効率よく安定構造を見つけることができます。"
   ]
  },
  {
   "cell_type": "markdown",
   "id": "76d1e7c0-0c4a-4d10-9c6c-3bacb601a68c",
   "metadata": {
    "id": "76d1e7c0-0c4a-4d10-9c6c-3bacb601a68c"
   },
   "source": [
    "### 2. シクロヘキサン\n",
    "\n",
    "次の例として、シクロヘキサンの安定構造を考えてみます。<br/>\n",
    "\n",
    "シクロヘキサンはC6H12で表される構造ですが、いくつかの立体配座(Conformation) を取ることが知られています。<br/>\n",
    "代表的な配座異性体としては、以下の図のいす形 (A)、ねじれ舟形 (B)、舟形 (C)、半いす形 (D)などがあります。\n",
    "\n",
    "一番安定な（エネルギーの低い）形はいす形で、25℃ではシクロヘキサン溶液中の全分子の99.99%がいす形になります。<br/>\n",
    "ここでは、いす形 (A)および、舟形 (C)の初期構造を用意して、構造最適化を行い、その形やポテンシャルエネルギーを比較してみます。\n",
    "\n",
    "<figure style=\"width:600px\">\n",
    "  <img src=\"https://upload.wikimedia.org/wikipedia/commons/7/7a/Cyclohexane_ring_flip_and_relative_conformation_energies.svg\"/>\n",
    "</figure>\n",
    "\n",
    "<cite>[シクロヘキサンの立体配座](https://ja.wikipedia.org/wiki/%E3%82%B7%E3%82%AF%E3%83%AD%E3%83%98%E3%82%AD%E3%82%B5%E3%83%B3%E3%81%AE%E7%AB%8B%E4%BD%93%E9%85%8D%E5%BA%A7) より</cite>\n",
    "\n"
   ]
  },
  {
   "cell_type": "markdown",
   "id": "003422d9-6408-4574-9a5b-73564716dc6c",
   "metadata": {
    "id": "003422d9-6408-4574-9a5b-73564716dc6c"
   },
   "source": [
    "**初期座標の構造用意**\n",
    "\n",
    "いす形はPubChemで公開されている構造を使用します。\n",
    "\n",
    "3D structure image of CID 8078 Cyclohexane (Compound)\n",
    "\n",
    "PubChem Identifier: CID 8078<br/>\n",
    "URL: https://pubchem.ncbi.nlm.nih.gov/compound/8078#section=3D-Conformer\n"
   ]
  },
  {
   "cell_type": "code",
   "execution_count": 12,
   "id": "0361dcee-ef7f-4f06-8b49-be1b632f77c4",
   "metadata": {
    "colab": {
     "base_uri": "https://localhost:8080/",
     "height": 317
    },
    "id": "0361dcee-ef7f-4f06-8b49-be1b632f77c4",
    "outputId": "dd84c0d6-2d4b-4ae4-a891-bb4e663a5370",
    "tags": []
   },
   "outputs": [
    {
     "data": {
      "text/html": [
       "<html>\n",
       "    <head>\n",
       "        <title>ASE atomic visualization</title>\n",
       "        <link rel=\"stylesheet\" type=\"text/css\"             href=\"https://www.x3dom.org/release/x3dom.css\"></link>\n",
       "        <script type=\"text/javascript\"             src=\"https://www.x3dom.org/release/x3dom.js\"></script>\n",
       "    </head>\n",
       "    <body>\n",
       "        <X3D width=\"400px\"; height=\"300px\";>\n",
       "\n",
       "<!--Inserting Generated X3D Scene-->\n",
       "<scene>\n",
       "  <viewpoint position=\"0 0 9.9084\">\n",
       "    <group/>\n",
       "  </viewpoint>\n",
       "  <transform translation=\"-0.0 -0.0 -0.0\">\n",
       "    <group>\n",
       "      <group>\n",
       "        <transform translation=\"0 0 0\">\n",
       "          <shape>\n",
       "            <appearance>\n",
       "              <material diffuseColor=\"0 0 0\"/>\n",
       "            </appearance>\n",
       "            <lineset vertexCount=\"5\">\n",
       "              <coordinate point=\"0 0 0 0.0 0.0 0.0 0.0 0.0 0.0 0.0 0.0 0.0 0 0 0\"/>\n",
       "            </lineset>\n",
       "          </shape>\n",
       "        </transform>\n",
       "        <transform translation=\"0.0 0.0 0.0\">\n",
       "          <shape>\n",
       "            <appearance>\n",
       "              <material diffuseColor=\"0 0 0\"/>\n",
       "            </appearance>\n",
       "            <lineset vertexCount=\"5\">\n",
       "              <coordinate point=\"0 0 0 0.0 0.0 0.0 0.0 0.0 0.0 0.0 0.0 0.0 0 0 0\"/>\n",
       "            </lineset>\n",
       "          </shape>\n",
       "        </transform>\n",
       "        <transform translation=\"0 0 0\">\n",
       "          <shape>\n",
       "            <appearance>\n",
       "              <material diffuseColor=\"0 0 0\"/>\n",
       "            </appearance>\n",
       "            <lineset vertexCount=\"5\">\n",
       "              <coordinate point=\"0 0 0 0.0 0.0 0.0 0.0 0.0 0.0 0.0 0.0 0.0 0 0 0\"/>\n",
       "            </lineset>\n",
       "          </shape>\n",
       "        </transform>\n",
       "        <transform translation=\"0.0 0.0 0.0\">\n",
       "          <shape>\n",
       "            <appearance>\n",
       "              <material diffuseColor=\"0 0 0\"/>\n",
       "            </appearance>\n",
       "            <lineset vertexCount=\"5\">\n",
       "              <coordinate point=\"0 0 0 0.0 0.0 0.0 0.0 0.0 0.0 0.0 0.0 0.0 0 0 0\"/>\n",
       "            </lineset>\n",
       "          </shape>\n",
       "        </transform>\n",
       "      </group>\n",
       "      <group>\n",
       "        <transform translation=\"-1.2838 -0.691 0.2258\">\n",
       "          <shape>\n",
       "            <appearance>\n",
       "              <material diffuseColor=\"0.565 0.565 0.565\"/>\n",
       "            </appearance>\n",
       "            <sphere radius=\"0.76\"/>\n",
       "          </shape>\n",
       "        </transform>\n",
       "        <transform translation=\"-1.2404 0.7662 -0.2258\">\n",
       "          <shape>\n",
       "            <appearance>\n",
       "              <material diffuseColor=\"0.565 0.565 0.565\"/>\n",
       "            </appearance>\n",
       "            <sphere radius=\"0.76\"/>\n",
       "          </shape>\n",
       "        </transform>\n",
       "        <transform translation=\"-0.0435 -1.4573 -0.2258\">\n",
       "          <shape>\n",
       "            <appearance>\n",
       "              <material diffuseColor=\"0.565 0.565 0.565\"/>\n",
       "            </appearance>\n",
       "            <sphere radius=\"0.76\"/>\n",
       "          </shape>\n",
       "        </transform>\n",
       "        <transform translation=\"0.0435 1.4573 0.2258\">\n",
       "          <shape>\n",
       "            <appearance>\n",
       "              <material diffuseColor=\"0.565 0.565 0.565\"/>\n",
       "            </appearance>\n",
       "            <sphere radius=\"0.76\"/>\n",
       "          </shape>\n",
       "        </transform>\n",
       "        <transform translation=\"1.2404 -0.7663 0.2258\">\n",
       "          <shape>\n",
       "            <appearance>\n",
       "              <material diffuseColor=\"0.565 0.565 0.565\"/>\n",
       "            </appearance>\n",
       "            <sphere radius=\"0.76\"/>\n",
       "          </shape>\n",
       "        </transform>\n",
       "        <transform translation=\"1.2838 0.6911 -0.2257\">\n",
       "          <shape>\n",
       "            <appearance>\n",
       "              <material diffuseColor=\"0.565 0.565 0.565\"/>\n",
       "            </appearance>\n",
       "            <sphere radius=\"0.76\"/>\n",
       "          </shape>\n",
       "        </transform>\n",
       "        <transform translation=\"-2.1821 -1.1746 -0.1741\">\n",
       "          <shape>\n",
       "            <appearance>\n",
       "              <material diffuseColor=\"1.0 1.0 1.0\"/>\n",
       "            </appearance>\n",
       "            <sphere radius=\"0.31\"/>\n",
       "          </shape>\n",
       "        </transform>\n",
       "        <transform translation=\"-1.3588 -0.7314 1.3195\">\n",
       "          <shape>\n",
       "            <appearance>\n",
       "              <material diffuseColor=\"1.0 1.0 1.0\"/>\n",
       "            </appearance>\n",
       "            <sphere radius=\"0.31\"/>\n",
       "          </shape>\n",
       "        </transform>\n",
       "        <transform translation=\"-1.3129 0.811 -1.3195\">\n",
       "          <shape>\n",
       "            <appearance>\n",
       "              <material diffuseColor=\"1.0 1.0 1.0\"/>\n",
       "            </appearance>\n",
       "            <sphere radius=\"0.31\"/>\n",
       "          </shape>\n",
       "        </transform>\n",
       "        <transform translation=\"-2.1083 1.3025 0.1741\">\n",
       "          <shape>\n",
       "            <appearance>\n",
       "              <material diffuseColor=\"1.0 1.0 1.0\"/>\n",
       "            </appearance>\n",
       "            <sphere radius=\"0.31\"/>\n",
       "          </shape>\n",
       "        </transform>\n",
       "        <transform translation=\"-0.046 -1.5425 -1.3194\">\n",
       "          <shape>\n",
       "            <appearance>\n",
       "              <material diffuseColor=\"1.0 1.0 1.0\"/>\n",
       "            </appearance>\n",
       "            <sphere radius=\"0.31\"/>\n",
       "          </shape>\n",
       "        </transform>\n",
       "        <transform translation=\"-0.0739 -2.4771 0.1741\">\n",
       "          <shape>\n",
       "            <appearance>\n",
       "              <material diffuseColor=\"1.0 1.0 1.0\"/>\n",
       "            </appearance>\n",
       "            <sphere radius=\"0.31\"/>\n",
       "          </shape>\n",
       "        </transform>\n",
       "        <transform translation=\"0.0459 1.5425 1.3195\">\n",
       "          <shape>\n",
       "            <appearance>\n",
       "              <material diffuseColor=\"1.0 1.0 1.0\"/>\n",
       "            </appearance>\n",
       "            <sphere radius=\"0.31\"/>\n",
       "          </shape>\n",
       "        </transform>\n",
       "        <transform translation=\"0.0738 2.4771 -0.1742\">\n",
       "          <shape>\n",
       "            <appearance>\n",
       "              <material diffuseColor=\"1.0 1.0 1.0\"/>\n",
       "            </appearance>\n",
       "            <sphere radius=\"0.31\"/>\n",
       "          </shape>\n",
       "        </transform>\n",
       "        <transform translation=\"1.3129 -0.8111 1.3194\">\n",
       "          <shape>\n",
       "            <appearance>\n",
       "              <material diffuseColor=\"1.0 1.0 1.0\"/>\n",
       "            </appearance>\n",
       "            <sphere radius=\"0.31\"/>\n",
       "          </shape>\n",
       "        </transform>\n",
       "        <transform translation=\"2.1083 -1.3026 -0.1742\">\n",
       "          <shape>\n",
       "            <appearance>\n",
       "              <material diffuseColor=\"1.0 1.0 1.0\"/>\n",
       "            </appearance>\n",
       "            <sphere radius=\"0.31\"/>\n",
       "          </shape>\n",
       "        </transform>\n",
       "        <transform translation=\"2.1821 1.1746 0.1742\">\n",
       "          <shape>\n",
       "            <appearance>\n",
       "              <material diffuseColor=\"1.0 1.0 1.0\"/>\n",
       "            </appearance>\n",
       "            <sphere radius=\"0.31\"/>\n",
       "          </shape>\n",
       "        </transform>\n",
       "        <transform translation=\"1.359 0.7315 -1.3194\">\n",
       "          <shape>\n",
       "            <appearance>\n",
       "              <material diffuseColor=\"1.0 1.0 1.0\"/>\n",
       "            </appearance>\n",
       "            <sphere radius=\"0.31\"/>\n",
       "          </shape>\n",
       "        </transform>\n",
       "      </group>\n",
       "    </group>\n",
       "  </transform>\n",
       "</scene>\n",
       "<!--End of Inserted Scene-->\n",
       "\n",
       "        </X3D>\n",
       "    </body>\n",
       "</html>\n",
       "\n"
      ],
      "text/plain": [
       "<IPython.core.display.HTML object>"
      ]
     },
     "execution_count": 12,
     "metadata": {},
     "output_type": "execute_result"
    }
   ],
   "source": [
    "from ase.data.pubchem import pubchem_atoms_search\n",
    "\n",
    "chair_atoms = pubchem_atoms_search(smiles=\"C1CCCCC1\")\n",
    "view_x3d(chair_atoms)"
   ]
  },
  {
   "cell_type": "markdown",
   "id": "b7c562bb-4ca3-4764-a3b5-d8838841ddc7",
   "metadata": {
    "id": "b7c562bb-4ca3-4764-a3b5-d8838841ddc7"
   },
   "source": [
    "舟形は今回は、いす形から座標値を手動で変更して生成してみましょう。<br/>\n",
    "\n",
    "※: コードの意味はわからなくてもスキップしていただいて構いません。(原子を180度回転させたものをつくり、原子2, 10, 11のみ回転させた座標のものに上書きしています。)"
   ]
  },
  {
   "cell_type": "code",
   "execution_count": 13,
   "id": "adad24da-bc58-411a-85cc-97c61d0b6623",
   "metadata": {
    "id": "adad24da-bc58-411a-85cc-97c61d0b6623",
    "tags": []
   },
   "outputs": [],
   "source": [
    "boat_atoms = chair_atoms.copy()\n",
    "axis = boat_atoms.positions[[1, 5]].mean(axis=0) - boat_atoms.positions[[0, 4]].mean(axis=0)\n",
    "boat_atoms.rotate(180, axis)\n",
    "# inds = [1, 3, 5, 8, 9, 12, 13, 16, 17]\n",
    "inds = [2, 10, 11]\n",
    "boat_atoms.positions[inds] = chair_atoms.positions[inds]"
   ]
  },
  {
   "cell_type": "code",
   "execution_count": 14,
   "id": "47d5b4eb-5147-4f6c-a2a1-70281d036e08",
   "metadata": {
    "colab": {
     "base_uri": "https://localhost:8080/",
     "height": 317
    },
    "id": "47d5b4eb-5147-4f6c-a2a1-70281d036e08",
    "outputId": "abf54846-0db3-42c4-f3aa-5ca436187bf1",
    "tags": []
   },
   "outputs": [
    {
     "data": {
      "text/html": [
       "<html>\n",
       "    <head>\n",
       "        <title>ASE atomic visualization</title>\n",
       "        <link rel=\"stylesheet\" type=\"text/css\"             href=\"https://www.x3dom.org/release/x3dom.css\"></link>\n",
       "        <script type=\"text/javascript\"             src=\"https://www.x3dom.org/release/x3dom.js\"></script>\n",
       "    </head>\n",
       "    <body>\n",
       "        <X3D width=\"400px\"; height=\"300px\";>\n",
       "\n",
       "<!--Inserting Generated X3D Scene-->\n",
       "<scene>\n",
       "  <viewpoint position=\"0 0 9.237972077147774\">\n",
       "    <group/>\n",
       "  </viewpoint>\n",
       "  <transform translation=\"-0.0 -0.0 -0.0\">\n",
       "    <group>\n",
       "      <group>\n",
       "        <transform translation=\"0 0 0\">\n",
       "          <shape>\n",
       "            <appearance>\n",
       "              <material diffuseColor=\"0 0 0\"/>\n",
       "            </appearance>\n",
       "            <lineset vertexCount=\"5\">\n",
       "              <coordinate point=\"0 0 0 0.0 0.0 0.0 0.0 0.0 0.0 0.0 0.0 0.0 0 0 0\"/>\n",
       "            </lineset>\n",
       "          </shape>\n",
       "        </transform>\n",
       "        <transform translation=\"0.0 0.0 0.0\">\n",
       "          <shape>\n",
       "            <appearance>\n",
       "              <material diffuseColor=\"0 0 0\"/>\n",
       "            </appearance>\n",
       "            <lineset vertexCount=\"5\">\n",
       "              <coordinate point=\"0 0 0 0.0 0.0 0.0 0.0 0.0 0.0 0.0 0.0 0.0 0 0 0\"/>\n",
       "            </lineset>\n",
       "          </shape>\n",
       "        </transform>\n",
       "        <transform translation=\"0 0 0\">\n",
       "          <shape>\n",
       "            <appearance>\n",
       "              <material diffuseColor=\"0 0 0\"/>\n",
       "            </appearance>\n",
       "            <lineset vertexCount=\"5\">\n",
       "              <coordinate point=\"0 0 0 0.0 0.0 0.0 0.0 0.0 0.0 0.0 0.0 0.0 0 0 0\"/>\n",
       "            </lineset>\n",
       "          </shape>\n",
       "        </transform>\n",
       "        <transform translation=\"0.0 0.0 0.0\">\n",
       "          <shape>\n",
       "            <appearance>\n",
       "              <material diffuseColor=\"0 0 0\"/>\n",
       "            </appearance>\n",
       "            <lineset vertexCount=\"5\">\n",
       "              <coordinate point=\"0 0 0 0.0 0.0 0.0 0.0 0.0 0.0 0.0 0.0 0.0 0 0 0\"/>\n",
       "            </lineset>\n",
       "          </shape>\n",
       "        </transform>\n",
       "      </group>\n",
       "      <group>\n",
       "        <transform translation=\"1.2404030150322725 -0.7661987602181893 0.22571863046491705\">\n",
       "          <shape>\n",
       "            <appearance>\n",
       "              <material diffuseColor=\"0.565 0.565 0.565\"/>\n",
       "            </appearance>\n",
       "            <sphere radius=\"0.76\"/>\n",
       "          </shape>\n",
       "        </transform>\n",
       "        <transform translation=\"1.283798426228887 0.6910471553768927 -0.22573362589064414\">\n",
       "          <shape>\n",
       "            <appearance>\n",
       "              <material diffuseColor=\"0.565 0.565 0.565\"/>\n",
       "            </appearance>\n",
       "            <sphere radius=\"0.76\"/>\n",
       "          </shape>\n",
       "        </transform>\n",
       "        <transform translation=\"-0.0435 -1.4573 -0.2258\">\n",
       "          <shape>\n",
       "            <appearance>\n",
       "              <material diffuseColor=\"0.565 0.565 0.565\"/>\n",
       "            </appearance>\n",
       "            <sphere radius=\"0.76\"/>\n",
       "          </shape>\n",
       "        </transform>\n",
       "        <transform translation=\"0.03190356450154221 1.0746266024907158 -1.0103271785868957\">\n",
       "          <shape>\n",
       "            <appearance>\n",
       "              <material diffuseColor=\"0.565 0.565 0.565\"/>\n",
       "            </appearance>\n",
       "            <sphere radius=\"0.76\"/>\n",
       "          </shape>\n",
       "        </transform>\n",
       "        <transform translation=\"-1.2838038562958152 -0.6911294880159269 0.2257901223588771\">\n",
       "          <shape>\n",
       "            <appearance>\n",
       "              <material diffuseColor=\"0.565 0.565 0.565\"/>\n",
       "            </appearance>\n",
       "            <sphere radius=\"0.76\"/>\n",
       "          </shape>\n",
       "        </transform>\n",
       "        <transform translation=\"-1.2403992674924296 0.7662245963889909 -0.22585762128556172\">\n",
       "          <shape>\n",
       "            <appearance>\n",
       "              <material diffuseColor=\"0.565 0.565 0.565\"/>\n",
       "            </appearance>\n",
       "            <sphere radius=\"0.76\"/>\n",
       "          </shape>\n",
       "        </transform>\n",
       "        <transform translation=\"2.1177189659147233 -0.9872083173381114 0.843944606940249\">\n",
       "          <shape>\n",
       "            <appearance>\n",
       "              <material diffuseColor=\"1.0 1.0 1.0\"/>\n",
       "            </appearance>\n",
       "            <sphere radius=\"0.31\"/>\n",
       "          </shape>\n",
       "        </transform>\n",
       "        <transform translation=\"1.2946861842292345 -1.4214355696483112 -0.6524356333804328\">\n",
       "          <shape>\n",
       "            <appearance>\n",
       "              <material diffuseColor=\"1.0 1.0 1.0\"/>\n",
       "            </appearance>\n",
       "            <sphere radius=\"0.31\"/>\n",
       "          </shape>\n",
       "        </transform>\n",
       "        <transform translation=\"1.3770156527453044 1.3418972522058104 0.6524165208031748\">\n",
       "          <shape>\n",
       "            <appearance>\n",
       "              <material diffuseColor=\"1.0 1.0 1.0\"/>\n",
       "            </appearance>\n",
       "            <sphere radius=\"0.31\"/>\n",
       "          </shape>\n",
       "        </transform>\n",
       "        <transform translation=\"2.1726879389483966 0.859540171186594 -0.8440164477453553\">\n",
       "          <shape>\n",
       "            <appearance>\n",
       "              <material diffuseColor=\"1.0 1.0 1.0\"/>\n",
       "            </appearance>\n",
       "            <sphere radius=\"0.31\"/>\n",
       "          </shape>\n",
       "        </transform>\n",
       "        <transform translation=\"-0.046 -1.5425 -1.3194\">\n",
       "          <shape>\n",
       "            <appearance>\n",
       "              <material diffuseColor=\"1.0 1.0 1.0\"/>\n",
       "            </appearance>\n",
       "            <sphere radius=\"0.31\"/>\n",
       "          </shape>\n",
       "        </transform>\n",
       "        <transform translation=\"-0.0739 -2.4771 0.1741\">\n",
       "          <shape>\n",
       "            <appearance>\n",
       "              <material diffuseColor=\"1.0 1.0 1.0\"/>\n",
       "            </appearance>\n",
       "            <sphere radius=\"0.31\"/>\n",
       "          </shape>\n",
       "        </transform>\n",
       "        <transform translation=\"0.015732063913993996 0.5270024594899296 -1.9607432824968622\">\n",
       "          <shape>\n",
       "            <appearance>\n",
       "              <material diffuseColor=\"1.0 1.0 1.0\"/>\n",
       "            </appearance>\n",
       "            <sphere radius=\"0.31\"/>\n",
       "          </shape>\n",
       "        </transform>\n",
       "        <transform translation=\"0.06375849452693837 2.1418860385738867 -1.257010557687531\">\n",
       "          <shape>\n",
       "            <appearance>\n",
       "              <material diffuseColor=\"1.0 1.0 1.0\"/>\n",
       "            </appearance>\n",
       "            <sphere radius=\"0.31\"/>\n",
       "          </shape>\n",
       "        </transform>\n",
       "        <transform translation=\"-1.377019400285147 -1.3419230883766113 -0.6522775299825302\">\n",
       "          <shape>\n",
       "            <appearance>\n",
       "              <material diffuseColor=\"1.0 1.0 1.0\"/>\n",
       "            </appearance>\n",
       "            <sphere radius=\"0.31\"/>\n",
       "          </shape>\n",
       "        </transform>\n",
       "        <transform translation=\"-2.172691686488239 -0.8595660073573952 0.8441554385659997\">\n",
       "          <shape>\n",
       "            <appearance>\n",
       "              <material diffuseColor=\"1.0 1.0 1.0\"/>\n",
       "            </appearance>\n",
       "            <sphere radius=\"0.31\"/>\n",
       "          </shape>\n",
       "        </transform>\n",
       "        <transform translation=\"-2.1177206484418085 0.9871518208698784 -0.8440271012926605\">\n",
       "          <shape>\n",
       "            <appearance>\n",
       "              <material diffuseColor=\"1.0 1.0 1.0\"/>\n",
       "            </appearance>\n",
       "            <sphere radius=\"0.31\"/>\n",
       "          </shape>\n",
       "        </transform>\n",
       "        <transform translation=\"-1.2948821132626374 1.4214722659529682 0.6522932775056177\">\n",
       "          <shape>\n",
       "            <appearance>\n",
       "              <material diffuseColor=\"1.0 1.0 1.0\"/>\n",
       "            </appearance>\n",
       "            <sphere radius=\"0.31\"/>\n",
       "          </shape>\n",
       "        </transform>\n",
       "      </group>\n",
       "    </group>\n",
       "  </transform>\n",
       "</scene>\n",
       "<!--End of Inserted Scene-->\n",
       "\n",
       "        </X3D>\n",
       "    </body>\n",
       "</html>\n",
       "\n"
      ],
      "text/plain": [
       "<IPython.core.display.HTML object>"
      ]
     },
     "execution_count": 14,
     "metadata": {},
     "output_type": "execute_result"
    }
   ],
   "source": [
    "view_x3d(boat_atoms)"
   ]
  },
  {
   "cell_type": "code",
   "execution_count": 15,
   "id": "6f55f03e-09f1-4996-8f05-80c487b28a56",
   "metadata": {
    "id": "6f55f03e-09f1-4996-8f05-80c487b28a56"
   },
   "outputs": [],
   "source": [
    "from ase.calculators.mopac import MOPAC"
   ]
  },
  {
   "cell_type": "code",
   "execution_count": 16,
   "id": "b2c0e2e4-c3d9-4e96-8640-91168a98e474",
   "metadata": {
    "colab": {
     "base_uri": "https://localhost:8080/"
    },
    "id": "b2c0e2e4-c3d9-4e96-8640-91168a98e474",
    "outputId": "516e8fc9-7d93-466c-9841-8dd6e18bf265",
    "tags": []
   },
   "outputs": [
    {
     "name": "stdout",
     "output_type": "stream",
     "text": [
      "       Step     Time          Energy          fmax\n",
      "LBFGS:    0 02:41:03       -1.150365        0.309415\n",
      "LBFGS:    1 02:41:03       -1.165427        0.228094\n",
      "LBFGS:    2 02:41:03       -1.178933        0.089017\n",
      "LBFGS:    3 02:41:04       -1.180112        0.083079\n",
      "LBFGS:    4 02:41:04       -1.181583        0.064370\n",
      "LBFGS:    5 02:41:04       -1.182878        0.073467\n",
      "LBFGS:    6 02:41:04       -1.183974        0.060463\n",
      "LBFGS:    7 02:41:04       -1.184364        0.031105\n"
     ]
    },
    {
     "data": {
      "text/plain": [
       "True"
      ]
     },
     "execution_count": 16,
     "metadata": {},
     "output_type": "execute_result"
    }
   ],
   "source": [
    "## label should be changed for each calculation??\n",
    "calculator = MOPAC(label='ch-chair',  # 出力ファイルのベース名\n",
    "                   method='PM7',  # 使用するMOPACのキーワード\n",
    "                   task='1SCF GRADIENTS')  # 実行するタスク\n",
    "\n",
    "chair_atoms.calc = calculator\n",
    "opt = LBFGS(chair_atoms, trajectory=\"output/lbfgs_cyclohexane_chair.traj\")\n",
    "opt.run()"
   ]
  },
  {
   "cell_type": "code",
   "execution_count": 17,
   "id": "2c11d629-e02e-416c-aefb-68965b6b2fdd",
   "metadata": {
    "colab": {
     "base_uri": "https://localhost:8080/"
    },
    "id": "2c11d629-e02e-416c-aefb-68965b6b2fdd",
    "outputId": "4a49d039-12ed-4244-c535-cb1d104cd858",
    "tags": []
   },
   "outputs": [
    {
     "name": "stdout",
     "output_type": "stream",
     "text": [
      "       Step     Time          Energy          fmax\n",
      "LBFGS:    0 02:41:04        5.137694        6.378012\n",
      "LBFGS:    1 02:41:04        3.513215        4.774263\n",
      "LBFGS:    2 02:41:04        1.525382        2.677209\n",
      "LBFGS:    3 02:41:05        0.695720        4.069893\n",
      "LBFGS:    4 02:41:05        0.193902        3.330441\n",
      "LBFGS:    5 02:41:05       -0.135080        2.197739\n",
      "LBFGS:    6 02:41:05       -0.267527        2.068294\n",
      "LBFGS:    7 02:41:05       -0.635942        0.807765\n",
      "LBFGS:    8 02:41:05       -0.709424        0.575753\n",
      "LBFGS:    9 02:41:05       -0.763875        0.495242\n",
      "LBFGS:   10 02:41:05       -0.802269        0.504294\n",
      "LBFGS:   11 02:41:05       -0.851803        0.426728\n",
      "LBFGS:   12 02:41:06       -0.876820        0.351092\n",
      "LBFGS:   13 02:41:06       -0.893220        0.331347\n",
      "LBFGS:   14 02:41:06       -0.904347        0.270903\n",
      "LBFGS:   15 02:41:06       -0.913095        0.241499\n",
      "LBFGS:   16 02:41:06       -0.918015        0.169009\n",
      "LBFGS:   17 02:41:06       -0.921146        0.211671\n",
      "LBFGS:   18 02:41:06       -0.924191        0.194982\n",
      "LBFGS:   19 02:41:07       -0.927526        0.153205\n",
      "LBFGS:   20 02:41:07       -0.930453        0.134204\n",
      "LBFGS:   21 02:41:07       -0.932749        0.149664\n",
      "LBFGS:   22 02:41:07       -0.934755        0.120452\n",
      "LBFGS:   23 02:41:07       -0.936844        0.113669\n",
      "LBFGS:   24 02:41:07       -0.938968        0.137406\n",
      "LBFGS:   25 02:41:07       -0.940935        0.132853\n",
      "LBFGS:   26 02:41:07       -0.943013        0.114849\n",
      "LBFGS:   27 02:41:07       -0.945691        0.131899\n",
      "LBFGS:   28 02:41:08       -0.948954        0.156690\n",
      "LBFGS:   29 02:41:08       -0.952342        0.152609\n",
      "LBFGS:   30 02:41:08       -0.955774        0.174948\n",
      "LBFGS:   31 02:41:08       -0.959974        0.179612\n",
      "LBFGS:   32 02:41:08       -0.966983        0.209980\n",
      "LBFGS:   33 02:41:08       -0.977674        0.313382\n",
      "LBFGS:   34 02:41:08       -0.988195        0.282868\n",
      "LBFGS:   35 02:41:08       -0.995851        0.171828\n",
      "LBFGS:   36 02:41:09       -1.000301        0.163706\n",
      "LBFGS:   37 02:41:09       -1.002711        0.132992\n",
      "LBFGS:   38 02:41:09       -1.004804        0.169232\n",
      "LBFGS:   39 02:41:09       -1.006894        0.115690\n",
      "LBFGS:   40 02:41:09       -1.008257        0.062742\n",
      "LBFGS:   41 02:41:09       -1.008742        0.074765\n",
      "LBFGS:   42 02:41:09       -1.009313        0.076173\n",
      "LBFGS:   43 02:41:09       -1.010000        0.057274\n",
      "LBFGS:   44 02:41:09       -1.010420        0.055052\n",
      "LBFGS:   45 02:41:10       -1.010872        0.058429\n",
      "LBFGS:   46 02:41:10       -1.011303        0.078624\n",
      "LBFGS:   47 02:41:10       -1.011916        0.087028\n",
      "LBFGS:   48 02:41:10       -1.012779        0.085303\n",
      "LBFGS:   49 02:41:10       -1.013842        0.107550\n",
      "LBFGS:   50 02:41:11       -1.014763        0.086095\n",
      "LBFGS:   51 02:41:11       -1.015411        0.061577\n",
      "LBFGS:   52 02:41:11       -1.015944        0.058617\n",
      "LBFGS:   53 02:41:11       -1.016497        0.050366\n",
      "LBFGS:   54 02:41:11       -1.016989        0.063272\n",
      "LBFGS:   55 02:41:11       -1.017295        0.044741\n"
     ]
    },
    {
     "data": {
      "text/plain": [
       "True"
      ]
     },
     "execution_count": 17,
     "metadata": {},
     "output_type": "execute_result"
    }
   ],
   "source": [
    "## label should be changed for each calculation??\n",
    "calculator = MOPAC(label='ch-boat',  # 出力ファイルのベース名\n",
    "                   method='PM7',  # 使用するMOPACのキーワード\n",
    "                   task='1SCF GRADIENTS')  # 実行するタスク\n",
    "\n",
    "boat_atoms.calc = calculator\n",
    "opt = LBFGS(boat_atoms, trajectory=\"output/lbfgs_cyclohexane_boat.traj\")\n",
    "opt.run()"
   ]
  },
  {
   "cell_type": "markdown",
   "id": "98d1ad62-7844-40c1-8b15-122811711759",
   "metadata": {
    "id": "98d1ad62-7844-40c1-8b15-122811711759"
   },
   "source": [
    "構造最適化後の構造を可視化して確認してみましょう。"
   ]
  },
  {
   "cell_type": "code",
   "execution_count": 18,
   "id": "ecb059eb-474b-47b8-943d-e68016a95173",
   "metadata": {
    "colab": {
     "base_uri": "https://localhost:8080/",
     "height": 317
    },
    "id": "ecb059eb-474b-47b8-943d-e68016a95173",
    "outputId": "1b7c864f-ecad-4c9d-946d-01e7dcde5e60",
    "tags": []
   },
   "outputs": [
    {
     "data": {
      "text/html": [
       "<html>\n",
       "    <head>\n",
       "        <title>ASE atomic visualization</title>\n",
       "        <link rel=\"stylesheet\" type=\"text/css\"             href=\"https://www.x3dom.org/release/x3dom.css\"></link>\n",
       "        <script type=\"text/javascript\"             src=\"https://www.x3dom.org/release/x3dom.js\"></script>\n",
       "    </head>\n",
       "    <body>\n",
       "        <X3D width=\"400px\"; height=\"300px\";>\n",
       "\n",
       "<!--Inserting Generated X3D Scene-->\n",
       "<scene>\n",
       "  <viewpoint position=\"0 0 9.986663678799975\">\n",
       "    <group/>\n",
       "  </viewpoint>\n",
       "  <transform translation=\"-0.0 -0.0 -0.0\">\n",
       "    <group>\n",
       "      <group>\n",
       "        <transform translation=\"0 0 0\">\n",
       "          <shape>\n",
       "            <appearance>\n",
       "              <material diffuseColor=\"0 0 0\"/>\n",
       "            </appearance>\n",
       "            <lineset vertexCount=\"5\">\n",
       "              <coordinate point=\"0 0 0 0.0 0.0 0.0 0.0 0.0 0.0 0.0 0.0 0.0 0 0 0\"/>\n",
       "            </lineset>\n",
       "          </shape>\n",
       "        </transform>\n",
       "        <transform translation=\"0.0 0.0 0.0\">\n",
       "          <shape>\n",
       "            <appearance>\n",
       "              <material diffuseColor=\"0 0 0\"/>\n",
       "            </appearance>\n",
       "            <lineset vertexCount=\"5\">\n",
       "              <coordinate point=\"0 0 0 0.0 0.0 0.0 0.0 0.0 0.0 0.0 0.0 0.0 0 0 0\"/>\n",
       "            </lineset>\n",
       "          </shape>\n",
       "        </transform>\n",
       "        <transform translation=\"0 0 0\">\n",
       "          <shape>\n",
       "            <appearance>\n",
       "              <material diffuseColor=\"0 0 0\"/>\n",
       "            </appearance>\n",
       "            <lineset vertexCount=\"5\">\n",
       "              <coordinate point=\"0 0 0 0.0 0.0 0.0 0.0 0.0 0.0 0.0 0.0 0.0 0 0 0\"/>\n",
       "            </lineset>\n",
       "          </shape>\n",
       "        </transform>\n",
       "        <transform translation=\"0.0 0.0 0.0\">\n",
       "          <shape>\n",
       "            <appearance>\n",
       "              <material diffuseColor=\"0 0 0\"/>\n",
       "            </appearance>\n",
       "            <lineset vertexCount=\"5\">\n",
       "              <coordinate point=\"0 0 0 0.0 0.0 0.0 0.0 0.0 0.0 0.0 0.0 0.0 0 0 0\"/>\n",
       "            </lineset>\n",
       "          </shape>\n",
       "        </transform>\n",
       "      </group>\n",
       "      <group>\n",
       "        <transform translation=\"-1.2880396839342596 -0.6933158667921631 0.2324816387140303\">\n",
       "          <shape>\n",
       "            <appearance>\n",
       "              <material diffuseColor=\"0.565 0.565 0.565\"/>\n",
       "            </appearance>\n",
       "            <sphere radius=\"0.76\"/>\n",
       "          </shape>\n",
       "        </transform>\n",
       "        <transform translation=\"-1.2444571070159844 0.7688040623271731 -0.23244221821154007\">\n",
       "          <shape>\n",
       "            <appearance>\n",
       "              <material diffuseColor=\"0.565 0.565 0.565\"/>\n",
       "            </appearance>\n",
       "            <sphere radius=\"0.76\"/>\n",
       "          </shape>\n",
       "        </transform>\n",
       "        <transform translation=\"-0.0436436239279234 -1.4621869131131895 -0.2324065556037237\">\n",
       "          <shape>\n",
       "            <appearance>\n",
       "              <material diffuseColor=\"0.565 0.565 0.565\"/>\n",
       "            </appearance>\n",
       "            <sphere radius=\"0.76\"/>\n",
       "          </shape>\n",
       "        </transform>\n",
       "        <transform translation=\"0.04362081038282017 1.4621966340905632 0.23242842604703323\">\n",
       "          <shape>\n",
       "            <appearance>\n",
       "              <material diffuseColor=\"0.565 0.565 0.565\"/>\n",
       "            </appearance>\n",
       "            <sphere radius=\"0.76\"/>\n",
       "          </shape>\n",
       "        </transform>\n",
       "        <transform translation=\"1.2444605462366152 -0.7688323276491779 0.23246505388240835\">\n",
       "          <shape>\n",
       "            <appearance>\n",
       "              <material diffuseColor=\"0.565 0.565 0.565\"/>\n",
       "            </appearance>\n",
       "            <sphere radius=\"0.76\"/>\n",
       "          </shape>\n",
       "        </transform>\n",
       "        <transform translation=\"1.2880678837275175 0.6933249018345178 -0.23238689403223392\">\n",
       "          <shape>\n",
       "            <appearance>\n",
       "              <material diffuseColor=\"0.565 0.565 0.565\"/>\n",
       "            </appearance>\n",
       "            <sphere radius=\"0.76\"/>\n",
       "          </shape>\n",
       "        </transform>\n",
       "        <transform translation=\"-2.199354525700139 -1.1838027065658259 -0.1569188616570489\">\n",
       "          <shape>\n",
       "            <appearance>\n",
       "              <material diffuseColor=\"1.0 1.0 1.0\"/>\n",
       "            </appearance>\n",
       "            <sphere radius=\"0.31\"/>\n",
       "          </shape>\n",
       "        </transform>\n",
       "        <transform translation=\"-1.3667072774823854 -0.7356387688427669 1.334259315842428\">\n",
       "          <shape>\n",
       "            <appearance>\n",
       "              <material diffuseColor=\"1.0 1.0 1.0\"/>\n",
       "            </appearance>\n",
       "            <sphere radius=\"0.31\"/>\n",
       "          </shape>\n",
       "        </transform>\n",
       "        <transform translation=\"-1.3203966432678302 0.815731148153401 -1.3342298759085582\">\n",
       "          <shape>\n",
       "            <appearance>\n",
       "              <material diffuseColor=\"1.0 1.0 1.0\"/>\n",
       "            </appearance>\n",
       "            <sphere radius=\"0.31\"/>\n",
       "          </shape>\n",
       "        </transform>\n",
       "        <transform translation=\"-2.125015817731789 1.3126907789109517 0.15694117316117773\">\n",
       "          <shape>\n",
       "            <appearance>\n",
       "              <material diffuseColor=\"1.0 1.0 1.0\"/>\n",
       "            </appearance>\n",
       "            <sphere radius=\"0.31\"/>\n",
       "          </shape>\n",
       "        </transform>\n",
       "        <transform translation=\"-0.04628774794292003 -1.5514032182851962 -1.3341944125186305\">\n",
       "          <shape>\n",
       "            <appearance>\n",
       "              <material diffuseColor=\"1.0 1.0 1.0\"/>\n",
       "            </appearance>\n",
       "            <sphere radius=\"0.31\"/>\n",
       "          </shape>\n",
       "        </transform>\n",
       "        <transform translation=\"-0.07445089223718283 -2.496709577925016 0.15696339899048883\">\n",
       "          <shape>\n",
       "            <appearance>\n",
       "              <material diffuseColor=\"1.0 1.0 1.0\"/>\n",
       "            </appearance>\n",
       "            <sphere radius=\"0.31\"/>\n",
       "          </shape>\n",
       "        </transform>\n",
       "        <transform translation=\"0.046243596913220754 1.5515429216542642 1.3342055269182702\">\n",
       "          <shape>\n",
       "            <appearance>\n",
       "              <material diffuseColor=\"1.0 1.0 1.0\"/>\n",
       "            </appearance>\n",
       "            <sphere radius=\"0.31\"/>\n",
       "          </shape>\n",
       "        </transform>\n",
       "        <transform translation=\"0.07445641147892558 2.4966222614749713 -0.15715896448843827\">\n",
       "          <shape>\n",
       "            <appearance>\n",
       "              <material diffuseColor=\"1.0 1.0 1.0\"/>\n",
       "            </appearance>\n",
       "            <sphere radius=\"0.31\"/>\n",
       "          </shape>\n",
       "        </transform>\n",
       "        <transform translation=\"1.3205583854608167 -0.8158386422107777 1.3342323848991842\">\n",
       "          <shape>\n",
       "            <appearance>\n",
       "              <material diffuseColor=\"1.0 1.0 1.0\"/>\n",
       "            </appearance>\n",
       "            <sphere radius=\"0.31\"/>\n",
       "          </shape>\n",
       "        </transform>\n",
       "        <transform translation=\"2.124812025360032 -1.312840055265559 -0.15713143230781984\">\n",
       "          <shape>\n",
       "            <appearance>\n",
       "              <material diffuseColor=\"1.0 1.0 1.0\"/>\n",
       "            </appearance>\n",
       "            <sphere radius=\"0.31\"/>\n",
       "          </shape>\n",
       "        </transform>\n",
       "        <transform translation=\"2.1993638533009365 1.1838724113369372 0.1571724559776706\">\n",
       "          <shape>\n",
       "            <appearance>\n",
       "              <material diffuseColor=\"1.0 1.0 1.0\"/>\n",
       "            </appearance>\n",
       "            <sphere radius=\"0.31\"/>\n",
       "          </shape>\n",
       "        </transform>\n",
       "        <transform translation=\"1.3667698325510074 0.735682981861106 -1.334180126120767\">\n",
       "          <shape>\n",
       "            <appearance>\n",
       "              <material diffuseColor=\"1.0 1.0 1.0\"/>\n",
       "            </appearance>\n",
       "            <sphere radius=\"0.31\"/>\n",
       "          </shape>\n",
       "        </transform>\n",
       "      </group>\n",
       "    </group>\n",
       "  </transform>\n",
       "</scene>\n",
       "<!--End of Inserted Scene-->\n",
       "\n",
       "        </X3D>\n",
       "    </body>\n",
       "</html>\n",
       "\n"
      ],
      "text/plain": [
       "<IPython.core.display.HTML object>"
      ]
     },
     "execution_count": 18,
     "metadata": {},
     "output_type": "execute_result"
    }
   ],
   "source": [
    "view_x3d(chair_atoms)"
   ]
  },
  {
   "cell_type": "code",
   "execution_count": 19,
   "id": "e08b0fc8-744f-4b35-887e-aefae5a6f63b",
   "metadata": {
    "colab": {
     "base_uri": "https://localhost:8080/",
     "height": 317
    },
    "id": "e08b0fc8-744f-4b35-887e-aefae5a6f63b",
    "outputId": "328e78fe-d712-41a1-ea5e-95992263fcc4",
    "tags": []
   },
   "outputs": [
    {
     "data": {
      "text/html": [
       "<html>\n",
       "    <head>\n",
       "        <title>ASE atomic visualization</title>\n",
       "        <link rel=\"stylesheet\" type=\"text/css\"             href=\"https://www.x3dom.org/release/x3dom.css\"></link>\n",
       "        <script type=\"text/javascript\"             src=\"https://www.x3dom.org/release/x3dom.js\"></script>\n",
       "    </head>\n",
       "    <body>\n",
       "        <X3D width=\"400px\"; height=\"300px\";>\n",
       "\n",
       "<!--Inserting Generated X3D Scene-->\n",
       "<scene>\n",
       "  <viewpoint position=\"0 0 9.495842012451167\">\n",
       "    <group/>\n",
       "  </viewpoint>\n",
       "  <transform translation=\"-0.0 -0.0 -0.0\">\n",
       "    <group>\n",
       "      <group>\n",
       "        <transform translation=\"0 0 0\">\n",
       "          <shape>\n",
       "            <appearance>\n",
       "              <material diffuseColor=\"0 0 0\"/>\n",
       "            </appearance>\n",
       "            <lineset vertexCount=\"5\">\n",
       "              <coordinate point=\"0 0 0 0.0 0.0 0.0 0.0 0.0 0.0 0.0 0.0 0.0 0 0 0\"/>\n",
       "            </lineset>\n",
       "          </shape>\n",
       "        </transform>\n",
       "        <transform translation=\"0.0 0.0 0.0\">\n",
       "          <shape>\n",
       "            <appearance>\n",
       "              <material diffuseColor=\"0 0 0\"/>\n",
       "            </appearance>\n",
       "            <lineset vertexCount=\"5\">\n",
       "              <coordinate point=\"0 0 0 0.0 0.0 0.0 0.0 0.0 0.0 0.0 0.0 0.0 0 0 0\"/>\n",
       "            </lineset>\n",
       "          </shape>\n",
       "        </transform>\n",
       "        <transform translation=\"0 0 0\">\n",
       "          <shape>\n",
       "            <appearance>\n",
       "              <material diffuseColor=\"0 0 0\"/>\n",
       "            </appearance>\n",
       "            <lineset vertexCount=\"5\">\n",
       "              <coordinate point=\"0 0 0 0.0 0.0 0.0 0.0 0.0 0.0 0.0 0.0 0.0 0 0 0\"/>\n",
       "            </lineset>\n",
       "          </shape>\n",
       "        </transform>\n",
       "        <transform translation=\"0.0 0.0 0.0\">\n",
       "          <shape>\n",
       "            <appearance>\n",
       "              <material diffuseColor=\"0 0 0\"/>\n",
       "            </appearance>\n",
       "            <lineset vertexCount=\"5\">\n",
       "              <coordinate point=\"0 0 0 0.0 0.0 0.0 0.0 0.0 0.0 0.0 0.0 0.0 0 0 0\"/>\n",
       "            </lineset>\n",
       "          </shape>\n",
       "        </transform>\n",
       "      </group>\n",
       "      <group>\n",
       "        <transform translation=\"1.2396089780628035 -0.8274311082821739 0.08719781986895885\">\n",
       "          <shape>\n",
       "            <appearance>\n",
       "              <material diffuseColor=\"0.565 0.565 0.565\"/>\n",
       "            </appearance>\n",
       "            <sphere radius=\"0.76\"/>\n",
       "          </shape>\n",
       "        </transform>\n",
       "        <transform translation=\"1.2831568781467657 0.663915658306993 -0.2960945861262709\">\n",
       "          <shape>\n",
       "            <appearance>\n",
       "              <material diffuseColor=\"0.565 0.565 0.565\"/>\n",
       "            </appearance>\n",
       "            <sphere radius=\"0.76\"/>\n",
       "          </shape>\n",
       "        </transform>\n",
       "        <transform translation=\"-0.04475527204657936 -1.5116871685867999 -0.3961143010691622\">\n",
       "          <shape>\n",
       "            <appearance>\n",
       "              <material diffuseColor=\"0.565 0.565 0.565\"/>\n",
       "            </appearance>\n",
       "            <sphere radius=\"0.76\"/>\n",
       "          </shape>\n",
       "        </transform>\n",
       "        <transform translation=\"0.03253117727205416 1.1031658582065795 -1.0683108990066699\">\n",
       "          <shape>\n",
       "            <appearance>\n",
       "              <material diffuseColor=\"0.565 0.565 0.565\"/>\n",
       "            </appearance>\n",
       "            <sphere radius=\"0.76\"/>\n",
       "          </shape>\n",
       "        </transform>\n",
       "        <transform translation=\"-1.2863116239702799 -0.7526755968655091 0.08756455919866511\">\n",
       "          <shape>\n",
       "            <appearance>\n",
       "              <material diffuseColor=\"0.565 0.565 0.565\"/>\n",
       "            </appearance>\n",
       "            <sphere radius=\"0.76\"/>\n",
       "          </shape>\n",
       "        </transform>\n",
       "        <transform translation=\"-1.2418836558271658 0.7385413787947405 -0.2961350453881608\">\n",
       "          <shape>\n",
       "            <appearance>\n",
       "              <material diffuseColor=\"0.565 0.565 0.565\"/>\n",
       "            </appearance>\n",
       "            <sphere radius=\"0.76\"/>\n",
       "          </shape>\n",
       "        </transform>\n",
       "        <transform translation=\"1.320549405478824 -0.9311240376311825 1.1853437812729903\">\n",
       "          <shape>\n",
       "            <appearance>\n",
       "              <material diffuseColor=\"1.0 1.0 1.0\"/>\n",
       "            </appearance>\n",
       "            <sphere radius=\"0.31\"/>\n",
       "          </shape>\n",
       "        </transform>\n",
       "        <transform translation=\"2.117187780207893 -1.3506796362264586 -0.3333070714465002\">\n",
       "          <shape>\n",
       "            <appearance>\n",
       "              <material diffuseColor=\"1.0 1.0 1.0\"/>\n",
       "            </appearance>\n",
       "            <sphere radius=\"0.31\"/>\n",
       "          </shape>\n",
       "        </transform>\n",
       "        <transform translation=\"1.384038061538464 1.280527410708702 0.6164636718300337\">\n",
       "          <shape>\n",
       "            <appearance>\n",
       "              <material diffuseColor=\"1.0 1.0 1.0\"/>\n",
       "            </appearance>\n",
       "            <sphere radius=\"0.31\"/>\n",
       "          </shape>\n",
       "        </transform>\n",
       "        <transform translation=\"2.1839610123958253 0.872816212620119 -0.9008915785518472\">\n",
       "          <shape>\n",
       "            <appearance>\n",
       "              <material diffuseColor=\"1.0 1.0 1.0\"/>\n",
       "            </appearance>\n",
       "            <sphere radius=\"0.31\"/>\n",
       "          </shape>\n",
       "        </transform>\n",
       "        <transform translation=\"-0.04682049604730427 -1.575629042990322 -1.5000047086702581\">\n",
       "          <shape>\n",
       "            <appearance>\n",
       "              <material diffuseColor=\"1.0 1.0 1.0\"/>\n",
       "            </appearance>\n",
       "            <sphere radius=\"0.31\"/>\n",
       "          </shape>\n",
       "        </transform>\n",
       "        <transform translation=\"-0.07556344641971463 -2.554189178601842 -0.03455568145202129\">\n",
       "          <shape>\n",
       "            <appearance>\n",
       "              <material diffuseColor=\"1.0 1.0 1.0\"/>\n",
       "            </appearance>\n",
       "            <sphere radius=\"0.31\"/>\n",
       "          </shape>\n",
       "        </transform>\n",
       "        <transform translation=\"0.01860945982357815 0.6312856545507775 -2.068903911805584\">\n",
       "          <shape>\n",
       "            <appearance>\n",
       "              <material diffuseColor=\"1.0 1.0 1.0\"/>\n",
       "            </appearance>\n",
       "            <sphere radius=\"0.31\"/>\n",
       "          </shape>\n",
       "        </transform>\n",
       "        <transform translation=\"0.06477128324013652 2.193731827623742 -1.250268932201039\">\n",
       "          <shape>\n",
       "            <appearance>\n",
       "              <material diffuseColor=\"1.0 1.0 1.0\"/>\n",
       "            </appearance>\n",
       "            <sphere radius=\"0.31\"/>\n",
       "          </shape>\n",
       "        </transform>\n",
       "        <transform translation=\"-2.193513280005298 -1.22320640017562 -0.3322896670554021\">\n",
       "          <shape>\n",
       "            <appearance>\n",
       "              <material diffuseColor=\"1.0 1.0 1.0\"/>\n",
       "            </appearance>\n",
       "            <sphere radius=\"0.31\"/>\n",
       "          </shape>\n",
       "        </transform>\n",
       "        <transform translation=\"-1.372663148454804 -0.8511199669091388 1.1857725664382932\">\n",
       "          <shape>\n",
       "            <appearance>\n",
       "              <material diffuseColor=\"1.0 1.0 1.0\"/>\n",
       "            </appearance>\n",
       "            <sphere radius=\"0.31\"/>\n",
       "          </shape>\n",
       "        </transform>\n",
       "        <transform translation=\"-2.128830705123828 0.9999840546178472 -0.9009366812795224\">\n",
       "          <shape>\n",
       "            <appearance>\n",
       "              <material diffuseColor=\"1.0 1.0 1.0\"/>\n",
       "            </appearance>\n",
       "            <sphere radius=\"0.31\"/>\n",
       "          </shape>\n",
       "        </transform>\n",
       "        <transform translation=\"-1.3062835875641678 1.360262322499902 0.6162620955866961\">\n",
       "          <shape>\n",
       "            <appearance>\n",
       "              <material diffuseColor=\"1.0 1.0 1.0\"/>\n",
       "            </appearance>\n",
       "            <sphere radius=\"0.31\"/>\n",
       "          </shape>\n",
       "        </transform>\n",
       "      </group>\n",
       "    </group>\n",
       "  </transform>\n",
       "</scene>\n",
       "<!--End of Inserted Scene-->\n",
       "\n",
       "        </X3D>\n",
       "    </body>\n",
       "</html>\n",
       "\n"
      ],
      "text/plain": [
       "<IPython.core.display.HTML object>"
      ]
     },
     "execution_count": 19,
     "metadata": {},
     "output_type": "execute_result"
    }
   ],
   "source": [
    "view_x3d(boat_atoms)"
   ]
  },
  {
   "cell_type": "markdown",
   "id": "1bb3030b-ff19-46d6-a8d4-682702540469",
   "metadata": {
    "id": "1bb3030b-ff19-46d6-a8d4-682702540469"
   },
   "source": [
    "また、それぞれのエネルギー差を比較してみます。\n",
    "\n",
    "エネルギーの単位はeVですが、単位の変換する場合、`units` module を用いることができます。\n",
    "\n",
    " - https://wiki.fysik.dtu.dk/ase/ase/units.html\n"
   ]
  },
  {
   "cell_type": "code",
   "execution_count": 20,
   "id": "25aafa11-bef1-4795-8257-49b8ee0ec02f",
   "metadata": {
    "colab": {
     "base_uri": "https://localhost:8080/"
    },
    "id": "25aafa11-bef1-4795-8257-49b8ee0ec02f",
    "outputId": "7f390b5d-182b-42b9-f700-ce05a0a50cc4",
    "tags": []
   },
   "outputs": [
    {
     "name": "stdout",
     "output_type": "stream",
     "text": [
      "E_chair -1.18 eV\n",
      "E_boat  -1.02 eV\n",
      "E_diff  0.17 eV = 16.12 kJ/mol\n"
     ]
    }
   ],
   "source": [
    "from ase.units import Bohr,Rydberg,kJ,kB,fs,Hartree,mol,kcal\n",
    "\n",
    "E_chair = chair_atoms.get_potential_energy()\n",
    "E_boat = boat_atoms.get_potential_energy()\n",
    "\n",
    "E_diff = E_boat - E_chair\n",
    "\n",
    "print(f\"E_chair {E_chair:.2f} eV\")\n",
    "print(f\"E_boat  {E_boat:.2f} eV\")\n",
    "print(f\"E_diff  {E_diff:.2f} eV = {E_diff / (kJ/mol):.2f} kJ/mol\")"
   ]
  },
  {
   "cell_type": "markdown",
   "id": "07cea9b6-a74e-4d15-91a8-e01a6f61fe78",
   "metadata": {
    "id": "07cea9b6-a74e-4d15-91a8-e01a6f61fe78"
   },
   "source": [
    "いす形の方が舟形よりもエネルギーが低く、安定であることがわかりました。<br/>\n",
    "また、そのエネルギー差も上図で示されていた25kJ/mol に比較的近い値を得ることができました。\n",
    "\n",
    "\n",
    "このように構造最適化では、局所安定点を求めるため、初期構造が重要となってきます。<br/>\n",
    "(おなじシクロヘキサンでも初期構造の用意の仕方によって構造最適化後の結果が異なります。)"
   ]
  },
  {
   "cell_type": "markdown",
   "id": "38129764-c88f-411d-8b69-79652129757d",
   "metadata": {
    "id": "38129764-c88f-411d-8b69-79652129757d"
   },
   "source": [
    "### 2. Cu結晶の格子定数最適化\n",
    "\n",
    "次は、この格子定数を構造最適化アルゴリズムを用いることにより、効率よく求めてみましょう。\n",
    "\n",
    "周期構造のある系の最適化を行う際には、原子座標のみを最適化するのか、**Cell sizeも含めて**最適化するのかによりその方法が異なります。<br/>\n",
    "Cell も最適化の対象としたい場合、ASE のatomsに対して、以下に示すような Filter クラスを適用する必要があります。\n",
    "\n",
    "\n",
    "**Table: 最適化対象と、使用するFilter**\n",
    "\n",
    "|  Position  | Cell | Filter |\n",
    "| ---- | ---- | ---- |\n",
    "|  ✓  |    | 不要 (Default挙動) |\n",
    "|    |  ✓  | `StrainFilter` |\n",
    "|  ✓  |  ✓  | `ExpCellFilter` or `UnitCellFilter` |\n",
    "\n",
    "1. 座標は固定して、CellのみをOpt --> `StrainFilter`\n",
    "2. Cell固定して+座標のみをOpt --> Filter未使用\n",
    "3. Cell+座標両方をOpt --> `ExpCellFilter`\n"
   ]
  },
  {
   "cell_type": "markdown",
   "id": "a2fdac71-5357-4fc1-acf2-7f3bcfcd2964",
   "metadata": {
    "id": "a2fdac71-5357-4fc1-acf2-7f3bcfcd2964"
   },
   "source": [
    "まずはじめに`StrainFilter`を使う例を紹介します。\n",
    "\n",
    "ここではCu原子のBCC構造・FCC構造の格子定数を最適化してみます。<br/>\n",
    "BCC構造・FCC構造はprimitive cellに原子が１つしか含まれないため、原子座標を最適化する必要はなく、格子定数のみの最適化を行えば十分なため、`StrainFilter`を用いています。"
   ]
  },
  {
   "cell_type": "code",
   "execution_count": 21,
   "id": "5092254f-f680-441f-8a55-356a51c71951",
   "metadata": {
    "colab": {
     "base_uri": "https://localhost:8080/"
    },
    "id": "5092254f-f680-441f-8a55-356a51c71951",
    "outputId": "8aab5e62-5f5c-4f2e-8bae-c8d9b1d1b808",
    "tags": []
   },
   "outputs": [
    {
     "name": "stdout",
     "output_type": "stream",
     "text": [
      "Before opt: Cell([[-1.5, 1.5, 1.5], [1.5, -1.5, 1.5], [1.5, 1.5, -1.5]])\n",
      "       Step     Time          Energy          fmax\n",
      "LBFGS:    0 02:41:12        0.119060        2.058740\n",
      "LBFGS:    1 02:41:12        0.067118        1.429361\n",
      "LBFGS:    2 02:41:12        0.028270        0.394816\n",
      "LBFGS:    3 02:41:12        0.025685        0.051170\n",
      "LBFGS:    4 02:41:12        0.025639        0.001519\n"
     ]
    },
    {
     "data": {
      "text/plain": [
       "True"
      ]
     },
     "execution_count": 21,
     "metadata": {},
     "output_type": "execute_result"
    }
   ],
   "source": [
    "from ase.filters import StrainFilter\n",
    "from ase.build import bulk\n",
    "from ase.calculators.emt import EMT\n",
    "\n",
    "cu_bcc_atoms = bulk(\"Cu\", \"bcc\", a=3.0)\n",
    "print(\"Before opt:\", cu_bcc_atoms.cell)\n",
    "cu_bcc_atoms.calc = EMT()\n",
    "\n",
    "cu_bcc_atoms = StrainFilter(cu_bcc_atoms)\n",
    "opt = LBFGS(cu_bcc_atoms, trajectory=\"output/lbfgs_cu_bcc.traj\")\n",
    "opt.run()"
   ]
  },
  {
   "cell_type": "code",
   "execution_count": 22,
   "id": "a41ac849-8c77-4a7b-b08b-b0247e348dfc",
   "metadata": {
    "colab": {
     "base_uri": "https://localhost:8080/"
    },
    "id": "a41ac849-8c77-4a7b-b08b-b0247e348dfc",
    "outputId": "36db6d3c-baa7-4de5-b4c5-0cc2171e2127",
    "tags": []
   },
   "outputs": [
    {
     "name": "stdout",
     "output_type": "stream",
     "text": [
      "Before opt: Cell([[0.0, 1.5, 1.5], [1.5, 0.0, 1.5], [1.5, 1.5, 0.0]])\n",
      "       Step     Time          Energy          fmax\n",
      "LBFGS:    0 02:41:12        1.998666       15.035556\n",
      "LBFGS:    1 02:41:13        0.238493        4.341885\n",
      "LBFGS:    2 02:41:13        0.032164        1.602629\n",
      "LBFGS:    3 02:41:13       -0.005589        0.294031\n",
      "LBFGS:    4 02:41:13       -0.007023        0.027962\n"
     ]
    },
    {
     "data": {
      "text/plain": [
       "True"
      ]
     },
     "execution_count": 22,
     "metadata": {},
     "output_type": "execute_result"
    }
   ],
   "source": [
    "cu_fcc_atoms = bulk(\"Cu\", \"fcc\", a=3.0)\n",
    "print(\"Before opt:\", cu_fcc_atoms.cell)\n",
    "cu_fcc_atoms.calc = EMT()\n",
    "\n",
    "cu_fcc_atoms = StrainFilter(cu_fcc_atoms)\n",
    "opt = LBFGS(cu_fcc_atoms, trajectory=\"output/lbfgs_cu_fcc.traj\")\n",
    "opt.run()"
   ]
  },
  {
   "cell_type": "code",
   "execution_count": 23,
   "id": "9ba49ef6-0edf-4c18-a951-8199ea5fbd06",
   "metadata": {
    "colab": {
     "base_uri": "https://localhost:8080/"
    },
    "id": "9ba49ef6-0edf-4c18-a951-8199ea5fbd06",
    "outputId": "084a6fca-dc34-47bc-e6db-704582b73f1d",
    "tags": []
   },
   "outputs": [
    {
     "data": {
      "text/plain": [
       "Cell([[-1.4277682077389566, 1.4277682077389569, 1.4277682077389566], [1.4277682077389566, -1.4277682077389569, 1.4277682077389566], [1.4277682077389566, 1.4277682077389569, -1.4277682077389566]])"
      ]
     },
     "execution_count": 23,
     "metadata": {},
     "output_type": "execute_result"
    }
   ],
   "source": [
    "cu_bcc_atoms.atoms.cell"
   ]
  },
  {
   "cell_type": "code",
   "execution_count": 24,
   "id": "fa16c6a9-6067-4d80-8cd4-cb2d20573ac6",
   "metadata": {
    "colab": {
     "base_uri": "https://localhost:8080/"
    },
    "id": "fa16c6a9-6067-4d80-8cd4-cb2d20573ac6",
    "outputId": "84612f26-2673-4203-9760-76dfc60e286e",
    "tags": []
   },
   "outputs": [
    {
     "data": {
      "text/plain": [
       "Cell([[9.599646914998983e-17, 1.7939198768932187, 1.793919876893219], [1.7939198768932187, 6.90071281845051e-17, 1.793919876893219], [1.7939198768932187, 1.7939198768932187, 8.141128784294879e-17]])"
      ]
     },
     "execution_count": 24,
     "metadata": {},
     "output_type": "execute_result"
    }
   ],
   "source": [
    "cu_fcc_atoms.atoms.cell"
   ]
  },
  {
   "cell_type": "markdown",
   "id": "ee27f828-d4ec-48a5-8332-4da01acbaa34",
   "metadata": {
    "id": "ee27f828-d4ec-48a5-8332-4da01acbaa34"
   },
   "source": [
    "`StrainFilter`を用いて格子定数の最適化を行った場合、結晶のa, b, c軸の対称性を保つ考慮がされないためそれぞれ値が少し違った値となってしまっています。<br/>\n",
    "実際は後述する`ExpCellFilter` や、`FixSymmetry` を活用することで、対称性を保ったままの最適化も可能です。\n",
    "\n",
    "ここでは、最終的な格子定数を計算するために平均値をとることにします。<br/>\n",
    "ASEの`bulk` methodに指定する引数 `a` に対して、BCC構造のセルは\n",
    "\n",
    "```\n",
    "[[-a/2, a/2, a/2],\n",
    " [a/2, -a/2, a/2],\n",
    " [a/2, a/2, -a/2]]\n",
    "```\n",
    "\n",
    "FCC構造のセルは\n",
    "```\n",
    "[[0, a/2, a/2],\n",
    " [a/2, 0, a/2],\n",
    " [a/2, a/2, 0]]\n",
    "```\n",
    "となっていることを用いて、下記の計算を行っています。"
   ]
  },
  {
   "cell_type": "code",
   "execution_count": 25,
   "id": "0cdc653b-5b0a-4908-ab59-571344d82afd",
   "metadata": {
    "colab": {
     "base_uri": "https://localhost:8080/"
    },
    "id": "0cdc653b-5b0a-4908-ab59-571344d82afd",
    "outputId": "64f41327-f535-4500-a1fc-67e3eb90c1e4",
    "tags": []
   },
   "outputs": [
    {
     "name": "stdout",
     "output_type": "stream",
     "text": [
      "BCC opt: a = 2.86 A, E = 0.03 eV\n",
      "FCC opt: a = 3.59 A, E = -0.01 eV\n"
     ]
    }
   ],
   "source": [
    "a = np.abs(cu_bcc_atoms.atoms.cell).mean() * 2\n",
    "E_pot = cu_bcc_atoms.get_potential_energy()\n",
    "print(f\"BCC opt: a = {a:.2f} A, E = {E_pot:.2f} eV\")\n",
    "\n",
    "a = cu_fcc_atoms.atoms.cell.sum() / 3\n",
    "E_pot = cu_fcc_atoms.get_potential_energy()\n",
    "print(f\"FCC opt: a = {a:.2f} A, E = {E_pot:.2f} eV\")"
   ]
  },
  {
   "cell_type": "markdown",
   "id": "874ec7e8-6e6a-4895-beaf-a38aee4eaff9",
   "metadata": {
    "id": "874ec7e8-6e6a-4895-beaf-a38aee4eaff9"
   },
   "source": [
    "構造最適化の結果として、FCC構造では `a=3.59` A のときにエネルギーが最小となる事がわかりました。\n",
    "\n",
    "また、**CuはFCC構造のほうがBCC構造よりも安定である**という、実験結果と整合する結果を得ることができました。"
   ]
  },
  {
   "cell_type": "markdown",
   "id": "49a96afe-3891-44cd-b12f-6df179d5f54f",
   "metadata": {
    "id": "49a96afe-3891-44cd-b12f-6df179d5f54f"
   },
   "source": [
    "`StrainFilter`を使う場合の注意点として、セルのa, b, c軸が独立して最適化されてしまうため、その比率を保ちたい場合にも保たれない可能性があります。"
   ]
  },
  {
   "cell_type": "markdown",
   "id": "7e24624e-60c6-4022-b7e2-b7afd2220916",
   "metadata": {
    "id": "7e24624e-60c6-4022-b7e2-b7afd2220916"
   },
   "source": [
    "**[Note] 構造最適化はCalculator (Potential energyの関数系)が変わる度に必要**\n",
    "\n",
    "Materials projectの構造も、構造最適化を行った構造であるため、すでに完全な安定構造かと思うかもしれません。\n",
    "しかし、厳密な局所点(極小のエネルギーを取る構造)は、ポテンシャルエネルギーが変わると異なります。"
   ]
  },
  {
   "cell_type": "markdown",
   "id": "270348f7-cba8-4564-8310-1c13b30b40d4",
   "metadata": {
    "id": "270348f7-cba8-4564-8310-1c13b30b40d4"
   },
   "source": [
    "## [コラム] 構造最適化計算と現実世界\n",
    "\n",
    "この章で紹介した構造最適化計算は、今後紹介するほぼすべての原子シミュレーションにとって土台となる計算となります。しかし、構造最適化計算の内部で使われている計算手法はいくらか技巧的なものであり、このチュートリアルではじめて原子シミュレーションに触れた人にとっては直感的には必要性がわかりにくいかもしれません。そこでこのコラムでは、現実世界との対応関係という観点から構造最適化計算を見直してみます。\n",
    "\n",
    "### 構造最適化の必要性\n",
    "\n",
    "現実世界の物質の原子配置がどのように決まっているかについて考えてみますと、一つ一つの原子は特に拘束もなく自由に動き回っているので、余計なエネルギーは散逸し、エネルギーの低い安定な構造へと変化していきます。一旦温度の影響を無視して十分に温度が低い場合を考えてみると、その場合は原子の運動エネルギーは0になり、ポテンシャルエネルギーは極小値をとることが考えられます。その意味では構造最適化計算は現実世界における絶対零度の状態を考えていることに対応しています。\n",
    "\n",
    "有限温度の場合にはどうでしょうか。統計力学の理論から、平衡状態にある系では温度と運動エネルギーは一定の関係にあることが知られており、大雑把な計算では1 Kの上昇はおおまかに1/10000 eV/atomの運動エネルギーの上昇に相当します。逆にいうと、1 eV/atomのエネルギーの上昇は温度に換算して10000 K程度の構造に相当するということです。このように有限温度の場合でもしばしばエネルギーを最適化した構造が十分に良い近似となることが多いため、シミュレーションのはじめにまずは構造最適化計算をしよう(有限温度の場合にはその後で温度を上昇させよう)という手順をとることが一般に行われています。\n",
    "\n",
    "構造最適化計算を行わずにシミュレーションをしてしまうと、前提条件の違いにより非現実的な結果をもたらしてしまう可能性があります。例えば鉄の結晶構造を1%小さくとった場合、原子構造を可視化しただけであれば特段の変化は見えないかもしれません。しかし現実世界で鉄を1%縮める操作を考えてみればわかるように、これは非常に強い圧縮力(具体的には1 GPaを超える圧力)のかかった鉄に相当するので、シミュレーションの結果を変えてしまうことが想定されます。\n",
    "\n",
    "### 構造最適化手法と現実世界の構造緩和\n",
    "\n",
    "構造最適化計算の種類がたくさんあることについて、現実世界との対応から考えてみます。適当な温度の高い材料、例えば溶けた鉄について、ここから熱を取り除いて少し冷えていくときに起きる現象を考えてみましょう。鉄原子は熱によって常に振動しており、様々な原子配置をとりながら、少しずつポテンシャルエネルギーの低い構造へと遷移していきます。最終的にはエネルギーの低い、原子がきれいに整列した結晶構造へと遷移していきます。この意味では現実世界における構造最適化は[焼きなまし法](https://ja.wikipedia.org/wiki/%E7%84%BC%E3%81%8D%E3%81%AA%E3%81%BE%E3%81%97%E6%B3%95)(SA: Simulated Annealing)と呼ばれる最適化手法の一種とみなすことができます。(歴史的には、こちらが焼きなまし法のアイデア元に相当します。)\n",
    "\n",
    "これは原子が長時間運動した結果として得られるものです。つまり、原理的には原子シミュレーションでも、十分に長い分子動力学計算が行えれば現実世界と同じように安定な構造が得られることを意味しています。\n",
    "\n",
    "しかし、ここで問題になるのが時間スケールのギャップです。原子の動きは典型的にはフェムト秒($10^{-15}$ s)オーダーの現象ですが、現実世界の材料を考えるときは一般にはるかに長い時間スケールが登場します。このため、現実世界の構造を原子スケールシミュレーションの言葉で書き直すと、$10^{15}$やそれ以上のスケールでの極めて長い時間をかけた構造最適化計算の結果とみなすことができます。また、焼きなまし法はロバスト性の高い最適化手法であり、十分に長い時間をかけることでより大域的な最適解へとたどり着くことが知られています。このため、現実に存在する物質は実質的に大域最適化問題が解かれた原子構造が得られていると考えることができます。\n",
    "\n",
    "このようなことから、原子シミュレーションでも短時間でより大域的な最適解を探すことができる手法が開発されてきました。これは一般に計算時間とのトレードオフとなるため、ケースによって使い分けられます。結晶構造のように目的の構造が既にわかっていて十分に近い構造を初期構造としてとれる場合には、上の例にあるBFGS法のように局所最適解を求める手法が好まれます。逆にアモルファス構造のようによくわからない構造を対象とする場合には、より大域的な最適解を求めるためにより注意が向けられます。(より現実的になるよう、ゆっくりと温度を下げていくメルトクエンチ法などが使われます。)ASEを含む原子シミュレーションのライブラリに様々な最適解手法が搭載されているのはこのためです。\n",
    "\n",
    "余談ですが、実は現実世界でも大域最適解になりきらないケースは存在します。例えば炭素の高圧相であるダイヤモンドは地上では安定ではなく、黒鉛(グラファイト)のほうがより安定なのですが、構造変化に必要なエネルギーが高いため構造が変化する速度が極めて遅く、人間の時間スケールでは実質的に安定な構造(準安定状態)として扱われます。製造時に積極的に利用している有名な例としては鉄の焼入れがあります。日本刀を作るときに熱した鉄を水に漬けることで硬くする技術が有名ですが、温度を急冷させることで構造緩和にかかる時間を短縮し、安定構造に遷移することを防いでいます。これによってより望ましい強度を持つ準安定状態を得ています。\n",
    "このように、相変態や化学変化を伴う現象には日常スケールでも緩慢に起きる場合が多いです。これは原子シミュレーションでも同様で、相変態や化学反応を見たい場合には単純に長時間の動力学計算を行うよりも効率的な計算手法が使われることがあります。ひとつの具体例として、5章で説明があるNEB法があります。\n",
    "\n",
    " - https://ja.wikipedia.org/wiki/%E6%BA%96%E5%AE%89%E5%AE%9A%E7%8A%B6%E6%85%8B"
   ]
  }
 ],
 "metadata": {
  "colab": {
   "provenance": []
  },
  "kernelspec": {
   "display_name": "Python 3.9",
   "language": "python",
   "name": "python39"
  },
  "language_info": {
   "codemirror_mode": {
    "name": "ipython",
    "version": 3
   },
   "file_extension": ".py",
   "mimetype": "text/x-python",
   "name": "python",
   "nbconvert_exporter": "python",
   "pygments_lexer": "ipython3",
   "version": "3.9.16"
  }
 },
 "nbformat": 4,
 "nbformat_minor": 5
}
