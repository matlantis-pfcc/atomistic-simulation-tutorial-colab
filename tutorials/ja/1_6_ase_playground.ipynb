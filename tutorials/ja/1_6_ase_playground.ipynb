{
 "cells": [
  {
   "cell_type": "markdown",
   "id": "ec5d9b50-eeb7-411a-9b56-fe3b7e290310",
   "metadata": {
    "tags": []
   },
   "source": [
    "# Notion"
   ]
  },
  {
   "cell_type": "markdown",
   "id": "950194f4-4deb-4e47-be2b-c4d1c5139de3",
   "metadata": {},
   "source": [
    "本notebookは[AtomisticSimulationTutorial](https://docs.matlantis.com/atomistic-simulation-tutorial/ja/)をGoogleColab上で実行するために修正したものであり、一般的なライブラリで実行可能な部分だけを提供しております。"
   ]
  },
  {
   "cell_type": "markdown",
   "id": "100d19cd-b6f4-4967-9c9a-bc99334d92ef",
   "metadata": {},
   "source": [
    "# Atomsの操作\n",
    "\n",
    "ここまででASEの基礎を学び Atoms や Calculatorの扱い方を学びました。<br/>\n",
    "本節では、Atomsを操作していく実例を通してその扱いにより深く慣れていきましょう。"
   ]
  },
  {
   "cell_type": "markdown",
   "id": "c116ccdf-eb55-42e4-b744-d27cfe76dca0",
   "metadata": {
    "tags": []
   },
   "source": [
    "## Initial setup"
   ]
  },
  {
   "cell_type": "code",
   "execution_count": 1,
   "id": "c590472c-1231-4ae4-810c-9c8e59e50dd5",
   "metadata": {},
   "outputs": [
    {
     "name": "stdout",
     "output_type": "stream",
     "text": [
      "Looking in indexes: https://pypi.org/simple, http://pypi.artifact.svc:8080/simple\n",
      "Requirement already satisfied: ase in /home/jovyan/.py39/lib/python3.9/site-packages (3.23.0)\n",
      "Requirement already satisfied: numpy>=1.18.5 in /home/jovyan/.py39/lib/python3.9/site-packages (from ase) (1.26.4)\n",
      "Requirement already satisfied: scipy>=1.6.0 in /home/jovyan/.py39/lib/python3.9/site-packages (from ase) (1.13.1)\n",
      "Requirement already satisfied: matplotlib>=3.3.4 in /home/jovyan/.py39/lib/python3.9/site-packages (from ase) (3.9.0)\n",
      "Requirement already satisfied: contourpy>=1.0.1 in /home/jovyan/.py39/lib/python3.9/site-packages (from matplotlib>=3.3.4->ase) (1.2.1)\n",
      "Requirement already satisfied: cycler>=0.10 in /home/jovyan/.py39/lib/python3.9/site-packages (from matplotlib>=3.3.4->ase) (0.12.1)\n",
      "Requirement already satisfied: fonttools>=4.22.0 in /home/jovyan/.py39/lib/python3.9/site-packages (from matplotlib>=3.3.4->ase) (4.53.0)\n",
      "Requirement already satisfied: kiwisolver>=1.3.1 in /home/jovyan/.py39/lib/python3.9/site-packages (from matplotlib>=3.3.4->ase) (1.4.5)\n",
      "Requirement already satisfied: packaging>=20.0 in /home/jovyan/.py39/lib/python3.9/site-packages (from matplotlib>=3.3.4->ase) (20.9)\n",
      "Requirement already satisfied: pillow>=8 in /home/jovyan/.py39/lib/python3.9/site-packages (from matplotlib>=3.3.4->ase) (10.4.0)\n",
      "Requirement already satisfied: pyparsing>=2.3.1 in /home/jovyan/.py39/lib/python3.9/site-packages (from matplotlib>=3.3.4->ase) (3.1.2)\n",
      "Requirement already satisfied: python-dateutil>=2.7 in /home/jovyan/.py39/lib/python3.9/site-packages (from matplotlib>=3.3.4->ase) (2.9.0.post0)\n",
      "Requirement already satisfied: importlib-resources>=3.2.0 in /home/jovyan/.py39/lib/python3.9/site-packages (from matplotlib>=3.3.4->ase) (6.4.0)\n",
      "Requirement already satisfied: zipp>=3.1.0 in /home/jovyan/.py39/lib/python3.9/site-packages (from importlib-resources>=3.2.0->matplotlib>=3.3.4->ase) (3.19.2)\n",
      "Requirement already satisfied: six>=1.5 in /home/jovyan/.py39/lib/python3.9/site-packages (from python-dateutil>=2.7->matplotlib>=3.3.4->ase) (1.16.0)\n",
      "\n",
      "\u001b[1m[\u001b[0m\u001b[34;49mnotice\u001b[0m\u001b[1;39;49m]\u001b[0m\u001b[39;49m A new release of pip is available: \u001b[0m\u001b[31;49m24.2\u001b[0m\u001b[39;49m -> \u001b[0m\u001b[32;49m24.3.1\u001b[0m\n",
      "\u001b[1m[\u001b[0m\u001b[34;49mnotice\u001b[0m\u001b[1;39;49m]\u001b[0m\u001b[39;49m To update, run: \u001b[0m\u001b[32;49mpip install --upgrade pip\u001b[0m\n"
     ]
    }
   ],
   "source": [
    "!pip install ase"
   ]
  },
  {
   "cell_type": "code",
   "execution_count": 2,
   "id": "fae7ad79-6c31-4537-b0b6-dece687d9de6",
   "metadata": {
    "tags": []
   },
   "outputs": [],
   "source": [
    "import os\n",
    "\n",
    "from IPython.display import HTML, Image\n",
    "\n",
    "import matplotlib.pyplot as plt\n",
    "import matplotlib.image as mpimg\n",
    "from matplotlib.animation import FuncAnimation\n",
    "\n",
    "from ase import Atoms\n",
    "from ase.build import make_supercell\n",
    "from ase.io import write\n",
    "from ase.visualize import view\n",
    "\n",
    "os.makedirs(\"output\", exist_ok=True)\n",
    "\n",
    "def view_x3d(atoms, idx=0):\n",
    "    if isinstance(atoms[0], Atoms):\n",
    "        # Assume this is a trajectory or struct list\n",
    "        if (len(atoms) <= idx):\n",
    "                print(f\"The specified index exceeds the length of the trajectory. The length of the trajectory is {len(atoms)}.\")\n",
    "        return view(atoms[idx], viewer=\"x3d\")\n",
    "    else:\n",
    "        return view(atoms, viewer=\"x3d\")\n",
    "\n",
    "\n",
    "def view_ase_atoms(atoms, rotation=\"0x,0y,0z\", figsize=(4, 4), title=\"\", scale=100):\n",
    "    fig, ax = plt.subplots(figsize=figsize)\n",
    "    write(\"output/tmp.png\", atoms, rotation=rotation, scale=scale)\n",
    "    img = mpimg.imread('output/tmp.png')\n",
    "    ax.imshow(img)\n",
    "    ax.set_title(title)\n",
    "    ax.axis('off')\n",
    "    plt.show()\n",
    "    os.remove('output/tmp.png')\n",
    "    return\n",
    "\n",
    "def traj_to_apng(traj, rotation='30x,30y,30z'):\n",
    "    imgs = []\n",
    "    for atom in traj:\n",
    "        supercell = make_supercell(atom, [[1, 0, 0], [0, 1, 0], [0, 0, 1]])\n",
    "        write('output/tmp.png', supercell, rotation=rotation, show_unit_cell=2)\n",
    "        img = mpimg.imread('output/tmp.png')\n",
    "        imgs.append(img)\n",
    "    os.remove('output/tmp.png')\n",
    "\n",
    "    fig, ax = plt.subplots()\n",
    "\n",
    "    def update(frame):\n",
    "        img = imgs[frame]\n",
    "        ax.clear()\n",
    "        ax.imshow(img)\n",
    "        return []\n",
    "\n",
    "    ani = FuncAnimation(fig, update, frames=len(imgs), blit=True)\n",
    "    plt.close()\n",
    "    return HTML(ani.to_jshtml())"
   ]
  },
  {
   "cell_type": "markdown",
   "id": "fcc7359e-242e-415e-acb6-6471001df7dc",
   "metadata": {},
   "source": [
    "## コピー\n",
    "\n",
    "`atoms`を作成したあと、そのコピーを作成するには `copy()` methodを使うことができます。<br/>\n",
    "原子の元素種・座標値や、セルなどがコピーされます。\n",
    "\n",
    "以下では`atoms2` が`atoms`と同じ座標値を持ったH2Oのコピーになっています。"
   ]
  },
  {
   "cell_type": "code",
   "execution_count": 3,
   "id": "81da3601-a335-4879-a47b-7a28cbc85f80",
   "metadata": {},
   "outputs": [
    {
     "name": "stdout",
     "output_type": "stream",
     "text": [
      "atoms : Atoms(symbols='OH2', pbc=False)\n",
      "pos [[ 0.        0.        0.119262]\n",
      " [ 0.        0.763239 -0.477047]\n",
      " [ 0.       -0.763239 -0.477047]]\n",
      "\n",
      "atoms2: Atoms(symbols='OH2', pbc=False)\n",
      "pos [[ 0.        0.        0.119262]\n",
      " [ 0.        0.763239 -0.477047]\n",
      " [ 0.       -0.763239 -0.477047]]\n"
     ]
    }
   ],
   "source": [
    "from ase.build import molecule, bulk\n",
    "atoms = molecule(\"H2O\")\n",
    "atoms2 = atoms.copy()\n",
    "\n",
    "print(\"atoms :\", atoms)\n",
    "print(\"pos\", atoms.positions)\n",
    "print()\n",
    "print(\"atoms2:\", atoms2)\n",
    "print(\"pos\", atoms2.positions)"
   ]
  },
  {
   "cell_type": "markdown",
   "id": "c043b356-6d32-4a44-93f4-ff7630c352f2",
   "metadata": {},
   "source": [
    "## propertyの書き換え\n",
    "\n",
    "Atomsは様々なget, set 関数を持っています。これらを通じてAtomsの持つ属性値を変更することが可能です。\n",
    "\n",
    " - https://wiki.fysik.dtu.dk/ase/ase/atoms.html#working-with-the-array-methods-of-atoms-objects\n",
    " \n",
    "例えば前節では `set_momenta` 関数を使用して運動量を設定する例がありました。"
   ]
  },
  {
   "cell_type": "markdown",
   "id": "b4847fac-72df-4c8a-8ded-dfed50d5a5c9",
   "metadata": {},
   "source": [
    "## 座標値の変更\n",
    "\n",
    "座標値の変更の場合、`atoms.positions` をそのまま書き換えることができます。"
   ]
  },
  {
   "cell_type": "code",
   "execution_count": 4,
   "id": "fe6d571d-7ab8-48a5-80dc-26090f71ec42",
   "metadata": {},
   "outputs": [
    {
     "data": {
      "text/plain": [
       "array([[ 1.218055,  0.36124 ,  0.      ],\n",
       "       [ 0.      ,  0.464133,  0.      ],\n",
       "       [-0.477241,  1.465295,  0.      ],\n",
       "       [-0.948102, -0.700138,  0.      ],\n",
       "       [-0.385946, -1.634236,  0.      ],\n",
       "       [-1.596321, -0.652475,  0.880946],\n",
       "       [-1.596321, -0.652475, -0.880946]])"
      ]
     },
     "execution_count": 4,
     "metadata": {},
     "output_type": "execute_result"
    }
   ],
   "source": [
    "atoms = molecule(\"CH3CHO\")\n",
    "atoms.positions"
   ]
  },
  {
   "cell_type": "code",
   "execution_count": 5,
   "id": "4647650e-cedc-4aa9-b3ef-bf20b00fabe4",
   "metadata": {},
   "outputs": [
    {
     "data": {
      "text/html": [
       "<html>\n",
       "    <head>\n",
       "        <title>ASE atomic visualization</title>\n",
       "        <link rel=\"stylesheet\" type=\"text/css\"             href=\"https://www.x3dom.org/release/x3dom.css\"></link>\n",
       "        <script type=\"text/javascript\"             src=\"https://www.x3dom.org/release/x3dom.js\"></script>\n",
       "    </head>\n",
       "    <body>\n",
       "        <X3D width=\"400px\"; height=\"300px\";>\n",
       "\n",
       "<!--Inserting Generated X3D Scene-->\n",
       "<scene>\n",
       "  <viewpoint position=\"0 0 6.199062\">\n",
       "    <group/>\n",
       "  </viewpoint>\n",
       "  <transform translation=\"-0.0 -0.0 -0.0\">\n",
       "    <group>\n",
       "      <group>\n",
       "        <transform translation=\"0 0 0\">\n",
       "          <shape>\n",
       "            <appearance>\n",
       "              <material diffuseColor=\"0 0 0\"/>\n",
       "            </appearance>\n",
       "            <lineset vertexCount=\"5\">\n",
       "              <coordinate point=\"0 0 0 0.0 0.0 0.0 0.0 0.0 0.0 0.0 0.0 0.0 0 0 0\"/>\n",
       "            </lineset>\n",
       "          </shape>\n",
       "        </transform>\n",
       "        <transform translation=\"0.0 0.0 0.0\">\n",
       "          <shape>\n",
       "            <appearance>\n",
       "              <material diffuseColor=\"0 0 0\"/>\n",
       "            </appearance>\n",
       "            <lineset vertexCount=\"5\">\n",
       "              <coordinate point=\"0 0 0 0.0 0.0 0.0 0.0 0.0 0.0 0.0 0.0 0.0 0 0 0\"/>\n",
       "            </lineset>\n",
       "          </shape>\n",
       "        </transform>\n",
       "        <transform translation=\"0 0 0\">\n",
       "          <shape>\n",
       "            <appearance>\n",
       "              <material diffuseColor=\"0 0 0\"/>\n",
       "            </appearance>\n",
       "            <lineset vertexCount=\"5\">\n",
       "              <coordinate point=\"0 0 0 0.0 0.0 0.0 0.0 0.0 0.0 0.0 0.0 0.0 0 0 0\"/>\n",
       "            </lineset>\n",
       "          </shape>\n",
       "        </transform>\n",
       "        <transform translation=\"0.0 0.0 0.0\">\n",
       "          <shape>\n",
       "            <appearance>\n",
       "              <material diffuseColor=\"0 0 0\"/>\n",
       "            </appearance>\n",
       "            <lineset vertexCount=\"5\">\n",
       "              <coordinate point=\"0 0 0 0.0 0.0 0.0 0.0 0.0 0.0 0.0 0.0 0.0 0 0 0\"/>\n",
       "            </lineset>\n",
       "          </shape>\n",
       "        </transform>\n",
       "      </group>\n",
       "      <group>\n",
       "        <transform translation=\"1.218055 0.36124 0.0\">\n",
       "          <shape>\n",
       "            <appearance>\n",
       "              <material diffuseColor=\"1.0 0.051 0.051\"/>\n",
       "            </appearance>\n",
       "            <sphere radius=\"0.66\"/>\n",
       "          </shape>\n",
       "        </transform>\n",
       "        <transform translation=\"0.0 0.464133 0.0\">\n",
       "          <shape>\n",
       "            <appearance>\n",
       "              <material diffuseColor=\"0.565 0.565 0.565\"/>\n",
       "            </appearance>\n",
       "            <sphere radius=\"0.76\"/>\n",
       "          </shape>\n",
       "        </transform>\n",
       "        <transform translation=\"-0.477241 1.465295 0.0\">\n",
       "          <shape>\n",
       "            <appearance>\n",
       "              <material diffuseColor=\"1.0 1.0 1.0\"/>\n",
       "            </appearance>\n",
       "            <sphere radius=\"0.31\"/>\n",
       "          </shape>\n",
       "        </transform>\n",
       "        <transform translation=\"-0.948102 -0.700138 0.0\">\n",
       "          <shape>\n",
       "            <appearance>\n",
       "              <material diffuseColor=\"0.565 0.565 0.565\"/>\n",
       "            </appearance>\n",
       "            <sphere radius=\"0.76\"/>\n",
       "          </shape>\n",
       "        </transform>\n",
       "        <transform translation=\"-0.385946 -1.634236 0.0\">\n",
       "          <shape>\n",
       "            <appearance>\n",
       "              <material diffuseColor=\"1.0 1.0 1.0\"/>\n",
       "            </appearance>\n",
       "            <sphere radius=\"0.31\"/>\n",
       "          </shape>\n",
       "        </transform>\n",
       "        <transform translation=\"-1.596321 -0.652475 0.880946\">\n",
       "          <shape>\n",
       "            <appearance>\n",
       "              <material diffuseColor=\"1.0 1.0 1.0\"/>\n",
       "            </appearance>\n",
       "            <sphere radius=\"0.31\"/>\n",
       "          </shape>\n",
       "        </transform>\n",
       "        <transform translation=\"-1.596321 -0.652475 -0.880946\">\n",
       "          <shape>\n",
       "            <appearance>\n",
       "              <material diffuseColor=\"1.0 1.0 1.0\"/>\n",
       "            </appearance>\n",
       "            <sphere radius=\"0.31\"/>\n",
       "          </shape>\n",
       "        </transform>\n",
       "      </group>\n",
       "    </group>\n",
       "  </transform>\n",
       "</scene>\n",
       "<!--End of Inserted Scene-->\n",
       "\n",
       "        </X3D>\n",
       "    </body>\n",
       "</html>\n",
       "\n"
      ],
      "text/plain": [
       "<IPython.core.display.HTML object>"
      ]
     },
     "execution_count": 5,
     "metadata": {},
     "output_type": "execute_result"
    }
   ],
   "source": [
    "view_x3d(atoms)"
   ]
  },
  {
   "cell_type": "markdown",
   "id": "1f97a267-cd30-4836-95c8-6b16ac3293c2",
   "metadata": {},
   "source": [
    "0番目のO原子を `[1.218055, 0.36124, 0.]` から、 `[2.0, 0, 0]`　に動かしてみます。\n",
    "\n",
    "`atoms.positions` をそのまま書き換えることができます。"
   ]
  },
  {
   "cell_type": "code",
   "execution_count": 6,
   "id": "acef9e38-012b-4b7a-94b8-f7ed550c52b3",
   "metadata": {},
   "outputs": [],
   "source": [
    "# First axis 0 specifies atom index = O\n",
    "# Second axis with the value 0,1,2 corrensponds to x, y, z axis respectively.\n",
    "atoms.positions[0] = [2.0, 0, 0]"
   ]
  },
  {
   "cell_type": "code",
   "execution_count": 7,
   "id": "9ad2c104-9433-46e1-aee0-1dfcb296cefe",
   "metadata": {},
   "outputs": [
    {
     "data": {
      "text/html": [
       "<html>\n",
       "    <head>\n",
       "        <title>ASE atomic visualization</title>\n",
       "        <link rel=\"stylesheet\" type=\"text/css\"             href=\"https://www.x3dom.org/release/x3dom.css\"></link>\n",
       "        <script type=\"text/javascript\"             src=\"https://www.x3dom.org/release/x3dom.js\"></script>\n",
       "    </head>\n",
       "    <body>\n",
       "        <X3D width=\"400px\"; height=\"300px\";>\n",
       "\n",
       "<!--Inserting Generated X3D Scene-->\n",
       "<scene>\n",
       "  <viewpoint position=\"0 0 7.192642\">\n",
       "    <group/>\n",
       "  </viewpoint>\n",
       "  <transform translation=\"-0.0 -0.0 -0.0\">\n",
       "    <group>\n",
       "      <group>\n",
       "        <transform translation=\"0 0 0\">\n",
       "          <shape>\n",
       "            <appearance>\n",
       "              <material diffuseColor=\"0 0 0\"/>\n",
       "            </appearance>\n",
       "            <lineset vertexCount=\"5\">\n",
       "              <coordinate point=\"0 0 0 0.0 0.0 0.0 0.0 0.0 0.0 0.0 0.0 0.0 0 0 0\"/>\n",
       "            </lineset>\n",
       "          </shape>\n",
       "        </transform>\n",
       "        <transform translation=\"0.0 0.0 0.0\">\n",
       "          <shape>\n",
       "            <appearance>\n",
       "              <material diffuseColor=\"0 0 0\"/>\n",
       "            </appearance>\n",
       "            <lineset vertexCount=\"5\">\n",
       "              <coordinate point=\"0 0 0 0.0 0.0 0.0 0.0 0.0 0.0 0.0 0.0 0.0 0 0 0\"/>\n",
       "            </lineset>\n",
       "          </shape>\n",
       "        </transform>\n",
       "        <transform translation=\"0 0 0\">\n",
       "          <shape>\n",
       "            <appearance>\n",
       "              <material diffuseColor=\"0 0 0\"/>\n",
       "            </appearance>\n",
       "            <lineset vertexCount=\"5\">\n",
       "              <coordinate point=\"0 0 0 0.0 0.0 0.0 0.0 0.0 0.0 0.0 0.0 0.0 0 0 0\"/>\n",
       "            </lineset>\n",
       "          </shape>\n",
       "        </transform>\n",
       "        <transform translation=\"0.0 0.0 0.0\">\n",
       "          <shape>\n",
       "            <appearance>\n",
       "              <material diffuseColor=\"0 0 0\"/>\n",
       "            </appearance>\n",
       "            <lineset vertexCount=\"5\">\n",
       "              <coordinate point=\"0 0 0 0.0 0.0 0.0 0.0 0.0 0.0 0.0 0.0 0.0 0 0 0\"/>\n",
       "            </lineset>\n",
       "          </shape>\n",
       "        </transform>\n",
       "      </group>\n",
       "      <group>\n",
       "        <transform translation=\"2.0 0.0 0.0\">\n",
       "          <shape>\n",
       "            <appearance>\n",
       "              <material diffuseColor=\"1.0 0.051 0.051\"/>\n",
       "            </appearance>\n",
       "            <sphere radius=\"0.66\"/>\n",
       "          </shape>\n",
       "        </transform>\n",
       "        <transform translation=\"0.0 0.464133 0.0\">\n",
       "          <shape>\n",
       "            <appearance>\n",
       "              <material diffuseColor=\"0.565 0.565 0.565\"/>\n",
       "            </appearance>\n",
       "            <sphere radius=\"0.76\"/>\n",
       "          </shape>\n",
       "        </transform>\n",
       "        <transform translation=\"-0.477241 1.465295 0.0\">\n",
       "          <shape>\n",
       "            <appearance>\n",
       "              <material diffuseColor=\"1.0 1.0 1.0\"/>\n",
       "            </appearance>\n",
       "            <sphere radius=\"0.31\"/>\n",
       "          </shape>\n",
       "        </transform>\n",
       "        <transform translation=\"-0.948102 -0.700138 0.0\">\n",
       "          <shape>\n",
       "            <appearance>\n",
       "              <material diffuseColor=\"0.565 0.565 0.565\"/>\n",
       "            </appearance>\n",
       "            <sphere radius=\"0.76\"/>\n",
       "          </shape>\n",
       "        </transform>\n",
       "        <transform translation=\"-0.385946 -1.634236 0.0\">\n",
       "          <shape>\n",
       "            <appearance>\n",
       "              <material diffuseColor=\"1.0 1.0 1.0\"/>\n",
       "            </appearance>\n",
       "            <sphere radius=\"0.31\"/>\n",
       "          </shape>\n",
       "        </transform>\n",
       "        <transform translation=\"-1.596321 -0.652475 0.880946\">\n",
       "          <shape>\n",
       "            <appearance>\n",
       "              <material diffuseColor=\"1.0 1.0 1.0\"/>\n",
       "            </appearance>\n",
       "            <sphere radius=\"0.31\"/>\n",
       "          </shape>\n",
       "        </transform>\n",
       "        <transform translation=\"-1.596321 -0.652475 -0.880946\">\n",
       "          <shape>\n",
       "            <appearance>\n",
       "              <material diffuseColor=\"1.0 1.0 1.0\"/>\n",
       "            </appearance>\n",
       "            <sphere radius=\"0.31\"/>\n",
       "          </shape>\n",
       "        </transform>\n",
       "      </group>\n",
       "    </group>\n",
       "  </transform>\n",
       "</scene>\n",
       "<!--End of Inserted Scene-->\n",
       "\n",
       "        </X3D>\n",
       "    </body>\n",
       "</html>\n",
       "\n"
      ],
      "text/plain": [
       "<IPython.core.display.HTML object>"
      ]
     },
     "execution_count": 7,
     "metadata": {},
     "output_type": "execute_result"
    }
   ],
   "source": [
    "view_x3d(atoms)"
   ]
  },
  {
   "cell_type": "markdown",
   "id": "ca15b6dd-2d55-4fec-9d65-e3b685c296fd",
   "metadata": {},
   "source": [
    "O原子が動いたことが確認できました。"
   ]
  },
  {
   "cell_type": "markdown",
   "id": "75727065-d7d8-4a29-9dc8-dc6f8f17c25e",
   "metadata": {},
   "source": [
    "## 平行移動、回転\n",
    "\n",
    "atoms全体の平行移動や回転は、`translate`, `rotate` 関数を使うことができます。\n",
    "\n",
    "`translate`関数は (3,) のxyzベクトルを指定するとすべての分子を同じだけ平行移動し、 (n, 3) のベクトルを指定するとn個の原子を別々の量平行移動します。<br/>\n",
    "以下の例では、すべての原子を `[1.0, 0, 0]` 平行移動しています。 <br/>\n",
    "実際に座標値を見ると x軸方向だけ平行移動されているのがわかります。"
   ]
  },
  {
   "cell_type": "code",
   "execution_count": 8,
   "id": "481f1a81-f04a-42ac-a258-8c61241a1991",
   "metadata": {},
   "outputs": [
    {
     "data": {
      "text/plain": [
       "array([[ 3.      ,  0.      ,  0.      ],\n",
       "       [ 1.      ,  0.464133,  0.      ],\n",
       "       [ 0.522759,  1.465295,  0.      ],\n",
       "       [ 0.051898, -0.700138,  0.      ],\n",
       "       [ 0.614054, -1.634236,  0.      ],\n",
       "       [-0.596321, -0.652475,  0.880946],\n",
       "       [-0.596321, -0.652475, -0.880946]])"
      ]
     },
     "execution_count": 8,
     "metadata": {},
     "output_type": "execute_result"
    }
   ],
   "source": [
    "atoms.translate([1.0, 0, 0])\n",
    "atoms.positions"
   ]
  },
  {
   "cell_type": "markdown",
   "id": "5cfb8279-883f-4fdb-8a85-8aae83e58f7f",
   "metadata": {},
   "source": [
    "`rotate`関数は `atoms`を回転させるための関数です。\n",
    "\n",
    "以下の例は z軸方向を回転軸として 90°回転させています。<br/>\n",
    "回転軸は、`v=[0,0,1]`のようにベクトルで指定することもできます。"
   ]
  },
  {
   "cell_type": "code",
   "execution_count": 9,
   "id": "7f5419cf-4fbd-4eaa-99b2-7fd3d4fdaa2c",
   "metadata": {},
   "outputs": [
    {
     "data": {
      "text/plain": [
       "array([[ 1.8369702e-16,  3.0000000e+00,  0.0000000e+00],\n",
       "       [-4.6413300e-01,  1.0000000e+00,  0.0000000e+00],\n",
       "       [-1.4652950e+00,  5.2275900e-01,  0.0000000e+00],\n",
       "       [ 7.0013800e-01,  5.1898000e-02,  0.0000000e+00],\n",
       "       [ 1.6342360e+00,  6.1405400e-01,  0.0000000e+00],\n",
       "       [ 6.5247500e-01, -5.9632100e-01,  8.8094600e-01],\n",
       "       [ 6.5247500e-01, -5.9632100e-01, -8.8094600e-01]])"
      ]
     },
     "execution_count": 9,
     "metadata": {},
     "output_type": "execute_result"
    }
   ],
   "source": [
    "atoms.rotate(90, v=\"z\")\n",
    "atoms.positions"
   ]
  },
  {
   "cell_type": "code",
   "execution_count": 10,
   "id": "8fd82981-ee3e-420a-b0ff-eddc161c1b96",
   "metadata": {},
   "outputs": [
    {
     "data": {
      "text/html": [
       "<html>\n",
       "    <head>\n",
       "        <title>ASE atomic visualization</title>\n",
       "        <link rel=\"stylesheet\" type=\"text/css\"             href=\"https://www.x3dom.org/release/x3dom.css\"></link>\n",
       "        <script type=\"text/javascript\"             src=\"https://www.x3dom.org/release/x3dom.js\"></script>\n",
       "    </head>\n",
       "    <body>\n",
       "        <X3D width=\"400px\"; height=\"300px\";>\n",
       "\n",
       "<!--Inserting Generated X3D Scene-->\n",
       "<scene>\n",
       "  <viewpoint position=\"0 0 7.192642\">\n",
       "    <group/>\n",
       "  </viewpoint>\n",
       "  <transform translation=\"-0.0 -0.0 -0.0\">\n",
       "    <group>\n",
       "      <group>\n",
       "        <transform translation=\"0 0 0\">\n",
       "          <shape>\n",
       "            <appearance>\n",
       "              <material diffuseColor=\"0 0 0\"/>\n",
       "            </appearance>\n",
       "            <lineset vertexCount=\"5\">\n",
       "              <coordinate point=\"0 0 0 0.0 0.0 0.0 0.0 0.0 0.0 0.0 0.0 0.0 0 0 0\"/>\n",
       "            </lineset>\n",
       "          </shape>\n",
       "        </transform>\n",
       "        <transform translation=\"0.0 0.0 0.0\">\n",
       "          <shape>\n",
       "            <appearance>\n",
       "              <material diffuseColor=\"0 0 0\"/>\n",
       "            </appearance>\n",
       "            <lineset vertexCount=\"5\">\n",
       "              <coordinate point=\"0 0 0 0.0 0.0 0.0 0.0 0.0 0.0 0.0 0.0 0.0 0 0 0\"/>\n",
       "            </lineset>\n",
       "          </shape>\n",
       "        </transform>\n",
       "        <transform translation=\"0 0 0\">\n",
       "          <shape>\n",
       "            <appearance>\n",
       "              <material diffuseColor=\"0 0 0\"/>\n",
       "            </appearance>\n",
       "            <lineset vertexCount=\"5\">\n",
       "              <coordinate point=\"0 0 0 0.0 0.0 0.0 0.0 0.0 0.0 0.0 0.0 0.0 0 0 0\"/>\n",
       "            </lineset>\n",
       "          </shape>\n",
       "        </transform>\n",
       "        <transform translation=\"0.0 0.0 0.0\">\n",
       "          <shape>\n",
       "            <appearance>\n",
       "              <material diffuseColor=\"0 0 0\"/>\n",
       "            </appearance>\n",
       "            <lineset vertexCount=\"5\">\n",
       "              <coordinate point=\"0 0 0 0.0 0.0 0.0 0.0 0.0 0.0 0.0 0.0 0.0 0 0 0\"/>\n",
       "            </lineset>\n",
       "          </shape>\n",
       "        </transform>\n",
       "      </group>\n",
       "      <group>\n",
       "        <transform translation=\"1.8369701987210297e-16 3.0 0.0\">\n",
       "          <shape>\n",
       "            <appearance>\n",
       "              <material diffuseColor=\"1.0 0.051 0.051\"/>\n",
       "            </appearance>\n",
       "            <sphere radius=\"0.66\"/>\n",
       "          </shape>\n",
       "        </transform>\n",
       "        <transform translation=\"-0.46413299999999996 1.0 0.0\">\n",
       "          <shape>\n",
       "            <appearance>\n",
       "              <material diffuseColor=\"0.565 0.565 0.565\"/>\n",
       "            </appearance>\n",
       "            <sphere radius=\"0.76\"/>\n",
       "          </shape>\n",
       "        </transform>\n",
       "        <transform translation=\"-1.465295 0.5227590000000001 0.0\">\n",
       "          <shape>\n",
       "            <appearance>\n",
       "              <material diffuseColor=\"1.0 1.0 1.0\"/>\n",
       "            </appearance>\n",
       "            <sphere radius=\"0.31\"/>\n",
       "          </shape>\n",
       "        </transform>\n",
       "        <transform translation=\"0.700138 0.05189799999999996 0.0\">\n",
       "          <shape>\n",
       "            <appearance>\n",
       "              <material diffuseColor=\"0.565 0.565 0.565\"/>\n",
       "            </appearance>\n",
       "            <sphere radius=\"0.76\"/>\n",
       "          </shape>\n",
       "        </transform>\n",
       "        <transform translation=\"1.634236 0.6140539999999999 0.0\">\n",
       "          <shape>\n",
       "            <appearance>\n",
       "              <material diffuseColor=\"1.0 1.0 1.0\"/>\n",
       "            </appearance>\n",
       "            <sphere radius=\"0.31\"/>\n",
       "          </shape>\n",
       "        </transform>\n",
       "        <transform translation=\"0.652475 -0.5963210000000001 0.8809459999999999\">\n",
       "          <shape>\n",
       "            <appearance>\n",
       "              <material diffuseColor=\"1.0 1.0 1.0\"/>\n",
       "            </appearance>\n",
       "            <sphere radius=\"0.31\"/>\n",
       "          </shape>\n",
       "        </transform>\n",
       "        <transform translation=\"0.652475 -0.5963210000000001 -0.8809459999999999\">\n",
       "          <shape>\n",
       "            <appearance>\n",
       "              <material diffuseColor=\"1.0 1.0 1.0\"/>\n",
       "            </appearance>\n",
       "            <sphere radius=\"0.31\"/>\n",
       "          </shape>\n",
       "        </transform>\n",
       "      </group>\n",
       "    </group>\n",
       "  </transform>\n",
       "</scene>\n",
       "<!--End of Inserted Scene-->\n",
       "\n",
       "        </X3D>\n",
       "    </body>\n",
       "</html>\n",
       "\n"
      ],
      "text/plain": [
       "<IPython.core.display.HTML object>"
      ]
     },
     "execution_count": 10,
     "metadata": {},
     "output_type": "execute_result"
    }
   ],
   "source": [
    "view_x3d(atoms)"
   ]
  },
  {
   "cell_type": "markdown",
   "id": "48eb0b68-5362-460a-9143-9ea5915d2479",
   "metadata": {},
   "source": [
    "周期構造を持つ系を回転させた場合、以下のように、Cellはそのままで原子の座標のみが回転されるため、原子はCellからはみ出してしまいます。"
   ]
  },
  {
   "cell_type": "code",
   "execution_count": 11,
   "id": "181dd58d-f0d9-4933-915c-e23de7b02e33",
   "metadata": {},
   "outputs": [
    {
     "data": {
      "text/html": [
       "<html>\n",
       "    <head>\n",
       "        <title>ASE atomic visualization</title>\n",
       "        <link rel=\"stylesheet\" type=\"text/css\"             href=\"https://www.x3dom.org/release/x3dom.css\"></link>\n",
       "        <script type=\"text/javascript\"             src=\"https://www.x3dom.org/release/x3dom.js\"></script>\n",
       "    </head>\n",
       "    <body>\n",
       "        <X3D width=\"400px\"; height=\"300px\";>\n",
       "\n",
       "<!--Inserting Generated X3D Scene-->\n",
       "<scene>\n",
       "  <viewpoint position=\"0 0 22.96\">\n",
       "    <group/>\n",
       "  </viewpoint>\n",
       "  <transform translation=\"1.435 2.1525 2.87\">\n",
       "    <group>\n",
       "      <group>\n",
       "        <transform translation=\"0 0 0\">\n",
       "          <shape>\n",
       "            <appearance>\n",
       "              <material diffuseColor=\"0 0 0\"/>\n",
       "            </appearance>\n",
       "            <lineset vertexCount=\"5\">\n",
       "              <coordinate point=\"0 0 0 -2.87 2.87 2.87 1.4349999999999996 -1.4349999999999996 7.175 4.305 -4.305 4.305 0 0 0\"/>\n",
       "            </lineset>\n",
       "          </shape>\n",
       "        </transform>\n",
       "        <transform translation=\"5.74 5.74 -5.74\">\n",
       "          <shape>\n",
       "            <appearance>\n",
       "              <material diffuseColor=\"0 0 0\"/>\n",
       "            </appearance>\n",
       "            <lineset vertexCount=\"5\">\n",
       "              <coordinate point=\"0 0 0 -2.87 2.87 2.87 1.4349999999999996 -1.4349999999999996 7.175 4.305 -4.305 4.305 0 0 0\"/>\n",
       "            </lineset>\n",
       "          </shape>\n",
       "        </transform>\n",
       "        <transform translation=\"0 0 0\">\n",
       "          <shape>\n",
       "            <appearance>\n",
       "              <material diffuseColor=\"0 0 0\"/>\n",
       "            </appearance>\n",
       "            <lineset vertexCount=\"5\">\n",
       "              <coordinate point=\"0 0 0 -2.87 2.87 2.87 2.87 8.61 -2.87 5.74 5.74 -5.74 0 0 0\"/>\n",
       "            </lineset>\n",
       "          </shape>\n",
       "        </transform>\n",
       "        <transform translation=\"4.305 -4.305 4.305\">\n",
       "          <shape>\n",
       "            <appearance>\n",
       "              <material diffuseColor=\"0 0 0\"/>\n",
       "            </appearance>\n",
       "            <lineset vertexCount=\"5\">\n",
       "              <coordinate point=\"0 0 0 -2.87 2.87 2.87 2.87 8.61 -2.87 5.74 5.74 -5.74 0 0 0\"/>\n",
       "            </lineset>\n",
       "          </shape>\n",
       "        </transform>\n",
       "      </group>\n",
       "      <group>\n",
       "        <transform translation=\"0.0 0.0 0.0\">\n",
       "          <shape>\n",
       "            <appearance>\n",
       "              <material diffuseColor=\"0.878 0.4 0.2\"/>\n",
       "            </appearance>\n",
       "            <sphere radius=\"1.32\"/>\n",
       "          </shape>\n",
       "        </transform>\n",
       "        <transform translation=\"-1.435 1.435 -1.4349999999999998\">\n",
       "          <shape>\n",
       "            <appearance>\n",
       "              <material diffuseColor=\"0.878 0.4 0.2\"/>\n",
       "            </appearance>\n",
       "            <sphere radius=\"1.32\"/>\n",
       "          </shape>\n",
       "        </transform>\n",
       "        <transform translation=\"-2.87 2.87 -2.8699999999999997\">\n",
       "          <shape>\n",
       "            <appearance>\n",
       "              <material diffuseColor=\"0.878 0.4 0.2\"/>\n",
       "            </appearance>\n",
       "            <sphere radius=\"1.32\"/>\n",
       "          </shape>\n",
       "        </transform>\n",
       "        <transform translation=\"-4.305 4.305 -4.304999999999999\">\n",
       "          <shape>\n",
       "            <appearance>\n",
       "              <material diffuseColor=\"0.878 0.4 0.2\"/>\n",
       "            </appearance>\n",
       "            <sphere radius=\"1.32\"/>\n",
       "          </shape>\n",
       "        </transform>\n",
       "        <transform translation=\"1.435 1.435 1.4349999999999998\">\n",
       "          <shape>\n",
       "            <appearance>\n",
       "              <material diffuseColor=\"0.878 0.4 0.2\"/>\n",
       "            </appearance>\n",
       "            <sphere radius=\"1.32\"/>\n",
       "          </shape>\n",
       "        </transform>\n",
       "        <transform translation=\"1.757368156776452e-16 2.87 0.0\">\n",
       "          <shape>\n",
       "            <appearance>\n",
       "              <material diffuseColor=\"0.878 0.4 0.2\"/>\n",
       "            </appearance>\n",
       "            <sphere radius=\"1.32\"/>\n",
       "          </shape>\n",
       "        </transform>\n",
       "        <transform translation=\"-1.4349999999999998 4.305 -1.4349999999999998\">\n",
       "          <shape>\n",
       "            <appearance>\n",
       "              <material diffuseColor=\"0.878 0.4 0.2\"/>\n",
       "            </appearance>\n",
       "            <sphere radius=\"1.32\"/>\n",
       "          </shape>\n",
       "        </transform>\n",
       "        <transform translation=\"-2.8699999999999997 5.74 -2.8699999999999997\">\n",
       "          <shape>\n",
       "            <appearance>\n",
       "              <material diffuseColor=\"0.878 0.4 0.2\"/>\n",
       "            </appearance>\n",
       "            <sphere radius=\"1.32\"/>\n",
       "          </shape>\n",
       "        </transform>\n",
       "        <transform translation=\"2.87 2.87 2.8699999999999997\">\n",
       "          <shape>\n",
       "            <appearance>\n",
       "              <material diffuseColor=\"0.878 0.4 0.2\"/>\n",
       "            </appearance>\n",
       "            <sphere radius=\"1.32\"/>\n",
       "          </shape>\n",
       "        </transform>\n",
       "        <transform translation=\"1.4350000000000003 4.305 1.4349999999999998\">\n",
       "          <shape>\n",
       "            <appearance>\n",
       "              <material diffuseColor=\"0.878 0.4 0.2\"/>\n",
       "            </appearance>\n",
       "            <sphere radius=\"1.32\"/>\n",
       "          </shape>\n",
       "        </transform>\n",
       "        <transform translation=\"3.514736313552904e-16 5.74 0.0\">\n",
       "          <shape>\n",
       "            <appearance>\n",
       "              <material diffuseColor=\"0.878 0.4 0.2\"/>\n",
       "            </appearance>\n",
       "            <sphere radius=\"1.32\"/>\n",
       "          </shape>\n",
       "        </transform>\n",
       "        <transform translation=\"-1.4349999999999996 7.175000000000001 -1.4349999999999998\">\n",
       "          <shape>\n",
       "            <appearance>\n",
       "              <material diffuseColor=\"0.878 0.4 0.2\"/>\n",
       "            </appearance>\n",
       "            <sphere radius=\"1.32\"/>\n",
       "          </shape>\n",
       "        </transform>\n",
       "        <transform translation=\"-1.435 -1.435 1.4349999999999998\">\n",
       "          <shape>\n",
       "            <appearance>\n",
       "              <material diffuseColor=\"0.878 0.4 0.2\"/>\n",
       "            </appearance>\n",
       "            <sphere radius=\"1.32\"/>\n",
       "          </shape>\n",
       "        </transform>\n",
       "        <transform translation=\"-2.87 1.757368156776452e-16 0.0\">\n",
       "          <shape>\n",
       "            <appearance>\n",
       "              <material diffuseColor=\"0.878 0.4 0.2\"/>\n",
       "            </appearance>\n",
       "            <sphere radius=\"1.32\"/>\n",
       "          </shape>\n",
       "        </transform>\n",
       "        <transform translation=\"-4.305 1.4350000000000003 -1.4349999999999998\">\n",
       "          <shape>\n",
       "            <appearance>\n",
       "              <material diffuseColor=\"0.878 0.4 0.2\"/>\n",
       "            </appearance>\n",
       "            <sphere radius=\"1.32\"/>\n",
       "          </shape>\n",
       "        </transform>\n",
       "        <transform translation=\"-5.74 2.8700000000000006 -2.8699999999999997\">\n",
       "          <shape>\n",
       "            <appearance>\n",
       "              <material diffuseColor=\"0.878 0.4 0.2\"/>\n",
       "            </appearance>\n",
       "            <sphere radius=\"1.32\"/>\n",
       "          </shape>\n",
       "        </transform>\n",
       "        <transform translation=\"0.0 0.0 2.8699999999999997\">\n",
       "          <shape>\n",
       "            <appearance>\n",
       "              <material diffuseColor=\"0.878 0.4 0.2\"/>\n",
       "            </appearance>\n",
       "            <sphere radius=\"1.32\"/>\n",
       "          </shape>\n",
       "        </transform>\n",
       "        <transform translation=\"-1.435 1.435 1.4349999999999998\">\n",
       "          <shape>\n",
       "            <appearance>\n",
       "              <material diffuseColor=\"0.878 0.4 0.2\"/>\n",
       "            </appearance>\n",
       "            <sphere radius=\"1.32\"/>\n",
       "          </shape>\n",
       "        </transform>\n",
       "        <transform translation=\"-2.87 2.87 0.0\">\n",
       "          <shape>\n",
       "            <appearance>\n",
       "              <material diffuseColor=\"0.878 0.4 0.2\"/>\n",
       "            </appearance>\n",
       "            <sphere radius=\"1.32\"/>\n",
       "          </shape>\n",
       "        </transform>\n",
       "        <transform translation=\"-4.305 4.305 -1.4349999999999998\">\n",
       "          <shape>\n",
       "            <appearance>\n",
       "              <material diffuseColor=\"0.878 0.4 0.2\"/>\n",
       "            </appearance>\n",
       "            <sphere radius=\"1.32\"/>\n",
       "          </shape>\n",
       "        </transform>\n",
       "        <transform translation=\"1.435 1.435 4.304999999999999\">\n",
       "          <shape>\n",
       "            <appearance>\n",
       "              <material diffuseColor=\"0.878 0.4 0.2\"/>\n",
       "            </appearance>\n",
       "            <sphere radius=\"1.32\"/>\n",
       "          </shape>\n",
       "        </transform>\n",
       "        <transform translation=\"1.757368156776452e-16 2.87 2.869999999999999\">\n",
       "          <shape>\n",
       "            <appearance>\n",
       "              <material diffuseColor=\"0.878 0.4 0.2\"/>\n",
       "            </appearance>\n",
       "            <sphere radius=\"1.32\"/>\n",
       "          </shape>\n",
       "        </transform>\n",
       "        <transform translation=\"-1.4349999999999998 4.305 1.4349999999999994\">\n",
       "          <shape>\n",
       "            <appearance>\n",
       "              <material diffuseColor=\"0.878 0.4 0.2\"/>\n",
       "            </appearance>\n",
       "            <sphere radius=\"1.32\"/>\n",
       "          </shape>\n",
       "        </transform>\n",
       "        <transform translation=\"-2.8699999999999997 5.74 -4.440892098500626e-16\">\n",
       "          <shape>\n",
       "            <appearance>\n",
       "              <material diffuseColor=\"0.878 0.4 0.2\"/>\n",
       "            </appearance>\n",
       "            <sphere radius=\"1.32\"/>\n",
       "          </shape>\n",
       "        </transform>\n",
       "      </group>\n",
       "    </group>\n",
       "  </transform>\n",
       "</scene>\n",
       "<!--End of Inserted Scene-->\n",
       "\n",
       "        </X3D>\n",
       "    </body>\n",
       "</html>\n",
       "\n"
      ],
      "text/plain": [
       "<IPython.core.display.HTML object>"
      ]
     },
     "execution_count": 11,
     "metadata": {},
     "output_type": "execute_result"
    }
   ],
   "source": [
    "atoms = bulk(\"Fe\") * (2, 3, 4)\n",
    "\n",
    "atoms.rotate(90, v=[0, 0, 1])\n",
    "view_x3d(atoms)"
   ]
  },
  {
   "cell_type": "markdown",
   "id": "a1bd9d89-a906-4c53-9b27-f284c68df485",
   "metadata": {},
   "source": [
    "Cellの座標も同時に回転させるには、 `rotate_cell=True` とします。"
   ]
  },
  {
   "cell_type": "code",
   "execution_count": 12,
   "id": "3516de14-5e12-47ba-a0a8-0c1b043b0371",
   "metadata": {
    "tags": []
   },
   "outputs": [
    {
     "data": {
      "text/html": [
       "<html>\n",
       "    <head>\n",
       "        <title>ASE atomic visualization</title>\n",
       "        <link rel=\"stylesheet\" type=\"text/css\"             href=\"https://www.x3dom.org/release/x3dom.css\"></link>\n",
       "        <script type=\"text/javascript\"             src=\"https://www.x3dom.org/release/x3dom.js\"></script>\n",
       "    </head>\n",
       "    <body>\n",
       "        <X3D width=\"400px\"; height=\"300px\";>\n",
       "\n",
       "<!--Inserting Generated X3D Scene-->\n",
       "<scene>\n",
       "  <viewpoint position=\"0 0 20.090000000000003\">\n",
       "    <group/>\n",
       "  </viewpoint>\n",
       "  <transform translation=\"1.435 -2.1525 2.8699999999999997\">\n",
       "    <group>\n",
       "      <group>\n",
       "        <transform translation=\"0 0 0\">\n",
       "          <shape>\n",
       "            <appearance>\n",
       "              <material diffuseColor=\"0 0 0\"/>\n",
       "            </appearance>\n",
       "            <lineset vertexCount=\"5\">\n",
       "              <coordinate point=\"0 0 0 -2.87 -2.87 2.8699999999999997 1.4349999999999996 1.4349999999999996 7.174999999999999 4.305 4.305 4.304999999999999 0 0 0\"/>\n",
       "            </lineset>\n",
       "          </shape>\n",
       "        </transform>\n",
       "        <transform translation=\"-5.74 5.74 -5.739999999999999\">\n",
       "          <shape>\n",
       "            <appearance>\n",
       "              <material diffuseColor=\"0 0 0\"/>\n",
       "            </appearance>\n",
       "            <lineset vertexCount=\"5\">\n",
       "              <coordinate point=\"0 0 0 -2.87 -2.87 2.8699999999999997 1.4349999999999996 1.4349999999999996 7.174999999999999 4.305 4.305 4.304999999999999 0 0 0\"/>\n",
       "            </lineset>\n",
       "          </shape>\n",
       "        </transform>\n",
       "        <transform translation=\"0 0 0\">\n",
       "          <shape>\n",
       "            <appearance>\n",
       "              <material diffuseColor=\"0 0 0\"/>\n",
       "            </appearance>\n",
       "            <lineset vertexCount=\"5\">\n",
       "              <coordinate point=\"0 0 0 -2.87 -2.87 2.8699999999999997 -8.61 2.87 -2.8699999999999997 -5.74 5.74 -5.739999999999999 0 0 0\"/>\n",
       "            </lineset>\n",
       "          </shape>\n",
       "        </transform>\n",
       "        <transform translation=\"4.305 4.305 4.304999999999999\">\n",
       "          <shape>\n",
       "            <appearance>\n",
       "              <material diffuseColor=\"0 0 0\"/>\n",
       "            </appearance>\n",
       "            <lineset vertexCount=\"5\">\n",
       "              <coordinate point=\"0 0 0 -2.87 -2.87 2.8699999999999997 -8.61 2.87 -2.8699999999999997 -5.74 5.74 -5.739999999999999 0 0 0\"/>\n",
       "            </lineset>\n",
       "          </shape>\n",
       "        </transform>\n",
       "      </group>\n",
       "      <group>\n",
       "        <transform translation=\"0.0 0.0 0.0\">\n",
       "          <shape>\n",
       "            <appearance>\n",
       "              <material diffuseColor=\"0.878 0.4 0.2\"/>\n",
       "            </appearance>\n",
       "            <sphere radius=\"1.32\"/>\n",
       "          </shape>\n",
       "        </transform>\n",
       "        <transform translation=\"-1.435 1.435 -1.4349999999999998\">\n",
       "          <shape>\n",
       "            <appearance>\n",
       "              <material diffuseColor=\"0.878 0.4 0.2\"/>\n",
       "            </appearance>\n",
       "            <sphere radius=\"1.32\"/>\n",
       "          </shape>\n",
       "        </transform>\n",
       "        <transform translation=\"-2.87 2.87 -2.8699999999999997\">\n",
       "          <shape>\n",
       "            <appearance>\n",
       "              <material diffuseColor=\"0.878 0.4 0.2\"/>\n",
       "            </appearance>\n",
       "            <sphere radius=\"1.32\"/>\n",
       "          </shape>\n",
       "        </transform>\n",
       "        <transform translation=\"-4.305 4.305 -4.304999999999999\">\n",
       "          <shape>\n",
       "            <appearance>\n",
       "              <material diffuseColor=\"0.878 0.4 0.2\"/>\n",
       "            </appearance>\n",
       "            <sphere radius=\"1.32\"/>\n",
       "          </shape>\n",
       "        </transform>\n",
       "        <transform translation=\"1.435 1.435 1.4349999999999998\">\n",
       "          <shape>\n",
       "            <appearance>\n",
       "              <material diffuseColor=\"0.878 0.4 0.2\"/>\n",
       "            </appearance>\n",
       "            <sphere radius=\"1.32\"/>\n",
       "          </shape>\n",
       "        </transform>\n",
       "        <transform translation=\"1.757368156776452e-16 2.87 0.0\">\n",
       "          <shape>\n",
       "            <appearance>\n",
       "              <material diffuseColor=\"0.878 0.4 0.2\"/>\n",
       "            </appearance>\n",
       "            <sphere radius=\"1.32\"/>\n",
       "          </shape>\n",
       "        </transform>\n",
       "        <transform translation=\"-1.4349999999999998 4.305 -1.4349999999999998\">\n",
       "          <shape>\n",
       "            <appearance>\n",
       "              <material diffuseColor=\"0.878 0.4 0.2\"/>\n",
       "            </appearance>\n",
       "            <sphere radius=\"1.32\"/>\n",
       "          </shape>\n",
       "        </transform>\n",
       "        <transform translation=\"-2.8699999999999997 5.74 -2.8699999999999997\">\n",
       "          <shape>\n",
       "            <appearance>\n",
       "              <material diffuseColor=\"0.878 0.4 0.2\"/>\n",
       "            </appearance>\n",
       "            <sphere radius=\"1.32\"/>\n",
       "          </shape>\n",
       "        </transform>\n",
       "        <transform translation=\"2.87 2.87 2.8699999999999997\">\n",
       "          <shape>\n",
       "            <appearance>\n",
       "              <material diffuseColor=\"0.878 0.4 0.2\"/>\n",
       "            </appearance>\n",
       "            <sphere radius=\"1.32\"/>\n",
       "          </shape>\n",
       "        </transform>\n",
       "        <transform translation=\"1.4350000000000003 4.305 1.4349999999999998\">\n",
       "          <shape>\n",
       "            <appearance>\n",
       "              <material diffuseColor=\"0.878 0.4 0.2\"/>\n",
       "            </appearance>\n",
       "            <sphere radius=\"1.32\"/>\n",
       "          </shape>\n",
       "        </transform>\n",
       "        <transform translation=\"3.514736313552904e-16 5.74 0.0\">\n",
       "          <shape>\n",
       "            <appearance>\n",
       "              <material diffuseColor=\"0.878 0.4 0.2\"/>\n",
       "            </appearance>\n",
       "            <sphere radius=\"1.32\"/>\n",
       "          </shape>\n",
       "        </transform>\n",
       "        <transform translation=\"-1.4349999999999996 7.175000000000001 -1.4349999999999998\">\n",
       "          <shape>\n",
       "            <appearance>\n",
       "              <material diffuseColor=\"0.878 0.4 0.2\"/>\n",
       "            </appearance>\n",
       "            <sphere radius=\"1.32\"/>\n",
       "          </shape>\n",
       "        </transform>\n",
       "        <transform translation=\"-1.435 -1.435 1.4349999999999998\">\n",
       "          <shape>\n",
       "            <appearance>\n",
       "              <material diffuseColor=\"0.878 0.4 0.2\"/>\n",
       "            </appearance>\n",
       "            <sphere radius=\"1.32\"/>\n",
       "          </shape>\n",
       "        </transform>\n",
       "        <transform translation=\"-2.87 1.757368156776452e-16 0.0\">\n",
       "          <shape>\n",
       "            <appearance>\n",
       "              <material diffuseColor=\"0.878 0.4 0.2\"/>\n",
       "            </appearance>\n",
       "            <sphere radius=\"1.32\"/>\n",
       "          </shape>\n",
       "        </transform>\n",
       "        <transform translation=\"-4.305 1.4350000000000003 -1.4349999999999998\">\n",
       "          <shape>\n",
       "            <appearance>\n",
       "              <material diffuseColor=\"0.878 0.4 0.2\"/>\n",
       "            </appearance>\n",
       "            <sphere radius=\"1.32\"/>\n",
       "          </shape>\n",
       "        </transform>\n",
       "        <transform translation=\"-5.74 2.8700000000000006 -2.8699999999999997\">\n",
       "          <shape>\n",
       "            <appearance>\n",
       "              <material diffuseColor=\"0.878 0.4 0.2\"/>\n",
       "            </appearance>\n",
       "            <sphere radius=\"1.32\"/>\n",
       "          </shape>\n",
       "        </transform>\n",
       "        <transform translation=\"0.0 0.0 2.8699999999999997\">\n",
       "          <shape>\n",
       "            <appearance>\n",
       "              <material diffuseColor=\"0.878 0.4 0.2\"/>\n",
       "            </appearance>\n",
       "            <sphere radius=\"1.32\"/>\n",
       "          </shape>\n",
       "        </transform>\n",
       "        <transform translation=\"-1.435 1.435 1.4349999999999998\">\n",
       "          <shape>\n",
       "            <appearance>\n",
       "              <material diffuseColor=\"0.878 0.4 0.2\"/>\n",
       "            </appearance>\n",
       "            <sphere radius=\"1.32\"/>\n",
       "          </shape>\n",
       "        </transform>\n",
       "        <transform translation=\"-2.87 2.87 0.0\">\n",
       "          <shape>\n",
       "            <appearance>\n",
       "              <material diffuseColor=\"0.878 0.4 0.2\"/>\n",
       "            </appearance>\n",
       "            <sphere radius=\"1.32\"/>\n",
       "          </shape>\n",
       "        </transform>\n",
       "        <transform translation=\"-4.305 4.305 -1.4349999999999998\">\n",
       "          <shape>\n",
       "            <appearance>\n",
       "              <material diffuseColor=\"0.878 0.4 0.2\"/>\n",
       "            </appearance>\n",
       "            <sphere radius=\"1.32\"/>\n",
       "          </shape>\n",
       "        </transform>\n",
       "        <transform translation=\"1.435 1.435 4.304999999999999\">\n",
       "          <shape>\n",
       "            <appearance>\n",
       "              <material diffuseColor=\"0.878 0.4 0.2\"/>\n",
       "            </appearance>\n",
       "            <sphere radius=\"1.32\"/>\n",
       "          </shape>\n",
       "        </transform>\n",
       "        <transform translation=\"1.757368156776452e-16 2.87 2.869999999999999\">\n",
       "          <shape>\n",
       "            <appearance>\n",
       "              <material diffuseColor=\"0.878 0.4 0.2\"/>\n",
       "            </appearance>\n",
       "            <sphere radius=\"1.32\"/>\n",
       "          </shape>\n",
       "        </transform>\n",
       "        <transform translation=\"-1.4349999999999998 4.305 1.4349999999999994\">\n",
       "          <shape>\n",
       "            <appearance>\n",
       "              <material diffuseColor=\"0.878 0.4 0.2\"/>\n",
       "            </appearance>\n",
       "            <sphere radius=\"1.32\"/>\n",
       "          </shape>\n",
       "        </transform>\n",
       "        <transform translation=\"-2.8699999999999997 5.74 -4.440892098500626e-16\">\n",
       "          <shape>\n",
       "            <appearance>\n",
       "              <material diffuseColor=\"0.878 0.4 0.2\"/>\n",
       "            </appearance>\n",
       "            <sphere radius=\"1.32\"/>\n",
       "          </shape>\n",
       "        </transform>\n",
       "      </group>\n",
       "    </group>\n",
       "  </transform>\n",
       "</scene>\n",
       "<!--End of Inserted Scene-->\n",
       "\n",
       "        </X3D>\n",
       "    </body>\n",
       "</html>\n",
       "\n"
      ],
      "text/plain": [
       "<IPython.core.display.HTML object>"
      ]
     },
     "execution_count": 12,
     "metadata": {},
     "output_type": "execute_result"
    }
   ],
   "source": [
    "atoms = bulk(\"Fe\") * (2, 3, 4)\n",
    "\n",
    "atoms.rotate(90, v=[0, 0, 1], rotate_cell=True)\n",
    "view_x3d(atoms)"
   ]
  },
  {
   "cell_type": "markdown",
   "id": "86d0168f-53cd-4d67-8e2c-f4a69c360682",
   "metadata": {},
   "source": [
    "## ランダム移動\n",
    "\n",
    "`rattle` 関数を使うと、それぞれの原子をランダム移動させて少し乱雑な構造を作成することができます。\n",
    "\n",
    "ここでは、まずSi 結晶を作成します。"
   ]
  },
  {
   "cell_type": "code",
   "execution_count": 13,
   "id": "d5b45d68-f58b-44e4-9bae-c57f59ab9d7e",
   "metadata": {},
   "outputs": [
    {
     "data": {
      "text/html": [
       "<html>\n",
       "    <head>\n",
       "        <title>ASE atomic visualization</title>\n",
       "        <link rel=\"stylesheet\" type=\"text/css\"             href=\"https://www.x3dom.org/release/x3dom.css\"></link>\n",
       "        <script type=\"text/javascript\"             src=\"https://www.x3dom.org/release/x3dom.js\"></script>\n",
       "    </head>\n",
       "    <body>\n",
       "        <X3D width=\"400px\"; height=\"300px\";>\n",
       "\n",
       "<!--Inserting Generated X3D Scene-->\n",
       "<scene>\n",
       "  <viewpoint position=\"0 0 29.865\">\n",
       "    <group/>\n",
       "  </viewpoint>\n",
       "  <transform translation=\"-0.0 -0.0 -0.0\">\n",
       "    <group>\n",
       "      <group>\n",
       "        <transform translation=\"0 0 0\">\n",
       "          <shape>\n",
       "            <appearance>\n",
       "              <material diffuseColor=\"0 0 0\"/>\n",
       "            </appearance>\n",
       "            <lineset vertexCount=\"5\">\n",
       "              <coordinate point=\"0 0 0 0.0 5.43 5.43 8.145 5.43 13.575 8.145 0.0 8.145 0 0 0\"/>\n",
       "            </lineset>\n",
       "          </shape>\n",
       "        </transform>\n",
       "        <transform translation=\"10.86 10.86 0.0\">\n",
       "          <shape>\n",
       "            <appearance>\n",
       "              <material diffuseColor=\"0 0 0\"/>\n",
       "            </appearance>\n",
       "            <lineset vertexCount=\"5\">\n",
       "              <coordinate point=\"0 0 0 0.0 5.43 5.43 8.145 5.43 13.575 8.145 0.0 8.145 0 0 0\"/>\n",
       "            </lineset>\n",
       "          </shape>\n",
       "        </transform>\n",
       "        <transform translation=\"0 0 0\">\n",
       "          <shape>\n",
       "            <appearance>\n",
       "              <material diffuseColor=\"0 0 0\"/>\n",
       "            </appearance>\n",
       "            <lineset vertexCount=\"5\">\n",
       "              <coordinate point=\"0 0 0 0.0 5.43 5.43 10.86 16.29 5.43 10.86 10.86 0.0 0 0 0\"/>\n",
       "            </lineset>\n",
       "          </shape>\n",
       "        </transform>\n",
       "        <transform translation=\"8.145 0.0 8.145\">\n",
       "          <shape>\n",
       "            <appearance>\n",
       "              <material diffuseColor=\"0 0 0\"/>\n",
       "            </appearance>\n",
       "            <lineset vertexCount=\"5\">\n",
       "              <coordinate point=\"0 0 0 0.0 5.43 5.43 10.86 16.29 5.43 10.86 10.86 0.0 0 0 0\"/>\n",
       "            </lineset>\n",
       "          </shape>\n",
       "        </transform>\n",
       "      </group>\n",
       "      <group>\n",
       "        <transform translation=\"0.0 0.0 0.0\">\n",
       "          <shape>\n",
       "            <appearance>\n",
       "              <material diffuseColor=\"0.941 0.784 0.627\"/>\n",
       "            </appearance>\n",
       "            <sphere radius=\"1.11\"/>\n",
       "          </shape>\n",
       "        </transform>\n",
       "        <transform translation=\"1.3575 1.3575 1.3575\">\n",
       "          <shape>\n",
       "            <appearance>\n",
       "              <material diffuseColor=\"0.941 0.784 0.627\"/>\n",
       "            </appearance>\n",
       "            <sphere radius=\"1.11\"/>\n",
       "          </shape>\n",
       "        </transform>\n",
       "        <transform translation=\"2.715 2.715 0.0\">\n",
       "          <shape>\n",
       "            <appearance>\n",
       "              <material diffuseColor=\"0.941 0.784 0.627\"/>\n",
       "            </appearance>\n",
       "            <sphere radius=\"1.11\"/>\n",
       "          </shape>\n",
       "        </transform>\n",
       "        <transform translation=\"4.0725 4.0725 1.3575\">\n",
       "          <shape>\n",
       "            <appearance>\n",
       "              <material diffuseColor=\"0.941 0.784 0.627\"/>\n",
       "            </appearance>\n",
       "            <sphere radius=\"1.11\"/>\n",
       "          </shape>\n",
       "        </transform>\n",
       "        <transform translation=\"5.43 5.43 0.0\">\n",
       "          <shape>\n",
       "            <appearance>\n",
       "              <material diffuseColor=\"0.941 0.784 0.627\"/>\n",
       "            </appearance>\n",
       "            <sphere radius=\"1.11\"/>\n",
       "          </shape>\n",
       "        </transform>\n",
       "        <transform translation=\"6.7875 6.7875 1.3575\">\n",
       "          <shape>\n",
       "            <appearance>\n",
       "              <material diffuseColor=\"0.941 0.784 0.627\"/>\n",
       "            </appearance>\n",
       "            <sphere radius=\"1.11\"/>\n",
       "          </shape>\n",
       "        </transform>\n",
       "        <transform translation=\"8.145 8.145 0.0\">\n",
       "          <shape>\n",
       "            <appearance>\n",
       "              <material diffuseColor=\"0.941 0.784 0.627\"/>\n",
       "            </appearance>\n",
       "            <sphere radius=\"1.11\"/>\n",
       "          </shape>\n",
       "        </transform>\n",
       "        <transform translation=\"9.5025 9.5025 1.3575\">\n",
       "          <shape>\n",
       "            <appearance>\n",
       "              <material diffuseColor=\"0.941 0.784 0.627\"/>\n",
       "            </appearance>\n",
       "            <sphere radius=\"1.11\"/>\n",
       "          </shape>\n",
       "        </transform>\n",
       "        <transform translation=\"2.715 0.0 2.715\">\n",
       "          <shape>\n",
       "            <appearance>\n",
       "              <material diffuseColor=\"0.941 0.784 0.627\"/>\n",
       "            </appearance>\n",
       "            <sphere radius=\"1.11\"/>\n",
       "          </shape>\n",
       "        </transform>\n",
       "        <transform translation=\"4.0725 1.3575 4.0725\">\n",
       "          <shape>\n",
       "            <appearance>\n",
       "              <material diffuseColor=\"0.941 0.784 0.627\"/>\n",
       "            </appearance>\n",
       "            <sphere radius=\"1.11\"/>\n",
       "          </shape>\n",
       "        </transform>\n",
       "        <transform translation=\"5.43 2.715 2.715\">\n",
       "          <shape>\n",
       "            <appearance>\n",
       "              <material diffuseColor=\"0.941 0.784 0.627\"/>\n",
       "            </appearance>\n",
       "            <sphere radius=\"1.11\"/>\n",
       "          </shape>\n",
       "        </transform>\n",
       "        <transform translation=\"6.7875 4.0725 4.0725\">\n",
       "          <shape>\n",
       "            <appearance>\n",
       "              <material diffuseColor=\"0.941 0.784 0.627\"/>\n",
       "            </appearance>\n",
       "            <sphere radius=\"1.11\"/>\n",
       "          </shape>\n",
       "        </transform>\n",
       "        <transform translation=\"8.145 5.43 2.715\">\n",
       "          <shape>\n",
       "            <appearance>\n",
       "              <material diffuseColor=\"0.941 0.784 0.627\"/>\n",
       "            </appearance>\n",
       "            <sphere radius=\"1.11\"/>\n",
       "          </shape>\n",
       "        </transform>\n",
       "        <transform translation=\"9.5025 6.7875 4.0725\">\n",
       "          <shape>\n",
       "            <appearance>\n",
       "              <material diffuseColor=\"0.941 0.784 0.627\"/>\n",
       "            </appearance>\n",
       "            <sphere radius=\"1.11\"/>\n",
       "          </shape>\n",
       "        </transform>\n",
       "        <transform translation=\"10.86 8.145 2.715\">\n",
       "          <shape>\n",
       "            <appearance>\n",
       "              <material diffuseColor=\"0.941 0.784 0.627\"/>\n",
       "            </appearance>\n",
       "            <sphere radius=\"1.11\"/>\n",
       "          </shape>\n",
       "        </transform>\n",
       "        <transform translation=\"12.2175 9.5025 4.0725\">\n",
       "          <shape>\n",
       "            <appearance>\n",
       "              <material diffuseColor=\"0.941 0.784 0.627\"/>\n",
       "            </appearance>\n",
       "            <sphere radius=\"1.11\"/>\n",
       "          </shape>\n",
       "        </transform>\n",
       "        <transform translation=\"5.43 0.0 5.43\">\n",
       "          <shape>\n",
       "            <appearance>\n",
       "              <material diffuseColor=\"0.941 0.784 0.627\"/>\n",
       "            </appearance>\n",
       "            <sphere radius=\"1.11\"/>\n",
       "          </shape>\n",
       "        </transform>\n",
       "        <transform translation=\"6.7875 1.3575 6.7875\">\n",
       "          <shape>\n",
       "            <appearance>\n",
       "              <material diffuseColor=\"0.941 0.784 0.627\"/>\n",
       "            </appearance>\n",
       "            <sphere radius=\"1.11\"/>\n",
       "          </shape>\n",
       "        </transform>\n",
       "        <transform translation=\"8.145 2.715 5.43\">\n",
       "          <shape>\n",
       "            <appearance>\n",
       "              <material diffuseColor=\"0.941 0.784 0.627\"/>\n",
       "            </appearance>\n",
       "            <sphere radius=\"1.11\"/>\n",
       "          </shape>\n",
       "        </transform>\n",
       "        <transform translation=\"9.5025 4.0725 6.7875\">\n",
       "          <shape>\n",
       "            <appearance>\n",
       "              <material diffuseColor=\"0.941 0.784 0.627\"/>\n",
       "            </appearance>\n",
       "            <sphere radius=\"1.11\"/>\n",
       "          </shape>\n",
       "        </transform>\n",
       "        <transform translation=\"10.86 5.43 5.43\">\n",
       "          <shape>\n",
       "            <appearance>\n",
       "              <material diffuseColor=\"0.941 0.784 0.627\"/>\n",
       "            </appearance>\n",
       "            <sphere radius=\"1.11\"/>\n",
       "          </shape>\n",
       "        </transform>\n",
       "        <transform translation=\"12.2175 6.7875 6.7875\">\n",
       "          <shape>\n",
       "            <appearance>\n",
       "              <material diffuseColor=\"0.941 0.784 0.627\"/>\n",
       "            </appearance>\n",
       "            <sphere radius=\"1.11\"/>\n",
       "          </shape>\n",
       "        </transform>\n",
       "        <transform translation=\"13.575 8.145 5.43\">\n",
       "          <shape>\n",
       "            <appearance>\n",
       "              <material diffuseColor=\"0.941 0.784 0.627\"/>\n",
       "            </appearance>\n",
       "            <sphere radius=\"1.11\"/>\n",
       "          </shape>\n",
       "        </transform>\n",
       "        <transform translation=\"14.9325 9.5025 6.7875\">\n",
       "          <shape>\n",
       "            <appearance>\n",
       "              <material diffuseColor=\"0.941 0.784 0.627\"/>\n",
       "            </appearance>\n",
       "            <sphere radius=\"1.11\"/>\n",
       "          </shape>\n",
       "        </transform>\n",
       "        <transform translation=\"0.0 2.715 2.715\">\n",
       "          <shape>\n",
       "            <appearance>\n",
       "              <material diffuseColor=\"0.941 0.784 0.627\"/>\n",
       "            </appearance>\n",
       "            <sphere radius=\"1.11\"/>\n",
       "          </shape>\n",
       "        </transform>\n",
       "        <transform translation=\"1.3575 4.0725 4.0725\">\n",
       "          <shape>\n",
       "            <appearance>\n",
       "              <material diffuseColor=\"0.941 0.784 0.627\"/>\n",
       "            </appearance>\n",
       "            <sphere radius=\"1.11\"/>\n",
       "          </shape>\n",
       "        </transform>\n",
       "        <transform translation=\"2.715 5.43 2.715\">\n",
       "          <shape>\n",
       "            <appearance>\n",
       "              <material diffuseColor=\"0.941 0.784 0.627\"/>\n",
       "            </appearance>\n",
       "            <sphere radius=\"1.11\"/>\n",
       "          </shape>\n",
       "        </transform>\n",
       "        <transform translation=\"4.0725 6.7875 4.0725\">\n",
       "          <shape>\n",
       "            <appearance>\n",
       "              <material diffuseColor=\"0.941 0.784 0.627\"/>\n",
       "            </appearance>\n",
       "            <sphere radius=\"1.11\"/>\n",
       "          </shape>\n",
       "        </transform>\n",
       "        <transform translation=\"5.43 8.145 2.715\">\n",
       "          <shape>\n",
       "            <appearance>\n",
       "              <material diffuseColor=\"0.941 0.784 0.627\"/>\n",
       "            </appearance>\n",
       "            <sphere radius=\"1.11\"/>\n",
       "          </shape>\n",
       "        </transform>\n",
       "        <transform translation=\"6.7875 9.5025 4.0725\">\n",
       "          <shape>\n",
       "            <appearance>\n",
       "              <material diffuseColor=\"0.941 0.784 0.627\"/>\n",
       "            </appearance>\n",
       "            <sphere radius=\"1.11\"/>\n",
       "          </shape>\n",
       "        </transform>\n",
       "        <transform translation=\"8.145 10.86 2.715\">\n",
       "          <shape>\n",
       "            <appearance>\n",
       "              <material diffuseColor=\"0.941 0.784 0.627\"/>\n",
       "            </appearance>\n",
       "            <sphere radius=\"1.11\"/>\n",
       "          </shape>\n",
       "        </transform>\n",
       "        <transform translation=\"9.5025 12.2175 4.0725\">\n",
       "          <shape>\n",
       "            <appearance>\n",
       "              <material diffuseColor=\"0.941 0.784 0.627\"/>\n",
       "            </appearance>\n",
       "            <sphere radius=\"1.11\"/>\n",
       "          </shape>\n",
       "        </transform>\n",
       "        <transform translation=\"2.715 2.715 5.43\">\n",
       "          <shape>\n",
       "            <appearance>\n",
       "              <material diffuseColor=\"0.941 0.784 0.627\"/>\n",
       "            </appearance>\n",
       "            <sphere radius=\"1.11\"/>\n",
       "          </shape>\n",
       "        </transform>\n",
       "        <transform translation=\"4.0725 4.0725 6.7875\">\n",
       "          <shape>\n",
       "            <appearance>\n",
       "              <material diffuseColor=\"0.941 0.784 0.627\"/>\n",
       "            </appearance>\n",
       "            <sphere radius=\"1.11\"/>\n",
       "          </shape>\n",
       "        </transform>\n",
       "        <transform translation=\"5.43 5.43 5.43\">\n",
       "          <shape>\n",
       "            <appearance>\n",
       "              <material diffuseColor=\"0.941 0.784 0.627\"/>\n",
       "            </appearance>\n",
       "            <sphere radius=\"1.11\"/>\n",
       "          </shape>\n",
       "        </transform>\n",
       "        <transform translation=\"6.7875 6.7875 6.7875\">\n",
       "          <shape>\n",
       "            <appearance>\n",
       "              <material diffuseColor=\"0.941 0.784 0.627\"/>\n",
       "            </appearance>\n",
       "            <sphere radius=\"1.11\"/>\n",
       "          </shape>\n",
       "        </transform>\n",
       "        <transform translation=\"8.145 8.145 5.43\">\n",
       "          <shape>\n",
       "            <appearance>\n",
       "              <material diffuseColor=\"0.941 0.784 0.627\"/>\n",
       "            </appearance>\n",
       "            <sphere radius=\"1.11\"/>\n",
       "          </shape>\n",
       "        </transform>\n",
       "        <transform translation=\"9.5025 9.5025 6.7875\">\n",
       "          <shape>\n",
       "            <appearance>\n",
       "              <material diffuseColor=\"0.941 0.784 0.627\"/>\n",
       "            </appearance>\n",
       "            <sphere radius=\"1.11\"/>\n",
       "          </shape>\n",
       "        </transform>\n",
       "        <transform translation=\"10.86 10.86 5.43\">\n",
       "          <shape>\n",
       "            <appearance>\n",
       "              <material diffuseColor=\"0.941 0.784 0.627\"/>\n",
       "            </appearance>\n",
       "            <sphere radius=\"1.11\"/>\n",
       "          </shape>\n",
       "        </transform>\n",
       "        <transform translation=\"12.2175 12.2175 6.7875\">\n",
       "          <shape>\n",
       "            <appearance>\n",
       "              <material diffuseColor=\"0.941 0.784 0.627\"/>\n",
       "            </appearance>\n",
       "            <sphere radius=\"1.11\"/>\n",
       "          </shape>\n",
       "        </transform>\n",
       "        <transform translation=\"5.43 2.715 8.145\">\n",
       "          <shape>\n",
       "            <appearance>\n",
       "              <material diffuseColor=\"0.941 0.784 0.627\"/>\n",
       "            </appearance>\n",
       "            <sphere radius=\"1.11\"/>\n",
       "          </shape>\n",
       "        </transform>\n",
       "        <transform translation=\"6.7875 4.0725 9.5025\">\n",
       "          <shape>\n",
       "            <appearance>\n",
       "              <material diffuseColor=\"0.941 0.784 0.627\"/>\n",
       "            </appearance>\n",
       "            <sphere radius=\"1.11\"/>\n",
       "          </shape>\n",
       "        </transform>\n",
       "        <transform translation=\"8.145 5.43 8.145\">\n",
       "          <shape>\n",
       "            <appearance>\n",
       "              <material diffuseColor=\"0.941 0.784 0.627\"/>\n",
       "            </appearance>\n",
       "            <sphere radius=\"1.11\"/>\n",
       "          </shape>\n",
       "        </transform>\n",
       "        <transform translation=\"9.5025 6.7875 9.5025\">\n",
       "          <shape>\n",
       "            <appearance>\n",
       "              <material diffuseColor=\"0.941 0.784 0.627\"/>\n",
       "            </appearance>\n",
       "            <sphere radius=\"1.11\"/>\n",
       "          </shape>\n",
       "        </transform>\n",
       "        <transform translation=\"10.86 8.145 8.145\">\n",
       "          <shape>\n",
       "            <appearance>\n",
       "              <material diffuseColor=\"0.941 0.784 0.627\"/>\n",
       "            </appearance>\n",
       "            <sphere radius=\"1.11\"/>\n",
       "          </shape>\n",
       "        </transform>\n",
       "        <transform translation=\"12.2175 9.5025 9.5025\">\n",
       "          <shape>\n",
       "            <appearance>\n",
       "              <material diffuseColor=\"0.941 0.784 0.627\"/>\n",
       "            </appearance>\n",
       "            <sphere radius=\"1.11\"/>\n",
       "          </shape>\n",
       "        </transform>\n",
       "        <transform translation=\"13.575 10.86 8.145\">\n",
       "          <shape>\n",
       "            <appearance>\n",
       "              <material diffuseColor=\"0.941 0.784 0.627\"/>\n",
       "            </appearance>\n",
       "            <sphere radius=\"1.11\"/>\n",
       "          </shape>\n",
       "        </transform>\n",
       "        <transform translation=\"14.9325 12.2175 9.5025\">\n",
       "          <shape>\n",
       "            <appearance>\n",
       "              <material diffuseColor=\"0.941 0.784 0.627\"/>\n",
       "            </appearance>\n",
       "            <sphere radius=\"1.11\"/>\n",
       "          </shape>\n",
       "        </transform>\n",
       "      </group>\n",
       "    </group>\n",
       "  </transform>\n",
       "</scene>\n",
       "<!--End of Inserted Scene-->\n",
       "\n",
       "        </X3D>\n",
       "    </body>\n",
       "</html>\n",
       "\n"
      ],
      "text/plain": [
       "<IPython.core.display.HTML object>"
      ]
     },
     "execution_count": 13,
     "metadata": {},
     "output_type": "execute_result"
    }
   ],
   "source": [
    "atoms = bulk(\"Si\") * (2, 3, 4)\n",
    "view_x3d(atoms)"
   ]
  },
  {
   "cell_type": "markdown",
   "id": "6cf86ef1-7a26-4ad3-b530-8eaf55737dda",
   "metadata": {},
   "source": [
    "この系を `rattle` で少し構造を乱してみます。変位の方向は`seed`の指定を変えることで、変えることができます。"
   ]
  },
  {
   "cell_type": "code",
   "execution_count": 14,
   "id": "fd860746-fc92-4d16-a413-01ba43f04455",
   "metadata": {},
   "outputs": [
    {
     "data": {
      "text/html": [
       "<html>\n",
       "    <head>\n",
       "        <title>ASE atomic visualization</title>\n",
       "        <link rel=\"stylesheet\" type=\"text/css\"             href=\"https://www.x3dom.org/release/x3dom.css\"></link>\n",
       "        <script type=\"text/javascript\"             src=\"https://www.x3dom.org/release/x3dom.js\"></script>\n",
       "    </head>\n",
       "    <body>\n",
       "        <X3D width=\"400px\"; height=\"300px\";>\n",
       "\n",
       "<!--Inserting Generated X3D Scene-->\n",
       "<scene>\n",
       "  <viewpoint position=\"0 0 29.82430165098834\">\n",
       "    <group/>\n",
       "  </viewpoint>\n",
       "  <transform translation=\"-0.0 -0.0 -0.0\">\n",
       "    <group>\n",
       "      <group>\n",
       "        <transform translation=\"0 0 0\">\n",
       "          <shape>\n",
       "            <appearance>\n",
       "              <material diffuseColor=\"0 0 0\"/>\n",
       "            </appearance>\n",
       "            <lineset vertexCount=\"5\">\n",
       "              <coordinate point=\"0 0 0 0.0 5.43 5.43 8.145 5.43 13.575 8.145 0.0 8.145 0 0 0\"/>\n",
       "            </lineset>\n",
       "          </shape>\n",
       "        </transform>\n",
       "        <transform translation=\"10.86 10.86 0.0\">\n",
       "          <shape>\n",
       "            <appearance>\n",
       "              <material diffuseColor=\"0 0 0\"/>\n",
       "            </appearance>\n",
       "            <lineset vertexCount=\"5\">\n",
       "              <coordinate point=\"0 0 0 0.0 5.43 5.43 8.145 5.43 13.575 8.145 0.0 8.145 0 0 0\"/>\n",
       "            </lineset>\n",
       "          </shape>\n",
       "        </transform>\n",
       "        <transform translation=\"0 0 0\">\n",
       "          <shape>\n",
       "            <appearance>\n",
       "              <material diffuseColor=\"0 0 0\"/>\n",
       "            </appearance>\n",
       "            <lineset vertexCount=\"5\">\n",
       "              <coordinate point=\"0 0 0 0.0 5.43 5.43 10.86 16.29 5.43 10.86 10.86 0.0 0 0 0\"/>\n",
       "            </lineset>\n",
       "          </shape>\n",
       "        </transform>\n",
       "        <transform translation=\"8.145 0.0 8.145\">\n",
       "          <shape>\n",
       "            <appearance>\n",
       "              <material diffuseColor=\"0 0 0\"/>\n",
       "            </appearance>\n",
       "            <lineset vertexCount=\"5\">\n",
       "              <coordinate point=\"0 0 0 0.0 5.43 5.43 10.86 16.29 5.43 10.86 10.86 0.0 0 0 0\"/>\n",
       "            </lineset>\n",
       "          </shape>\n",
       "        </transform>\n",
       "      </group>\n",
       "      <group>\n",
       "        <transform translation=\"0.32486907273264837 -0.12235128273001508 -0.10563435045269115\">\n",
       "          <shape>\n",
       "            <appearance>\n",
       "              <material diffuseColor=\"0.941 0.784 0.627\"/>\n",
       "            </appearance>\n",
       "            <sphere radius=\"1.11\"/>\n",
       "          </shape>\n",
       "        </transform>\n",
       "        <transform translation=\"1.1429062755687658 1.5305815258649356 0.8971922606239433\">\n",
       "          <shape>\n",
       "            <appearance>\n",
       "              <material diffuseColor=\"0.941 0.784 0.627\"/>\n",
       "            </appearance>\n",
       "            <sphere radius=\"1.11\"/>\n",
       "          </shape>\n",
       "        </transform>\n",
       "        <transform translation=\"3.063962352843296 2.562758619820979 0.06380781921141972\">\n",
       "          <shape>\n",
       "            <appearance>\n",
       "              <material diffuseColor=\"0.941 0.784 0.627\"/>\n",
       "            </appearance>\n",
       "            <sphere radius=\"1.11\"/>\n",
       "          </shape>\n",
       "        </transform>\n",
       "        <transform translation=\"4.022625924904518 4.364921587408995 0.9454718581004691\">\n",
       "          <shape>\n",
       "            <appearance>\n",
       "              <material diffuseColor=\"0.941 0.784 0.627\"/>\n",
       "            </appearance>\n",
       "            <sphere radius=\"1.11\"/>\n",
       "          </shape>\n",
       "        </transform>\n",
       "        <transform translation=\"5.365516559197299 5.353189129066316 0.2267538884670875\">\n",
       "          <shape>\n",
       "            <appearance>\n",
       "              <material diffuseColor=\"0.941 0.784 0.627\"/>\n",
       "            </appearance>\n",
       "            <sphere radius=\"1.11\"/>\n",
       "          </shape>\n",
       "        </transform>\n",
       "        <transform translation=\"6.567521746537193 6.753014358489913 1.1819283164157255\">\n",
       "          <shape>\n",
       "            <appearance>\n",
       "              <material diffuseColor=\"0.941 0.784 0.627\"/>\n",
       "            </appearance>\n",
       "            <sphere radius=\"1.11\"/>\n",
       "          </shape>\n",
       "        </transform>\n",
       "        <transform translation=\"8.153442749343117 8.261563042743164 -0.22012383544258426\">\n",
       "          <shape>\n",
       "            <appearance>\n",
       "              <material diffuseColor=\"0.941 0.784 0.627\"/>\n",
       "            </appearance>\n",
       "            <sphere radius=\"1.11\"/>\n",
       "          </shape>\n",
       "        </transform>\n",
       "        <transform translation=\"9.731444741967922 9.682818144118558 1.4579988677803737\">\n",
       "          <shape>\n",
       "            <appearance>\n",
       "              <material diffuseColor=\"0.941 0.784 0.627\"/>\n",
       "            </appearance>\n",
       "            <sphere radius=\"1.11\"/>\n",
       "          </shape>\n",
       "        </transform>\n",
       "        <transform translation=\"2.8951711898528822 -0.13674557183486663 2.6904219548962702\">\n",
       "          <shape>\n",
       "            <appearance>\n",
       "              <material diffuseColor=\"0.941 0.784 0.627\"/>\n",
       "            </appearance>\n",
       "            <sphere radius=\"1.11\"/>\n",
       "          </shape>\n",
       "        </transform>\n",
       "        <transform translation=\"3.885346113148186 1.3039223840747967 4.178571093347637\">\n",
       "          <shape>\n",
       "            <appearance>\n",
       "              <material diffuseColor=\"0.941 0.784 0.627\"/>\n",
       "            </appearance>\n",
       "            <sphere radius=\"1.11\"/>\n",
       "          </shape>\n",
       "        </transform>\n",
       "        <transform translation=\"5.291667849654938 2.6356492946288044 2.5775654599760798\">\n",
       "          <shape>\n",
       "            <appearance>\n",
       "              <material diffuseColor=\"0.941 0.784 0.627\"/>\n",
       "            </appearance>\n",
       "            <sphere radius=\"1.11\"/>\n",
       "          </shape>\n",
       "        </transform>\n",
       "        <transform translation=\"6.6184588717002555 3.9382507738326358 4.06996708021622\">\n",
       "          <shape>\n",
       "            <appearance>\n",
       "              <material diffuseColor=\"0.941 0.784 0.627\"/>\n",
       "            </appearance>\n",
       "            <sphere radius=\"1.11\"/>\n",
       "          </shape>\n",
       "        </transform>\n",
       "        <transform translation=\"7.921537930272944 5.4768831395634185 3.046960435421974\">\n",
       "          <shape>\n",
       "            <appearance>\n",
       "              <material diffuseColor=\"0.941 0.784 0.627\"/>\n",
       "            </appearance>\n",
       "            <sphere radius=\"1.11\"/>\n",
       "          </shape>\n",
       "        </transform>\n",
       "        <transform translation=\"9.650908832115467 6.749132889527677 3.8949742071830324\">\n",
       "          <shape>\n",
       "            <appearance>\n",
       "              <material diffuseColor=\"0.941 0.784 0.627\"/>\n",
       "            </appearance>\n",
       "            <sphere radius=\"1.11\"/>\n",
       "          </shape>\n",
       "        </transform>\n",
       "        <transform translation=\"10.710568341249832 8.483490920205549 2.725161550955206\">\n",
       "          <shape>\n",
       "            <appearance>\n",
       "              <material diffuseColor=\"0.941 0.784 0.627\"/>\n",
       "            </appearance>\n",
       "            <sphere radius=\"1.11\"/>\n",
       "          </shape>\n",
       "        </transform>\n",
       "        <transform translation=\"12.090100870686129 9.540683096933492 4.492551027295768\">\n",
       "          <shape>\n",
       "            <appearance>\n",
       "              <material diffuseColor=\"0.941 0.784 0.627\"/>\n",
       "            </appearance>\n",
       "            <sphere radius=\"1.11\"/>\n",
       "          </shape>\n",
       "        </transform>\n",
       "        <transform translation=\"5.454031790496326 0.12344062194148385 5.490034063991165\">\n",
       "          <shape>\n",
       "            <appearance>\n",
       "              <material diffuseColor=\"0.941 0.784 0.627\"/>\n",
       "            </appearance>\n",
       "            <sphere radius=\"1.11\"/>\n",
       "          </shape>\n",
       "        </transform>\n",
       "        <transform translation=\"6.717050030701296 1.128996360395572 6.717631455517425\">\n",
       "          <shape>\n",
       "            <appearance>\n",
       "              <material diffuseColor=\"0.941 0.784 0.627\"/>\n",
       "            </appearance>\n",
       "            <sphere radius=\"1.11\"/>\n",
       "          </shape>\n",
       "        </transform>\n",
       "        <transform translation=\"8.103221153325045 2.8323246382364395 5.5977966827749\">\n",
       "          <shape>\n",
       "            <appearance>\n",
       "              <material diffuseColor=\"0.941 0.784 0.627\"/>\n",
       "            </appearance>\n",
       "            <sphere radius=\"1.11\"/>\n",
       "          </shape>\n",
       "        </transform>\n",
       "        <transform translation=\"9.688720416260711 4.129617465050852 6.964528232854145\">\n",
       "          <shape>\n",
       "            <appearance>\n",
       "              <material diffuseColor=\"0.941 0.784 0.627\"/>\n",
       "            </appearance>\n",
       "            <sphere radius=\"1.11\"/>\n",
       "          </shape>\n",
       "        </transform>\n",
       "        <transform translation=\"10.709120411800669 5.6805736310466575 5.5325859640836015\">\n",
       "          <shape>\n",
       "            <appearance>\n",
       "              <material diffuseColor=\"0.941 0.784 0.627\"/>\n",
       "            </appearance>\n",
       "            <sphere radius=\"1.11\"/>\n",
       "          </shape>\n",
       "        </transform>\n",
       "        <transform translation=\"12.157881432979456 6.885203629307499 6.772385657395788\">\n",
       "          <shape>\n",
       "            <appearance>\n",
       "              <material diffuseColor=\"0.941 0.784 0.627\"/>\n",
       "            </appearance>\n",
       "            <sphere radius=\"1.11\"/>\n",
       "          </shape>\n",
       "        </transform>\n",
       "        <transform translation=\"13.801325877490285 8.44896336328444 5.867115081306632\">\n",
       "          <shape>\n",
       "            <appearance>\n",
       "              <material diffuseColor=\"0.941 0.784 0.627\"/>\n",
       "            </appearance>\n",
       "            <sphere radius=\"1.11\"/>\n",
       "          </shape>\n",
       "        </transform>\n",
       "        <transform translation=\"14.653200732902372 9.213677238914082 6.686606827410709\">\n",
       "          <shape>\n",
       "            <appearance>\n",
       "              <material diffuseColor=\"0.941 0.784 0.627\"/>\n",
       "            </appearance>\n",
       "            <sphere radius=\"1.11\"/>\n",
       "          </shape>\n",
       "        </transform>\n",
       "        <transform translation=\"0.03200741388956609 2.890233784223245 2.778126989448321\">\n",
       "          <shape>\n",
       "            <appearance>\n",
       "              <material diffuseColor=\"0.941 0.784 0.627\"/>\n",
       "            </appearance>\n",
       "            <sphere radius=\"1.11\"/>\n",
       "          </shape>\n",
       "        </transform>\n",
       "        <transform translation=\"0.9530597568351993 4.011259197474326 4.238094928521449\">\n",
       "          <shape>\n",
       "            <appearance>\n",
       "              <material diffuseColor=\"0.941 0.784 0.627\"/>\n",
       "            </appearance>\n",
       "            <sphere radius=\"1.11\"/>\n",
       "          </shape>\n",
       "        </transform>\n",
       "        <transform translation=\"2.7610189470728765 5.582402236062404 2.670534371477928\">\n",
       "          <shape>\n",
       "            <appearance>\n",
       "              <material diffuseColor=\"0.941 0.784 0.627\"/>\n",
       "            </appearance>\n",
       "            <sphere radius=\"1.11\"/>\n",
       "          </shape>\n",
       "        </transform>\n",
       "        <transform translation=\"4.032348386214 6.824812278197657 4.154510329441651\">\n",
       "          <shape>\n",
       "            <appearance>\n",
       "              <material diffuseColor=\"0.941 0.784 0.627\"/>\n",
       "            </appearance>\n",
       "            <sphere radius=\"1.11\"/>\n",
       "          </shape>\n",
       "        </transform>\n",
       "        <transform translation=\"5.469659944025354 8.16880172916149 2.580867542742194\">\n",
       "          <shape>\n",
       "            <appearance>\n",
       "              <material diffuseColor=\"0.941 0.784 0.627\"/>\n",
       "            </appearance>\n",
       "            <sphere radius=\"1.11\"/>\n",
       "          </shape>\n",
       "        </transform>\n",
       "        <transform translation=\"6.863012757264183 9.526864254198287 4.298396781582384\">\n",
       "          <shape>\n",
       "            <appearance>\n",
       "              <material diffuseColor=\"0.941 0.784 0.627\"/>\n",
       "            </appearance>\n",
       "            <sphere radius=\"1.11\"/>\n",
       "          </shape>\n",
       "        </transform>\n",
       "        <transform translation=\"8.3847835759803 10.897031283496789 2.639943009981977\">\n",
       "          <shape>\n",
       "            <appearance>\n",
       "              <material diffuseColor=\"0.941 0.784 0.627\"/>\n",
       "            </appearance>\n",
       "            <sphere radius=\"1.11\"/>\n",
       "          </shape>\n",
       "        </transform>\n",
       "        <transform translation=\"9.374753918509155 12.302198870812822 4.087968013669712\">\n",
       "          <shape>\n",
       "            <appearance>\n",
       "              <material diffuseColor=\"0.941 0.784 0.627\"/>\n",
       "            </appearance>\n",
       "            <sphere radius=\"1.11\"/>\n",
       "          </shape>\n",
       "        </transform>\n",
       "        <transform translation=\"2.646229264885785 2.7237193713668493 5.305999831210374\">\n",
       "          <shape>\n",
       "            <appearance>\n",
       "              <material diffuseColor=\"0.941 0.784 0.627\"/>\n",
       "            </appearance>\n",
       "            <sphere radius=\"1.11\"/>\n",
       "          </shape>\n",
       "        </transform>\n",
       "        <transform translation=\"4.212106406814444 3.9830742870428 7.032401540961099\">\n",
       "          <shape>\n",
       "            <appearance>\n",
       "              <material diffuseColor=\"0.941 0.784 0.627\"/>\n",
       "            </appearance>\n",
       "            <sphere radius=\"1.11\"/>\n",
       "          </shape>\n",
       "        </transform>\n",
       "        <transform translation=\"5.51069832835816 5.548715704647413 5.211017630851791\">\n",
       "          <shape>\n",
       "            <appearance>\n",
       "              <material diffuseColor=\"0.941 0.784 0.627\"/>\n",
       "            </appearance>\n",
       "            <sphere radius=\"1.11\"/>\n",
       "          </shape>\n",
       "        </transform>\n",
       "        <transform translation=\"6.821376486611733 6.935611290219255 6.596759879638412\">\n",
       "          <shape>\n",
       "            <appearance>\n",
       "              <material diffuseColor=\"0.941 0.784 0.627\"/>\n",
       "            </appearance>\n",
       "            <sphere radius=\"1.11\"/>\n",
       "          </shape>\n",
       "        </transform>\n",
       "        <transform translation=\"8.091756298799275 8.151522909338672 5.155376535950649\">\n",
       "          <shape>\n",
       "            <appearance>\n",
       "              <material diffuseColor=\"0.941 0.784 0.627\"/>\n",
       "            </appearance>\n",
       "            <sphere radius=\"1.11\"/>\n",
       "          </shape>\n",
       "        </transform>\n",
       "        <transform translation=\"9.565531878408457 9.671732129517006 6.615596811833602\">\n",
       "          <shape>\n",
       "            <appearance>\n",
       "              <material diffuseColor=\"0.941 0.784 0.627\"/>\n",
       "            </appearance>\n",
       "            <sphere radius=\"1.11\"/>\n",
       "          </shape>\n",
       "        </transform>\n",
       "        <transform translation=\"10.93010919573282 10.597543317752512 5.4222608981467895\">\n",
       "          <shape>\n",
       "            <appearance>\n",
       "              <material diffuseColor=\"0.941 0.784 0.627\"/>\n",
       "            </appearance>\n",
       "            <sphere radius=\"1.11\"/>\n",
       "          </shape>\n",
       "        </transform>\n",
       "        <transform translation=\"11.89434552905934 12.441783541647132 6.8692801075873655\">\n",
       "          <shape>\n",
       "            <appearance>\n",
       "              <material diffuseColor=\"0.941 0.784 0.627\"/>\n",
       "            </appearance>\n",
       "            <sphere radius=\"1.11\"/>\n",
       "          </shape>\n",
       "        </transform>\n",
       "        <transform translation=\"5.425076608824844 2.559967676166168 8.399751186031756\">\n",
       "          <shape>\n",
       "            <appearance>\n",
       "              <material diffuseColor=\"0.941 0.784 0.627\"/>\n",
       "            </appearance>\n",
       "            <sphere radius=\"1.11\"/>\n",
       "          </shape>\n",
       "        </transform>\n",
       "        <transform translation=\"7.180920349850947 3.7009036271106495 9.749732806090563\">\n",
       "          <shape>\n",
       "            <appearance>\n",
       "              <material diffuseColor=\"0.941 0.784 0.627\"/>\n",
       "            </appearance>\n",
       "            <sphere radius=\"1.11\"/>\n",
       "          </shape>\n",
       "        </transform>\n",
       "        <transform translation=\"8.47053015062978 5.497602339314895 7.905146393532962\">\n",
       "          <shape>\n",
       "            <appearance>\n",
       "              <material diffuseColor=\"0.941 0.784 0.627\"/>\n",
       "            </appearance>\n",
       "            <sphere radius=\"1.11\"/>\n",
       "          </shape>\n",
       "        </transform>\n",
       "        <transform translation=\"9.675169063508804 6.751315939584369 9.381715874441348\">\n",
       "          <shape>\n",
       "            <appearance>\n",
       "              <material diffuseColor=\"0.941 0.784 0.627\"/>\n",
       "            </appearance>\n",
       "            <sphere radius=\"1.11\"/>\n",
       "          </shape>\n",
       "        </transform>\n",
       "        <transform translation=\"10.613988372866608 8.255107499195242 8.30356137318387\">\n",
       "          <shape>\n",
       "            <appearance>\n",
       "              <material diffuseColor=\"0.941 0.784 0.627\"/>\n",
       "            </appearance>\n",
       "            <sphere radius=\"1.11\"/>\n",
       "          </shape>\n",
       "        </transform>\n",
       "        <transform translation=\"12.092793854064041 9.606615267414673 9.27363172207537\">\n",
       "          <shape>\n",
       "            <appearance>\n",
       "              <material diffuseColor=\"0.941 0.784 0.627\"/>\n",
       "            </appearance>\n",
       "            <sphere radius=\"1.11\"/>\n",
       "          </shape>\n",
       "        </transform>\n",
       "        <transform translation=\"13.735372206374269 10.869313459684829 8.10768604561853\">\n",
       "          <shape>\n",
       "            <appearance>\n",
       "              <material diffuseColor=\"0.941 0.784 0.627\"/>\n",
       "            </appearance>\n",
       "            <sphere radius=\"1.11\"/>\n",
       "          </shape>\n",
       "        </transform>\n",
       "        <transform translation=\"14.91215082549417 12.391277231401173 9.652582327973\">\n",
       "          <shape>\n",
       "            <appearance>\n",
       "              <material diffuseColor=\"0.941 0.784 0.627\"/>\n",
       "            </appearance>\n",
       "            <sphere radius=\"1.11\"/>\n",
       "          </shape>\n",
       "        </transform>\n",
       "      </group>\n",
       "    </group>\n",
       "  </transform>\n",
       "</scene>\n",
       "<!--End of Inserted Scene-->\n",
       "\n",
       "        </X3D>\n",
       "    </body>\n",
       "</html>\n",
       "\n"
      ],
      "text/plain": [
       "<IPython.core.display.HTML object>"
      ]
     },
     "execution_count": 14,
     "metadata": {},
     "output_type": "execute_result"
    }
   ],
   "source": [
    "atoms.rattle(stdev=0.2, seed=1)\n",
    "view_x3d(atoms)"
   ]
  },
  {
   "cell_type": "markdown",
   "id": "e158c49e-10f3-4bd0-ba98-5bd6e86c44dc",
   "metadata": {},
   "source": [
    "`stdev`の値を変えることでより大きく乱す事もできます。"
   ]
  },
  {
   "cell_type": "code",
   "execution_count": 15,
   "id": "b3df0052-d169-4b92-a21d-aa2e9f1820e5",
   "metadata": {},
   "outputs": [
    {
     "data": {
      "text/html": [
       "<html>\n",
       "    <head>\n",
       "        <title>ASE atomic visualization</title>\n",
       "        <link rel=\"stylesheet\" type=\"text/css\"             href=\"https://www.x3dom.org/release/x3dom.css\"></link>\n",
       "        <script type=\"text/javascript\"             src=\"https://www.x3dom.org/release/x3dom.js\"></script>\n",
       "    </head>\n",
       "    <body>\n",
       "        <X3D width=\"400px\"; height=\"300px\";>\n",
       "\n",
       "<!--Inserting Generated X3D Scene-->\n",
       "<scene>\n",
       "  <viewpoint position=\"0 0 31.131444405270766\">\n",
       "    <group/>\n",
       "  </viewpoint>\n",
       "  <transform translation=\"-0.0 -0.0 -0.0\">\n",
       "    <group>\n",
       "      <group>\n",
       "        <transform translation=\"0 0 0\">\n",
       "          <shape>\n",
       "            <appearance>\n",
       "              <material diffuseColor=\"0 0 0\"/>\n",
       "            </appearance>\n",
       "            <lineset vertexCount=\"5\">\n",
       "              <coordinate point=\"0 0 0 0.0 5.43 5.43 8.145 5.43 13.575 8.145 0.0 8.145 0 0 0\"/>\n",
       "            </lineset>\n",
       "          </shape>\n",
       "        </transform>\n",
       "        <transform translation=\"10.86 10.86 0.0\">\n",
       "          <shape>\n",
       "            <appearance>\n",
       "              <material diffuseColor=\"0 0 0\"/>\n",
       "            </appearance>\n",
       "            <lineset vertexCount=\"5\">\n",
       "              <coordinate point=\"0 0 0 0.0 5.43 5.43 8.145 5.43 13.575 8.145 0.0 8.145 0 0 0\"/>\n",
       "            </lineset>\n",
       "          </shape>\n",
       "        </transform>\n",
       "        <transform translation=\"0 0 0\">\n",
       "          <shape>\n",
       "            <appearance>\n",
       "              <material diffuseColor=\"0 0 0\"/>\n",
       "            </appearance>\n",
       "            <lineset vertexCount=\"5\">\n",
       "              <coordinate point=\"0 0 0 0.0 5.43 5.43 10.86 16.29 5.43 10.86 10.86 0.0 0 0 0\"/>\n",
       "            </lineset>\n",
       "          </shape>\n",
       "        </transform>\n",
       "        <transform translation=\"8.145 0.0 8.145\">\n",
       "          <shape>\n",
       "            <appearance>\n",
       "              <material diffuseColor=\"0 0 0\"/>\n",
       "            </appearance>\n",
       "            <lineset vertexCount=\"5\">\n",
       "              <coordinate point=\"0 0 0 0.0 5.43 5.43 10.86 16.29 5.43 10.86 10.86 0.0 0 0 0\"/>\n",
       "            </lineset>\n",
       "          </shape>\n",
       "        </transform>\n",
       "      </group>\n",
       "      <group>\n",
       "        <transform translation=\"0.5732261492382646 -0.1914834333156074 0.2182099185976551\">\n",
       "          <shape>\n",
       "            <appearance>\n",
       "              <material diffuseColor=\"0.941 0.784 0.627\"/>\n",
       "            </appearance>\n",
       "            <sphere radius=\"1.11\"/>\n",
       "          </shape>\n",
       "        </transform>\n",
       "        <transform translation=\"1.9044212037727783 1.4135048385032676 0.7801237821493531\">\n",
       "          <shape>\n",
       "            <appearance>\n",
       "              <material diffuseColor=\"0.941 0.784 0.627\"/>\n",
       "            </appearance>\n",
       "            <sphere radius=\"1.11\"/>\n",
       "          </shape>\n",
       "        </transform>\n",
       "        <transform translation=\"3.8535687605969917 2.9464759843974333 -0.17092937375605632\">\n",
       "          <shape>\n",
       "            <appearance>\n",
       "              <material diffuseColor=\"0.941 0.784 0.627\"/>\n",
       "            </appearance>\n",
       "            <sphere radius=\"1.11\"/>\n",
       "          </shape>\n",
       "        </transform>\n",
       "        <transform translation=\"4.2939059466975005 4.1332127410027635 0.7126069813153406\">\n",
       "          <shape>\n",
       "            <appearance>\n",
       "              <material diffuseColor=\"0.941 0.784 0.627\"/>\n",
       "            </appearance>\n",
       "            <sphere radius=\"1.11\"/>\n",
       "          </shape>\n",
       "        </transform>\n",
       "        <transform translation=\"5.486497694980316 4.396549006737417 -0.635705027789429\">\n",
       "          <shape>\n",
       "            <appearance>\n",
       "              <material diffuseColor=\"0.941 0.784 0.627\"/>\n",
       "            </appearance>\n",
       "            <sphere radius=\"1.11\"/>\n",
       "          </shape>\n",
       "        </transform>\n",
       "        <transform translation=\"6.286377981916707 6.246598798322701 1.3390519827133625\">\n",
       "          <shape>\n",
       "            <appearance>\n",
       "              <material diffuseColor=\"0.941 0.784 0.627\"/>\n",
       "            </appearance>\n",
       "            <sphere radius=\"1.11\"/>\n",
       "          </shape>\n",
       "        </transform>\n",
       "        <transform translation=\"7.699430711582512 7.5554111920755185 0.5127005490181927\">\n",
       "          <shape>\n",
       "            <appearance>\n",
       "              <material diffuseColor=\"0.941 0.784 0.627\"/>\n",
       "            </appearance>\n",
       "            <sphere radius=\"1.11\"/>\n",
       "          </shape>\n",
       "        </transform>\n",
       "        <transform translation=\"9.618556591724653 9.71658224646252 0.7456247746736453\">\n",
       "          <shape>\n",
       "            <appearance>\n",
       "              <material diffuseColor=\"0.941 0.784 0.627\"/>\n",
       "            </appearance>\n",
       "            <sphere radius=\"1.11\"/>\n",
       "          </shape>\n",
       "        </transform>\n",
       "        <transform translation=\"2.622979827590291 -0.0812842769799336 2.114925166185119\">\n",
       "          <shape>\n",
       "            <appearance>\n",
       "              <material diffuseColor=\"0.941 0.784 0.627\"/>\n",
       "            </appearance>\n",
       "            <sphere radius=\"1.11\"/>\n",
       "          </shape>\n",
       "        </transform>\n",
       "        <transform translation=\"4.073195122321022 1.003603039115394 4.032724218450999\">\n",
       "          <shape>\n",
       "            <appearance>\n",
       "              <material diffuseColor=\"0.941 0.784 0.627\"/>\n",
       "            </appearance>\n",
       "            <sphere radius=\"1.11\"/>\n",
       "          </shape>\n",
       "        </transform>\n",
       "        <transform translation=\"4.99081454354024 3.5617883868832734 2.5708168476071127\">\n",
       "          <shape>\n",
       "            <appearance>\n",
       "              <material diffuseColor=\"0.941 0.784 0.627\"/>\n",
       "            </appearance>\n",
       "            <sphere radius=\"1.11\"/>\n",
       "          </shape>\n",
       "        </transform>\n",
       "        <transform translation=\"6.089603407222305 4.34952322988423 3.4595452552307084\">\n",
       "          <shape>\n",
       "            <appearance>\n",
       "              <material diffuseColor=\"0.941 0.784 0.627\"/>\n",
       "            </appearance>\n",
       "            <sphere radius=\"1.11\"/>\n",
       "          </shape>\n",
       "        </transform>\n",
       "        <transform translation=\"8.02596972777532 4.497048077623531 2.3828674109727586\">\n",
       "          <shape>\n",
       "            <appearance>\n",
       "              <material diffuseColor=\"0.941 0.784 0.627\"/>\n",
       "            </appearance>\n",
       "            <sphere radius=\"1.11\"/>\n",
       "          </shape>\n",
       "        </transform>\n",
       "        <transform translation=\"9.74933945005003 7.118366179525382 3.9806583477780175\">\n",
       "          <shape>\n",
       "            <appearance>\n",
       "              <material diffuseColor=\"0.941 0.784 0.627\"/>\n",
       "            </appearance>\n",
       "            <sphere radius=\"1.11\"/>\n",
       "          </shape>\n",
       "        </transform>\n",
       "        <transform translation=\"10.652744200055713 8.332939072410904 1.9859005557714922\">\n",
       "          <shape>\n",
       "            <appearance>\n",
       "              <material diffuseColor=\"0.941 0.784 0.627\"/>\n",
       "            </appearance>\n",
       "            <sphere radius=\"1.11\"/>\n",
       "          </shape>\n",
       "        </transform>\n",
       "        <transform translation=\"11.730178766488775 9.310363711453599 5.021112140405226\">\n",
       "          <shape>\n",
       "            <appearance>\n",
       "              <material diffuseColor=\"0.941 0.784 0.627\"/>\n",
       "            </appearance>\n",
       "            <sphere radius=\"1.11\"/>\n",
       "          </shape>\n",
       "        </transform>\n",
       "        <transform translation=\"5.625840935280556 -0.7580794557398831 5.652076048688563\">\n",
       "          <shape>\n",
       "            <appearance>\n",
       "              <material diffuseColor=\"0.941 0.784 0.627\"/>\n",
       "            </appearance>\n",
       "            <sphere radius=\"1.11\"/>\n",
       "          </shape>\n",
       "        </transform>\n",
       "        <transform translation=\"6.524508890493138 0.7905353602425926 7.023469599937859\">\n",
       "          <shape>\n",
       "            <appearance>\n",
       "              <material diffuseColor=\"0.941 0.784 0.627\"/>\n",
       "            </appearance>\n",
       "            <sphere radius=\"1.11\"/>\n",
       "          </shape>\n",
       "        </transform>\n",
       "        <transform translation=\"8.61872091457302 3.297964697794539 5.178187921163581\">\n",
       "          <shape>\n",
       "            <appearance>\n",
       "              <material diffuseColor=\"0.941 0.784 0.627\"/>\n",
       "            </appearance>\n",
       "            <sphere radius=\"1.11\"/>\n",
       "          </shape>\n",
       "        </transform>\n",
       "        <transform translation=\"9.534114228335104 4.295249180752633 7.452300796415325\">\n",
       "          <shape>\n",
       "            <appearance>\n",
       "              <material diffuseColor=\"0.941 0.784 0.627\"/>\n",
       "            </appearance>\n",
       "            <sphere radius=\"1.11\"/>\n",
       "          </shape>\n",
       "        </transform>\n",
       "        <transform translation=\"10.469533292878024 5.587744142714749 4.979418477080587\">\n",
       "          <shape>\n",
       "            <appearance>\n",
       "              <material diffuseColor=\"0.941 0.784 0.627\"/>\n",
       "            </appearance>\n",
       "            <sphere radius=\"1.11\"/>\n",
       "          </shape>\n",
       "        </transform>\n",
       "        <transform translation=\"11.559778120939121 7.291466540504598 7.4505056716812\">\n",
       "          <shape>\n",
       "            <appearance>\n",
       "              <material diffuseColor=\"0.941 0.784 0.627\"/>\n",
       "            </appearance>\n",
       "            <sphere radius=\"1.11\"/>\n",
       "          </shape>\n",
       "        </transform>\n",
       "        <transform translation=\"13.765320816700118 8.950729812230453 6.047933093830449\">\n",
       "          <shape>\n",
       "            <appearance>\n",
       "              <material diffuseColor=\"0.941 0.784 0.627\"/>\n",
       "            </appearance>\n",
       "            <sphere radius=\"1.11\"/>\n",
       "          </shape>\n",
       "        </transform>\n",
       "        <transform translation=\"14.33064085559981 9.394375041668289 7.455625110643694\">\n",
       "          <shape>\n",
       "            <appearance>\n",
       "              <material diffuseColor=\"0.941 0.784 0.627\"/>\n",
       "            </appearance>\n",
       "            <sphere radius=\"1.11\"/>\n",
       "          </shape>\n",
       "        </transform>\n",
       "        <transform translation=\"0.014094394334590324 3.672555612130248 1.4682544374034487\">\n",
       "          <shape>\n",
       "            <appearance>\n",
       "              <material diffuseColor=\"0.941 0.784 0.627\"/>\n",
       "            </appearance>\n",
       "            <sphere radius=\"1.11\"/>\n",
       "          </shape>\n",
       "        </transform>\n",
       "        <transform translation=\"1.3640110090228112 4.054782731593411 4.088591253288516\">\n",
       "          <shape>\n",
       "            <appearance>\n",
       "              <material diffuseColor=\"0.941 0.784 0.627\"/>\n",
       "            </appearance>\n",
       "            <sphere radius=\"1.11\"/>\n",
       "          </shape>\n",
       "        </transform>\n",
       "        <transform translation=\"2.8068993353406277 4.588617778761958 2.560698427559172\">\n",
       "          <shape>\n",
       "            <appearance>\n",
       "              <material diffuseColor=\"0.941 0.784 0.627\"/>\n",
       "            </appearance>\n",
       "            <sphere radius=\"1.11\"/>\n",
       "          </shape>\n",
       "        </transform>\n",
       "        <transform translation=\"4.210904671969874 7.563759300568415 3.8953752203048273\">\n",
       "          <shape>\n",
       "            <appearance>\n",
       "              <material diffuseColor=\"0.941 0.784 0.627\"/>\n",
       "            </appearance>\n",
       "            <sphere radius=\"1.11\"/>\n",
       "          </shape>\n",
       "        </transform>\n",
       "        <transform translation=\"5.06541314257876 7.917923207369222 3.038568601593231\">\n",
       "          <shape>\n",
       "            <appearance>\n",
       "              <material diffuseColor=\"0.941 0.784 0.627\"/>\n",
       "            </appearance>\n",
       "            <sphere radius=\"1.11\"/>\n",
       "          </shape>\n",
       "        </transform>\n",
       "        <transform translation=\"7.0273883120940255 9.261984152314767 4.555030498139062\">\n",
       "          <shape>\n",
       "            <appearance>\n",
       "              <material diffuseColor=\"0.941 0.784 0.627\"/>\n",
       "            </appearance>\n",
       "            <sphere radius=\"1.11\"/>\n",
       "          </shape>\n",
       "        </transform>\n",
       "        <transform translation=\"8.43332235065432 11.381353778763234 2.288916463043301\">\n",
       "          <shape>\n",
       "            <appearance>\n",
       "              <material diffuseColor=\"0.941 0.784 0.627\"/>\n",
       "            </appearance>\n",
       "            <sphere radius=\"1.11\"/>\n",
       "          </shape>\n",
       "        </transform>\n",
       "        <transform translation=\"9.210922845210272 12.106144794246744 3.3562105396036523\">\n",
       "          <shape>\n",
       "            <appearance>\n",
       "              <material diffuseColor=\"0.941 0.784 0.627\"/>\n",
       "            </appearance>\n",
       "            <sphere radius=\"1.11\"/>\n",
       "          </shape>\n",
       "        </transform>\n",
       "        <transform translation=\"2.7942894034180727 2.854247007456794 5.308556559531604\">\n",
       "          <shape>\n",
       "            <appearance>\n",
       "              <material diffuseColor=\"0.941 0.784 0.627\"/>\n",
       "            </appearance>\n",
       "            <sphere radius=\"1.11\"/>\n",
       "          </shape>\n",
       "        </transform>\n",
       "        <transform translation=\"4.09481284012687 3.275388916017593 6.822078879578419\">\n",
       "          <shape>\n",
       "            <appearance>\n",
       "              <material diffuseColor=\"0.941 0.784 0.627\"/>\n",
       "            </appearance>\n",
       "            <sphere radius=\"1.11\"/>\n",
       "          </shape>\n",
       "        </transform>\n",
       "        <transform translation=\"5.339341070094775 5.147577070036603 5.130374775018787\">\n",
       "          <shape>\n",
       "            <appearance>\n",
       "              <material diffuseColor=\"0.941 0.784 0.627\"/>\n",
       "            </appearance>\n",
       "            <sphere radius=\"1.11\"/>\n",
       "          </shape>\n",
       "        </transform>\n",
       "        <transform translation=\"7.023401915019003 7.878704240824519 6.684048786054332\">\n",
       "          <shape>\n",
       "            <appearance>\n",
       "              <material diffuseColor=\"0.941 0.784 0.627\"/>\n",
       "            </appearance>\n",
       "            <sphere radius=\"1.11\"/>\n",
       "          </shape>\n",
       "        </transform>\n",
       "        <transform translation=\"8.220531494160657 8.114299951455589 4.195990928301128\">\n",
       "          <shape>\n",
       "            <appearance>\n",
       "              <material diffuseColor=\"0.941 0.784 0.627\"/>\n",
       "            </appearance>\n",
       "            <sphere radius=\"1.11\"/>\n",
       "          </shape>\n",
       "        </transform>\n",
       "        <transform translation=\"9.552274940683848 9.701847234487518 7.847217868076245\">\n",
       "          <shape>\n",
       "            <appearance>\n",
       "              <material diffuseColor=\"0.941 0.784 0.627\"/>\n",
       "            </appearance>\n",
       "            <sphere radius=\"1.11\"/>\n",
       "          </shape>\n",
       "        </transform>\n",
       "        <transform translation=\"10.833928713342258 10.748316988919319 5.404905013294168\">\n",
       "          <shape>\n",
       "            <appearance>\n",
       "              <material diffuseColor=\"0.941 0.784 0.627\"/>\n",
       "            </appearance>\n",
       "            <sphere radius=\"1.11\"/>\n",
       "          </shape>\n",
       "        </transform>\n",
       "        <transform translation=\"11.310006510249574 13.013194948904642 7.245246623930752\">\n",
       "          <shape>\n",
       "            <appearance>\n",
       "              <material diffuseColor=\"0.941 0.784 0.627\"/>\n",
       "            </appearance>\n",
       "            <sphere radius=\"1.11\"/>\n",
       "          </shape>\n",
       "        </transform>\n",
       "        <transform translation=\"5.820592582346367 2.105273948768798 9.101148341499805\">\n",
       "          <shape>\n",
       "            <appearance>\n",
       "              <material diffuseColor=\"0.941 0.784 0.627\"/>\n",
       "            </appearance>\n",
       "            <sphere radius=\"1.11\"/>\n",
       "          </shape>\n",
       "        </transform>\n",
       "        <transform translation=\"6.479994818454807 3.9943321740107844 10.844960618995552\">\n",
       "          <shape>\n",
       "            <appearance>\n",
       "              <material diffuseColor=\"0.941 0.784 0.627\"/>\n",
       "            </appearance>\n",
       "            <sphere radius=\"1.11\"/>\n",
       "          </shape>\n",
       "        </transform>\n",
       "        <transform translation=\"7.975261988064436 5.214453474513509 7.954972076076783\">\n",
       "          <shape>\n",
       "            <appearance>\n",
       "              <material diffuseColor=\"0.941 0.784 0.627\"/>\n",
       "            </appearance>\n",
       "            <sphere radius=\"1.11\"/>\n",
       "          </shape>\n",
       "        </transform>\n",
       "        <transform translation=\"9.423431236450705 5.975984224051303 9.415997361844362\">\n",
       "          <shape>\n",
       "            <appearance>\n",
       "              <material diffuseColor=\"0.941 0.784 0.627\"/>\n",
       "            </appearance>\n",
       "            <sphere radius=\"1.11\"/>\n",
       "          </shape>\n",
       "        </transform>\n",
       "        <transform translation=\"10.082836516003555 8.491903714512834 7.843849256066968\">\n",
       "          <shape>\n",
       "            <appearance>\n",
       "              <material diffuseColor=\"0.941 0.784 0.627\"/>\n",
       "            </appearance>\n",
       "            <sphere radius=\"1.11\"/>\n",
       "          </shape>\n",
       "        </transform>\n",
       "        <transform translation=\"12.86776105657281 9.214988621246555 9.112600963972532\">\n",
       "          <shape>\n",
       "            <appearance>\n",
       "              <material diffuseColor=\"0.941 0.784 0.627\"/>\n",
       "            </appearance>\n",
       "            <sphere radius=\"1.11\"/>\n",
       "          </shape>\n",
       "        </transform>\n",
       "        <transform translation=\"14.142130815059103 10.253881301467851 8.221416012920596\">\n",
       "          <shape>\n",
       "            <appearance>\n",
       "              <material diffuseColor=\"0.941 0.784 0.627\"/>\n",
       "            </appearance>\n",
       "            <sphere radius=\"1.11\"/>\n",
       "          </shape>\n",
       "        </transform>\n",
       "        <transform translation=\"15.565722202635383 11.587535614120558 9.744899257239153\">\n",
       "          <shape>\n",
       "            <appearance>\n",
       "              <material diffuseColor=\"0.941 0.784 0.627\"/>\n",
       "            </appearance>\n",
       "            <sphere radius=\"1.11\"/>\n",
       "          </shape>\n",
       "        </transform>\n",
       "      </group>\n",
       "    </group>\n",
       "  </transform>\n",
       "</scene>\n",
       "<!--End of Inserted Scene-->\n",
       "\n",
       "        </X3D>\n",
       "    </body>\n",
       "</html>\n",
       "\n"
      ],
      "text/plain": [
       "<IPython.core.display.HTML object>"
      ]
     },
     "execution_count": 15,
     "metadata": {},
     "output_type": "execute_result"
    }
   ],
   "source": [
    "atoms.rattle(stdev=0.5)\n",
    "view_x3d(atoms)"
   ]
  },
  {
   "cell_type": "markdown",
   "id": "bee8085f-9ba9-47e9-8c8f-21a0e82eaea7",
   "metadata": {},
   "source": [
    "[Note (Advanced)] ASEの`rattle` 関数の引数である`seed` が指定されていないときは **`seed=42` が使われるという仕様になっており、結果`rattle`の結果はDeterministicになる**ので注意してください。\n",
    "\n",
    "以下の例では、2回 `rattle`を行った結果が等しくなっていることを確認しています。"
   ]
  },
  {
   "cell_type": "code",
   "execution_count": 16,
   "id": "004f401e-1800-42ca-b48e-9cdb8c42d142",
   "metadata": {},
   "outputs": [
    {
     "name": "stdout",
     "output_type": "stream",
     "text": [
      "atoms & atoms2 positions are same? -->  True\n"
     ]
    }
   ],
   "source": [
    "import numpy as np\n",
    "\n",
    "\n",
    "atoms = bulk(\"Si\") * (2, 3, 4)\n",
    "atoms2 = atoms.copy()\n",
    "\n",
    "atoms.rattle(stdev=0.2)\n",
    "atoms2.rattle(stdev=0.2)\n",
    "\n",
    "print(\"atoms & atoms2 positions are same? --> \", np.allclose(atoms.positions, atoms2.positions))"
   ]
  },
  {
   "cell_type": "markdown",
   "id": "23b2db42-1363-4ef5-9ee2-47abd7abf808",
   "metadata": {},
   "source": [
    "もし、毎回違う結果をランダムに得たい場合は `rng=np.random.RandomState()` を指定してください。"
   ]
  },
  {
   "cell_type": "code",
   "execution_count": 17,
   "id": "bf21d12c-a5b0-49ce-bf34-9886e09439b4",
   "metadata": {},
   "outputs": [
    {
     "name": "stdout",
     "output_type": "stream",
     "text": [
      "atoms & atoms2 positions are same? -->  False\n"
     ]
    }
   ],
   "source": [
    "atoms = bulk(\"Si\") * (2, 3, 4)\n",
    "atoms2 = atoms.copy()\n",
    "\n",
    "atoms.rattle(stdev=0.2, rng=np.random.RandomState())\n",
    "atoms2.rattle(stdev=0.2, rng=np.random.RandomState())\n",
    "\n",
    "print(\"atoms & atoms2 positions are same? --> \", np.allclose(atoms.positions, atoms2.positions))"
   ]
  },
  {
   "cell_type": "markdown",
   "id": "9af56d1c-d194-4c71-af98-0905ed563449",
   "metadata": {},
   "source": [
    "## wrap\n",
    "\n",
    "上記のSi結晶のように、Cellの外側に原子が飛び出してしまった場合、 `wrap` 関数を使うことで再び対応する周期構造の内側に戻す事ができます。"
   ]
  },
  {
   "cell_type": "code",
   "execution_count": 18,
   "id": "941a4725-4c48-4715-9086-6a47270a22c5",
   "metadata": {
    "tags": []
   },
   "outputs": [
    {
     "data": {
      "text/html": [
       "<html>\n",
       "    <head>\n",
       "        <title>ASE atomic visualization</title>\n",
       "        <link rel=\"stylesheet\" type=\"text/css\"             href=\"https://www.x3dom.org/release/x3dom.css\"></link>\n",
       "        <script type=\"text/javascript\"             src=\"https://www.x3dom.org/release/x3dom.js\"></script>\n",
       "    </head>\n",
       "    <body>\n",
       "        <X3D width=\"400px\"; height=\"300px\";>\n",
       "\n",
       "<!--Inserting Generated X3D Scene-->\n",
       "<scene>\n",
       "  <viewpoint position=\"0 0 32.818289139526755\">\n",
       "    <group/>\n",
       "  </viewpoint>\n",
       "  <transform translation=\"-0.0 -0.0 -0.0\">\n",
       "    <group>\n",
       "      <group>\n",
       "        <transform translation=\"0 0 0\">\n",
       "          <shape>\n",
       "            <appearance>\n",
       "              <material diffuseColor=\"0 0 0\"/>\n",
       "            </appearance>\n",
       "            <lineset vertexCount=\"5\">\n",
       "              <coordinate point=\"0 0 0 0.0 5.43 5.43 8.145 5.43 13.575 8.145 0.0 8.145 0 0 0\"/>\n",
       "            </lineset>\n",
       "          </shape>\n",
       "        </transform>\n",
       "        <transform translation=\"10.86 10.86 0.0\">\n",
       "          <shape>\n",
       "            <appearance>\n",
       "              <material diffuseColor=\"0 0 0\"/>\n",
       "            </appearance>\n",
       "            <lineset vertexCount=\"5\">\n",
       "              <coordinate point=\"0 0 0 0.0 5.43 5.43 8.145 5.43 13.575 8.145 0.0 8.145 0 0 0\"/>\n",
       "            </lineset>\n",
       "          </shape>\n",
       "        </transform>\n",
       "        <transform translation=\"0 0 0\">\n",
       "          <shape>\n",
       "            <appearance>\n",
       "              <material diffuseColor=\"0 0 0\"/>\n",
       "            </appearance>\n",
       "            <lineset vertexCount=\"5\">\n",
       "              <coordinate point=\"0 0 0 0.0 5.43 5.43 10.86 16.29 5.43 10.86 10.86 0.0 0 0 0\"/>\n",
       "            </lineset>\n",
       "          </shape>\n",
       "        </transform>\n",
       "        <transform translation=\"8.145 0.0 8.145\">\n",
       "          <shape>\n",
       "            <appearance>\n",
       "              <material diffuseColor=\"0 0 0\"/>\n",
       "            </appearance>\n",
       "            <lineset vertexCount=\"5\">\n",
       "              <coordinate point=\"0 0 0 0.0 5.43 5.43 10.86 16.29 5.43 10.86 10.86 0.0 0 0 0\"/>\n",
       "            </lineset>\n",
       "          </shape>\n",
       "        </transform>\n",
       "      </group>\n",
       "      <group>\n",
       "        <transform translation=\"0.11943833931240662 0.22741995618028213 0.18505976217623793\">\n",
       "          <shape>\n",
       "            <appearance>\n",
       "              <material diffuseColor=\"0.941 0.784 0.627\"/>\n",
       "            </appearance>\n",
       "            <sphere radius=\"1.11\"/>\n",
       "          </shape>\n",
       "        </transform>\n",
       "        <transform translation=\"1.6427058676715403 1.2142897883842465 1.266756465323822\">\n",
       "          <shape>\n",
       "            <appearance>\n",
       "              <material diffuseColor=\"0.941 0.784 0.627\"/>\n",
       "            </appearance>\n",
       "            <sphere radius=\"1.11\"/>\n",
       "          </shape>\n",
       "        </transform>\n",
       "        <transform translation=\"2.6935440204198215 2.8993620569645913 0.2130032531084609\">\n",
       "          <shape>\n",
       "            <appearance>\n",
       "              <material diffuseColor=\"0.941 0.784 0.627\"/>\n",
       "            </appearance>\n",
       "            <sphere radius=\"1.11\"/>\n",
       "          </shape>\n",
       "        </transform>\n",
       "        <transform translation=\"4.231749625302906 4.187309740226849 1.3599614275368692\">\n",
       "          <shape>\n",
       "            <appearance>\n",
       "              <material diffuseColor=\"0.941 0.784 0.627\"/>\n",
       "            </appearance>\n",
       "            <sphere radius=\"1.11\"/>\n",
       "          </shape>\n",
       "        </transform>\n",
       "        <transform translation=\"5.715113480763898 10.866675951805531 5.22067174306857\">\n",
       "          <shape>\n",
       "            <appearance>\n",
       "              <material diffuseColor=\"0.941 0.784 0.627\"/>\n",
       "            </appearance>\n",
       "            <sphere radius=\"1.11\"/>\n",
       "          </shape>\n",
       "        </transform>\n",
       "        <transform translation=\"6.827537390671262 7.070364461333704 1.7700739453846195\">\n",
       "          <shape>\n",
       "            <appearance>\n",
       "              <material diffuseColor=\"0.941 0.784 0.627\"/>\n",
       "            </appearance>\n",
       "            <sphere radius=\"1.11\"/>\n",
       "          </shape>\n",
       "        </transform>\n",
       "        <transform translation=\"16.40322318671169 13.852990920333818 13.370523971947046\">\n",
       "          <shape>\n",
       "            <appearance>\n",
       "              <material diffuseColor=\"0.941 0.784 0.627\"/>\n",
       "            </appearance>\n",
       "            <sphere radius=\"1.11\"/>\n",
       "          </shape>\n",
       "        </transform>\n",
       "        <transform translation=\"9.649825057278365 9.680428997401975 1.4817939628619126\">\n",
       "          <shape>\n",
       "            <appearance>\n",
       "              <material diffuseColor=\"0.941 0.784 0.627\"/>\n",
       "            </appearance>\n",
       "            <sphere radius=\"1.11\"/>\n",
       "          </shape>\n",
       "        </transform>\n",
       "        <transform translation=\"2.780151432414824 0.32635397603223865 2.6901640714924357\">\n",
       "          <shape>\n",
       "            <appearance>\n",
       "              <material diffuseColor=\"0.941 0.784 0.627\"/>\n",
       "            </appearance>\n",
       "            <sphere radius=\"1.11\"/>\n",
       "          </shape>\n",
       "        </transform>\n",
       "        <transform translation=\"3.9224737135113097 1.1504430525834493 3.7846529722497997\">\n",
       "          <shape>\n",
       "            <appearance>\n",
       "              <material diffuseColor=\"0.941 0.784 0.627\"/>\n",
       "            </appearance>\n",
       "            <sphere radius=\"1.11\"/>\n",
       "          </shape>\n",
       "        </transform>\n",
       "        <transform translation=\"5.303347651651424 2.7589633747206186 2.8386616918000174\">\n",
       "          <shape>\n",
       "            <appearance>\n",
       "              <material diffuseColor=\"0.941 0.784 0.627\"/>\n",
       "            </appearance>\n",
       "            <sphere radius=\"1.11\"/>\n",
       "          </shape>\n",
       "        </transform>\n",
       "        <transform translation=\"6.74529760416898 4.084957264914614 3.9120724809109477\">\n",
       "          <shape>\n",
       "            <appearance>\n",
       "              <material diffuseColor=\"0.941 0.784 0.627\"/>\n",
       "            </appearance>\n",
       "            <sphere radius=\"1.11\"/>\n",
       "          </shape>\n",
       "        </transform>\n",
       "        <transform translation=\"7.9122234805695 5.612972844482241 2.6771284398162054\">\n",
       "          <shape>\n",
       "            <appearance>\n",
       "              <material diffuseColor=\"0.941 0.784 0.627\"/>\n",
       "            </appearance>\n",
       "            <sphere radius=\"1.11\"/>\n",
       "          </shape>\n",
       "        </transform>\n",
       "        <transform translation=\"9.294408560877631 6.727878615311222 4.404432697247256\">\n",
       "          <shape>\n",
       "            <appearance>\n",
       "              <material diffuseColor=\"0.941 0.784 0.627\"/>\n",
       "            </appearance>\n",
       "            <sphere radius=\"1.11\"/>\n",
       "          </shape>\n",
       "        </transform>\n",
       "        <transform translation=\"10.836056810100505 8.244547211835794 3.123724551893954\">\n",
       "          <shape>\n",
       "            <appearance>\n",
       "              <material diffuseColor=\"0.941 0.784 0.627\"/>\n",
       "            </appearance>\n",
       "            <sphere radius=\"1.11\"/>\n",
       "          </shape>\n",
       "        </transform>\n",
       "        <transform translation=\"12.307032510314297 9.291175708823507 4.317963612489772\">\n",
       "          <shape>\n",
       "            <appearance>\n",
       "              <material diffuseColor=\"0.941 0.784 0.627\"/>\n",
       "            </appearance>\n",
       "            <sphere radius=\"1.11\"/>\n",
       "          </shape>\n",
       "        </transform>\n",
       "        <transform translation=\"15.869508379310115 16.1757109675292 10.528312244051804\">\n",
       "          <shape>\n",
       "            <appearance>\n",
       "              <material diffuseColor=\"0.941 0.784 0.627\"/>\n",
       "            </appearance>\n",
       "            <sphere radius=\"1.11\"/>\n",
       "          </shape>\n",
       "        </transform>\n",
       "        <transform translation=\"6.523762507913095 1.1655657418031822 6.472239507665908\">\n",
       "          <shape>\n",
       "            <appearance>\n",
       "              <material diffuseColor=\"0.941 0.784 0.627\"/>\n",
       "            </appearance>\n",
       "            <sphere radius=\"1.11\"/>\n",
       "          </shape>\n",
       "        </transform>\n",
       "        <transform translation=\"8.094193516911549 7.94431906985061 10.863858440976013\">\n",
       "          <shape>\n",
       "            <appearance>\n",
       "              <material diffuseColor=\"0.941 0.784 0.627\"/>\n",
       "            </appearance>\n",
       "            <sphere radius=\"1.11\"/>\n",
       "          </shape>\n",
       "        </transform>\n",
       "        <transform translation=\"9.341932153644867 4.159599800475097 6.62156794439887\">\n",
       "          <shape>\n",
       "            <appearance>\n",
       "              <material diffuseColor=\"0.941 0.784 0.627\"/>\n",
       "            </appearance>\n",
       "            <sphere radius=\"1.11\"/>\n",
       "          </shape>\n",
       "        </transform>\n",
       "        <transform translation=\"10.718213693319086 5.483839489252548 5.750292495257969\">\n",
       "          <shape>\n",
       "            <appearance>\n",
       "              <material diffuseColor=\"0.941 0.784 0.627\"/>\n",
       "            </appearance>\n",
       "            <sphere radius=\"1.11\"/>\n",
       "          </shape>\n",
       "        </transform>\n",
       "        <transform translation=\"12.41389615764109 6.492082591232624 7.10935990268116\">\n",
       "          <shape>\n",
       "            <appearance>\n",
       "              <material diffuseColor=\"0.941 0.784 0.627\"/>\n",
       "            </appearance>\n",
       "            <sphere radius=\"1.11\"/>\n",
       "          </shape>\n",
       "        </transform>\n",
       "        <transform translation=\"13.7877016330062 13.263938014907344 10.839376604524961\">\n",
       "          <shape>\n",
       "            <appearance>\n",
       "              <material diffuseColor=\"0.941 0.784 0.627\"/>\n",
       "            </appearance>\n",
       "            <sphere radius=\"1.11\"/>\n",
       "          </shape>\n",
       "        </transform>\n",
       "        <transform translation=\"14.833534501980154 9.539606962375952 6.881405924100918\">\n",
       "          <shape>\n",
       "            <appearance>\n",
       "              <material diffuseColor=\"0.941 0.784 0.627\"/>\n",
       "            </appearance>\n",
       "            <sphere radius=\"1.11\"/>\n",
       "          </shape>\n",
       "        </transform>\n",
       "        <transform translation=\"8.156036364012348 2.5751568359090515 10.619289113757674\">\n",
       "          <shape>\n",
       "            <appearance>\n",
       "              <material diffuseColor=\"0.941 0.784 0.627\"/>\n",
       "            </appearance>\n",
       "            <sphere radius=\"1.11\"/>\n",
       "          </shape>\n",
       "        </transform>\n",
       "        <transform translation=\"1.3556890238440893 3.8631149969212495 3.7461731180369253\">\n",
       "          <shape>\n",
       "            <appearance>\n",
       "              <material diffuseColor=\"0.941 0.784 0.627\"/>\n",
       "            </appearance>\n",
       "            <sphere radius=\"1.11\"/>\n",
       "          </shape>\n",
       "        </transform>\n",
       "        <transform translation=\"10.82247240939069 5.590214666731153 10.733479522811198\">\n",
       "          <shape>\n",
       "            <appearance>\n",
       "              <material diffuseColor=\"0.941 0.784 0.627\"/>\n",
       "            </appearance>\n",
       "            <sphere radius=\"1.11\"/>\n",
       "          </shape>\n",
       "        </transform>\n",
       "        <transform translation=\"4.3669868989818035 6.8396102986587275 4.197904609486782\">\n",
       "          <shape>\n",
       "            <appearance>\n",
       "              <material diffuseColor=\"0.941 0.784 0.627\"/>\n",
       "            </appearance>\n",
       "            <sphere radius=\"1.11\"/>\n",
       "          </shape>\n",
       "        </transform>\n",
       "        <transform translation=\"13.300554021209246 8.28565735032458 10.406716764652618\">\n",
       "          <shape>\n",
       "            <appearance>\n",
       "              <material diffuseColor=\"0.941 0.784 0.627\"/>\n",
       "            </appearance>\n",
       "            <sphere radius=\"1.11\"/>\n",
       "          </shape>\n",
       "        </transform>\n",
       "        <transform translation=\"6.770491184828781 9.599681310433251 3.996361005905747\">\n",
       "          <shape>\n",
       "            <appearance>\n",
       "              <material diffuseColor=\"0.941 0.784 0.627\"/>\n",
       "            </appearance>\n",
       "            <sphere radius=\"1.11\"/>\n",
       "          </shape>\n",
       "        </transform>\n",
       "        <transform translation=\"16.409144569763377 10.909570140721549 10.368719100673067\">\n",
       "          <shape>\n",
       "            <appearance>\n",
       "              <material diffuseColor=\"0.941 0.784 0.627\"/>\n",
       "            </appearance>\n",
       "            <sphere radius=\"1.11\"/>\n",
       "          </shape>\n",
       "        </transform>\n",
       "        <transform translation=\"9.372853209936151 12.038533697371431 3.900768459898943\">\n",
       "          <shape>\n",
       "            <appearance>\n",
       "              <material diffuseColor=\"0.941 0.784 0.627\"/>\n",
       "            </appearance>\n",
       "            <sphere radius=\"1.11\"/>\n",
       "          </shape>\n",
       "        </transform>\n",
       "        <transform translation=\"13.029858804523547 13.607069906842295 5.662479443784274\">\n",
       "          <shape>\n",
       "            <appearance>\n",
       "              <material diffuseColor=\"0.941 0.784 0.627\"/>\n",
       "            </appearance>\n",
       "            <sphere radius=\"1.11\"/>\n",
       "          </shape>\n",
       "        </transform>\n",
       "        <transform translation=\"4.010551655793592 4.133220425102527 6.943417339057571\">\n",
       "          <shape>\n",
       "            <appearance>\n",
       "              <material diffuseColor=\"0.941 0.784 0.627\"/>\n",
       "            </appearance>\n",
       "            <sphere radius=\"1.11\"/>\n",
       "          </shape>\n",
       "        </transform>\n",
       "        <transform translation=\"5.541285285066539 5.116972220176653 5.150562712424712\">\n",
       "          <shape>\n",
       "            <appearance>\n",
       "              <material diffuseColor=\"0.941 0.784 0.627\"/>\n",
       "            </appearance>\n",
       "            <sphere radius=\"1.11\"/>\n",
       "          </shape>\n",
       "        </transform>\n",
       "        <transform translation=\"6.924400663798428 6.401355515701953 7.112839090641099\">\n",
       "          <shape>\n",
       "            <appearance>\n",
       "              <material diffuseColor=\"0.941 0.784 0.627\"/>\n",
       "            </appearance>\n",
       "            <sphere radius=\"1.11\"/>\n",
       "          </shape>\n",
       "        </transform>\n",
       "        <transform translation=\"8.076066475923717 8.334012198301165 5.49998084756347\">\n",
       "          <shape>\n",
       "            <appearance>\n",
       "              <material diffuseColor=\"0.941 0.784 0.627\"/>\n",
       "            </appearance>\n",
       "            <sphere radius=\"1.11\"/>\n",
       "          </shape>\n",
       "        </transform>\n",
       "        <transform translation=\"9.69606453780469 9.332559644549187 6.815899021067882\">\n",
       "          <shape>\n",
       "            <appearance>\n",
       "              <material diffuseColor=\"0.941 0.784 0.627\"/>\n",
       "            </appearance>\n",
       "            <sphere radius=\"1.11\"/>\n",
       "          </shape>\n",
       "        </transform>\n",
       "        <transform translation=\"10.686497237181838 10.93498613274782 4.977796495446418\">\n",
       "          <shape>\n",
       "            <appearance>\n",
       "              <material diffuseColor=\"0.941 0.784 0.627\"/>\n",
       "            </appearance>\n",
       "            <sphere radius=\"1.11\"/>\n",
       "          </shape>\n",
       "        </transform>\n",
       "        <transform translation=\"12.167922878069641 11.913575641948933 6.73960064523046\">\n",
       "          <shape>\n",
       "            <appearance>\n",
       "              <material diffuseColor=\"0.941 0.784 0.627\"/>\n",
       "            </appearance>\n",
       "            <sphere radius=\"1.11\"/>\n",
       "          </shape>\n",
       "        </transform>\n",
       "        <transform translation=\"5.713819157530923 2.6020113597274688 8.255612844601835\">\n",
       "          <shape>\n",
       "            <appearance>\n",
       "              <material diffuseColor=\"0.941 0.784 0.627\"/>\n",
       "            </appearance>\n",
       "            <sphere radius=\"1.11\"/>\n",
       "          </shape>\n",
       "        </transform>\n",
       "        <transform translation=\"6.6413614836381205 3.938729149536373 9.37803049513605\">\n",
       "          <shape>\n",
       "            <appearance>\n",
       "              <material diffuseColor=\"0.941 0.784 0.627\"/>\n",
       "            </appearance>\n",
       "            <sphere radius=\"1.11\"/>\n",
       "          </shape>\n",
       "        </transform>\n",
       "        <transform translation=\"8.194791760359326 5.4905885550763065 8.070730851542576\">\n",
       "          <shape>\n",
       "            <appearance>\n",
       "              <material diffuseColor=\"0.941 0.784 0.627\"/>\n",
       "            </appearance>\n",
       "            <sphere radius=\"1.11\"/>\n",
       "          </shape>\n",
       "        </transform>\n",
       "        <transform translation=\"9.39859431914765 6.979750188775183 9.74290602444201\">\n",
       "          <shape>\n",
       "            <appearance>\n",
       "              <material diffuseColor=\"0.941 0.784 0.627\"/>\n",
       "            </appearance>\n",
       "            <sphere radius=\"1.11\"/>\n",
       "          </shape>\n",
       "        </transform>\n",
       "        <transform translation=\"10.947296482903832 8.234999085721418 8.246567231805832\">\n",
       "          <shape>\n",
       "            <appearance>\n",
       "              <material diffuseColor=\"0.941 0.784 0.627\"/>\n",
       "            </appearance>\n",
       "            <sphere radius=\"1.11\"/>\n",
       "          </shape>\n",
       "        </transform>\n",
       "        <transform translation=\"11.974452694846645 9.57636085764207 9.537428037055452\">\n",
       "          <shape>\n",
       "            <appearance>\n",
       "              <material diffuseColor=\"0.941 0.784 0.627\"/>\n",
       "            </appearance>\n",
       "            <sphere radius=\"1.11\"/>\n",
       "          </shape>\n",
       "        </transform>\n",
       "        <transform translation=\"13.683545662238698 10.52349431309942 8.283085520863631\">\n",
       "          <shape>\n",
       "            <appearance>\n",
       "              <material diffuseColor=\"0.941 0.784 0.627\"/>\n",
       "            </appearance>\n",
       "            <sphere radius=\"1.11\"/>\n",
       "          </shape>\n",
       "        </transform>\n",
       "        <transform translation=\"15.232954630324947 12.349446007608368 9.484790912524534\">\n",
       "          <shape>\n",
       "            <appearance>\n",
       "              <material diffuseColor=\"0.941 0.784 0.627\"/>\n",
       "            </appearance>\n",
       "            <sphere radius=\"1.11\"/>\n",
       "          </shape>\n",
       "        </transform>\n",
       "      </group>\n",
       "    </group>\n",
       "  </transform>\n",
       "</scene>\n",
       "<!--End of Inserted Scene-->\n",
       "\n",
       "        </X3D>\n",
       "    </body>\n",
       "</html>\n",
       "\n"
      ],
      "text/plain": [
       "<IPython.core.display.HTML object>"
      ]
     },
     "execution_count": 18,
     "metadata": {},
     "output_type": "execute_result"
    }
   ],
   "source": [
    "atoms.wrap()\n",
    "view_x3d(atoms)"
   ]
  },
  {
   "cell_type": "code",
   "execution_count": null,
   "id": "0644c247-83f2-4961-b446-c45b2c46e6a2",
   "metadata": {},
   "outputs": [],
   "source": []
  }
 ],
 "metadata": {
  "kernelspec": {
   "display_name": "Python 3.9",
   "language": "python",
   "name": "python39"
  },
  "language_info": {
   "codemirror_mode": {
    "name": "ipython",
    "version": 3
   },
   "file_extension": ".py",
   "mimetype": "text/x-python",
   "name": "python",
   "nbconvert_exporter": "python",
   "pygments_lexer": "ipython3",
   "version": "3.9.16"
  },
  "widgets": {
   "application/vnd.jupyter.widget-state+json": {
    "state": {
     "00a2451709da4544a2ed319428b8f10c": {
      "model_module": "@jupyter-widgets/controls",
      "model_module_version": "1.5.0",
      "model_name": "ButtonModel",
      "state": {
       "icon": "compress",
       "layout": "IPY_MODEL_fbc3eca6ddff47f9925b7a4f1afd7778",
       "style": "IPY_MODEL_f030d0a9efa14f72b56afaa3034e9006"
      }
     },
     "00a70ce13a8941f7bf5c49dbac7c9c17": {
      "model_module": "@jupyter-widgets/controls",
      "model_module_version": "1.5.0",
      "model_name": "ButtonModel",
      "state": {
       "description": "Save image",
       "layout": "IPY_MODEL_0f11a0e126e4443e90b176f77ce67dc3",
       "style": "IPY_MODEL_56df4a25cb94428196dcff42274c5ad7",
       "tooltip": "Save current frame to file.\nCurrently .png and .html are supported.\nIt takes a bit time, please be patient."
      }
     },
     "00ecf9394e824924adb4d194e78bc182": {
      "model_module": "@jupyter-widgets/base",
      "model_module_version": "1.2.0",
      "model_name": "LayoutModel",
      "state": {}
     },
     "0206fbc91529435eba0370fbbe85589d": {
      "model_module": "@jupyter-widgets/base",
      "model_module_version": "1.2.0",
      "model_name": "LayoutModel",
      "state": {}
     },
     "0217c3b773db4d749664a3390f20534a": {
      "model_module": "@jupyter-widgets/base",
      "model_module_version": "1.2.0",
      "model_name": "LayoutModel",
      "state": {}
     },
     "021ff4d7d56a42bbbe2016bf9e1af77b": {
      "model_module": "@jupyter-widgets/base",
      "model_module_version": "1.2.0",
      "model_name": "LayoutModel",
      "state": {}
     },
     "0266b16e2fe04562a48e9bd5bb06b9fb": {
      "model_module": "@jupyter-widgets/base",
      "model_module_version": "1.2.0",
      "model_name": "LayoutModel",
      "state": {}
     },
     "02d79cb8a8e14b8e82651bc27e5dd33f": {
      "model_module": "@jupyter-widgets/controls",
      "model_module_version": "1.5.0",
      "model_name": "DescriptionStyleModel",
      "state": {
       "description_width": ""
      }
     },
     "035fb3a9f03b43889482a2a198fe2b7a": {
      "model_module": "@jupyter-widgets/controls",
      "model_module_version": "1.5.0",
      "model_name": "ButtonModel",
      "state": {
       "description": "Download image",
       "layout": "IPY_MODEL_240b2b7a8cf64860aae80af211b0b099",
       "style": "IPY_MODEL_77f1e6ba13644d62873ad1cdc3386417",
       "tooltip": "Download current frame to your local PC"
      }
     },
     "03c9799e1c5b41d9877fb4594cfcf1f0": {
      "model_module": "@jupyter-widgets/controls",
      "model_module_version": "1.5.0",
      "model_name": "LinkModel",
      "state": {
       "source": [
        "IPY_MODEL_5492dbbe60084b5196a225c362536fb9",
        "value"
       ],
       "target": [
        "IPY_MODEL_f80e198876d6402ea6397e3f90922a6e",
        "frame"
       ]
      }
     },
     "03f81aab4db948d292f4d624c7a942ef": {
      "model_module": "@jupyter-widgets/controls",
      "model_module_version": "1.5.0",
      "model_name": "ButtonModel",
      "state": {
       "description": "Save image",
       "layout": "IPY_MODEL_8107b01898634fe2b94a702f249d1d3d",
       "style": "IPY_MODEL_1260b8b129c540209d2562df343ecedd",
       "tooltip": "Save current frame to file.\nCurrently .png and .html are supported.\nIt takes a bit time, please be patient."
      }
     },
     "03fe36a36843436197ef2e82c4e2df46": {
      "model_module": "@jupyter-widgets/controls",
      "model_module_version": "1.5.0",
      "model_name": "SliderStyleModel",
      "state": {
       "description_width": ""
      }
     },
     "04489ea91b014a0cb8d233c26881369c": {
      "model_module": "@jupyter-widgets/controls",
      "model_module_version": "1.5.0",
      "model_name": "FloatSliderModel",
      "state": {
       "description": "Force scale",
       "layout": "IPY_MODEL_d79050b3b92b43b7bea34ad7e1d21225",
       "step": 0.1,
       "style": "IPY_MODEL_a19914da2b4b44f69d02d9918e84cf9f",
       "value": 0.5
      }
     },
     "047c31850e384af0bf4594d3fc176da6": {
      "model_module": "@jupyter-widgets/base",
      "model_module_version": "1.2.0",
      "model_name": "LayoutModel",
      "state": {}
     },
     "048f7b7ce89d4afa8cc1fa593816949c": {
      "model_module": "@jupyter-widgets/base",
      "model_module_version": "1.2.0",
      "model_name": "LayoutModel",
      "state": {}
     },
     "0497780a18a14f9bb62b8e03c503bad5": {
      "model_module": "@jupyter-widgets/controls",
      "model_module_version": "1.5.0",
      "model_name": "FloatSliderModel",
      "state": {
       "description": "Ball size",
       "layout": "IPY_MODEL_bd2f703f419a4a7db9b25a939e3335f4",
       "max": 1.5,
       "step": 0.01,
       "style": "IPY_MODEL_6e4f15b7459a4910addcef0c5f1eed64",
       "value": 0.5
      }
     },
     "04e08e67142f4a56b39999cdf02ce6d1": {
      "model_module": "@jupyter-widgets/controls",
      "model_module_version": "1.5.0",
      "model_name": "DescriptionStyleModel",
      "state": {
       "description_width": ""
      }
     },
     "059ea022a19f464bb87144c36a0816f1": {
      "model_module": "@jupyter-widgets/base",
      "model_module_version": "1.2.0",
      "model_name": "LayoutModel",
      "state": {}
     },
     "06431985d5204072bdf742b361d31c63": {
      "model_module": "@jupyter-widgets/base",
      "model_module_version": "1.2.0",
      "model_name": "LayoutModel",
      "state": {}
     },
     "065725b394eb4598b5cf74f3318c9713": {
      "model_module": "@jupyter-widgets/controls",
      "model_module_version": "1.5.0",
      "model_name": "ButtonStyleModel",
      "state": {}
     },
     "06f6c04cd778488893fbe3cba20e0eb8": {
      "model_module": "@jupyter-widgets/base",
      "model_module_version": "1.2.0",
      "model_name": "LayoutModel",
      "state": {}
     },
     "08baf8b20bf4401d987c31d594b92529": {
      "model_module": "@jupyter-widgets/controls",
      "model_module_version": "1.5.0",
      "model_name": "DescriptionStyleModel",
      "state": {
       "description_width": ""
      }
     },
     "08bb1876403b4aa5946cf9dff309066b": {
      "model_module": "@jupyter-widgets/controls",
      "model_module_version": "1.5.0",
      "model_name": "HBoxModel",
      "state": {
       "children": [
        "IPY_MODEL_a1f0cfff859a4b5b9ec8560af88f27dc",
        "IPY_MODEL_74e7062a3d764958af9f24834f732f3b"
       ],
       "layout": "IPY_MODEL_cf1a2a9f79c9475f92a75e917ec6ad47"
      }
     },
     "092fceb686b8487cbfe8a75415f2be34": {
      "model_module": "@jupyter-widgets/controls",
      "model_module_version": "1.5.0",
      "model_name": "HBoxModel",
      "state": {
       "children": [
        "IPY_MODEL_f80e198876d6402ea6397e3f90922a6e",
        "IPY_MODEL_6cdd1b1c5275446ab6c4f43f2b6cf11f"
       ],
       "layout": "IPY_MODEL_6cc5ccdb38ce4d8c8848a1dca1bd2174"
      }
     },
     "097f2282a59c4d7daebdb4860e261055": {
      "model_module": "@jupyter-widgets/base",
      "model_module_version": "1.2.0",
      "model_name": "LayoutModel",
      "state": {}
     },
     "0a050d59320845d490546f10024d333a": {
      "model_module": "@jupyter-widgets/base",
      "model_module_version": "1.2.0",
      "model_name": "LayoutModel",
      "state": {}
     },
     "0a4e34d04b9f4c31a0f2bd68dfe8a4d2": {
      "model_module": "@jupyter-widgets/controls",
      "model_module_version": "1.5.0",
      "model_name": "ButtonStyleModel",
      "state": {}
     },
     "0ab6ba1aa5724d6885a3f5a67fe748f1": {
      "model_module": "@jupyter-widgets/base",
      "model_module_version": "1.2.0",
      "model_name": "LayoutModel",
      "state": {}
     },
     "0b62d154334c47109810f37979368254": {
      "model_module": "@jupyter-widgets/controls",
      "model_module_version": "1.5.0",
      "model_name": "LinkModel",
      "state": {
       "source": [
        "IPY_MODEL_df694081507247ebbec9299016ab1473",
        "max"
       ],
       "target": [
        "IPY_MODEL_a1f0cfff859a4b5b9ec8560af88f27dc",
        "max_frame"
       ]
      }
     },
     "0bc68b18ce6641faa186424aaeed559f": {
      "model_module": "@jupyter-widgets/controls",
      "model_module_version": "1.5.0",
      "model_name": "CheckboxModel",
      "state": {
       "description": "Show force",
       "disabled": false,
       "layout": "IPY_MODEL_91fc0410af8641149f00b5353e51c45d",
       "style": "IPY_MODEL_b5f93e73f2664429a42d872fadbf3102",
       "value": false
      }
     },
     "0c0f49d222b94b038eeeaebaf030712e": {
      "model_module": "@jupyter-widgets/controls",
      "model_module_version": "1.5.0",
      "model_name": "ButtonStyleModel",
      "state": {}
     },
     "0c2c600dcf8146459ad0d38ea33e4c95": {
      "model_module": "@jupyter-widgets/controls",
      "model_module_version": "1.5.0",
      "model_name": "SliderStyleModel",
      "state": {
       "description_width": ""
      }
     },
     "0c355c3db2be4eacb5799033116537ec": {
      "model_module": "@jupyter-widgets/base",
      "model_module_version": "1.2.0",
      "model_name": "LayoutModel",
      "state": {}
     },
     "0da00bb7b5694c77a813b5be84b2e16d": {
      "model_module": "@jupyter-widgets/base",
      "model_module_version": "1.2.0",
      "model_name": "LayoutModel",
      "state": {
       "width": "34px"
      }
     },
     "0ed5795d641f44c4801d63f03aa9441d": {
      "model_module": "@jupyter-widgets/controls",
      "model_module_version": "1.5.0",
      "model_name": "ButtonStyleModel",
      "state": {}
     },
     "0f001b267dd546f48b044bf211c0deda": {
      "model_module": "nglview-js-widgets",
      "model_module_version": "3.0.1",
      "model_name": "NGLModel",
      "state": {
       "_camera_orientation": [
        26.96698217551402,
        0,
        0,
        0,
        0,
        26.96698217551402,
        0,
        0,
        0,
        0,
        26.96698217551402,
        0,
        -7.5514998165890574,
        -5.534499883651733,
        -5.026999890804291,
        1
       ],
       "_camera_str": "orthographic",
       "_gui_theme": null,
       "_ibtn_fullscreen": "IPY_MODEL_d17a3b8d816b41b6ba295a86156f95bd",
       "_igui": null,
       "_iplayer": "IPY_MODEL_23cac6a003ff41449733ba2ead324945",
       "_ngl_color_dict": {},
       "_ngl_coordinate_resource": {},
       "_ngl_full_stage_parameters": {
        "ambientColor": 14540253,
        "ambientIntensity": 0.2,
        "backgroundColor": "white",
        "cameraEyeSep": 0.3,
        "cameraFov": 40,
        "cameraType": "orthographic",
        "clipDist": 0,
        "clipFar": 100,
        "clipNear": 0,
        "fogFar": 100,
        "fogNear": 50,
        "hoverTimeout": 0,
        "impostor": true,
        "lightColor": 14540253,
        "lightIntensity": 1,
        "mousePreset": "default",
        "panSpeed": 1,
        "quality": "medium",
        "rotateSpeed": 2,
        "sampleLevel": 0,
        "tooltip": true,
        "workerDefault": true,
        "zoomSpeed": 1.2
       },
       "_ngl_msg_archive": [
        {
         "args": [
          {
           "binary": false,
           "data": "CRYST1    7.679   11.519   15.358  60.00  60.00  60.00 P 1\nMODEL     1\nATOM      1   Si MOL     1       0.019   0.635   0.094  1.00  0.00          SI  \nATOM      2   Si MOL     1       1.551   1.296   1.465  1.00  0.00          SI  \nATOM      3   Si MOL     1       1.963   1.874   4.025  1.00  0.00          SI  \nATOM      4   Si MOL     1       3.427   2.110   4.454  1.00  0.00          SI  \nATOM      5   Si MOL     1       2.659   2.425   6.073  1.00  0.00          SI  \nATOM      6   Si MOL     1       5.364   3.129   6.463  1.00  0.00          SI  \nATOM      7   Si MOL     1       5.705   3.411   8.511  1.00  0.00          SI  \nATOM      8   Si MOL     1       7.398   4.191  10.733  1.00  0.00          SI  \nATOM      9   Si MOL     1       1.438   3.038   0.246  1.00  0.00          SI  \nATOM     10   Si MOL     1       3.561   4.562   0.603  1.00  0.00          SI  \nATOM     11   Si MOL     1       4.336   3.670   3.454  1.00  0.00          SI  \nATOM     12   Si MOL     1       5.522   4.609   4.030  1.00  0.00          SI  \nATOM     13   Si MOL     1       4.865   5.690   5.854  1.00  0.00          SI  \nATOM     14   Si MOL     1       7.848   6.679   7.440  1.00  0.00          SI  \nATOM     15   Si MOL     1       7.297   6.107   9.815  1.00  0.00          SI  \nATOM     16   Si MOL     1      10.134   7.827   9.249  1.00  0.00          SI  \nATOM     17   Si MOL     1       3.461   7.210  -0.453  1.00  0.00          SI  \nATOM     18   Si MOL     1       5.525   7.872   0.168  1.00  0.00          SI  \nATOM     19   Si MOL     1       5.994   7.805   3.890  1.00  0.00          SI  \nATOM     20   Si MOL     1       8.307   9.073   3.682  1.00  0.00          SI  \nATOM     21   Si MOL     1       7.472   8.300   6.396  1.00  0.00          SI  \nATOM     22   Si MOL     1      10.424   9.503   6.582  1.00  0.00          SI  \nATOM     23   Si MOL     1      10.606  10.054   9.623  1.00  0.00          SI  \nATOM     24   Si MOL     1      11.915  10.909   9.393  1.00  0.00          SI  \nATOM     25   Si MOL     1       3.635  -0.888   1.281  1.00  0.00          SI  \nATOM     26   Si MOL     1       5.758   1.128   0.768  1.00  0.00          SI  \nATOM     27   Si MOL     1       5.055   1.464   2.791  1.00  0.00          SI  \nATOM     28   Si MOL     1       8.103   1.941   4.549  1.00  0.00          SI  \nATOM     29   Si MOL     1       7.747   2.144   5.742  1.00  0.00          SI  \nATOM     30   Si MOL     1       9.770   3.816   6.775  1.00  0.00          SI  \nATOM     31   Si MOL     1       9.666   3.174  10.119  1.00  0.00          SI  \nATOM     32   Si MOL     1      10.934   3.949  10.370  1.00  0.00          SI  \nATOM     33   Si MOL     1       5.772   3.283   0.196  1.00  0.00          SI  \nATOM     34   Si MOL     1       7.140   4.791   0.316  1.00  0.00          SI  \nATOM     35   Si MOL     1       7.268   4.353   3.093  1.00  0.00          SI  \nATOM     36   Si MOL     1      10.297   5.247   4.745  1.00  0.00          SI  \nATOM     37   Si MOL     1       8.705   5.112   7.008  1.00  0.00          SI  \nATOM     38   Si MOL     1      12.409   7.042   6.586  1.00  0.00          SI  \nATOM     39   Si MOL     1      11.422   6.664   9.340  1.00  0.00          SI  \nATOM     40   Si MOL     1      14.325   6.880   9.860  1.00  0.00          SI  \nATOM     41   Si MOL     1       7.924   7.609  -0.679  1.00  0.00          SI  \nATOM     42   Si MOL     1      10.493   8.088  -0.214  1.00  0.00          SI  \nATOM     43   Si MOL     1       9.312   7.631   3.022  1.00  0.00          SI  \nATOM     44   Si MOL     1      10.884   9.099   3.455  1.00  0.00          SI  \nATOM     45   Si MOL     1      11.551   7.968   6.195  1.00  0.00          SI  \nATOM     46   Si MOL     1      12.960  10.465   7.488  1.00  0.00          SI  \nATOM     47   Si MOL     1      13.064  10.717   9.338  1.00  0.00          SI  \nATOM     48   Si MOL     1      15.084  11.957  10.051  1.00  0.00          SI  \nENDMDL\n",
           "type": "blob"
          }
         ],
         "kwargs": {
          "defaultRepresentation": false,
          "ext": "pdb"
         },
         "methodName": "loadFile",
         "reconstruc_color_scheme": false,
         "target": "Stage",
         "type": "call_method"
        },
        {
         "args": [
          "400px",
          "300px"
         ],
         "kwargs": {},
         "methodName": "setSize",
         "reconstruc_color_scheme": false,
         "target": "Widget",
         "type": "call_method"
        },
        {
         "args": [
          "unitcell"
         ],
         "component_index": 0,
         "kwargs": {
          "sele": "all"
         },
         "methodName": "addRepresentation",
         "reconstruc_color_scheme": false,
         "target": "compList",
         "type": "call_method"
        },
        {
         "args": [
          "spacefill"
         ],
         "component_index": 0,
         "kwargs": {
          "sele": "all"
         },
         "methodName": "addRepresentation",
         "reconstruc_color_scheme": false,
         "target": "compList",
         "type": "call_method"
        },
        {
         "args": [],
         "kwargs": {
          "cameraType": "orthographic"
         },
         "methodName": "setParameters",
         "reconstruc_color_scheme": false,
         "target": "Stage",
         "type": "call_method"
        },
        {
         "args": [
          {
           "clipDist": 0
          }
         ],
         "kwargs": {},
         "methodName": "setParameters",
         "reconstruc_color_scheme": false,
         "target": "Widget",
         "type": "call_method"
        },
        {
         "args": [
          "spacefill",
          0
         ],
         "kwargs": {
          "colorScale": "rainbow",
          "colorScheme": "element",
          "radiusScale": 0.5,
          "radiusType": "covalent"
         },
         "methodName": "updateRepresentationsByName",
         "reconstruc_color_scheme": false,
         "target": "Widget",
         "type": "call_method"
        },
        {
         "args": [
          "this._Q = [[-0.0, 0.7071067811865476, 0.7071067811865476], [0.816496580927726, -0.40824829046386285, 0.40824829046386296], [0.5773502691896257, 0.5773502691896258, -0.5773502691896257]]\n    var tooltip = document.createElement('div');\n    Object.assign(tooltip.style, {\n      display: 'none',\n      position: 'fixed',\n      zIndex: 10,\n      pointerEvents: 'none',\n      backgroundColor: 'rgba( 0, 0, 0, 0.6 )',\n      color: 'lightgrey',\n      padding: '8px',\n      fontFamily: 'sans-serif'\n    });\n    document.body.appendChild(tooltip);\n\n    var that = this;\n    this.stage.mouseControls.remove('hoverPick');\n    this.stage.signals.hovered.add(function (pickingProxy) {\n      if (pickingProxy && (pickingProxy.atom || pickingProxy.bond)) {\n        var atom = pickingProxy.atom || pickingProxy.closestBondAtom\n        var mp = pickingProxy.mouse.position\n        //tooltip.innerText = atom.element + ' i=' + atom.index + ' (' + atom.x.toFixed(2) +  ', ' + atom.y.toFixed(2) +  ', ' + atom.z.toFixed(2) + ')'\n        //var pos = that._atoms_pos[atom.index]\n        var Q = that._Q\n        var pos_x = Q[0][0] * atom.x + Q[0][1] * atom.y + Q[0][2] * atom.z \n        var pos_y = Q[1][0] * atom.x + Q[1][1] * atom.y + Q[1][2] * atom.z\n        var pos_z = Q[2][0] * atom.x + Q[2][1] * atom.y + Q[2][2] * atom.z\n        tooltip.innerText = 'i=' + atom.index + ' ' + atom.element + ' (' + pos_x.toFixed(2) +  ', ' + pos_y.toFixed(2) +  ', ' + pos_z.toFixed(2) + ')'\n        tooltip.style.bottom = window.innerHeight - mp.y + 3 + 'px'\n        tooltip.style.left = mp.x + 3 + 'px'\n        tooltip.style.display = 'block'\n      } else {\n        tooltip.style.display = 'none'\n      }\n    });\n    this.stage.tooltip = tooltip;\n    "
         ],
         "kwargs": {},
         "methodName": "executeCode",
         "reconstruc_color_scheme": false,
         "target": "Widget",
         "type": "call_method"
        }
       ],
       "_ngl_original_stage_parameters": {
        "ambientColor": 14540253,
        "ambientIntensity": 0.2,
        "backgroundColor": "white",
        "cameraEyeSep": 0.3,
        "cameraFov": 40,
        "cameraType": "perspective",
        "clipDist": 10,
        "clipFar": 100,
        "clipNear": 0,
        "fogFar": 100,
        "fogNear": 50,
        "hoverTimeout": 0,
        "impostor": true,
        "lightColor": 14540253,
        "lightIntensity": 1,
        "mousePreset": "default",
        "panSpeed": 1,
        "quality": "medium",
        "rotateSpeed": 2,
        "sampleLevel": 0,
        "tooltip": true,
        "workerDefault": true,
        "zoomSpeed": 1.2
       },
       "_ngl_repr_dict": {
        "0": {
         "0": {
          "params": {
           "clipCenter": {
            "x": 0,
            "y": 0,
            "z": 0
           },
           "clipNear": 0,
           "clipRadius": 0,
           "colorMode": "hcl",
           "colorReverse": false,
           "colorScale": "",
           "colorScheme": "element",
           "colorValue": "orange",
           "defaultAssembly": "",
           "depthWrite": true,
           "diffuse": 16777215,
           "diffuseInterior": false,
           "disableImpostor": false,
           "disablePicking": false,
           "flatShaded": false,
           "interiorColor": 2236962,
           "interiorDarkening": 0,
           "lazy": false,
           "matrix": {
            "elements": [
             1,
             0,
             0,
             0,
             0,
             1,
             0,
             0,
             0,
             0,
             1,
             0,
             0,
             0,
             0,
             1
            ]
           },
           "metalness": 0,
           "opacity": 1,
           "quality": "medium",
           "radialSegments": 10,
           "radiusData": {},
           "radiusScale": 1,
           "radiusSize": 0.04933016296568518,
           "radiusType": "vdw",
           "roughness": 0.4,
           "sele": "all",
           "side": "double",
           "sphereDetail": 1,
           "useInteriorColor": true,
           "visible": true,
           "wireframe": false
          },
          "type": "unitcell"
         },
         "1": {
          "params": {
           "assembly": "default",
           "clipCenter": {
            "x": 0,
            "y": 0,
            "z": 0
           },
           "clipNear": 0,
           "clipRadius": 0,
           "colorMode": "hcl",
           "colorReverse": false,
           "colorScale": "rainbow",
           "colorScheme": "element",
           "colorValue": 9474192,
           "defaultAssembly": "",
           "depthWrite": true,
           "diffuse": 16777215,
           "diffuseInterior": false,
           "disableImpostor": false,
           "disablePicking": false,
           "flatShaded": false,
           "interiorColor": 2236962,
           "interiorDarkening": 0,
           "lazy": false,
           "matrix": {
            "elements": [
             1,
             0,
             0,
             0,
             0,
             1,
             0,
             0,
             0,
             0,
             1,
             0,
             0,
             0,
             0,
             1
            ]
           },
           "metalness": 0,
           "opacity": 1,
           "quality": "medium",
           "radiusData": {},
           "radiusScale": 0.5,
           "radiusSize": 1,
           "radiusType": "covalent",
           "roughness": 0.4,
           "sele": "all",
           "side": "double",
           "sphereDetail": 1,
           "useInteriorColor": true,
           "visible": true,
           "wireframe": false
          },
          "type": "spacefill"
         }
        }
       },
       "_ngl_serialize": false,
       "_ngl_version": "2.0.0-dev.36",
       "_ngl_view_id": [
        "520E28EA-B3BB-41CF-83C4-B175148EFCB0"
       ],
       "_player_dict": {},
       "_scene_position": {},
       "_scene_rotation": {},
       "_synced_model_ids": [],
       "_synced_repr_model_ids": [],
       "_view_height": "",
       "_view_width": "",
       "background": "white",
       "frame": 0,
       "gui_style": null,
       "layout": "IPY_MODEL_4ca59ba8bcac444684e5ab92118bdd97",
       "max_frame": 0,
       "n_components": 1,
       "picked": {}
      }
     },
     "0f11a0e126e4443e90b176f77ce67dc3": {
      "model_module": "@jupyter-widgets/base",
      "model_module_version": "1.2.0",
      "model_name": "LayoutModel",
      "state": {}
     },
     "0fa12c3a5a644f718259b81e2607e5e6": {
      "model_module": "@jupyter-widgets/base",
      "model_module_version": "1.2.0",
      "model_name": "LayoutModel",
      "state": {}
     },
     "1085c19a67ab48118ed1a9873b65552b": {
      "model_module": "@jupyter-widgets/controls",
      "model_module_version": "1.5.0",
      "model_name": "CheckboxModel",
      "state": {
       "description": "Show force",
       "disabled": false,
       "layout": "IPY_MODEL_53c3373204984f788307ecd0898f9e5c",
       "style": "IPY_MODEL_2b1b885acc394c7383fa01e0d533f972",
       "value": false
      }
     },
     "110a07466cce4fdbac03a4fdc5ebceb7": {
      "model_module": "@jupyter-widgets/controls",
      "model_module_version": "1.5.0",
      "model_name": "DescriptionStyleModel",
      "state": {
       "description_width": ""
      }
     },
     "115f486e2df643fdbb2c4a8d598baee3": {
      "model_module": "@jupyter-widgets/controls",
      "model_module_version": "1.5.0",
      "model_name": "DescriptionStyleModel",
      "state": {
       "description_width": ""
      }
     },
     "1260b8b129c540209d2562df343ecedd": {
      "model_module": "@jupyter-widgets/controls",
      "model_module_version": "1.5.0",
      "model_name": "ButtonStyleModel",
      "state": {}
     },
     "1274838ffb50416fb087e2500c5f60e4": {
      "model_module": "@jupyter-widgets/controls",
      "model_module_version": "1.5.0",
      "model_name": "HBoxModel",
      "state": {
       "children": [
        "IPY_MODEL_72da1bfae75f4a38b770bf84e87e1356",
        "IPY_MODEL_328e52466ed74efe94b5d92dbc0dd8fd"
       ],
       "layout": "IPY_MODEL_0c355c3db2be4eacb5799033116537ec"
      }
     },
     "129d31ba32bb4ec9aa010a98322901f8": {
      "model_module": "@jupyter-widgets/base",
      "model_module_version": "1.2.0",
      "model_name": "LayoutModel",
      "state": {}
     },
     "12d84c45c404431c9300a8e127f0d7b2": {
      "model_module": "@jupyter-widgets/controls",
      "model_module_version": "1.5.0",
      "model_name": "FloatSliderModel",
      "state": {
       "description": "Charge scale",
       "layout": "IPY_MODEL_d258ab726058465888edc5d9f6136173",
       "step": 0.1,
       "style": "IPY_MODEL_1f4b39cea7954d628e7a71190928878a",
       "value": 1
      }
     },
     "135ace9630a8459b877192be1658542d": {
      "model_module": "@jupyter-widgets/controls",
      "model_module_version": "1.5.0",
      "model_name": "HBoxModel",
      "state": {
       "children": [
        "IPY_MODEL_80774604ef594ae0b5f02edc06e698e2",
        "IPY_MODEL_e9b15b6db84c46aaa4d37e01138d1e09"
       ],
       "layout": "IPY_MODEL_6ba99e5365a142a1bc62ebc954b21c45"
      }
     },
     "139d2623f17a4a9f90cb7027d8027cb8": {
      "model_module": "@jupyter-widgets/controls",
      "model_module_version": "1.5.0",
      "model_name": "PlayModel",
      "state": {
       "layout": "IPY_MODEL_68c0bd111ffd4b088496ed8764f1dac0",
       "max": 0,
       "style": "IPY_MODEL_9f4f7572c3d4496086318d5f70128ab2"
      }
     },
     "13e4feb745e5442fa591b6ce013efa74": {
      "model_module": "@jupyter-widgets/base",
      "model_module_version": "1.2.0",
      "model_name": "LayoutModel",
      "state": {}
     },
     "140b3406d22d4fb3b62a9cbcb8064458": {
      "model_module": "@jupyter-widgets/controls",
      "model_module_version": "1.5.0",
      "model_name": "ButtonStyleModel",
      "state": {}
     },
     "1435b2c7c3eb427da7adfe3e49eca580": {
      "model_module": "@jupyter-widgets/controls",
      "model_module_version": "1.5.0",
      "model_name": "VBoxModel",
      "state": {
       "children": [
        "IPY_MODEL_3f6012f862a4453b95ded9babaa9029d",
        "IPY_MODEL_434cb2852bc7406d9d3de3f7affe0381",
        "IPY_MODEL_7bd4dd77a4f84ae2b9873a0b81f56469",
        "IPY_MODEL_40964c2584b64deeacf8cd327aa4bad3",
        "IPY_MODEL_501e42c10b6149908b47015cb021da20",
        "IPY_MODEL_0bc68b18ce6641faa186424aaeed559f",
        "IPY_MODEL_6280f25050a8479cab15b461c5a65b8b",
        "IPY_MODEL_69d62a5be2aa4f42a1650ea9d25c9487",
        "IPY_MODEL_b464fa9fa2384b7098190fc3b5aaf8bb",
        "IPY_MODEL_e96856953229443c8be3022f8c803c6e"
       ],
       "layout": "IPY_MODEL_fb4a70b5c75446f0994f4fa5f96afee1"
      }
     },
     "15d444913f93464e8ef7a61e4e4a86a4": {
      "model_module": "@jupyter-widgets/controls",
      "model_module_version": "1.5.0",
      "model_name": "DescriptionStyleModel",
      "state": {
       "description_width": ""
      }
     },
     "163fa2e02b584a1c98fb3ef6da8ed2a0": {
      "model_module": "@jupyter-widgets/controls",
      "model_module_version": "1.5.0",
      "model_name": "SliderStyleModel",
      "state": {
       "description_width": ""
      }
     },
     "16ae0ce0ae64421e874a12cecd9abf94": {
      "model_module": "@jupyter-widgets/controls",
      "model_module_version": "1.5.0",
      "model_name": "FloatSliderModel",
      "state": {
       "description": "Force scale",
       "layout": "IPY_MODEL_8358952b7cb74d97a5fb410245ff5c8c",
       "step": 0.1,
       "style": "IPY_MODEL_a16cfcced21b425f9ec51e60af7082d6",
       "value": 0.5
      }
     },
     "16cd39f5e30b4e8891ca17b5602ebac4": {
      "model_module": "@jupyter-widgets/controls",
      "model_module_version": "1.5.0",
      "model_name": "DescriptionStyleModel",
      "state": {
       "description_width": ""
      }
     },
     "17346db533324b1685fad18271db9f41": {
      "model_module": "@jupyter-widgets/controls",
      "model_module_version": "1.5.0",
      "model_name": "FloatSliderModel",
      "state": {
       "description": "Ball size",
       "layout": "IPY_MODEL_021ff4d7d56a42bbbe2016bf9e1af77b",
       "max": 1.5,
       "step": 0.01,
       "style": "IPY_MODEL_44e224a2d9ab4351825b8a1ae114b6db",
       "value": 0.5
      }
     },
     "180e051b66dc4c6295acd2e39deed05f": {
      "model_module": "@jupyter-widgets/controls",
      "model_module_version": "1.5.0",
      "model_name": "SliderStyleModel",
      "state": {
       "description_width": ""
      }
     },
     "1817eb90e8764d6b8c8b33d26d9f8742": {
      "model_module": "@jupyter-widgets/base",
      "model_module_version": "1.2.0",
      "model_name": "LayoutModel",
      "state": {
       "border": "0px solid black"
      }
     },
     "187d9c6aef384becb6e49435ce647fb7": {
      "model_module": "@jupyter-widgets/base",
      "model_module_version": "1.2.0",
      "model_name": "LayoutModel",
      "state": {}
     },
     "1880e54863304c9daae45a871c1a1b30": {
      "model_module": "@jupyter-widgets/controls",
      "model_module_version": "1.5.0",
      "model_name": "HBoxModel",
      "state": {
       "children": [
        "IPY_MODEL_b1260eb9fc3d4746abc97578bf00020e",
        "IPY_MODEL_df694081507247ebbec9299016ab1473"
       ],
       "layout": "IPY_MODEL_c1d11d79ecd14a9aa8a6ed6acd631514"
      }
     },
     "19d83c087e0943d4aaa4d4cedef2f5c9": {
      "model_module": "@jupyter-widgets/controls",
      "model_module_version": "1.5.0",
      "model_name": "SliderStyleModel",
      "state": {
       "description_width": ""
      }
     },
     "1a040e2fbaf34fc8bc8c3ea17a06c632": {
      "model_module": "@jupyter-widgets/controls",
      "model_module_version": "1.5.0",
      "model_name": "IntSliderModel",
      "state": {
       "layout": "IPY_MODEL_5db74bb380934dac9c77d9cd0cbea084",
       "max": 0,
       "style": "IPY_MODEL_659f41c98e6042f79e69e8789676557d"
      }
     },
     "1a0fe2de4ba748738effa800303a6d8c": {
      "model_module": "@jupyter-widgets/controls",
      "model_module_version": "1.5.0",
      "model_name": "DescriptionStyleModel",
      "state": {
       "description_width": ""
      }
     },
     "1a3c113649da480abd877c5e31deaf56": {
      "model_module": "@jupyter-widgets/controls",
      "model_module_version": "1.5.0",
      "model_name": "LinkModel",
      "state": {
       "source": [
        "IPY_MODEL_80774604ef594ae0b5f02edc06e698e2",
        "value"
       ],
       "target": [
        "IPY_MODEL_6aa8136390e04982b5b11bd4908f0ea2",
        "frame"
       ]
      }
     },
     "1c6a44263d9940f9b0c31ea822e6ee23": {
      "model_module": "@jupyter-widgets/controls",
      "model_module_version": "1.5.0",
      "model_name": "HBoxModel",
      "state": {
       "children": [
        "IPY_MODEL_5492dbbe60084b5196a225c362536fb9",
        "IPY_MODEL_7e63fae4abd0438f8b84ae171a65dbd4"
       ],
       "layout": "IPY_MODEL_20e2282d7ef14307b20e4f0ce91b1ae7"
      }
     },
     "1c92498443ba45228bd38fafb2776e7c": {
      "model_module": "@jupyter-widgets/controls",
      "model_module_version": "1.5.0",
      "model_name": "DescriptionStyleModel",
      "state": {
       "description_width": ""
      }
     },
     "1e4a029e1e644230a4cb1a55e8ac6b1c": {
      "model_module": "@jupyter-widgets/controls",
      "model_module_version": "1.5.0",
      "model_name": "LinkModel",
      "state": {
       "source": [
        "IPY_MODEL_80774604ef594ae0b5f02edc06e698e2",
        "value"
       ],
       "target": [
        "IPY_MODEL_e9b15b6db84c46aaa4d37e01138d1e09",
        "value"
       ]
      }
     },
     "1f081807622c4aa08e384db0bedb1e19": {
      "model_module": "@jupyter-widgets/base",
      "model_module_version": "1.2.0",
      "model_name": "LayoutModel",
      "state": {}
     },
     "1f4b39cea7954d628e7a71190928878a": {
      "model_module": "@jupyter-widgets/controls",
      "model_module_version": "1.5.0",
      "model_name": "SliderStyleModel",
      "state": {
       "description_width": ""
      }
     },
     "1fb17ae76da94319aa474b0178d1d07b": {
      "model_module": "@jupyter-widgets/base",
      "model_module_version": "1.2.0",
      "model_name": "LayoutModel",
      "state": {}
     },
     "20e2282d7ef14307b20e4f0ce91b1ae7": {
      "model_module": "@jupyter-widgets/base",
      "model_module_version": "1.2.0",
      "model_name": "LayoutModel",
      "state": {}
     },
     "212c104b9a6d44838afd858bf79053e4": {
      "model_module": "@jupyter-widgets/controls",
      "model_module_version": "1.5.0",
      "model_name": "DescriptionStyleModel",
      "state": {
       "description_width": ""
      }
     },
     "217d99a46bc5489e88f567c4e36646f0": {
      "model_module": "@jupyter-widgets/controls",
      "model_module_version": "1.5.0",
      "model_name": "IntSliderModel",
      "state": {
       "layout": "IPY_MODEL_b50cef7575db499d988c956d5727e106",
       "max": 0,
       "style": "IPY_MODEL_b386d03e851f480089db3c904727b458"
      }
     },
     "21a34cb5c58b454e9a72b8b82d8c5f70": {
      "model_module": "@jupyter-widgets/controls",
      "model_module_version": "1.5.0",
      "model_name": "DropdownModel",
      "state": {
       "_options_labels": [
        " ",
        "picking",
        "random",
        "uniform",
        "atomindex",
        "residueindex",
        "chainindex",
        "modelindex",
        "sstruc",
        "element",
        "resname",
        "bfactor",
        "hydrophobicity",
        "value",
        "volume",
        "occupancy"
       ],
       "description": "Color scheme",
       "index": 9,
       "layout": "IPY_MODEL_a1e39265c8ba4eaba11299e13d1f638e",
       "style": "IPY_MODEL_5aec10372bfc433d8f884cfc87de99db"
      }
     },
     "21df46e285784092ab56ea0105c70a72": {
      "model_module": "@jupyter-widgets/controls",
      "model_module_version": "1.5.0",
      "model_name": "ButtonStyleModel",
      "state": {}
     },
     "21ebb97aeb894a6ea438e6b8ae8c23cb": {
      "model_module": "@jupyter-widgets/base",
      "model_module_version": "1.2.0",
      "model_name": "LayoutModel",
      "state": {}
     },
     "22c33f2a9eed42e8b3b402ddb6349637": {
      "model_module": "@jupyter-widgets/base",
      "model_module_version": "1.2.0",
      "model_name": "LayoutModel",
      "state": {}
     },
     "23cac6a003ff41449733ba2ead324945": {
      "model_module": "@jupyter-widgets/controls",
      "model_module_version": "1.5.0",
      "model_name": "HBoxModel",
      "state": {
       "children": [
        "IPY_MODEL_fdcca0422a5841428b40d6a8323163b3",
        "IPY_MODEL_1a040e2fbaf34fc8bc8c3ea17a06c632"
       ],
       "layout": "IPY_MODEL_6064c39652684fc5b019e8f04e5c4d5c"
      }
     },
     "240b2b7a8cf64860aae80af211b0b099": {
      "model_module": "@jupyter-widgets/base",
      "model_module_version": "1.2.0",
      "model_name": "LayoutModel",
      "state": {}
     },
     "24af3f798941467c98b2586ad04b19c9": {
      "model_module": "@jupyter-widgets/base",
      "model_module_version": "1.2.0",
      "model_name": "LayoutModel",
      "state": {}
     },
     "24cef6cd249741f0b5d430ec70532b0a": {
      "model_module": "@jupyter-widgets/controls",
      "model_module_version": "1.5.0",
      "model_name": "DropdownModel",
      "state": {
       "_options_labels": [
        "All",
        "Fe"
       ],
       "description": "Show",
       "index": 0,
       "layout": "IPY_MODEL_a2253e75f70041bc8bd702576c3b3734",
       "style": "IPY_MODEL_4ee8a76062f2475c9ab387e307397ef5"
      }
     },
     "2532384362c146fbbca2f0baa23cca90": {
      "model_module": "@jupyter-widgets/controls",
      "model_module_version": "1.5.0",
      "model_name": "FloatSliderModel",
      "state": {
       "description": "Force scale",
       "layout": "IPY_MODEL_f7a637d169804ce39dca8bf7098d2c31",
       "step": 0.1,
       "style": "IPY_MODEL_8f892bc7f4dc4fbb9cb395869e7fca9a",
       "value": 0.5
      }
     },
     "264834dd39bd4b63877d41f1ee4a58ee": {
      "model_module": "@jupyter-widgets/base",
      "model_module_version": "1.2.0",
      "model_name": "LayoutModel",
      "state": {}
     },
     "27c1e7d130de4656b98cade2208a778e": {
      "model_module": "@jupyter-widgets/base",
      "model_module_version": "1.2.0",
      "model_name": "LayoutModel",
      "state": {}
     },
     "28dca74ff5684e6998d20751cd853759": {
      "model_module": "@jupyter-widgets/controls",
      "model_module_version": "1.5.0",
      "model_name": "SliderStyleModel",
      "state": {
       "description_width": ""
      }
     },
     "292222a9da57406d8ba8e4234eacb9f1": {
      "model_module": "@jupyter-widgets/base",
      "model_module_version": "1.2.0",
      "model_name": "LayoutModel",
      "state": {}
     },
     "292fbec39fac454b8baf4b1a2b8c65c5": {
      "model_module": "@jupyter-widgets/controls",
      "model_module_version": "1.5.0",
      "model_name": "DescriptionStyleModel",
      "state": {
       "description_width": ""
      }
     },
     "2930a1fab50940109fb782060db0509a": {
      "model_module": "@jupyter-widgets/controls",
      "model_module_version": "1.5.0",
      "model_name": "SliderStyleModel",
      "state": {
       "description_width": ""
      }
     },
     "29b80ccd70244480b83914845a68c371": {
      "model_module": "@jupyter-widgets/controls",
      "model_module_version": "1.5.0",
      "model_name": "LinkModel",
      "state": {
       "source": [
        "IPY_MODEL_ee4768b4195743d69f97edae104a31fe",
        "value"
       ],
       "target": [
        "IPY_MODEL_d952f33b649640088197eedf1540eabc",
        "value"
       ]
      }
     },
     "2af039e926804d7ebdfa9609ceeeaf10": {
      "model_module": "@jupyter-widgets/controls",
      "model_module_version": "1.5.0",
      "model_name": "LinkModel",
      "state": {
       "source": [
        "IPY_MODEL_5492dbbe60084b5196a225c362536fb9",
        "max"
       ],
       "target": [
        "IPY_MODEL_f80e198876d6402ea6397e3f90922a6e",
        "max_frame"
       ]
      }
     },
     "2b1b885acc394c7383fa01e0d533f972": {
      "model_module": "@jupyter-widgets/controls",
      "model_module_version": "1.5.0",
      "model_name": "DescriptionStyleModel",
      "state": {
       "description_width": ""
      }
     },
     "2c08b988810a405fbc286fe07ad7a6fb": {
      "model_module": "@jupyter-widgets/base",
      "model_module_version": "1.2.0",
      "model_name": "LayoutModel",
      "state": {}
     },
     "2d0a3d32bd6148b09678c4da92fce7c5": {
      "model_module": "@jupyter-widgets/controls",
      "model_module_version": "1.5.0",
      "model_name": "ButtonModel",
      "state": {
       "icon": "compress",
       "layout": "IPY_MODEL_41faf63c41bc48ac81f346868de773a9",
       "style": "IPY_MODEL_0c0f49d222b94b038eeeaebaf030712e"
      }
     },
     "2dcfbe090110465c86fc109a04834c7c": {
      "model_module": "@jupyter-widgets/base",
      "model_module_version": "1.2.0",
      "model_name": "LayoutModel",
      "state": {}
     },
     "2f8f1fec12d144ed887bbdfd7de5414a": {
      "model_module": "@jupyter-widgets/base",
      "model_module_version": "1.2.0",
      "model_name": "LayoutModel",
      "state": {
       "width": "34px"
      }
     },
     "328e52466ed74efe94b5d92dbc0dd8fd": {
      "model_module": "@jupyter-widgets/controls",
      "model_module_version": "1.5.0",
      "model_name": "IntSliderModel",
      "state": {
       "layout": "IPY_MODEL_44475de7248349cb85372ab9c8defdc1",
       "max": 0,
       "style": "IPY_MODEL_9485c8e9845e4c3599ea5daa971477c3"
      }
     },
     "32d1b0a5fefe4341911d7c6e8582dd55": {
      "model_module": "@jupyter-widgets/controls",
      "model_module_version": "1.5.0",
      "model_name": "ButtonStyleModel",
      "state": {}
     },
     "32eee4676e0b4b5c98e7f077601112c2": {
      "model_module": "@jupyter-widgets/controls",
      "model_module_version": "1.5.0",
      "model_name": "ButtonModel",
      "state": {
       "description": "Save image",
       "layout": "IPY_MODEL_8f877d07fe8949e39490b9f9019d10ba",
       "style": "IPY_MODEL_faa1a5ca36574f6b92bebae83f97004d",
       "tooltip": "Save current frame to file.\nCurrently .png and .html are supported.\nIt takes a bit time, please be patient."
      }
     },
     "338289efeda045e4b311fc248862eb8a": {
      "model_module": "@jupyter-widgets/controls",
      "model_module_version": "1.5.0",
      "model_name": "ButtonStyleModel",
      "state": {}
     },
     "338b5f4bcd1e436aa1c19101b670d349": {
      "model_module": "@jupyter-widgets/controls",
      "model_module_version": "1.5.0",
      "model_name": "ButtonModel",
      "state": {
       "icon": "compress",
       "layout": "IPY_MODEL_f96f20b08666460e99d51dceff06a030",
       "style": "IPY_MODEL_f93a7bd7722a4e0489ac71467ea6b5ba"
      }
     },
     "346ce47811ce4f34a234343efa71984c": {
      "model_module": "@jupyter-widgets/controls",
      "model_module_version": "1.5.0",
      "model_name": "HBoxModel",
      "state": {
       "children": [
        "IPY_MODEL_a6df092adb884c7489fcfc01c6a86e9f",
        "IPY_MODEL_ea64f3d1e17846bdbbce2964dcfc3b33"
       ],
       "layout": "IPY_MODEL_bce2a18a8cc84808a33bcedf5aca88cb"
      }
     },
     "3564fc17e6ef4bca84321390118571bc": {
      "model_module": "@jupyter-widgets/controls",
      "model_module_version": "1.5.0",
      "model_name": "LinkModel",
      "state": {
       "source": [
        "IPY_MODEL_139d2623f17a4a9f90cb7027d8027cb8",
        "value"
       ],
       "target": [
        "IPY_MODEL_91065972b01d4fb69400d6b67d11eb94",
        "value"
       ]
      }
     },
     "369ad4ed643049bbbf42a260aebe43cc": {
      "model_module": "@jupyter-widgets/controls",
      "model_module_version": "1.5.0",
      "model_name": "TextModel",
      "state": {
       "description": "Filename: ",
       "layout": "IPY_MODEL_c9d5e15f7d384d2bba43ed4030b12638",
       "style": "IPY_MODEL_4712703f2e584d1fab0bd3142893e850",
       "value": "screenshot.png"
      }
     },
     "3776d1071edc4e488ab875e67d6beafb": {
      "model_module": "@jupyter-widgets/base",
      "model_module_version": "1.2.0",
      "model_name": "LayoutModel",
      "state": {}
     },
     "379ad69b75414bea94119b31ccd5bc00": {
      "model_module": "@jupyter-widgets/controls",
      "model_module_version": "1.5.0",
      "model_name": "SliderStyleModel",
      "state": {
       "description_width": ""
      }
     },
     "383cc848e02f444c89326ab04267265e": {
      "model_module": "nglview-js-widgets",
      "model_module_version": "3.0.1",
      "model_name": "NGLModel",
      "state": {
       "_camera_orientation": [
        7.198836743477543,
        0,
        0,
        0,
        0,
        7.198836743477543,
        0,
        0,
        0,
        0,
        7.198836743477543,
        0,
        -0.20200002193450928,
        0.08449995517730713,
        0,
        1
       ],
       "_camera_str": "orthographic",
       "_gui_theme": null,
       "_ibtn_fullscreen": "IPY_MODEL_ee2ab48a85944162a7b058ae644347bc",
       "_igui": null,
       "_iplayer": "IPY_MODEL_c6c0d49f31fc4395a6cf43b92ba728be",
       "_ngl_color_dict": {},
       "_ngl_coordinate_resource": {},
       "_ngl_full_stage_parameters": {
        "ambientColor": 14540253,
        "ambientIntensity": 0.2,
        "backgroundColor": "white",
        "cameraEyeSep": 0.3,
        "cameraFov": 40,
        "cameraType": "orthographic",
        "clipDist": 0,
        "clipFar": 100,
        "clipNear": 0,
        "fogFar": 100,
        "fogNear": 50,
        "hoverTimeout": 0,
        "impostor": true,
        "lightColor": 14540253,
        "lightIntensity": 1,
        "mousePreset": "default",
        "panSpeed": 1,
        "quality": "medium",
        "rotateSpeed": 2,
        "sampleLevel": 0,
        "tooltip": true,
        "workerDefault": true,
        "zoomSpeed": 1.2
       },
       "_ngl_msg_archive": [
        {
         "args": [
          {
           "binary": false,
           "data": "MODEL     1\nATOM      1    O MOL     1       2.000   0.000   0.000  1.00  0.00           O  \nATOM      2    C MOL     1       0.000   0.464   0.000  1.00  0.00           C  \nATOM      3    H MOL     1      -0.477   1.465   0.000  1.00  0.00           H  \nATOM      4    C MOL     1      -0.948  -0.700   0.000  1.00  0.00           C  \nATOM      5    H MOL     1      -0.386  -1.634   0.000  1.00  0.00           H  \nATOM      6    H MOL     1      -1.596  -0.652   0.881  1.00  0.00           H  \nATOM      7    H MOL     1      -1.596  -0.652  -0.881  1.00  0.00           H  \nENDMDL\n",
           "type": "blob"
          }
         ],
         "kwargs": {
          "defaultRepresentation": false,
          "ext": "pdb"
         },
         "methodName": "loadFile",
         "reconstruc_color_scheme": false,
         "target": "Stage",
         "type": "call_method"
        },
        {
         "args": [
          "400px",
          "300px"
         ],
         "kwargs": {},
         "methodName": "setSize",
         "reconstruc_color_scheme": false,
         "target": "Widget",
         "type": "call_method"
        },
        {
         "args": [
          "unitcell"
         ],
         "component_index": 0,
         "kwargs": {
          "sele": "all"
         },
         "methodName": "addRepresentation",
         "reconstruc_color_scheme": false,
         "target": "compList",
         "type": "call_method"
        },
        {
         "args": [
          "spacefill"
         ],
         "component_index": 0,
         "kwargs": {
          "sele": "all"
         },
         "methodName": "addRepresentation",
         "reconstruc_color_scheme": false,
         "target": "compList",
         "type": "call_method"
        },
        {
         "args": [],
         "kwargs": {
          "cameraType": "orthographic"
         },
         "methodName": "setParameters",
         "reconstruc_color_scheme": false,
         "target": "Stage",
         "type": "call_method"
        },
        {
         "args": [
          {
           "clipDist": 0
          }
         ],
         "kwargs": {},
         "methodName": "setParameters",
         "reconstruc_color_scheme": false,
         "target": "Widget",
         "type": "call_method"
        },
        {
         "args": [
          "spacefill",
          0
         ],
         "kwargs": {
          "colorScale": "rainbow",
          "colorScheme": "element",
          "radiusScale": 0.5,
          "radiusType": "covalent"
         },
         "methodName": "updateRepresentationsByName",
         "reconstruc_color_scheme": false,
         "target": "Widget",
         "type": "call_method"
        },
        {
         "args": [
          "this._Q = [[1.0, 0.0, 0.0], [0.0, 1.0, 0.0], [0.0, 0.0, 1.0]]\n    var tooltip = document.createElement('div');\n    Object.assign(tooltip.style, {\n      display: 'none',\n      position: 'fixed',\n      zIndex: 10,\n      pointerEvents: 'none',\n      backgroundColor: 'rgba( 0, 0, 0, 0.6 )',\n      color: 'lightgrey',\n      padding: '8px',\n      fontFamily: 'sans-serif'\n    });\n    document.body.appendChild(tooltip);\n\n    var that = this;\n    this.stage.mouseControls.remove('hoverPick');\n    this.stage.signals.hovered.add(function (pickingProxy) {\n      if (pickingProxy && (pickingProxy.atom || pickingProxy.bond)) {\n        var atom = pickingProxy.atom || pickingProxy.closestBondAtom\n        var mp = pickingProxy.mouse.position\n        //tooltip.innerText = atom.element + ' i=' + atom.index + ' (' + atom.x.toFixed(2) +  ', ' + atom.y.toFixed(2) +  ', ' + atom.z.toFixed(2) + ')'\n        //var pos = that._atoms_pos[atom.index]\n        var Q = that._Q\n        var pos_x = Q[0][0] * atom.x + Q[0][1] * atom.y + Q[0][2] * atom.z \n        var pos_y = Q[1][0] * atom.x + Q[1][1] * atom.y + Q[1][2] * atom.z\n        var pos_z = Q[2][0] * atom.x + Q[2][1] * atom.y + Q[2][2] * atom.z\n        tooltip.innerText = 'i=' + atom.index + ' ' + atom.element + ' (' + pos_x.toFixed(2) +  ', ' + pos_y.toFixed(2) +  ', ' + pos_z.toFixed(2) + ')'\n        tooltip.style.bottom = window.innerHeight - mp.y + 3 + 'px'\n        tooltip.style.left = mp.x + 3 + 'px'\n        tooltip.style.display = 'block'\n      } else {\n        tooltip.style.display = 'none'\n      }\n    });\n    this.stage.tooltip = tooltip;\n    "
         ],
         "kwargs": {},
         "methodName": "executeCode",
         "reconstruc_color_scheme": false,
         "target": "Widget",
         "type": "call_method"
        },
        {
         "args": [
          "ball+stick"
         ],
         "component_index": 0,
         "kwargs": {
          "sele": "all"
         },
         "methodName": "addRepresentation",
         "reconstruc_color_scheme": false,
         "target": "compList",
         "type": "call_method"
        }
       ],
       "_ngl_original_stage_parameters": {
        "ambientColor": 14540253,
        "ambientIntensity": 0.2,
        "backgroundColor": "white",
        "cameraEyeSep": 0.3,
        "cameraFov": 40,
        "cameraType": "perspective",
        "clipDist": 10,
        "clipFar": 100,
        "clipNear": 0,
        "fogFar": 100,
        "fogNear": 50,
        "hoverTimeout": 0,
        "impostor": true,
        "lightColor": 14540253,
        "lightIntensity": 1,
        "mousePreset": "default",
        "panSpeed": 1,
        "quality": "medium",
        "rotateSpeed": 2,
        "sampleLevel": 0,
        "tooltip": true,
        "workerDefault": true,
        "zoomSpeed": 1.2
       },
       "_ngl_repr_dict": {
        "0": {
         "0": {
          "params": {
           "clipCenter": {
            "x": 0,
            "y": 0,
            "z": 0
           },
           "clipNear": 0,
           "clipRadius": 0,
           "colorMode": "hcl",
           "colorReverse": false,
           "colorScale": "",
           "colorScheme": "element",
           "colorValue": "orange",
           "defaultAssembly": "",
           "depthWrite": true,
           "diffuse": 16777215,
           "diffuseInterior": false,
           "disableImpostor": false,
           "disablePicking": false,
           "flatShaded": false,
           "interiorColor": 2236962,
           "interiorDarkening": 0,
           "lazy": false,
           "matrix": {
            "elements": [
             1,
             0,
             0,
             0,
             0,
             1,
             0,
             0,
             0,
             0,
             1,
             0,
             0,
             0,
             0,
             1
            ]
           },
           "metalness": 0,
           "opacity": 1,
           "quality": "medium",
           "radialSegments": 10,
           "radiusData": {},
           "radiusScale": 1,
           "radiusSize": 0.5,
           "radiusType": "vdw",
           "roughness": 0.4,
           "sele": "all",
           "side": "double",
           "sphereDetail": 1,
           "useInteriorColor": true,
           "visible": true,
           "wireframe": false
          },
          "type": "unitcell"
         },
         "1": {
          "params": {
           "assembly": "default",
           "clipCenter": {
            "x": 0,
            "y": 0,
            "z": 0
           },
           "clipNear": 0,
           "clipRadius": 0,
           "colorMode": "hcl",
           "colorReverse": false,
           "colorScale": "rainbow",
           "colorScheme": "element",
           "colorValue": 9474192,
           "defaultAssembly": "",
           "depthWrite": true,
           "diffuse": 16777215,
           "diffuseInterior": false,
           "disableImpostor": false,
           "disablePicking": false,
           "flatShaded": false,
           "interiorColor": 2236962,
           "interiorDarkening": 0,
           "lazy": false,
           "matrix": {
            "elements": [
             1,
             0,
             0,
             0,
             0,
             1,
             0,
             0,
             0,
             0,
             1,
             0,
             0,
             0,
             0,
             1
            ]
           },
           "metalness": 0,
           "opacity": 1,
           "quality": "medium",
           "radiusData": {},
           "radiusScale": 0.5,
           "radiusSize": 1,
           "radiusType": "covalent",
           "roughness": 0.4,
           "sele": "all",
           "side": "double",
           "sphereDetail": 1,
           "useInteriorColor": true,
           "visible": true,
           "wireframe": false
          },
          "type": "spacefill"
         },
         "2": {
          "params": {
           "aspectRatio": 2,
           "assembly": "default",
           "bondScale": 0.4,
           "bondSpacing": 1,
           "clipCenter": {
            "x": 0,
            "y": 0,
            "z": 0
           },
           "clipNear": 0,
           "clipRadius": 0,
           "colorMode": "hcl",
           "colorReverse": false,
           "colorScale": "",
           "colorScheme": "element",
           "colorValue": 9474192,
           "cylinderOnly": false,
           "defaultAssembly": "",
           "depthWrite": true,
           "diffuse": 16777215,
           "diffuseInterior": false,
           "disableImpostor": false,
           "disablePicking": false,
           "flatShaded": false,
           "interiorColor": 2236962,
           "interiorDarkening": 0,
           "lazy": false,
           "lineOnly": false,
           "linewidth": 2,
           "matrix": {
            "elements": [
             1,
             0,
             0,
             0,
             0,
             1,
             0,
             0,
             0,
             0,
             1,
             0,
             0,
             0,
             0,
             1
            ]
           },
           "metalness": 0,
           "multipleBond": "off",
           "opacity": 1,
           "openEnded": true,
           "quality": "medium",
           "radialSegments": 10,
           "radiusData": {},
           "radiusScale": 1,
           "radiusSize": 0.15,
           "radiusType": "size",
           "roughness": 0.4,
           "sele": "all",
           "side": "double",
           "sphereDetail": 1,
           "useInteriorColor": true,
           "visible": true,
           "wireframe": false
          },
          "type": "ball+stick"
         }
        }
       },
       "_ngl_serialize": false,
       "_ngl_version": "2.0.0-dev.36",
       "_ngl_view_id": [
        "2A5219DF-7D17-4301-A412-DF9D59364D8B"
       ],
       "_player_dict": {},
       "_scene_position": {},
       "_scene_rotation": {},
       "_synced_model_ids": [],
       "_synced_repr_model_ids": [],
       "_view_height": "",
       "_view_width": "",
       "background": "white",
       "frame": 0,
       "gui_style": null,
       "layout": "IPY_MODEL_a63a851a1e7f4e19a2817794dd5742bb",
       "max_frame": 0,
       "n_components": 1,
       "picked": {}
      }
     },
     "387439f10a474a928ff9ae331d531cc2": {
      "model_module": "@jupyter-widgets/base",
      "model_module_version": "1.2.0",
      "model_name": "LayoutModel",
      "state": {}
     },
     "38929c6c882d4bc0a049d2242932d050": {
      "model_module": "@jupyter-widgets/controls",
      "model_module_version": "1.5.0",
      "model_name": "HBoxModel",
      "state": {
       "children": [
        "IPY_MODEL_7b356e69bd6a4d9aaf5bb3dd01671075",
        "IPY_MODEL_69a1b8591e4e4f49ac3adea684165906"
       ],
       "layout": "IPY_MODEL_38d29caf5c264a15b37ed2ffb4eecf6e"
      }
     },
     "38bc9aeab15743748a838f8874320446": {
      "model_module": "@jupyter-widgets/controls",
      "model_module_version": "1.5.0",
      "model_name": "ButtonStyleModel",
      "state": {}
     },
     "38c9f0b801b2410981d14d2859a49409": {
      "model_module": "@jupyter-widgets/output",
      "model_module_version": "1.0.0",
      "model_name": "OutputModel",
      "state": {
       "layout": "IPY_MODEL_4de9cedca4e844659a0f83aaec324b5f"
      }
     },
     "38d29caf5c264a15b37ed2ffb4eecf6e": {
      "model_module": "@jupyter-widgets/base",
      "model_module_version": "1.2.0",
      "model_name": "LayoutModel",
      "state": {}
     },
     "396b5140a0204027b19513c83d078d61": {
      "model_module": "@jupyter-widgets/base",
      "model_module_version": "1.2.0",
      "model_name": "LayoutModel",
      "state": {}
     },
     "3a3e382bf7d44d6caf7cdfad840fa6d7": {
      "model_module": "@jupyter-widgets/controls",
      "model_module_version": "1.5.0",
      "model_name": "LinkModel",
      "state": {
       "source": [
        "IPY_MODEL_ee4768b4195743d69f97edae104a31fe",
        "value"
       ],
       "target": [
        "IPY_MODEL_b05b599f2f3641119076371afad87351",
        "frame"
       ]
      }
     },
     "3a4fc29db7b84974854b66878f637c55": {
      "model_module": "@jupyter-widgets/controls",
      "model_module_version": "1.5.0",
      "model_name": "DescriptionStyleModel",
      "state": {
       "description_width": ""
      }
     },
     "3af3a441878e4a3a90918b817aa267a5": {
      "model_module": "@jupyter-widgets/controls",
      "model_module_version": "1.5.0",
      "model_name": "HBoxModel",
      "state": {
       "children": [
        "IPY_MODEL_53a2a45f0a2843a795845844bd51365a",
        "IPY_MODEL_e3d87ed90a684dad9df5e2660ffc043f"
       ],
       "layout": "IPY_MODEL_9f72c61901674e438329412b6dce38d9"
      }
     },
     "3b6011303aa7434bb9677facb38b8f4f": {
      "model_module": "@jupyter-widgets/base",
      "model_module_version": "1.2.0",
      "model_name": "LayoutModel",
      "state": {
       "border": "0px solid black"
      }
     },
     "3ba11ffa9a324982941a0798a66399e4": {
      "model_module": "@jupyter-widgets/controls",
      "model_module_version": "1.5.0",
      "model_name": "ImageModel",
      "state": {
       "layout": "IPY_MODEL_b18820c791b64243a59eb15a74911eae",
       "width": "900.0"
      }
     },
     "3c186e547cef4a93ad6ce4503b7aca4c": {
      "model_module": "@jupyter-widgets/controls",
      "model_module_version": "1.5.0",
      "model_name": "LinkModel",
      "state": {
       "source": [
        "IPY_MODEL_ee4768b4195743d69f97edae104a31fe",
        "max"
       ],
       "target": [
        "IPY_MODEL_b05b599f2f3641119076371afad87351",
        "max_frame"
       ]
      }
     },
     "3c94e1dd73674e1f90556b1ea6204bf3": {
      "model_module": "@jupyter-widgets/controls",
      "model_module_version": "1.5.0",
      "model_name": "VBoxModel",
      "state": {
       "children": [
        "IPY_MODEL_a0c9970398434d5a82c14e84884c0e9d",
        "IPY_MODEL_e90465c5af584e38bc2b75c2383b9b32",
        "IPY_MODEL_f850fe666e1d40a2bf52c1f945719376",
        "IPY_MODEL_369ad4ed643049bbbf42a260aebe43cc",
        "IPY_MODEL_a65afb3510ac42a2bfe7452b5a98ed63",
        "IPY_MODEL_a5558dcb17f74e40a79067d8f2a94624",
        "IPY_MODEL_76cec9276ad94181b8ce1859de37c2c5",
        "IPY_MODEL_6fedb979b1ac4d18b27da3ea5a82040a",
        "IPY_MODEL_ca9d34cfb34543d0862f38e7712c2c0d",
        "IPY_MODEL_6f2a3de6a5f04e3fa7db4b52dc1499b4"
       ],
       "layout": "IPY_MODEL_749e6baff9134f9f9df5868d4c89be05"
      }
     },
     "3cabb1add667462bab43e0be8f27fe12": {
      "model_module": "@jupyter-widgets/base",
      "model_module_version": "1.2.0",
      "model_name": "LayoutModel",
      "state": {}
     },
     "3cf8ec184da246a7acd67408963fc55d": {
      "model_module": "@jupyter-widgets/base",
      "model_module_version": "1.2.0",
      "model_name": "LayoutModel",
      "state": {}
     },
     "3d79bb3223b74798ac1b1910fc393d84": {
      "model_module": "@jupyter-widgets/controls",
      "model_module_version": "1.5.0",
      "model_name": "SliderStyleModel",
      "state": {
       "description_width": ""
      }
     },
     "3e9e16df72ae46188b690db96dd8f0de": {
      "model_module": "@jupyter-widgets/controls",
      "model_module_version": "1.5.0",
      "model_name": "ButtonModel",
      "state": {
       "description": "Download image",
       "layout": "IPY_MODEL_5a0dee38c4eb486dab0bb11b66a947c7",
       "style": "IPY_MODEL_8ac61d945a7c4af1902ec85c3b1e2bc9",
       "tooltip": "Download current frame to your local PC"
      }
     },
     "3ee769a75e974f95b8433d5fe8733a45": {
      "model_module": "@jupyter-widgets/base",
      "model_module_version": "1.2.0",
      "model_name": "LayoutModel",
      "state": {}
     },
     "3f6012f862a4453b95ded9babaa9029d": {
      "model_module": "@jupyter-widgets/controls",
      "model_module_version": "1.5.0",
      "model_name": "DropdownModel",
      "state": {
       "_options_labels": [
        "All",
        "O",
        "H",
        "C"
       ],
       "description": "Show",
       "index": 0,
       "layout": "IPY_MODEL_9bdfb9f5933f4d3e90fb6f13773ea201",
       "style": "IPY_MODEL_e05392014bf64e9ca39705fe0294c23d"
      }
     },
     "40964c2584b64deeacf8cd327aa4bad3": {
      "model_module": "@jupyter-widgets/controls",
      "model_module_version": "1.5.0",
      "model_name": "TextModel",
      "state": {
       "description": "Filename: ",
       "layout": "IPY_MODEL_d8abd8c0f5f04db3879daa61c6a11716",
       "style": "IPY_MODEL_115f486e2df643fdbb2c4a8d598baee3",
       "value": "screenshot.png"
      }
     },
     "410b883c8a9348d3ad19006d0189072b": {
      "model_module": "@jupyter-widgets/controls",
      "model_module_version": "1.5.0",
      "model_name": "FloatSliderModel",
      "state": {
       "description": "Ball size",
       "layout": "IPY_MODEL_ce758b702e2f4e68ace344c225a709ac",
       "max": 1.5,
       "step": 0.01,
       "style": "IPY_MODEL_a8c119ba8c0c46b4ba0f7787d9b2be08",
       "value": 0.5
      }
     },
     "41ef8c1f80c04c4b8ea795d2cbcdd13d": {
      "model_module": "@jupyter-widgets/controls",
      "model_module_version": "1.5.0",
      "model_name": "DescriptionStyleModel",
      "state": {
       "description_width": ""
      }
     },
     "41faf63c41bc48ac81f346868de773a9": {
      "model_module": "@jupyter-widgets/base",
      "model_module_version": "1.2.0",
      "model_name": "LayoutModel",
      "state": {
       "width": "34px"
      }
     },
     "4260c04943fe4579bfee6e23e9b65963": {
      "model_module": "@jupyter-widgets/base",
      "model_module_version": "1.2.0",
      "model_name": "LayoutModel",
      "state": {}
     },
     "42dd6bc284384448901f2bf995b53883": {
      "model_module": "nglview-js-widgets",
      "model_module_version": "3.0.1",
      "model_name": "NGLModel",
      "state": {
       "_camera_orientation": [
        7.1988368306294745,
        0,
        0,
        0,
        0,
        7.1988368306294745,
        0,
        0,
        0,
        0,
        7.1988368306294745,
        0,
        -0.08449995517730713,
        -1.201999992132187,
        0,
        1
       ],
       "_camera_str": "orthographic",
       "_gui_theme": null,
       "_ibtn_fullscreen": "IPY_MODEL_af6c1bbce7b44ef48ef2d84dba1b1950",
       "_igui": null,
       "_iplayer": "IPY_MODEL_1274838ffb50416fb087e2500c5f60e4",
       "_ngl_color_dict": {},
       "_ngl_coordinate_resource": {},
       "_ngl_full_stage_parameters": {
        "ambientColor": 14540253,
        "ambientIntensity": 0.2,
        "backgroundColor": "white",
        "cameraEyeSep": 0.3,
        "cameraFov": 40,
        "cameraType": "orthographic",
        "clipDist": 0,
        "clipFar": 100,
        "clipNear": 0,
        "fogFar": 100,
        "fogNear": 50,
        "hoverTimeout": 0,
        "impostor": true,
        "lightColor": 14540253,
        "lightIntensity": 1,
        "mousePreset": "default",
        "panSpeed": 1,
        "quality": "medium",
        "rotateSpeed": 2,
        "sampleLevel": 0,
        "tooltip": true,
        "workerDefault": true,
        "zoomSpeed": 1.2
       },
       "_ngl_msg_archive": [
        {
         "args": [
          {
           "binary": false,
           "data": "MODEL     1\nATOM      1    O MOL     1       0.000   3.000   0.000  1.00  0.00           O  \nATOM      2    C MOL     1      -0.464   1.000   0.000  1.00  0.00           C  \nATOM      3    H MOL     1      -1.465   0.523   0.000  1.00  0.00           H  \nATOM      4    C MOL     1       0.700   0.052   0.000  1.00  0.00           C  \nATOM      5    H MOL     1       1.634   0.614   0.000  1.00  0.00           H  \nATOM      6    H MOL     1       0.652  -0.596   0.881  1.00  0.00           H  \nATOM      7    H MOL     1       0.652  -0.596  -0.881  1.00  0.00           H  \nENDMDL\n",
           "type": "blob"
          }
         ],
         "kwargs": {
          "defaultRepresentation": false,
          "ext": "pdb"
         },
         "methodName": "loadFile",
         "reconstruc_color_scheme": false,
         "target": "Stage",
         "type": "call_method"
        },
        {
         "args": [
          "400px",
          "300px"
         ],
         "kwargs": {},
         "methodName": "setSize",
         "reconstruc_color_scheme": false,
         "target": "Widget",
         "type": "call_method"
        },
        {
         "args": [
          "unitcell"
         ],
         "component_index": 0,
         "kwargs": {
          "sele": "all"
         },
         "methodName": "addRepresentation",
         "reconstruc_color_scheme": false,
         "target": "compList",
         "type": "call_method"
        },
        {
         "args": [
          "spacefill"
         ],
         "component_index": 0,
         "kwargs": {
          "sele": "all"
         },
         "methodName": "addRepresentation",
         "reconstruc_color_scheme": false,
         "target": "compList",
         "type": "call_method"
        },
        {
         "args": [],
         "kwargs": {
          "cameraType": "orthographic"
         },
         "methodName": "setParameters",
         "reconstruc_color_scheme": false,
         "target": "Stage",
         "type": "call_method"
        },
        {
         "args": [
          {
           "clipDist": 0
          }
         ],
         "kwargs": {},
         "methodName": "setParameters",
         "reconstruc_color_scheme": false,
         "target": "Widget",
         "type": "call_method"
        },
        {
         "args": [
          "spacefill",
          0
         ],
         "kwargs": {
          "colorScale": "rainbow",
          "colorScheme": "element",
          "radiusScale": 0.5,
          "radiusType": "covalent"
         },
         "methodName": "updateRepresentationsByName",
         "reconstruc_color_scheme": false,
         "target": "Widget",
         "type": "call_method"
        },
        {
         "args": [
          "this._Q = [[1.0, 0.0, 0.0], [0.0, 1.0, 0.0], [0.0, 0.0, 1.0]]\n    var tooltip = document.createElement('div');\n    Object.assign(tooltip.style, {\n      display: 'none',\n      position: 'fixed',\n      zIndex: 10,\n      pointerEvents: 'none',\n      backgroundColor: 'rgba( 0, 0, 0, 0.6 )',\n      color: 'lightgrey',\n      padding: '8px',\n      fontFamily: 'sans-serif'\n    });\n    document.body.appendChild(tooltip);\n\n    var that = this;\n    this.stage.mouseControls.remove('hoverPick');\n    this.stage.signals.hovered.add(function (pickingProxy) {\n      if (pickingProxy && (pickingProxy.atom || pickingProxy.bond)) {\n        var atom = pickingProxy.atom || pickingProxy.closestBondAtom\n        var mp = pickingProxy.mouse.position\n        //tooltip.innerText = atom.element + ' i=' + atom.index + ' (' + atom.x.toFixed(2) +  ', ' + atom.y.toFixed(2) +  ', ' + atom.z.toFixed(2) + ')'\n        //var pos = that._atoms_pos[atom.index]\n        var Q = that._Q\n        var pos_x = Q[0][0] * atom.x + Q[0][1] * atom.y + Q[0][2] * atom.z \n        var pos_y = Q[1][0] * atom.x + Q[1][1] * atom.y + Q[1][2] * atom.z\n        var pos_z = Q[2][0] * atom.x + Q[2][1] * atom.y + Q[2][2] * atom.z\n        tooltip.innerText = 'i=' + atom.index + ' ' + atom.element + ' (' + pos_x.toFixed(2) +  ', ' + pos_y.toFixed(2) +  ', ' + pos_z.toFixed(2) + ')'\n        tooltip.style.bottom = window.innerHeight - mp.y + 3 + 'px'\n        tooltip.style.left = mp.x + 3 + 'px'\n        tooltip.style.display = 'block'\n      } else {\n        tooltip.style.display = 'none'\n      }\n    });\n    this.stage.tooltip = tooltip;\n    "
         ],
         "kwargs": {},
         "methodName": "executeCode",
         "reconstruc_color_scheme": false,
         "target": "Widget",
         "type": "call_method"
        },
        {
         "args": [
          "ball+stick"
         ],
         "component_index": 0,
         "kwargs": {
          "sele": "all"
         },
         "methodName": "addRepresentation",
         "reconstruc_color_scheme": false,
         "target": "compList",
         "type": "call_method"
        }
       ],
       "_ngl_original_stage_parameters": {
        "ambientColor": 14540253,
        "ambientIntensity": 0.2,
        "backgroundColor": "white",
        "cameraEyeSep": 0.3,
        "cameraFov": 40,
        "cameraType": "perspective",
        "clipDist": 10,
        "clipFar": 100,
        "clipNear": 0,
        "fogFar": 100,
        "fogNear": 50,
        "hoverTimeout": 0,
        "impostor": true,
        "lightColor": 14540253,
        "lightIntensity": 1,
        "mousePreset": "default",
        "panSpeed": 1,
        "quality": "medium",
        "rotateSpeed": 2,
        "sampleLevel": 0,
        "tooltip": true,
        "workerDefault": true,
        "zoomSpeed": 1.2
       },
       "_ngl_repr_dict": {
        "0": {
         "0": {
          "params": {
           "clipCenter": {
            "x": 0,
            "y": 0,
            "z": 0
           },
           "clipNear": 0,
           "clipRadius": 0,
           "colorMode": "hcl",
           "colorReverse": false,
           "colorScale": "",
           "colorScheme": "element",
           "colorValue": "orange",
           "defaultAssembly": "",
           "depthWrite": true,
           "diffuse": 16777215,
           "diffuseInterior": false,
           "disableImpostor": false,
           "disablePicking": false,
           "flatShaded": false,
           "interiorColor": 2236962,
           "interiorDarkening": 0,
           "lazy": false,
           "matrix": {
            "elements": [
             1,
             0,
             0,
             0,
             0,
             1,
             0,
             0,
             0,
             0,
             1,
             0,
             0,
             0,
             0,
             1
            ]
           },
           "metalness": 0,
           "opacity": 1,
           "quality": "medium",
           "radialSegments": 10,
           "radiusData": {},
           "radiusScale": 1,
           "radiusSize": 0.5,
           "radiusType": "vdw",
           "roughness": 0.4,
           "sele": "all",
           "side": "double",
           "sphereDetail": 1,
           "useInteriorColor": true,
           "visible": true,
           "wireframe": false
          },
          "type": "unitcell"
         },
         "1": {
          "params": {
           "assembly": "default",
           "clipCenter": {
            "x": 0,
            "y": 0,
            "z": 0
           },
           "clipNear": 0,
           "clipRadius": 0,
           "colorMode": "hcl",
           "colorReverse": false,
           "colorScale": "rainbow",
           "colorScheme": "element",
           "colorValue": 9474192,
           "defaultAssembly": "",
           "depthWrite": true,
           "diffuse": 16777215,
           "diffuseInterior": false,
           "disableImpostor": false,
           "disablePicking": false,
           "flatShaded": false,
           "interiorColor": 2236962,
           "interiorDarkening": 0,
           "lazy": false,
           "matrix": {
            "elements": [
             1,
             0,
             0,
             0,
             0,
             1,
             0,
             0,
             0,
             0,
             1,
             0,
             0,
             0,
             0,
             1
            ]
           },
           "metalness": 0,
           "opacity": 1,
           "quality": "medium",
           "radiusData": {},
           "radiusScale": 0.5,
           "radiusSize": 1,
           "radiusType": "covalent",
           "roughness": 0.4,
           "sele": "all",
           "side": "double",
           "sphereDetail": 1,
           "useInteriorColor": true,
           "visible": true,
           "wireframe": false
          },
          "type": "spacefill"
         },
         "2": {
          "params": {
           "aspectRatio": 2,
           "assembly": "default",
           "bondScale": 0.4,
           "bondSpacing": 1,
           "clipCenter": {
            "x": 0,
            "y": 0,
            "z": 0
           },
           "clipNear": 0,
           "clipRadius": 0,
           "colorMode": "hcl",
           "colorReverse": false,
           "colorScale": "",
           "colorScheme": "element",
           "colorValue": 9474192,
           "cylinderOnly": false,
           "defaultAssembly": "",
           "depthWrite": true,
           "diffuse": 16777215,
           "diffuseInterior": false,
           "disableImpostor": false,
           "disablePicking": false,
           "flatShaded": false,
           "interiorColor": 2236962,
           "interiorDarkening": 0,
           "lazy": false,
           "lineOnly": false,
           "linewidth": 2,
           "matrix": {
            "elements": [
             1,
             0,
             0,
             0,
             0,
             1,
             0,
             0,
             0,
             0,
             1,
             0,
             0,
             0,
             0,
             1
            ]
           },
           "metalness": 0,
           "multipleBond": "off",
           "opacity": 1,
           "openEnded": true,
           "quality": "medium",
           "radialSegments": 10,
           "radiusData": {},
           "radiusScale": 1,
           "radiusSize": 0.15,
           "radiusType": "size",
           "roughness": 0.4,
           "sele": "all",
           "side": "double",
           "sphereDetail": 1,
           "useInteriorColor": true,
           "visible": true,
           "wireframe": false
          },
          "type": "ball+stick"
         }
        }
       },
       "_ngl_serialize": false,
       "_ngl_version": "2.0.0-dev.36",
       "_ngl_view_id": [
        "39ED00D4-B7E7-4BEA-8EDC-46638485DA61"
       ],
       "_player_dict": {},
       "_scene_position": {},
       "_scene_rotation": {},
       "_synced_model_ids": [],
       "_synced_repr_model_ids": [],
       "_view_height": "",
       "_view_width": "",
       "background": "white",
       "frame": 0,
       "gui_style": null,
       "layout": "IPY_MODEL_06f6c04cd778488893fbe3cba20e0eb8",
       "max_frame": 0,
       "n_components": 1,
       "picked": {}
      }
     },
     "433cf52110f1483c946a64eb10f064e7": {
      "model_module": "@jupyter-widgets/base",
      "model_module_version": "1.2.0",
      "model_name": "LayoutModel",
      "state": {}
     },
     "434cb2852bc7406d9d3de3f7affe0381": {
      "model_module": "@jupyter-widgets/controls",
      "model_module_version": "1.5.0",
      "model_name": "DropdownModel",
      "state": {
       "_options_labels": [
        " ",
        "picking",
        "random",
        "uniform",
        "atomindex",
        "residueindex",
        "chainindex",
        "modelindex",
        "sstruc",
        "element",
        "resname",
        "bfactor",
        "hydrophobicity",
        "value",
        "volume",
        "occupancy"
       ],
       "description": "Color scheme",
       "index": 9,
       "layout": "IPY_MODEL_f8865e8f661e42218ad45cf148eed272",
       "style": "IPY_MODEL_45b92dd626784643a0b3aa8cda727783"
      }
     },
     "443d4482977642eaa460d3a60e277874": {
      "model_module": "@jupyter-widgets/base",
      "model_module_version": "1.2.0",
      "model_name": "LayoutModel",
      "state": {}
     },
     "44475de7248349cb85372ab9c8defdc1": {
      "model_module": "@jupyter-widgets/base",
      "model_module_version": "1.2.0",
      "model_name": "LayoutModel",
      "state": {}
     },
     "447908abd01a424fa2b87a374660a18e": {
      "model_module": "@jupyter-widgets/base",
      "model_module_version": "1.2.0",
      "model_name": "LayoutModel",
      "state": {}
     },
     "44e224a2d9ab4351825b8a1ae114b6db": {
      "model_module": "@jupyter-widgets/controls",
      "model_module_version": "1.5.0",
      "model_name": "SliderStyleModel",
      "state": {
       "description_width": ""
      }
     },
     "45131e77344f4f67a03fec312cf8e331": {
      "model_module": "@jupyter-widgets/base",
      "model_module_version": "1.2.0",
      "model_name": "LayoutModel",
      "state": {}
     },
     "45b082760a1b4861a61f73058c7f5131": {
      "model_module": "@jupyter-widgets/controls",
      "model_module_version": "1.5.0",
      "model_name": "LinkModel",
      "state": {
       "source": [
        "IPY_MODEL_fdcca0422a5841428b40d6a8323163b3",
        "value"
       ],
       "target": [
        "IPY_MODEL_1a040e2fbaf34fc8bc8c3ea17a06c632",
        "value"
       ]
      }
     },
     "45b92dd626784643a0b3aa8cda727783": {
      "model_module": "@jupyter-widgets/controls",
      "model_module_version": "1.5.0",
      "model_name": "DescriptionStyleModel",
      "state": {
       "description_width": ""
      }
     },
     "45dbf620c5e7428aae92b02979d0522e": {
      "model_module": "@jupyter-widgets/controls",
      "model_module_version": "1.5.0",
      "model_name": "LinkModel",
      "state": {
       "source": [
        "IPY_MODEL_5492dbbe60084b5196a225c362536fb9",
        "value"
       ],
       "target": [
        "IPY_MODEL_7e63fae4abd0438f8b84ae171a65dbd4",
        "value"
       ]
      }
     },
     "45fdad4504964eb1ace0fe35090fb581": {
      "model_module": "@jupyter-widgets/controls",
      "model_module_version": "1.5.0",
      "model_name": "ButtonModel",
      "state": {
       "icon": "compress",
       "layout": "IPY_MODEL_0da00bb7b5694c77a813b5be84b2e16d",
       "style": "IPY_MODEL_59b8059da53d4e01b6d39d05ad22a0b4"
      }
     },
     "45fed0d916444ea69e9f6bbf2260a150": {
      "model_module": "@jupyter-widgets/base",
      "model_module_version": "1.2.0",
      "model_name": "LayoutModel",
      "state": {
       "width": "34px"
      }
     },
     "467bbb23ccc441d39d9a13e1382fd765": {
      "model_module": "@jupyter-widgets/controls",
      "model_module_version": "1.5.0",
      "model_name": "ButtonStyleModel",
      "state": {}
     },
     "46ddca538dd84f8fb665f704e8580cdd": {
      "model_module": "@jupyter-widgets/controls",
      "model_module_version": "1.5.0",
      "model_name": "ButtonStyleModel",
      "state": {}
     },
     "4712703f2e584d1fab0bd3142893e850": {
      "model_module": "@jupyter-widgets/controls",
      "model_module_version": "1.5.0",
      "model_name": "DescriptionStyleModel",
      "state": {
       "description_width": ""
      }
     },
     "48069525303548c0b80852f9ba32efd5": {
      "model_module": "@jupyter-widgets/base",
      "model_module_version": "1.2.0",
      "model_name": "LayoutModel",
      "state": {}
     },
     "4858d12872dc45c7af73e88d8d6ea75d": {
      "model_module": "@jupyter-widgets/base",
      "model_module_version": "1.2.0",
      "model_name": "LayoutModel",
      "state": {}
     },
     "48697c45f72142b297fbad3a422c8f00": {
      "model_module": "@jupyter-widgets/base",
      "model_module_version": "1.2.0",
      "model_name": "LayoutModel",
      "state": {}
     },
     "4a79de8bc2e9438ca05e854a2f710893": {
      "model_module": "@jupyter-widgets/controls",
      "model_module_version": "1.5.0",
      "model_name": "DescriptionStyleModel",
      "state": {
       "description_width": ""
      }
     },
     "4b19832fc0fb4e6383dc3d9e2e6da22a": {
      "model_module": "@jupyter-widgets/output",
      "model_module_version": "1.0.0",
      "model_name": "OutputModel",
      "state": {
       "layout": "IPY_MODEL_c51c6e31373340919c66147a63b617ef"
      }
     },
     "4bbc633c033f463e8bc659750bbd69ed": {
      "model_module": "@jupyter-widgets/controls",
      "model_module_version": "1.5.0",
      "model_name": "DescriptionStyleModel",
      "state": {
       "description_width": ""
      }
     },
     "4bbe80ee664f4185afe70f540d302c0c": {
      "model_module": "@jupyter-widgets/controls",
      "model_module_version": "1.5.0",
      "model_name": "SliderStyleModel",
      "state": {
       "description_width": ""
      }
     },
     "4c0d9d832d8747ebbcf4904ca54439f0": {
      "model_module": "@jupyter-widgets/base",
      "model_module_version": "1.2.0",
      "model_name": "LayoutModel",
      "state": {}
     },
     "4c7b30050f0d43808a6a83790cf54ab6": {
      "model_module": "@jupyter-widgets/controls",
      "model_module_version": "1.5.0",
      "model_name": "DescriptionStyleModel",
      "state": {
       "description_width": ""
      }
     },
     "4ca59ba8bcac444684e5ab92118bdd97": {
      "model_module": "@jupyter-widgets/base",
      "model_module_version": "1.2.0",
      "model_name": "LayoutModel",
      "state": {}
     },
     "4cbd70976edb4c88b765b9ac8acf5cdb": {
      "model_module": "@jupyter-widgets/base",
      "model_module_version": "1.2.0",
      "model_name": "LayoutModel",
      "state": {}
     },
     "4d611b64406d4425ad4a3f1e47181ba6": {
      "model_module": "@jupyter-widgets/controls",
      "model_module_version": "1.5.0",
      "model_name": "HBoxModel",
      "state": {
       "children": [
        "IPY_MODEL_6aa8136390e04982b5b11bd4908f0ea2",
        "IPY_MODEL_cc138e78f1d8420eabbc1233cc22a191"
       ],
       "layout": "IPY_MODEL_74cfb3c762f245389fc6279b944b3915"
      }
     },
     "4de9cedca4e844659a0f83aaec324b5f": {
      "model_module": "@jupyter-widgets/base",
      "model_module_version": "1.2.0",
      "model_name": "LayoutModel",
      "state": {
       "border": "0px solid black"
      }
     },
     "4e8981e9b2c44c57827d5ce7bdcf1d32": {
      "model_module": "@jupyter-widgets/controls",
      "model_module_version": "1.5.0",
      "model_name": "DropdownModel",
      "state": {
       "_options_labels": [
        "All",
        "Si"
       ],
       "description": "Show",
       "index": 0,
       "layout": "IPY_MODEL_6a5c88bcdcde4436a4e0595b33d2cd89",
       "style": "IPY_MODEL_818a0e12d12f4d2c8f4c8e55679f7c04"
      }
     },
     "4ee8a76062f2475c9ab387e307397ef5": {
      "model_module": "@jupyter-widgets/controls",
      "model_module_version": "1.5.0",
      "model_name": "DescriptionStyleModel",
      "state": {
       "description_width": ""
      }
     },
     "4f901ae6375c43c3a4d65bedb8aae8f7": {
      "model_module": "@jupyter-widgets/controls",
      "model_module_version": "1.5.0",
      "model_name": "DropdownModel",
      "state": {
       "_options_labels": [
        " ",
        "picking",
        "random",
        "uniform",
        "atomindex",
        "residueindex",
        "chainindex",
        "modelindex",
        "sstruc",
        "element",
        "resname",
        "bfactor",
        "hydrophobicity",
        "value",
        "volume",
        "occupancy"
       ],
       "description": "Color scheme",
       "index": 9,
       "layout": "IPY_MODEL_6503ff6c5b3a4b899b11d80208965e8c",
       "style": "IPY_MODEL_3a4fc29db7b84974854b66878f637c55"
      }
     },
     "501e42c10b6149908b47015cb021da20": {
      "model_module": "@jupyter-widgets/controls",
      "model_module_version": "1.5.0",
      "model_name": "HBoxModel",
      "state": {
       "children": [
        "IPY_MODEL_035fb3a9f03b43889482a2a198fe2b7a",
        "IPY_MODEL_b3277aac8813499890d87f3d4f5e61fd"
       ],
       "layout": "IPY_MODEL_5d7cf3b92c3c4264b96c08e8e88f308a"
      }
     },
     "5024885eef374badb5355b50dc1c636e": {
      "model_module": "@jupyter-widgets/controls",
      "model_module_version": "1.5.0",
      "model_name": "DropdownModel",
      "state": {
       "_options_labels": [
        "All",
        "Si"
       ],
       "description": "Show",
       "index": 0,
       "layout": "IPY_MODEL_e7d729f272f84cfa8c0baf76e44d40f5",
       "style": "IPY_MODEL_fc4c9dcffdd44740b46782139066401b"
      }
     },
     "5065648f55e34dc8857f3a7e3cc0a13e": {
      "model_module": "@jupyter-widgets/controls",
      "model_module_version": "1.5.0",
      "model_name": "DropdownModel",
      "state": {
       "_options_labels": [
        " ",
        "picking",
        "random",
        "uniform",
        "atomindex",
        "residueindex",
        "chainindex",
        "modelindex",
        "sstruc",
        "element",
        "resname",
        "bfactor",
        "hydrophobicity",
        "value",
        "volume",
        "occupancy"
       ],
       "description": "Color scheme",
       "index": 9,
       "layout": "IPY_MODEL_9377c6d0a9fe494a84b890898dbaa1f1",
       "style": "IPY_MODEL_900cfe3ce61a422481ad4c33b216dcfa"
      }
     },
     "50acd63f7a82421992f923d5c8cdb169": {
      "model_module": "@jupyter-widgets/base",
      "model_module_version": "1.2.0",
      "model_name": "LayoutModel",
      "state": {}
     },
     "50d7f70325ee49b5859b59f783f1fc97": {
      "model_module": "@jupyter-widgets/controls",
      "model_module_version": "1.5.0",
      "model_name": "LinkModel",
      "state": {
       "source": [
        "IPY_MODEL_72da1bfae75f4a38b770bf84e87e1356",
        "value"
       ],
       "target": [
        "IPY_MODEL_42dd6bc284384448901f2bf995b53883",
        "frame"
       ]
      }
     },
     "5258607e42164d91827c919d162fa785": {
      "model_module": "@jupyter-widgets/controls",
      "model_module_version": "1.5.0",
      "model_name": "CheckboxModel",
      "state": {
       "description": "Show force",
       "disabled": false,
       "layout": "IPY_MODEL_097f2282a59c4d7daebdb4860e261055",
       "style": "IPY_MODEL_ebcb705c545b408ba00448a1ef8df462",
       "value": false
      }
     },
     "5398a5cffb494a54aaac6e377afcb1eb": {
      "model_module": "@jupyter-widgets/base",
      "model_module_version": "1.2.0",
      "model_name": "LayoutModel",
      "state": {}
     },
     "53a2a45f0a2843a795845844bd51365a": {
      "model_module": "@jupyter-widgets/controls",
      "model_module_version": "1.5.0",
      "model_name": "ButtonModel",
      "state": {
       "description": "Download image",
       "layout": "IPY_MODEL_129d31ba32bb4ec9aa010a98322901f8",
       "style": "IPY_MODEL_21df46e285784092ab56ea0105c70a72",
       "tooltip": "Download current frame to your local PC"
      }
     },
     "53aedf2ea85246ccaf21b2edb98dd913": {
      "model_module": "@jupyter-widgets/controls",
      "model_module_version": "1.5.0",
      "model_name": "LinkModel",
      "state": {
       "source": [
        "IPY_MODEL_1a040e2fbaf34fc8bc8c3ea17a06c632",
        "max"
       ],
       "target": [
        "IPY_MODEL_0f001b267dd546f48b044bf211c0deda",
        "max_frame"
       ]
      }
     },
     "53c3373204984f788307ecd0898f9e5c": {
      "model_module": "@jupyter-widgets/base",
      "model_module_version": "1.2.0",
      "model_name": "LayoutModel",
      "state": {}
     },
     "53f92222abb84ac3ba0666c39a844043": {
      "model_module": "@jupyter-widgets/base",
      "model_module_version": "1.2.0",
      "model_name": "LayoutModel",
      "state": {}
     },
     "5492dbbe60084b5196a225c362536fb9": {
      "model_module": "@jupyter-widgets/controls",
      "model_module_version": "1.5.0",
      "model_name": "PlayModel",
      "state": {
       "layout": "IPY_MODEL_4858d12872dc45c7af73e88d8d6ea75d",
       "max": 0,
       "style": "IPY_MODEL_e9b1ead5c8844a05804a4ff4f8854d91"
      }
     },
     "54e7163c69ef4223a515e995c02621b7": {
      "model_module": "@jupyter-widgets/controls",
      "model_module_version": "1.5.0",
      "model_name": "FloatSliderModel",
      "state": {
       "description": "Charge scale",
       "layout": "IPY_MODEL_fd51003f12644bc8b1b2dfa0b0d4d272",
       "step": 0.1,
       "style": "IPY_MODEL_28dca74ff5684e6998d20751cd853759",
       "value": 1
      }
     },
     "56df4a25cb94428196dcff42274c5ad7": {
      "model_module": "@jupyter-widgets/controls",
      "model_module_version": "1.5.0",
      "model_name": "ButtonStyleModel",
      "state": {}
     },
     "590002a3c4cd4f6bae984e0783d38f67": {
      "model_module": "@jupyter-widgets/base",
      "model_module_version": "1.2.0",
      "model_name": "LayoutModel",
      "state": {}
     },
     "59b8059da53d4e01b6d39d05ad22a0b4": {
      "model_module": "@jupyter-widgets/controls",
      "model_module_version": "1.5.0",
      "model_name": "ButtonStyleModel",
      "state": {}
     },
     "5a0dee38c4eb486dab0bb11b66a947c7": {
      "model_module": "@jupyter-widgets/base",
      "model_module_version": "1.2.0",
      "model_name": "LayoutModel",
      "state": {}
     },
     "5a4a6391b272455994db7caaf37972cb": {
      "model_module": "@jupyter-widgets/base",
      "model_module_version": "1.2.0",
      "model_name": "LayoutModel",
      "state": {}
     },
     "5aec10372bfc433d8f884cfc87de99db": {
      "model_module": "@jupyter-widgets/controls",
      "model_module_version": "1.5.0",
      "model_name": "DescriptionStyleModel",
      "state": {
       "description_width": ""
      }
     },
     "5bd2a87451b34e26a853275f3191fbd9": {
      "model_module": "@jupyter-widgets/controls",
      "model_module_version": "1.5.0",
      "model_name": "CheckboxModel",
      "state": {
       "description": "Show force",
       "disabled": false,
       "layout": "IPY_MODEL_90d4194d6b1c48fda20a48c8ce5b7841",
       "style": "IPY_MODEL_e6a82e1487fb4fc1b55952e96d63cf9f",
       "value": false
      }
     },
     "5c605068e00e4e65a50c6287e2141d57": {
      "model_module": "@jupyter-widgets/controls",
      "model_module_version": "1.5.0",
      "model_name": "FloatSliderModel",
      "state": {
       "description": "Ball size",
       "layout": "IPY_MODEL_2dcfbe090110465c86fc109a04834c7c",
       "max": 1.5,
       "step": 0.01,
       "style": "IPY_MODEL_62ebf90a693d4539a99fcc6331057700",
       "value": 0.5
      }
     },
     "5ccffb125c334ffca896d54c448f0778": {
      "model_module": "@jupyter-widgets/controls",
      "model_module_version": "1.5.0",
      "model_name": "DescriptionStyleModel",
      "state": {
       "description_width": ""
      }
     },
     "5d7cf3b92c3c4264b96c08e8e88f308a": {
      "model_module": "@jupyter-widgets/base",
      "model_module_version": "1.2.0",
      "model_name": "LayoutModel",
      "state": {}
     },
     "5d9b29ae33474cb59c534005834893cd": {
      "model_module": "@jupyter-widgets/controls",
      "model_module_version": "1.5.0",
      "model_name": "ImageModel",
      "state": {
       "layout": "IPY_MODEL_60d105823f464e31afe394a1555c57cc",
       "width": "900.0"
      }
     },
     "5db74bb380934dac9c77d9cd0cbea084": {
      "model_module": "@jupyter-widgets/base",
      "model_module_version": "1.2.0",
      "model_name": "LayoutModel",
      "state": {}
     },
     "5ef6afb8471b4746bb76bc75d7062437": {
      "model_module": "@jupyter-widgets/base",
      "model_module_version": "1.2.0",
      "model_name": "LayoutModel",
      "state": {}
     },
     "5f998b1ce0594ad6a2198c01070b9be0": {
      "model_module": "@jupyter-widgets/controls",
      "model_module_version": "1.5.0",
      "model_name": "ButtonModel",
      "state": {
       "description": "Download image",
       "layout": "IPY_MODEL_80d1f99f3168441cb731c9663fa23a38",
       "style": "IPY_MODEL_c8c00734cf1349a1bf248fcffa347e96",
       "tooltip": "Download current frame to your local PC"
      }
     },
     "6064c39652684fc5b019e8f04e5c4d5c": {
      "model_module": "@jupyter-widgets/base",
      "model_module_version": "1.2.0",
      "model_name": "LayoutModel",
      "state": {}
     },
     "60a95b2d23ea41fab9f5d1d0bdf7ac42": {
      "model_module": "@jupyter-widgets/controls",
      "model_module_version": "1.5.0",
      "model_name": "LinkModel",
      "state": {
       "source": [
        "IPY_MODEL_dfb1b7e6bef5445bbbefdce4ecd11777",
        "value"
       ],
       "target": [
        "IPY_MODEL_888470102d2340be94477fc3c4df2ca4",
        "value"
       ]
      }
     },
     "60d105823f464e31afe394a1555c57cc": {
      "model_module": "@jupyter-widgets/base",
      "model_module_version": "1.2.0",
      "model_name": "LayoutModel",
      "state": {}
     },
     "60decdf974e44c708401705ced38645f": {
      "model_module": "@jupyter-widgets/controls",
      "model_module_version": "1.5.0",
      "model_name": "LinkModel",
      "state": {
       "source": [
        "IPY_MODEL_fdcca0422a5841428b40d6a8323163b3",
        "max"
       ],
       "target": [
        "IPY_MODEL_0f001b267dd546f48b044bf211c0deda",
        "max_frame"
       ]
      }
     },
     "60e02ce278444db4a43b00ff0c93a4df": {
      "model_module": "@jupyter-widgets/controls",
      "model_module_version": "1.5.0",
      "model_name": "CheckboxModel",
      "state": {
       "description": "Show charge",
       "disabled": false,
       "layout": "IPY_MODEL_a516afbb10fa45309748c27ab579f3ab",
       "style": "IPY_MODEL_1a0fe2de4ba748738effa800303a6d8c",
       "value": false
      }
     },
     "61de1eaa217a4a04a0e92a3a38f6bfe4": {
      "model_module": "@jupyter-widgets/controls",
      "model_module_version": "1.5.0",
      "model_name": "HBoxModel",
      "state": {
       "children": [
        "IPY_MODEL_5f998b1ce0594ad6a2198c01070b9be0",
        "IPY_MODEL_b439852ec5bd4078a8dea97ebdc59d9c"
       ],
       "layout": "IPY_MODEL_812864408426422d8c3053331f0b4d1e"
      }
     },
     "620a6d2c21fb43589e3cb87927f4e5db": {
      "model_module": "@jupyter-widgets/controls",
      "model_module_version": "1.5.0",
      "model_name": "ImageModel",
      "state": {
       "layout": "IPY_MODEL_3cabb1add667462bab43e0be8f27fe12",
       "width": "900.0"
      }
     },
     "627ddf4940fb4f99888d709158efd580": {
      "model_module": "@jupyter-widgets/controls",
      "model_module_version": "1.5.0",
      "model_name": "CheckboxModel",
      "state": {
       "description": "Show charge",
       "disabled": false,
       "layout": "IPY_MODEL_433cf52110f1483c946a64eb10f064e7",
       "style": "IPY_MODEL_110a07466cce4fdbac03a4fdc5ebceb7",
       "value": false
      }
     },
     "6280f25050a8479cab15b461c5a65b8b": {
      "model_module": "@jupyter-widgets/controls",
      "model_module_version": "1.5.0",
      "model_name": "FloatSliderModel",
      "state": {
       "description": "Force scale",
       "layout": "IPY_MODEL_50acd63f7a82421992f923d5c8cdb169",
       "step": 0.1,
       "style": "IPY_MODEL_6f1f212632024653b0b927e29b05da88",
       "value": 0.5
      }
     },
     "62ebf90a693d4539a99fcc6331057700": {
      "model_module": "@jupyter-widgets/controls",
      "model_module_version": "1.5.0",
      "model_name": "SliderStyleModel",
      "state": {
       "description_width": ""
      }
     },
     "6468cdd1a4da411696a0b7ea1a241dea": {
      "model_module": "@jupyter-widgets/controls",
      "model_module_version": "1.5.0",
      "model_name": "LinkModel",
      "state": {
       "source": [
        "IPY_MODEL_72da1bfae75f4a38b770bf84e87e1356",
        "max"
       ],
       "target": [
        "IPY_MODEL_42dd6bc284384448901f2bf995b53883",
        "max_frame"
       ]
      }
     },
     "6503ff6c5b3a4b899b11d80208965e8c": {
      "model_module": "@jupyter-widgets/base",
      "model_module_version": "1.2.0",
      "model_name": "LayoutModel",
      "state": {}
     },
     "65144887b0e7409082cf1b7a57dd9660": {
      "model_module": "@jupyter-widgets/base",
      "model_module_version": "1.2.0",
      "model_name": "LayoutModel",
      "state": {}
     },
     "659f41c98e6042f79e69e8789676557d": {
      "model_module": "@jupyter-widgets/controls",
      "model_module_version": "1.5.0",
      "model_name": "SliderStyleModel",
      "state": {
       "description_width": ""
      }
     },
     "6633b638d2964c84a46c8f31e26bd827": {
      "model_module": "@jupyter-widgets/base",
      "model_module_version": "1.2.0",
      "model_name": "LayoutModel",
      "state": {}
     },
     "667b3e077477478e9caa0c7a75a71abb": {
      "model_module": "@jupyter-widgets/controls",
      "model_module_version": "1.5.0",
      "model_name": "DescriptionStyleModel",
      "state": {
       "description_width": ""
      }
     },
     "668616c8354c4b74b0542073b4e88b66": {
      "model_module": "@jupyter-widgets/controls",
      "model_module_version": "1.5.0",
      "model_name": "CheckboxModel",
      "state": {
       "description": "Show force",
       "disabled": false,
       "layout": "IPY_MODEL_b653985bca4b47b69e911440fce43740",
       "style": "IPY_MODEL_4c7b30050f0d43808a6a83790cf54ab6",
       "value": false
      }
     },
     "668ef78365ae4100aec373cb246c2e1d": {
      "model_module": "@jupyter-widgets/base",
      "model_module_version": "1.2.0",
      "model_name": "LayoutModel",
      "state": {}
     },
     "67a3e5055f72464a9c70afcbcb712c45": {
      "model_module": "@jupyter-widgets/base",
      "model_module_version": "1.2.0",
      "model_name": "LayoutModel",
      "state": {}
     },
     "682ee9a3b6fe4c349b2cf2fa2de05f7f": {
      "model_module": "@jupyter-widgets/output",
      "model_module_version": "1.0.0",
      "model_name": "OutputModel",
      "state": {
       "layout": "IPY_MODEL_bc46f531bb2e4c75af4732e55b66ea85"
      }
     },
     "6834b3d1aa2644daa9bfa9672bb734e7": {
      "model_module": "@jupyter-widgets/base",
      "model_module_version": "1.2.0",
      "model_name": "LayoutModel",
      "state": {}
     },
     "684e85e43c5a46eb899a97abad17dffc": {
      "model_module": "@jupyter-widgets/base",
      "model_module_version": "1.2.0",
      "model_name": "LayoutModel",
      "state": {
       "width": "34px"
      }
     },
     "68a997ef4e414dbdb9224735e5ab0c9b": {
      "model_module": "@jupyter-widgets/base",
      "model_module_version": "1.2.0",
      "model_name": "LayoutModel",
      "state": {}
     },
     "68c0bd111ffd4b088496ed8764f1dac0": {
      "model_module": "@jupyter-widgets/base",
      "model_module_version": "1.2.0",
      "model_name": "LayoutModel",
      "state": {}
     },
     "69a1b8591e4e4f49ac3adea684165906": {
      "model_module": "@jupyter-widgets/controls",
      "model_module_version": "1.5.0",
      "model_name": "ButtonModel",
      "state": {
       "description": "Save image",
       "layout": "IPY_MODEL_264834dd39bd4b63877d41f1ee4a58ee",
       "style": "IPY_MODEL_38bc9aeab15743748a838f8874320446",
       "tooltip": "Save current frame to file.\nCurrently .png and .html are supported.\nIt takes a bit time, please be patient."
      }
     },
     "69d62a5be2aa4f42a1650ea9d25c9487": {
      "model_module": "@jupyter-widgets/controls",
      "model_module_version": "1.5.0",
      "model_name": "CheckboxModel",
      "state": {
       "description": "Show charge",
       "disabled": false,
       "layout": "IPY_MODEL_d6e3a12e638b40d0a880a41b78efbffa",
       "style": "IPY_MODEL_ab2fbaa0a745499bb6d06f27f77bf7b6",
       "value": false
      }
     },
     "6a5c88bcdcde4436a4e0595b33d2cd89": {
      "model_module": "@jupyter-widgets/base",
      "model_module_version": "1.2.0",
      "model_name": "LayoutModel",
      "state": {}
     },
     "6a9f7b6d265e4074aa33860448e30733": {
      "model_module": "@jupyter-widgets/controls",
      "model_module_version": "1.5.0",
      "model_name": "FloatSliderModel",
      "state": {
       "description": "Ball size",
       "layout": "IPY_MODEL_9bc14d5a66034c5d950affaea69be76f",
       "max": 1.5,
       "step": 0.01,
       "style": "IPY_MODEL_aba6098ca20e4dca91f6332be9d344ec",
       "value": 0.5
      }
     },
     "6aa8136390e04982b5b11bd4908f0ea2": {
      "model_module": "nglview-js-widgets",
      "model_module_version": "3.0.1",
      "model_name": "NGLModel",
      "state": {
       "_camera_orientation": [
        27.788018737863993,
        0,
        0,
        0,
        0,
        27.788018737863993,
        0,
        0,
        0,
        0,
        27.788018737863993,
        0,
        -7.712999947369099,
        -5.518999805673957,
        -5.063999816775322,
        1
       ],
       "_camera_str": "orthographic",
       "_gui_theme": null,
       "_ibtn_fullscreen": "IPY_MODEL_338b5f4bcd1e436aa1c19101b670d349",
       "_igui": null,
       "_iplayer": "IPY_MODEL_135ace9630a8459b877192be1658542d",
       "_ngl_color_dict": {},
       "_ngl_coordinate_resource": {},
       "_ngl_full_stage_parameters": {
        "ambientColor": 14540253,
        "ambientIntensity": 0.2,
        "backgroundColor": "white",
        "cameraEyeSep": 0.3,
        "cameraFov": 40,
        "cameraType": "orthographic",
        "clipDist": 0,
        "clipFar": 100,
        "clipNear": 0,
        "fogFar": 100,
        "fogNear": 50,
        "hoverTimeout": 0,
        "impostor": true,
        "lightColor": 14540253,
        "lightIntensity": 1,
        "mousePreset": "default",
        "panSpeed": 1,
        "quality": "medium",
        "rotateSpeed": 2,
        "sampleLevel": 0,
        "tooltip": true,
        "workerDefault": true,
        "zoomSpeed": 1.2
       },
       "_ngl_msg_archive": [
        {
         "args": [
          {
           "binary": false,
           "data": "CRYST1    7.679   11.519   15.358  60.00  60.00  60.00 P 1\nMODEL     1\nATOM      1   Si MOL     1      -0.161   0.272   0.178  1.00  0.00          SI  \nATOM      2   Si MOL     1       1.717   0.675   1.026  1.00  0.00          SI  \nATOM      3   Si MOL     1       1.857   1.482   3.212  1.00  0.00          SI  \nATOM      4   Si MOL     1       3.755   1.888   4.297  1.00  0.00          SI  \nATOM      5   Si MOL     1       3.946   2.288   6.058  1.00  0.00          SI  \nATOM      6   Si MOL     1       5.611   3.088   7.008  1.00  0.00          SI  \nATOM      7   Si MOL     1       5.686   3.195   9.604  1.00  0.00          SI  \nATOM      8   Si MOL     1       7.878   4.588  10.367  1.00  0.00          SI  \nATOM      9   Si MOL     1       1.806   3.518   0.039  1.00  0.00          SI  \nATOM     10   Si MOL     1       3.877   4.346   0.584  1.00  0.00          SI  \nATOM     11   Si MOL     1       3.686   4.297   3.089  1.00  0.00          SI  \nATOM     12   Si MOL     1       5.663   5.458   3.745  1.00  0.00          SI  \nATOM     13   Si MOL     1       6.027   5.476   5.976  1.00  0.00          SI  \nATOM     14   Si MOL     1       7.527   6.715   7.220  1.00  0.00          SI  \nATOM     15   Si MOL     1       7.926   6.394   9.508  1.00  0.00          SI  \nATOM     16   Si MOL     1       9.923   7.811   9.895  1.00  0.00          SI  \nATOM     17   Si MOL     1       3.969   6.644   0.050  1.00  0.00          SI  \nATOM     18   Si MOL     1       5.548   7.766   0.651  1.00  0.00          SI  \nATOM     19   Si MOL     1       5.961   7.745   3.082  1.00  0.00          SI  \nATOM     20   Si MOL     1       7.845   9.068   3.957  1.00  0.00          SI  \nATOM     21   Si MOL     1       7.929   8.684   6.268  1.00  0.00          SI  \nATOM     22   Si MOL     1       9.657   9.881   7.084  1.00  0.00          SI  \nATOM     23   Si MOL     1      10.123  10.215   9.459  1.00  0.00          SI  \nATOM     24   Si MOL     1      11.243  10.933   9.919  1.00  0.00          SI  \nATOM     25   Si MOL     1       4.008  -0.020   0.083  1.00  0.00          SI  \nATOM     26   Si MOL     1       5.833   0.871   0.419  1.00  0.00          SI  \nATOM     27   Si MOL     1       5.836   1.066   3.275  1.00  0.00          SI  \nATOM     28   Si MOL     1       7.764   2.202   3.870  1.00  0.00          SI  \nATOM     29   Si MOL     1       7.601   2.185   6.384  1.00  0.00          SI  \nATOM     30   Si MOL     1       9.776   3.469   6.981  1.00  0.00          SI  \nATOM     31   Si MOL     1       9.572   3.475   9.608  1.00  0.00          SI  \nATOM     32   Si MOL     1      11.590   4.301  10.155  1.00  0.00          SI  \nATOM     33   Si MOL     1       5.678   3.215   0.037  1.00  0.00          SI  \nATOM     34   Si MOL     1       7.789   4.684   0.671  1.00  0.00          SI  \nATOM     35   Si MOL     1       7.608   4.362   3.377  1.00  0.00          SI  \nATOM     36   Si MOL     1       9.569   5.431   4.134  1.00  0.00          SI  \nATOM     37   Si MOL     1       9.409   5.384   6.402  1.00  0.00          SI  \nATOM     38   Si MOL     1      11.517   6.563   7.287  1.00  0.00          SI  \nATOM     39   Si MOL     1      11.328   6.812   9.298  1.00  0.00          SI  \nATOM     40   Si MOL     1      13.655   7.437  10.084  1.00  0.00          SI  \nATOM     41   Si MOL     1       7.750   6.814  -0.239  1.00  0.00          SI  \nATOM     42   Si MOL     1       9.511   8.333   0.654  1.00  0.00          SI  \nATOM     43   Si MOL     1       9.477   7.899   3.500  1.00  0.00          SI  \nATOM     44   Si MOL     1      11.408   8.974   4.067  1.00  0.00          SI  \nATOM     45   Si MOL     1      11.709   8.686   6.100  1.00  0.00          SI  \nATOM     46   Si MOL     1      13.350   9.738   7.174  1.00  0.00          SI  \nATOM     47   Si MOL     1      13.419  10.087   9.525  1.00  0.00          SI  \nATOM     48   Si MOL     1      15.587  11.058  10.191  1.00  0.00          SI  \nENDMDL\n",
           "type": "blob"
          }
         ],
         "kwargs": {
          "defaultRepresentation": false,
          "ext": "pdb"
         },
         "methodName": "loadFile",
         "reconstruc_color_scheme": false,
         "target": "Stage",
         "type": "call_method"
        },
        {
         "args": [
          "400px",
          "300px"
         ],
         "kwargs": {},
         "methodName": "setSize",
         "reconstruc_color_scheme": false,
         "target": "Widget",
         "type": "call_method"
        },
        {
         "args": [
          "unitcell"
         ],
         "component_index": 0,
         "kwargs": {
          "sele": "all"
         },
         "methodName": "addRepresentation",
         "reconstruc_color_scheme": false,
         "target": "compList",
         "type": "call_method"
        },
        {
         "args": [
          "spacefill"
         ],
         "component_index": 0,
         "kwargs": {
          "sele": "all"
         },
         "methodName": "addRepresentation",
         "reconstruc_color_scheme": false,
         "target": "compList",
         "type": "call_method"
        },
        {
         "args": [],
         "kwargs": {
          "cameraType": "orthographic"
         },
         "methodName": "setParameters",
         "reconstruc_color_scheme": false,
         "target": "Stage",
         "type": "call_method"
        },
        {
         "args": [
          {
           "clipDist": 0
          }
         ],
         "kwargs": {},
         "methodName": "setParameters",
         "reconstruc_color_scheme": false,
         "target": "Widget",
         "type": "call_method"
        },
        {
         "args": [
          "spacefill",
          0
         ],
         "kwargs": {
          "colorScale": "rainbow",
          "colorScheme": "element",
          "radiusScale": 0.5,
          "radiusType": "covalent"
         },
         "methodName": "updateRepresentationsByName",
         "reconstruc_color_scheme": false,
         "target": "Widget",
         "type": "call_method"
        },
        {
         "args": [
          "this._Q = [[-0.0, 0.7071067811865476, 0.7071067811865476], [0.816496580927726, -0.40824829046386285, 0.40824829046386296], [0.5773502691896257, 0.5773502691896258, -0.5773502691896257]]\n    var tooltip = document.createElement('div');\n    Object.assign(tooltip.style, {\n      display: 'none',\n      position: 'fixed',\n      zIndex: 10,\n      pointerEvents: 'none',\n      backgroundColor: 'rgba( 0, 0, 0, 0.6 )',\n      color: 'lightgrey',\n      padding: '8px',\n      fontFamily: 'sans-serif'\n    });\n    document.body.appendChild(tooltip);\n\n    var that = this;\n    this.stage.mouseControls.remove('hoverPick');\n    this.stage.signals.hovered.add(function (pickingProxy) {\n      if (pickingProxy && (pickingProxy.atom || pickingProxy.bond)) {\n        var atom = pickingProxy.atom || pickingProxy.closestBondAtom\n        var mp = pickingProxy.mouse.position\n        //tooltip.innerText = atom.element + ' i=' + atom.index + ' (' + atom.x.toFixed(2) +  ', ' + atom.y.toFixed(2) +  ', ' + atom.z.toFixed(2) + ')'\n        //var pos = that._atoms_pos[atom.index]\n        var Q = that._Q\n        var pos_x = Q[0][0] * atom.x + Q[0][1] * atom.y + Q[0][2] * atom.z \n        var pos_y = Q[1][0] * atom.x + Q[1][1] * atom.y + Q[1][2] * atom.z\n        var pos_z = Q[2][0] * atom.x + Q[2][1] * atom.y + Q[2][2] * atom.z\n        tooltip.innerText = 'i=' + atom.index + ' ' + atom.element + ' (' + pos_x.toFixed(2) +  ', ' + pos_y.toFixed(2) +  ', ' + pos_z.toFixed(2) + ')'\n        tooltip.style.bottom = window.innerHeight - mp.y + 3 + 'px'\n        tooltip.style.left = mp.x + 3 + 'px'\n        tooltip.style.display = 'block'\n      } else {\n        tooltip.style.display = 'none'\n      }\n    });\n    this.stage.tooltip = tooltip;\n    "
         ],
         "kwargs": {},
         "methodName": "executeCode",
         "reconstruc_color_scheme": false,
         "target": "Widget",
         "type": "call_method"
        }
       ],
       "_ngl_original_stage_parameters": {
        "ambientColor": 14540253,
        "ambientIntensity": 0.2,
        "backgroundColor": "white",
        "cameraEyeSep": 0.3,
        "cameraFov": 40,
        "cameraType": "perspective",
        "clipDist": 10,
        "clipFar": 100,
        "clipNear": 0,
        "fogFar": 100,
        "fogNear": 50,
        "hoverTimeout": 0,
        "impostor": true,
        "lightColor": 14540253,
        "lightIntensity": 1,
        "mousePreset": "default",
        "panSpeed": 1,
        "quality": "medium",
        "rotateSpeed": 2,
        "sampleLevel": 0,
        "tooltip": true,
        "workerDefault": true,
        "zoomSpeed": 1.2
       },
       "_ngl_repr_dict": {
        "0": {
         "0": {
          "params": {
           "clipCenter": {
            "x": 0,
            "y": 0,
            "z": 0
           },
           "clipNear": 0,
           "clipRadius": 0,
           "colorMode": "hcl",
           "colorReverse": false,
           "colorScale": "",
           "colorScheme": "element",
           "colorValue": "orange",
           "defaultAssembly": "",
           "depthWrite": true,
           "diffuse": 16777215,
           "diffuseInterior": false,
           "disableImpostor": false,
           "disablePicking": false,
           "flatShaded": false,
           "interiorColor": 2236962,
           "interiorDarkening": 0,
           "lazy": false,
           "matrix": {
            "elements": [
             1,
             0,
             0,
             0,
             0,
             1,
             0,
             0,
             0,
             0,
             1,
             0,
             0,
             0,
             0,
             1
            ]
           },
           "metalness": 0,
           "opacity": 1,
           "quality": "medium",
           "radialSegments": 10,
           "radiusData": {},
           "radiusScale": 1,
           "radiusSize": 0.04933016296568518,
           "radiusType": "vdw",
           "roughness": 0.4,
           "sele": "all",
           "side": "double",
           "sphereDetail": 1,
           "useInteriorColor": true,
           "visible": true,
           "wireframe": false
          },
          "type": "unitcell"
         },
         "1": {
          "params": {
           "assembly": "default",
           "clipCenter": {
            "x": 0,
            "y": 0,
            "z": 0
           },
           "clipNear": 0,
           "clipRadius": 0,
           "colorMode": "hcl",
           "colorReverse": false,
           "colorScale": "rainbow",
           "colorScheme": "element",
           "colorValue": 9474192,
           "defaultAssembly": "",
           "depthWrite": true,
           "diffuse": 16777215,
           "diffuseInterior": false,
           "disableImpostor": false,
           "disablePicking": false,
           "flatShaded": false,
           "interiorColor": 2236962,
           "interiorDarkening": 0,
           "lazy": false,
           "matrix": {
            "elements": [
             1,
             0,
             0,
             0,
             0,
             1,
             0,
             0,
             0,
             0,
             1,
             0,
             0,
             0,
             0,
             1
            ]
           },
           "metalness": 0,
           "opacity": 1,
           "quality": "medium",
           "radiusData": {},
           "radiusScale": 0.5,
           "radiusSize": 1,
           "radiusType": "covalent",
           "roughness": 0.4,
           "sele": "all",
           "side": "double",
           "sphereDetail": 1,
           "useInteriorColor": true,
           "visible": true,
           "wireframe": false
          },
          "type": "spacefill"
         }
        }
       },
       "_ngl_serialize": false,
       "_ngl_version": "2.0.0-dev.36",
       "_ngl_view_id": [
        "53CE5F88-8102-496B-A336-1EB32E49A472"
       ],
       "_player_dict": {},
       "_scene_position": {},
       "_scene_rotation": {},
       "_synced_model_ids": [],
       "_synced_repr_model_ids": [],
       "_view_height": "",
       "_view_width": "",
       "background": "white",
       "frame": 0,
       "gui_style": null,
       "layout": "IPY_MODEL_27c1e7d130de4656b98cade2208a778e",
       "max_frame": 0,
       "n_components": 1,
       "picked": {}
      }
     },
     "6ba99e5365a142a1bc62ebc954b21c45": {
      "model_module": "@jupyter-widgets/base",
      "model_module_version": "1.2.0",
      "model_name": "LayoutModel",
      "state": {}
     },
     "6c1f2cf161f24667a704e1ef465f9113": {
      "model_module": "@jupyter-widgets/output",
      "model_module_version": "1.0.0",
      "model_name": "OutputModel",
      "state": {
       "layout": "IPY_MODEL_3b6011303aa7434bb9677facb38b8f4f"
      }
     },
     "6c3246c0306b45b09de633653adc5f9b": {
      "model_module": "@jupyter-widgets/controls",
      "model_module_version": "1.5.0",
      "model_name": "FloatSliderModel",
      "state": {
       "description": "Charge scale",
       "layout": "IPY_MODEL_3cf8ec184da246a7acd67408963fc55d",
       "step": 0.1,
       "style": "IPY_MODEL_0c2c600dcf8146459ad0d38ea33e4c95",
       "value": 1
      }
     },
     "6c798827785040e5927d39b222add620": {
      "model_module": "@jupyter-widgets/base",
      "model_module_version": "1.2.0",
      "model_name": "LayoutModel",
      "state": {}
     },
     "6cc5ccdb38ce4d8c8848a1dca1bd2174": {
      "model_module": "@jupyter-widgets/base",
      "model_module_version": "1.2.0",
      "model_name": "LayoutModel",
      "state": {}
     },
     "6cdd1b1c5275446ab6c4f43f2b6cf11f": {
      "model_module": "@jupyter-widgets/controls",
      "model_module_version": "1.5.0",
      "model_name": "VBoxModel",
      "state": {
       "children": [
        "IPY_MODEL_8782d067158c4877b12493496040ba51",
        "IPY_MODEL_d3ebab5dd22047cca6001950378fc766",
        "IPY_MODEL_d6ab5f15603440ea86c592e2810d7a2f",
        "IPY_MODEL_ec38cbfd774144a099ea8e0162d02740",
        "IPY_MODEL_38929c6c882d4bc0a049d2242932d050",
        "IPY_MODEL_1085c19a67ab48118ed1a9873b65552b",
        "IPY_MODEL_2532384362c146fbbca2f0baa23cca90",
        "IPY_MODEL_ef2a32a8949d4ac49584892df0d46667",
        "IPY_MODEL_54e7163c69ef4223a515e995c02621b7",
        "IPY_MODEL_682ee9a3b6fe4c349b2cf2fa2de05f7f"
       ],
       "layout": "IPY_MODEL_ca11bd6845994ee48b8956680002e415"
      }
     },
     "6d39b22e960d46ffb401e32c73f43508": {
      "model_module": "@jupyter-widgets/controls",
      "model_module_version": "1.5.0",
      "model_name": "DescriptionStyleModel",
      "state": {
       "description_width": ""
      }
     },
     "6d488fc5e8aa4bb9923a6836434f9317": {
      "model_module": "@jupyter-widgets/base",
      "model_module_version": "1.2.0",
      "model_name": "LayoutModel",
      "state": {}
     },
     "6dacbc3691204620a76b5ee4df5a6b06": {
      "model_module": "@jupyter-widgets/controls",
      "model_module_version": "1.5.0",
      "model_name": "ImageModel",
      "state": {
       "layout": "IPY_MODEL_00ecf9394e824924adb4d194e78bc182",
       "width": "900.0"
      }
     },
     "6e4f15b7459a4910addcef0c5f1eed64": {
      "model_module": "@jupyter-widgets/controls",
      "model_module_version": "1.5.0",
      "model_name": "SliderStyleModel",
      "state": {
       "description_width": ""
      }
     },
     "6e6d8e179d79416fa3a140fbdf79f6df": {
      "model_module": "@jupyter-widgets/controls",
      "model_module_version": "1.5.0",
      "model_name": "PlayModel",
      "state": {
       "layout": "IPY_MODEL_0217c3b773db4d749664a3390f20534a",
       "max": 0,
       "style": "IPY_MODEL_41ef8c1f80c04c4b8ea795d2cbcdd13d"
      }
     },
     "6f1f212632024653b0b927e29b05da88": {
      "model_module": "@jupyter-widgets/controls",
      "model_module_version": "1.5.0",
      "model_name": "SliderStyleModel",
      "state": {
       "description_width": ""
      }
     },
     "6f2a3de6a5f04e3fa7db4b52dc1499b4": {
      "model_module": "@jupyter-widgets/output",
      "model_module_version": "1.0.0",
      "model_name": "OutputModel",
      "state": {
       "layout": "IPY_MODEL_1817eb90e8764d6b8c8b33d26d9f8742"
      }
     },
     "6f3b54ee79eb42b48d10fc270fa58b69": {
      "model_module": "@jupyter-widgets/base",
      "model_module_version": "1.2.0",
      "model_name": "LayoutModel",
      "state": {}
     },
     "6fedb979b1ac4d18b27da3ea5a82040a": {
      "model_module": "@jupyter-widgets/controls",
      "model_module_version": "1.5.0",
      "model_name": "CheckboxModel",
      "state": {
       "description": "Show charge",
       "disabled": false,
       "layout": "IPY_MODEL_ec7bc9313f7b48a99a8f4cfc81492e80",
       "style": "IPY_MODEL_04e08e67142f4a56b39999cdf02ce6d1",
       "value": false
      }
     },
     "7093be65e3184c7596f333212b395c5e": {
      "model_module": "@jupyter-widgets/controls",
      "model_module_version": "1.5.0",
      "model_name": "SliderStyleModel",
      "state": {
       "description_width": ""
      }
     },
     "7179ef0c3c2747629cd4e51e459b028b": {
      "model_module": "@jupyter-widgets/controls",
      "model_module_version": "1.5.0",
      "model_name": "DescriptionStyleModel",
      "state": {
       "description_width": ""
      }
     },
     "72006faf633f44c7905860eaa318b4e5": {
      "model_module": "@jupyter-widgets/controls",
      "model_module_version": "1.5.0",
      "model_name": "DescriptionStyleModel",
      "state": {
       "description_width": ""
      }
     },
     "7252967ba41b48118f33b299ae10ee4e": {
      "model_module": "@jupyter-widgets/controls",
      "model_module_version": "1.5.0",
      "model_name": "LinkModel",
      "state": {
       "source": [
        "IPY_MODEL_b1260eb9fc3d4746abc97578bf00020e",
        "value"
       ],
       "target": [
        "IPY_MODEL_a1f0cfff859a4b5b9ec8560af88f27dc",
        "frame"
       ]
      }
     },
     "72da1bfae75f4a38b770bf84e87e1356": {
      "model_module": "@jupyter-widgets/controls",
      "model_module_version": "1.5.0",
      "model_name": "PlayModel",
      "state": {
       "layout": "IPY_MODEL_f936d49db6b841dd97bc4198ef40875c",
       "max": 0,
       "style": "IPY_MODEL_b21c1b8afd5f442db24407a70bda9daf"
      }
     },
     "7314fdaa05f04495ae6ba6673611a258": {
      "model_module": "@jupyter-widgets/controls",
      "model_module_version": "1.5.0",
      "model_name": "DescriptionStyleModel",
      "state": {
       "description_width": ""
      }
     },
     "73b7ec9651ca493fb110280742f8fdbe": {
      "model_module": "@jupyter-widgets/controls",
      "model_module_version": "1.5.0",
      "model_name": "TextModel",
      "state": {
       "description": "Filename: ",
       "layout": "IPY_MODEL_6834b3d1aa2644daa9bfa9672bb734e7",
       "style": "IPY_MODEL_1c92498443ba45228bd38fafb2776e7c",
       "value": "screenshot.png"
      }
     },
     "749e6baff9134f9f9df5868d4c89be05": {
      "model_module": "@jupyter-widgets/base",
      "model_module_version": "1.2.0",
      "model_name": "LayoutModel",
      "state": {}
     },
     "74cfb3c762f245389fc6279b944b3915": {
      "model_module": "@jupyter-widgets/base",
      "model_module_version": "1.2.0",
      "model_name": "LayoutModel",
      "state": {}
     },
     "74e7062a3d764958af9f24834f732f3b": {
      "model_module": "@jupyter-widgets/controls",
      "model_module_version": "1.5.0",
      "model_name": "VBoxModel",
      "state": {
       "children": [
        "IPY_MODEL_a66172c0bd79475d8053a33dddebf8dd",
        "IPY_MODEL_4f901ae6375c43c3a4d65bedb8aae8f7",
        "IPY_MODEL_783326c7f31b446f933f9c7501c3af97",
        "IPY_MODEL_8ee8b6fc7a854ca6ba4f515fc5a87e8a",
        "IPY_MODEL_cd0e35ec498a4e57850197520a19fe98",
        "IPY_MODEL_668616c8354c4b74b0542073b4e88b66",
        "IPY_MODEL_16ae0ce0ae64421e874a12cecd9abf94",
        "IPY_MODEL_9668fec17aab418f9c743c19b4b244fa",
        "IPY_MODEL_9b7bc175e2d74e5d9e916a3bb731180c",
        "IPY_MODEL_8f882967bb4e4e4eacba4fd29ed04302"
       ],
       "layout": "IPY_MODEL_3776d1071edc4e488ab875e67d6beafb"
      }
     },
     "75b86ac1215a4dcbbe69e6999901cf26": {
      "model_module": "@jupyter-widgets/base",
      "model_module_version": "1.2.0",
      "model_name": "LayoutModel",
      "state": {}
     },
     "7606e53418c04b3bab04056e1d404f10": {
      "model_module": "@jupyter-widgets/controls",
      "model_module_version": "1.5.0",
      "model_name": "DescriptionStyleModel",
      "state": {
       "description_width": ""
      }
     },
     "762ed4bb00bf41c6adeebabf2049b49c": {
      "model_module": "@jupyter-widgets/controls",
      "model_module_version": "1.5.0",
      "model_name": "ButtonStyleModel",
      "state": {}
     },
     "76cec9276ad94181b8ce1859de37c2c5": {
      "model_module": "@jupyter-widgets/controls",
      "model_module_version": "1.5.0",
      "model_name": "FloatSliderModel",
      "state": {
       "description": "Force scale",
       "layout": "IPY_MODEL_3ee769a75e974f95b8433d5fe8733a45",
       "step": 0.1,
       "style": "IPY_MODEL_cf04c68dbc5347fd93c9b62621559571",
       "value": 0.5
      }
     },
     "7723709fcf1d427fb85839f819f466dc": {
      "model_module": "@jupyter-widgets/controls",
      "model_module_version": "1.5.0",
      "model_name": "DescriptionStyleModel",
      "state": {
       "description_width": ""
      }
     },
     "773999092b5748f6bdfab37aded8f387": {
      "model_module": "@jupyter-widgets/controls",
      "model_module_version": "1.5.0",
      "model_name": "DescriptionStyleModel",
      "state": {
       "description_width": ""
      }
     },
     "77f1e6ba13644d62873ad1cdc3386417": {
      "model_module": "@jupyter-widgets/controls",
      "model_module_version": "1.5.0",
      "model_name": "ButtonStyleModel",
      "state": {}
     },
     "783326c7f31b446f933f9c7501c3af97": {
      "model_module": "@jupyter-widgets/controls",
      "model_module_version": "1.5.0",
      "model_name": "FloatSliderModel",
      "state": {
       "description": "Ball size",
       "layout": "IPY_MODEL_4c0d9d832d8747ebbcf4904ca54439f0",
       "max": 1.5,
       "step": 0.01,
       "style": "IPY_MODEL_4bbe80ee664f4185afe70f540d302c0c",
       "value": 0.5
      }
     },
     "79988e92f04a4ed9866308312e25ef13": {
      "model_module": "@jupyter-widgets/controls",
      "model_module_version": "1.5.0",
      "model_name": "ButtonModel",
      "state": {
       "description": "Download image",
       "layout": "IPY_MODEL_f8cb9fe5ee394caf92fe2745a3fc6873",
       "style": "IPY_MODEL_0a4e34d04b9f4c31a0f2bd68dfe8a4d2",
       "tooltip": "Download current frame to your local PC"
      }
     },
     "7b356e69bd6a4d9aaf5bb3dd01671075": {
      "model_module": "@jupyter-widgets/controls",
      "model_module_version": "1.5.0",
      "model_name": "ButtonModel",
      "state": {
       "description": "Download image",
       "layout": "IPY_MODEL_048f7b7ce89d4afa8cc1fa593816949c",
       "style": "IPY_MODEL_065725b394eb4598b5cf74f3318c9713",
       "tooltip": "Download current frame to your local PC"
      }
     },
     "7b501cf740474200878b8250e786cac9": {
      "model_module": "@jupyter-widgets/base",
      "model_module_version": "1.2.0",
      "model_name": "LayoutModel",
      "state": {}
     },
     "7bd4dd77a4f84ae2b9873a0b81f56469": {
      "model_module": "@jupyter-widgets/controls",
      "model_module_version": "1.5.0",
      "model_name": "FloatSliderModel",
      "state": {
       "description": "Ball size",
       "layout": "IPY_MODEL_292222a9da57406d8ba8e4234eacb9f1",
       "max": 1.5,
       "step": 0.01,
       "style": "IPY_MODEL_3d79bb3223b74798ac1b1910fc393d84",
       "value": 0.5
      }
     },
     "7dc68617037c4ca5a20747c201b1b4da": {
      "model_module": "@jupyter-widgets/controls",
      "model_module_version": "1.5.0",
      "model_name": "SliderStyleModel",
      "state": {
       "description_width": ""
      }
     },
     "7e63fae4abd0438f8b84ae171a65dbd4": {
      "model_module": "@jupyter-widgets/controls",
      "model_module_version": "1.5.0",
      "model_name": "IntSliderModel",
      "state": {
       "layout": "IPY_MODEL_48697c45f72142b297fbad3a422c8f00",
       "max": 0,
       "style": "IPY_MODEL_c013e1b42fa64705b48c1bf173dcc009"
      }
     },
     "7edc412c857e42248694901ff51a4b8b": {
      "model_module": "@jupyter-widgets/controls",
      "model_module_version": "1.5.0",
      "model_name": "DescriptionStyleModel",
      "state": {
       "description_width": ""
      }
     },
     "7f510cbf39754a6f9f3a4af2d771c2a9": {
      "model_module": "@jupyter-widgets/controls",
      "model_module_version": "1.5.0",
      "model_name": "DescriptionStyleModel",
      "state": {
       "description_width": ""
      }
     },
     "80774604ef594ae0b5f02edc06e698e2": {
      "model_module": "@jupyter-widgets/controls",
      "model_module_version": "1.5.0",
      "model_name": "PlayModel",
      "state": {
       "layout": "IPY_MODEL_387439f10a474a928ff9ae331d531cc2",
       "max": 0,
       "style": "IPY_MODEL_72006faf633f44c7905860eaa318b4e5"
      }
     },
     "80d1f99f3168441cb731c9663fa23a38": {
      "model_module": "@jupyter-widgets/base",
      "model_module_version": "1.2.0",
      "model_name": "LayoutModel",
      "state": {}
     },
     "8107b01898634fe2b94a702f249d1d3d": {
      "model_module": "@jupyter-widgets/base",
      "model_module_version": "1.2.0",
      "model_name": "LayoutModel",
      "state": {}
     },
     "812864408426422d8c3053331f0b4d1e": {
      "model_module": "@jupyter-widgets/base",
      "model_module_version": "1.2.0",
      "model_name": "LayoutModel",
      "state": {}
     },
     "817c6cb698c442208183a25462b8abee": {
      "model_module": "@jupyter-widgets/controls",
      "model_module_version": "1.5.0",
      "model_name": "TextModel",
      "state": {
       "description": "Filename: ",
       "layout": "IPY_MODEL_c26231eae37047be84c9c3cd147ddbdb",
       "style": "IPY_MODEL_292fbec39fac454b8baf4b1a2b8c65c5",
       "value": "screenshot.png"
      }
     },
     "818a0e12d12f4d2c8f4c8e55679f7c04": {
      "model_module": "@jupyter-widgets/controls",
      "model_module_version": "1.5.0",
      "model_name": "DescriptionStyleModel",
      "state": {
       "description_width": ""
      }
     },
     "82bb136a110945f1bb38a03cebeb7f8b": {
      "model_module": "@jupyter-widgets/controls",
      "model_module_version": "1.5.0",
      "model_name": "VBoxModel",
      "state": {
       "children": [
        "IPY_MODEL_4e8981e9b2c44c57827d5ce7bdcf1d32",
        "IPY_MODEL_21a34cb5c58b454e9a72b8b82d8c5f70",
        "IPY_MODEL_5c605068e00e4e65a50c6287e2141d57",
        "IPY_MODEL_dbb0de50dea04f37877e6d9515f598ad",
        "IPY_MODEL_61de1eaa217a4a04a0e92a3a38f6bfe4",
        "IPY_MODEL_edfb644314a94800baff1d24fdd4f18b",
        "IPY_MODEL_a5ed78c9f5794c38b221b002e6997b1d",
        "IPY_MODEL_b9f456b5bade461caeecaf0d1ccdfdfc",
        "IPY_MODEL_8550d53fc8a248d18d2a6414def3641e",
        "IPY_MODEL_bb5c61f902ef4a8a8f1e9439b06c54fa"
       ],
       "layout": "IPY_MODEL_9b040c5f8cf54d19a4300a3cb0170aff"
      }
     },
     "82dfcef7f4ea400f8f69c740755db345": {
      "model_module": "@jupyter-widgets/controls",
      "model_module_version": "1.5.0",
      "model_name": "HBoxModel",
      "state": {
       "children": [
        "IPY_MODEL_6e6d8e179d79416fa3a140fbdf79f6df",
        "IPY_MODEL_217d99a46bc5489e88f567c4e36646f0"
       ],
       "layout": "IPY_MODEL_f20340090ec54375a5591a5fd4ca7769"
      }
     },
     "8358952b7cb74d97a5fb410245ff5c8c": {
      "model_module": "@jupyter-widgets/base",
      "model_module_version": "1.2.0",
      "model_name": "LayoutModel",
      "state": {}
     },
     "844ec2dd377840d9b22981983870548f": {
      "model_module": "@jupyter-widgets/base",
      "model_module_version": "1.2.0",
      "model_name": "LayoutModel",
      "state": {}
     },
     "8550d53fc8a248d18d2a6414def3641e": {
      "model_module": "@jupyter-widgets/controls",
      "model_module_version": "1.5.0",
      "model_name": "FloatSliderModel",
      "state": {
       "description": "Charge scale",
       "layout": "IPY_MODEL_96a3d8d4fea84f4f85017d4f409308d3",
       "step": 0.1,
       "style": "IPY_MODEL_03fe36a36843436197ef2e82c4e2df46",
       "value": 1
      }
     },
     "857fd9e94ef24ed7a8f6900db8ef9716": {
      "model_module": "@jupyter-widgets/base",
      "model_module_version": "1.2.0",
      "model_name": "LayoutModel",
      "state": {}
     },
     "8782d067158c4877b12493496040ba51": {
      "model_module": "@jupyter-widgets/controls",
      "model_module_version": "1.5.0",
      "model_name": "DropdownModel",
      "state": {
       "_options_labels": [
        "All",
        "Fe"
       ],
       "description": "Show",
       "index": 0,
       "layout": "IPY_MODEL_0ab6ba1aa5724d6885a3f5a67fe748f1",
       "style": "IPY_MODEL_aa7462dc45b24e1ca7e7debdc5810535"
      }
     },
     "8870d7d95c6145119dd3bf2c71fc337c": {
      "model_module": "nglview-js-widgets",
      "model_module_version": "3.0.1",
      "model_name": "ColormakerRegistryModel",
      "state": {
       "_msg_ar": [],
       "_msg_q": [],
       "_ready": true,
       "layout": "IPY_MODEL_912b5fd5b9a9413792db976bfc365d47"
      }
     },
     "888470102d2340be94477fc3c4df2ca4": {
      "model_module": "@jupyter-widgets/controls",
      "model_module_version": "1.5.0",
      "model_name": "IntSliderModel",
      "state": {
       "layout": "IPY_MODEL_b16c31d3ff2f4a22bc8d63af0fcc4ed8",
       "max": 0,
       "style": "IPY_MODEL_19d83c087e0943d4aaa4d4cedef2f5c9"
      }
     },
     "8aa36142c89a479db01a094df7f14d6b": {
      "model_module": "@jupyter-widgets/controls",
      "model_module_version": "1.5.0",
      "model_name": "CheckboxModel",
      "state": {
       "description": "Show charge",
       "disabled": false,
       "layout": "IPY_MODEL_0206fbc91529435eba0370fbbe85589d",
       "style": "IPY_MODEL_4bbc633c033f463e8bc659750bbd69ed",
       "value": false
      }
     },
     "8ac61d945a7c4af1902ec85c3b1e2bc9": {
      "model_module": "@jupyter-widgets/controls",
      "model_module_version": "1.5.0",
      "model_name": "ButtonStyleModel",
      "state": {}
     },
     "8b4a6299af09413abb121d7f81d0796a": {
      "model_module": "@jupyter-widgets/controls",
      "model_module_version": "1.5.0",
      "model_name": "VBoxModel",
      "state": {
       "children": [
        "IPY_MODEL_dec9c7f604004c34938ead4fd3df9750",
        "IPY_MODEL_a3f74dd6927d4c92bc16425124d27c3b",
        "IPY_MODEL_410b883c8a9348d3ad19006d0189072b",
        "IPY_MODEL_73b7ec9651ca493fb110280742f8fdbe",
        "IPY_MODEL_bc116f1e85004050a749db14ecf40de8",
        "IPY_MODEL_5bd2a87451b34e26a853275f3191fbd9",
        "IPY_MODEL_d06aed6fc42845e8af09d3b697faac42",
        "IPY_MODEL_60e02ce278444db4a43b00ff0c93a4df",
        "IPY_MODEL_12d84c45c404431c9300a8e127f0d7b2",
        "IPY_MODEL_4b19832fc0fb4e6383dc3d9e2e6da22a"
       ],
       "layout": "IPY_MODEL_396b5140a0204027b19513c83d078d61"
      }
     },
     "8bb76aa17e6f41cf986880e2b9555088": {
      "model_module": "@jupyter-widgets/controls",
      "model_module_version": "1.5.0",
      "model_name": "DescriptionStyleModel",
      "state": {
       "description_width": ""
      }
     },
     "8d73d1d17831409ebbc1d0eaa34fbac3": {
      "model_module": "@jupyter-widgets/base",
      "model_module_version": "1.2.0",
      "model_name": "LayoutModel",
      "state": {}
     },
     "8db623f9c2fe458083f2d12451c91cd6": {
      "model_module": "@jupyter-widgets/controls",
      "model_module_version": "1.5.0",
      "model_name": "HBoxModel",
      "state": {
       "children": [
        "IPY_MODEL_ee4768b4195743d69f97edae104a31fe",
        "IPY_MODEL_d952f33b649640088197eedf1540eabc"
       ],
       "layout": "IPY_MODEL_68a997ef4e414dbdb9224735e5ab0c9b"
      }
     },
     "8ecfaa9729854198ba15e2b493bf8d89": {
      "model_module": "@jupyter-widgets/base",
      "model_module_version": "1.2.0",
      "model_name": "LayoutModel",
      "state": {}
     },
     "8ee8b6fc7a854ca6ba4f515fc5a87e8a": {
      "model_module": "@jupyter-widgets/controls",
      "model_module_version": "1.5.0",
      "model_name": "TextModel",
      "state": {
       "description": "Filename: ",
       "layout": "IPY_MODEL_4260c04943fe4579bfee6e23e9b65963",
       "style": "IPY_MODEL_a607bcb54d534b9bbf940ecd825d4a16",
       "value": "screenshot.png"
      }
     },
     "8f877d07fe8949e39490b9f9019d10ba": {
      "model_module": "@jupyter-widgets/base",
      "model_module_version": "1.2.0",
      "model_name": "LayoutModel",
      "state": {}
     },
     "8f882967bb4e4e4eacba4fd29ed04302": {
      "model_module": "@jupyter-widgets/output",
      "model_module_version": "1.0.0",
      "model_name": "OutputModel",
      "state": {
       "layout": "IPY_MODEL_c2d5bdcd988a48e3a4b56d812a541d7a"
      }
     },
     "8f892bc7f4dc4fbb9cb395869e7fca9a": {
      "model_module": "@jupyter-widgets/controls",
      "model_module_version": "1.5.0",
      "model_name": "SliderStyleModel",
      "state": {
       "description_width": ""
      }
     },
     "900cfe3ce61a422481ad4c33b216dcfa": {
      "model_module": "@jupyter-widgets/controls",
      "model_module_version": "1.5.0",
      "model_name": "DescriptionStyleModel",
      "state": {
       "description_width": ""
      }
     },
     "903286c4385142f4aad3dccb4b35a0e2": {
      "model_module": "@jupyter-widgets/base",
      "model_module_version": "1.2.0",
      "model_name": "LayoutModel",
      "state": {}
     },
     "909a05dc1f304a5f89a577ca4c84fb55": {
      "model_module": "@jupyter-widgets/controls",
      "model_module_version": "1.5.0",
      "model_name": "LinkModel",
      "state": {
       "source": [
        "IPY_MODEL_139d2623f17a4a9f90cb7027d8027cb8",
        "max"
       ],
       "target": [
        "IPY_MODEL_af0a609ae9714a47b852a9d1008afb6e",
        "max_frame"
       ]
      }
     },
     "90d4194d6b1c48fda20a48c8ce5b7841": {
      "model_module": "@jupyter-widgets/base",
      "model_module_version": "1.2.0",
      "model_name": "LayoutModel",
      "state": {}
     },
     "90f6786f7baa472c899f3d48db2b0265": {
      "model_module": "@jupyter-widgets/controls",
      "model_module_version": "1.5.0",
      "model_name": "ImageModel",
      "state": {
       "layout": "IPY_MODEL_9f4a388c8d59435f9df3936af422a197",
       "width": "900.0"
      }
     },
     "91065972b01d4fb69400d6b67d11eb94": {
      "model_module": "@jupyter-widgets/controls",
      "model_module_version": "1.5.0",
      "model_name": "IntSliderModel",
      "state": {
       "layout": "IPY_MODEL_187d9c6aef384becb6e49435ce647fb7",
       "max": 0,
       "style": "IPY_MODEL_c01c8f4d6d034b3bb2142fe4fdedaf29"
      }
     },
     "912b5fd5b9a9413792db976bfc365d47": {
      "model_module": "@jupyter-widgets/base",
      "model_module_version": "1.2.0",
      "model_name": "LayoutModel",
      "state": {}
     },
     "91fc0410af8641149f00b5353e51c45d": {
      "model_module": "@jupyter-widgets/base",
      "model_module_version": "1.2.0",
      "model_name": "LayoutModel",
      "state": {}
     },
     "9377c6d0a9fe494a84b890898dbaa1f1": {
      "model_module": "@jupyter-widgets/base",
      "model_module_version": "1.2.0",
      "model_name": "LayoutModel",
      "state": {}
     },
     "93be2521ad4c4244b1231d9424322140": {
      "model_module": "@jupyter-widgets/base",
      "model_module_version": "1.2.0",
      "model_name": "LayoutModel",
      "state": {}
     },
     "9485c8e9845e4c3599ea5daa971477c3": {
      "model_module": "@jupyter-widgets/controls",
      "model_module_version": "1.5.0",
      "model_name": "SliderStyleModel",
      "state": {
       "description_width": ""
      }
     },
     "9488dc60610648ba9e5bc5dca3ae5596": {
      "model_module": "@jupyter-widgets/base",
      "model_module_version": "1.2.0",
      "model_name": "LayoutModel",
      "state": {}
     },
     "95c2f5cc04f64182bb70158d535369e3": {
      "model_module": "@jupyter-widgets/controls",
      "model_module_version": "1.5.0",
      "model_name": "LinkModel",
      "state": {
       "source": [
        "IPY_MODEL_6e6d8e179d79416fa3a140fbdf79f6df",
        "max"
       ],
       "target": [
        "IPY_MODEL_a6df092adb884c7489fcfc01c6a86e9f",
        "max_frame"
       ]
      }
     },
     "95d3f7898c0d472889a88bd4769dd91f": {
      "model_module": "@jupyter-widgets/base",
      "model_module_version": "1.2.0",
      "model_name": "LayoutModel",
      "state": {}
     },
     "9668fec17aab418f9c743c19b4b244fa": {
      "model_module": "@jupyter-widgets/controls",
      "model_module_version": "1.5.0",
      "model_name": "CheckboxModel",
      "state": {
       "description": "Show charge",
       "disabled": false,
       "layout": "IPY_MODEL_668ef78365ae4100aec373cb246c2e1d",
       "style": "IPY_MODEL_667b3e077477478e9caa0c7a75a71abb",
       "value": false
      }
     },
     "96a3d8d4fea84f4f85017d4f409308d3": {
      "model_module": "@jupyter-widgets/base",
      "model_module_version": "1.2.0",
      "model_name": "LayoutModel",
      "state": {}
     },
     "96d90e699b394532a763ae90ddbb02f7": {
      "model_module": "@jupyter-widgets/controls",
      "model_module_version": "1.5.0",
      "model_name": "SliderStyleModel",
      "state": {
       "description_width": ""
      }
     },
     "9729e766acfd4e27be28607ff86084ed": {
      "model_module": "@jupyter-widgets/base",
      "model_module_version": "1.2.0",
      "model_name": "LayoutModel",
      "state": {}
     },
     "974164e7aac6485dbdf91003defb66e1": {
      "model_module": "@jupyter-widgets/controls",
      "model_module_version": "1.5.0",
      "model_name": "LinkModel",
      "state": {
       "source": [
        "IPY_MODEL_dfb1b7e6bef5445bbbefdce4ecd11777",
        "max"
       ],
       "target": [
        "IPY_MODEL_383cc848e02f444c89326ab04267265e",
        "max_frame"
       ]
      }
     },
     "9a0fe87b16764cfdb3e30cb9148e4fe5": {
      "model_module": "@jupyter-widgets/controls",
      "model_module_version": "1.5.0",
      "model_name": "TextModel",
      "state": {
       "description": "Filename: ",
       "layout": "IPY_MODEL_b8a8c9d6a0ee4450950b8a837ad57650",
       "style": "IPY_MODEL_b15a03a7ed9240d298675cdbb2eacb1a",
       "value": "screenshot.png"
      }
     },
     "9b040c5f8cf54d19a4300a3cb0170aff": {
      "model_module": "@jupyter-widgets/base",
      "model_module_version": "1.2.0",
      "model_name": "LayoutModel",
      "state": {}
     },
     "9b303ea4de7449f999604e4dfe73069e": {
      "model_module": "@jupyter-widgets/controls",
      "model_module_version": "1.5.0",
      "model_name": "FloatSliderModel",
      "state": {
       "description": "Charge scale",
       "layout": "IPY_MODEL_24af3f798941467c98b2586ad04b19c9",
       "step": 0.1,
       "style": "IPY_MODEL_96d90e699b394532a763ae90ddbb02f7",
       "value": 1
      }
     },
     "9b66a4d50bdf458ca1e39723432503ce": {
      "model_module": "@jupyter-widgets/controls",
      "model_module_version": "1.5.0",
      "model_name": "ButtonStyleModel",
      "state": {}
     },
     "9b7bc175e2d74e5d9e916a3bb731180c": {
      "model_module": "@jupyter-widgets/controls",
      "model_module_version": "1.5.0",
      "model_name": "FloatSliderModel",
      "state": {
       "description": "Charge scale",
       "layout": "IPY_MODEL_6f3b54ee79eb42b48d10fc270fa58b69",
       "step": 0.1,
       "style": "IPY_MODEL_bb7aa958c7a14ec78da2e82e4d0057f5",
       "value": 1
      }
     },
     "9bc14d5a66034c5d950affaea69be76f": {
      "model_module": "@jupyter-widgets/base",
      "model_module_version": "1.2.0",
      "model_name": "LayoutModel",
      "state": {}
     },
     "9bdfb9f5933f4d3e90fb6f13773ea201": {
      "model_module": "@jupyter-widgets/base",
      "model_module_version": "1.2.0",
      "model_name": "LayoutModel",
      "state": {}
     },
     "9c297ade8c3a43f6983803d73b445b70": {
      "model_module": "@jupyter-widgets/base",
      "model_module_version": "1.2.0",
      "model_name": "LayoutModel",
      "state": {}
     },
     "9c57c08266a9494c8a867155f9cc28c2": {
      "model_module": "@jupyter-widgets/controls",
      "model_module_version": "1.5.0",
      "model_name": "ButtonModel",
      "state": {
       "description": "Download image",
       "layout": "IPY_MODEL_903286c4385142f4aad3dccb4b35a0e2",
       "style": "IPY_MODEL_467bbb23ccc441d39d9a13e1382fd765",
       "tooltip": "Download current frame to your local PC"
      }
     },
     "9e9d9c171503485292a5e2ac5dd1ccdd": {
      "model_module": "@jupyter-widgets/controls",
      "model_module_version": "1.5.0",
      "model_name": "SliderStyleModel",
      "state": {
       "description_width": ""
      }
     },
     "9ec69d07d3f34e01bce188967265ee20": {
      "model_module": "@jupyter-widgets/base",
      "model_module_version": "1.2.0",
      "model_name": "LayoutModel",
      "state": {}
     },
     "9f4a388c8d59435f9df3936af422a197": {
      "model_module": "@jupyter-widgets/base",
      "model_module_version": "1.2.0",
      "model_name": "LayoutModel",
      "state": {}
     },
     "9f4f7572c3d4496086318d5f70128ab2": {
      "model_module": "@jupyter-widgets/controls",
      "model_module_version": "1.5.0",
      "model_name": "DescriptionStyleModel",
      "state": {
       "description_width": ""
      }
     },
     "9f72c61901674e438329412b6dce38d9": {
      "model_module": "@jupyter-widgets/base",
      "model_module_version": "1.2.0",
      "model_name": "LayoutModel",
      "state": {}
     },
     "a0c9970398434d5a82c14e84884c0e9d": {
      "model_module": "@jupyter-widgets/controls",
      "model_module_version": "1.5.0",
      "model_name": "DropdownModel",
      "state": {
       "_options_labels": [
        "All",
        "O",
        "H",
        "C"
       ],
       "description": "Show",
       "index": 0,
       "layout": "IPY_MODEL_b2f3946fa2854ede8dc165fbbf578c21",
       "style": "IPY_MODEL_f6e22252a7694b48bfe11610359c3fb1"
      }
     },
     "a16cfcced21b425f9ec51e60af7082d6": {
      "model_module": "@jupyter-widgets/controls",
      "model_module_version": "1.5.0",
      "model_name": "SliderStyleModel",
      "state": {
       "description_width": ""
      }
     },
     "a19914da2b4b44f69d02d9918e84cf9f": {
      "model_module": "@jupyter-widgets/controls",
      "model_module_version": "1.5.0",
      "model_name": "SliderStyleModel",
      "state": {
       "description_width": ""
      }
     },
     "a1e39265c8ba4eaba11299e13d1f638e": {
      "model_module": "@jupyter-widgets/base",
      "model_module_version": "1.2.0",
      "model_name": "LayoutModel",
      "state": {}
     },
     "a1f0cfff859a4b5b9ec8560af88f27dc": {
      "model_module": "nglview-js-widgets",
      "model_module_version": "3.0.1",
      "model_name": "NGLModel",
      "state": {
       "_camera_orientation": [
        27.485156650450833,
        0,
        0,
        0,
        0,
        27.485156650450833,
        0,
        0,
        0,
        0,
        27.485156650450833,
        0,
        -9.750999689102173,
        -6.801999822258949,
        -6.253999870270491,
        1
       ],
       "_camera_str": "orthographic",
       "_gui_theme": null,
       "_ibtn_fullscreen": "IPY_MODEL_2d0a3d32bd6148b09678c4da92fce7c5",
       "_igui": null,
       "_iplayer": "IPY_MODEL_1880e54863304c9daae45a871c1a1b30",
       "_ngl_color_dict": {},
       "_ngl_coordinate_resource": {},
       "_ngl_full_stage_parameters": {
        "ambientColor": 14540253,
        "ambientIntensity": 0.2,
        "backgroundColor": "white",
        "cameraEyeSep": 0.3,
        "cameraFov": 40,
        "cameraType": "orthographic",
        "clipDist": 0,
        "clipFar": 100,
        "clipNear": 0,
        "fogFar": 100,
        "fogNear": 50,
        "hoverTimeout": 0,
        "impostor": true,
        "lightColor": 14540253,
        "lightIntensity": 1,
        "mousePreset": "default",
        "panSpeed": 1,
        "quality": "medium",
        "rotateSpeed": 2,
        "sampleLevel": 0,
        "tooltip": true,
        "workerDefault": true,
        "zoomSpeed": 1.2
       },
       "_ngl_msg_archive": [
        {
         "args": [
          {
           "binary": false,
           "data": "CRYST1    7.679   11.519   15.358  60.00  60.00  60.00 P 1\nMODEL     1\nATOM      1   Si MOL     1       7.598   0.336   0.455  1.00  0.00          SI  \nATOM      2   Si MOL     1       2.119   1.247   0.765  1.00  0.00          SI  \nATOM      3   Si MOL     1       9.489   1.252   3.041  1.00  0.00          SI  \nATOM      4   Si MOL     1       3.907   2.135   4.416  1.00  0.00          SI  \nATOM      5   Si MOL     1      11.599   2.393   6.512  1.00  0.00          SI  \nATOM      6   Si MOL     1       5.937   3.414   7.202  1.00  0.00          SI  \nATOM      7   Si MOL     1      13.430   3.470   9.448  1.00  0.00          SI  \nATOM      8   Si MOL     1       7.986   4.139  10.197  1.00  0.00          SI  \nATOM      9   Si MOL     1       9.503   3.762   0.090  1.00  0.00          SI  \nATOM     10   Si MOL     1       3.915   4.488   1.246  1.00  0.00          SI  \nATOM     11   Si MOL     1      11.379   4.639   3.121  1.00  0.00          SI  \nATOM     12   Si MOL     1       5.880   5.385   4.056  1.00  0.00          SI  \nATOM     13   Si MOL     1       6.172   5.319   6.195  1.00  0.00          SI  \nATOM     14   Si MOL     1       7.501   6.666   6.917  1.00  0.00          SI  \nATOM     15   Si MOL     1      15.164   6.833   8.924  1.00  0.00          SI  \nATOM     16   Si MOL     1       9.612   7.638  10.299  1.00  0.00          SI  \nATOM     17   Si MOL     1       4.034   6.644   0.123  1.00  0.00          SI  \nATOM     18   Si MOL     1       5.742   7.654   0.821  1.00  0.00          SI  \nATOM     19   Si MOL     1      13.159   7.936   3.023  1.00  0.00          SI  \nATOM     20   Si MOL     1       7.744   8.666   3.799  1.00  0.00          SI  \nATOM     21   Si MOL     1      15.474   9.152   6.176  1.00  0.00          SI  \nATOM     22   Si MOL     1       9.660   9.984   7.088  1.00  0.00          SI  \nATOM     23   Si MOL     1      17.383  10.136   9.499  1.00  0.00          SI  \nATOM     24   Si MOL     1      11.505  10.896   9.883  1.00  0.00          SI  \nATOM     25   Si MOL     1      11.754   4.548  12.497  1.00  0.00          SI  \nATOM     26   Si MOL     1       6.042   1.127   0.542  1.00  0.00          SI  \nATOM     27   Si MOL     1       5.911   1.367   3.019  1.00  0.00          SI  \nATOM     28   Si MOL     1       7.664   2.193   3.956  1.00  0.00          SI  \nATOM     29   Si MOL     1       7.558   2.330   6.487  1.00  0.00          SI  \nATOM     30   Si MOL     1       9.467   3.316   6.939  1.00  0.00          SI  \nATOM     31   Si MOL     1      15.489  13.268   9.319  1.00  0.00          SI  \nATOM     32   Si MOL     1      11.727   4.520   9.870  1.00  0.00          SI  \nATOM     33   Si MOL     1      13.482   7.723  12.005  1.00  0.00          SI  \nATOM     34   Si MOL     1       7.412   4.476   0.940  1.00  0.00          SI  \nATOM     35   Si MOL     1       7.866   4.363   2.756  1.00  0.00          SI  \nATOM     36   Si MOL     1       9.210   5.294   4.110  1.00  0.00          SI  \nATOM     37   Si MOL     1       9.821   5.579   6.227  1.00  0.00          SI  \nATOM     38   Si MOL     1      11.436   6.113   7.425  1.00  0.00          SI  \nATOM     39   Si MOL     1      11.886   6.491   9.487  1.00  0.00          SI  \nATOM     40   Si MOL     1      13.340   7.641  10.198  1.00  0.00          SI  \nATOM     41   Si MOL     1       7.463   6.786   0.011  1.00  0.00          SI  \nATOM     42   Si MOL     1       9.817   7.544   0.850  1.00  0.00          SI  \nATOM     43   Si MOL     1       9.615   7.886   3.180  1.00  0.00          SI  \nATOM     44   Si MOL     1      11.536   8.792   4.266  1.00  0.00          SI  \nATOM     45   Si MOL     1      11.802   8.882   5.981  1.00  0.00          SI  \nATOM     46   Si MOL     1      13.766   9.569   7.285  1.00  0.00          SI  \nATOM     47   Si MOL     1      13.564  10.085   9.409  1.00  0.00          SI  \nATOM     48   Si MOL     1      15.296  10.674  10.443  1.00  0.00          SI  \nENDMDL\n",
           "type": "blob"
          }
         ],
         "kwargs": {
          "defaultRepresentation": false,
          "ext": "pdb"
         },
         "methodName": "loadFile",
         "reconstruc_color_scheme": false,
         "target": "Stage",
         "type": "call_method"
        },
        {
         "args": [
          "400px",
          "300px"
         ],
         "kwargs": {},
         "methodName": "setSize",
         "reconstruc_color_scheme": false,
         "target": "Widget",
         "type": "call_method"
        },
        {
         "args": [
          "unitcell"
         ],
         "component_index": 0,
         "kwargs": {
          "sele": "all"
         },
         "methodName": "addRepresentation",
         "reconstruc_color_scheme": false,
         "target": "compList",
         "type": "call_method"
        },
        {
         "args": [
          "spacefill"
         ],
         "component_index": 0,
         "kwargs": {
          "sele": "all"
         },
         "methodName": "addRepresentation",
         "reconstruc_color_scheme": false,
         "target": "compList",
         "type": "call_method"
        },
        {
         "args": [],
         "kwargs": {
          "cameraType": "orthographic"
         },
         "methodName": "setParameters",
         "reconstruc_color_scheme": false,
         "target": "Stage",
         "type": "call_method"
        },
        {
         "args": [
          {
           "clipDist": 0
          }
         ],
         "kwargs": {},
         "methodName": "setParameters",
         "reconstruc_color_scheme": false,
         "target": "Widget",
         "type": "call_method"
        },
        {
         "args": [
          "spacefill",
          0
         ],
         "kwargs": {
          "colorScale": "rainbow",
          "colorScheme": "element",
          "radiusScale": 0.5,
          "radiusType": "covalent"
         },
         "methodName": "updateRepresentationsByName",
         "reconstruc_color_scheme": false,
         "target": "Widget",
         "type": "call_method"
        },
        {
         "args": [
          "this._Q = [[-0.0, 0.7071067811865476, 0.7071067811865476], [0.816496580927726, -0.40824829046386285, 0.40824829046386296], [0.5773502691896257, 0.5773502691896258, -0.5773502691896257]]\n    var tooltip = document.createElement('div');\n    Object.assign(tooltip.style, {\n      display: 'none',\n      position: 'fixed',\n      zIndex: 10,\n      pointerEvents: 'none',\n      backgroundColor: 'rgba( 0, 0, 0, 0.6 )',\n      color: 'lightgrey',\n      padding: '8px',\n      fontFamily: 'sans-serif'\n    });\n    document.body.appendChild(tooltip);\n\n    var that = this;\n    this.stage.mouseControls.remove('hoverPick');\n    this.stage.signals.hovered.add(function (pickingProxy) {\n      if (pickingProxy && (pickingProxy.atom || pickingProxy.bond)) {\n        var atom = pickingProxy.atom || pickingProxy.closestBondAtom\n        var mp = pickingProxy.mouse.position\n        //tooltip.innerText = atom.element + ' i=' + atom.index + ' (' + atom.x.toFixed(2) +  ', ' + atom.y.toFixed(2) +  ', ' + atom.z.toFixed(2) + ')'\n        //var pos = that._atoms_pos[atom.index]\n        var Q = that._Q\n        var pos_x = Q[0][0] * atom.x + Q[0][1] * atom.y + Q[0][2] * atom.z \n        var pos_y = Q[1][0] * atom.x + Q[1][1] * atom.y + Q[1][2] * atom.z\n        var pos_z = Q[2][0] * atom.x + Q[2][1] * atom.y + Q[2][2] * atom.z\n        tooltip.innerText = 'i=' + atom.index + ' ' + atom.element + ' (' + pos_x.toFixed(2) +  ', ' + pos_y.toFixed(2) +  ', ' + pos_z.toFixed(2) + ')'\n        tooltip.style.bottom = window.innerHeight - mp.y + 3 + 'px'\n        tooltip.style.left = mp.x + 3 + 'px'\n        tooltip.style.display = 'block'\n      } else {\n        tooltip.style.display = 'none'\n      }\n    });\n    this.stage.tooltip = tooltip;\n    "
         ],
         "kwargs": {},
         "methodName": "executeCode",
         "reconstruc_color_scheme": false,
         "target": "Widget",
         "type": "call_method"
        }
       ],
       "_ngl_original_stage_parameters": {
        "ambientColor": 14540253,
        "ambientIntensity": 0.2,
        "backgroundColor": "white",
        "cameraEyeSep": 0.3,
        "cameraFov": 40,
        "cameraType": "perspective",
        "clipDist": 10,
        "clipFar": 100,
        "clipNear": 0,
        "fogFar": 100,
        "fogNear": 50,
        "hoverTimeout": 0,
        "impostor": true,
        "lightColor": 14540253,
        "lightIntensity": 1,
        "mousePreset": "default",
        "panSpeed": 1,
        "quality": "medium",
        "rotateSpeed": 2,
        "sampleLevel": 0,
        "tooltip": true,
        "workerDefault": true,
        "zoomSpeed": 1.2
       },
       "_ngl_repr_dict": {
        "0": {
         "0": {
          "params": {
           "clipCenter": {
            "x": 0,
            "y": 0,
            "z": 0
           },
           "clipNear": 0,
           "clipRadius": 0,
           "colorMode": "hcl",
           "colorReverse": false,
           "colorScale": "",
           "colorScheme": "element",
           "colorValue": "orange",
           "defaultAssembly": "",
           "depthWrite": true,
           "diffuse": 16777215,
           "diffuseInterior": false,
           "disableImpostor": false,
           "disablePicking": false,
           "flatShaded": false,
           "interiorColor": 2236962,
           "interiorDarkening": 0,
           "lazy": false,
           "matrix": {
            "elements": [
             1,
             0,
             0,
             0,
             0,
             1,
             0,
             0,
             0,
             0,
             1,
             0,
             0,
             0,
             0,
             1
            ]
           },
           "metalness": 0,
           "opacity": 1,
           "quality": "medium",
           "radialSegments": 10,
           "radiusData": {},
           "radiusScale": 1,
           "radiusSize": 0.04933016296568518,
           "radiusType": "vdw",
           "roughness": 0.4,
           "sele": "all",
           "side": "double",
           "sphereDetail": 1,
           "useInteriorColor": true,
           "visible": true,
           "wireframe": false
          },
          "type": "unitcell"
         },
         "1": {
          "params": {
           "assembly": "default",
           "clipCenter": {
            "x": 0,
            "y": 0,
            "z": 0
           },
           "clipNear": 0,
           "clipRadius": 0,
           "colorMode": "hcl",
           "colorReverse": false,
           "colorScale": "rainbow",
           "colorScheme": "element",
           "colorValue": 9474192,
           "defaultAssembly": "",
           "depthWrite": true,
           "diffuse": 16777215,
           "diffuseInterior": false,
           "disableImpostor": false,
           "disablePicking": false,
           "flatShaded": false,
           "interiorColor": 2236962,
           "interiorDarkening": 0,
           "lazy": false,
           "matrix": {
            "elements": [
             1,
             0,
             0,
             0,
             0,
             1,
             0,
             0,
             0,
             0,
             1,
             0,
             0,
             0,
             0,
             1
            ]
           },
           "metalness": 0,
           "opacity": 1,
           "quality": "medium",
           "radiusData": {},
           "radiusScale": 0.5,
           "radiusSize": 1,
           "radiusType": "covalent",
           "roughness": 0.4,
           "sele": "all",
           "side": "double",
           "sphereDetail": 1,
           "useInteriorColor": true,
           "visible": true,
           "wireframe": false
          },
          "type": "spacefill"
         }
        }
       },
       "_ngl_serialize": false,
       "_ngl_version": "2.0.0-dev.36",
       "_ngl_view_id": [
        "3297A0A4-CCF9-4DF8-802A-EA72C1DD8551"
       ],
       "_player_dict": {},
       "_scene_position": {},
       "_scene_rotation": {},
       "_synced_model_ids": [],
       "_synced_repr_model_ids": [],
       "_view_height": "",
       "_view_width": "",
       "background": "white",
       "frame": 0,
       "gui_style": null,
       "layout": "IPY_MODEL_590002a3c4cd4f6bae984e0783d38f67",
       "max_frame": 0,
       "n_components": 1,
       "picked": {}
      }
     },
     "a2253e75f70041bc8bd702576c3b3734": {
      "model_module": "@jupyter-widgets/base",
      "model_module_version": "1.2.0",
      "model_name": "LayoutModel",
      "state": {}
     },
     "a381cb505894466abae9cdd14fc2b673": {
      "model_module": "@jupyter-widgets/controls",
      "model_module_version": "1.5.0",
      "model_name": "CheckboxModel",
      "state": {
       "description": "Show charge",
       "disabled": false,
       "layout": "IPY_MODEL_8d73d1d17831409ebbc1d0eaa34fbac3",
       "style": "IPY_MODEL_7edc412c857e42248694901ff51a4b8b",
       "value": false
      }
     },
     "a3f74dd6927d4c92bc16425124d27c3b": {
      "model_module": "@jupyter-widgets/controls",
      "model_module_version": "1.5.0",
      "model_name": "DropdownModel",
      "state": {
       "_options_labels": [
        " ",
        "picking",
        "random",
        "uniform",
        "atomindex",
        "residueindex",
        "chainindex",
        "modelindex",
        "sstruc",
        "element",
        "resname",
        "bfactor",
        "hydrophobicity",
        "value",
        "volume",
        "occupancy"
       ],
       "description": "Color scheme",
       "index": 9,
       "layout": "IPY_MODEL_65144887b0e7409082cf1b7a57dd9660",
       "style": "IPY_MODEL_15d444913f93464e8ef7a61e4e4a86a4"
      }
     },
     "a516afbb10fa45309748c27ab579f3ab": {
      "model_module": "@jupyter-widgets/base",
      "model_module_version": "1.2.0",
      "model_name": "LayoutModel",
      "state": {}
     },
     "a5558dcb17f74e40a79067d8f2a94624": {
      "model_module": "@jupyter-widgets/controls",
      "model_module_version": "1.5.0",
      "model_name": "CheckboxModel",
      "state": {
       "description": "Show force",
       "disabled": false,
       "layout": "IPY_MODEL_b0df3e769084430a9560dcf377ac912d",
       "style": "IPY_MODEL_212c104b9a6d44838afd858bf79053e4",
       "value": false
      }
     },
     "a591a279968b4951b29152c13bd3883f": {
      "model_module": "@jupyter-widgets/base",
      "model_module_version": "1.2.0",
      "model_name": "LayoutModel",
      "state": {}
     },
     "a5ed78c9f5794c38b221b002e6997b1d": {
      "model_module": "@jupyter-widgets/controls",
      "model_module_version": "1.5.0",
      "model_name": "FloatSliderModel",
      "state": {
       "description": "Force scale",
       "layout": "IPY_MODEL_a7ad9c1a7ec44991bd0fd8396c29f3cc",
       "step": 0.1,
       "style": "IPY_MODEL_9e9d9c171503485292a5e2ac5dd1ccdd",
       "value": 0.5
      }
     },
     "a607bcb54d534b9bbf940ecd825d4a16": {
      "model_module": "@jupyter-widgets/controls",
      "model_module_version": "1.5.0",
      "model_name": "DescriptionStyleModel",
      "state": {
       "description_width": ""
      }
     },
     "a63a851a1e7f4e19a2817794dd5742bb": {
      "model_module": "@jupyter-widgets/base",
      "model_module_version": "1.2.0",
      "model_name": "LayoutModel",
      "state": {}
     },
     "a65afb3510ac42a2bfe7452b5a98ed63": {
      "model_module": "@jupyter-widgets/controls",
      "model_module_version": "1.5.0",
      "model_name": "HBoxModel",
      "state": {
       "children": [
        "IPY_MODEL_79988e92f04a4ed9866308312e25ef13",
        "IPY_MODEL_00a70ce13a8941f7bf5c49dbac7c9c17"
       ],
       "layout": "IPY_MODEL_ba2fbd6691cb48c28586759f9e62d23e"
      }
     },
     "a66172c0bd79475d8053a33dddebf8dd": {
      "model_module": "@jupyter-widgets/controls",
      "model_module_version": "1.5.0",
      "model_name": "DropdownModel",
      "state": {
       "_options_labels": [
        "All",
        "Si"
       ],
       "description": "Show",
       "index": 0,
       "layout": "IPY_MODEL_95d3f7898c0d472889a88bd4769dd91f",
       "style": "IPY_MODEL_7f510cbf39754a6f9f3a4af2d771c2a9"
      }
     },
     "a6df092adb884c7489fcfc01c6a86e9f": {
      "model_module": "nglview-js-widgets",
      "model_module_version": "3.0.1",
      "model_name": "NGLModel",
      "state": {
       "_camera_orientation": [
        15.600423047052786,
        0,
        0,
        0,
        0,
        15.600423047052786,
        0,
        0,
        0,
        0,
        15.600423047052786,
        0,
        0.8285001516342163,
        -0.5859998464584351,
        -3.0439999103546143,
        1
       ],
       "_camera_str": "orthographic",
       "_gui_theme": null,
       "_ibtn_fullscreen": "IPY_MODEL_baec4c17044342409050898bccec2080",
       "_igui": null,
       "_iplayer": "IPY_MODEL_82dfcef7f4ea400f8f69c740755db345",
       "_ngl_color_dict": {},
       "_ngl_coordinate_resource": {},
       "_ngl_full_stage_parameters": {
        "ambientColor": 14540253,
        "ambientIntensity": 0.2,
        "backgroundColor": "white",
        "cameraEyeSep": 0.3,
        "cameraFov": 40,
        "cameraType": "orthographic",
        "clipDist": 0,
        "clipFar": 100,
        "clipNear": 0,
        "fogFar": 100,
        "fogNear": 50,
        "hoverTimeout": 0,
        "impostor": true,
        "lightColor": 14540253,
        "lightIntensity": 1,
        "mousePreset": "default",
        "panSpeed": 1,
        "quality": "medium",
        "rotateSpeed": 2,
        "sampleLevel": 0,
        "tooltip": true,
        "workerDefault": true,
        "zoomSpeed": 1.2
       },
       "_ngl_msg_archive": [
        {
         "args": [
          {
           "binary": false,
           "data": "CRYST1    4.971    7.456    9.942 109.47 109.47 109.47 P 1\nMODEL     1\nATOM      1   Fe MOL     1       0.000   0.000   0.000  1.00  0.00          FE  \nATOM      2   Fe MOL     1      -0.828  -1.172   2.029  1.00  0.00          FE  \nATOM      3   Fe MOL     1      -1.657  -2.343   4.059  1.00  0.00          FE  \nATOM      4   Fe MOL     1      -2.485  -3.515   6.088  1.00  0.00          FE  \nATOM      5   Fe MOL     1      -0.828   2.343  -0.000  1.00  0.00          FE  \nATOM      6   Fe MOL     1      -1.657   1.172   2.029  1.00  0.00          FE  \nATOM      7   Fe MOL     1      -2.485   0.000   4.059  1.00  0.00          FE  \nATOM      8   Fe MOL     1      -3.314  -1.172   6.088  1.00  0.00          FE  \nATOM      9   Fe MOL     1      -1.657   4.687  -0.000  1.00  0.00          FE  \nATOM     10   Fe MOL     1      -2.485   3.515   2.029  1.00  0.00          FE  \nATOM     11   Fe MOL     1      -3.314   2.343   4.059  1.00  0.00          FE  \nATOM     12   Fe MOL     1      -4.142   1.172   6.088  1.00  0.00          FE  \nATOM     13   Fe MOL     1       2.485   0.000   0.000  1.00  0.00          FE  \nATOM     14   Fe MOL     1       1.657  -1.172   2.029  1.00  0.00          FE  \nATOM     15   Fe MOL     1       0.828  -2.343   4.059  1.00  0.00          FE  \nATOM     16   Fe MOL     1       0.000  -3.515   6.088  1.00  0.00          FE  \nATOM     17   Fe MOL     1       1.657   2.343  -0.000  1.00  0.00          FE  \nATOM     18   Fe MOL     1       0.828   1.172   2.029  1.00  0.00          FE  \nATOM     19   Fe MOL     1       0.000   0.000   4.059  1.00  0.00          FE  \nATOM     20   Fe MOL     1      -0.828  -1.172   6.088  1.00  0.00          FE  \nATOM     21   Fe MOL     1       0.828   4.687  -0.000  1.00  0.00          FE  \nATOM     22   Fe MOL     1       0.000   3.515   2.029  1.00  0.00          FE  \nATOM     23   Fe MOL     1      -0.828   2.343   4.059  1.00  0.00          FE  \nATOM     24   Fe MOL     1      -1.657   1.172   6.088  1.00  0.00          FE  \nENDMDL\n",
           "type": "blob"
          }
         ],
         "kwargs": {
          "defaultRepresentation": false,
          "ext": "pdb"
         },
         "methodName": "loadFile",
         "reconstruc_color_scheme": false,
         "target": "Stage",
         "type": "call_method"
        },
        {
         "args": [
          "400px",
          "300px"
         ],
         "kwargs": {},
         "methodName": "setSize",
         "reconstruc_color_scheme": false,
         "target": "Widget",
         "type": "call_method"
        },
        {
         "args": [
          "unitcell"
         ],
         "component_index": 0,
         "kwargs": {
          "sele": "all"
         },
         "methodName": "addRepresentation",
         "reconstruc_color_scheme": false,
         "target": "compList",
         "type": "call_method"
        },
        {
         "args": [
          "spacefill"
         ],
         "component_index": 0,
         "kwargs": {
          "sele": "all"
         },
         "methodName": "addRepresentation",
         "reconstruc_color_scheme": false,
         "target": "compList",
         "type": "call_method"
        },
        {
         "args": [],
         "kwargs": {
          "cameraType": "orthographic"
         },
         "methodName": "setParameters",
         "reconstruc_color_scheme": false,
         "target": "Stage",
         "type": "call_method"
        },
        {
         "args": [
          {
           "clipDist": 0
          }
         ],
         "kwargs": {},
         "methodName": "setParameters",
         "reconstruc_color_scheme": false,
         "target": "Widget",
         "type": "call_method"
        },
        {
         "args": [
          "spacefill",
          0
         ],
         "kwargs": {
          "colorScale": "rainbow",
          "colorScheme": "element",
          "radiusScale": 0.5,
          "radiusType": "covalent"
         },
         "methodName": "updateRepresentationsByName",
         "reconstruc_color_scheme": false,
         "target": "Widget",
         "type": "call_method"
        },
        {
         "args": [
          "this._Q = [[-0.5773502691896257, -0.5773502691896257, 0.5773502691896256], [0.4082482904638631, 0.408248290463863, 0.8164965809277261], [-0.7071067811865475, 0.7071067811865477, 1.8649311101977364e-16]]\n    var tooltip = document.createElement('div');\n    Object.assign(tooltip.style, {\n      display: 'none',\n      position: 'fixed',\n      zIndex: 10,\n      pointerEvents: 'none',\n      backgroundColor: 'rgba( 0, 0, 0, 0.6 )',\n      color: 'lightgrey',\n      padding: '8px',\n      fontFamily: 'sans-serif'\n    });\n    document.body.appendChild(tooltip);\n\n    var that = this;\n    this.stage.mouseControls.remove('hoverPick');\n    this.stage.signals.hovered.add(function (pickingProxy) {\n      if (pickingProxy && (pickingProxy.atom || pickingProxy.bond)) {\n        var atom = pickingProxy.atom || pickingProxy.closestBondAtom\n        var mp = pickingProxy.mouse.position\n        //tooltip.innerText = atom.element + ' i=' + atom.index + ' (' + atom.x.toFixed(2) +  ', ' + atom.y.toFixed(2) +  ', ' + atom.z.toFixed(2) + ')'\n        //var pos = that._atoms_pos[atom.index]\n        var Q = that._Q\n        var pos_x = Q[0][0] * atom.x + Q[0][1] * atom.y + Q[0][2] * atom.z \n        var pos_y = Q[1][0] * atom.x + Q[1][1] * atom.y + Q[1][2] * atom.z\n        var pos_z = Q[2][0] * atom.x + Q[2][1] * atom.y + Q[2][2] * atom.z\n        tooltip.innerText = 'i=' + atom.index + ' ' + atom.element + ' (' + pos_x.toFixed(2) +  ', ' + pos_y.toFixed(2) +  ', ' + pos_z.toFixed(2) + ')'\n        tooltip.style.bottom = window.innerHeight - mp.y + 3 + 'px'\n        tooltip.style.left = mp.x + 3 + 'px'\n        tooltip.style.display = 'block'\n      } else {\n        tooltip.style.display = 'none'\n      }\n    });\n    this.stage.tooltip = tooltip;\n    "
         ],
         "kwargs": {},
         "methodName": "executeCode",
         "reconstruc_color_scheme": false,
         "target": "Widget",
         "type": "call_method"
        },
        {
         "args": [
          "ball+stick"
         ],
         "component_index": 0,
         "kwargs": {
          "sele": "all"
         },
         "methodName": "addRepresentation",
         "reconstruc_color_scheme": false,
         "target": "compList",
         "type": "call_method"
        }
       ],
       "_ngl_original_stage_parameters": {
        "ambientColor": 14540253,
        "ambientIntensity": 0.2,
        "backgroundColor": "white",
        "cameraEyeSep": 0.3,
        "cameraFov": 40,
        "cameraType": "perspective",
        "clipDist": 10,
        "clipFar": 100,
        "clipNear": 0,
        "fogFar": 100,
        "fogNear": 50,
        "hoverTimeout": 0,
        "impostor": true,
        "lightColor": 14540253,
        "lightIntensity": 1,
        "mousePreset": "default",
        "panSpeed": 1,
        "quality": "medium",
        "rotateSpeed": 2,
        "sampleLevel": 0,
        "tooltip": true,
        "workerDefault": true,
        "zoomSpeed": 1.2
       },
       "_ngl_repr_dict": {
        "0": {
         "0": {
          "params": {
           "clipCenter": {
            "x": 0,
            "y": 0,
            "z": 0
           },
           "clipNear": 0,
           "clipRadius": 0,
           "colorMode": "hcl",
           "colorReverse": false,
           "colorScale": "",
           "colorScheme": "element",
           "colorValue": "orange",
           "defaultAssembly": "",
           "depthWrite": true,
           "diffuse": 16777215,
           "diffuseInterior": false,
           "disableImpostor": false,
           "disablePicking": false,
           "flatShaded": false,
           "interiorColor": 2236962,
           "interiorDarkening": 0,
           "lazy": false,
           "matrix": {
            "elements": [
             1,
             0,
             0,
             0,
             0,
             1,
             0,
             0,
             0,
             0,
             1,
             0,
             0,
             0,
             0,
             1
            ]
           },
           "metalness": 0,
           "opacity": 1,
           "quality": "medium",
           "radialSegments": 10,
           "radiusData": {},
           "radiusScale": 1,
           "radiusSize": 0.03286151464600358,
           "radiusType": "vdw",
           "roughness": 0.4,
           "sele": "all",
           "side": "double",
           "sphereDetail": 1,
           "useInteriorColor": true,
           "visible": true,
           "wireframe": false
          },
          "type": "unitcell"
         },
         "1": {
          "params": {
           "assembly": "default",
           "clipCenter": {
            "x": 0,
            "y": 0,
            "z": 0
           },
           "clipNear": 0,
           "clipRadius": 0,
           "colorMode": "hcl",
           "colorReverse": false,
           "colorScale": "rainbow",
           "colorScheme": "element",
           "colorValue": 9474192,
           "defaultAssembly": "",
           "depthWrite": true,
           "diffuse": 16777215,
           "diffuseInterior": false,
           "disableImpostor": false,
           "disablePicking": false,
           "flatShaded": false,
           "interiorColor": 2236962,
           "interiorDarkening": 0,
           "lazy": false,
           "matrix": {
            "elements": [
             1,
             0,
             0,
             0,
             0,
             1,
             0,
             0,
             0,
             0,
             1,
             0,
             0,
             0,
             0,
             1
            ]
           },
           "metalness": 0,
           "opacity": 1,
           "quality": "medium",
           "radiusData": {},
           "radiusScale": 0.5,
           "radiusSize": 1,
           "radiusType": "covalent",
           "roughness": 0.4,
           "sele": "all",
           "side": "double",
           "sphereDetail": 1,
           "useInteriorColor": true,
           "visible": true,
           "wireframe": false
          },
          "type": "spacefill"
         },
         "2": {
          "params": {
           "aspectRatio": 2,
           "assembly": "default",
           "bondScale": 0.4,
           "bondSpacing": 1,
           "clipCenter": {
            "x": 0,
            "y": 0,
            "z": 0
           },
           "clipNear": 0,
           "clipRadius": 0,
           "colorMode": "hcl",
           "colorReverse": false,
           "colorScale": "",
           "colorScheme": "element",
           "colorValue": 9474192,
           "cylinderOnly": false,
           "defaultAssembly": "",
           "depthWrite": true,
           "diffuse": 16777215,
           "diffuseInterior": false,
           "disableImpostor": false,
           "disablePicking": false,
           "flatShaded": false,
           "interiorColor": 2236962,
           "interiorDarkening": 0,
           "lazy": false,
           "lineOnly": false,
           "linewidth": 2,
           "matrix": {
            "elements": [
             1,
             0,
             0,
             0,
             0,
             1,
             0,
             0,
             0,
             0,
             1,
             0,
             0,
             0,
             0,
             1
            ]
           },
           "metalness": 0,
           "multipleBond": "off",
           "opacity": 1,
           "openEnded": true,
           "quality": "medium",
           "radialSegments": 10,
           "radiusData": {},
           "radiusScale": 1,
           "radiusSize": 0.15,
           "radiusType": "size",
           "roughness": 0.4,
           "sele": "all",
           "side": "double",
           "sphereDetail": 1,
           "useInteriorColor": true,
           "visible": true,
           "wireframe": false
          },
          "type": "ball+stick"
         }
        }
       },
       "_ngl_serialize": false,
       "_ngl_version": "2.0.0-dev.36",
       "_ngl_view_id": [
        "903953B7-2668-4340-9B32-CFEED088D5A5"
       ],
       "_player_dict": {},
       "_scene_position": {},
       "_scene_rotation": {},
       "_synced_model_ids": [],
       "_synced_repr_model_ids": [],
       "_view_height": "",
       "_view_width": "",
       "background": "white",
       "frame": 0,
       "gui_style": null,
       "layout": "IPY_MODEL_22c33f2a9eed42e8b3b402ddb6349637",
       "max_frame": 0,
       "n_components": 1,
       "picked": {}
      }
     },
     "a6f0ddaf45974d9d8f7eaece21fd3646": {
      "model_module": "@jupyter-widgets/controls",
      "model_module_version": "1.5.0",
      "model_name": "LinkModel",
      "state": {
       "source": [
        "IPY_MODEL_139d2623f17a4a9f90cb7027d8027cb8",
        "value"
       ],
       "target": [
        "IPY_MODEL_af0a609ae9714a47b852a9d1008afb6e",
        "frame"
       ]
      }
     },
     "a7ad9c1a7ec44991bd0fd8396c29f3cc": {
      "model_module": "@jupyter-widgets/base",
      "model_module_version": "1.2.0",
      "model_name": "LayoutModel",
      "state": {}
     },
     "a80288dac9a843318569de2a6acfea81": {
      "model_module": "@jupyter-widgets/base",
      "model_module_version": "1.2.0",
      "model_name": "LayoutModel",
      "state": {}
     },
     "a8c119ba8c0c46b4ba0f7787d9b2be08": {
      "model_module": "@jupyter-widgets/controls",
      "model_module_version": "1.5.0",
      "model_name": "SliderStyleModel",
      "state": {
       "description_width": ""
      }
     },
     "a8ead671ae0548e981016570f127649f": {
      "model_module": "@jupyter-widgets/controls",
      "model_module_version": "1.5.0",
      "model_name": "HBoxModel",
      "state": {
       "children": [
        "IPY_MODEL_139d2623f17a4a9f90cb7027d8027cb8",
        "IPY_MODEL_91065972b01d4fb69400d6b67d11eb94"
       ],
       "layout": "IPY_MODEL_67a3e5055f72464a9c70afcbcb712c45"
      }
     },
     "a9dc706129b24ff181dfd63d7b521534": {
      "model_module": "@jupyter-widgets/controls",
      "model_module_version": "1.5.0",
      "model_name": "ButtonModel",
      "state": {
       "description": "Save image",
       "layout": "IPY_MODEL_48069525303548c0b80852f9ba32efd5",
       "style": "IPY_MODEL_140b3406d22d4fb3b62a9cbcb8064458",
       "tooltip": "Save current frame to file.\nCurrently .png and .html are supported.\nIt takes a bit time, please be patient."
      }
     },
     "aa7462dc45b24e1ca7e7debdc5810535": {
      "model_module": "@jupyter-widgets/controls",
      "model_module_version": "1.5.0",
      "model_name": "DescriptionStyleModel",
      "state": {
       "description_width": ""
      }
     },
     "ab2fbaa0a745499bb6d06f27f77bf7b6": {
      "model_module": "@jupyter-widgets/controls",
      "model_module_version": "1.5.0",
      "model_name": "DescriptionStyleModel",
      "state": {
       "description_width": ""
      }
     },
     "aba6098ca20e4dca91f6332be9d344ec": {
      "model_module": "@jupyter-widgets/controls",
      "model_module_version": "1.5.0",
      "model_name": "SliderStyleModel",
      "state": {
       "description_width": ""
      }
     },
     "ad43749988c3404d963092495d5e6221": {
      "model_module": "@jupyter-widgets/controls",
      "model_module_version": "1.5.0",
      "model_name": "LinkModel",
      "state": {
       "source": [
        "IPY_MODEL_91065972b01d4fb69400d6b67d11eb94",
        "max"
       ],
       "target": [
        "IPY_MODEL_af0a609ae9714a47b852a9d1008afb6e",
        "max_frame"
       ]
      }
     },
     "ad552d6403f54eec8bf8af482a9018c5": {
      "model_module": "@jupyter-widgets/controls",
      "model_module_version": "1.5.0",
      "model_name": "SliderStyleModel",
      "state": {
       "description_width": ""
      }
     },
     "ae7445a839384df9ba09383dc17f788e": {
      "model_module": "@jupyter-widgets/controls",
      "model_module_version": "1.5.0",
      "model_name": "SliderStyleModel",
      "state": {
       "description_width": ""
      }
     },
     "af0a609ae9714a47b852a9d1008afb6e": {
      "model_module": "nglview-js-widgets",
      "model_module_version": "3.0.1",
      "model_name": "NGLModel",
      "state": {
       "_camera_orientation": [
        6.472139903336057,
        0,
        0,
        0,
        0,
        6.472139903336057,
        0,
        0,
        0,
        0,
        6.472139903336057,
        0,
        0.1889999508857727,
        0.08449995517730713,
        0,
        1
       ],
       "_camera_str": "orthographic",
       "_gui_theme": null,
       "_ibtn_fullscreen": "IPY_MODEL_45fdad4504964eb1ace0fe35090fb581",
       "_igui": null,
       "_iplayer": "IPY_MODEL_a8ead671ae0548e981016570f127649f",
       "_ngl_color_dict": {},
       "_ngl_coordinate_resource": {},
       "_ngl_full_stage_parameters": {
        "ambientColor": 14540253,
        "ambientIntensity": 0.2,
        "backgroundColor": "white",
        "cameraEyeSep": 0.3,
        "cameraFov": 40,
        "cameraType": "orthographic",
        "clipDist": 0,
        "clipFar": 100,
        "clipNear": 0,
        "fogFar": 100,
        "fogNear": 50,
        "hoverTimeout": 0,
        "impostor": true,
        "lightColor": 14540253,
        "lightIntensity": 1,
        "mousePreset": "default",
        "panSpeed": 1,
        "quality": "medium",
        "rotateSpeed": 2,
        "sampleLevel": 0,
        "tooltip": true,
        "workerDefault": true,
        "zoomSpeed": 1.2
       },
       "_ngl_msg_archive": [
        {
         "args": [
          {
           "binary": false,
           "data": "MODEL     1\nATOM      1    O MOL     1       1.218   0.361   0.000  1.00  0.00           O  \nATOM      2    C MOL     1       0.000   0.464   0.000  1.00  0.00           C  \nATOM      3    H MOL     1      -0.477   1.465   0.000  1.00  0.00           H  \nATOM      4    C MOL     1      -0.948  -0.700   0.000  1.00  0.00           C  \nATOM      5    H MOL     1      -0.386  -1.634   0.000  1.00  0.00           H  \nATOM      6    H MOL     1      -1.596  -0.652   0.881  1.00  0.00           H  \nATOM      7    H MOL     1      -1.596  -0.652  -0.881  1.00  0.00           H  \nENDMDL\n",
           "type": "blob"
          }
         ],
         "kwargs": {
          "defaultRepresentation": false,
          "ext": "pdb"
         },
         "methodName": "loadFile",
         "reconstruc_color_scheme": false,
         "target": "Stage",
         "type": "call_method"
        },
        {
         "args": [
          "400px",
          "300px"
         ],
         "kwargs": {},
         "methodName": "setSize",
         "reconstruc_color_scheme": false,
         "target": "Widget",
         "type": "call_method"
        },
        {
         "args": [
          "unitcell"
         ],
         "component_index": 0,
         "kwargs": {
          "sele": "all"
         },
         "methodName": "addRepresentation",
         "reconstruc_color_scheme": false,
         "target": "compList",
         "type": "call_method"
        },
        {
         "args": [
          "spacefill"
         ],
         "component_index": 0,
         "kwargs": {
          "sele": "all"
         },
         "methodName": "addRepresentation",
         "reconstruc_color_scheme": false,
         "target": "compList",
         "type": "call_method"
        },
        {
         "args": [],
         "kwargs": {
          "cameraType": "orthographic"
         },
         "methodName": "setParameters",
         "reconstruc_color_scheme": false,
         "target": "Stage",
         "type": "call_method"
        },
        {
         "args": [
          {
           "clipDist": 0
          }
         ],
         "kwargs": {},
         "methodName": "setParameters",
         "reconstruc_color_scheme": false,
         "target": "Widget",
         "type": "call_method"
        },
        {
         "args": [
          "spacefill",
          0
         ],
         "kwargs": {
          "colorScale": "rainbow",
          "colorScheme": "element",
          "radiusScale": 0.5,
          "radiusType": "covalent"
         },
         "methodName": "updateRepresentationsByName",
         "reconstruc_color_scheme": false,
         "target": "Widget",
         "type": "call_method"
        },
        {
         "args": [
          "this._Q = [[1.0, 0.0, 0.0], [0.0, 1.0, 0.0], [0.0, 0.0, 1.0]]\n    var tooltip = document.createElement('div');\n    Object.assign(tooltip.style, {\n      display: 'none',\n      position: 'fixed',\n      zIndex: 10,\n      pointerEvents: 'none',\n      backgroundColor: 'rgba( 0, 0, 0, 0.6 )',\n      color: 'lightgrey',\n      padding: '8px',\n      fontFamily: 'sans-serif'\n    });\n    document.body.appendChild(tooltip);\n\n    var that = this;\n    this.stage.mouseControls.remove('hoverPick');\n    this.stage.signals.hovered.add(function (pickingProxy) {\n      if (pickingProxy && (pickingProxy.atom || pickingProxy.bond)) {\n        var atom = pickingProxy.atom || pickingProxy.closestBondAtom\n        var mp = pickingProxy.mouse.position\n        //tooltip.innerText = atom.element + ' i=' + atom.index + ' (' + atom.x.toFixed(2) +  ', ' + atom.y.toFixed(2) +  ', ' + atom.z.toFixed(2) + ')'\n        //var pos = that._atoms_pos[atom.index]\n        var Q = that._Q\n        var pos_x = Q[0][0] * atom.x + Q[0][1] * atom.y + Q[0][2] * atom.z \n        var pos_y = Q[1][0] * atom.x + Q[1][1] * atom.y + Q[1][2] * atom.z\n        var pos_z = Q[2][0] * atom.x + Q[2][1] * atom.y + Q[2][2] * atom.z\n        tooltip.innerText = 'i=' + atom.index + ' ' + atom.element + ' (' + pos_x.toFixed(2) +  ', ' + pos_y.toFixed(2) +  ', ' + pos_z.toFixed(2) + ')'\n        tooltip.style.bottom = window.innerHeight - mp.y + 3 + 'px'\n        tooltip.style.left = mp.x + 3 + 'px'\n        tooltip.style.display = 'block'\n      } else {\n        tooltip.style.display = 'none'\n      }\n    });\n    this.stage.tooltip = tooltip;\n    "
         ],
         "kwargs": {},
         "methodName": "executeCode",
         "reconstruc_color_scheme": false,
         "target": "Widget",
         "type": "call_method"
        },
        {
         "args": [
          "ball+stick"
         ],
         "component_index": 0,
         "kwargs": {
          "sele": "all"
         },
         "methodName": "addRepresentation",
         "reconstruc_color_scheme": false,
         "target": "compList",
         "type": "call_method"
        }
       ],
       "_ngl_original_stage_parameters": {
        "ambientColor": 14540253,
        "ambientIntensity": 0.2,
        "backgroundColor": "white",
        "cameraEyeSep": 0.3,
        "cameraFov": 40,
        "cameraType": "perspective",
        "clipDist": 10,
        "clipFar": 100,
        "clipNear": 0,
        "fogFar": 100,
        "fogNear": 50,
        "hoverTimeout": 0,
        "impostor": true,
        "lightColor": 14540253,
        "lightIntensity": 1,
        "mousePreset": "default",
        "panSpeed": 1,
        "quality": "medium",
        "rotateSpeed": 2,
        "sampleLevel": 0,
        "tooltip": true,
        "workerDefault": true,
        "zoomSpeed": 1.2
       },
       "_ngl_repr_dict": {
        "0": {
         "0": {
          "params": {
           "clipCenter": {
            "x": 0,
            "y": 0,
            "z": 0
           },
           "clipNear": 0,
           "clipRadius": 0,
           "colorMode": "hcl",
           "colorReverse": false,
           "colorScale": "",
           "colorScheme": "element",
           "colorValue": "orange",
           "defaultAssembly": "",
           "depthWrite": true,
           "diffuse": 16777215,
           "diffuseInterior": false,
           "disableImpostor": false,
           "disablePicking": false,
           "flatShaded": false,
           "interiorColor": 2236962,
           "interiorDarkening": 0,
           "lazy": false,
           "matrix": {
            "elements": [
             1,
             0,
             0,
             0,
             0,
             1,
             0,
             0,
             0,
             0,
             1,
             0,
             0,
             0,
             0,
             1
            ]
           },
           "metalness": 0,
           "opacity": 1,
           "quality": "medium",
           "radialSegments": 10,
           "radiusData": {},
           "radiusScale": 1,
           "radiusSize": 0.5,
           "radiusType": "vdw",
           "roughness": 0.4,
           "sele": "all",
           "side": "double",
           "sphereDetail": 1,
           "useInteriorColor": true,
           "visible": true,
           "wireframe": false
          },
          "type": "unitcell"
         },
         "1": {
          "params": {
           "assembly": "default",
           "clipCenter": {
            "x": 0,
            "y": 0,
            "z": 0
           },
           "clipNear": 0,
           "clipRadius": 0,
           "colorMode": "hcl",
           "colorReverse": false,
           "colorScale": "rainbow",
           "colorScheme": "element",
           "colorValue": 9474192,
           "defaultAssembly": "",
           "depthWrite": true,
           "diffuse": 16777215,
           "diffuseInterior": false,
           "disableImpostor": false,
           "disablePicking": false,
           "flatShaded": false,
           "interiorColor": 2236962,
           "interiorDarkening": 0,
           "lazy": false,
           "matrix": {
            "elements": [
             1,
             0,
             0,
             0,
             0,
             1,
             0,
             0,
             0,
             0,
             1,
             0,
             0,
             0,
             0,
             1
            ]
           },
           "metalness": 0,
           "opacity": 1,
           "quality": "medium",
           "radiusData": {},
           "radiusScale": 0.5,
           "radiusSize": 1,
           "radiusType": "covalent",
           "roughness": 0.4,
           "sele": "all",
           "side": "double",
           "sphereDetail": 1,
           "useInteriorColor": true,
           "visible": true,
           "wireframe": false
          },
          "type": "spacefill"
         },
         "2": {
          "params": {
           "aspectRatio": 2,
           "assembly": "default",
           "bondScale": 0.4,
           "bondSpacing": 1,
           "clipCenter": {
            "x": 0,
            "y": 0,
            "z": 0
           },
           "clipNear": 0,
           "clipRadius": 0,
           "colorMode": "hcl",
           "colorReverse": false,
           "colorScale": "",
           "colorScheme": "element",
           "colorValue": 9474192,
           "cylinderOnly": false,
           "defaultAssembly": "",
           "depthWrite": true,
           "diffuse": 16777215,
           "diffuseInterior": false,
           "disableImpostor": false,
           "disablePicking": false,
           "flatShaded": false,
           "interiorColor": 2236962,
           "interiorDarkening": 0,
           "lazy": false,
           "lineOnly": false,
           "linewidth": 2,
           "matrix": {
            "elements": [
             1,
             0,
             0,
             0,
             0,
             1,
             0,
             0,
             0,
             0,
             1,
             0,
             0,
             0,
             0,
             1
            ]
           },
           "metalness": 0,
           "multipleBond": "off",
           "opacity": 1,
           "openEnded": true,
           "quality": "medium",
           "radialSegments": 10,
           "radiusData": {},
           "radiusScale": 1,
           "radiusSize": 0.15,
           "radiusType": "size",
           "roughness": 0.4,
           "sele": "all",
           "side": "double",
           "sphereDetail": 1,
           "useInteriorColor": true,
           "visible": true,
           "wireframe": false
          },
          "type": "ball+stick"
         }
        }
       },
       "_ngl_serialize": false,
       "_ngl_version": "2.0.0-dev.36",
       "_ngl_view_id": [
        "CC7AB6FD-7EC0-4E3E-A04A-99D070DD6E18"
       ],
       "_player_dict": {},
       "_scene_position": {},
       "_scene_rotation": {},
       "_synced_model_ids": [],
       "_synced_repr_model_ids": [],
       "_view_height": "",
       "_view_width": "",
       "background": "white",
       "frame": 0,
       "gui_style": null,
       "layout": "IPY_MODEL_1fb17ae76da94319aa474b0178d1d07b",
       "max_frame": 0,
       "n_components": 1,
       "picked": {}
      }
     },
     "af49b7b105b5435d9c67ee0f977fcab5": {
      "model_module": "@jupyter-widgets/base",
      "model_module_version": "1.2.0",
      "model_name": "LayoutModel",
      "state": {}
     },
     "af569fe7fc2d48ca97a209617dd9eccf": {
      "model_module": "@jupyter-widgets/output",
      "model_module_version": "1.0.0",
      "model_name": "OutputModel",
      "state": {
       "layout": "IPY_MODEL_ba2bb65d64ed406a87ecdda364e908bf"
      }
     },
     "af6c1bbce7b44ef48ef2d84dba1b1950": {
      "model_module": "@jupyter-widgets/controls",
      "model_module_version": "1.5.0",
      "model_name": "ButtonModel",
      "state": {
       "icon": "compress",
       "layout": "IPY_MODEL_45fed0d916444ea69e9f6bbf2260a150",
       "style": "IPY_MODEL_ff44bec3d6174aae83f5eca4e5924ef5"
      }
     },
     "b057d0a5732e4e04b0568c9cce955c00": {
      "model_module": "@jupyter-widgets/controls",
      "model_module_version": "1.5.0",
      "model_name": "HBoxModel",
      "state": {
       "children": [
        "IPY_MODEL_bf913df60fd1406b9ebb47e800478065",
        "IPY_MODEL_a9dc706129b24ff181dfd63d7b521534"
       ],
       "layout": "IPY_MODEL_5a4a6391b272455994db7caaf37972cb"
      }
     },
     "b05b599f2f3641119076371afad87351": {
      "model_module": "nglview-js-widgets",
      "model_module_version": "3.0.1",
      "model_name": "NGLModel",
      "state": {
       "_camera_orientation": [
        27.123223954253632,
        0,
        0,
        0,
        0,
        27.123223954253632,
        0,
        0,
        0,
        0,
        27.123223954253632,
        0,
        -7.678999900817871,
        -5.541999816894531,
        -5.0945000648498535,
        1
       ],
       "_camera_str": "orthographic",
       "_gui_theme": null,
       "_ibtn_fullscreen": "IPY_MODEL_db1085ca20b4434fa8ac459160e77c11",
       "_igui": null,
       "_iplayer": "IPY_MODEL_8db623f9c2fe458083f2d12451c91cd6",
       "_ngl_color_dict": {},
       "_ngl_coordinate_resource": {},
       "_ngl_full_stage_parameters": {
        "ambientColor": 14540253,
        "ambientIntensity": 0.2,
        "backgroundColor": "white",
        "cameraEyeSep": 0.3,
        "cameraFov": 40,
        "cameraType": "orthographic",
        "clipDist": 0,
        "clipFar": 100,
        "clipNear": 0,
        "fogFar": 100,
        "fogNear": 50,
        "hoverTimeout": 0,
        "impostor": true,
        "lightColor": 14540253,
        "lightIntensity": 1,
        "mousePreset": "default",
        "panSpeed": 1,
        "quality": "medium",
        "rotateSpeed": 2,
        "sampleLevel": 0,
        "tooltip": true,
        "workerDefault": true,
        "zoomSpeed": 1.2
       },
       "_ngl_msg_archive": [
        {
         "args": [
          {
           "binary": false,
           "data": "CRYST1    7.679   11.519   15.358  60.00  60.00  60.00 P 1\nMODEL     1\nATOM      1   Si MOL     1       0.000   0.000   0.000  1.00  0.00          SI  \nATOM      2   Si MOL     1       1.920   1.108   0.784  1.00  0.00          SI  \nATOM      3   Si MOL     1       1.920   1.108   3.135  1.00  0.00          SI  \nATOM      4   Si MOL     1       3.840   2.217   3.919  1.00  0.00          SI  \nATOM      5   Si MOL     1       3.840   2.217   6.270  1.00  0.00          SI  \nATOM      6   Si MOL     1       5.759   3.325   7.054  1.00  0.00          SI  \nATOM      7   Si MOL     1       5.759   3.325   9.405  1.00  0.00          SI  \nATOM      8   Si MOL     1       7.679   4.434  10.189  1.00  0.00          SI  \nATOM      9   Si MOL     1       1.920   3.325  -0.000  1.00  0.00          SI  \nATOM     10   Si MOL     1       3.840   4.434   0.784  1.00  0.00          SI  \nATOM     11   Si MOL     1       3.840   4.434   3.135  1.00  0.00          SI  \nATOM     12   Si MOL     1       5.759   5.542   3.919  1.00  0.00          SI  \nATOM     13   Si MOL     1       5.759   5.542   6.270  1.00  0.00          SI  \nATOM     14   Si MOL     1       7.679   6.650   7.054  1.00  0.00          SI  \nATOM     15   Si MOL     1       7.679   6.650   9.405  1.00  0.00          SI  \nATOM     16   Si MOL     1       9.599   7.759  10.189  1.00  0.00          SI  \nATOM     17   Si MOL     1       3.840   6.650  -0.000  1.00  0.00          SI  \nATOM     18   Si MOL     1       5.759   7.759   0.784  1.00  0.00          SI  \nATOM     19   Si MOL     1       5.759   7.759   3.135  1.00  0.00          SI  \nATOM     20   Si MOL     1       7.679   8.867   3.919  1.00  0.00          SI  \nATOM     21   Si MOL     1       7.679   8.867   6.270  1.00  0.00          SI  \nATOM     22   Si MOL     1       9.599   9.976   7.054  1.00  0.00          SI  \nATOM     23   Si MOL     1       9.599   9.976   9.405  1.00  0.00          SI  \nATOM     24   Si MOL     1      11.519  11.084  10.189  1.00  0.00          SI  \nATOM     25   Si MOL     1       3.840   0.000   0.000  1.00  0.00          SI  \nATOM     26   Si MOL     1       5.759   1.108   0.784  1.00  0.00          SI  \nATOM     27   Si MOL     1       5.759   1.108   3.135  1.00  0.00          SI  \nATOM     28   Si MOL     1       7.679   2.217   3.919  1.00  0.00          SI  \nATOM     29   Si MOL     1       7.679   2.217   6.270  1.00  0.00          SI  \nATOM     30   Si MOL     1       9.599   3.325   7.054  1.00  0.00          SI  \nATOM     31   Si MOL     1       9.599   3.325   9.405  1.00  0.00          SI  \nATOM     32   Si MOL     1      11.519   4.434  10.189  1.00  0.00          SI  \nATOM     33   Si MOL     1       5.759   3.325   0.000  1.00  0.00          SI  \nATOM     34   Si MOL     1       7.679   4.434   0.784  1.00  0.00          SI  \nATOM     35   Si MOL     1       7.679   4.434   3.135  1.00  0.00          SI  \nATOM     36   Si MOL     1       9.599   5.542   3.919  1.00  0.00          SI  \nATOM     37   Si MOL     1       9.599   5.542   6.270  1.00  0.00          SI  \nATOM     38   Si MOL     1      11.519   6.650   7.054  1.00  0.00          SI  \nATOM     39   Si MOL     1      11.519   6.650   9.405  1.00  0.00          SI  \nATOM     40   Si MOL     1      13.439   7.759  10.189  1.00  0.00          SI  \nATOM     41   Si MOL     1       7.679   6.650  -0.000  1.00  0.00          SI  \nATOM     42   Si MOL     1       9.599   7.759   0.784  1.00  0.00          SI  \nATOM     43   Si MOL     1       9.599   7.759   3.135  1.00  0.00          SI  \nATOM     44   Si MOL     1      11.519   8.867   3.919  1.00  0.00          SI  \nATOM     45   Si MOL     1      11.519   8.867   6.270  1.00  0.00          SI  \nATOM     46   Si MOL     1      13.439   9.976   7.054  1.00  0.00          SI  \nATOM     47   Si MOL     1      13.439   9.976   9.405  1.00  0.00          SI  \nATOM     48   Si MOL     1      15.358  11.084  10.189  1.00  0.00          SI  \nENDMDL\n",
           "type": "blob"
          }
         ],
         "kwargs": {
          "defaultRepresentation": false,
          "ext": "pdb"
         },
         "methodName": "loadFile",
         "reconstruc_color_scheme": false,
         "target": "Stage",
         "type": "call_method"
        },
        {
         "args": [
          "400px",
          "300px"
         ],
         "kwargs": {},
         "methodName": "setSize",
         "reconstruc_color_scheme": false,
         "target": "Widget",
         "type": "call_method"
        },
        {
         "args": [
          "unitcell"
         ],
         "component_index": 0,
         "kwargs": {
          "sele": "all"
         },
         "methodName": "addRepresentation",
         "reconstruc_color_scheme": false,
         "target": "compList",
         "type": "call_method"
        },
        {
         "args": [
          "spacefill"
         ],
         "component_index": 0,
         "kwargs": {
          "sele": "all"
         },
         "methodName": "addRepresentation",
         "reconstruc_color_scheme": false,
         "target": "compList",
         "type": "call_method"
        },
        {
         "args": [],
         "kwargs": {
          "cameraType": "orthographic"
         },
         "methodName": "setParameters",
         "reconstruc_color_scheme": false,
         "target": "Stage",
         "type": "call_method"
        },
        {
         "args": [
          {
           "clipDist": 0
          }
         ],
         "kwargs": {},
         "methodName": "setParameters",
         "reconstruc_color_scheme": false,
         "target": "Widget",
         "type": "call_method"
        },
        {
         "args": [
          "spacefill",
          0
         ],
         "kwargs": {
          "colorScale": "rainbow",
          "colorScheme": "element",
          "radiusScale": 0.5,
          "radiusType": "covalent"
         },
         "methodName": "updateRepresentationsByName",
         "reconstruc_color_scheme": false,
         "target": "Widget",
         "type": "call_method"
        },
        {
         "args": [
          "this._Q = [[-0.0, 0.7071067811865476, 0.7071067811865476], [0.816496580927726, -0.40824829046386285, 0.40824829046386296], [0.5773502691896257, 0.5773502691896258, -0.5773502691896257]]\n    var tooltip = document.createElement('div');\n    Object.assign(tooltip.style, {\n      display: 'none',\n      position: 'fixed',\n      zIndex: 10,\n      pointerEvents: 'none',\n      backgroundColor: 'rgba( 0, 0, 0, 0.6 )',\n      color: 'lightgrey',\n      padding: '8px',\n      fontFamily: 'sans-serif'\n    });\n    document.body.appendChild(tooltip);\n\n    var that = this;\n    this.stage.mouseControls.remove('hoverPick');\n    this.stage.signals.hovered.add(function (pickingProxy) {\n      if (pickingProxy && (pickingProxy.atom || pickingProxy.bond)) {\n        var atom = pickingProxy.atom || pickingProxy.closestBondAtom\n        var mp = pickingProxy.mouse.position\n        //tooltip.innerText = atom.element + ' i=' + atom.index + ' (' + atom.x.toFixed(2) +  ', ' + atom.y.toFixed(2) +  ', ' + atom.z.toFixed(2) + ')'\n        //var pos = that._atoms_pos[atom.index]\n        var Q = that._Q\n        var pos_x = Q[0][0] * atom.x + Q[0][1] * atom.y + Q[0][2] * atom.z \n        var pos_y = Q[1][0] * atom.x + Q[1][1] * atom.y + Q[1][2] * atom.z\n        var pos_z = Q[2][0] * atom.x + Q[2][1] * atom.y + Q[2][2] * atom.z\n        tooltip.innerText = 'i=' + atom.index + ' ' + atom.element + ' (' + pos_x.toFixed(2) +  ', ' + pos_y.toFixed(2) +  ', ' + pos_z.toFixed(2) + ')'\n        tooltip.style.bottom = window.innerHeight - mp.y + 3 + 'px'\n        tooltip.style.left = mp.x + 3 + 'px'\n        tooltip.style.display = 'block'\n      } else {\n        tooltip.style.display = 'none'\n      }\n    });\n    this.stage.tooltip = tooltip;\n    "
         ],
         "kwargs": {},
         "methodName": "executeCode",
         "reconstruc_color_scheme": false,
         "target": "Widget",
         "type": "call_method"
        },
        {
         "args": [
          "ball+stick"
         ],
         "component_index": 0,
         "kwargs": {
          "sele": "all"
         },
         "methodName": "addRepresentation",
         "reconstruc_color_scheme": false,
         "target": "compList",
         "type": "call_method"
        }
       ],
       "_ngl_original_stage_parameters": {
        "ambientColor": 14540253,
        "ambientIntensity": 0.2,
        "backgroundColor": "white",
        "cameraEyeSep": 0.3,
        "cameraFov": 40,
        "cameraType": "perspective",
        "clipDist": 10,
        "clipFar": 100,
        "clipNear": 0,
        "fogFar": 100,
        "fogNear": 50,
        "hoverTimeout": 0,
        "impostor": true,
        "lightColor": 14540253,
        "lightIntensity": 1,
        "mousePreset": "default",
        "panSpeed": 1,
        "quality": "medium",
        "rotateSpeed": 2,
        "sampleLevel": 0,
        "tooltip": true,
        "workerDefault": true,
        "zoomSpeed": 1.2
       },
       "_ngl_repr_dict": {
        "0": {
         "0": {
          "params": {
           "clipCenter": {
            "x": 0,
            "y": 0,
            "z": 0
           },
           "clipNear": 0,
           "clipRadius": 0,
           "colorMode": "hcl",
           "colorReverse": false,
           "colorScale": "",
           "colorScheme": "element",
           "colorValue": "orange",
           "defaultAssembly": "",
           "depthWrite": true,
           "diffuse": 16777215,
           "diffuseInterior": false,
           "disableImpostor": false,
           "disablePicking": false,
           "flatShaded": false,
           "interiorColor": 2236962,
           "interiorDarkening": 0,
           "lazy": false,
           "matrix": {
            "elements": [
             1,
             0,
             0,
             0,
             0,
             1,
             0,
             0,
             0,
             0,
             1,
             0,
             0,
             0,
             0,
             1
            ]
           },
           "metalness": 0,
           "opacity": 1,
           "quality": "medium",
           "radialSegments": 10,
           "radiusData": {},
           "radiusScale": 1,
           "radiusSize": 0.04933016296568518,
           "radiusType": "vdw",
           "roughness": 0.4,
           "sele": "all",
           "side": "double",
           "sphereDetail": 1,
           "useInteriorColor": true,
           "visible": true,
           "wireframe": false
          },
          "type": "unitcell"
         },
         "1": {
          "params": {
           "assembly": "default",
           "clipCenter": {
            "x": 0,
            "y": 0,
            "z": 0
           },
           "clipNear": 0,
           "clipRadius": 0,
           "colorMode": "hcl",
           "colorReverse": false,
           "colorScale": "rainbow",
           "colorScheme": "element",
           "colorValue": 9474192,
           "defaultAssembly": "",
           "depthWrite": true,
           "diffuse": 16777215,
           "diffuseInterior": false,
           "disableImpostor": false,
           "disablePicking": false,
           "flatShaded": false,
           "interiorColor": 2236962,
           "interiorDarkening": 0,
           "lazy": false,
           "matrix": {
            "elements": [
             1,
             0,
             0,
             0,
             0,
             1,
             0,
             0,
             0,
             0,
             1,
             0,
             0,
             0,
             0,
             1
            ]
           },
           "metalness": 0,
           "opacity": 1,
           "quality": "medium",
           "radiusData": {},
           "radiusScale": 0.5,
           "radiusSize": 1,
           "radiusType": "covalent",
           "roughness": 0.4,
           "sele": "all",
           "side": "double",
           "sphereDetail": 1,
           "useInteriorColor": true,
           "visible": true,
           "wireframe": false
          },
          "type": "spacefill"
         },
         "2": {
          "params": {
           "aspectRatio": 2,
           "assembly": "default",
           "bondScale": 0.4,
           "bondSpacing": 1,
           "clipCenter": {
            "x": 0,
            "y": 0,
            "z": 0
           },
           "clipNear": 0,
           "clipRadius": 0,
           "colorMode": "hcl",
           "colorReverse": false,
           "colorScale": "",
           "colorScheme": "element",
           "colorValue": 9474192,
           "cylinderOnly": false,
           "defaultAssembly": "",
           "depthWrite": true,
           "diffuse": 16777215,
           "diffuseInterior": false,
           "disableImpostor": false,
           "disablePicking": false,
           "flatShaded": false,
           "interiorColor": 2236962,
           "interiorDarkening": 0,
           "lazy": false,
           "lineOnly": false,
           "linewidth": 2,
           "matrix": {
            "elements": [
             1,
             0,
             0,
             0,
             0,
             1,
             0,
             0,
             0,
             0,
             1,
             0,
             0,
             0,
             0,
             1
            ]
           },
           "metalness": 0,
           "multipleBond": "off",
           "opacity": 1,
           "openEnded": true,
           "quality": "medium",
           "radialSegments": 10,
           "radiusData": {},
           "radiusScale": 1,
           "radiusSize": 0.15,
           "radiusType": "size",
           "roughness": 0.4,
           "sele": "all",
           "side": "double",
           "sphereDetail": 1,
           "useInteriorColor": true,
           "visible": true,
           "wireframe": false
          },
          "type": "ball+stick"
         }
        }
       },
       "_ngl_serialize": false,
       "_ngl_version": "2.0.0-dev.36",
       "_ngl_view_id": [
        "E03B8482-B706-4517-8F94-6DB9BBBD2BD4"
       ],
       "_player_dict": {},
       "_scene_position": {},
       "_scene_rotation": {},
       "_synced_model_ids": [],
       "_synced_repr_model_ids": [],
       "_view_height": "",
       "_view_width": "",
       "background": "white",
       "frame": 0,
       "gui_style": null,
       "layout": "IPY_MODEL_af49b7b105b5435d9c67ee0f977fcab5",
       "max_frame": 0,
       "n_components": 1,
       "picked": {}
      }
     },
     "b0bf309543b04d108ba86da55926ddec": {
      "model_module": "@jupyter-widgets/controls",
      "model_module_version": "1.5.0",
      "model_name": "LinkModel",
      "state": {
       "source": [
        "IPY_MODEL_b1260eb9fc3d4746abc97578bf00020e",
        "value"
       ],
       "target": [
        "IPY_MODEL_df694081507247ebbec9299016ab1473",
        "value"
       ]
      }
     },
     "b0df3e769084430a9560dcf377ac912d": {
      "model_module": "@jupyter-widgets/base",
      "model_module_version": "1.2.0",
      "model_name": "LayoutModel",
      "state": {}
     },
     "b1260eb9fc3d4746abc97578bf00020e": {
      "model_module": "@jupyter-widgets/controls",
      "model_module_version": "1.5.0",
      "model_name": "PlayModel",
      "state": {
       "layout": "IPY_MODEL_6633b638d2964c84a46c8f31e26bd827",
       "max": 0,
       "style": "IPY_MODEL_7606e53418c04b3bab04056e1d404f10"
      }
     },
     "b15a03a7ed9240d298675cdbb2eacb1a": {
      "model_module": "@jupyter-widgets/controls",
      "model_module_version": "1.5.0",
      "model_name": "DescriptionStyleModel",
      "state": {
       "description_width": ""
      }
     },
     "b16c31d3ff2f4a22bc8d63af0fcc4ed8": {
      "model_module": "@jupyter-widgets/base",
      "model_module_version": "1.2.0",
      "model_name": "LayoutModel",
      "state": {}
     },
     "b18820c791b64243a59eb15a74911eae": {
      "model_module": "@jupyter-widgets/base",
      "model_module_version": "1.2.0",
      "model_name": "LayoutModel",
      "state": {}
     },
     "b21c1b8afd5f442db24407a70bda9daf": {
      "model_module": "@jupyter-widgets/controls",
      "model_module_version": "1.5.0",
      "model_name": "DescriptionStyleModel",
      "state": {
       "description_width": ""
      }
     },
     "b2d3585f927c42d6903620c881e04e3a": {
      "model_module": "@jupyter-widgets/base",
      "model_module_version": "1.2.0",
      "model_name": "LayoutModel",
      "state": {}
     },
     "b2f3946fa2854ede8dc165fbbf578c21": {
      "model_module": "@jupyter-widgets/base",
      "model_module_version": "1.2.0",
      "model_name": "LayoutModel",
      "state": {}
     },
     "b3277aac8813499890d87f3d4f5e61fd": {
      "model_module": "@jupyter-widgets/controls",
      "model_module_version": "1.5.0",
      "model_name": "ButtonModel",
      "state": {
       "description": "Save image",
       "layout": "IPY_MODEL_75b86ac1215a4dcbbe69e6999901cf26",
       "style": "IPY_MODEL_9b66a4d50bdf458ca1e39723432503ce",
       "tooltip": "Save current frame to file.\nCurrently .png and .html are supported.\nIt takes a bit time, please be patient."
      }
     },
     "b386d03e851f480089db3c904727b458": {
      "model_module": "@jupyter-widgets/controls",
      "model_module_version": "1.5.0",
      "model_name": "SliderStyleModel",
      "state": {
       "description_width": ""
      }
     },
     "b439852ec5bd4078a8dea97ebdc59d9c": {
      "model_module": "@jupyter-widgets/controls",
      "model_module_version": "1.5.0",
      "model_name": "ButtonModel",
      "state": {
       "description": "Save image",
       "layout": "IPY_MODEL_06431985d5204072bdf742b361d31c63",
       "style": "IPY_MODEL_46ddca538dd84f8fb665f704e8580cdd",
       "tooltip": "Save current frame to file.\nCurrently .png and .html are supported.\nIt takes a bit time, please be patient."
      }
     },
     "b464fa9fa2384b7098190fc3b5aaf8bb": {
      "model_module": "@jupyter-widgets/controls",
      "model_module_version": "1.5.0",
      "model_name": "FloatSliderModel",
      "state": {
       "description": "Charge scale",
       "layout": "IPY_MODEL_d2ce85b10b6641509944d65e3ea51bc8",
       "step": 0.1,
       "style": "IPY_MODEL_7093be65e3184c7596f333212b395c5e",
       "value": 1
      }
     },
     "b495817625c6422392ce8ac28cb74c86": {
      "model_module": "@jupyter-widgets/controls",
      "model_module_version": "1.5.0",
      "model_name": "DropdownModel",
      "state": {
       "_options_labels": [
        "All",
        "Si"
       ],
       "description": "Show",
       "index": 0,
       "layout": "IPY_MODEL_fa4533695c3042ff867c4ed82855a51c",
       "style": "IPY_MODEL_8bb76aa17e6f41cf986880e2b9555088"
      }
     },
     "b50cef7575db499d988c956d5727e106": {
      "model_module": "@jupyter-widgets/base",
      "model_module_version": "1.2.0",
      "model_name": "LayoutModel",
      "state": {}
     },
     "b57adc0e75d04cb2b9967085ee7ed1e7": {
      "model_module": "@jupyter-widgets/controls",
      "model_module_version": "1.5.0",
      "model_name": "LinkModel",
      "state": {
       "source": [
        "IPY_MODEL_e9b15b6db84c46aaa4d37e01138d1e09",
        "max"
       ],
       "target": [
        "IPY_MODEL_6aa8136390e04982b5b11bd4908f0ea2",
        "max_frame"
       ]
      }
     },
     "b5f93e73f2664429a42d872fadbf3102": {
      "model_module": "@jupyter-widgets/controls",
      "model_module_version": "1.5.0",
      "model_name": "DescriptionStyleModel",
      "state": {
       "description_width": ""
      }
     },
     "b653985bca4b47b69e911440fce43740": {
      "model_module": "@jupyter-widgets/base",
      "model_module_version": "1.2.0",
      "model_name": "LayoutModel",
      "state": {}
     },
     "b75581bdb05e41edba57847e7b98eeab": {
      "model_module": "@jupyter-widgets/controls",
      "model_module_version": "1.5.0",
      "model_name": "ButtonModel",
      "state": {
       "description": "Save image",
       "layout": "IPY_MODEL_dbfd08ef90e5425f8063d9b8d4b59281",
       "style": "IPY_MODEL_fa516803240c4cf8b2ca32f25772616d",
       "tooltip": "Save current frame to file.\nCurrently .png and .html are supported.\nIt takes a bit time, please be patient."
      }
     },
     "b7b4d2a90ceb43e7b27df6e3cdf21b1c": {
      "model_module": "@jupyter-widgets/controls",
      "model_module_version": "1.5.0",
      "model_name": "SliderStyleModel",
      "state": {
       "description_width": ""
      }
     },
     "b7c20296c0ee4ce8b72f59e5d3c1d23e": {
      "model_module": "@jupyter-widgets/controls",
      "model_module_version": "1.5.0",
      "model_name": "DescriptionStyleModel",
      "state": {
       "description_width": ""
      }
     },
     "b7fb9a781cc84bfaae8ed2519d3d0592": {
      "model_module": "@jupyter-widgets/base",
      "model_module_version": "1.2.0",
      "model_name": "LayoutModel",
      "state": {}
     },
     "b889e2be310f4d58b80b9ea47db0d23f": {
      "model_module": "@jupyter-widgets/controls",
      "model_module_version": "1.5.0",
      "model_name": "ImageModel",
      "state": {
       "layout": "IPY_MODEL_be9bd7bd0a0440b6aa62555fd790ca69",
       "width": "900.0"
      }
     },
     "b8a8c9d6a0ee4450950b8a837ad57650": {
      "model_module": "@jupyter-widgets/base",
      "model_module_version": "1.2.0",
      "model_name": "LayoutModel",
      "state": {}
     },
     "b8ff867604424315b641fa5aa3bcbf80": {
      "model_module": "@jupyter-widgets/base",
      "model_module_version": "1.2.0",
      "model_name": "LayoutModel",
      "state": {
       "border": "0px solid black"
      }
     },
     "b9545bb7c6334bcd854fe127287616ca": {
      "model_module": "@jupyter-widgets/controls",
      "model_module_version": "1.5.0",
      "model_name": "HBoxModel",
      "state": {
       "children": [
        "IPY_MODEL_42dd6bc284384448901f2bf995b53883",
        "IPY_MODEL_1435b2c7c3eb427da7adfe3e49eca580"
       ],
       "layout": "IPY_MODEL_443d4482977642eaa460d3a60e277874"
      }
     },
     "b9f456b5bade461caeecaf0d1ccdfdfc": {
      "model_module": "@jupyter-widgets/controls",
      "model_module_version": "1.5.0",
      "model_name": "CheckboxModel",
      "state": {
       "description": "Show charge",
       "disabled": false,
       "layout": "IPY_MODEL_f5a5912603264703aee9cadc5b3e9040",
       "style": "IPY_MODEL_b7c20296c0ee4ce8b72f59e5d3c1d23e",
       "value": false
      }
     },
     "ba2bb65d64ed406a87ecdda364e908bf": {
      "model_module": "@jupyter-widgets/base",
      "model_module_version": "1.2.0",
      "model_name": "LayoutModel",
      "state": {
       "border": "0px solid black"
      }
     },
     "ba2fbd6691cb48c28586759f9e62d23e": {
      "model_module": "@jupyter-widgets/base",
      "model_module_version": "1.2.0",
      "model_name": "LayoutModel",
      "state": {}
     },
     "ba352f1732be4b75b120346a70f0f0c0": {
      "model_module": "@jupyter-widgets/base",
      "model_module_version": "1.2.0",
      "model_name": "LayoutModel",
      "state": {
       "width": "34px"
      }
     },
     "baec4c17044342409050898bccec2080": {
      "model_module": "@jupyter-widgets/controls",
      "model_module_version": "1.5.0",
      "model_name": "ButtonModel",
      "state": {
       "icon": "compress",
       "layout": "IPY_MODEL_d8f99a1774fd4674a94cdb5e578d548a",
       "style": "IPY_MODEL_32d1b0a5fefe4341911d7c6e8582dd55"
      }
     },
     "bb5c61f902ef4a8a8f1e9439b06c54fa": {
      "model_module": "@jupyter-widgets/output",
      "model_module_version": "1.0.0",
      "model_name": "OutputModel",
      "state": {
       "layout": "IPY_MODEL_fc8af41e0518423ebacfabcdd8c3f3aa"
      }
     },
     "bb7aa958c7a14ec78da2e82e4d0057f5": {
      "model_module": "@jupyter-widgets/controls",
      "model_module_version": "1.5.0",
      "model_name": "SliderStyleModel",
      "state": {
       "description_width": ""
      }
     },
     "bba7372960a8489ca79fc254dc049771": {
      "model_module": "@jupyter-widgets/controls",
      "model_module_version": "1.5.0",
      "model_name": "SliderStyleModel",
      "state": {
       "description_width": ""
      }
     },
     "bbebc53b65c945568fad3dcbc1c0be52": {
      "model_module": "@jupyter-widgets/controls",
      "model_module_version": "1.5.0",
      "model_name": "ImageModel",
      "state": {
       "layout": "IPY_MODEL_0fa12c3a5a644f718259b81e2607e5e6",
       "width": "900.0"
      }
     },
     "bc116f1e85004050a749db14ecf40de8": {
      "model_module": "@jupyter-widgets/controls",
      "model_module_version": "1.5.0",
      "model_name": "HBoxModel",
      "state": {
       "children": [
        "IPY_MODEL_3e9e16df72ae46188b690db96dd8f0de",
        "IPY_MODEL_32eee4676e0b4b5c98e7f077601112c2"
       ],
       "layout": "IPY_MODEL_9ec69d07d3f34e01bce188967265ee20"
      }
     },
     "bc46f531bb2e4c75af4732e55b66ea85": {
      "model_module": "@jupyter-widgets/base",
      "model_module_version": "1.2.0",
      "model_name": "LayoutModel",
      "state": {
       "border": "0px solid black"
      }
     },
     "bce2a18a8cc84808a33bcedf5aca88cb": {
      "model_module": "@jupyter-widgets/base",
      "model_module_version": "1.2.0",
      "model_name": "LayoutModel",
      "state": {}
     },
     "bd2f703f419a4a7db9b25a939e3335f4": {
      "model_module": "@jupyter-widgets/base",
      "model_module_version": "1.2.0",
      "model_name": "LayoutModel",
      "state": {}
     },
     "be5e1c7627ea4ca3be8eb1170caf9bbd": {
      "model_module": "@jupyter-widgets/controls",
      "model_module_version": "1.5.0",
      "model_name": "ImageModel",
      "state": {
       "layout": "IPY_MODEL_13e4feb745e5442fa591b6ce013efa74",
       "width": "900.0"
      }
     },
     "be9bd7bd0a0440b6aa62555fd790ca69": {
      "model_module": "@jupyter-widgets/base",
      "model_module_version": "1.2.0",
      "model_name": "LayoutModel",
      "state": {}
     },
     "bf735c900f4448348f9c8a3b172db7f0": {
      "model_module": "@jupyter-widgets/base",
      "model_module_version": "1.2.0",
      "model_name": "LayoutModel",
      "state": {}
     },
     "bf913df60fd1406b9ebb47e800478065": {
      "model_module": "@jupyter-widgets/controls",
      "model_module_version": "1.5.0",
      "model_name": "ButtonModel",
      "state": {
       "description": "Download image",
       "layout": "IPY_MODEL_6d488fc5e8aa4bb9923a6836434f9317",
       "style": "IPY_MODEL_c82bb11b93b74238954152e2595ee8ed",
       "tooltip": "Download current frame to your local PC"
      }
     },
     "bfc20c1da79c4149a9d1cf60e7595f4d": {
      "model_module": "@jupyter-widgets/controls",
      "model_module_version": "1.5.0",
      "model_name": "ImageModel",
      "state": {
       "layout": "IPY_MODEL_8ecfaa9729854198ba15e2b493bf8d89",
       "width": "900.0"
      }
     },
     "c00120f30ace4ef8be9de14a79a1521d": {
      "model_module": "@jupyter-widgets/controls",
      "model_module_version": "1.5.0",
      "model_name": "LinkModel",
      "state": {
       "source": [
        "IPY_MODEL_217d99a46bc5489e88f567c4e36646f0",
        "max"
       ],
       "target": [
        "IPY_MODEL_a6df092adb884c7489fcfc01c6a86e9f",
        "max_frame"
       ]
      }
     },
     "c00c41e4def64352a694cc118c7d1f44": {
      "model_module": "@jupyter-widgets/controls",
      "model_module_version": "1.5.0",
      "model_name": "SliderStyleModel",
      "state": {
       "description_width": ""
      }
     },
     "c013e1b42fa64705b48c1bf173dcc009": {
      "model_module": "@jupyter-widgets/controls",
      "model_module_version": "1.5.0",
      "model_name": "SliderStyleModel",
      "state": {
       "description_width": ""
      }
     },
     "c01c8f4d6d034b3bb2142fe4fdedaf29": {
      "model_module": "@jupyter-widgets/controls",
      "model_module_version": "1.5.0",
      "model_name": "SliderStyleModel",
      "state": {
       "description_width": ""
      }
     },
     "c1d11d79ecd14a9aa8a6ed6acd631514": {
      "model_module": "@jupyter-widgets/base",
      "model_module_version": "1.2.0",
      "model_name": "LayoutModel",
      "state": {}
     },
     "c26231eae37047be84c9c3cd147ddbdb": {
      "model_module": "@jupyter-widgets/base",
      "model_module_version": "1.2.0",
      "model_name": "LayoutModel",
      "state": {}
     },
     "c2d5bdcd988a48e3a4b56d812a541d7a": {
      "model_module": "@jupyter-widgets/base",
      "model_module_version": "1.2.0",
      "model_name": "LayoutModel",
      "state": {
       "border": "0px solid black"
      }
     },
     "c2d6eca48c114f29a008005755c46e89": {
      "model_module": "@jupyter-widgets/base",
      "model_module_version": "1.2.0",
      "model_name": "LayoutModel",
      "state": {}
     },
     "c347e607ad12432c8f4218b85fe4afb3": {
      "model_module": "@jupyter-widgets/controls",
      "model_module_version": "1.5.0",
      "model_name": "DescriptionStyleModel",
      "state": {
       "description_width": ""
      }
     },
     "c3ffb9fbca9d4d9b88665c546323c1ec": {
      "model_module": "@jupyter-widgets/controls",
      "model_module_version": "1.5.0",
      "model_name": "LinkModel",
      "state": {
       "source": [
        "IPY_MODEL_328e52466ed74efe94b5d92dbc0dd8fd",
        "max"
       ],
       "target": [
        "IPY_MODEL_42dd6bc284384448901f2bf995b53883",
        "max_frame"
       ]
      }
     },
     "c51c6e31373340919c66147a63b617ef": {
      "model_module": "@jupyter-widgets/base",
      "model_module_version": "1.2.0",
      "model_name": "LayoutModel",
      "state": {
       "border": "0px solid black"
      }
     },
     "c5e426f266504af2a9846442aae16e18": {
      "model_module": "@jupyter-widgets/controls",
      "model_module_version": "1.5.0",
      "model_name": "DescriptionStyleModel",
      "state": {
       "description_width": ""
      }
     },
     "c6c0d49f31fc4395a6cf43b92ba728be": {
      "model_module": "@jupyter-widgets/controls",
      "model_module_version": "1.5.0",
      "model_name": "HBoxModel",
      "state": {
       "children": [
        "IPY_MODEL_dfb1b7e6bef5445bbbefdce4ecd11777",
        "IPY_MODEL_888470102d2340be94477fc3c4df2ca4"
       ],
       "layout": "IPY_MODEL_9729e766acfd4e27be28607ff86084ed"
      }
     },
     "c82bb11b93b74238954152e2595ee8ed": {
      "model_module": "@jupyter-widgets/controls",
      "model_module_version": "1.5.0",
      "model_name": "ButtonStyleModel",
      "state": {}
     },
     "c8c00734cf1349a1bf248fcffa347e96": {
      "model_module": "@jupyter-widgets/controls",
      "model_module_version": "1.5.0",
      "model_name": "ButtonStyleModel",
      "state": {}
     },
     "c9284713764f4f7ea4194b9fcb97b63b": {
      "model_module": "@jupyter-widgets/controls",
      "model_module_version": "1.5.0",
      "model_name": "CheckboxModel",
      "state": {
       "description": "Show force",
       "disabled": false,
       "layout": "IPY_MODEL_5ef6afb8471b4746bb76bc75d7062437",
       "style": "IPY_MODEL_02d79cb8a8e14b8e82651bc27e5dd33f",
       "value": false
      }
     },
     "c9d5e15f7d384d2bba43ed4030b12638": {
      "model_module": "@jupyter-widgets/base",
      "model_module_version": "1.2.0",
      "model_name": "LayoutModel",
      "state": {}
     },
     "c9f979e420814900af0d71f7c84aa49a": {
      "model_module": "@jupyter-widgets/base",
      "model_module_version": "1.2.0",
      "model_name": "LayoutModel",
      "state": {}
     },
     "ca11bd6845994ee48b8956680002e415": {
      "model_module": "@jupyter-widgets/base",
      "model_module_version": "1.2.0",
      "model_name": "LayoutModel",
      "state": {}
     },
     "ca9d34cfb34543d0862f38e7712c2c0d": {
      "model_module": "@jupyter-widgets/controls",
      "model_module_version": "1.5.0",
      "model_name": "FloatSliderModel",
      "state": {
       "description": "Charge scale",
       "layout": "IPY_MODEL_d77f5e9c5e684b6ea56aef001781d566",
       "step": 0.1,
       "style": "IPY_MODEL_163fa2e02b584a1c98fb3ef6da8ed2a0",
       "value": 1
      }
     },
     "cc138e78f1d8420eabbc1233cc22a191": {
      "model_module": "@jupyter-widgets/controls",
      "model_module_version": "1.5.0",
      "model_name": "VBoxModel",
      "state": {
       "children": [
        "IPY_MODEL_b495817625c6422392ce8ac28cb74c86",
        "IPY_MODEL_5065648f55e34dc8857f3a7e3cc0a13e",
        "IPY_MODEL_6a9f7b6d265e4074aa33860448e30733",
        "IPY_MODEL_f4955c5166df4712aba4dd03a601132e",
        "IPY_MODEL_3af3a441878e4a3a90918b817aa267a5",
        "IPY_MODEL_c9284713764f4f7ea4194b9fcb97b63b",
        "IPY_MODEL_ee2a3c8b58c24f879852698763a3259e",
        "IPY_MODEL_627ddf4940fb4f99888d709158efd580",
        "IPY_MODEL_db7eb2a0432a4d1f8bc691123d122cc8",
        "IPY_MODEL_af569fe7fc2d48ca97a209617dd9eccf"
       ],
       "layout": "IPY_MODEL_fc3c8602a5b44b0392bf33e2522a357a"
      }
     },
     "cc84a4c4d2cb459587efe970cf7dfd87": {
      "model_module": "@jupyter-widgets/controls",
      "model_module_version": "1.5.0",
      "model_name": "HBoxModel",
      "state": {
       "children": [
        "IPY_MODEL_383cc848e02f444c89326ab04267265e",
        "IPY_MODEL_8b4a6299af09413abb121d7f81d0796a"
       ],
       "layout": "IPY_MODEL_d81639b789644e5d961e0df0af7a3139"
      }
     },
     "cd0e35ec498a4e57850197520a19fe98": {
      "model_module": "@jupyter-widgets/controls",
      "model_module_version": "1.5.0",
      "model_name": "HBoxModel",
      "state": {
       "children": [
        "IPY_MODEL_f1a127d5521a4e9e96d9ee745ce276a2",
        "IPY_MODEL_b75581bdb05e41edba57847e7b98eeab"
       ],
       "layout": "IPY_MODEL_857fd9e94ef24ed7a8f6900db8ef9716"
      }
     },
     "cd5810cee0c340799b747fd538a2e687": {
      "model_module": "@jupyter-widgets/controls",
      "model_module_version": "1.5.0",
      "model_name": "LinkModel",
      "state": {
       "source": [
        "IPY_MODEL_6e6d8e179d79416fa3a140fbdf79f6df",
        "value"
       ],
       "target": [
        "IPY_MODEL_a6df092adb884c7489fcfc01c6a86e9f",
        "frame"
       ]
      }
     },
     "ce758b702e2f4e68ace344c225a709ac": {
      "model_module": "@jupyter-widgets/base",
      "model_module_version": "1.2.0",
      "model_name": "LayoutModel",
      "state": {}
     },
     "ce866840a8ff46d9a1ee09c2bfeb5efd": {
      "model_module": "@jupyter-widgets/base",
      "model_module_version": "1.2.0",
      "model_name": "LayoutModel",
      "state": {}
     },
     "cf04c68dbc5347fd93c9b62621559571": {
      "model_module": "@jupyter-widgets/controls",
      "model_module_version": "1.5.0",
      "model_name": "SliderStyleModel",
      "state": {
       "description_width": ""
      }
     },
     "cf1a2a9f79c9475f92a75e917ec6ad47": {
      "model_module": "@jupyter-widgets/base",
      "model_module_version": "1.2.0",
      "model_name": "LayoutModel",
      "state": {}
     },
     "d035a6b7685f45808e7783aebb1c6f5f": {
      "model_module": "@jupyter-widgets/controls",
      "model_module_version": "1.5.0",
      "model_name": "CheckboxModel",
      "state": {
       "description": "Show force",
       "disabled": false,
       "layout": "IPY_MODEL_9c297ade8c3a43f6983803d73b445b70",
       "style": "IPY_MODEL_c347e607ad12432c8f4218b85fe4afb3",
       "value": false
      }
     },
     "d06aed6fc42845e8af09d3b697faac42": {
      "model_module": "@jupyter-widgets/controls",
      "model_module_version": "1.5.0",
      "model_name": "FloatSliderModel",
      "state": {
       "description": "Force scale",
       "layout": "IPY_MODEL_9488dc60610648ba9e5bc5dca3ae5596",
       "step": 0.1,
       "style": "IPY_MODEL_bba7372960a8489ca79fc254dc049771",
       "value": 0.5
      }
     },
     "d0ac2bebf1e04ea9868896b6fc845009": {
      "model_module": "@jupyter-widgets/controls",
      "model_module_version": "1.5.0",
      "model_name": "LinkModel",
      "state": {
       "source": [
        "IPY_MODEL_d952f33b649640088197eedf1540eabc",
        "max"
       ],
       "target": [
        "IPY_MODEL_b05b599f2f3641119076371afad87351",
        "max_frame"
       ]
      }
     },
     "d17a3b8d816b41b6ba295a86156f95bd": {
      "model_module": "@jupyter-widgets/controls",
      "model_module_version": "1.5.0",
      "model_name": "ButtonModel",
      "state": {
       "icon": "compress",
       "layout": "IPY_MODEL_2f8f1fec12d144ed887bbdfd7de5414a",
       "style": "IPY_MODEL_762ed4bb00bf41c6adeebabf2049b49c"
      }
     },
     "d1ba2ce245b84078879bb241bc0b3fe2": {
      "model_module": "@jupyter-widgets/controls",
      "model_module_version": "1.5.0",
      "model_name": "DropdownModel",
      "state": {
       "_options_labels": [
        " ",
        "picking",
        "random",
        "uniform",
        "atomindex",
        "residueindex",
        "chainindex",
        "modelindex",
        "sstruc",
        "element",
        "resname",
        "bfactor",
        "hydrophobicity",
        "value",
        "volume",
        "occupancy"
       ],
       "description": "Color scheme",
       "index": 9,
       "layout": "IPY_MODEL_059ea022a19f464bb87144c36a0816f1",
       "style": "IPY_MODEL_773999092b5748f6bdfab37aded8f387"
      }
     },
     "d258ab726058465888edc5d9f6136173": {
      "model_module": "@jupyter-widgets/base",
      "model_module_version": "1.2.0",
      "model_name": "LayoutModel",
      "state": {}
     },
     "d2ce85b10b6641509944d65e3ea51bc8": {
      "model_module": "@jupyter-widgets/base",
      "model_module_version": "1.2.0",
      "model_name": "LayoutModel",
      "state": {}
     },
     "d2fad791a3ef4e0abea0b0155a0966cd": {
      "model_module": "@jupyter-widgets/controls",
      "model_module_version": "1.5.0",
      "model_name": "VBoxModel",
      "state": {
       "children": [
        "IPY_MODEL_5024885eef374badb5355b50dc1c636e",
        "IPY_MODEL_d1ba2ce245b84078879bb241bc0b3fe2",
        "IPY_MODEL_17346db533324b1685fad18271db9f41",
        "IPY_MODEL_817c6cb698c442208183a25462b8abee",
        "IPY_MODEL_b057d0a5732e4e04b0568c9cce955c00",
        "IPY_MODEL_5258607e42164d91827c919d162fa785",
        "IPY_MODEL_f52e7f983ba0450eb9dbb569a35076be",
        "IPY_MODEL_a381cb505894466abae9cdd14fc2b673",
        "IPY_MODEL_6c3246c0306b45b09de633653adc5f9b",
        "IPY_MODEL_6c1f2cf161f24667a704e1ef465f9113"
       ],
       "layout": "IPY_MODEL_ce866840a8ff46d9a1ee09c2bfeb5efd"
      }
     },
     "d3ebab5dd22047cca6001950378fc766": {
      "model_module": "@jupyter-widgets/controls",
      "model_module_version": "1.5.0",
      "model_name": "DropdownModel",
      "state": {
       "_options_labels": [
        " ",
        "picking",
        "random",
        "uniform",
        "atomindex",
        "residueindex",
        "chainindex",
        "modelindex",
        "sstruc",
        "element",
        "resname",
        "bfactor",
        "hydrophobicity",
        "value",
        "volume",
        "occupancy"
       ],
       "description": "Color scheme",
       "index": 9,
       "layout": "IPY_MODEL_4cbd70976edb4c88b765b9ac8acf5cdb",
       "style": "IPY_MODEL_08baf8b20bf4401d987c31d594b92529"
      }
     },
     "d43d8f2743654a2b87ded75d05cc11d0": {
      "model_module": "@jupyter-widgets/controls",
      "model_module_version": "1.5.0",
      "model_name": "LinkModel",
      "state": {
       "source": [
        "IPY_MODEL_888470102d2340be94477fc3c4df2ca4",
        "max"
       ],
       "target": [
        "IPY_MODEL_383cc848e02f444c89326ab04267265e",
        "max_frame"
       ]
      }
     },
     "d5d4b1ec6deb458eac008a6d19a7a854": {
      "model_module": "@jupyter-widgets/controls",
      "model_module_version": "1.5.0",
      "model_name": "HBoxModel",
      "state": {
       "children": [
        "IPY_MODEL_9c57c08266a9494c8a867155f9cc28c2",
        "IPY_MODEL_03f81aab4db948d292f4d624c7a942ef"
       ],
       "layout": "IPY_MODEL_93be2521ad4c4244b1231d9424322140"
      }
     },
     "d63ae695dd8d4148aae7ee421c4d4515": {
      "model_module": "@jupyter-widgets/controls",
      "model_module_version": "1.5.0",
      "model_name": "LinkModel",
      "state": {
       "source": [
        "IPY_MODEL_dfb1b7e6bef5445bbbefdce4ecd11777",
        "value"
       ],
       "target": [
        "IPY_MODEL_383cc848e02f444c89326ab04267265e",
        "frame"
       ]
      }
     },
     "d6ab5f15603440ea86c592e2810d7a2f": {
      "model_module": "@jupyter-widgets/controls",
      "model_module_version": "1.5.0",
      "model_name": "FloatSliderModel",
      "state": {
       "description": "Ball size",
       "layout": "IPY_MODEL_0a050d59320845d490546f10024d333a",
       "max": 1.5,
       "step": 0.01,
       "style": "IPY_MODEL_379ad69b75414bea94119b31ccd5bc00",
       "value": 0.5
      }
     },
     "d6e3a12e638b40d0a880a41b78efbffa": {
      "model_module": "@jupyter-widgets/base",
      "model_module_version": "1.2.0",
      "model_name": "LayoutModel",
      "state": {}
     },
     "d77f5e9c5e684b6ea56aef001781d566": {
      "model_module": "@jupyter-widgets/base",
      "model_module_version": "1.2.0",
      "model_name": "LayoutModel",
      "state": {}
     },
     "d79050b3b92b43b7bea34ad7e1d21225": {
      "model_module": "@jupyter-widgets/base",
      "model_module_version": "1.2.0",
      "model_name": "LayoutModel",
      "state": {}
     },
     "d81639b789644e5d961e0df0af7a3139": {
      "model_module": "@jupyter-widgets/base",
      "model_module_version": "1.2.0",
      "model_name": "LayoutModel",
      "state": {}
     },
     "d8abd8c0f5f04db3879daa61c6a11716": {
      "model_module": "@jupyter-widgets/base",
      "model_module_version": "1.2.0",
      "model_name": "LayoutModel",
      "state": {}
     },
     "d8f99a1774fd4674a94cdb5e578d548a": {
      "model_module": "@jupyter-widgets/base",
      "model_module_version": "1.2.0",
      "model_name": "LayoutModel",
      "state": {
       "width": "34px"
      }
     },
     "d952f33b649640088197eedf1540eabc": {
      "model_module": "@jupyter-widgets/controls",
      "model_module_version": "1.5.0",
      "model_name": "IntSliderModel",
      "state": {
       "layout": "IPY_MODEL_c9f979e420814900af0d71f7c84aa49a",
       "max": 0,
       "style": "IPY_MODEL_7dc68617037c4ca5a20747c201b1b4da"
      }
     },
     "d9caf4745bc140bbb8092ac90417c7e4": {
      "model_module": "@jupyter-widgets/base",
      "model_module_version": "1.2.0",
      "model_name": "LayoutModel",
      "state": {}
     },
     "daf4f594882d42379bd5c873f0f9792b": {
      "model_module": "@jupyter-widgets/controls",
      "model_module_version": "1.5.0",
      "model_name": "HBoxModel",
      "state": {
       "children": [
        "IPY_MODEL_0f001b267dd546f48b044bf211c0deda",
        "IPY_MODEL_82bb136a110945f1bb38a03cebeb7f8b"
       ],
       "layout": "IPY_MODEL_5398a5cffb494a54aaac6e377afcb1eb"
      }
     },
     "db1085ca20b4434fa8ac459160e77c11": {
      "model_module": "@jupyter-widgets/controls",
      "model_module_version": "1.5.0",
      "model_name": "ButtonModel",
      "state": {
       "icon": "compress",
       "layout": "IPY_MODEL_ba352f1732be4b75b120346a70f0f0c0",
       "style": "IPY_MODEL_0ed5795d641f44c4801d63f03aa9441d"
      }
     },
     "db5105c9318049ec97cb759c58d592ef": {
      "model_module": "@jupyter-widgets/base",
      "model_module_version": "1.2.0",
      "model_name": "LayoutModel",
      "state": {}
     },
     "db7eb2a0432a4d1f8bc691123d122cc8": {
      "model_module": "@jupyter-widgets/controls",
      "model_module_version": "1.5.0",
      "model_name": "FloatSliderModel",
      "state": {
       "description": "Charge scale",
       "layout": "IPY_MODEL_e9a9795ac05e44498a53029ef92910f1",
       "step": 0.1,
       "style": "IPY_MODEL_2930a1fab50940109fb782060db0509a",
       "value": 1
      }
     },
     "dbb0de50dea04f37877e6d9515f598ad": {
      "model_module": "@jupyter-widgets/controls",
      "model_module_version": "1.5.0",
      "model_name": "TextModel",
      "state": {
       "description": "Filename: ",
       "layout": "IPY_MODEL_0266b16e2fe04562a48e9bd5bb06b9fb",
       "style": "IPY_MODEL_16cd39f5e30b4e8891ca17b5602ebac4",
       "value": "screenshot.png"
      }
     },
     "dbfd08ef90e5425f8063d9b8d4b59281": {
      "model_module": "@jupyter-widgets/base",
      "model_module_version": "1.2.0",
      "model_name": "LayoutModel",
      "state": {}
     },
     "ddb49574cf064dd9adf5eab57635ff7c": {
      "model_module": "@jupyter-widgets/controls",
      "model_module_version": "1.5.0",
      "model_name": "HBoxModel",
      "state": {
       "children": [
        "IPY_MODEL_b05b599f2f3641119076371afad87351",
        "IPY_MODEL_d2fad791a3ef4e0abea0b0155a0966cd"
       ],
       "layout": "IPY_MODEL_d9caf4745bc140bbb8092ac90417c7e4"
      }
     },
     "de3c706d501940c98e98435c8920b7a3": {
      "model_module": "@jupyter-widgets/controls",
      "model_module_version": "1.5.0",
      "model_name": "DescriptionStyleModel",
      "state": {
       "description_width": ""
      }
     },
     "dec9c7f604004c34938ead4fd3df9750": {
      "model_module": "@jupyter-widgets/controls",
      "model_module_version": "1.5.0",
      "model_name": "DropdownModel",
      "state": {
       "_options_labels": [
        "All",
        "O",
        "H",
        "C"
       ],
       "description": "Show",
       "index": 0,
       "layout": "IPY_MODEL_fefcd33c1d85402697a522b371b0e4e6",
       "style": "IPY_MODEL_7314fdaa05f04495ae6ba6673611a258"
      }
     },
     "df694081507247ebbec9299016ab1473": {
      "model_module": "@jupyter-widgets/controls",
      "model_module_version": "1.5.0",
      "model_name": "IntSliderModel",
      "state": {
       "layout": "IPY_MODEL_a591a279968b4951b29152c13bd3883f",
       "max": 0,
       "style": "IPY_MODEL_180e051b66dc4c6295acd2e39deed05f"
      }
     },
     "dfb1b7e6bef5445bbbefdce4ecd11777": {
      "model_module": "@jupyter-widgets/controls",
      "model_module_version": "1.5.0",
      "model_name": "PlayModel",
      "state": {
       "layout": "IPY_MODEL_7b501cf740474200878b8250e786cac9",
       "max": 0,
       "style": "IPY_MODEL_f2b415cbfff348aca7ae0d7afd989f65"
      }
     },
     "e05392014bf64e9ca39705fe0294c23d": {
      "model_module": "@jupyter-widgets/controls",
      "model_module_version": "1.5.0",
      "model_name": "DescriptionStyleModel",
      "state": {
       "description_width": ""
      }
     },
     "e0ae9123147344f184dfca863cdb571b": {
      "model_module": "@jupyter-widgets/controls",
      "model_module_version": "1.5.0",
      "model_name": "LinkModel",
      "state": {
       "source": [
        "IPY_MODEL_6e6d8e179d79416fa3a140fbdf79f6df",
        "value"
       ],
       "target": [
        "IPY_MODEL_217d99a46bc5489e88f567c4e36646f0",
        "value"
       ]
      }
     },
     "e1ee199d39e54400b0f63bb014e50fb1": {
      "model_module": "@jupyter-widgets/controls",
      "model_module_version": "1.5.0",
      "model_name": "LinkModel",
      "state": {
       "source": [
        "IPY_MODEL_72da1bfae75f4a38b770bf84e87e1356",
        "value"
       ],
       "target": [
        "IPY_MODEL_328e52466ed74efe94b5d92dbc0dd8fd",
        "value"
       ]
      }
     },
     "e3d87ed90a684dad9df5e2660ffc043f": {
      "model_module": "@jupyter-widgets/controls",
      "model_module_version": "1.5.0",
      "model_name": "ButtonModel",
      "state": {
       "description": "Save image",
       "layout": "IPY_MODEL_45131e77344f4f67a03fec312cf8e331",
       "style": "IPY_MODEL_338289efeda045e4b311fc248862eb8a",
       "tooltip": "Save current frame to file.\nCurrently .png and .html are supported.\nIt takes a bit time, please be patient."
      }
     },
     "e64e08f6aea842fab9609052b74f158e": {
      "model_module": "@jupyter-widgets/base",
      "model_module_version": "1.2.0",
      "model_name": "LayoutModel",
      "state": {}
     },
     "e6a82e1487fb4fc1b55952e96d63cf9f": {
      "model_module": "@jupyter-widgets/controls",
      "model_module_version": "1.5.0",
      "model_name": "DescriptionStyleModel",
      "state": {
       "description_width": ""
      }
     },
     "e76fe4decbf847f6a6c7dfa33fab9456": {
      "model_module": "@jupyter-widgets/controls",
      "model_module_version": "1.5.0",
      "model_name": "LinkModel",
      "state": {
       "source": [
        "IPY_MODEL_fdcca0422a5841428b40d6a8323163b3",
        "value"
       ],
       "target": [
        "IPY_MODEL_0f001b267dd546f48b044bf211c0deda",
        "frame"
       ]
      }
     },
     "e7d729f272f84cfa8c0baf76e44d40f5": {
      "model_module": "@jupyter-widgets/base",
      "model_module_version": "1.2.0",
      "model_name": "LayoutModel",
      "state": {}
     },
     "e90465c5af584e38bc2b75c2383b9b32": {
      "model_module": "@jupyter-widgets/controls",
      "model_module_version": "1.5.0",
      "model_name": "DropdownModel",
      "state": {
       "_options_labels": [
        " ",
        "picking",
        "random",
        "uniform",
        "atomindex",
        "residueindex",
        "chainindex",
        "modelindex",
        "sstruc",
        "element",
        "resname",
        "bfactor",
        "hydrophobicity",
        "value",
        "volume",
        "occupancy"
       ],
       "description": "Color scheme",
       "index": 9,
       "layout": "IPY_MODEL_447908abd01a424fa2b87a374660a18e",
       "style": "IPY_MODEL_e91a1c29bca34eea8ee3446a0b7a03e9"
      }
     },
     "e91a1c29bca34eea8ee3446a0b7a03e9": {
      "model_module": "@jupyter-widgets/controls",
      "model_module_version": "1.5.0",
      "model_name": "DescriptionStyleModel",
      "state": {
       "description_width": ""
      }
     },
     "e96856953229443c8be3022f8c803c6e": {
      "model_module": "@jupyter-widgets/output",
      "model_module_version": "1.0.0",
      "model_name": "OutputModel",
      "state": {
       "layout": "IPY_MODEL_b8ff867604424315b641fa5aa3bcbf80"
      }
     },
     "e9a9795ac05e44498a53029ef92910f1": {
      "model_module": "@jupyter-widgets/base",
      "model_module_version": "1.2.0",
      "model_name": "LayoutModel",
      "state": {}
     },
     "e9b15b6db84c46aaa4d37e01138d1e09": {
      "model_module": "@jupyter-widgets/controls",
      "model_module_version": "1.5.0",
      "model_name": "IntSliderModel",
      "state": {
       "layout": "IPY_MODEL_bf735c900f4448348f9c8a3b172db7f0",
       "max": 0,
       "style": "IPY_MODEL_ad552d6403f54eec8bf8af482a9018c5"
      }
     },
     "e9b1ead5c8844a05804a4ff4f8854d91": {
      "model_module": "@jupyter-widgets/controls",
      "model_module_version": "1.5.0",
      "model_name": "DescriptionStyleModel",
      "state": {
       "description_width": ""
      }
     },
     "ea64f3d1e17846bdbbce2964dcfc3b33": {
      "model_module": "@jupyter-widgets/controls",
      "model_module_version": "1.5.0",
      "model_name": "VBoxModel",
      "state": {
       "children": [
        "IPY_MODEL_24cef6cd249741f0b5d430ec70532b0a",
        "IPY_MODEL_ff006f1ad28d43aba7148a8337906daa",
        "IPY_MODEL_0497780a18a14f9bb62b8e03c503bad5",
        "IPY_MODEL_9a0fe87b16764cfdb3e30cb9148e4fe5",
        "IPY_MODEL_d5d4b1ec6deb458eac008a6d19a7a854",
        "IPY_MODEL_d035a6b7685f45808e7783aebb1c6f5f",
        "IPY_MODEL_04489ea91b014a0cb8d233c26881369c",
        "IPY_MODEL_8aa36142c89a479db01a094df7f14d6b",
        "IPY_MODEL_9b303ea4de7449f999604e4dfe73069e",
        "IPY_MODEL_38c9f0b801b2410981d14d2859a49409"
       ],
       "layout": "IPY_MODEL_1f081807622c4aa08e384db0bedb1e19"
      }
     },
     "ebcb705c545b408ba00448a1ef8df462": {
      "model_module": "@jupyter-widgets/controls",
      "model_module_version": "1.5.0",
      "model_name": "DescriptionStyleModel",
      "state": {
       "description_width": ""
      }
     },
     "ec38cbfd774144a099ea8e0162d02740": {
      "model_module": "@jupyter-widgets/controls",
      "model_module_version": "1.5.0",
      "model_name": "TextModel",
      "state": {
       "description": "Filename: ",
       "layout": "IPY_MODEL_db5105c9318049ec97cb759c58d592ef",
       "style": "IPY_MODEL_5ccffb125c334ffca896d54c448f0778",
       "value": "screenshot.png"
      }
     },
     "ec7bc9313f7b48a99a8f4cfc81492e80": {
      "model_module": "@jupyter-widgets/base",
      "model_module_version": "1.2.0",
      "model_name": "LayoutModel",
      "state": {}
     },
     "edfb644314a94800baff1d24fdd4f18b": {
      "model_module": "@jupyter-widgets/controls",
      "model_module_version": "1.5.0",
      "model_name": "CheckboxModel",
      "state": {
       "description": "Show force",
       "disabled": false,
       "layout": "IPY_MODEL_53f92222abb84ac3ba0666c39a844043",
       "style": "IPY_MODEL_6d39b22e960d46ffb401e32c73f43508",
       "value": false
      }
     },
     "ee2a3c8b58c24f879852698763a3259e": {
      "model_module": "@jupyter-widgets/controls",
      "model_module_version": "1.5.0",
      "model_name": "FloatSliderModel",
      "state": {
       "description": "Force scale",
       "layout": "IPY_MODEL_f1947ba4b2ff48b5ad4a3ec76a57d083",
       "step": 0.1,
       "style": "IPY_MODEL_ae7445a839384df9ba09383dc17f788e",
       "value": 0.5
      }
     },
     "ee2ab48a85944162a7b058ae644347bc": {
      "model_module": "@jupyter-widgets/controls",
      "model_module_version": "1.5.0",
      "model_name": "ButtonModel",
      "state": {
       "icon": "compress",
       "layout": "IPY_MODEL_684e85e43c5a46eb899a97abad17dffc",
       "style": "IPY_MODEL_fce98d8972a244dc89ca894ee949c793"
      }
     },
     "ee4768b4195743d69f97edae104a31fe": {
      "model_module": "@jupyter-widgets/controls",
      "model_module_version": "1.5.0",
      "model_name": "PlayModel",
      "state": {
       "layout": "IPY_MODEL_b2d3585f927c42d6903620c881e04e3a",
       "max": 0,
       "style": "IPY_MODEL_c5e426f266504af2a9846442aae16e18"
      }
     },
     "eeb62b4bc328420e84950f42b50b75b5": {
      "model_module": "@jupyter-widgets/controls",
      "model_module_version": "1.5.0",
      "model_name": "LinkModel",
      "state": {
       "source": [
        "IPY_MODEL_b1260eb9fc3d4746abc97578bf00020e",
        "max"
       ],
       "target": [
        "IPY_MODEL_a1f0cfff859a4b5b9ec8560af88f27dc",
        "max_frame"
       ]
      }
     },
     "ef2a32a8949d4ac49584892df0d46667": {
      "model_module": "@jupyter-widgets/controls",
      "model_module_version": "1.5.0",
      "model_name": "CheckboxModel",
      "state": {
       "description": "Show charge",
       "disabled": false,
       "layout": "IPY_MODEL_2c08b988810a405fbc286fe07ad7a6fb",
       "style": "IPY_MODEL_de3c706d501940c98e98435c8920b7a3",
       "value": false
      }
     },
     "f030d0a9efa14f72b56afaa3034e9006": {
      "model_module": "@jupyter-widgets/controls",
      "model_module_version": "1.5.0",
      "model_name": "ButtonStyleModel",
      "state": {}
     },
     "f1947ba4b2ff48b5ad4a3ec76a57d083": {
      "model_module": "@jupyter-widgets/base",
      "model_module_version": "1.2.0",
      "model_name": "LayoutModel",
      "state": {}
     },
     "f1a127d5521a4e9e96d9ee745ce276a2": {
      "model_module": "@jupyter-widgets/controls",
      "model_module_version": "1.5.0",
      "model_name": "ButtonModel",
      "state": {
       "description": "Download image",
       "layout": "IPY_MODEL_844ec2dd377840d9b22981983870548f",
       "style": "IPY_MODEL_f913260ed10548f38e346f1c2819d391",
       "tooltip": "Download current frame to your local PC"
      }
     },
     "f20340090ec54375a5591a5fd4ca7769": {
      "model_module": "@jupyter-widgets/base",
      "model_module_version": "1.2.0",
      "model_name": "LayoutModel",
      "state": {}
     },
     "f2b415cbfff348aca7ae0d7afd989f65": {
      "model_module": "@jupyter-widgets/controls",
      "model_module_version": "1.5.0",
      "model_name": "DescriptionStyleModel",
      "state": {
       "description_width": ""
      }
     },
     "f2f935cf00544ae3a811e3e7bf8fe224": {
      "model_module": "@jupyter-widgets/controls",
      "model_module_version": "1.5.0",
      "model_name": "LinkModel",
      "state": {
       "source": [
        "IPY_MODEL_80774604ef594ae0b5f02edc06e698e2",
        "max"
       ],
       "target": [
        "IPY_MODEL_6aa8136390e04982b5b11bd4908f0ea2",
        "max_frame"
       ]
      }
     },
     "f4955c5166df4712aba4dd03a601132e": {
      "model_module": "@jupyter-widgets/controls",
      "model_module_version": "1.5.0",
      "model_name": "TextModel",
      "state": {
       "description": "Filename: ",
       "layout": "IPY_MODEL_c2d6eca48c114f29a008005755c46e89",
       "style": "IPY_MODEL_7723709fcf1d427fb85839f819f466dc",
       "value": "screenshot.png"
      }
     },
     "f52e7f983ba0450eb9dbb569a35076be": {
      "model_module": "@jupyter-widgets/controls",
      "model_module_version": "1.5.0",
      "model_name": "FloatSliderModel",
      "state": {
       "description": "Force scale",
       "layout": "IPY_MODEL_6c798827785040e5927d39b222add620",
       "step": 0.1,
       "style": "IPY_MODEL_c00c41e4def64352a694cc118c7d1f44",
       "value": 0.5
      }
     },
     "f5a5912603264703aee9cadc5b3e9040": {
      "model_module": "@jupyter-widgets/base",
      "model_module_version": "1.2.0",
      "model_name": "LayoutModel",
      "state": {}
     },
     "f6e22252a7694b48bfe11610359c3fb1": {
      "model_module": "@jupyter-widgets/controls",
      "model_module_version": "1.5.0",
      "model_name": "DescriptionStyleModel",
      "state": {
       "description_width": ""
      }
     },
     "f7a637d169804ce39dca8bf7098d2c31": {
      "model_module": "@jupyter-widgets/base",
      "model_module_version": "1.2.0",
      "model_name": "LayoutModel",
      "state": {}
     },
     "f80e198876d6402ea6397e3f90922a6e": {
      "model_module": "nglview-js-widgets",
      "model_module_version": "3.0.1",
      "model_name": "NGLModel",
      "state": {
       "_camera_orientation": [
        18.678557698506353,
        0,
        0,
        0,
        0,
        18.678557698506353,
        0,
        0,
        0,
        0,
        18.678557698506353,
        0,
        -2.4855000972747803,
        1.7575000524520874,
        -1.0149999856948853,
        1
       ],
       "_camera_str": "orthographic",
       "_gui_theme": null,
       "_ibtn_fullscreen": "IPY_MODEL_00a2451709da4544a2ed319428b8f10c",
       "_igui": null,
       "_iplayer": "IPY_MODEL_1c6a44263d9940f9b0c31ea822e6ee23",
       "_ngl_color_dict": {},
       "_ngl_coordinate_resource": {},
       "_ngl_full_stage_parameters": {
        "ambientColor": 14540253,
        "ambientIntensity": 0.2,
        "backgroundColor": "white",
        "cameraEyeSep": 0.3,
        "cameraFov": 40,
        "cameraType": "orthographic",
        "clipDist": 0,
        "clipFar": 100,
        "clipNear": 0,
        "fogFar": 100,
        "fogNear": 50,
        "hoverTimeout": 0,
        "impostor": true,
        "lightColor": 14540253,
        "lightIntensity": 1,
        "mousePreset": "default",
        "panSpeed": 1,
        "quality": "medium",
        "rotateSpeed": 2,
        "sampleLevel": 0,
        "tooltip": true,
        "workerDefault": true,
        "zoomSpeed": 1.2
       },
       "_ngl_msg_archive": [
        {
         "args": [
          {
           "binary": false,
           "data": "CRYST1    4.971    7.456    9.942 109.47 109.47 109.47 P 1\nMODEL     1\nATOM      1   Fe MOL     1       0.000   0.000   0.000  1.00  0.00          FE  \nATOM      2   Fe MOL     1       0.828  -2.343  -0.000  1.00  0.00          FE  \nATOM      3   Fe MOL     1       1.657  -4.687  -0.000  1.00  0.00          FE  \nATOM      4   Fe MOL     1       2.485  -7.030  -0.000  1.00  0.00          FE  \nATOM      5   Fe MOL     1       0.828   1.172   2.029  1.00  0.00          FE  \nATOM      6   Fe MOL     1       1.657  -1.172   2.029  1.00  0.00          FE  \nATOM      7   Fe MOL     1       2.485  -3.515   2.029  1.00  0.00          FE  \nATOM      8   Fe MOL     1       3.314  -5.858   2.029  1.00  0.00          FE  \nATOM      9   Fe MOL     1       1.657   2.343   4.059  1.00  0.00          FE  \nATOM     10   Fe MOL     1       2.485   0.000   4.059  1.00  0.00          FE  \nATOM     11   Fe MOL     1       3.314  -2.343   4.059  1.00  0.00          FE  \nATOM     12   Fe MOL     1       4.142  -4.687   4.059  1.00  0.00          FE  \nATOM     13   Fe MOL     1       0.828   1.172  -2.029  1.00  0.00          FE  \nATOM     14   Fe MOL     1       1.657  -1.172  -2.029  1.00  0.00          FE  \nATOM     15   Fe MOL     1       2.485  -3.515  -2.029  1.00  0.00          FE  \nATOM     16   Fe MOL     1       3.314  -5.858  -2.029  1.00  0.00          FE  \nATOM     17   Fe MOL     1       1.657   2.343   0.000  1.00  0.00          FE  \nATOM     18   Fe MOL     1       2.485   0.000  -0.000  1.00  0.00          FE  \nATOM     19   Fe MOL     1       3.314  -2.343  -0.000  1.00  0.00          FE  \nATOM     20   Fe MOL     1       4.142  -4.687  -0.000  1.00  0.00          FE  \nATOM     21   Fe MOL     1       2.485   3.515   2.029  1.00  0.00          FE  \nATOM     22   Fe MOL     1       3.314   1.172   2.029  1.00  0.00          FE  \nATOM     23   Fe MOL     1       4.142  -1.172   2.029  1.00  0.00          FE  \nATOM     24   Fe MOL     1       4.971  -3.515   2.029  1.00  0.00          FE  \nENDMDL\n",
           "type": "blob"
          }
         ],
         "kwargs": {
          "defaultRepresentation": false,
          "ext": "pdb"
         },
         "methodName": "loadFile",
         "reconstruc_color_scheme": false,
         "target": "Stage",
         "type": "call_method"
        },
        {
         "args": [
          "400px",
          "300px"
         ],
         "kwargs": {},
         "methodName": "setSize",
         "reconstruc_color_scheme": false,
         "target": "Widget",
         "type": "call_method"
        },
        {
         "args": [
          "unitcell"
         ],
         "component_index": 0,
         "kwargs": {
          "sele": "all"
         },
         "methodName": "addRepresentation",
         "reconstruc_color_scheme": false,
         "target": "compList",
         "type": "call_method"
        },
        {
         "args": [
          "spacefill"
         ],
         "component_index": 0,
         "kwargs": {
          "sele": "all"
         },
         "methodName": "addRepresentation",
         "reconstruc_color_scheme": false,
         "target": "compList",
         "type": "call_method"
        },
        {
         "args": [],
         "kwargs": {
          "cameraType": "orthographic"
         },
         "methodName": "setParameters",
         "reconstruc_color_scheme": false,
         "target": "Stage",
         "type": "call_method"
        },
        {
         "args": [
          {
           "clipDist": 0
          }
         ],
         "kwargs": {},
         "methodName": "setParameters",
         "reconstruc_color_scheme": false,
         "target": "Widget",
         "type": "call_method"
        },
        {
         "args": [
          "spacefill",
          0
         ],
         "kwargs": {
          "colorScale": "rainbow",
          "colorScheme": "element",
          "radiusScale": 0.5,
          "radiusType": "covalent"
         },
         "methodName": "updateRepresentationsByName",
         "reconstruc_color_scheme": false,
         "target": "Widget",
         "type": "call_method"
        },
        {
         "args": [
          "this._Q = [[-0.5773502691896257, 0.5773502691896257, 0.5773502691896257], [0.40824829046386313, -0.408248290463863, 0.8164965809277261], [0.7071067811865476, 0.7071067811865477, -2.6638240557478837e-16]]\n    var tooltip = document.createElement('div');\n    Object.assign(tooltip.style, {\n      display: 'none',\n      position: 'fixed',\n      zIndex: 10,\n      pointerEvents: 'none',\n      backgroundColor: 'rgba( 0, 0, 0, 0.6 )',\n      color: 'lightgrey',\n      padding: '8px',\n      fontFamily: 'sans-serif'\n    });\n    document.body.appendChild(tooltip);\n\n    var that = this;\n    this.stage.mouseControls.remove('hoverPick');\n    this.stage.signals.hovered.add(function (pickingProxy) {\n      if (pickingProxy && (pickingProxy.atom || pickingProxy.bond)) {\n        var atom = pickingProxy.atom || pickingProxy.closestBondAtom\n        var mp = pickingProxy.mouse.position\n        //tooltip.innerText = atom.element + ' i=' + atom.index + ' (' + atom.x.toFixed(2) +  ', ' + atom.y.toFixed(2) +  ', ' + atom.z.toFixed(2) + ')'\n        //var pos = that._atoms_pos[atom.index]\n        var Q = that._Q\n        var pos_x = Q[0][0] * atom.x + Q[0][1] * atom.y + Q[0][2] * atom.z \n        var pos_y = Q[1][0] * atom.x + Q[1][1] * atom.y + Q[1][2] * atom.z\n        var pos_z = Q[2][0] * atom.x + Q[2][1] * atom.y + Q[2][2] * atom.z\n        tooltip.innerText = 'i=' + atom.index + ' ' + atom.element + ' (' + pos_x.toFixed(2) +  ', ' + pos_y.toFixed(2) +  ', ' + pos_z.toFixed(2) + ')'\n        tooltip.style.bottom = window.innerHeight - mp.y + 3 + 'px'\n        tooltip.style.left = mp.x + 3 + 'px'\n        tooltip.style.display = 'block'\n      } else {\n        tooltip.style.display = 'none'\n      }\n    });\n    this.stage.tooltip = tooltip;\n    "
         ],
         "kwargs": {},
         "methodName": "executeCode",
         "reconstruc_color_scheme": false,
         "target": "Widget",
         "type": "call_method"
        },
        {
         "args": [
          "ball+stick"
         ],
         "component_index": 0,
         "kwargs": {
          "sele": "all"
         },
         "methodName": "addRepresentation",
         "reconstruc_color_scheme": false,
         "target": "compList",
         "type": "call_method"
        }
       ],
       "_ngl_original_stage_parameters": {
        "ambientColor": 14540253,
        "ambientIntensity": 0.2,
        "backgroundColor": "white",
        "cameraEyeSep": 0.3,
        "cameraFov": 40,
        "cameraType": "perspective",
        "clipDist": 10,
        "clipFar": 100,
        "clipNear": 0,
        "fogFar": 100,
        "fogNear": 50,
        "hoverTimeout": 0,
        "impostor": true,
        "lightColor": 14540253,
        "lightIntensity": 1,
        "mousePreset": "default",
        "panSpeed": 1,
        "quality": "medium",
        "rotateSpeed": 2,
        "sampleLevel": 0,
        "tooltip": true,
        "workerDefault": true,
        "zoomSpeed": 1.2
       },
       "_ngl_repr_dict": {
        "0": {
         "0": {
          "params": {
           "clipCenter": {
            "x": 0,
            "y": 0,
            "z": 0
           },
           "clipNear": 0,
           "clipRadius": 0,
           "colorMode": "hcl",
           "colorReverse": false,
           "colorScale": "",
           "colorScheme": "element",
           "colorValue": "orange",
           "defaultAssembly": "",
           "depthWrite": true,
           "diffuse": 16777215,
           "diffuseInterior": false,
           "disableImpostor": false,
           "disablePicking": false,
           "flatShaded": false,
           "interiorColor": 2236962,
           "interiorDarkening": 0,
           "lazy": false,
           "matrix": {
            "elements": [
             1,
             0,
             0,
             0,
             0,
             1,
             0,
             0,
             0,
             0,
             1,
             0,
             0,
             0,
             0,
             1
            ]
           },
           "metalness": 0,
           "opacity": 1,
           "quality": "medium",
           "radialSegments": 10,
           "radiusData": {},
           "radiusScale": 1,
           "radiusSize": 0.03286151464600358,
           "radiusType": "vdw",
           "roughness": 0.4,
           "sele": "all",
           "side": "double",
           "sphereDetail": 1,
           "useInteriorColor": true,
           "visible": true,
           "wireframe": false
          },
          "type": "unitcell"
         },
         "1": {
          "params": {
           "assembly": "default",
           "clipCenter": {
            "x": 0,
            "y": 0,
            "z": 0
           },
           "clipNear": 0,
           "clipRadius": 0,
           "colorMode": "hcl",
           "colorReverse": false,
           "colorScale": "rainbow",
           "colorScheme": "element",
           "colorValue": 9474192,
           "defaultAssembly": "",
           "depthWrite": true,
           "diffuse": 16777215,
           "diffuseInterior": false,
           "disableImpostor": false,
           "disablePicking": false,
           "flatShaded": false,
           "interiorColor": 2236962,
           "interiorDarkening": 0,
           "lazy": false,
           "matrix": {
            "elements": [
             1,
             0,
             0,
             0,
             0,
             1,
             0,
             0,
             0,
             0,
             1,
             0,
             0,
             0,
             0,
             1
            ]
           },
           "metalness": 0,
           "opacity": 1,
           "quality": "medium",
           "radiusData": {},
           "radiusScale": 0.5,
           "radiusSize": 1,
           "radiusType": "covalent",
           "roughness": 0.4,
           "sele": "all",
           "side": "double",
           "sphereDetail": 1,
           "useInteriorColor": true,
           "visible": true,
           "wireframe": false
          },
          "type": "spacefill"
         },
         "2": {
          "params": {
           "aspectRatio": 2,
           "assembly": "default",
           "bondScale": 0.4,
           "bondSpacing": 1,
           "clipCenter": {
            "x": 0,
            "y": 0,
            "z": 0
           },
           "clipNear": 0,
           "clipRadius": 0,
           "colorMode": "hcl",
           "colorReverse": false,
           "colorScale": "",
           "colorScheme": "element",
           "colorValue": 9474192,
           "cylinderOnly": false,
           "defaultAssembly": "",
           "depthWrite": true,
           "diffuse": 16777215,
           "diffuseInterior": false,
           "disableImpostor": false,
           "disablePicking": false,
           "flatShaded": false,
           "interiorColor": 2236962,
           "interiorDarkening": 0,
           "lazy": false,
           "lineOnly": false,
           "linewidth": 2,
           "matrix": {
            "elements": [
             1,
             0,
             0,
             0,
             0,
             1,
             0,
             0,
             0,
             0,
             1,
             0,
             0,
             0,
             0,
             1
            ]
           },
           "metalness": 0,
           "multipleBond": "off",
           "opacity": 1,
           "openEnded": true,
           "quality": "medium",
           "radialSegments": 10,
           "radiusData": {},
           "radiusScale": 1,
           "radiusSize": 0.15,
           "radiusType": "size",
           "roughness": 0.4,
           "sele": "all",
           "side": "double",
           "sphereDetail": 1,
           "useInteriorColor": true,
           "visible": true,
           "wireframe": false
          },
          "type": "ball+stick"
         }
        }
       },
       "_ngl_serialize": false,
       "_ngl_version": "2.0.0-dev.36",
       "_ngl_view_id": [
        "D04AB97E-55EB-4FBD-95A6-3564307795EF"
       ],
       "_player_dict": {},
       "_scene_position": {},
       "_scene_rotation": {},
       "_synced_model_ids": [],
       "_synced_repr_model_ids": [],
       "_view_height": "",
       "_view_width": "",
       "background": "white",
       "frame": 0,
       "gui_style": null,
       "layout": "IPY_MODEL_e64e08f6aea842fab9609052b74f158e",
       "max_frame": 0,
       "n_components": 1,
       "picked": {}
      }
     },
     "f850fe666e1d40a2bf52c1f945719376": {
      "model_module": "@jupyter-widgets/controls",
      "model_module_version": "1.5.0",
      "model_name": "FloatSliderModel",
      "state": {
       "description": "Ball size",
       "layout": "IPY_MODEL_a80288dac9a843318569de2a6acfea81",
       "max": 1.5,
       "step": 0.01,
       "style": "IPY_MODEL_b7b4d2a90ceb43e7b27df6e3cdf21b1c",
       "value": 0.5
      }
     },
     "f8865e8f661e42218ad45cf148eed272": {
      "model_module": "@jupyter-widgets/base",
      "model_module_version": "1.2.0",
      "model_name": "LayoutModel",
      "state": {}
     },
     "f8cb9fe5ee394caf92fe2745a3fc6873": {
      "model_module": "@jupyter-widgets/base",
      "model_module_version": "1.2.0",
      "model_name": "LayoutModel",
      "state": {}
     },
     "f913260ed10548f38e346f1c2819d391": {
      "model_module": "@jupyter-widgets/controls",
      "model_module_version": "1.5.0",
      "model_name": "ButtonStyleModel",
      "state": {}
     },
     "f936d49db6b841dd97bc4198ef40875c": {
      "model_module": "@jupyter-widgets/base",
      "model_module_version": "1.2.0",
      "model_name": "LayoutModel",
      "state": {}
     },
     "f93a7bd7722a4e0489ac71467ea6b5ba": {
      "model_module": "@jupyter-widgets/controls",
      "model_module_version": "1.5.0",
      "model_name": "ButtonStyleModel",
      "state": {}
     },
     "f96f20b08666460e99d51dceff06a030": {
      "model_module": "@jupyter-widgets/base",
      "model_module_version": "1.2.0",
      "model_name": "LayoutModel",
      "state": {
       "width": "34px"
      }
     },
     "fa4533695c3042ff867c4ed82855a51c": {
      "model_module": "@jupyter-widgets/base",
      "model_module_version": "1.2.0",
      "model_name": "LayoutModel",
      "state": {}
     },
     "fa516803240c4cf8b2ca32f25772616d": {
      "model_module": "@jupyter-widgets/controls",
      "model_module_version": "1.5.0",
      "model_name": "ButtonStyleModel",
      "state": {}
     },
     "faa1a5ca36574f6b92bebae83f97004d": {
      "model_module": "@jupyter-widgets/controls",
      "model_module_version": "1.5.0",
      "model_name": "ButtonStyleModel",
      "state": {}
     },
     "fb022c435cc84e0ca29efd11b0474c34": {
      "model_module": "@jupyter-widgets/controls",
      "model_module_version": "1.5.0",
      "model_name": "HBoxModel",
      "state": {
       "children": [
        "IPY_MODEL_af0a609ae9714a47b852a9d1008afb6e",
        "IPY_MODEL_3c94e1dd73674e1f90556b1ea6204bf3"
       ],
       "layout": "IPY_MODEL_21ebb97aeb894a6ea438e6b8ae8c23cb"
      }
     },
     "fb4a70b5c75446f0994f4fa5f96afee1": {
      "model_module": "@jupyter-widgets/base",
      "model_module_version": "1.2.0",
      "model_name": "LayoutModel",
      "state": {}
     },
     "fbc3eca6ddff47f9925b7a4f1afd7778": {
      "model_module": "@jupyter-widgets/base",
      "model_module_version": "1.2.0",
      "model_name": "LayoutModel",
      "state": {
       "width": "34px"
      }
     },
     "fc3c8602a5b44b0392bf33e2522a357a": {
      "model_module": "@jupyter-widgets/base",
      "model_module_version": "1.2.0",
      "model_name": "LayoutModel",
      "state": {}
     },
     "fc4c9dcffdd44740b46782139066401b": {
      "model_module": "@jupyter-widgets/controls",
      "model_module_version": "1.5.0",
      "model_name": "DescriptionStyleModel",
      "state": {
       "description_width": ""
      }
     },
     "fc8af41e0518423ebacfabcdd8c3f3aa": {
      "model_module": "@jupyter-widgets/base",
      "model_module_version": "1.2.0",
      "model_name": "LayoutModel",
      "state": {
       "border": "0px solid black"
      }
     },
     "fce98d8972a244dc89ca894ee949c793": {
      "model_module": "@jupyter-widgets/controls",
      "model_module_version": "1.5.0",
      "model_name": "ButtonStyleModel",
      "state": {}
     },
     "fd51003f12644bc8b1b2dfa0b0d4d272": {
      "model_module": "@jupyter-widgets/base",
      "model_module_version": "1.2.0",
      "model_name": "LayoutModel",
      "state": {}
     },
     "fdcca0422a5841428b40d6a8323163b3": {
      "model_module": "@jupyter-widgets/controls",
      "model_module_version": "1.5.0",
      "model_name": "PlayModel",
      "state": {
       "layout": "IPY_MODEL_047c31850e384af0bf4594d3fc176da6",
       "max": 0,
       "style": "IPY_MODEL_7179ef0c3c2747629cd4e51e459b028b"
      }
     },
     "fefcd33c1d85402697a522b371b0e4e6": {
      "model_module": "@jupyter-widgets/base",
      "model_module_version": "1.2.0",
      "model_name": "LayoutModel",
      "state": {}
     },
     "ff006f1ad28d43aba7148a8337906daa": {
      "model_module": "@jupyter-widgets/controls",
      "model_module_version": "1.5.0",
      "model_name": "DropdownModel",
      "state": {
       "_options_labels": [
        " ",
        "picking",
        "random",
        "uniform",
        "atomindex",
        "residueindex",
        "chainindex",
        "modelindex",
        "sstruc",
        "element",
        "resname",
        "bfactor",
        "hydrophobicity",
        "value",
        "volume",
        "occupancy"
       ],
       "description": "Color scheme",
       "index": 9,
       "layout": "IPY_MODEL_b7fb9a781cc84bfaae8ed2519d3d0592",
       "style": "IPY_MODEL_4a79de8bc2e9438ca05e854a2f710893"
      }
     },
     "ff44bec3d6174aae83f5eca4e5924ef5": {
      "model_module": "@jupyter-widgets/controls",
      "model_module_version": "1.5.0",
      "model_name": "ButtonStyleModel",
      "state": {}
     },
     "ff756b9168a54450a7681ea37b7b3342": {
      "model_module": "@jupyter-widgets/controls",
      "model_module_version": "1.5.0",
      "model_name": "LinkModel",
      "state": {
       "source": [
        "IPY_MODEL_7e63fae4abd0438f8b84ae171a65dbd4",
        "max"
       ],
       "target": [
        "IPY_MODEL_f80e198876d6402ea6397e3f90922a6e",
        "max_frame"
       ]
      }
     }
    },
    "version_major": 2,
    "version_minor": 0
   }
  }
 },
 "nbformat": 4,
 "nbformat_minor": 5
}
