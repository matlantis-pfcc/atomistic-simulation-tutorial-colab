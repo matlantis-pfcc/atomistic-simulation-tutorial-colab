{
 "cells": [
  {
   "cell_type": "markdown",
   "id": "edbe5531-98f9-4402-9e69-139abb2bb5a4",
   "metadata": {
    "tags": []
   },
   "source": [
    "# Notion"
   ]
  },
  {
   "cell_type": "markdown",
   "id": "68bb439c-3df6-4f98-97c8-1667dfe07327",
   "metadata": {},
   "source": [
    "本notebookは[AtomisticSimulationTutorial](https://docs.matlantis.com/atomistic-simulation-tutorial/ja/)をGoogleColab上で実行するために修正したものであり、一般的なライブラリで実行可能な部分だけを提供しております。"
   ]
  },
  {
   "cell_type": "markdown",
   "id": "b78d1a91-abf8-4dd3-a9c7-572281bd8943",
   "metadata": {
    "tags": []
   },
   "source": [
    "# Diatomic Potential\n",
    "\n",
    "2体ポテンシャルエネルギーとは、真空中に2つの原子だけを置いたときの相互作用のエネルギーです。原子間距離によって値が変わります。\n",
    "\n",
    "## 水素分子の2体Potential energyを計算してみる\n",
    "\n",
    "ここまで習ったことを利用して、水素分子の２体ポテンシャルエネルギーを計算してみましょう。\n",
    "\n",
    "水素原子間が様々な距離になるように水素分子を生成しそのエネルギーを計算、プロットしてみます。"
   ]
  },
  {
   "cell_type": "markdown",
   "id": "7394fda4-fedb-4853-a0e6-1da79b7d7656",
   "metadata": {
    "tags": []
   },
   "source": [
    "## Initial setup"
   ]
  },
  {
   "cell_type": "code",
   "execution_count": 1,
   "id": "6d7a334e-620f-4357-b31a-c6f97e9ff512",
   "metadata": {},
   "outputs": [
    {
     "name": "stdout",
     "output_type": "stream",
     "text": [
      "Looking in indexes: https://pypi.org/simple, http://pypi.artifact.svc:8080/simple\n",
      "Requirement already satisfied: ase in /home/jovyan/.py39/lib/python3.9/site-packages (3.23.0)\n",
      "Requirement already satisfied: numpy>=1.18.5 in /home/jovyan/.py39/lib/python3.9/site-packages (from ase) (1.26.4)\n",
      "Requirement already satisfied: scipy>=1.6.0 in /home/jovyan/.py39/lib/python3.9/site-packages (from ase) (1.13.1)\n",
      "Requirement already satisfied: matplotlib>=3.3.4 in /home/jovyan/.py39/lib/python3.9/site-packages (from ase) (3.9.0)\n",
      "Requirement already satisfied: contourpy>=1.0.1 in /home/jovyan/.py39/lib/python3.9/site-packages (from matplotlib>=3.3.4->ase) (1.2.1)\n",
      "Requirement already satisfied: cycler>=0.10 in /home/jovyan/.py39/lib/python3.9/site-packages (from matplotlib>=3.3.4->ase) (0.12.1)\n",
      "Requirement already satisfied: fonttools>=4.22.0 in /home/jovyan/.py39/lib/python3.9/site-packages (from matplotlib>=3.3.4->ase) (4.53.0)\n",
      "Requirement already satisfied: kiwisolver>=1.3.1 in /home/jovyan/.py39/lib/python3.9/site-packages (from matplotlib>=3.3.4->ase) (1.4.5)\n",
      "Requirement already satisfied: packaging>=20.0 in /home/jovyan/.py39/lib/python3.9/site-packages (from matplotlib>=3.3.4->ase) (20.9)\n",
      "Requirement already satisfied: pillow>=8 in /home/jovyan/.py39/lib/python3.9/site-packages (from matplotlib>=3.3.4->ase) (10.4.0)\n",
      "Requirement already satisfied: pyparsing>=2.3.1 in /home/jovyan/.py39/lib/python3.9/site-packages (from matplotlib>=3.3.4->ase) (3.1.2)\n",
      "Requirement already satisfied: python-dateutil>=2.7 in /home/jovyan/.py39/lib/python3.9/site-packages (from matplotlib>=3.3.4->ase) (2.9.0.post0)\n",
      "Requirement already satisfied: importlib-resources>=3.2.0 in /home/jovyan/.py39/lib/python3.9/site-packages (from matplotlib>=3.3.4->ase) (6.4.0)\n",
      "Requirement already satisfied: zipp>=3.1.0 in /home/jovyan/.py39/lib/python3.9/site-packages (from importlib-resources>=3.2.0->matplotlib>=3.3.4->ase) (3.19.2)\n",
      "Requirement already satisfied: six>=1.5 in /home/jovyan/.py39/lib/python3.9/site-packages (from python-dateutil>=2.7->matplotlib>=3.3.4->ase) (1.16.0)\n",
      "\n",
      "\u001b[1m[\u001b[0m\u001b[34;49mnotice\u001b[0m\u001b[1;39;49m]\u001b[0m\u001b[39;49m A new release of pip is available: \u001b[0m\u001b[31;49m24.2\u001b[0m\u001b[39;49m -> \u001b[0m\u001b[32;49m24.3.1\u001b[0m\n",
      "\u001b[1m[\u001b[0m\u001b[34;49mnotice\u001b[0m\u001b[1;39;49m]\u001b[0m\u001b[39;49m To update, run: \u001b[0m\u001b[32;49mpip install --upgrade pip\u001b[0m\n"
     ]
    }
   ],
   "source": [
    "!pip install ase"
   ]
  },
  {
   "cell_type": "code",
   "execution_count": 2,
   "id": "53ccc8a9-5b4a-4c2b-a278-99ea4205dde5",
   "metadata": {},
   "outputs": [],
   "source": [
    "from ase.calculators.emt import EMT\n",
    "\n",
    "calculator = EMT()"
   ]
  },
  {
   "cell_type": "code",
   "execution_count": 3,
   "id": "5c264b76-de5e-4eb8-aaaa-178fe3a1f893",
   "metadata": {},
   "outputs": [
    {
     "data": {
      "application/vnd.jupyter.widget-view+json": {
       "model_id": "ae8de960e7c14f26b32fcb98e09aedd6",
       "version_major": 2,
       "version_minor": 0
      },
      "text/plain": [
       "  0%|          | 0/100 [00:00<?, ?it/s]"
      ]
     },
     "metadata": {},
     "output_type": "display_data"
    }
   ],
   "source": [
    "import numpy as np\n",
    "from tqdm.auto import tqdm\n",
    "from ase import Atoms\n",
    "\n",
    "distances = np.linspace(0.3, 6.5, 100)\n",
    "energy_list = []\n",
    "for d in tqdm(distances):\n",
    "    atoms = Atoms(\"H2\", [[0, 0, 0], [0, 0, d]])\n",
    "    atoms.calc = calculator\n",
    "    E_pot = atoms.get_potential_energy()\n",
    "    energy_list.append(E_pot)\n",
    "\n",
    "energies = np.array(energy_list)"
   ]
  },
  {
   "cell_type": "code",
   "execution_count": 4,
   "id": "ffda6092-778b-45fa-abdd-c9f3e14200de",
   "metadata": {},
   "outputs": [
    {
     "data": {
      "image/png": "[encoded data removed]",
      "text/plain": [
       "<Figure size 640x480 with 1 Axes>"
      ]
     },
     "metadata": {},
     "output_type": "display_data"
    }
   ],
   "source": [
    "import matplotlib.pyplot as plt\n",
    "\n",
    "\n",
    "plt.plot(distances, energies)\n",
    "# H2 bond length = 0.74A\n",
    "plt.vlines(0.74, np.min(energies), np.max(energies), color=\"red\")\n",
    "plt.xlabel(\"bond distance: [A]\")\n",
    "plt.ylabel(\"Potential energy: [eV]\")\n",
    "plt.title(\"H2 potential curve\")\n",
    "plt.show()"
   ]
  },
  {
   "cell_type": "code",
   "execution_count": 5,
   "id": "d87267eb-5cdb-4e41-817c-b1f804e789a7",
   "metadata": {},
   "outputs": [
    {
     "data": {
      "text/plain": [
       "0.801010101010101"
      ]
     },
     "execution_count": 5,
     "metadata": {},
     "output_type": "execute_result"
    }
   ],
   "source": [
    "distances[np.argmin(energies)]"
   ]
  },
  {
   "cell_type": "markdown",
   "id": "2cf242d5-13cd-4401-b9ec-cbceb7fb0029",
   "metadata": {},
   "source": [
    "同じ水素原子2つからなる水素分子でも原子間距離が変わるだけでそのエネルギーは大きく異なることがわかります。<br/>\n",
    "実験的には水素分子は結合長さ 0.74A で最安定であるということが知られていますが、実際にEMTで計算を行ってみると比較的近い位置でエネルギーが一番低くなっていることが確認できました。\n",
    "\n",
    "このように、様々な構造に対してエネルギーが計算できることで、自然界で物質がどのような構造を取っているのかを解析することができます。"
   ]
  },
  {
   "cell_type": "code",
   "execution_count": null,
   "id": "d0e17fda-5dd5-4c70-a1e6-24d6cfb569bf",
   "metadata": {},
   "outputs": [],
   "source": []
  }
 ],
 "metadata": {
  "kernelspec": {
   "display_name": "Python 3.9",
   "language": "python",
   "name": "python39"
  },
  "language_info": {
   "codemirror_mode": {
    "name": "ipython",
    "version": 3
   },
   "file_extension": ".py",
   "mimetype": "text/x-python",
   "name": "python",
   "nbconvert_exporter": "python",
   "pygments_lexer": "ipython3",
   "version": "3.9.16"
  },
  "widgets": {
   "application/vnd.jupyter.widget-state+json": {
    "state": {},
    "version_major": 2,
    "version_minor": 0
   }
  }
 },
 "nbformat": 4,
 "nbformat_minor": 5
}
