{
 "cells": [
  {
   "cell_type": "markdown",
   "id": "249ebc7c-9467-41e7-9ca3-265cfbc58999",
   "metadata": {
    "tags": []
   },
   "source": [
    "# Notion"
   ]
  },
  {
   "cell_type": "markdown",
   "id": "202470bc-0c4f-4fc6-9099-d4ffec9b2408",
   "metadata": {},
   "source": [
    "本notebookは[AtomisticSimulationTutorial](https://docs.matlantis.com/atomistic-simulation-tutorial/ja/)をGoogleColab上で実行するために修正したものであり、一般的なライブラリで実行可能な部分だけを提供しております。"
   ]
  },
  {
   "cell_type": "markdown",
   "id": "c884a1a6-d944-429c-ab2c-af5335bb317c",
   "metadata": {},
   "source": [
    "# Bulk energy\n",
    "\n",
    "3章では各種エネルギー計算の方法を学んでいきます。\n",
    "\n",
    " - 結合エネルギー\n",
    " - 凝集エネルギー\n",
    " - 空孔形成エネルギー\n",
    " - 表面エネルギー\n",
    " - 界面エネルギー\n",
    " - Excess エネルギー\n",
    " - 吸着エネルギー\n",
    "\n",
    "これらのエネルギーを評価することで、どういった物質・構造が安定して存在するかを解析することができます。\n",
    "\n",
    "分子系に関するエネルギーとして結合エネルギー、結晶系に関するエネルギーとして凝集エネルギー、結晶に欠陥がある系のエネルギーとして空孔生成エネルギーを紹介します。"
   ]
  },
  {
   "cell_type": "markdown",
   "id": "73eec36c-8d64-44e1-83f4-169ad67ff3ae",
   "metadata": {},
   "source": [
    "## 結合エネルギー - Binding energy\n",
    "\n",
    "これは、ある原子が孤立している状態(isolated)から、分子として結合した際に下がるエネルギー差として定義されています。\n",
    "\n",
    "$$E_{\\rm{binding}} = E_{\\rm{molecule}} - E_{\\rm{isolated}}$$\n",
    "\n",
    "$E_{\\rm{molecule}}$を分子のエネルギー、$E_{\\rm{isolated}}$を孤立した場合のエネルギーとして、結合エネルギー$E_{\\rm{binding}}$ が求まります。\n",
    "\n",
    "一般の分子は複数の原子・複数の結合(Bond) からなります。分子を構成する原子全てを孤立させるために必要なエネルギーは、原子化エネルギー (atomization energy)と呼ばれることもあります。\n",
    "\n",
    "ここでは水素分子H2の結合エネルギーを求めてみます。 "
   ]
  },
  {
   "cell_type": "markdown",
   "id": "80f1fa9f-05d7-4869-a0ff-2cf893c8d51f",
   "metadata": {
    "tags": []
   },
   "source": [
    "## Initial setup"
   ]
  },
  {
   "cell_type": "code",
   "execution_count": 1,
   "id": "3ca0d0a7-43b2-4fc6-931f-b2af236d85a1",
   "metadata": {},
   "outputs": [
    {
     "name": "stdout",
     "output_type": "stream",
     "text": [
      "Looking in indexes: https://pypi.org/simple, http://pypi.artifact.svc:8080/simple\n",
      "Requirement already satisfied: ase in /home/jovyan/.py39/lib/python3.9/site-packages (3.23.0)\n",
      "Requirement already satisfied: numpy>=1.18.5 in /home/jovyan/.py39/lib/python3.9/site-packages (from ase) (1.26.4)\n",
      "Requirement already satisfied: scipy>=1.6.0 in /home/jovyan/.py39/lib/python3.9/site-packages (from ase) (1.13.1)\n",
      "Requirement already satisfied: matplotlib>=3.3.4 in /home/jovyan/.py39/lib/python3.9/site-packages (from ase) (3.9.0)\n",
      "Requirement already satisfied: contourpy>=1.0.1 in /home/jovyan/.py39/lib/python3.9/site-packages (from matplotlib>=3.3.4->ase) (1.2.1)\n",
      "Requirement already satisfied: cycler>=0.10 in /home/jovyan/.py39/lib/python3.9/site-packages (from matplotlib>=3.3.4->ase) (0.12.1)\n",
      "Requirement already satisfied: fonttools>=4.22.0 in /home/jovyan/.py39/lib/python3.9/site-packages (from matplotlib>=3.3.4->ase) (4.53.0)\n",
      "Requirement already satisfied: kiwisolver>=1.3.1 in /home/jovyan/.py39/lib/python3.9/site-packages (from matplotlib>=3.3.4->ase) (1.4.5)\n",
      "Requirement already satisfied: packaging>=20.0 in /home/jovyan/.py39/lib/python3.9/site-packages (from matplotlib>=3.3.4->ase) (20.9)\n",
      "Requirement already satisfied: pillow>=8 in /home/jovyan/.py39/lib/python3.9/site-packages (from matplotlib>=3.3.4->ase) (10.4.0)\n",
      "Requirement already satisfied: pyparsing>=2.3.1 in /home/jovyan/.py39/lib/python3.9/site-packages (from matplotlib>=3.3.4->ase) (3.1.2)\n",
      "Requirement already satisfied: python-dateutil>=2.7 in /home/jovyan/.py39/lib/python3.9/site-packages (from matplotlib>=3.3.4->ase) (2.9.0.post0)\n",
      "Requirement already satisfied: importlib-resources>=3.2.0 in /home/jovyan/.py39/lib/python3.9/site-packages (from matplotlib>=3.3.4->ase) (6.4.0)\n",
      "Requirement already satisfied: zipp>=3.1.0 in /home/jovyan/.py39/lib/python3.9/site-packages (from importlib-resources>=3.2.0->matplotlib>=3.3.4->ase) (3.19.2)\n",
      "Requirement already satisfied: six>=1.5 in /home/jovyan/.py39/lib/python3.9/site-packages (from python-dateutil>=2.7->matplotlib>=3.3.4->ase) (1.16.0)\n",
      "\n",
      "\u001b[1m[\u001b[0m\u001b[34;49mnotice\u001b[0m\u001b[1;39;49m]\u001b[0m\u001b[39;49m A new release of pip is available: \u001b[0m\u001b[31;49m24.2\u001b[0m\u001b[39;49m -> \u001b[0m\u001b[32;49m24.3.1\u001b[0m\n",
      "\u001b[1m[\u001b[0m\u001b[34;49mnotice\u001b[0m\u001b[1;39;49m]\u001b[0m\u001b[39;49m To update, run: \u001b[0m\u001b[32;49mpip install --upgrade pip\u001b[0m\n"
     ]
    }
   ],
   "source": [
    "!pip install ase"
   ]
  },
  {
   "cell_type": "code",
   "execution_count": 2,
   "id": "a42b6da4-1f91-415f-88e6-f91642edfee9",
   "metadata": {
    "tags": []
   },
   "outputs": [],
   "source": [
    "import os\n",
    "\n",
    "from IPython.display import HTML, Image\n",
    "\n",
    "import matplotlib.pyplot as plt\n",
    "import matplotlib.image as mpimg\n",
    "from matplotlib.animation import FuncAnimation\n",
    "\n",
    "from ase import Atoms\n",
    "from ase.build import make_supercell\n",
    "from ase.io import write\n",
    "from ase.visualize import view\n",
    "\n",
    "os.makedirs(\"output\", exist_ok=True)\n",
    "\n",
    "def view_x3d(atoms, idx=0):\n",
    "    if isinstance(atoms[0], Atoms):\n",
    "        # Assume this is a trajectory or struct list\n",
    "        if (len(atoms) <= idx):\n",
    "                print(f\"The specified index exceeds the length of the trajectory. The length of the trajectory is {len(atoms)}.\")\n",
    "        return view(atoms[idx], viewer=\"x3d\")\n",
    "    else:\n",
    "        return view(atoms, viewer=\"x3d\")\n",
    "\n",
    "\n",
    "def view_ase_atoms(atoms, rotation=\"0x,0y,0z\", figsize=(4, 4), title=\"\", scale=100):\n",
    "    fig, ax = plt.subplots(figsize=figsize)\n",
    "    write(\"output/tmp.png\", atoms, rotation=rotation, scale=scale)\n",
    "    img = mpimg.imread('output/tmp.png')\n",
    "    ax.imshow(img)\n",
    "    ax.set_title(title)\n",
    "    ax.axis('off')\n",
    "    plt.show()\n",
    "    os.remove('output/tmp.png')\n",
    "    return\n",
    "\n",
    "def traj_to_apng(traj, rotation='30x,30y,30z'):\n",
    "    imgs = []\n",
    "    for atom in traj:\n",
    "        supercell = make_supercell(atom, [[1, 0, 0], [0, 1, 0], [0, 0, 1]])\n",
    "        write('output/tmp.png', supercell, rotation=rotation, show_unit_cell=2)\n",
    "        img = mpimg.imread('output/tmp.png')\n",
    "        imgs.append(img)\n",
    "    os.remove('output/tmp.png')\n",
    "\n",
    "    fig, ax = plt.subplots()\n",
    "\n",
    "    def update(frame):\n",
    "        img = imgs[frame]\n",
    "        ax.clear()\n",
    "        ax.imshow(img)\n",
    "        return []\n",
    "\n",
    "    ani = FuncAnimation(fig, update, frames=len(imgs), blit=True)\n",
    "    plt.close()\n",
    "    return HTML(ani.to_jshtml())"
   ]
  },
  {
   "cell_type": "code",
   "execution_count": 3,
   "id": "d704964f-0278-4dfa-bb79-d5ebb7d07339",
   "metadata": {},
   "outputs": [],
   "source": [
    "from ase.calculators.emt import EMT\n",
    "\n",
    "calculator = EMT()"
   ]
  },
  {
   "cell_type": "markdown",
   "id": "34a05678-8d56-4344-b36d-042876607b67",
   "metadata": {},
   "source": [
    "`E_mol`が水素分子のエネルギーで、構造最適化を行った後の安定構造のエネルギーを得る必要があります。<br/>\n",
    "`E_iso`が水素原子2つが孤立して存在する場合のエネルギーです。こちらは原子１つのため、どのような座標値でもエネルギーは変わらず、構造最適化を行う必要がありません。\n",
    "\n",
    "以下の計算において孤立原子Hは、Hが1つの場合を計算し2倍することでH 2つが孤立している場合のエネルギーを算出しています。"
   ]
  },
  {
   "cell_type": "code",
   "execution_count": 4,
   "id": "9cffe205-b0d9-4207-9132-6962d24e4ff5",
   "metadata": {},
   "outputs": [
    {
     "name": "stdout",
     "output_type": "stream",
     "text": [
      "       Step     Time          Energy          fmax\n",
      "LBFGS:    0 02:13:13        1.158863        4.461901\n",
      "LBFGS:    1 02:13:13        1.331933        5.415824\n",
      "LBFGS:    2 02:13:13        1.081151        1.322336\n",
      "LBFGS:    3 02:13:13        1.072702        0.634684\n",
      "LBFGS:    4 02:13:13        1.070550        0.040243\n",
      "E_molecule = 1.07 eV\n",
      "E_isolated = 6.42 eV\n"
     ]
    }
   ],
   "source": [
    "from ase import Atoms\n",
    "from ase.build import molecule\n",
    "from ase.optimize import LBFGS\n",
    "\n",
    "atoms_mol = molecule(\"H2\")\n",
    "atoms_mol.calc = calculator\n",
    "LBFGS(atoms_mol).run()\n",
    "E_mol = atoms_mol.get_potential_energy()\n",
    "print(f\"E_molecule = {E_mol:.2f} eV\")\n",
    "\n",
    "atoms_isolated = Atoms(\"H\")\n",
    "atoms_isolated.calc = calculator\n",
    "E_iso = atoms_isolated.get_potential_energy() * 2\n",
    "print(f\"E_isolated = {E_iso:.2f} eV\")"
   ]
  },
  {
   "cell_type": "code",
   "execution_count": 5,
   "id": "7619a130-488c-44bc-ba9d-17ebec76e931",
   "metadata": {},
   "outputs": [
    {
     "name": "stdout",
     "output_type": "stream",
     "text": [
      "E_binding  = -5.35 eV\n"
     ]
    }
   ],
   "source": [
    "E_bind = E_mol - E_iso\n",
    "\n",
    "print(f\"E_binding  = {E_bind:.2f} eV\")"
   ]
  },
  {
   "cell_type": "markdown",
   "id": "84dcfad8-ac06-48b6-8ddd-905456832269",
   "metadata": {},
   "source": [
    "上記の定義で計算を行うと結合エネルギーはマイナスの値となり、実際にHが2つ孤立しているよりも、水素分子として結合した場合のほうが安定であるということが確認できます。\n",
    "\n",
    "以下の参考文献では、H-Hの結合エネルギーは4.5eV と記載されており、今回の計算結果もあったものとなりました。※\n",
    "\n",
    " - https://websites.pmc.ucsc.edu/~fnimmo/website/binding_energies.pdf\n",
    "\n",
    "※: 結合エネルギーを始め、これから説明するエネルギーは基本安定であるときにマイナスの値となります。<br/>\n",
    "マイナスの値であることが自明な際、しばしば文献上では絶対値をとったプラスの値で表示されることがあります。\n",
    "\n",
    "\n",
    "### エネルギーは絶対値ではなく、差を見るのが重要\n",
    "\n",
    "各元素のエネルギーの基準値をどこに取るかは任意性があり、ポテンシャルエネルギーの計算手法ごとに異なります。<br/>\n",
    "本章で見ていく各種エネルギーは、**元素とその数をあわせた場合のエネルギー差**しか意味がないことに注意してください。\n",
    "\n",
    "例えばH$_2$分子とH原子一つのエネルギー差を直接比較することはできません。<br/>\n",
    "また、元素を置換した場合(たとえばH2とHO)もエネルギーの比較はできないので注意してください。"
   ]
  },
  {
   "cell_type": "markdown",
   "id": "af92fb27-454b-44ed-83ab-c558b5de20c6",
   "metadata": {},
   "source": [
    "## 凝集エネルギー - Cohesive energy\n",
    "\n",
    "次に結晶の凝集エネルギーを見てみましょう。\n",
    "\n",
    "これは、ある原子が孤立してある状態(isolated)から、凝集して結晶(solid)を作った際に下がるエネルギー差として定義されています。\n",
    "\n",
    "$$E_{\\rm{coh}} = E_{\\rm{bulk}} - E_{\\rm{isolated}}$$\n",
    "\n",
    "$N$個の原子からなる結晶と孤立状態からなる系で $E_{\\rm{coh}}$ を計算した場合、１原子あたりの凝集エネルギーは $E_{\\rm{coh}}/N$ となります。\n",
    "\n",
    "例えば、Au元素における凝集エネルギーを計算してみましょう。<br/>\n",
    "以下では、`au_iso`として孤立したAu 1元素を用意し、`au_bulk` として結晶状態のAu 1原子あたりのエネルギーをそれぞれ求めています。\n",
    "\n",
    "有限温度では `get_total_energy` は運動エネルギーも含みますが、今は運動エネルギーを設定せずに0としており、これは 0K での凝集エネルギーを求めていることに相当します。"
   ]
  },
  {
   "cell_type": "code",
   "execution_count": 6,
   "id": "4f583a58-f431-461a-8b62-071a8c6301a6",
   "metadata": {},
   "outputs": [
    {
     "name": "stdout",
     "output_type": "stream",
     "text": [
      "       Step     Time          Energy          fmax\n",
      "LBFGS:    0 02:13:13        0.002606        0.534960\n",
      "LBFGS:    1 02:13:13        0.000032        0.134173\n",
      "LBFGS:    2 02:13:13       -0.000135        0.004508\n"
     ]
    },
    {
     "name": "stderr",
     "output_type": "stream",
     "text": [
      "/tmp/ipykernel_67318/3032443136.py:14: FutureWarning: Import StrainFilter from ase.filters\n",
      "  au_bulk_strain = StrainFilter(au_bulk)\n"
     ]
    }
   ],
   "source": [
    "from ase import Atoms\n",
    "from ase.build import bulk\n",
    "from ase.constraints import ExpCellFilter, StrainFilter\n",
    "from ase.optimize import LBFGS\n",
    "\n",
    "symbol = \"Au\"\n",
    "au_iso = Atoms(symbol)\n",
    "au_bulk = bulk(symbol)\n",
    "\n",
    "au_iso.calc = calculator\n",
    "E_iso = au_iso.get_total_energy()\n",
    "\n",
    "au_bulk.calc = calculator\n",
    "au_bulk_strain = StrainFilter(au_bulk)\n",
    "opt = LBFGS(au_bulk_strain)\n",
    "opt.run()\n",
    "E_bulk = au_bulk.get_total_energy()"
   ]
  },
  {
   "cell_type": "code",
   "execution_count": 7,
   "id": "b8bb9472-7b30-497f-8ea3-4dd5966ff18e",
   "metadata": {},
   "outputs": [
    {
     "name": "stdout",
     "output_type": "stream",
     "text": [
      "E_bulk     = -0.00 eV\n",
      "E_isolated = 3.80 eV\n",
      "E_coh      = -3.80 eV\n"
     ]
    }
   ],
   "source": [
    "E_coh = E_bulk - E_iso\n",
    "\n",
    "print(f\"E_bulk     = {E_bulk:.2f} eV\")\n",
    "print(f\"E_isolated = {E_iso:.2f} eV\")\n",
    "print(f\"E_coh      = {E_coh:.2f} eV\")"
   ]
  },
  {
   "cell_type": "markdown",
   "id": "25995175-0cb8-4394-b6fb-33a934cc072a",
   "metadata": {},
   "source": [
    "この例では、`E_coh = -2.99` eV/atom として凝集エネルギーが得られました。凝集エネルギーは1原子あたりの値として eV/atom で表すことが多いです。\n",
    "\n",
    "凝集エネルギーがマイナスの値になることは、原子がそれぞれ単独で存在するよりも凝集して結晶となったほうが安定であるということを示しています。"
   ]
  },
  {
   "cell_type": "markdown",
   "id": "8cf4c4a6-3bcc-4f33-b544-c7b854313920",
   "metadata": {},
   "source": [
    "BulkおよびIsolated atomsの可視化は以下のようになります。\n",
    "\n",
    "どちらも同じ1原子ですが、Isolatedは周期境界がなく完全に孤立した原子で、Bulkは周期境界があり結晶として無限に続いた系を表しています。"
   ]
  },
  {
   "cell_type": "code",
   "execution_count": 8,
   "id": "6fe385ac-50c8-44db-90b9-c9648ee30d2c",
   "metadata": {
    "tags": []
   },
   "outputs": [],
   "source": [
    "from ase.io import write\n",
    "from IPython.display import Image\n",
    "\n",
    "write(\"output/au_iso.png\", au_iso, rotation=\"0x,0y,0z\")\n",
    "write(\"output/au_bulk.png\", au_bulk, rotation=\"0x,0y,0z\")"
   ]
  },
  {
   "cell_type": "code",
   "execution_count": 9,
   "id": "96f9e934-3d5b-4834-8279-64a8f6665728",
   "metadata": {},
   "outputs": [
    {
     "data": {
      "image/png": "[encoded data removed]",
      "text/plain": [
       "<Figure size 600x300 with 2 Axes>"
      ]
     },
     "metadata": {},
     "output_type": "display_data"
    }
   ],
   "source": [
    "import matplotlib.pyplot as plt\n",
    "import matplotlib.image as mpimg\n",
    "\n",
    "\n",
    "fig, axes = plt.subplots(1, 2, figsize=(6, 3))\n",
    "ax0, ax1 = axes\n",
    "ax0.imshow(mpimg.imread(\"output/au_iso.png\"))\n",
    "ax0.set_axis_off()\n",
    "ax0.set_title(\"Isolated\")\n",
    "ax1.imshow(mpimg.imread(\"output/au_bulk.png\"))\n",
    "ax1.set_axis_off()\n",
    "ax1.set_title(\"Bulk\")\n",
    "fig.show()"
   ]
  },
  {
   "cell_type": "code",
   "execution_count": 10,
   "id": "e1abf5b7-f9c2-4ac2-9837-0b994af2d934",
   "metadata": {},
   "outputs": [
    {
     "data": {
      "text/html": [
       "<html>\n",
       "    <head>\n",
       "        <title>ASE atomic visualization</title>\n",
       "        <link rel=\"stylesheet\" type=\"text/css\"             href=\"https://www.x3dom.org/release/x3dom.css\"></link>\n",
       "        <script type=\"text/javascript\"             src=\"https://www.x3dom.org/release/x3dom.js\"></script>\n",
       "    </head>\n",
       "    <body>\n",
       "        <X3D width=\"400px\"; height=\"300px\";>\n",
       "\n",
       "<!--Inserting Generated X3D Scene-->\n",
       "<scene>\n",
       "  <viewpoint position=\"0 0 4.055971276515282\">\n",
       "    <group/>\n",
       "  </viewpoint>\n",
       "  <transform translation=\"-1.4343283847959468e-17 3.3977199121766973e-18 -1.0066186489224364e-17\">\n",
       "    <group>\n",
       "      <group>\n",
       "        <transform translation=\"0 0 0\">\n",
       "          <shape>\n",
       "            <appearance>\n",
       "              <material diffuseColor=\"0 0 0\"/>\n",
       "            </appearance>\n",
       "            <lineset vertexCount=\"5\">\n",
       "              <coordinate point=\"0 0 0 2.8686567695918936e-17 2.027985638257641 2.0279856382576407 2.0279856382576407 2.027985638257641 4.055971276515281 2.0279856382576407 -6.795439824353395e-18 2.027985638257641 0 0 0\"/>\n",
       "            </lineset>\n",
       "          </shape>\n",
       "        </transform>\n",
       "        <transform translation=\"2.0279856382576407 2.027985638257641 2.013237297844873e-17\">\n",
       "          <shape>\n",
       "            <appearance>\n",
       "              <material diffuseColor=\"0 0 0\"/>\n",
       "            </appearance>\n",
       "            <lineset vertexCount=\"5\">\n",
       "              <coordinate point=\"0 0 0 2.8686567695918936e-17 2.027985638257641 2.0279856382576407 2.0279856382576407 2.027985638257641 4.055971276515281 2.0279856382576407 -6.795439824353395e-18 2.027985638257641 0 0 0\"/>\n",
       "            </lineset>\n",
       "          </shape>\n",
       "        </transform>\n",
       "        <transform translation=\"0 0 0\">\n",
       "          <shape>\n",
       "            <appearance>\n",
       "              <material diffuseColor=\"0 0 0\"/>\n",
       "            </appearance>\n",
       "            <lineset vertexCount=\"5\">\n",
       "              <coordinate point=\"0 0 0 2.8686567695918936e-17 2.027985638257641 2.0279856382576407 2.0279856382576407 4.055971276515282 2.0279856382576407 2.0279856382576407 2.027985638257641 2.013237297844873e-17 0 0 0\"/>\n",
       "            </lineset>\n",
       "          </shape>\n",
       "        </transform>\n",
       "        <transform translation=\"2.0279856382576407 -6.795439824353395e-18 2.027985638257641\">\n",
       "          <shape>\n",
       "            <appearance>\n",
       "              <material diffuseColor=\"0 0 0\"/>\n",
       "            </appearance>\n",
       "            <lineset vertexCount=\"5\">\n",
       "              <coordinate point=\"0 0 0 2.8686567695918936e-17 2.027985638257641 2.0279856382576407 2.0279856382576407 4.055971276515282 2.0279856382576407 2.0279856382576407 2.027985638257641 2.013237297844873e-17 0 0 0\"/>\n",
       "            </lineset>\n",
       "          </shape>\n",
       "        </transform>\n",
       "      </group>\n",
       "      <group>\n",
       "        <transform translation=\"0.0 0.0 0.0\">\n",
       "          <shape>\n",
       "            <appearance>\n",
       "              <material diffuseColor=\"1.0 0.82 0.137\"/>\n",
       "            </appearance>\n",
       "            <sphere radius=\"1.36\"/>\n",
       "          </shape>\n",
       "        </transform>\n",
       "      </group>\n",
       "    </group>\n",
       "  </transform>\n",
       "</scene>\n",
       "<!--End of Inserted Scene-->\n",
       "\n",
       "        </X3D>\n",
       "    </body>\n",
       "</html>\n",
       "\n"
      ],
      "text/plain": [
       "<IPython.core.display.HTML object>"
      ]
     },
     "execution_count": 10,
     "metadata": {},
     "output_type": "execute_result"
    }
   ],
   "source": [
    "view_x3d(au_bulk)"
   ]
  },
  {
   "cell_type": "markdown",
   "id": "e824e4b4-fd92-4105-9eb0-6ffa292402b4",
   "metadata": {},
   "source": [
    "上記の計算を様々な元素に対して実行してみます。"
   ]
  },
  {
   "cell_type": "code",
   "execution_count": 11,
   "id": "299f0d58-8023-4f86-8862-3c7f6ef24a54",
   "metadata": {},
   "outputs": [],
   "source": [
    "def calc_cohesive_energy(symbol, calculator):\n",
    "    atoms_iso = Atoms(symbol)\n",
    "    atoms_bulk = bulk(symbol)\n",
    "\n",
    "    atoms_iso.calc = calculator\n",
    "    E_iso = atoms_iso.get_total_energy() / len(atoms_iso)\n",
    "\n",
    "    atoms_bulk.calc = calculator\n",
    "    atoms_bulk_strain = StrainFilter(atoms_bulk)\n",
    "    opt = LBFGS(atoms_bulk_strain, logfile=None)\n",
    "    opt.run()\n",
    "    E_bulk = atoms_bulk.get_total_energy() / len(atoms_bulk)\n",
    "    E_coh = E_bulk - E_iso\n",
    "    print(f\"{symbol}: E_bulk {E_bulk:.2f} - E_iso {E_iso:.2f} = E_coh {E_coh:.2f} eV/atom\")\n",
    "    return E_bulk, E_iso, E_coh"
   ]
  },
  {
   "cell_type": "code",
   "execution_count": 12,
   "id": "17055e03-24fb-4b45-9e94-917c224c5b11",
   "metadata": {},
   "outputs": [
    {
     "name": "stdout",
     "output_type": "stream",
     "text": [
      "Ni: E_bulk -0.01 - E_iso 4.44 = E_coh -4.45 eV/atom\n",
      "Cu: E_bulk -0.01 - E_iso 3.51 = E_coh -3.52 eV/atom\n",
      "Pt: E_bulk -0.00 - E_iso 5.85 = E_coh -5.85 eV/atom\n",
      "Au: E_bulk -0.00 - E_iso 3.80 = E_coh -3.80 eV/atom\n"
     ]
    },
    {
     "name": "stderr",
     "output_type": "stream",
     "text": [
      "/tmp/ipykernel_67318/2154290698.py:9: FutureWarning: Import StrainFilter from ase.filters\n",
      "  atoms_bulk_strain = StrainFilter(atoms_bulk)\n"
     ]
    }
   ],
   "source": [
    "for symbol in [\"Ni\", \"Cu\", \"Pt\", \"Au\"]:\n",
    "    calc_cohesive_energy(symbol, calculator)"
   ]
  },
  {
   "cell_type": "markdown",
   "id": "effb8579-bb05-4997-90a2-9760996fee34",
   "metadata": {},
   "source": [
    "文献 \"[Bulk Properties of Transition Metals: A Challenge for the Design of Universal Density Functionals](https://pubs.acs.org/doi/10.1021/ct500532v)\" のTable 2. に各元素における凝集エネルギーのDFT計算値や実験値が収録されています。\n",
    "\n",
    "PBE/GGAと比べてみてみると、近い値になっていることがわかります。"
   ]
  },
  {
   "cell_type": "markdown",
   "id": "9c443f5a-cf26-42b4-81a6-00978cf61b9e",
   "metadata": {},
   "source": [
    "凝集エネルギーは単元素だけではなく、複数元素からなる系でも定義されます。\n"
   ]
  },
  {
   "cell_type": "markdown",
   "id": "bbd47e9d-fd4d-4c6f-84fe-0e3bcdf48d3b",
   "metadata": {},
   "source": [
    "## 空孔生成エネルギー - Vacancy formation energy\n",
    "\n",
    "結晶に欠陥がある系のエネルギーとして、空孔生成エネルギーは以下のように定義されます。\n",
    "\n",
    "$$E_{\\rm{V}} = E_{\\rm{defect}} - E_{\\rm{bulk}} \\cdot N_{\\rm{defect}} / N_{\\rm{bulk}}$$\n",
    "\n",
    "ここで、欠陥がある系の原子数を$N_{\\rm{defect}}$, エネルギーを$E_{\\rm{defect}}$、結晶系の原子数を$N_{\\rm{bulk}}$, エネルギーを$E_{\\rm{bulk}}$としています。\n",
    "\n",
    "\n",
    "実例で、Al結晶における空孔生成エネルギーを計算してみましょう。\n",
    "\n",
    "原子空孔がある系を作る際は、理想的には無限につづく結晶から原子を１つ取り除くのですが、実際には無限に大きい結晶は計算できないので十分に大きいサイズの結晶を作り、そこから原子を抜く形で欠陥構造を生成します。\n",
    "\n",
    "以下では `size=(5, 5, 5)` のように、Unit cellを繰り返して大きくした **スーパーセル** を作成し、そこから原子を１つ取り除くことで欠陥構造を作成しています。<br/>\n",
    "欠陥構造は、とても大きな結晶に対して、ごく一部のみで欠陥が発生している場合を想定する(欠陥が疎な構造)ため、\n",
    "スーパーセルのサイズは大きくしたほうがより適切なモデリングとなりますが、一方で大きくしすぎると計算時間がかかってしまうため、適切な大きさを選択する必要があります。\n",
    "\n",
    "欠陥構造作成後は、欠陥の影響によりエネルギーが極小になる構造は結晶配置からは少し変わると考えられるため、再度構造最適化を行います。<br/>\n",
    "ただし、結晶に対して欠陥が1つある程度では格子定数は変わらないと考えられるため、欠陥構造を作成する際は構造最適化された結晶構造の格子定数から変わらないようにします。"
   ]
  },
  {
   "cell_type": "code",
   "execution_count": 13,
   "id": "bb9b87eb-0fef-40b9-9419-969152f88372",
   "metadata": {},
   "outputs": [
    {
     "name": "stderr",
     "output_type": "stream",
     "text": [
      "/tmp/ipykernel_67318/1363110420.py:7: FutureWarning: Import ExpCellFilter from ase.filters\n",
      "  atoms_bulk_strain = ExpCellFilter(atoms_bulk)\n"
     ]
    },
    {
     "name": "stdout",
     "output_type": "stream",
     "text": [
      "       Step     Time          Energy          fmax\n",
      "LBFGS:    0 02:13:13       -0.187756       20.224221\n",
      "LBFGS:    1 02:13:14       91.915880      315.229536\n",
      "LBFGS:    2 02:13:14       -0.603741        2.549034\n",
      "LBFGS:    3 02:13:14       -0.610250        0.291251\n",
      "LBFGS:    4 02:13:14       -0.610336        0.000606\n",
      "       Step     Time          Energy          fmax\n",
      "LBFGS:    0 02:13:14        0.370939        0.103834\n",
      "LBFGS:    1 02:13:14        0.368671        0.098028\n",
      "LBFGS:    2 02:13:14        0.350883        0.024111\n"
     ]
    }
   ],
   "source": [
    "symbol = \"Al\"\n",
    "size = (5, 5, 5)\n",
    "\n",
    "atoms_bulk = bulk(symbol) * size\n",
    "\n",
    "atoms_bulk.calc = calculator\n",
    "atoms_bulk_strain = ExpCellFilter(atoms_bulk)\n",
    "opt = LBFGS(atoms_bulk_strain)\n",
    "opt.run()\n",
    "E_bulk = atoms_bulk.get_total_energy()\n",
    "\n",
    "atoms_defect = atoms_bulk.copy()\n",
    "# Create defect by removing 0-th atom\n",
    "del atoms_defect[0]\n",
    "\n",
    "atoms_defect.calc = calculator\n",
    "opt = LBFGS(atoms_defect)\n",
    "opt.run()\n",
    "E_defect = atoms_defect.get_total_energy()\n",
    "E_v = E_defect - E_bulk * len(atoms_defect) / len(atoms_bulk)"
   ]
  },
  {
   "cell_type": "markdown",
   "id": "1f835914-4571-4bde-9e9e-28eaaef6b146",
   "metadata": {},
   "source": [
    "結果として、以下のように空孔生成エネルギーが得られます。"
   ]
  },
  {
   "cell_type": "code",
   "execution_count": 14,
   "id": "011d1aeb-7fda-4883-911f-f4a194f8235b",
   "metadata": {},
   "outputs": [
    {
     "name": "stdout",
     "output_type": "stream",
     "text": [
      "E_bulk  : -0.61 eV\n",
      "E_defect: 0.35 eV\n",
      "E_v     : 0.96 eV\n"
     ]
    }
   ],
   "source": [
    "E_v = E_defect - E_bulk * len(atoms_defect) / len(atoms_bulk)\n",
    "print(f\"E_bulk  : {E_bulk:.2f} eV\")\n",
    "print(f\"E_defect: {E_defect:.2f} eV\")\n",
    "print(f\"E_v     : {E_v:.2f} eV\")"
   ]
  },
  {
   "cell_type": "code",
   "execution_count": 15,
   "id": "0c6962f4-03fe-41c3-90c9-603322cef1d0",
   "metadata": {},
   "outputs": [
    {
     "data": {
      "text/html": [
       "<html>\n",
       "    <head>\n",
       "        <title>ASE atomic visualization</title>\n",
       "        <link rel=\"stylesheet\" type=\"text/css\"             href=\"https://www.x3dom.org/release/x3dom.css\"></link>\n",
       "        <script type=\"text/javascript\"             src=\"https://www.x3dom.org/release/x3dom.js\"></script>\n",
       "    </head>\n",
       "    <body>\n",
       "        <X3D width=\"400px\"; height=\"300px\";>\n",
       "\n",
       "<!--Inserting Generated X3D Scene-->\n",
       "<scene>\n",
       "  <viewpoint position=\"0 0 31.954043441181426\">\n",
       "    <group/>\n",
       "  </viewpoint>\n",
       "  <transform translation=\"-4.279111632028118e-14 -9.580949808097126e-14 -1.605998191868688e-14\">\n",
       "    <group>\n",
       "      <group>\n",
       "        <transform translation=\"0 0 0\">\n",
       "          <shape>\n",
       "            <appearance>\n",
       "              <material diffuseColor=\"0 0 0\"/>\n",
       "            </appearance>\n",
       "            <lineset vertexCount=\"5\">\n",
       "              <coordinate point=\"0 0 0 8.558223264056236e-14 9.985681365484712 9.985681365484645 9.985681365484677 9.985681365484904 19.971362730969183 9.985681365484592 1.9161899616194252e-13 9.985681365484538 0 0 0\"/>\n",
       "            </lineset>\n",
       "          </shape>\n",
       "        </transform>\n",
       "        <transform translation=\"9.985681365484751 9.98568136548477 3.211996383737376e-14\">\n",
       "          <shape>\n",
       "            <appearance>\n",
       "              <material diffuseColor=\"0 0 0\"/>\n",
       "            </appearance>\n",
       "            <lineset vertexCount=\"5\">\n",
       "              <coordinate point=\"0 0 0 8.558223264056236e-14 9.985681365484712 9.985681365484645 9.985681365484677 9.985681365484904 19.971362730969183 9.985681365484592 1.9161899616194252e-13 9.985681365484538 0 0 0\"/>\n",
       "            </lineset>\n",
       "          </shape>\n",
       "        </transform>\n",
       "        <transform translation=\"0 0 0\">\n",
       "          <shape>\n",
       "            <appearance>\n",
       "              <material diffuseColor=\"0 0 0\"/>\n",
       "            </appearance>\n",
       "            <lineset vertexCount=\"5\">\n",
       "              <coordinate point=\"0 0 0 8.558223264056236e-14 9.985681365484712 9.985681365484645 9.985681365484837 19.97136273096948 9.985681365484677 9.985681365484751 9.98568136548477 3.211996383737376e-14 0 0 0\"/>\n",
       "            </lineset>\n",
       "          </shape>\n",
       "        </transform>\n",
       "        <transform translation=\"9.985681365484592 1.9161899616194252e-13 9.985681365484538\">\n",
       "          <shape>\n",
       "            <appearance>\n",
       "              <material diffuseColor=\"0 0 0\"/>\n",
       "            </appearance>\n",
       "            <lineset vertexCount=\"5\">\n",
       "              <coordinate point=\"0 0 0 8.558223264056236e-14 9.985681365484712 9.985681365484645 9.985681365484837 19.97136273096948 9.985681365484677 9.985681365484751 9.98568136548477 3.211996383737376e-14 0 0 0\"/>\n",
       "            </lineset>\n",
       "          </shape>\n",
       "        </transform>\n",
       "      </group>\n",
       "      <group>\n",
       "        <transform translation=\"1.979127340836367 1.9791273408363725 6.713470816140153e-15\">\n",
       "          <shape>\n",
       "            <appearance>\n",
       "              <material diffuseColor=\"0.749 0.651 0.651\"/>\n",
       "            </appearance>\n",
       "            <sphere radius=\"1.21\"/>\n",
       "          </shape>\n",
       "        </transform>\n",
       "        <transform translation=\"3.994107092665726 3.994107092665734 1.2368169705623712e-14\">\n",
       "          <shape>\n",
       "            <appearance>\n",
       "              <material diffuseColor=\"0.749 0.651 0.651\"/>\n",
       "            </appearance>\n",
       "            <sphere radius=\"1.21\"/>\n",
       "          </shape>\n",
       "        </transform>\n",
       "        <transform translation=\"5.991574272819021 5.991574272819029 1.8495813829240492e-14\">\n",
       "          <shape>\n",
       "            <appearance>\n",
       "              <material diffuseColor=\"0.749 0.651 0.651\"/>\n",
       "            </appearance>\n",
       "            <sphere radius=\"1.21\"/>\n",
       "          </shape>\n",
       "        </transform>\n",
       "        <transform translation=\"8.00655402464839 8.006554024648402 2.6907710829651613e-14\">\n",
       "          <shape>\n",
       "            <appearance>\n",
       "              <material diffuseColor=\"0.749 0.651 0.651\"/>\n",
       "            </appearance>\n",
       "            <sphere radius=\"1.21\"/>\n",
       "          </shape>\n",
       "        </transform>\n",
       "        <transform translation=\"1.9791273408363275 3.9692470489831715e-14 1.979127340836313\">\n",
       "          <shape>\n",
       "            <appearance>\n",
       "              <material diffuseColor=\"0.749 0.651 0.651\"/>\n",
       "            </appearance>\n",
       "            <sphere radius=\"1.21\"/>\n",
       "          </shape>\n",
       "        </transform>\n",
       "        <transform translation=\"3.9975213143465806 1.9987883937350486 1.9987883937349726\">\n",
       "          <shape>\n",
       "            <appearance>\n",
       "              <material diffuseColor=\"0.749 0.651 0.651\"/>\n",
       "            </appearance>\n",
       "            <sphere radius=\"1.21\"/>\n",
       "          </shape>\n",
       "        </transform>\n",
       "        <transform translation=\"5.991413696513627 3.9942676689711343 1.9971460729200696\">\n",
       "          <shape>\n",
       "            <appearance>\n",
       "              <material diffuseColor=\"0.749 0.651 0.651\"/>\n",
       "            </appearance>\n",
       "            <sphere radius=\"1.21\"/>\n",
       "          </shape>\n",
       "        </transform>\n",
       "        <transform translation=\"7.986892971749718 5.988160051138194 1.9987883937349828\">\n",
       "          <shape>\n",
       "            <appearance>\n",
       "              <material diffuseColor=\"0.749 0.651 0.651\"/>\n",
       "            </appearance>\n",
       "            <sphere radius=\"1.21\"/>\n",
       "          </shape>\n",
       "        </transform>\n",
       "        <transform translation=\"9.985681365484723 8.006554024648441 1.9791273408363408\">\n",
       "          <shape>\n",
       "            <appearance>\n",
       "              <material diffuseColor=\"0.749 0.651 0.651\"/>\n",
       "            </appearance>\n",
       "            <sphere radius=\"1.21\"/>\n",
       "          </shape>\n",
       "        </transform>\n",
       "        <transform translation=\"3.994107092665661 7.720110895876875e-14 3.9941070926656397\">\n",
       "          <shape>\n",
       "            <appearance>\n",
       "              <material diffuseColor=\"0.749 0.651 0.651\"/>\n",
       "            </appearance>\n",
       "            <sphere radius=\"1.21\"/>\n",
       "          </shape>\n",
       "        </transform>\n",
       "        <transform translation=\"5.991413696513592 1.9971460729201786 3.9942676689710104\">\n",
       "          <shape>\n",
       "            <appearance>\n",
       "              <material diffuseColor=\"0.749 0.651 0.651\"/>\n",
       "            </appearance>\n",
       "            <sphere radius=\"1.21\"/>\n",
       "          </shape>\n",
       "        </transform>\n",
       "        <transform translation=\"7.988535292564587 3.9942676689711707 3.9942676689710144\">\n",
       "          <shape>\n",
       "            <appearance>\n",
       "              <material diffuseColor=\"0.749 0.651 0.651\"/>\n",
       "            </appearance>\n",
       "            <sphere radius=\"1.21\"/>\n",
       "          </shape>\n",
       "        </transform>\n",
       "        <transform translation=\"9.985681365484691 5.99157427281912 3.994107092665658\">\n",
       "          <shape>\n",
       "            <appearance>\n",
       "              <material diffuseColor=\"0.749 0.651 0.651\"/>\n",
       "            </appearance>\n",
       "            <sphere radius=\"1.21\"/>\n",
       "          </shape>\n",
       "        </transform>\n",
       "        <transform translation=\"11.984469759219682 7.986892971749836 3.997521314346551\">\n",
       "          <shape>\n",
       "            <appearance>\n",
       "              <material diffuseColor=\"0.749 0.651 0.651\"/>\n",
       "            </appearance>\n",
       "            <sphere radius=\"1.21\"/>\n",
       "          </shape>\n",
       "        </transform>\n",
       "        <transform translation=\"5.991574272818927 1.1521813602268647e-13 5.991574272818892\">\n",
       "          <shape>\n",
       "            <appearance>\n",
       "              <material diffuseColor=\"0.749 0.651 0.651\"/>\n",
       "            </appearance>\n",
       "            <sphere radius=\"1.21\"/>\n",
       "          </shape>\n",
       "        </transform>\n",
       "        <transform translation=\"7.986892971749652 1.9987883937351278 5.988160051138011\">\n",
       "          <shape>\n",
       "            <appearance>\n",
       "              <material diffuseColor=\"0.749 0.651 0.651\"/>\n",
       "            </appearance>\n",
       "            <sphere radius=\"1.21\"/>\n",
       "          </shape>\n",
       "        </transform>\n",
       "        <transform translation=\"9.985681365484659 3.9941070926658457 5.991574272818904\">\n",
       "          <shape>\n",
       "            <appearance>\n",
       "              <material diffuseColor=\"0.749 0.651 0.651\"/>\n",
       "            </appearance>\n",
       "            <sphere radius=\"1.21\"/>\n",
       "          </shape>\n",
       "        </transform>\n",
       "        <transform translation=\"11.982827438404748 5.991413696513781 5.991413696513547\">\n",
       "          <shape>\n",
       "            <appearance>\n",
       "              <material diffuseColor=\"0.749 0.651 0.651\"/>\n",
       "            </appearance>\n",
       "            <sphere radius=\"1.21\"/>\n",
       "          </shape>\n",
       "        </transform>\n",
       "        <transform translation=\"13.979949034455753 7.988535292564787 5.991413696513553\">\n",
       "          <shape>\n",
       "            <appearance>\n",
       "              <material diffuseColor=\"0.749 0.651 0.651\"/>\n",
       "            </appearance>\n",
       "            <sphere radius=\"1.21\"/>\n",
       "          </shape>\n",
       "        </transform>\n",
       "        <transform translation=\"8.006554024648262 1.554321786474443e-13 8.006554024648219\">\n",
       "          <shape>\n",
       "            <appearance>\n",
       "              <material diffuseColor=\"0.749 0.651 0.651\"/>\n",
       "            </appearance>\n",
       "            <sphere radius=\"1.21\"/>\n",
       "          </shape>\n",
       "        </transform>\n",
       "        <transform translation=\"9.985681365484623 1.9791273408365135 8.006554024648237\">\n",
       "          <shape>\n",
       "            <appearance>\n",
       "              <material diffuseColor=\"0.749 0.651 0.651\"/>\n",
       "            </appearance>\n",
       "            <sphere radius=\"1.21\"/>\n",
       "          </shape>\n",
       "        </transform>\n",
       "        <transform translation=\"11.984469759219644 3.997521314346771 7.9868929717495885\">\n",
       "          <shape>\n",
       "            <appearance>\n",
       "              <material diffuseColor=\"0.749 0.651 0.651\"/>\n",
       "            </appearance>\n",
       "            <sphere radius=\"1.21\"/>\n",
       "          </shape>\n",
       "        </transform>\n",
       "        <transform translation=\"13.979949034455718 5.9914136965138205 7.988535292564507\">\n",
       "          <shape>\n",
       "            <appearance>\n",
       "              <material diffuseColor=\"0.749 0.651 0.651\"/>\n",
       "            </appearance>\n",
       "            <sphere radius=\"1.21\"/>\n",
       "          </shape>\n",
       "        </transform>\n",
       "        <transform translation=\"15.973841416622774 7.986892971749912 7.9868929717496\">\n",
       "          <shape>\n",
       "            <appearance>\n",
       "              <material diffuseColor=\"0.749 0.651 0.651\"/>\n",
       "            </appearance>\n",
       "            <sphere radius=\"1.21\"/>\n",
       "          </shape>\n",
       "        </transform>\n",
       "        <transform translation=\"1.965072093406695e-14 1.9791273408363572 1.9791273408363423\">\n",
       "          <shape>\n",
       "            <appearance>\n",
       "              <material diffuseColor=\"0.749 0.651 0.651\"/>\n",
       "            </appearance>\n",
       "            <sphere radius=\"1.21\"/>\n",
       "          </shape>\n",
       "        </transform>\n",
       "        <transform translation=\"1.998788393735026 3.9975213143466064 1.9987883937349937\">\n",
       "          <shape>\n",
       "            <appearance>\n",
       "              <material diffuseColor=\"0.749 0.651 0.651\"/>\n",
       "            </appearance>\n",
       "            <sphere radius=\"1.21\"/>\n",
       "          </shape>\n",
       "        </transform>\n",
       "        <transform translation=\"3.9942676689711067 5.991413696513654 1.9971460729200878\">\n",
       "          <shape>\n",
       "            <appearance>\n",
       "              <material diffuseColor=\"0.749 0.651 0.651\"/>\n",
       "            </appearance>\n",
       "            <sphere radius=\"1.21\"/>\n",
       "          </shape>\n",
       "        </transform>\n",
       "        <transform translation=\"5.988160051138165 7.986892971749749 1.9987883937350048\">\n",
       "          <shape>\n",
       "            <appearance>\n",
       "              <material diffuseColor=\"0.749 0.651 0.651\"/>\n",
       "            </appearance>\n",
       "            <sphere radius=\"1.21\"/>\n",
       "          </shape>\n",
       "        </transform>\n",
       "        <transform translation=\"8.006554024648409 9.98568136548476 1.9791273408363652\">\n",
       "          <shape>\n",
       "            <appearance>\n",
       "              <material diffuseColor=\"0.749 0.651 0.651\"/>\n",
       "            </appearance>\n",
       "            <sphere radius=\"1.21\"/>\n",
       "          </shape>\n",
       "        </transform>\n",
       "        <transform translation=\"1.9987883937349944 1.99878839373504 3.9975213143465487\">\n",
       "          <shape>\n",
       "            <appearance>\n",
       "              <material diffuseColor=\"0.749 0.651 0.651\"/>\n",
       "            </appearance>\n",
       "            <sphere radius=\"1.21\"/>\n",
       "          </shape>\n",
       "        </transform>\n",
       "        <transform translation=\"3.994341010378859 3.994341010378904 3.994341010378815\">\n",
       "          <shape>\n",
       "            <appearance>\n",
       "              <material diffuseColor=\"0.749 0.651 0.651\"/>\n",
       "            </appearance>\n",
       "            <sphere radius=\"1.21\"/>\n",
       "          </shape>\n",
       "        </transform>\n",
       "        <transform translation=\"5.991340355105862 5.991340355105912 3.9943410103788226\">\n",
       "          <shape>\n",
       "            <appearance>\n",
       "              <material diffuseColor=\"0.749 0.651 0.651\"/>\n",
       "            </appearance>\n",
       "            <sphere radius=\"1.21\"/>\n",
       "          </shape>\n",
       "        </transform>\n",
       "        <transform translation=\"7.986892971749733 7.986892971749788 3.997521314346565\">\n",
       "          <shape>\n",
       "            <appearance>\n",
       "              <material diffuseColor=\"0.749 0.651 0.651\"/>\n",
       "            </appearance>\n",
       "            <sphere radius=\"1.21\"/>\n",
       "          </shape>\n",
       "        </transform>\n",
       "        <transform translation=\"9.98568136548474 9.985681365484798 4.010690108468736\">\n",
       "          <shape>\n",
       "            <appearance>\n",
       "              <material diffuseColor=\"0.749 0.651 0.651\"/>\n",
       "            </appearance>\n",
       "            <sphere radius=\"1.21\"/>\n",
       "          </shape>\n",
       "        </transform>\n",
       "        <transform translation=\"3.994267668971048 1.9971460729201702 5.9914136965135505\">\n",
       "          <shape>\n",
       "            <appearance>\n",
       "              <material diffuseColor=\"0.749 0.651 0.651\"/>\n",
       "            </appearance>\n",
       "            <sphere radius=\"1.21\"/>\n",
       "          </shape>\n",
       "        </transform>\n",
       "        <transform translation=\"5.99134035510583 3.994341010378948 5.991340355105778\">\n",
       "          <shape>\n",
       "            <appearance>\n",
       "              <material diffuseColor=\"0.749 0.651 0.651\"/>\n",
       "            </appearance>\n",
       "            <sphere radius=\"1.21\"/>\n",
       "          </shape>\n",
       "        </transform>\n",
       "        <transform translation=\"7.9885352925646025 5.991413696513732 5.991413696513561\">\n",
       "          <shape>\n",
       "            <appearance>\n",
       "              <material diffuseColor=\"0.749 0.651 0.651\"/>\n",
       "            </appearance>\n",
       "            <sphere radius=\"1.21\"/>\n",
       "          </shape>\n",
       "        </transform>\n",
       "        <transform translation=\"9.985681365484707 7.988408096525205 5.991602675202182\">\n",
       "          <shape>\n",
       "            <appearance>\n",
       "              <material diffuseColor=\"0.749 0.651 0.651\"/>\n",
       "            </appearance>\n",
       "            <sphere radius=\"1.21\"/>\n",
       "          </shape>\n",
       "        </transform>\n",
       "        <transform translation=\"11.982954634444337 9.985681365484833 5.991602675202188\">\n",
       "          <shape>\n",
       "            <appearance>\n",
       "              <material diffuseColor=\"0.749 0.651 0.651\"/>\n",
       "            </appearance>\n",
       "            <sphere radius=\"1.21\"/>\n",
       "          </shape>\n",
       "        </transform>\n",
       "        <transform translation=\"5.988160051138057 1.9987883937351143 7.986892971749597\">\n",
       "          <shape>\n",
       "            <appearance>\n",
       "              <material diffuseColor=\"0.749 0.651 0.651\"/>\n",
       "            </appearance>\n",
       "            <sphere radius=\"1.21\"/>\n",
       "          </shape>\n",
       "        </transform>\n",
       "        <transform translation=\"7.986892971749668 3.99752131434672 7.9868929717496036\">\n",
       "          <shape>\n",
       "            <appearance>\n",
       "              <material diffuseColor=\"0.749 0.651 0.651\"/>\n",
       "            </appearance>\n",
       "            <sphere radius=\"1.21\"/>\n",
       "          </shape>\n",
       "        </transform>\n",
       "        <transform translation=\"9.985681365484671 5.9916026752023805 7.988408096525\">\n",
       "          <shape>\n",
       "            <appearance>\n",
       "              <material diffuseColor=\"0.749 0.651 0.651\"/>\n",
       "            </appearance>\n",
       "            <sphere radius=\"1.21\"/>\n",
       "          </shape>\n",
       "        </transform>\n",
       "        <transform translation=\"11.982821872629346 7.988540858340214 7.988540858339963\">\n",
       "          <shape>\n",
       "            <appearance>\n",
       "              <material diffuseColor=\"0.749 0.651 0.651\"/>\n",
       "            </appearance>\n",
       "            <sphere radius=\"1.21\"/>\n",
       "          </shape>\n",
       "        </transform>\n",
       "        <transform translation=\"13.979760055767171 9.985681365484872 7.988408096525011\">\n",
       "          <shape>\n",
       "            <appearance>\n",
       "              <material diffuseColor=\"0.749 0.651 0.651\"/>\n",
       "            </appearance>\n",
       "            <sphere radius=\"1.21\"/>\n",
       "          </shape>\n",
       "        </transform>\n",
       "        <transform translation=\"8.006554024648294 1.979127340836502 9.985681365484561\">\n",
       "          <shape>\n",
       "            <appearance>\n",
       "              <material diffuseColor=\"0.749 0.651 0.651\"/>\n",
       "            </appearance>\n",
       "            <sphere radius=\"1.21\"/>\n",
       "          </shape>\n",
       "        </transform>\n",
       "        <transform translation=\"9.985681365484645 4.010690108468924 9.985681365484567\">\n",
       "          <shape>\n",
       "            <appearance>\n",
       "              <material diffuseColor=\"0.749 0.651 0.651\"/>\n",
       "            </appearance>\n",
       "            <sphere radius=\"1.21\"/>\n",
       "          </shape>\n",
       "        </transform>\n",
       "        <transform translation=\"11.98295463444427 5.991602675202421 9.98568136548457\">\n",
       "          <shape>\n",
       "            <appearance>\n",
       "              <material diffuseColor=\"0.749 0.651 0.651\"/>\n",
       "            </appearance>\n",
       "            <sphere radius=\"1.21\"/>\n",
       "          </shape>\n",
       "        </transform>\n",
       "        <transform translation=\"13.979760055767139 7.988408096525278 9.985681365484583\">\n",
       "          <shape>\n",
       "            <appearance>\n",
       "              <material diffuseColor=\"0.749 0.651 0.651\"/>\n",
       "            </appearance>\n",
       "            <sphere radius=\"1.21\"/>\n",
       "          </shape>\n",
       "        </transform>\n",
       "        <transform translation=\"15.960672622500622 9.985681365484911 9.985681365484588\">\n",
       "          <shape>\n",
       "            <appearance>\n",
       "              <material diffuseColor=\"0.749 0.651 0.651\"/>\n",
       "            </appearance>\n",
       "            <sphere radius=\"1.21\"/>\n",
       "          </shape>\n",
       "        </transform>\n",
       "        <transform translation=\"3.332272273214813e-14 3.9941070926657103 3.994107092665683\">\n",
       "          <shape>\n",
       "            <appearance>\n",
       "              <material diffuseColor=\"0.749 0.651 0.651\"/>\n",
       "            </appearance>\n",
       "            <sphere radius=\"1.21\"/>\n",
       "          </shape>\n",
       "        </transform>\n",
       "        <transform translation=\"1.9971460729201334 5.991413696513644 3.994267668971052\">\n",
       "          <shape>\n",
       "            <appearance>\n",
       "              <material diffuseColor=\"0.749 0.651 0.651\"/>\n",
       "            </appearance>\n",
       "            <sphere radius=\"1.21\"/>\n",
       "          </shape>\n",
       "        </transform>\n",
       "        <transform translation=\"3.994267668971129 7.988535292564639 3.9942676689710632\">\n",
       "          <shape>\n",
       "            <appearance>\n",
       "              <material diffuseColor=\"0.749 0.651 0.651\"/>\n",
       "            </appearance>\n",
       "            <sphere radius=\"1.21\"/>\n",
       "          </shape>\n",
       "        </transform>\n",
       "        <transform translation=\"5.991574272819067 9.985681365484748 3.994107092665701\">\n",
       "          <shape>\n",
       "            <appearance>\n",
       "              <material diffuseColor=\"0.749 0.651 0.651\"/>\n",
       "            </appearance>\n",
       "            <sphere radius=\"1.21\"/>\n",
       "          </shape>\n",
       "        </transform>\n",
       "        <transform translation=\"7.986892971749783 11.984469759219769 3.9975213143465944\">\n",
       "          <shape>\n",
       "            <appearance>\n",
       "              <material diffuseColor=\"0.749 0.651 0.651\"/>\n",
       "            </appearance>\n",
       "            <sphere radius=\"1.21\"/>\n",
       "          </shape>\n",
       "        </transform>\n",
       "        <transform translation=\"1.9971460729201003 3.9942676689711116 5.991413696513571\">\n",
       "          <shape>\n",
       "            <appearance>\n",
       "              <material diffuseColor=\"0.749 0.651 0.651\"/>\n",
       "            </appearance>\n",
       "            <sphere radius=\"1.21\"/>\n",
       "          </shape>\n",
       "        </transform>\n",
       "        <transform translation=\"3.9943410103788777 5.991340355105901 5.9913403551058\">\n",
       "          <shape>\n",
       "            <appearance>\n",
       "              <material diffuseColor=\"0.749 0.651 0.651\"/>\n",
       "            </appearance>\n",
       "            <sphere radius=\"1.21\"/>\n",
       "          </shape>\n",
       "        </transform>\n",
       "        <transform translation=\"5.991413696513661 7.988535292564678 5.991413696513584\">\n",
       "          <shape>\n",
       "            <appearance>\n",
       "              <material diffuseColor=\"0.749 0.651 0.651\"/>\n",
       "            </appearance>\n",
       "            <sphere radius=\"1.21\"/>\n",
       "          </shape>\n",
       "        </transform>\n",
       "        <transform translation=\"7.988408096525129 9.985681365484787 5.991602675202199\">\n",
       "          <shape>\n",
       "            <appearance>\n",
       "              <material diffuseColor=\"0.749 0.651 0.651\"/>\n",
       "            </appearance>\n",
       "            <sphere radius=\"1.21\"/>\n",
       "          </shape>\n",
       "        </transform>\n",
       "        <transform translation=\"9.985681365484757 11.982954634444415 5.991602675202207\">\n",
       "          <shape>\n",
       "            <appearance>\n",
       "              <material diffuseColor=\"0.749 0.651 0.651\"/>\n",
       "            </appearance>\n",
       "            <sphere radius=\"1.21\"/>\n",
       "          </shape>\n",
       "        </transform>\n",
       "        <transform translation=\"3.9942676689710597 3.99426766897115 7.98853529256452\">\n",
       "          <shape>\n",
       "            <appearance>\n",
       "              <material diffuseColor=\"0.749 0.651 0.651\"/>\n",
       "            </appearance>\n",
       "            <sphere radius=\"1.21\"/>\n",
       "          </shape>\n",
       "        </transform>\n",
       "        <transform translation=\"5.991413696513629 5.991413696513721 7.988535292564524\">\n",
       "          <shape>\n",
       "            <appearance>\n",
       "              <material diffuseColor=\"0.749 0.651 0.651\"/>\n",
       "            </appearance>\n",
       "            <sphere radius=\"1.21\"/>\n",
       "          </shape>\n",
       "        </transform>\n",
       "        <transform translation=\"7.988540858340064 7.988540858340163 7.988540858339978\">\n",
       "          <shape>\n",
       "            <appearance>\n",
       "              <material diffuseColor=\"0.749 0.651 0.651\"/>\n",
       "            </appearance>\n",
       "            <sphere radius=\"1.21\"/>\n",
       "          </shape>\n",
       "        </transform>\n",
       "        <transform translation=\"9.985681365484721 9.985681365484824 7.988525042899498\">\n",
       "          <shape>\n",
       "            <appearance>\n",
       "              <material diffuseColor=\"0.749 0.651 0.651\"/>\n",
       "            </appearance>\n",
       "            <sphere radius=\"1.21\"/>\n",
       "          </shape>\n",
       "        </transform>\n",
       "        <transform translation=\"11.982821872629394 11.982821872629493 7.98854085833999\">\n",
       "          <shape>\n",
       "            <appearance>\n",
       "              <material diffuseColor=\"0.749 0.651 0.651\"/>\n",
       "            </appearance>\n",
       "            <sphere radius=\"1.21\"/>\n",
       "          </shape>\n",
       "        </transform>\n",
       "        <transform translation=\"5.9915742728189585 3.9941070926658253 9.985681365484583\">\n",
       "          <shape>\n",
       "            <appearance>\n",
       "              <material diffuseColor=\"0.749 0.651 0.651\"/>\n",
       "            </appearance>\n",
       "            <sphere radius=\"1.21\"/>\n",
       "          </shape>\n",
       "        </transform>\n",
       "        <transform translation=\"7.9884080965250615 5.991602675202371 9.985681365484588\">\n",
       "          <shape>\n",
       "            <appearance>\n",
       "              <material diffuseColor=\"0.749 0.651 0.651\"/>\n",
       "            </appearance>\n",
       "            <sphere radius=\"1.21\"/>\n",
       "          </shape>\n",
       "        </transform>\n",
       "        <transform translation=\"9.985681365484691 7.9885250428997185 9.985681365484595\">\n",
       "          <shape>\n",
       "            <appearance>\n",
       "              <material diffuseColor=\"0.749 0.651 0.651\"/>\n",
       "            </appearance>\n",
       "            <sphere radius=\"1.21\"/>\n",
       "          </shape>\n",
       "        </transform>\n",
       "        <transform translation=\"11.982837688069832 9.985681365484862 9.985681365484604\">\n",
       "          <shape>\n",
       "            <appearance>\n",
       "              <material diffuseColor=\"0.749 0.651 0.651\"/>\n",
       "            </appearance>\n",
       "            <sphere radius=\"1.21\"/>\n",
       "          </shape>\n",
       "        </transform>\n",
       "        <transform translation=\"13.979760055767162 11.982954634444493 9.98568136548461\">\n",
       "          <shape>\n",
       "            <appearance>\n",
       "              <material diffuseColor=\"0.749 0.651 0.651\"/>\n",
       "            </appearance>\n",
       "            <sphere radius=\"1.21\"/>\n",
       "          </shape>\n",
       "        </transform>\n",
       "        <transform translation=\"7.986892971749656 3.9975213143467503 11.984469759219532\">\n",
       "          <shape>\n",
       "            <appearance>\n",
       "              <material diffuseColor=\"0.749 0.651 0.651\"/>\n",
       "            </appearance>\n",
       "            <sphere radius=\"1.21\"/>\n",
       "          </shape>\n",
       "        </transform>\n",
       "        <transform translation=\"9.98568136548466 5.991602675202411 11.982954634444175\">\n",
       "          <shape>\n",
       "            <appearance>\n",
       "              <material diffuseColor=\"0.749 0.651 0.651\"/>\n",
       "            </appearance>\n",
       "            <sphere radius=\"1.21\"/>\n",
       "          </shape>\n",
       "        </transform>\n",
       "        <transform translation=\"11.982821872629332 7.98854085834024 11.982821872629222\">\n",
       "          <shape>\n",
       "            <appearance>\n",
       "              <material diffuseColor=\"0.749 0.651 0.651\"/>\n",
       "            </appearance>\n",
       "            <sphere radius=\"1.21\"/>\n",
       "          </shape>\n",
       "        </transform>\n",
       "        <transform translation=\"13.97976005576713 9.985681365484899 11.982954634444186\">\n",
       "          <shape>\n",
       "            <appearance>\n",
       "              <material diffuseColor=\"0.749 0.651 0.651\"/>\n",
       "            </appearance>\n",
       "            <sphere radius=\"1.21\"/>\n",
       "          </shape>\n",
       "        </transform>\n",
       "        <transform translation=\"15.973841416622808 11.98446975921992 11.984469759219582\">\n",
       "          <shape>\n",
       "            <appearance>\n",
       "              <material diffuseColor=\"0.749 0.651 0.651\"/>\n",
       "            </appearance>\n",
       "            <sphere radius=\"1.21\"/>\n",
       "          </shape>\n",
       "        </transform>\n",
       "        <transform translation=\"5.17224502623152e-14 5.9915742728190065 5.991574272818956\">\n",
       "          <shape>\n",
       "            <appearance>\n",
       "              <material diffuseColor=\"0.749 0.651 0.651\"/>\n",
       "            </appearance>\n",
       "            <sphere radius=\"1.21\"/>\n",
       "          </shape>\n",
       "        </transform>\n",
       "        <transform translation=\"1.9987883937350581 7.986892971749729 5.988160051138088\">\n",
       "          <shape>\n",
       "            <appearance>\n",
       "              <material diffuseColor=\"0.749 0.651 0.651\"/>\n",
       "            </appearance>\n",
       "            <sphere radius=\"1.21\"/>\n",
       "          </shape>\n",
       "        </transform>\n",
       "        <transform translation=\"3.9941070926657827 9.985681365484739 5.991574272818968\">\n",
       "          <shape>\n",
       "            <appearance>\n",
       "              <material diffuseColor=\"0.749 0.651 0.651\"/>\n",
       "            </appearance>\n",
       "            <sphere radius=\"1.21\"/>\n",
       "          </shape>\n",
       "        </transform>\n",
       "        <transform translation=\"5.991413696513713 11.982827438404827 5.991413696513609\">\n",
       "          <shape>\n",
       "            <appearance>\n",
       "              <material diffuseColor=\"0.749 0.651 0.651\"/>\n",
       "            </appearance>\n",
       "            <sphere radius=\"1.21\"/>\n",
       "          </shape>\n",
       "        </transform>\n",
       "        <transform translation=\"7.988535292564702 13.979949034455839 5.991413696513616\">\n",
       "          <shape>\n",
       "            <appearance>\n",
       "              <material diffuseColor=\"0.749 0.651 0.651\"/>\n",
       "            </appearance>\n",
       "            <sphere radius=\"1.21\"/>\n",
       "          </shape>\n",
       "        </transform>\n",
       "        <transform translation=\"1.9987883937350257 5.988160051138161 7.98689297174964\">\n",
       "          <shape>\n",
       "            <appearance>\n",
       "              <material diffuseColor=\"0.749 0.651 0.651\"/>\n",
       "            </appearance>\n",
       "            <sphere radius=\"1.21\"/>\n",
       "          </shape>\n",
       "        </transform>\n",
       "        <transform translation=\"3.997521314346632 7.986892971749766 7.986892971749644\">\n",
       "          <shape>\n",
       "            <appearance>\n",
       "              <material diffuseColor=\"0.749 0.651 0.651\"/>\n",
       "            </appearance>\n",
       "            <sphere radius=\"1.21\"/>\n",
       "          </shape>\n",
       "        </transform>\n",
       "        <transform translation=\"5.991602675202293 9.985681365484774 7.988408096525029\">\n",
       "          <shape>\n",
       "            <appearance>\n",
       "              <material diffuseColor=\"0.749 0.651 0.651\"/>\n",
       "            </appearance>\n",
       "            <sphere radius=\"1.21\"/>\n",
       "          </shape>\n",
       "        </transform>\n",
       "        <transform translation=\"7.988540858340117 11.982821872629446 7.988540858340007\">\n",
       "          <shape>\n",
       "            <appearance>\n",
       "              <material diffuseColor=\"0.749 0.651 0.651\"/>\n",
       "            </appearance>\n",
       "            <sphere radius=\"1.21\"/>\n",
       "          </shape>\n",
       "        </transform>\n",
       "        <transform translation=\"9.985681365484773 13.97976005576725 7.9884080965250535\">\n",
       "          <shape>\n",
       "            <appearance>\n",
       "              <material diffuseColor=\"0.749 0.651 0.651\"/>\n",
       "            </appearance>\n",
       "            <sphere radius=\"1.21\"/>\n",
       "          </shape>\n",
       "        </transform>\n",
       "        <transform translation=\"3.9941070926657143 5.991574272819086 9.9856813654846\">\n",
       "          <shape>\n",
       "            <appearance>\n",
       "              <material diffuseColor=\"0.749 0.651 0.651\"/>\n",
       "            </appearance>\n",
       "            <sphere radius=\"1.21\"/>\n",
       "          </shape>\n",
       "        </transform>\n",
       "        <transform translation=\"5.991602675202258 7.9884080965251805 9.98568136548461\">\n",
       "          <shape>\n",
       "            <appearance>\n",
       "              <material diffuseColor=\"0.749 0.651 0.651\"/>\n",
       "            </appearance>\n",
       "            <sphere radius=\"1.21\"/>\n",
       "          </shape>\n",
       "        </transform>\n",
       "        <transform translation=\"7.988525042899598 9.985681365484814 9.985681365484616\">\n",
       "          <shape>\n",
       "            <appearance>\n",
       "              <material diffuseColor=\"0.749 0.651 0.651\"/>\n",
       "            </appearance>\n",
       "            <sphere radius=\"1.21\"/>\n",
       "          </shape>\n",
       "        </transform>\n",
       "        <transform translation=\"9.985681365484742 11.982837688069953 9.985681365484623\">\n",
       "          <shape>\n",
       "            <appearance>\n",
       "              <material diffuseColor=\"0.749 0.651 0.651\"/>\n",
       "            </appearance>\n",
       "            <sphere radius=\"1.21\"/>\n",
       "          </shape>\n",
       "        </transform>\n",
       "        <transform translation=\"11.982954634444368 13.97976005576729 9.98568136548463\">\n",
       "          <shape>\n",
       "            <appearance>\n",
       "              <material diffuseColor=\"0.749 0.651 0.651\"/>\n",
       "            </appearance>\n",
       "            <sphere radius=\"1.21\"/>\n",
       "          </shape>\n",
       "        </transform>\n",
       "        <transform translation=\"5.991413696513612 5.991413696513747 11.98282743840465\">\n",
       "          <shape>\n",
       "            <appearance>\n",
       "              <material diffuseColor=\"0.749 0.651 0.651\"/>\n",
       "            </appearance>\n",
       "            <sphere radius=\"1.21\"/>\n",
       "          </shape>\n",
       "        </transform>\n",
       "        <transform translation=\"7.988540858340053 7.988540858340189 11.982821872629238\">\n",
       "          <shape>\n",
       "            <appearance>\n",
       "              <material diffuseColor=\"0.749 0.651 0.651\"/>\n",
       "            </appearance>\n",
       "            <sphere radius=\"1.21\"/>\n",
       "          </shape>\n",
       "        </transform>\n",
       "        <transform translation=\"9.98568136548471 9.985681365484854 11.982837688069715\">\n",
       "          <shape>\n",
       "            <appearance>\n",
       "              <material diffuseColor=\"0.749 0.651 0.651\"/>\n",
       "            </appearance>\n",
       "            <sphere radius=\"1.21\"/>\n",
       "          </shape>\n",
       "        </transform>\n",
       "        <transform translation=\"11.982821872629382 11.982821872629524 11.98282187262925\">\n",
       "          <shape>\n",
       "            <appearance>\n",
       "              <material diffuseColor=\"0.749 0.651 0.651\"/>\n",
       "            </appearance>\n",
       "            <sphere radius=\"1.21\"/>\n",
       "          </shape>\n",
       "        </transform>\n",
       "        <transform translation=\"13.979949034455808 13.979949034455952 11.982827438404673\">\n",
       "          <shape>\n",
       "            <appearance>\n",
       "              <material diffuseColor=\"0.749 0.651 0.651\"/>\n",
       "            </appearance>\n",
       "            <sphere radius=\"1.21\"/>\n",
       "          </shape>\n",
       "        </transform>\n",
       "        <transform translation=\"7.988535292564571 5.991413696513787 13.97994903445561\">\n",
       "          <shape>\n",
       "            <appearance>\n",
       "              <material diffuseColor=\"0.749 0.651 0.651\"/>\n",
       "            </appearance>\n",
       "            <sphere radius=\"1.21\"/>\n",
       "          </shape>\n",
       "        </transform>\n",
       "        <transform translation=\"9.985681365484677 7.988408096525258 13.979760055767018\">\n",
       "          <shape>\n",
       "            <appearance>\n",
       "              <material diffuseColor=\"0.749 0.651 0.651\"/>\n",
       "            </appearance>\n",
       "            <sphere radius=\"1.21\"/>\n",
       "          </shape>\n",
       "        </transform>\n",
       "        <transform translation=\"11.982954634444306 9.985681365484888 13.979760055767024\">\n",
       "          <shape>\n",
       "            <appearance>\n",
       "              <material diffuseColor=\"0.749 0.651 0.651\"/>\n",
       "            </appearance>\n",
       "            <sphere radius=\"1.21\"/>\n",
       "          </shape>\n",
       "        </transform>\n",
       "        <transform translation=\"13.979949034455775 11.98282743840498 13.979949034455627\">\n",
       "          <shape>\n",
       "            <appearance>\n",
       "              <material diffuseColor=\"0.749 0.651 0.651\"/>\n",
       "            </appearance>\n",
       "            <sphere radius=\"1.21\"/>\n",
       "          </shape>\n",
       "        </transform>\n",
       "        <transform translation=\"15.977021720590571 13.980022375863753 13.980022375863403\">\n",
       "          <shape>\n",
       "            <appearance>\n",
       "              <material diffuseColor=\"0.749 0.651 0.651\"/>\n",
       "            </appearance>\n",
       "            <sphere radius=\"1.21\"/>\n",
       "          </shape>\n",
       "        </transform>\n",
       "        <transform translation=\"7.122590520013993e-14 8.00655402464836 8.006554024648302\">\n",
       "          <shape>\n",
       "            <appearance>\n",
       "              <material diffuseColor=\"0.749 0.651 0.651\"/>\n",
       "            </appearance>\n",
       "            <sphere radius=\"1.21\"/>\n",
       "          </shape>\n",
       "        </transform>\n",
       "        <transform translation=\"1.9791273408364334 9.985681365484725 8.006554024648308\">\n",
       "          <shape>\n",
       "            <appearance>\n",
       "              <material diffuseColor=\"0.749 0.651 0.651\"/>\n",
       "            </appearance>\n",
       "            <sphere radius=\"1.21\"/>\n",
       "          </shape>\n",
       "        </transform>\n",
       "        <transform translation=\"3.9975213143466823 11.984469759219744 7.986892971749674\">\n",
       "          <shape>\n",
       "            <appearance>\n",
       "              <material diffuseColor=\"0.749 0.651 0.651\"/>\n",
       "            </appearance>\n",
       "            <sphere radius=\"1.21\"/>\n",
       "          </shape>\n",
       "        </transform>\n",
       "        <transform translation=\"5.991413696513727 13.979949034455826 7.988535292564579\">\n",
       "          <shape>\n",
       "            <appearance>\n",
       "              <material diffuseColor=\"0.749 0.651 0.651\"/>\n",
       "            </appearance>\n",
       "            <sphere radius=\"1.21\"/>\n",
       "          </shape>\n",
       "        </transform>\n",
       "        <transform translation=\"7.986892971749818 15.973841416622882 7.986892971749685\">\n",
       "          <shape>\n",
       "            <appearance>\n",
       "              <material diffuseColor=\"0.749 0.651 0.651\"/>\n",
       "            </appearance>\n",
       "            <sphere radius=\"1.21\"/>\n",
       "          </shape>\n",
       "        </transform>\n",
       "        <transform translation=\"1.979127340836393 8.006554024648413 9.985681365484623\">\n",
       "          <shape>\n",
       "            <appearance>\n",
       "              <material diffuseColor=\"0.749 0.651 0.651\"/>\n",
       "            </appearance>\n",
       "            <sphere radius=\"1.21\"/>\n",
       "          </shape>\n",
       "        </transform>\n",
       "        <transform translation=\"4.01069010846881 9.985681365484764 9.98568136548463\">\n",
       "          <shape>\n",
       "            <appearance>\n",
       "              <material diffuseColor=\"0.749 0.651 0.651\"/>\n",
       "            </appearance>\n",
       "            <sphere radius=\"1.21\"/>\n",
       "          </shape>\n",
       "        </transform>\n",
       "        <transform translation=\"5.991602675202308 11.982954634444393 9.985681365484636\">\n",
       "          <shape>\n",
       "            <appearance>\n",
       "              <material diffuseColor=\"0.749 0.651 0.651\"/>\n",
       "            </appearance>\n",
       "            <sphere radius=\"1.21\"/>\n",
       "          </shape>\n",
       "        </transform>\n",
       "        <transform translation=\"7.988408096525173 13.979760055767237 9.985681365484647\">\n",
       "          <shape>\n",
       "            <appearance>\n",
       "              <material diffuseColor=\"0.749 0.651 0.651\"/>\n",
       "            </appearance>\n",
       "            <sphere radius=\"1.21\"/>\n",
       "          </shape>\n",
       "        </transform>\n",
       "        <transform translation=\"9.985681365484789 15.96067262250075 9.98568136548465\">\n",
       "          <shape>\n",
       "            <appearance>\n",
       "              <material diffuseColor=\"0.749 0.651 0.651\"/>\n",
       "            </appearance>\n",
       "            <sphere radius=\"1.21\"/>\n",
       "          </shape>\n",
       "        </transform>\n",
       "        <transform translation=\"3.9975213143466153 7.986892971749793 11.984469759219602\">\n",
       "          <shape>\n",
       "            <appearance>\n",
       "              <material diffuseColor=\"0.749 0.651 0.651\"/>\n",
       "            </appearance>\n",
       "            <sphere radius=\"1.21\"/>\n",
       "          </shape>\n",
       "        </transform>\n",
       "        <transform translation=\"5.991602675202275 9.985681365484801 11.982954634444217\">\n",
       "          <shape>\n",
       "            <appearance>\n",
       "              <material diffuseColor=\"0.749 0.651 0.651\"/>\n",
       "            </appearance>\n",
       "            <sphere radius=\"1.21\"/>\n",
       "          </shape>\n",
       "        </transform>\n",
       "        <transform translation=\"7.9885408583401025 11.982821872629474 11.982821872629263\">\n",
       "          <shape>\n",
       "            <appearance>\n",
       "              <material diffuseColor=\"0.749 0.651 0.651\"/>\n",
       "            </appearance>\n",
       "            <sphere radius=\"1.21\"/>\n",
       "          </shape>\n",
       "        </transform>\n",
       "        <transform translation=\"9.98568136548476 13.979760055767278 11.98295463444423\">\n",
       "          <shape>\n",
       "            <appearance>\n",
       "              <material diffuseColor=\"0.749 0.651 0.651\"/>\n",
       "            </appearance>\n",
       "            <sphere radius=\"1.21\"/>\n",
       "          </shape>\n",
       "        </transform>\n",
       "        <transform translation=\"11.984469759219778 15.97384141662296 11.984469759219625\">\n",
       "          <shape>\n",
       "            <appearance>\n",
       "              <material diffuseColor=\"0.749 0.651 0.651\"/>\n",
       "            </appearance>\n",
       "            <sphere radius=\"1.21\"/>\n",
       "          </shape>\n",
       "        </transform>\n",
       "        <transform translation=\"5.99141369651363 7.988535292564731 13.979949034455634\">\n",
       "          <shape>\n",
       "            <appearance>\n",
       "              <material diffuseColor=\"0.749 0.651 0.651\"/>\n",
       "            </appearance>\n",
       "            <sphere radius=\"1.21\"/>\n",
       "          </shape>\n",
       "        </transform>\n",
       "        <transform translation=\"7.988408096525098 9.98568136548484 13.979760055767041\">\n",
       "          <shape>\n",
       "            <appearance>\n",
       "              <material diffuseColor=\"0.749 0.651 0.651\"/>\n",
       "            </appearance>\n",
       "            <sphere radius=\"1.21\"/>\n",
       "          </shape>\n",
       "        </transform>\n",
       "        <transform translation=\"9.985681365484728 11.982954634444468 13.979760055767017\">\n",
       "          <shape>\n",
       "            <appearance>\n",
       "              <material diffuseColor=\"0.749 0.651 0.651\"/>\n",
       "            </appearance>\n",
       "            <sphere radius=\"1.21\"/>\n",
       "          </shape>\n",
       "        </transform>\n",
       "        <transform translation=\"11.982827438404819 13.979949034455942 13.979949034455652\">\n",
       "          <shape>\n",
       "            <appearance>\n",
       "              <material diffuseColor=\"0.749 0.651 0.651\"/>\n",
       "            </appearance>\n",
       "            <sphere radius=\"1.21\"/>\n",
       "          </shape>\n",
       "        </transform>\n",
       "        <transform translation=\"13.980022375863587 15.977021720590713 13.980022375863424\">\n",
       "          <shape>\n",
       "            <appearance>\n",
       "              <material diffuseColor=\"0.749 0.651 0.651\"/>\n",
       "            </appearance>\n",
       "            <sphere radius=\"1.21\"/>\n",
       "          </shape>\n",
       "        </transform>\n",
       "        <transform translation=\"7.986892971749686 7.98689297174987 15.973841416622644\">\n",
       "          <shape>\n",
       "            <appearance>\n",
       "              <material diffuseColor=\"0.749 0.651 0.651\"/>\n",
       "            </appearance>\n",
       "            <sphere radius=\"1.21\"/>\n",
       "          </shape>\n",
       "        </transform>\n",
       "        <transform translation=\"9.985681365484696 9.98568136548488 15.960672622500482\">\n",
       "          <shape>\n",
       "            <appearance>\n",
       "              <material diffuseColor=\"0.749 0.651 0.651\"/>\n",
       "            </appearance>\n",
       "            <sphere radius=\"1.21\"/>\n",
       "          </shape>\n",
       "        </transform>\n",
       "        <transform translation=\"11.984469759219687 11.984469759219898 15.973841416622653\">\n",
       "          <shape>\n",
       "            <appearance>\n",
       "              <material diffuseColor=\"0.749 0.651 0.651\"/>\n",
       "            </appearance>\n",
       "            <sphere radius=\"1.21\"/>\n",
       "          </shape>\n",
       "        </transform>\n",
       "        <transform translation=\"13.980022375863559 13.980022375863745 15.977021720590402\">\n",
       "          <shape>\n",
       "            <appearance>\n",
       "              <material diffuseColor=\"0.749 0.651 0.651\"/>\n",
       "            </appearance>\n",
       "            <sphere radius=\"1.21\"/>\n",
       "          </shape>\n",
       "        </transform>\n",
       "        <transform translation=\"15.977021720590582 15.977021720590752 15.97702172059041\">\n",
       "          <shape>\n",
       "            <appearance>\n",
       "              <material diffuseColor=\"0.749 0.651 0.651\"/>\n",
       "            </appearance>\n",
       "            <sphere radius=\"1.21\"/>\n",
       "          </shape>\n",
       "        </transform>\n",
       "      </group>\n",
       "    </group>\n",
       "  </transform>\n",
       "</scene>\n",
       "<!--End of Inserted Scene-->\n",
       "\n",
       "        </X3D>\n",
       "    </body>\n",
       "</html>\n",
       "\n"
      ],
      "text/plain": [
       "<IPython.core.display.HTML object>"
      ]
     },
     "execution_count": 15,
     "metadata": {},
     "output_type": "execute_result"
    }
   ],
   "source": [
    "view_x3d(atoms_defect)"
   ]
  },
  {
   "cell_type": "markdown",
   "id": "c3bb0bc9-4317-449e-a265-c3c58eca7ed9",
   "metadata": {},
   "source": [
    "この計算を様々な元素、スーパーセルサイズで行えるようにしてみましょう。"
   ]
  },
  {
   "cell_type": "code",
   "execution_count": 16,
   "id": "dc276fc0-53ca-4c24-be3c-6c04d32363fa",
   "metadata": {},
   "outputs": [],
   "source": [
    "def calc_vacancy_energy(symbol: str, calculator, size=(5, 5, 5)):\n",
    "\n",
    "    atoms_bulk = bulk(symbol) * size\n",
    "\n",
    "    atoms_bulk.calc = calculator\n",
    "    atoms_bulk_strain = ExpCellFilter(atoms_bulk)\n",
    "    opt = LBFGS(atoms_bulk_strain, logfile=None)\n",
    "    opt.run()\n",
    "    E_bulk = atoms_bulk.get_total_energy()\n",
    "\n",
    "    atoms_defect = atoms_bulk.copy()\n",
    "    # Create defect by removing 0-th atom\n",
    "    del atoms_defect[0]\n",
    "\n",
    "    atoms_defect.calc = calculator\n",
    "    opt = LBFGS(atoms_defect, logfile=None)\n",
    "    opt.run()\n",
    "    E_defect = atoms_defect.get_total_energy()\n",
    "    E_v = E_defect - E_bulk * len(atoms_defect) / len(atoms_bulk)\n",
    "    return E_bulk, E_defect, E_v"
   ]
  },
  {
   "cell_type": "code",
   "execution_count": 17,
   "id": "bb3161a0-e151-4a2c-a4d3-cff199c3fa64",
   "metadata": {},
   "outputs": [
    {
     "name": "stderr",
     "output_type": "stream",
     "text": [
      "/tmp/ipykernel_67318/777994303.py:6: FutureWarning: Import ExpCellFilter from ase.filters\n",
      "  atoms_bulk_strain = ExpCellFilter(atoms_bulk)\n"
     ]
    },
    {
     "name": "stdout",
     "output_type": "stream",
     "text": [
      "Al E_v = 0.96 eV\n",
      "Cu E_v = 1.23 eV\n",
      "Ag E_v = 0.85 eV\n",
      "Au E_v = 0.74 eV\n",
      "Pd E_v = 0.93 eV\n",
      "Pt E_v = 1.03 eV\n"
     ]
    }
   ],
   "source": [
    "for symbol in [\"Al\", \"Cu\",\"Ag\", \"Au\", \"Pd\", \"Pt\"]:\n",
    "    E_bulk, E_defect, E_v = calc_vacancy_energy(symbol=symbol, calculator=calculator)\n",
    "    print(f\"{symbol} E_v = {E_v:.2f} eV\")"
   ]
  },
  {
   "cell_type": "markdown",
   "id": "6f7eb9cc-a82b-408a-a375-39954e733783",
   "metadata": {},
   "source": [
    "参考文献\n",
    "\n",
    " - Vacancy Formation Energy: http://micro.stanford.edu/mediawiki/images/2/29/VFE.pdf\n",
    "\n",
    "こちらには、古典力場で計算した空孔形成エネルギーが掲載されています。Potentialが異なるため、比較はできませんが、参考程度に見比べてみると概ね似た傾向となっていることがわかります。"
   ]
  },
  {
   "cell_type": "markdown",
   "id": "35607a97-d0b8-462b-b01b-c0cf78c381f0",
   "metadata": {},
   "source": [
    "最後に、理解を深めるために、スーパーセルのサイズ依存性を調べてみましょう。"
   ]
  },
  {
   "cell_type": "code",
   "execution_count": 18,
   "id": "0df2c311-7128-4840-9411-f4b382cf95b4",
   "metadata": {},
   "outputs": [
    {
     "name": "stdout",
     "output_type": "stream",
     "text": [
      "Au i = 2, E_v = 0.82 eV\n"
     ]
    },
    {
     "name": "stderr",
     "output_type": "stream",
     "text": [
      "/tmp/ipykernel_67318/777994303.py:6: FutureWarning: Import ExpCellFilter from ase.filters\n",
      "  atoms_bulk_strain = ExpCellFilter(atoms_bulk)\n"
     ]
    },
    {
     "name": "stdout",
     "output_type": "stream",
     "text": [
      "Au i = 3, E_v = 0.75 eV\n",
      "Au i = 4, E_v = 0.74 eV\n",
      "Au i = 5, E_v = 0.74 eV\n",
      "Au i = 6, E_v = 0.74 eV\n",
      "Au i = 7, E_v = 0.74 eV\n"
     ]
    }
   ],
   "source": [
    "symbol = \"Au\"\n",
    "E_v_list = []\n",
    "for i in range(2, 8):\n",
    "    E_bulk, E_defect, E_v = calc_vacancy_energy(symbol=symbol, calculator=calculator, size=(i, i, i))\n",
    "    print(f\"{symbol} i = {i}, E_v = {E_v:.2f} eV\")\n",
    "    E_v_list.append(E_v)"
   ]
  },
  {
   "cell_type": "code",
   "execution_count": 19,
   "id": "9356d4ef-272e-4f0f-9985-1e9811fa479d",
   "metadata": {},
   "outputs": [
    {
     "data": {
      "image/png": "[encoded data removed]",
      "text/plain": [
       "<Figure size 640x480 with 1 Axes>"
      ]
     },
     "metadata": {},
     "output_type": "display_data"
    }
   ],
   "source": [
    "plt.plot(range(2, 8), E_v_list)\n",
    "plt.title(\"E_v super cell size dependency\")\n",
    "plt.ylabel(\"eV\")\n",
    "plt.xlabel(\"super cell size\")\n",
    "plt.show()"
   ]
  },
  {
   "cell_type": "markdown",
   "id": "d4bc1a46-a842-4454-a7b5-f2783a7b7bb8",
   "metadata": {},
   "source": [
    "スーパーセルサイズが大きくなってくると正しい値に収束していきますが、スーパーセルサイズが小さすぎると間違った値が得られることがわかります。"
   ]
  }
 ],
 "metadata": {
  "kernelspec": {
   "display_name": "Python 3.9",
   "language": "python",
   "name": "python39"
  },
  "language_info": {
   "codemirror_mode": {
    "name": "ipython",
    "version": 3
   },
   "file_extension": ".py",
   "mimetype": "text/x-python",
   "name": "python",
   "nbconvert_exporter": "python",
   "pygments_lexer": "ipython3",
   "version": "3.9.16"
  },
  "widgets": {
   "application/vnd.jupyter.widget-state+json": {
    "state": {
     "037328cafbdc452cbc5d4fceee88c407": {
      "model_module": "@jupyter-widgets/base",
      "model_module_version": "1.2.0",
      "model_name": "LayoutModel",
      "state": {}
     },
     "03956245e4054fe48d8bbcdef70206ce": {
      "model_module": "@jupyter-widgets/base",
      "model_module_version": "1.2.0",
      "model_name": "LayoutModel",
      "state": {}
     },
     "04ce47ca66e7495b8edb9ab6889025b0": {
      "model_module": "@jupyter-widgets/base",
      "model_module_version": "1.2.0",
      "model_name": "LayoutModel",
      "state": {}
     },
     "08d4b21b1b2243849c137ac4ad204fa3": {
      "model_module": "@jupyter-widgets/controls",
      "model_module_version": "1.5.0",
      "model_name": "SliderStyleModel",
      "state": {
       "description_width": ""
      }
     },
     "0904adfb20b34eab95320cc4257932b0": {
      "model_module": "@jupyter-widgets/base",
      "model_module_version": "1.2.0",
      "model_name": "LayoutModel",
      "state": {
       "border": "0px solid black"
      }
     },
     "0a6fc7ae59c54b448948bc34f3a28fd8": {
      "model_module": "@jupyter-widgets/base",
      "model_module_version": "1.2.0",
      "model_name": "LayoutModel",
      "state": {}
     },
     "0d24ccadd6304d6d8f6d30ded67a2ac9": {
      "model_module": "@jupyter-widgets/controls",
      "model_module_version": "1.5.0",
      "model_name": "FloatSliderModel",
      "state": {
       "description": "Force scale",
       "layout": "IPY_MODEL_77b7f1c1c1ad48c899e5646d6ad688b0",
       "step": 0.1,
       "style": "IPY_MODEL_deb535928dd347a8b48665c6fa1faea1",
       "value": 0.5
      }
     },
     "0e078c506db44683a9c6204666a48070": {
      "model_module": "nglview-js-widgets",
      "model_module_version": "3.0.1",
      "model_name": "ColormakerRegistryModel",
      "state": {
       "_msg_ar": [],
       "_msg_q": [],
       "_ready": true,
       "layout": "IPY_MODEL_4fbbc5e0ed7842f781fbcacce0905b97"
      }
     },
     "1248940871c5424194bd47b3df35cabd": {
      "model_module": "@jupyter-widgets/controls",
      "model_module_version": "1.5.0",
      "model_name": "LinkModel",
      "state": {
       "source": [
        "IPY_MODEL_afae2c02e47b44168879742d8aa0bba9",
        "max"
       ],
       "target": [
        "IPY_MODEL_bffcffea6bce4fef855b4b31c88d50f3",
        "max_frame"
       ]
      }
     },
     "1327ef72999340489e7d78a653aa662a": {
      "model_module": "@jupyter-widgets/base",
      "model_module_version": "1.2.0",
      "model_name": "LayoutModel",
      "state": {}
     },
     "1348b078ac454a2cb636bb23f44fd6d1": {
      "model_module": "@jupyter-widgets/base",
      "model_module_version": "1.2.0",
      "model_name": "LayoutModel",
      "state": {}
     },
     "14a5b6a6e4134286bdec000307f28812": {
      "model_module": "@jupyter-widgets/controls",
      "model_module_version": "1.5.0",
      "model_name": "CheckboxModel",
      "state": {
       "description": "Show charge",
       "disabled": false,
       "layout": "IPY_MODEL_0a6fc7ae59c54b448948bc34f3a28fd8",
       "style": "IPY_MODEL_7d143081a4f14683866e157a820f4cc5",
       "value": false
      }
     },
     "16a58eeb682a4d0c83ca34bba0a1cc46": {
      "model_module": "@jupyter-widgets/controls",
      "model_module_version": "1.5.0",
      "model_name": "VBoxModel",
      "state": {
       "children": [
        "IPY_MODEL_d554f4f13c9c4667923db4a62a804a52",
        "IPY_MODEL_ffdb29999b1b43a588c17e72fa35e701",
        "IPY_MODEL_7b4524e6424d4c049ba282776c38a0ec",
        "IPY_MODEL_9230ae60e3084f3aa148f83e17698376",
        "IPY_MODEL_a62c0565d6194e0b9e7c2885b10d6e2b",
        "IPY_MODEL_b909da93cae5480996b8f557a090c801",
        "IPY_MODEL_e02f8af2fd2e421783382ac956224bee",
        "IPY_MODEL_bcd8bb113dd54e7683121b9aaed86b75",
        "IPY_MODEL_14a5b6a6e4134286bdec000307f28812",
        "IPY_MODEL_4609283be282421d857dd6729979f567",
        "IPY_MODEL_e27215d51b624f0facf730a638b92c15"
       ],
       "layout": "IPY_MODEL_62f698a66a24486ea43d6c62f9a59fd9"
      }
     },
     "16bc9bbb504b4f28a26339b687c9c030": {
      "model_module": "@jupyter-widgets/controls",
      "model_module_version": "1.5.0",
      "model_name": "DescriptionStyleModel",
      "state": {
       "description_width": ""
      }
     },
     "16ee206a5a3141e6aaebc5ddb6c2a8a4": {
      "model_module": "@jupyter-widgets/controls",
      "model_module_version": "1.5.0",
      "model_name": "LinkModel",
      "state": {
       "source": [
        "IPY_MODEL_afae2c02e47b44168879742d8aa0bba9",
        "value"
       ],
       "target": [
        "IPY_MODEL_bffcffea6bce4fef855b4b31c88d50f3",
        "frame"
       ]
      }
     },
     "189c07709c7c4d22802164c06e1c5019": {
      "model_module": "@jupyter-widgets/controls",
      "model_module_version": "1.5.0",
      "model_name": "SliderStyleModel",
      "state": {
       "description_width": ""
      }
     },
     "19ba88836e8a455fabec2a4ef2bd256e": {
      "model_module": "@jupyter-widgets/base",
      "model_module_version": "1.2.0",
      "model_name": "LayoutModel",
      "state": {
       "width": "34px"
      }
     },
     "1a967ce3108543f9927fa5efb05601d0": {
      "model_module": "@jupyter-widgets/controls",
      "model_module_version": "1.5.0",
      "model_name": "LinkModel",
      "state": {
       "source": [
        "IPY_MODEL_7e2a4d4e1a044ef88168603db85d2887",
        "max"
       ],
       "target": [
        "IPY_MODEL_5b1a55aa819342a3be5dcc40906919ef",
        "max_frame"
       ]
      }
     },
     "1c9d62ffc0204ad69f3c0392c27d25e9": {
      "model_module": "@jupyter-widgets/controls",
      "model_module_version": "1.5.0",
      "model_name": "ButtonModel",
      "state": {
       "description": "Save image",
       "layout": "IPY_MODEL_bc2950e2b3884c4e81294ef571ec5736",
       "style": "IPY_MODEL_5e8636b8089440bb9a838d4adf0f0a5b",
       "tooltip": "Save current frame to file.\nCurrently .png and .html are supported.\nIt takes a bit time, please be patient."
      }
     },
     "1d4c1e040e704935b77b857730691208": {
      "model_module": "@jupyter-widgets/controls",
      "model_module_version": "1.5.0",
      "model_name": "TextModel",
      "state": {
       "description": "Filename: ",
       "layout": "IPY_MODEL_03956245e4054fe48d8bbcdef70206ce",
       "style": "IPY_MODEL_b0264f01dc004d238c80087bd890c3bc",
       "value": "screenshot.png"
      }
     },
     "1d5ea0fef6984c30b60c305b4eca3996": {
      "model_module": "nglview-js-widgets",
      "model_module_version": "3.0.1",
      "model_name": "NGLModel",
      "state": {
       "_camera_orientation": [
        2.6406977783709893,
        0,
        0,
        0,
        0,
        2.6406977783709893,
        0,
        0,
        0,
        0,
        2.6406977783709893,
        0,
        0,
        0,
        0,
        1
       ],
       "_camera_str": "orthographic",
       "_gui_theme": null,
       "_ibtn_fullscreen": "IPY_MODEL_d86a921a67804970a172b785c58a7184",
       "_igui": null,
       "_iplayer": "IPY_MODEL_518daeca38f1477393530bb388e1c41f",
       "_ngl_color_dict": {},
       "_ngl_coordinate_resource": {},
       "_ngl_full_stage_parameters": {
        "ambientColor": 14540253,
        "ambientIntensity": 0.2,
        "backgroundColor": "white",
        "cameraEyeSep": 0.3,
        "cameraFov": 40,
        "cameraType": "orthographic",
        "clipDist": 0,
        "clipFar": 100,
        "clipNear": 0,
        "fogFar": 100,
        "fogNear": 50,
        "hoverTimeout": 0,
        "impostor": true,
        "lightColor": 14540253,
        "lightIntensity": 1,
        "mousePreset": "default",
        "panSpeed": 1,
        "quality": "medium",
        "rotateSpeed": 2,
        "sampleLevel": 0,
        "tooltip": true,
        "workerDefault": true,
        "zoomSpeed": 1.2
       },
       "_ngl_msg_archive": [
        {
         "args": [
          {
           "binary": false,
           "data": "MODEL     1\nATOM      1   Au MOL     1       0.000   0.000   0.000  1.00  0.00          AU  \nENDMDL\n",
           "type": "blob"
          }
         ],
         "kwargs": {
          "defaultRepresentation": false,
          "ext": "pdb"
         },
         "methodName": "loadFile",
         "reconstruc_color_scheme": false,
         "target": "Stage",
         "type": "call_method"
        },
        {
         "args": [
          "500px",
          "500px"
         ],
         "kwargs": {},
         "methodName": "setSize",
         "reconstruc_color_scheme": false,
         "target": "Widget",
         "type": "call_method"
        },
        {
         "args": [
          "unitcell"
         ],
         "component_index": 0,
         "kwargs": {
          "sele": "all"
         },
         "methodName": "addRepresentation",
         "reconstruc_color_scheme": false,
         "target": "compList",
         "type": "call_method"
        },
        {
         "args": [
          "spacefill"
         ],
         "component_index": 0,
         "kwargs": {
          "sele": "all"
         },
         "methodName": "addRepresentation",
         "reconstruc_color_scheme": false,
         "target": "compList",
         "type": "call_method"
        },
        {
         "args": [],
         "kwargs": {
          "cameraType": "orthographic"
         },
         "methodName": "setParameters",
         "reconstruc_color_scheme": false,
         "target": "Stage",
         "type": "call_method"
        },
        {
         "args": [
          {
           "clipDist": 0
          }
         ],
         "kwargs": {},
         "methodName": "setParameters",
         "reconstruc_color_scheme": false,
         "target": "Widget",
         "type": "call_method"
        },
        {
         "args": [
          "spacefill",
          0
         ],
         "kwargs": {
          "colorScale": "rainbow",
          "colorScheme": "element",
          "radiusScale": 0.5,
          "radiusType": "covalent"
         },
         "methodName": "updateRepresentationsByName",
         "reconstruc_color_scheme": false,
         "target": "Widget",
         "type": "call_method"
        },
        {
         "args": [
          "this._Q = [[1.0, 0.0, 0.0], [0.0, 1.0, 0.0], [0.0, 0.0, 1.0]]\n    var tooltip = document.createElement('div');\n    Object.assign(tooltip.style, {\n      display: 'none',\n      position: 'fixed',\n      zIndex: 10,\n      pointerEvents: 'none',\n      backgroundColor: 'rgba( 0, 0, 0, 0.6 )',\n      color: 'lightgrey',\n      padding: '8px',\n      fontFamily: 'sans-serif'\n    });\n    document.body.appendChild(tooltip);\n\n    var that = this;\n    this.stage.mouseControls.remove('hoverPick');\n    this.stage.signals.hovered.add(function (pickingProxy) {\n      if (pickingProxy && (pickingProxy.atom || pickingProxy.bond)) {\n        var atom = pickingProxy.atom || pickingProxy.closestBondAtom\n        var mp = pickingProxy.mouse.position\n        //tooltip.innerText = atom.element + ' i=' + atom.index + ' (' + atom.x.toFixed(2) +  ', ' + atom.y.toFixed(2) +  ', ' + atom.z.toFixed(2) + ')'\n        //var pos = that._atoms_pos[atom.index]\n        var Q = that._Q\n        var pos_x = Q[0][0] * atom.x + Q[0][1] * atom.y + Q[0][2] * atom.z \n        var pos_y = Q[1][0] * atom.x + Q[1][1] * atom.y + Q[1][2] * atom.z\n        var pos_z = Q[2][0] * atom.x + Q[2][1] * atom.y + Q[2][2] * atom.z\n        tooltip.innerText = 'i=' + atom.index + ' ' + atom.element + ' (' + pos_x.toFixed(2) +  ', ' + pos_y.toFixed(2) +  ', ' + pos_z.toFixed(2) + ')'\n        tooltip.style.bottom = window.innerHeight - mp.y + 3 + 'px'\n        tooltip.style.left = mp.x + 3 + 'px'\n        tooltip.style.display = 'block'\n      } else {\n        tooltip.style.display = 'none'\n      }\n    });\n    this.stage.tooltip = tooltip;\n    "
         ],
         "kwargs": {},
         "methodName": "executeCode",
         "reconstruc_color_scheme": false,
         "target": "Widget",
         "type": "call_method"
        }
       ],
       "_ngl_original_stage_parameters": {
        "ambientColor": 14540253,
        "ambientIntensity": 0.2,
        "backgroundColor": "white",
        "cameraEyeSep": 0.3,
        "cameraFov": 40,
        "cameraType": "perspective",
        "clipDist": 10,
        "clipFar": 100,
        "clipNear": 0,
        "fogFar": 100,
        "fogNear": 50,
        "hoverTimeout": 0,
        "impostor": true,
        "lightColor": 14540253,
        "lightIntensity": 1,
        "mousePreset": "default",
        "panSpeed": 1,
        "quality": "medium",
        "rotateSpeed": 2,
        "sampleLevel": 0,
        "tooltip": true,
        "workerDefault": true,
        "zoomSpeed": 1.2
       },
       "_ngl_repr_dict": {
        "0": {
         "0": {
          "params": {
           "clipCenter": {
            "x": 0,
            "y": 0,
            "z": 0
           },
           "clipNear": 0,
           "clipRadius": 0,
           "colorMode": "hcl",
           "colorReverse": false,
           "colorScale": "",
           "colorScheme": "element",
           "colorValue": "orange",
           "defaultAssembly": "",
           "depthWrite": true,
           "diffuse": 16777215,
           "diffuseInterior": false,
           "disableImpostor": false,
           "disablePicking": false,
           "flatShaded": false,
           "interiorColor": 2236962,
           "interiorDarkening": 0,
           "lazy": false,
           "matrix": {
            "elements": [
             1,
             0,
             0,
             0,
             0,
             1,
             0,
             0,
             0,
             0,
             1,
             0,
             0,
             0,
             0,
             1
            ]
           },
           "metalness": 0,
           "opacity": 1,
           "quality": "medium",
           "radialSegments": 10,
           "radiusData": {},
           "radiusScale": 1,
           "radiusSize": 0.5,
           "radiusType": "vdw",
           "roughness": 0.4,
           "sele": "all",
           "side": "double",
           "sphereDetail": 1,
           "useInteriorColor": true,
           "visible": true,
           "wireframe": false
          },
          "type": "unitcell"
         },
         "1": {
          "params": {
           "assembly": "default",
           "clipCenter": {
            "x": 0,
            "y": 0,
            "z": 0
           },
           "clipNear": 0,
           "clipRadius": 0,
           "colorMode": "hcl",
           "colorReverse": false,
           "colorScale": "rainbow",
           "colorScheme": "element",
           "colorValue": 9474192,
           "defaultAssembly": "",
           "depthWrite": true,
           "diffuse": 16777215,
           "diffuseInterior": false,
           "disableImpostor": false,
           "disablePicking": false,
           "flatShaded": false,
           "interiorColor": 2236962,
           "interiorDarkening": 0,
           "lazy": false,
           "matrix": {
            "elements": [
             1,
             0,
             0,
             0,
             0,
             1,
             0,
             0,
             0,
             0,
             1,
             0,
             0,
             0,
             0,
             1
            ]
           },
           "metalness": 0,
           "opacity": 1,
           "quality": "medium",
           "radiusData": {},
           "radiusScale": 0.5,
           "radiusSize": 1,
           "radiusType": "covalent",
           "roughness": 0.4,
           "sele": "all",
           "side": "double",
           "sphereDetail": 1,
           "useInteriorColor": true,
           "visible": true,
           "wireframe": false
          },
          "type": "spacefill"
         }
        }
       },
       "_ngl_serialize": false,
       "_ngl_version": "2.0.0-dev.36",
       "_ngl_view_id": [
        "A9BB444C-90A2-4749-91C7-C3FB2EDE7998"
       ],
       "_player_dict": {},
       "_scene_position": {},
       "_scene_rotation": {},
       "_synced_model_ids": [],
       "_synced_repr_model_ids": [],
       "_view_height": "",
       "_view_width": "",
       "background": "white",
       "frame": 0,
       "gui_style": null,
       "layout": "IPY_MODEL_c5de1b3b2edb4cbcb9cfc171f6e215f5",
       "max_frame": 1,
       "n_components": 1,
       "picked": {}
      }
     },
     "1e6e747056d44a529e1832a7f075b3ab": {
      "model_module": "@jupyter-widgets/base",
      "model_module_version": "1.2.0",
      "model_name": "LayoutModel",
      "state": {}
     },
     "2187c5a11ed04fc981fdf1bd97132e21": {
      "model_module": "@jupyter-widgets/controls",
      "model_module_version": "1.5.0",
      "model_name": "FloatSliderModel",
      "state": {
       "description": "Charge scale",
       "layout": "IPY_MODEL_b77aededb3d6479c99f811eda1102ead",
       "step": 0.1,
       "style": "IPY_MODEL_4c4aca4d65764f2a9a0f3d1b4cfb977c",
       "value": 1
      }
     },
     "222ce992a00b4175b4feecf81825b227": {
      "model_module": "@jupyter-widgets/controls",
      "model_module_version": "1.5.0",
      "model_name": "DescriptionStyleModel",
      "state": {
       "description_width": ""
      }
     },
     "22a7a56a9a72410e9f70c0fb09cbb378": {
      "model_module": "@jupyter-widgets/controls",
      "model_module_version": "1.5.0",
      "model_name": "DescriptionStyleModel",
      "state": {
       "description_width": ""
      }
     },
     "23eab1074b6d4050bd6731293e455922": {
      "model_module": "@jupyter-widgets/controls",
      "model_module_version": "1.5.0",
      "model_name": "SliderStyleModel",
      "state": {
       "description_width": ""
      }
     },
     "249c6e257c924451913ab719d96d47db": {
      "model_module": "@jupyter-widgets/controls",
      "model_module_version": "1.5.0",
      "model_name": "HBoxModel",
      "state": {
       "children": [
        "IPY_MODEL_b5c0156b15a54f8a8dd619176f3c72d9",
        "IPY_MODEL_dfab9a8da2de42f9af351ac196a715f7"
       ],
       "layout": "IPY_MODEL_8afbfc09d7c44012873c05ac4d148bc3"
      }
     },
     "24c04633845b4f909daf1419f52035b1": {
      "model_module": "@jupyter-widgets/base",
      "model_module_version": "1.2.0",
      "model_name": "LayoutModel",
      "state": {}
     },
     "27729d6261f445648ce16725ed2cf474": {
      "model_module": "@jupyter-widgets/controls",
      "model_module_version": "1.5.0",
      "model_name": "HBoxModel",
      "state": {
       "children": [
        "IPY_MODEL_afae2c02e47b44168879742d8aa0bba9",
        "IPY_MODEL_57141c557f0c4770bca8aa2ae97f88ca"
       ],
       "layout": "IPY_MODEL_f2ba8d48a3cf4081b6f119e9324fbd8a"
      }
     },
     "298104a8774142eca8e627f9badba937": {
      "model_module": "@jupyter-widgets/base",
      "model_module_version": "1.2.0",
      "model_name": "LayoutModel",
      "state": {}
     },
     "2d9c810a033c42b994f54f0f3e05e855": {
      "model_module": "@jupyter-widgets/base",
      "model_module_version": "1.2.0",
      "model_name": "LayoutModel",
      "state": {}
     },
     "2ecc26243dc3485ba28f03b3fb17d17c": {
      "model_module": "@jupyter-widgets/controls",
      "model_module_version": "1.5.0",
      "model_name": "CheckboxModel",
      "state": {
       "description": "Show charge",
       "disabled": false,
       "layout": "IPY_MODEL_4b49591d6dd74813bdc4ddf18c4c8437",
       "style": "IPY_MODEL_222ce992a00b4175b4feecf81825b227",
       "value": false
      }
     },
     "2f82452906864ce28bc524f01a0afa98": {
      "model_module": "@jupyter-widgets/base",
      "model_module_version": "1.2.0",
      "model_name": "LayoutModel",
      "state": {}
     },
     "2fd603f188384bebbd9af82f6fa593d4": {
      "model_module": "@jupyter-widgets/base",
      "model_module_version": "1.2.0",
      "model_name": "LayoutModel",
      "state": {}
     },
     "310372109e364acd81cdc2b97c5c8d67": {
      "model_module": "@jupyter-widgets/controls",
      "model_module_version": "1.5.0",
      "model_name": "ButtonStyleModel",
      "state": {}
     },
     "314316e5265e45aa8c7baa6a804a0877": {
      "model_module": "@jupyter-widgets/base",
      "model_module_version": "1.2.0",
      "model_name": "LayoutModel",
      "state": {}
     },
     "31f7675384174bc992134eea4fd65d39": {
      "model_module": "@jupyter-widgets/controls",
      "model_module_version": "1.5.0",
      "model_name": "VBoxModel",
      "state": {
       "children": [
        "IPY_MODEL_47a2f1d817e04d37bb94c59bca2900aa",
        "IPY_MODEL_63f81770a9af452d82bb50df013f6f7f",
        "IPY_MODEL_be10c3562da04443a4d608f6499a18f1",
        "IPY_MODEL_d289f1e9307d41a89c2ebf6d0cbbe236",
        "IPY_MODEL_1d4c1e040e704935b77b857730691208",
        "IPY_MODEL_42161beb8307459bb939172fa8fd36fa",
        "IPY_MODEL_aa37142667a045edb676ef40aecac531",
        "IPY_MODEL_79ecc44824524ba786f332fc83908060",
        "IPY_MODEL_2ecc26243dc3485ba28f03b3fb17d17c",
        "IPY_MODEL_b80a14dea0534fa182e72c686c364353",
        "IPY_MODEL_6434b264df9a43e480690f61c253c690"
       ],
       "layout": "IPY_MODEL_24c04633845b4f909daf1419f52035b1"
      }
     },
     "3503a2c0c823466799a655031b356b6c": {
      "model_module": "@jupyter-widgets/controls",
      "model_module_version": "1.5.0",
      "model_name": "DropdownModel",
      "state": {
       "_options_labels": [
        "All",
        "As",
        "Ga"
       ],
       "description": "Show",
       "index": 0,
       "layout": "IPY_MODEL_1348b078ac454a2cb636bb23f44fd6d1",
       "style": "IPY_MODEL_9c11e6de9de4403b9fa5ee3b306b05f1"
      }
     },
     "38db635c717644948ce305fca71d0e01": {
      "model_module": "@jupyter-widgets/controls",
      "model_module_version": "1.5.0",
      "model_name": "LinkModel",
      "state": {
       "source": [
        "IPY_MODEL_830a3699931d4324af6b9a66dfbc342f",
        "value"
       ],
       "target": [
        "IPY_MODEL_70961fc1430e4368b3119a5920d05460",
        "value"
       ]
      }
     },
     "3a23fe07e6d24784b416b76bec9cfbb6": {
      "model_module": "@jupyter-widgets/controls",
      "model_module_version": "1.5.0",
      "model_name": "LinkModel",
      "state": {
       "source": [
        "IPY_MODEL_afae2c02e47b44168879742d8aa0bba9",
        "value"
       ],
       "target": [
        "IPY_MODEL_57141c557f0c4770bca8aa2ae97f88ca",
        "value"
       ]
      }
     },
     "3ed38460314048b0842edbd689288a3d": {
      "model_module": "@jupyter-widgets/output",
      "model_module_version": "1.0.0",
      "model_name": "OutputModel",
      "state": {
       "layout": "IPY_MODEL_0904adfb20b34eab95320cc4257932b0"
      }
     },
     "3fa0772656034027ab0b5f73d591aecb": {
      "model_module": "@jupyter-widgets/controls",
      "model_module_version": "1.5.0",
      "model_name": "ImageModel",
      "state": {
       "layout": "IPY_MODEL_8405fcf523e64202ad3511dd91f10091",
       "width": "900.0"
      }
     },
     "4041711fe0044f25a9fbcd3369e44c25": {
      "model_module": "@jupyter-widgets/base",
      "model_module_version": "1.2.0",
      "model_name": "LayoutModel",
      "state": {}
     },
     "42161beb8307459bb939172fa8fd36fa": {
      "model_module": "@jupyter-widgets/controls",
      "model_module_version": "1.5.0",
      "model_name": "HBoxModel",
      "state": {
       "children": [
        "IPY_MODEL_847e883d248f4eb6988c95a02040742d",
        "IPY_MODEL_d2a1d15e58ef4575981f7b20f0389b15"
       ],
       "layout": "IPY_MODEL_7ba77812b4204adca12010799c7ca872"
      }
     },
     "42d19ff8817a4e12a484f27fa05271ba": {
      "model_module": "@jupyter-widgets/controls",
      "model_module_version": "1.5.0",
      "model_name": "DescriptionStyleModel",
      "state": {
       "description_width": ""
      }
     },
     "4609283be282421d857dd6729979f567": {
      "model_module": "@jupyter-widgets/controls",
      "model_module_version": "1.5.0",
      "model_name": "FloatSliderModel",
      "state": {
       "description": "Charge scale",
       "layout": "IPY_MODEL_5d9b3e5c253349efb5aea1a9b7561acb",
       "step": 0.1,
       "style": "IPY_MODEL_f96bf28e0ae64ad8b5f155950b2bc8df",
       "value": 1
      }
     },
     "47a2f1d817e04d37bb94c59bca2900aa": {
      "model_module": "@jupyter-widgets/controls",
      "model_module_version": "1.5.0",
      "model_name": "DropdownModel",
      "state": {
       "_options_labels": [
        "All",
        "Au"
       ],
       "description": "Show",
       "index": 0,
       "layout": "IPY_MODEL_4ef17e4814e54c4cbd229f541876ed45",
       "style": "IPY_MODEL_efb02cd378374660956d4f027a65a336"
      }
     },
     "4b49591d6dd74813bdc4ddf18c4c8437": {
      "model_module": "@jupyter-widgets/base",
      "model_module_version": "1.2.0",
      "model_name": "LayoutModel",
      "state": {}
     },
     "4c4aca4d65764f2a9a0f3d1b4cfb977c": {
      "model_module": "@jupyter-widgets/controls",
      "model_module_version": "1.5.0",
      "model_name": "SliderStyleModel",
      "state": {
       "description_width": ""
      }
     },
     "4c6ee3f723f34e23b406b2a480ff0a66": {
      "model_module": "@jupyter-widgets/controls",
      "model_module_version": "1.5.0",
      "model_name": "DescriptionStyleModel",
      "state": {
       "description_width": ""
      }
     },
     "4ebf511d303f4d6dadcfd1a6f3e0ec7f": {
      "model_module": "@jupyter-widgets/controls",
      "model_module_version": "1.5.0",
      "model_name": "LinkModel",
      "state": {
       "source": [
        "IPY_MODEL_b8635a75bcd64ad8affada0d7c742d8b",
        "value"
       ],
       "target": [
        "IPY_MODEL_5b1a55aa819342a3be5dcc40906919ef",
        "frame"
       ]
      }
     },
     "4ef17e4814e54c4cbd229f541876ed45": {
      "model_module": "@jupyter-widgets/base",
      "model_module_version": "1.2.0",
      "model_name": "LayoutModel",
      "state": {}
     },
     "4fbbc5e0ed7842f781fbcacce0905b97": {
      "model_module": "@jupyter-widgets/base",
      "model_module_version": "1.2.0",
      "model_name": "LayoutModel",
      "state": {}
     },
     "51238e3fdaee4f748c1c61dfa5bbbf12": {
      "model_module": "@jupyter-widgets/controls",
      "model_module_version": "1.5.0",
      "model_name": "DescriptionStyleModel",
      "state": {
       "description_width": ""
      }
     },
     "518daeca38f1477393530bb388e1c41f": {
      "model_module": "@jupyter-widgets/controls",
      "model_module_version": "1.5.0",
      "model_name": "HBoxModel",
      "state": {
       "children": [
        "IPY_MODEL_830a3699931d4324af6b9a66dfbc342f",
        "IPY_MODEL_70961fc1430e4368b3119a5920d05460"
       ],
       "layout": "IPY_MODEL_83c71b69957f4398b18e0868ff40386c"
      }
     },
     "5275f8804b234bb2880e09895361f20c": {
      "model_module": "@jupyter-widgets/controls",
      "model_module_version": "1.5.0",
      "model_name": "CheckboxModel",
      "state": {
       "description": "Show force",
       "disabled": false,
       "layout": "IPY_MODEL_d4697a8538a84e9b8375d4d68096b14f",
       "style": "IPY_MODEL_71cfea2233214ea1bb551d6f9b9a406a",
       "value": false
      }
     },
     "52d33cd618214a61a3cb2c0e4e47ee4d": {
      "model_module": "@jupyter-widgets/base",
      "model_module_version": "1.2.0",
      "model_name": "LayoutModel",
      "state": {}
     },
     "53ced95f8cdc41b5b21fa4984fb910bd": {
      "model_module": "@jupyter-widgets/base",
      "model_module_version": "1.2.0",
      "model_name": "LayoutModel",
      "state": {
       "border": "0px solid black"
      }
     },
     "565830152e3e484f930b10d16385f3c4": {
      "model_module": "@jupyter-widgets/controls",
      "model_module_version": "1.5.0",
      "model_name": "DescriptionStyleModel",
      "state": {
       "description_width": ""
      }
     },
     "57141c557f0c4770bca8aa2ae97f88ca": {
      "model_module": "@jupyter-widgets/controls",
      "model_module_version": "1.5.0",
      "model_name": "IntSliderModel",
      "state": {
       "layout": "IPY_MODEL_f1edf76b5c7b4fa6a693c5f7e7d3e494",
       "max": 0,
       "style": "IPY_MODEL_6ff0087ecbc0441e936f3d91e8893ad7"
      }
     },
     "5a590af6f7a64529abe55472802ab220": {
      "model_module": "@jupyter-widgets/controls",
      "model_module_version": "1.5.0",
      "model_name": "LinkModel",
      "state": {
       "source": [
        "IPY_MODEL_70961fc1430e4368b3119a5920d05460",
        "max"
       ],
       "target": [
        "IPY_MODEL_1d5ea0fef6984c30b60c305b4eca3996",
        "max_frame"
       ]
      }
     },
     "5b1a55aa819342a3be5dcc40906919ef": {
      "model_module": "nglview-js-widgets",
      "model_module_version": "3.0.1",
      "model_name": "NGLModel",
      "state": {
       "_camera_orientation": [
        35.88304242435771,
        0,
        0,
        0,
        0,
        35.88304242435771,
        0,
        0,
        0,
        0,
        35.88304242435771,
        0,
        -12.145000398159027,
        -6.609000205993652,
        -4.689999782538507,
        1
       ],
       "_camera_str": "orthographic",
       "_gui_theme": null,
       "_ibtn_fullscreen": "IPY_MODEL_bc9a3d24ea334264aa62388d7d5731cc",
       "_igui": null,
       "_iplayer": "IPY_MODEL_f42bfea4502e475391e07cfe389fd175",
       "_ngl_color_dict": {},
       "_ngl_coordinate_resource": {},
       "_ngl_full_stage_parameters": {
        "ambientColor": 14540253,
        "ambientIntensity": 0.2,
        "backgroundColor": "white",
        "cameraEyeSep": 0.3,
        "cameraFov": 40,
        "cameraType": "orthographic",
        "clipDist": 0,
        "clipFar": 100,
        "clipNear": 0,
        "fogFar": 100,
        "fogNear": 50,
        "hoverTimeout": 0,
        "impostor": true,
        "lightColor": 14540253,
        "lightIntensity": 1,
        "mousePreset": "default",
        "panSpeed": 1,
        "quality": "medium",
        "rotateSpeed": 2,
        "sampleLevel": 0,
        "tooltip": true,
        "workerDefault": true,
        "zoomSpeed": 1.2
       },
       "_ngl_msg_archive": [
        {
         "args": [
          {
           "binary": false,
           "data": "CRYST1   14.302   14.302   14.302  60.00  60.00  60.00 P 1\nMODEL     1\nATOM      1   Al MOL     1       1.406   0.812   2.296  1.00  0.00          AL  \nATOM      2   Al MOL     1       2.856   1.649   4.663  1.00  0.00          AL  \nATOM      3   Al MOL     1       4.295   2.480   7.014  1.00  0.00          AL  \nATOM      4   Al MOL     1       5.745   3.317   9.381  1.00  0.00          AL  \nATOM      5   Al MOL     1       1.406   2.435  -0.000  1.00  0.00          AL  \nATOM      6   Al MOL     1       2.863   3.303   2.336  1.00  0.00          AL  \nATOM      7   Al MOL     1       4.290   4.127   4.672  1.00  0.00          AL  \nATOM      8   Al MOL     1       5.722   4.954   7.004  1.00  0.00          AL  \nATOM      9   Al MOL     1       7.151   5.752   9.381  1.00  0.00          AL  \nATOM     10   Al MOL     1       2.856   4.946  -0.000  1.00  0.00          AL  \nATOM     11   Al MOL     1       4.290   5.780   2.334  1.00  0.00          AL  \nATOM     12   Al MOL     1       5.722   6.607   4.672  1.00  0.00          AL  \nATOM     13   Al MOL     1       7.151   7.426   7.014  1.00  0.00          AL  \nATOM     14   Al MOL     1       8.581   8.259   9.342  1.00  0.00          AL  \nATOM     15   Al MOL     1       4.295   7.440   0.000  1.00  0.00          AL  \nATOM     16   Al MOL     1       5.722   8.255   2.336  1.00  0.00          AL  \nATOM     17   Al MOL     1       7.151   9.088   4.663  1.00  0.00          AL  \nATOM     18   Al MOL     1       8.581   9.908   7.006  1.00  0.00          AL  \nATOM     19   Al MOL     1      10.012  10.734   9.343  1.00  0.00          AL  \nATOM     20   Al MOL     1       5.745   9.950   0.000  1.00  0.00          AL  \nATOM     21   Al MOL     1       7.151  10.762   2.296  1.00  0.00          AL  \nATOM     22   Al MOL     1       8.581  11.560   4.673  1.00  0.00          AL  \nATOM     23   Al MOL     1      10.012  12.387   7.006  1.00  0.00          AL  \nATOM     24   Al MOL     1      11.440  13.211   9.342  1.00  0.00          AL  \nATOM     25   Al MOL     1       2.812  -0.000  -0.000  1.00  0.00          AL  \nATOM     26   Al MOL     1       4.292   0.827   2.336  1.00  0.00          AL  \nATOM     27   Al MOL     1       5.720   1.652   4.672  1.00  0.00          AL  \nATOM     28   Al MOL     1       7.151   2.478   7.004  1.00  0.00          AL  \nATOM     29   Al MOL     1       8.557   3.317   9.381  1.00  0.00          AL  \nATOM     30   Al MOL     1       4.292   2.478   0.001  1.00  0.00          AL  \nATOM     31   Al MOL     1       5.720   3.303   2.335  1.00  0.00          AL  \nATOM     32   Al MOL     1       7.151   4.129   4.672  1.00  0.00          AL  \nATOM     33   Al MOL     1       8.581   4.954   7.004  1.00  0.00          AL  \nATOM     34   Al MOL     1      10.006   5.777   9.347  1.00  0.00          AL  \nATOM     35   Al MOL     1       5.720   4.955   0.000  1.00  0.00          AL  \nATOM     36   Al MOL     1       7.151   5.781   2.335  1.00  0.00          AL  \nATOM     37   Al MOL     1       8.580   6.607   4.672  1.00  0.00          AL  \nATOM     38   Al MOL     1      10.011   7.431   7.007  1.00  0.00          AL  \nATOM     39   Al MOL     1      11.441   8.257   9.343  1.00  0.00          AL  \nATOM     40   Al MOL     1       7.151   7.430   0.001  1.00  0.00          AL  \nATOM     41   Al MOL     1       8.581   8.255   2.336  1.00  0.00          AL  \nATOM     42   Al MOL     1      10.011   9.083   4.671  1.00  0.00          AL  \nATOM     43   Al MOL     1      11.442   9.909   7.006  1.00  0.00          AL  \nATOM     44   Al MOL     1      12.872  10.735   9.343  1.00  0.00          AL  \nATOM     45   Al MOL     1       8.557   9.950  -0.000  1.00  0.00          AL  \nATOM     46   Al MOL     1      10.006  10.738   2.331  1.00  0.00          AL  \nATOM     47   Al MOL     1      11.441  11.560   4.671  1.00  0.00          AL  \nATOM     48   Al MOL     1      12.872  12.387   7.007  1.00  0.00          AL  \nATOM     49   Al MOL     1      14.302  13.218   9.347  1.00  0.00          AL  \nATOM     50   Al MOL     1       5.711  -0.000   0.000  1.00  0.00          AL  \nATOM     51   Al MOL     1       7.151   0.825   2.334  1.00  0.00          AL  \nATOM     52   Al MOL     1       8.582   1.652   4.672  1.00  0.00          AL  \nATOM     53   Al MOL     1      10.007   2.480   7.014  1.00  0.00          AL  \nATOM     54   Al MOL     1      11.443   3.301   9.342  1.00  0.00          AL  \nATOM     55   Al MOL     1       7.151   2.476   0.000  1.00  0.00          AL  \nATOM     56   Al MOL     1       8.582   3.303   2.335  1.00  0.00          AL  \nATOM     57   Al MOL     1      10.012   4.127   4.672  1.00  0.00          AL  \nATOM     58   Al MOL     1      11.441   4.954   7.007  1.00  0.00          AL  \nATOM     59   Al MOL     1      12.871   5.780   9.343  1.00  0.00          AL  \nATOM     60   Al MOL     1       8.582   4.955   0.000  1.00  0.00          AL  \nATOM     61   Al MOL     1      10.012   5.780   2.334  1.00  0.00          AL  \nATOM     62   Al MOL     1      11.442   6.606   4.671  1.00  0.00          AL  \nATOM     63   Al MOL     1      12.872   7.432   7.007  1.00  0.00          AL  \nATOM     64   Al MOL     1      14.302   8.257   9.342  1.00  0.00          AL  \nATOM     65   Al MOL     1      10.007   7.440   0.000  1.00  0.00          AL  \nATOM     66   Al MOL     1      11.441   8.258   2.335  1.00  0.00          AL  \nATOM     67   Al MOL     1      12.872   9.083   4.671  1.00  0.00          AL  \nATOM     68   Al MOL     1      14.302   9.909   7.007  1.00  0.00          AL  \nATOM     69   Al MOL     1      15.732  10.735   9.343  1.00  0.00          AL  \nATOM     70   Al MOL     1      11.443   9.908  -0.001  1.00  0.00          AL  \nATOM     71   Al MOL     1      12.871  10.735   2.335  1.00  0.00          AL  \nATOM     72   Al MOL     1      14.302  11.560   4.671  1.00  0.00          AL  \nATOM     73   Al MOL     1      15.732  12.387   7.007  1.00  0.00          AL  \nATOM     74   Al MOL     1      17.165  13.211   9.342  1.00  0.00          AL  \nATOM     75   Al MOL     1       8.591  -0.000   0.000  1.00  0.00          AL  \nATOM     76   Al MOL     1      10.010   0.827   2.336  1.00  0.00          AL  \nATOM     77   Al MOL     1      11.446   1.649   4.663  1.00  0.00          AL  \nATOM     78   Al MOL     1      12.871   2.477   7.006  1.00  0.00          AL  \nATOM     79   Al MOL     1      14.302   3.303   9.343  1.00  0.00          AL  \nATOM     80   Al MOL     1      10.010   2.478   0.001  1.00  0.00          AL  \nATOM     81   Al MOL     1      11.439   3.303   2.336  1.00  0.00          AL  \nATOM     82   Al MOL     1      12.872   4.128   4.671  1.00  0.00          AL  \nATOM     83   Al MOL     1      14.302   4.955   7.006  1.00  0.00          AL  \nATOM     84   Al MOL     1      15.733   5.780   9.343  1.00  0.00          AL  \nATOM     85   Al MOL     1      11.446   4.946  -0.000  1.00  0.00          AL  \nATOM     86   Al MOL     1      12.872   5.779   2.335  1.00  0.00          AL  \nATOM     87   Al MOL     1      14.302   6.606   4.671  1.00  0.00          AL  \nATOM     88   Al MOL     1      15.732   7.432   7.007  1.00  0.00          AL  \nATOM     89   Al MOL     1      17.163   8.257   9.343  1.00  0.00          AL  \nATOM     90   Al MOL     1      12.871   7.431  -0.000  1.00  0.00          AL  \nATOM     91   Al MOL     1      14.302   8.257   2.336  1.00  0.00          AL  \nATOM     92   Al MOL     1      15.732   9.083   4.671  1.00  0.00          AL  \nATOM     93   Al MOL     1      17.162   9.909   7.006  1.00  0.00          AL  \nATOM     94   Al MOL     1      18.592  10.734   9.343  1.00  0.00          AL  \nATOM     95   Al MOL     1      14.302   9.910  -0.000  1.00  0.00          AL  \nATOM     96   Al MOL     1      15.733  10.735   2.335  1.00  0.00          AL  \nATOM     97   Al MOL     1      17.163  11.560   4.671  1.00  0.00          AL  \nATOM     98   Al MOL     1      18.592  12.387   7.006  1.00  0.00          AL  \nATOM     99   Al MOL     1      20.022  13.212   9.342  1.00  0.00          AL  \nATOM    100   Al MOL     1      11.490   0.000   0.000  1.00  0.00          AL  \nATOM    101   Al MOL     1      12.896   0.812   2.296  1.00  0.00          AL  \nATOM    102   Al MOL     1      14.302   1.651   4.673  1.00  0.00          AL  \nATOM    103   Al MOL     1      15.733   2.477   7.006  1.00  0.00          AL  \nATOM    104   Al MOL     1      17.161   3.301   9.342  1.00  0.00          AL  \nATOM    105   Al MOL     1      12.896   2.435   0.000  1.00  0.00          AL  \nATOM    106   Al MOL     1      14.302   3.296   2.331  1.00  0.00          AL  \nATOM    107   Al MOL     1      15.732   4.128   4.671  1.00  0.00          AL  \nATOM    108   Al MOL     1      17.163   4.954   7.007  1.00  0.00          AL  \nATOM    109   Al MOL     1      18.598   5.777   9.347  1.00  0.00          AL  \nATOM    110   Al MOL     1      14.302   4.956  -0.001  1.00  0.00          AL  \nATOM    111   Al MOL     1      15.732   5.779   2.335  1.00  0.00          AL  \nATOM    112   Al MOL     1      17.162   6.606   4.671  1.00  0.00          AL  \nATOM    113   Al MOL     1      18.593   7.431   7.007  1.00  0.00          AL  \nATOM    114   Al MOL     1      20.023   8.259   9.342  1.00  0.00          AL  \nATOM    115   Al MOL     1      15.733   7.431  -0.000  1.00  0.00          AL  \nATOM    116   Al MOL     1      17.163   8.258   2.335  1.00  0.00          AL  \nATOM    117   Al MOL     1      18.593   9.083   4.671  1.00  0.00          AL  \nATOM    118   Al MOL     1      20.024   9.908   7.006  1.00  0.00          AL  \nATOM    119   Al MOL     1      21.453  10.734   9.342  1.00  0.00          AL  \nATOM    120   Al MOL     1      17.161   9.908  -0.001  1.00  0.00          AL  \nATOM    121   Al MOL     1      18.598  10.738   2.331  1.00  0.00          AL  \nATOM    122   Al MOL     1      20.024  11.560   4.673  1.00  0.00          AL  \nATOM    123   Al MOL     1      21.453  12.386   7.006  1.00  0.00          AL  \nATOM    124   Al MOL     1      22.884  13.212   9.342  1.00  0.00          AL  \nENDMDL\n",
           "type": "blob"
          }
         ],
         "kwargs": {
          "defaultRepresentation": false,
          "ext": "pdb"
         },
         "methodName": "loadFile",
         "reconstruc_color_scheme": false,
         "target": "Stage",
         "type": "call_method"
        },
        {
         "args": [
          "500px",
          "500px"
         ],
         "kwargs": {},
         "methodName": "setSize",
         "reconstruc_color_scheme": false,
         "target": "Widget",
         "type": "call_method"
        },
        {
         "args": [
          "unitcell"
         ],
         "component_index": 0,
         "kwargs": {
          "sele": "all"
         },
         "methodName": "addRepresentation",
         "reconstruc_color_scheme": false,
         "target": "compList",
         "type": "call_method"
        },
        {
         "args": [
          "spacefill"
         ],
         "component_index": 0,
         "kwargs": {
          "sele": "all"
         },
         "methodName": "addRepresentation",
         "reconstruc_color_scheme": false,
         "target": "compList",
         "type": "call_method"
        },
        {
         "args": [],
         "kwargs": {
          "cameraType": "orthographic"
         },
         "methodName": "setParameters",
         "reconstruc_color_scheme": false,
         "target": "Stage",
         "type": "call_method"
        },
        {
         "args": [
          {
           "clipDist": 0
          }
         ],
         "kwargs": {},
         "methodName": "setParameters",
         "reconstruc_color_scheme": false,
         "target": "Widget",
         "type": "call_method"
        },
        {
         "args": [
          "spacefill",
          0
         ],
         "kwargs": {
          "colorScale": "rainbow",
          "colorScheme": "element",
          "radiusScale": 0.5,
          "radiusType": "covalent"
         },
         "methodName": "updateRepresentationsByName",
         "reconstruc_color_scheme": false,
         "target": "Widget",
         "type": "call_method"
        },
        {
         "args": [
          "this._Q = [[9.321558894548332e-06, 0.7071063052552798, 0.7071072570560532], [0.8164952446535673, -0.40825528325339905, 0.40824397013770874], [0.577352158886775, 0.5773459073760839, -0.5773527412811568]]\n    var tooltip = document.createElement('div');\n    Object.assign(tooltip.style, {\n      display: 'none',\n      position: 'fixed',\n      zIndex: 10,\n      pointerEvents: 'none',\n      backgroundColor: 'rgba( 0, 0, 0, 0.6 )',\n      color: 'lightgrey',\n      padding: '8px',\n      fontFamily: 'sans-serif'\n    });\n    document.body.appendChild(tooltip);\n\n    var that = this;\n    this.stage.mouseControls.remove('hoverPick');\n    this.stage.signals.hovered.add(function (pickingProxy) {\n      if (pickingProxy && (pickingProxy.atom || pickingProxy.bond)) {\n        var atom = pickingProxy.atom || pickingProxy.closestBondAtom\n        var mp = pickingProxy.mouse.position\n        //tooltip.innerText = atom.element + ' i=' + atom.index + ' (' + atom.x.toFixed(2) +  ', ' + atom.y.toFixed(2) +  ', ' + atom.z.toFixed(2) + ')'\n        //var pos = that._atoms_pos[atom.index]\n        var Q = that._Q\n        var pos_x = Q[0][0] * atom.x + Q[0][1] * atom.y + Q[0][2] * atom.z \n        var pos_y = Q[1][0] * atom.x + Q[1][1] * atom.y + Q[1][2] * atom.z\n        var pos_z = Q[2][0] * atom.x + Q[2][1] * atom.y + Q[2][2] * atom.z\n        tooltip.innerText = 'i=' + atom.index + ' ' + atom.element + ' (' + pos_x.toFixed(2) +  ', ' + pos_y.toFixed(2) +  ', ' + pos_z.toFixed(2) + ')'\n        tooltip.style.bottom = window.innerHeight - mp.y + 3 + 'px'\n        tooltip.style.left = mp.x + 3 + 'px'\n        tooltip.style.display = 'block'\n      } else {\n        tooltip.style.display = 'none'\n      }\n    });\n    this.stage.tooltip = tooltip;\n    "
         ],
         "kwargs": {},
         "methodName": "executeCode",
         "reconstruc_color_scheme": false,
         "target": "Widget",
         "type": "call_method"
        }
       ],
       "_ngl_original_stage_parameters": {
        "ambientColor": 14540253,
        "ambientIntensity": 0.2,
        "backgroundColor": "white",
        "cameraEyeSep": 0.3,
        "cameraFov": 40,
        "cameraType": "perspective",
        "clipDist": 10,
        "clipFar": 100,
        "clipNear": 0,
        "fogFar": 100,
        "fogNear": 50,
        "hoverTimeout": 0,
        "impostor": true,
        "lightColor": 14540253,
        "lightIntensity": 1,
        "mousePreset": "default",
        "panSpeed": 1,
        "quality": "medium",
        "rotateSpeed": 2,
        "sampleLevel": 0,
        "tooltip": true,
        "workerDefault": true,
        "zoomSpeed": 1.2
       },
       "_ngl_repr_dict": {
        "0": {
         "0": {
          "params": {
           "clipCenter": {
            "x": 0,
            "y": 0,
            "z": 0
           },
           "clipNear": 0,
           "clipRadius": 0,
           "colorMode": "hcl",
           "colorReverse": false,
           "colorScale": "",
           "colorScheme": "element",
           "colorValue": "orange",
           "defaultAssembly": "",
           "depthWrite": true,
           "diffuse": 16777215,
           "diffuseInterior": false,
           "disableImpostor": false,
           "disablePicking": false,
           "flatShaded": false,
           "interiorColor": 2236962,
           "interiorDarkening": 0,
           "lazy": false,
           "matrix": {
            "elements": [
             1,
             0,
             0,
             0,
             0,
             1,
             0,
             0,
             0,
             0,
             1,
             0,
             0,
             0,
             0,
             1
            ]
           },
           "metalness": 0,
           "opacity": 1,
           "quality": "medium",
           "radialSegments": 10,
           "radiusData": {},
           "radiusScale": 1,
           "radiusSize": 0.06370271674421175,
           "radiusType": "vdw",
           "roughness": 0.4,
           "sele": "all",
           "side": "double",
           "sphereDetail": 1,
           "useInteriorColor": true,
           "visible": true,
           "wireframe": false
          },
          "type": "unitcell"
         },
         "1": {
          "params": {
           "assembly": "default",
           "clipCenter": {
            "x": 0,
            "y": 0,
            "z": 0
           },
           "clipNear": 0,
           "clipRadius": 0,
           "colorMode": "hcl",
           "colorReverse": false,
           "colorScale": "rainbow",
           "colorScheme": "element",
           "colorValue": 9474192,
           "defaultAssembly": "",
           "depthWrite": true,
           "diffuse": 16777215,
           "diffuseInterior": false,
           "disableImpostor": false,
           "disablePicking": false,
           "flatShaded": false,
           "interiorColor": 2236962,
           "interiorDarkening": 0,
           "lazy": false,
           "matrix": {
            "elements": [
             1,
             0,
             0,
             0,
             0,
             1,
             0,
             0,
             0,
             0,
             1,
             0,
             0,
             0,
             0,
             1
            ]
           },
           "metalness": 0,
           "opacity": 1,
           "quality": "medium",
           "radiusData": {},
           "radiusScale": 0.5,
           "radiusSize": 1,
           "radiusType": "covalent",
           "roughness": 0.4,
           "sele": "all",
           "side": "double",
           "sphereDetail": 1,
           "useInteriorColor": true,
           "visible": true,
           "wireframe": false
          },
          "type": "spacefill"
         }
        }
       },
       "_ngl_serialize": false,
       "_ngl_version": "2.0.0-dev.36",
       "_ngl_view_id": [
        "6C45FFC6-00C8-4E29-8004-55F0C19AE918"
       ],
       "_player_dict": {},
       "_scene_position": {},
       "_scene_rotation": {},
       "_synced_model_ids": [],
       "_synced_repr_model_ids": [],
       "_view_height": "",
       "_view_width": "",
       "background": "white",
       "frame": 0,
       "gui_style": null,
       "layout": "IPY_MODEL_9647b719031644c18d2cbec7ff5fc8e4",
       "max_frame": 1,
       "n_components": 1,
       "picked": {}
      }
     },
     "5d9b3e5c253349efb5aea1a9b7561acb": {
      "model_module": "@jupyter-widgets/base",
      "model_module_version": "1.2.0",
      "model_name": "LayoutModel",
      "state": {}
     },
     "5e8636b8089440bb9a838d4adf0f0a5b": {
      "model_module": "@jupyter-widgets/controls",
      "model_module_version": "1.5.0",
      "model_name": "ButtonStyleModel",
      "state": {}
     },
     "62f698a66a24486ea43d6c62f9a59fd9": {
      "model_module": "@jupyter-widgets/base",
      "model_module_version": "1.2.0",
      "model_name": "LayoutModel",
      "state": {}
     },
     "63f81770a9af452d82bb50df013f6f7f": {
      "model_module": "@jupyter-widgets/controls",
      "model_module_version": "1.5.0",
      "model_name": "DropdownModel",
      "state": {
       "_options_labels": [
        " ",
        "picking",
        "random",
        "uniform",
        "atomindex",
        "residueindex",
        "chainindex",
        "modelindex",
        "sstruc",
        "element",
        "resname",
        "bfactor",
        "hydrophobicity",
        "value",
        "volume",
        "occupancy"
       ],
       "description": "Color scheme",
       "index": 9,
       "layout": "IPY_MODEL_f7387ba57c4542e4ac57c846a0fd6d0d",
       "style": "IPY_MODEL_a4e3be1317ca4d6885771ff2a7e4e8ff"
      }
     },
     "6434b264df9a43e480690f61c253c690": {
      "model_module": "@jupyter-widgets/output",
      "model_module_version": "1.0.0",
      "model_name": "OutputModel",
      "state": {
       "layout": "IPY_MODEL_d82115a817db45b0abf48a293ea60bd3"
      }
     },
     "66e8224f5c5b4644b9da99418656d76c": {
      "model_module": "@jupyter-widgets/base",
      "model_module_version": "1.2.0",
      "model_name": "LayoutModel",
      "state": {}
     },
     "673e67a3854946e0ac9843b6351b52f9": {
      "model_module": "@jupyter-widgets/base",
      "model_module_version": "1.2.0",
      "model_name": "LayoutModel",
      "state": {}
     },
     "67f7aaa11d884d8da60fe0d85c1b3193": {
      "model_module": "@jupyter-widgets/controls",
      "model_module_version": "1.5.0",
      "model_name": "SliderStyleModel",
      "state": {
       "description_width": ""
      }
     },
     "6812470d3dcf4908be9491ff4d1dde30": {
      "model_module": "@jupyter-widgets/base",
      "model_module_version": "1.2.0",
      "model_name": "LayoutModel",
      "state": {}
     },
     "6e1dcdd369004802ba54cf1b5a44417e": {
      "model_module": "@jupyter-widgets/base",
      "model_module_version": "1.2.0",
      "model_name": "LayoutModel",
      "state": {}
     },
     "6e3f3ed2b82c4b46994f30acd61d1769": {
      "model_module": "@jupyter-widgets/controls",
      "model_module_version": "1.5.0",
      "model_name": "ImageModel",
      "state": {
       "layout": "IPY_MODEL_4041711fe0044f25a9fbcd3369e44c25",
       "width": "900.0"
      }
     },
     "6ff0087ecbc0441e936f3d91e8893ad7": {
      "model_module": "@jupyter-widgets/controls",
      "model_module_version": "1.5.0",
      "model_name": "SliderStyleModel",
      "state": {
       "description_width": ""
      }
     },
     "70961fc1430e4368b3119a5920d05460": {
      "model_module": "@jupyter-widgets/controls",
      "model_module_version": "1.5.0",
      "model_name": "IntSliderModel",
      "state": {
       "layout": "IPY_MODEL_04ce47ca66e7495b8edb9ab6889025b0",
       "max": 1,
       "style": "IPY_MODEL_67f7aaa11d884d8da60fe0d85c1b3193"
      }
     },
     "71cfea2233214ea1bb551d6f9b9a406a": {
      "model_module": "@jupyter-widgets/controls",
      "model_module_version": "1.5.0",
      "model_name": "DescriptionStyleModel",
      "state": {
       "description_width": ""
      }
     },
     "7294bdb3528f454c959ac5d791638a3a": {
      "model_module": "@jupyter-widgets/controls",
      "model_module_version": "1.5.0",
      "model_name": "ButtonStyleModel",
      "state": {}
     },
     "741aaa4963574ba5b5046ef1a1a373e9": {
      "model_module": "@jupyter-widgets/base",
      "model_module_version": "1.2.0",
      "model_name": "LayoutModel",
      "state": {}
     },
     "758d9714792243f1a6d15353c78a4cf5": {
      "model_module": "@jupyter-widgets/controls",
      "model_module_version": "1.5.0",
      "model_name": "SliderStyleModel",
      "state": {
       "description_width": ""
      }
     },
     "77b7f1c1c1ad48c899e5646d6ad688b0": {
      "model_module": "@jupyter-widgets/base",
      "model_module_version": "1.2.0",
      "model_name": "LayoutModel",
      "state": {}
     },
     "79ecc44824524ba786f332fc83908060": {
      "model_module": "@jupyter-widgets/controls",
      "model_module_version": "1.5.0",
      "model_name": "FloatSliderModel",
      "state": {
       "description": "Force scale",
       "layout": "IPY_MODEL_1327ef72999340489e7d78a653aa662a",
       "step": 0.1,
       "style": "IPY_MODEL_08d4b21b1b2243849c137ac4ad204fa3",
       "value": 0.5
      }
     },
     "7a46719cf0e24211ad7e2f28f00f41cb": {
      "model_module": "@jupyter-widgets/controls",
      "model_module_version": "1.5.0",
      "model_name": "ButtonStyleModel",
      "state": {}
     },
     "7b4524e6424d4c049ba282776c38a0ec": {
      "model_module": "@jupyter-widgets/controls",
      "model_module_version": "1.5.0",
      "model_name": "FloatSliderModel",
      "state": {
       "description": "Ball size",
       "layout": "IPY_MODEL_cc53384f98da4b75a8e201bd278ec17c",
       "max": 1.5,
       "step": 0.01,
       "style": "IPY_MODEL_23eab1074b6d4050bd6731293e455922",
       "value": 0.5
      }
     },
     "7ba77812b4204adca12010799c7ca872": {
      "model_module": "@jupyter-widgets/base",
      "model_module_version": "1.2.0",
      "model_name": "LayoutModel",
      "state": {}
     },
     "7d143081a4f14683866e157a820f4cc5": {
      "model_module": "@jupyter-widgets/controls",
      "model_module_version": "1.5.0",
      "model_name": "DescriptionStyleModel",
      "state": {
       "description_width": ""
      }
     },
     "7e2a4d4e1a044ef88168603db85d2887": {
      "model_module": "@jupyter-widgets/controls",
      "model_module_version": "1.5.0",
      "model_name": "IntSliderModel",
      "state": {
       "layout": "IPY_MODEL_e8c4cc4ea9f04ca1b1d6ea475a4cb5d5",
       "max": 1,
       "style": "IPY_MODEL_dd720d155fe14962bbc51840c73426c5"
      }
     },
     "808a1b3d7ff84c9c8d3156147257eea0": {
      "model_module": "@jupyter-widgets/controls",
      "model_module_version": "1.5.0",
      "model_name": "SliderStyleModel",
      "state": {
       "description_width": ""
      }
     },
     "8235d868afe0412c8127b6fa69c535de": {
      "model_module": "@jupyter-widgets/base",
      "model_module_version": "1.2.0",
      "model_name": "LayoutModel",
      "state": {}
     },
     "828484ff22f64b6496fc01f8a3ff2d51": {
      "model_module": "@jupyter-widgets/controls",
      "model_module_version": "1.5.0",
      "model_name": "VBoxModel",
      "state": {
       "children": [
        "IPY_MODEL_3503a2c0c823466799a655031b356b6c",
        "IPY_MODEL_b5069c1c5e934e9a97e5fe9c780f8b83",
        "IPY_MODEL_a55b5b5a27e847e0a2f12e1f905123d6",
        "IPY_MODEL_c038ddebfcb44c848d930436cfa1966c",
        "IPY_MODEL_249c6e257c924451913ab719d96d47db",
        "IPY_MODEL_5275f8804b234bb2880e09895361f20c",
        "IPY_MODEL_0d24ccadd6304d6d8f6d30ded67a2ac9",
        "IPY_MODEL_f4ada98f0fba44df9bcffd1e5cc39e06",
        "IPY_MODEL_2187c5a11ed04fc981fdf1bd97132e21",
        "IPY_MODEL_3ed38460314048b0842edbd689288a3d"
       ],
       "layout": "IPY_MODEL_f09b9dba7e8945acbed544aef03e87b6"
      }
     },
     "830a3699931d4324af6b9a66dfbc342f": {
      "model_module": "@jupyter-widgets/controls",
      "model_module_version": "1.5.0",
      "model_name": "PlayModel",
      "state": {
       "layout": "IPY_MODEL_298104a8774142eca8e627f9badba937",
       "max": 1,
       "style": "IPY_MODEL_a865b8aab3bb438d9afa1d15f8655c27"
      }
     },
     "8369eed1887b4dff85999cd7a17a3bd9": {
      "model_module": "@jupyter-widgets/base",
      "model_module_version": "1.2.0",
      "model_name": "LayoutModel",
      "state": {}
     },
     "83c71b69957f4398b18e0868ff40386c": {
      "model_module": "@jupyter-widgets/base",
      "model_module_version": "1.2.0",
      "model_name": "LayoutModel",
      "state": {}
     },
     "8405fcf523e64202ad3511dd91f10091": {
      "model_module": "@jupyter-widgets/base",
      "model_module_version": "1.2.0",
      "model_name": "LayoutModel",
      "state": {}
     },
     "847e883d248f4eb6988c95a02040742d": {
      "model_module": "@jupyter-widgets/controls",
      "model_module_version": "1.5.0",
      "model_name": "ButtonModel",
      "state": {
       "description": "Download image",
       "layout": "IPY_MODEL_314316e5265e45aa8c7baa6a804a0877",
       "style": "IPY_MODEL_7294bdb3528f454c959ac5d791638a3a",
       "tooltip": "Download current frame to your local PC"
      }
     },
     "884dd794744642a9a4582107926ea871": {
      "model_module": "@jupyter-widgets/base",
      "model_module_version": "1.2.0",
      "model_name": "LayoutModel",
      "state": {}
     },
     "8afbfc09d7c44012873c05ac4d148bc3": {
      "model_module": "@jupyter-widgets/base",
      "model_module_version": "1.2.0",
      "model_name": "LayoutModel",
      "state": {}
     },
     "8bab9f6d9a7b4d138146aac7a92b2066": {
      "model_module": "@jupyter-widgets/controls",
      "model_module_version": "1.5.0",
      "model_name": "HBoxModel",
      "state": {
       "children": [
        "IPY_MODEL_1d5ea0fef6984c30b60c305b4eca3996",
        "IPY_MODEL_31f7675384174bc992134eea4fd65d39"
       ],
       "layout": "IPY_MODEL_8369eed1887b4dff85999cd7a17a3bd9"
      }
     },
     "8d03b2ab5dc2491883581fde65096651": {
      "model_module": "@jupyter-widgets/base",
      "model_module_version": "1.2.0",
      "model_name": "LayoutModel",
      "state": {}
     },
     "913e9cce9d5b4adfb3eec1deada08806": {
      "model_module": "@jupyter-widgets/base",
      "model_module_version": "1.2.0",
      "model_name": "LayoutModel",
      "state": {}
     },
     "9230ae60e3084f3aa148f83e17698376": {
      "model_module": "@jupyter-widgets/controls",
      "model_module_version": "1.5.0",
      "model_name": "IntSliderModel",
      "state": {
       "layout": "IPY_MODEL_d548853600594f6ca3093f0fe4f30335",
       "max": 1,
       "style": "IPY_MODEL_dc9005839284468294297edb5dc54258"
      }
     },
     "92966704670a428894650a3172b08a83": {
      "model_module": "@jupyter-widgets/controls",
      "model_module_version": "1.5.0",
      "model_name": "SliderStyleModel",
      "state": {
       "description_width": ""
      }
     },
     "9647b719031644c18d2cbec7ff5fc8e4": {
      "model_module": "@jupyter-widgets/base",
      "model_module_version": "1.2.0",
      "model_name": "LayoutModel",
      "state": {}
     },
     "96b1b40ca5614a40a3818d5f1cf56577": {
      "model_module": "@jupyter-widgets/controls",
      "model_module_version": "1.5.0",
      "model_name": "SliderStyleModel",
      "state": {
       "description_width": ""
      }
     },
     "975a233bc99641138fd1add566a7395a": {
      "model_module": "@jupyter-widgets/controls",
      "model_module_version": "1.5.0",
      "model_name": "ButtonStyleModel",
      "state": {}
     },
     "999d0886aa614a8580655ab3e679c843": {
      "model_module": "@jupyter-widgets/controls",
      "model_module_version": "1.5.0",
      "model_name": "DescriptionStyleModel",
      "state": {
       "description_width": ""
      }
     },
     "9c11e6de9de4403b9fa5ee3b306b05f1": {
      "model_module": "@jupyter-widgets/controls",
      "model_module_version": "1.5.0",
      "model_name": "DescriptionStyleModel",
      "state": {
       "description_width": ""
      }
     },
     "9ef4910ebf8c48b3a313593b2ef3e508": {
      "model_module": "@jupyter-widgets/controls",
      "model_module_version": "1.5.0",
      "model_name": "HBoxModel",
      "state": {
       "children": [
        "IPY_MODEL_5b1a55aa819342a3be5dcc40906919ef",
        "IPY_MODEL_16a58eeb682a4d0c83ca34bba0a1cc46"
       ],
       "layout": "IPY_MODEL_037328cafbdc452cbc5d4fceee88c407"
      }
     },
     "9f6b14d0df06482c9f7f246c4d6118e3": {
      "model_module": "@jupyter-widgets/controls",
      "model_module_version": "1.5.0",
      "model_name": "LinkModel",
      "state": {
       "source": [
        "IPY_MODEL_b8635a75bcd64ad8affada0d7c742d8b",
        "value"
       ],
       "target": [
        "IPY_MODEL_7e2a4d4e1a044ef88168603db85d2887",
        "value"
       ]
      }
     },
     "9fb50deb769b4ab0be6d4f2cad48f9d3": {
      "model_module": "@jupyter-widgets/controls",
      "model_module_version": "1.5.0",
      "model_name": "ButtonStyleModel",
      "state": {}
     },
     "a1c07a216db8489c89b635388c9a1c2a": {
      "model_module": "@jupyter-widgets/controls",
      "model_module_version": "1.5.0",
      "model_name": "HBoxModel",
      "state": {
       "children": [
        "IPY_MODEL_bffcffea6bce4fef855b4b31c88d50f3",
        "IPY_MODEL_828484ff22f64b6496fc01f8a3ff2d51"
       ],
       "layout": "IPY_MODEL_cd3568ac8d7b434bbb1a6cf78a23aaf1"
      }
     },
     "a4e3be1317ca4d6885771ff2a7e4e8ff": {
      "model_module": "@jupyter-widgets/controls",
      "model_module_version": "1.5.0",
      "model_name": "DescriptionStyleModel",
      "state": {
       "description_width": ""
      }
     },
     "a55b5b5a27e847e0a2f12e1f905123d6": {
      "model_module": "@jupyter-widgets/controls",
      "model_module_version": "1.5.0",
      "model_name": "FloatSliderModel",
      "state": {
       "description": "Ball size",
       "layout": "IPY_MODEL_6e1dcdd369004802ba54cf1b5a44417e",
       "max": 1.5,
       "step": 0.01,
       "style": "IPY_MODEL_96b1b40ca5614a40a3818d5f1cf56577",
       "value": 0.5
      }
     },
     "a62c0565d6194e0b9e7c2885b10d6e2b": {
      "model_module": "@jupyter-widgets/controls",
      "model_module_version": "1.5.0",
      "model_name": "TextModel",
      "state": {
       "description": "Filename: ",
       "layout": "IPY_MODEL_913e9cce9d5b4adfb3eec1deada08806",
       "style": "IPY_MODEL_16bc9bbb504b4f28a26339b687c9c030",
       "value": "screenshot.png"
      }
     },
     "a865b8aab3bb438d9afa1d15f8655c27": {
      "model_module": "@jupyter-widgets/controls",
      "model_module_version": "1.5.0",
      "model_name": "DescriptionStyleModel",
      "state": {
       "description_width": ""
      }
     },
     "aa37142667a045edb676ef40aecac531": {
      "model_module": "@jupyter-widgets/controls",
      "model_module_version": "1.5.0",
      "model_name": "CheckboxModel",
      "state": {
       "description": "Show force",
       "disabled": false,
       "layout": "IPY_MODEL_d1d513876a4e4319aec0494318b07521",
       "style": "IPY_MODEL_d79f337a0e714790ad2587f18714f479",
       "value": false
      }
     },
     "aec3480ac4ce4d309dff7fe675ff8c1b": {
      "model_module": "@jupyter-widgets/controls",
      "model_module_version": "1.5.0",
      "model_name": "ButtonStyleModel",
      "state": {}
     },
     "aed67e6aa15f4d72ab5df83dbd48f220": {
      "model_module": "@jupyter-widgets/base",
      "model_module_version": "1.2.0",
      "model_name": "LayoutModel",
      "state": {}
     },
     "afae2c02e47b44168879742d8aa0bba9": {
      "model_module": "@jupyter-widgets/controls",
      "model_module_version": "1.5.0",
      "model_name": "PlayModel",
      "state": {
       "layout": "IPY_MODEL_2d9c810a033c42b994f54f0f3e05e855",
       "max": 0,
       "style": "IPY_MODEL_999d0886aa614a8580655ab3e679c843"
      }
     },
     "b0264f01dc004d238c80087bd890c3bc": {
      "model_module": "@jupyter-widgets/controls",
      "model_module_version": "1.5.0",
      "model_name": "DescriptionStyleModel",
      "state": {
       "description_width": ""
      }
     },
     "b3e88581b6b843019aefb37b64a51416": {
      "model_module": "@jupyter-widgets/controls",
      "model_module_version": "1.5.0",
      "model_name": "LinkModel",
      "state": {
       "source": [
        "IPY_MODEL_b8635a75bcd64ad8affada0d7c742d8b",
        "max"
       ],
       "target": [
        "IPY_MODEL_5b1a55aa819342a3be5dcc40906919ef",
        "max_frame"
       ]
      }
     },
     "b5069c1c5e934e9a97e5fe9c780f8b83": {
      "model_module": "@jupyter-widgets/controls",
      "model_module_version": "1.5.0",
      "model_name": "DropdownModel",
      "state": {
       "_options_labels": [
        " ",
        "picking",
        "random",
        "uniform",
        "atomindex",
        "residueindex",
        "chainindex",
        "modelindex",
        "sstruc",
        "element",
        "resname",
        "bfactor",
        "hydrophobicity",
        "value",
        "volume",
        "occupancy"
       ],
       "description": "Color scheme",
       "index": 9,
       "layout": "IPY_MODEL_1e6e747056d44a529e1832a7f075b3ab",
       "style": "IPY_MODEL_bf5561750d0f490c847e1b0e6ff6aa04"
      }
     },
     "b575fbd98da74e918abd24cc0e785e63": {
      "model_module": "@jupyter-widgets/controls",
      "model_module_version": "1.5.0",
      "model_name": "ButtonStyleModel",
      "state": {}
     },
     "b5c0156b15a54f8a8dd619176f3c72d9": {
      "model_module": "@jupyter-widgets/controls",
      "model_module_version": "1.5.0",
      "model_name": "ButtonModel",
      "state": {
       "description": "Download image",
       "layout": "IPY_MODEL_8235d868afe0412c8127b6fa69c535de",
       "style": "IPY_MODEL_d5569c8ba1b74d4fa7714cb76c97eea0",
       "tooltip": "Download current frame to your local PC"
      }
     },
     "b680154cb84a465ab7e5698583ae347e": {
      "model_module": "@jupyter-widgets/controls",
      "model_module_version": "1.5.0",
      "model_name": "DescriptionStyleModel",
      "state": {
       "description_width": ""
      }
     },
     "b77aededb3d6479c99f811eda1102ead": {
      "model_module": "@jupyter-widgets/base",
      "model_module_version": "1.2.0",
      "model_name": "LayoutModel",
      "state": {}
     },
     "b80a14dea0534fa182e72c686c364353": {
      "model_module": "@jupyter-widgets/controls",
      "model_module_version": "1.5.0",
      "model_name": "FloatSliderModel",
      "state": {
       "description": "Charge scale",
       "layout": "IPY_MODEL_2f82452906864ce28bc524f01a0afa98",
       "step": 0.1,
       "style": "IPY_MODEL_189c07709c7c4d22802164c06e1c5019",
       "value": 1
      }
     },
     "b8635a75bcd64ad8affada0d7c742d8b": {
      "model_module": "@jupyter-widgets/controls",
      "model_module_version": "1.5.0",
      "model_name": "PlayModel",
      "state": {
       "layout": "IPY_MODEL_884dd794744642a9a4582107926ea871",
       "max": 1,
       "style": "IPY_MODEL_22a7a56a9a72410e9f70c0fb09cbb378"
      }
     },
     "b909da93cae5480996b8f557a090c801": {
      "model_module": "@jupyter-widgets/controls",
      "model_module_version": "1.5.0",
      "model_name": "HBoxModel",
      "state": {
       "children": [
        "IPY_MODEL_ba53f4e8dcaf49a5a85714fd20610faa",
        "IPY_MODEL_1c9d62ffc0204ad69f3c0392c27d25e9"
       ],
       "layout": "IPY_MODEL_c61844eb893a45928602b23f8740e3f3"
      }
     },
     "ba53f4e8dcaf49a5a85714fd20610faa": {
      "model_module": "@jupyter-widgets/controls",
      "model_module_version": "1.5.0",
      "model_name": "ButtonModel",
      "state": {
       "description": "Download image",
       "layout": "IPY_MODEL_ed55cb103a2c49c893ad7a2fb51d3a44",
       "style": "IPY_MODEL_b575fbd98da74e918abd24cc0e785e63",
       "tooltip": "Download current frame to your local PC"
      }
     },
     "bc1c28eb4c8947e38715500c8c371c10": {
      "model_module": "@jupyter-widgets/base",
      "model_module_version": "1.2.0",
      "model_name": "LayoutModel",
      "state": {}
     },
     "bc2950e2b3884c4e81294ef571ec5736": {
      "model_module": "@jupyter-widgets/base",
      "model_module_version": "1.2.0",
      "model_name": "LayoutModel",
      "state": {}
     },
     "bc9a3d24ea334264aa62388d7d5731cc": {
      "model_module": "@jupyter-widgets/controls",
      "model_module_version": "1.5.0",
      "model_name": "ButtonModel",
      "state": {
       "icon": "compress",
       "layout": "IPY_MODEL_f235ec15b25a4a229844847069b4d55c",
       "style": "IPY_MODEL_aec3480ac4ce4d309dff7fe675ff8c1b"
      }
     },
     "bcd8bb113dd54e7683121b9aaed86b75": {
      "model_module": "@jupyter-widgets/controls",
      "model_module_version": "1.5.0",
      "model_name": "FloatSliderModel",
      "state": {
       "description": "Force scale",
       "layout": "IPY_MODEL_bc1c28eb4c8947e38715500c8c371c10",
       "step": 0.1,
       "style": "IPY_MODEL_808a1b3d7ff84c9c8d3156147257eea0",
       "value": 0.5
      }
     },
     "be10c3562da04443a4d608f6499a18f1": {
      "model_module": "@jupyter-widgets/controls",
      "model_module_version": "1.5.0",
      "model_name": "FloatSliderModel",
      "state": {
       "description": "Ball size",
       "layout": "IPY_MODEL_8d03b2ab5dc2491883581fde65096651",
       "max": 1.5,
       "step": 0.01,
       "style": "IPY_MODEL_758d9714792243f1a6d15353c78a4cf5",
       "value": 0.5
      }
     },
     "bf5561750d0f490c847e1b0e6ff6aa04": {
      "model_module": "@jupyter-widgets/controls",
      "model_module_version": "1.5.0",
      "model_name": "DescriptionStyleModel",
      "state": {
       "description_width": ""
      }
     },
     "bffcffea6bce4fef855b4b31c88d50f3": {
      "model_module": "nglview-js-widgets",
      "model_module_version": "3.0.1",
      "model_name": "NGLModel",
      "state": {
       "_camera_orientation": [
        12.889604475786777,
        0.5751739130993491,
        0.7431183233417815,
        0,
        0.8690238877555463,
        -3.4072637557154812,
        -12.436249619419733,
        0,
        -0.35755748531747644,
        12.453300047926945,
        -3.4369207113367963,
        0,
        -2.1565001010894775,
        -2.1565001010894775,
        -2.1565001010894775,
        1
       ],
       "_camera_str": "orthographic",
       "_gui_theme": null,
       "_ibtn_fullscreen": "IPY_MODEL_ec7911e50e184220bd05c134566dabf1",
       "_igui": null,
       "_iplayer": "IPY_MODEL_27729d6261f445648ce16725ed2cf474",
       "_ngl_color_dict": {},
       "_ngl_coordinate_resource": {},
       "_ngl_full_stage_parameters": {
        "ambientColor": 14540253,
        "ambientIntensity": 0.2,
        "backgroundColor": "white",
        "cameraEyeSep": 0.3,
        "cameraFov": 40,
        "cameraType": "orthographic",
        "clipDist": 0,
        "clipFar": 100,
        "clipNear": 0,
        "fogFar": 100,
        "fogNear": 50,
        "hoverTimeout": 0,
        "impostor": true,
        "lightColor": 14540253,
        "lightIntensity": 1,
        "mousePreset": "default",
        "panSpeed": 1,
        "quality": "medium",
        "rotateSpeed": 2,
        "sampleLevel": 0,
        "tooltip": true,
        "workerDefault": true,
        "zoomSpeed": 1.2
       },
       "_ngl_msg_archive": [
        {
         "args": [
          {
           "binary": false,
           "data": "CRYST1    5.750    5.750    5.750  90.00  90.00  90.00 P 1\nMODEL     1\nATOM      1   Ga MOL     1       0.000   0.000   0.000  1.00  0.00          GA  \nATOM      2   Ga MOL     1       2.875   2.875   0.000  1.00  0.00          GA  \nATOM      3   Ga MOL     1       2.875   0.000   2.875  1.00  0.00          GA  \nATOM      4   Ga MOL     1       0.000   2.875   2.875  1.00  0.00          GA  \nATOM      5   As MOL     1       1.438   1.438   1.438  1.00  0.00          AS  \nATOM      6   As MOL     1       1.438   4.313   4.313  1.00  0.00          AS  \nATOM      7   As MOL     1       4.313   4.313   1.438  1.00  0.00          AS  \nATOM      8   As MOL     1       4.313   1.438   4.313  1.00  0.00          AS  \nENDMDL\n",
           "type": "blob"
          }
         ],
         "kwargs": {
          "defaultRepresentation": false,
          "ext": "pdb"
         },
         "methodName": "loadFile",
         "reconstruc_color_scheme": false,
         "target": "Stage",
         "type": "call_method"
        },
        {
         "args": [
          "500px",
          "500px"
         ],
         "kwargs": {},
         "methodName": "setSize",
         "reconstruc_color_scheme": false,
         "target": "Widget",
         "type": "call_method"
        },
        {
         "args": [
          "unitcell"
         ],
         "component_index": 0,
         "kwargs": {
          "sele": "all"
         },
         "methodName": "addRepresentation",
         "reconstruc_color_scheme": false,
         "target": "compList",
         "type": "call_method"
        },
        {
         "args": [
          "spacefill"
         ],
         "component_index": 0,
         "kwargs": {
          "sele": "all"
         },
         "methodName": "addRepresentation",
         "reconstruc_color_scheme": false,
         "target": "compList",
         "type": "call_method"
        },
        {
         "args": [],
         "kwargs": {
          "cameraType": "orthographic"
         },
         "methodName": "setParameters",
         "reconstruc_color_scheme": false,
         "target": "Stage",
         "type": "call_method"
        },
        {
         "args": [
          {
           "clipDist": 0
          }
         ],
         "kwargs": {},
         "methodName": "setParameters",
         "reconstruc_color_scheme": false,
         "target": "Widget",
         "type": "call_method"
        },
        {
         "args": [
          "spacefill",
          0
         ],
         "kwargs": {
          "colorScale": "rainbow",
          "colorScheme": "element",
          "radiusScale": 0.5,
          "radiusType": "covalent"
         },
         "methodName": "updateRepresentationsByName",
         "reconstruc_color_scheme": false,
         "target": "Widget",
         "type": "call_method"
        },
        {
         "args": [
          "this._Q = [[1.0, 0.0, 0.0], [0.0, 1.0, 0.0], [0.0, 0.0, 1.0]]\n    var tooltip = document.createElement('div');\n    Object.assign(tooltip.style, {\n      display: 'none',\n      position: 'fixed',\n      zIndex: 10,\n      pointerEvents: 'none',\n      backgroundColor: 'rgba( 0, 0, 0, 0.6 )',\n      color: 'lightgrey',\n      padding: '8px',\n      fontFamily: 'sans-serif'\n    });\n    document.body.appendChild(tooltip);\n\n    var that = this;\n    this.stage.mouseControls.remove('hoverPick');\n    this.stage.signals.hovered.add(function (pickingProxy) {\n      if (pickingProxy && (pickingProxy.atom || pickingProxy.bond)) {\n        var atom = pickingProxy.atom || pickingProxy.closestBondAtom\n        var mp = pickingProxy.mouse.position\n        //tooltip.innerText = atom.element + ' i=' + atom.index + ' (' + atom.x.toFixed(2) +  ', ' + atom.y.toFixed(2) +  ', ' + atom.z.toFixed(2) + ')'\n        //var pos = that._atoms_pos[atom.index]\n        var Q = that._Q\n        var pos_x = Q[0][0] * atom.x + Q[0][1] * atom.y + Q[0][2] * atom.z \n        var pos_y = Q[1][0] * atom.x + Q[1][1] * atom.y + Q[1][2] * atom.z\n        var pos_z = Q[2][0] * atom.x + Q[2][1] * atom.y + Q[2][2] * atom.z\n        tooltip.innerText = 'i=' + atom.index + ' ' + atom.element + ' (' + pos_x.toFixed(2) +  ', ' + pos_y.toFixed(2) +  ', ' + pos_z.toFixed(2) + ')'\n        tooltip.style.bottom = window.innerHeight - mp.y + 3 + 'px'\n        tooltip.style.left = mp.x + 3 + 'px'\n        tooltip.style.display = 'block'\n      } else {\n        tooltip.style.display = 'none'\n      }\n    });\n    this.stage.tooltip = tooltip;\n    "
         ],
         "kwargs": {},
         "methodName": "executeCode",
         "reconstruc_color_scheme": false,
         "target": "Widget",
         "type": "call_method"
        },
        {
         "args": [
          "ball+stick"
         ],
         "component_index": 0,
         "kwargs": {
          "sele": "all"
         },
         "methodName": "addRepresentation",
         "reconstruc_color_scheme": false,
         "target": "compList",
         "type": "call_method"
        }
       ],
       "_ngl_original_stage_parameters": {
        "ambientColor": 14540253,
        "ambientIntensity": 0.2,
        "backgroundColor": "white",
        "cameraEyeSep": 0.3,
        "cameraFov": 40,
        "cameraType": "perspective",
        "clipDist": 10,
        "clipFar": 100,
        "clipNear": 0,
        "fogFar": 100,
        "fogNear": 50,
        "hoverTimeout": 0,
        "impostor": true,
        "lightColor": 14540253,
        "lightIntensity": 1,
        "mousePreset": "default",
        "panSpeed": 1,
        "quality": "medium",
        "rotateSpeed": 2,
        "sampleLevel": 0,
        "tooltip": true,
        "workerDefault": true,
        "zoomSpeed": 1.2
       },
       "_ngl_repr_dict": {
        "0": {
         "0": {
          "params": {
           "clipCenter": {
            "x": 0,
            "y": 0,
            "z": 0
           },
           "clipNear": 0,
           "clipRadius": 0,
           "colorMode": "hcl",
           "colorReverse": false,
           "colorScale": "",
           "colorScheme": "element",
           "colorValue": "orange",
           "defaultAssembly": "",
           "depthWrite": true,
           "diffuse": 16777215,
           "diffuseInterior": false,
           "disableImpostor": false,
           "disablePicking": false,
           "flatShaded": false,
           "interiorColor": 2236962,
           "interiorDarkening": 0,
           "lazy": false,
           "matrix": {
            "elements": [
             1,
             0,
             0,
             0,
             0,
             1,
             0,
             0,
             0,
             0,
             1,
             0,
             0,
             0,
             0,
             1
            ]
           },
           "metalness": 0,
           "opacity": 1,
           "quality": "medium",
           "radialSegments": 10,
           "radiusData": {},
           "radiusScale": 1,
           "radiusSize": 0.028749998737986702,
           "radiusType": "vdw",
           "roughness": 0.4,
           "sele": "all",
           "side": "double",
           "sphereDetail": 1,
           "useInteriorColor": true,
           "visible": true,
           "wireframe": false
          },
          "type": "unitcell"
         },
         "1": {
          "params": {
           "assembly": "default",
           "clipCenter": {
            "x": 0,
            "y": 0,
            "z": 0
           },
           "clipNear": 0,
           "clipRadius": 0,
           "colorMode": "hcl",
           "colorReverse": false,
           "colorScale": "rainbow",
           "colorScheme": "element",
           "colorValue": 9474192,
           "defaultAssembly": "",
           "depthWrite": true,
           "diffuse": 16777215,
           "diffuseInterior": false,
           "disableImpostor": false,
           "disablePicking": false,
           "flatShaded": false,
           "interiorColor": 2236962,
           "interiorDarkening": 0,
           "lazy": false,
           "matrix": {
            "elements": [
             1,
             0,
             0,
             0,
             0,
             1,
             0,
             0,
             0,
             0,
             1,
             0,
             0,
             0,
             0,
             1
            ]
           },
           "metalness": 0,
           "opacity": 1,
           "quality": "medium",
           "radiusData": {},
           "radiusScale": 0.5,
           "radiusSize": 1,
           "radiusType": "covalent",
           "roughness": 0.4,
           "sele": "all",
           "side": "double",
           "sphereDetail": 1,
           "useInteriorColor": true,
           "visible": true,
           "wireframe": false
          },
          "type": "spacefill"
         },
         "2": {
          "params": {
           "aspectRatio": 2,
           "assembly": "default",
           "bondScale": 0.4,
           "bondSpacing": 1,
           "clipCenter": {
            "x": 0,
            "y": 0,
            "z": 0
           },
           "clipNear": 0,
           "clipRadius": 0,
           "colorMode": "hcl",
           "colorReverse": false,
           "colorScale": "",
           "colorScheme": "element",
           "colorValue": 9474192,
           "cylinderOnly": false,
           "defaultAssembly": "",
           "depthWrite": true,
           "diffuse": 16777215,
           "diffuseInterior": false,
           "disableImpostor": false,
           "disablePicking": false,
           "flatShaded": false,
           "interiorColor": 2236962,
           "interiorDarkening": 0,
           "lazy": false,
           "lineOnly": false,
           "linewidth": 2,
           "matrix": {
            "elements": [
             1,
             0,
             0,
             0,
             0,
             1,
             0,
             0,
             0,
             0,
             1,
             0,
             0,
             0,
             0,
             1
            ]
           },
           "metalness": 0,
           "multipleBond": "off",
           "opacity": 1,
           "openEnded": true,
           "quality": "medium",
           "radialSegments": 10,
           "radiusData": {},
           "radiusScale": 1,
           "radiusSize": 0.15,
           "radiusType": "size",
           "roughness": 0.4,
           "sele": "all",
           "side": "double",
           "sphereDetail": 1,
           "useInteriorColor": true,
           "visible": true,
           "wireframe": false
          },
          "type": "ball+stick"
         }
        }
       },
       "_ngl_serialize": false,
       "_ngl_version": "2.0.0-dev.36",
       "_ngl_view_id": [
        "777A76EC-E37C-49E1-9372-0A3BED487358"
       ],
       "_player_dict": {},
       "_scene_position": {},
       "_scene_rotation": {},
       "_synced_model_ids": [],
       "_synced_repr_model_ids": [],
       "_view_height": "",
       "_view_width": "",
       "background": "white",
       "frame": 0,
       "gui_style": null,
       "layout": "IPY_MODEL_52d33cd618214a61a3cb2c0e4e47ee4d",
       "max_frame": 0,
       "n_components": 1,
       "picked": {}
      }
     },
     "c038ddebfcb44c848d930436cfa1966c": {
      "model_module": "@jupyter-widgets/controls",
      "model_module_version": "1.5.0",
      "model_name": "TextModel",
      "state": {
       "description": "Filename: ",
       "layout": "IPY_MODEL_673e67a3854946e0ac9843b6351b52f9",
       "style": "IPY_MODEL_51238e3fdaee4f748c1c61dfa5bbbf12",
       "value": "screenshot.png"
      }
     },
     "c409ed96568f481e8bccef6667e3b5a1": {
      "model_module": "@jupyter-widgets/controls",
      "model_module_version": "1.5.0",
      "model_name": "LinkModel",
      "state": {
       "source": [
        "IPY_MODEL_830a3699931d4324af6b9a66dfbc342f",
        "value"
       ],
       "target": [
        "IPY_MODEL_1d5ea0fef6984c30b60c305b4eca3996",
        "frame"
       ]
      }
     },
     "c5cef23f782f4ca2ae446e3cb3a2b70b": {
      "model_module": "@jupyter-widgets/base",
      "model_module_version": "1.2.0",
      "model_name": "LayoutModel",
      "state": {}
     },
     "c5de1b3b2edb4cbcb9cfc171f6e215f5": {
      "model_module": "@jupyter-widgets/base",
      "model_module_version": "1.2.0",
      "model_name": "LayoutModel",
      "state": {}
     },
     "c61844eb893a45928602b23f8740e3f3": {
      "model_module": "@jupyter-widgets/base",
      "model_module_version": "1.2.0",
      "model_name": "LayoutModel",
      "state": {}
     },
     "cc53384f98da4b75a8e201bd278ec17c": {
      "model_module": "@jupyter-widgets/base",
      "model_module_version": "1.2.0",
      "model_name": "LayoutModel",
      "state": {}
     },
     "ccf0ada886634ce8931660f7a613993e": {
      "model_module": "@jupyter-widgets/controls",
      "model_module_version": "1.5.0",
      "model_name": "LinkModel",
      "state": {
       "source": [
        "IPY_MODEL_57141c557f0c4770bca8aa2ae97f88ca",
        "max"
       ],
       "target": [
        "IPY_MODEL_bffcffea6bce4fef855b4b31c88d50f3",
        "max_frame"
       ]
      }
     },
     "cd3568ac8d7b434bbb1a6cf78a23aaf1": {
      "model_module": "@jupyter-widgets/base",
      "model_module_version": "1.2.0",
      "model_name": "LayoutModel",
      "state": {}
     },
     "d1d513876a4e4319aec0494318b07521": {
      "model_module": "@jupyter-widgets/base",
      "model_module_version": "1.2.0",
      "model_name": "LayoutModel",
      "state": {}
     },
     "d289f1e9307d41a89c2ebf6d0cbbe236": {
      "model_module": "@jupyter-widgets/controls",
      "model_module_version": "1.5.0",
      "model_name": "IntSliderModel",
      "state": {
       "layout": "IPY_MODEL_de80b954236f4b35874b8bf0451cd950",
       "max": 1,
       "style": "IPY_MODEL_92966704670a428894650a3172b08a83"
      }
     },
     "d2a1d15e58ef4575981f7b20f0389b15": {
      "model_module": "@jupyter-widgets/controls",
      "model_module_version": "1.5.0",
      "model_name": "ButtonModel",
      "state": {
       "description": "Save image",
       "layout": "IPY_MODEL_66e8224f5c5b4644b9da99418656d76c",
       "style": "IPY_MODEL_7a46719cf0e24211ad7e2f28f00f41cb",
       "tooltip": "Save current frame to file.\nCurrently .png and .html are supported.\nIt takes a bit time, please be patient."
      }
     },
     "d4697a8538a84e9b8375d4d68096b14f": {
      "model_module": "@jupyter-widgets/base",
      "model_module_version": "1.2.0",
      "model_name": "LayoutModel",
      "state": {}
     },
     "d548853600594f6ca3093f0fe4f30335": {
      "model_module": "@jupyter-widgets/base",
      "model_module_version": "1.2.0",
      "model_name": "LayoutModel",
      "state": {}
     },
     "d554f4f13c9c4667923db4a62a804a52": {
      "model_module": "@jupyter-widgets/controls",
      "model_module_version": "1.5.0",
      "model_name": "DropdownModel",
      "state": {
       "_options_labels": [
        "All",
        "Al"
       ],
       "description": "Show",
       "index": 0,
       "layout": "IPY_MODEL_aed67e6aa15f4d72ab5df83dbd48f220",
       "style": "IPY_MODEL_b680154cb84a465ab7e5698583ae347e"
      }
     },
     "d5569c8ba1b74d4fa7714cb76c97eea0": {
      "model_module": "@jupyter-widgets/controls",
      "model_module_version": "1.5.0",
      "model_name": "ButtonStyleModel",
      "state": {}
     },
     "d79f337a0e714790ad2587f18714f479": {
      "model_module": "@jupyter-widgets/controls",
      "model_module_version": "1.5.0",
      "model_name": "DescriptionStyleModel",
      "state": {
       "description_width": ""
      }
     },
     "d82115a817db45b0abf48a293ea60bd3": {
      "model_module": "@jupyter-widgets/base",
      "model_module_version": "1.2.0",
      "model_name": "LayoutModel",
      "state": {
       "border": "0px solid black"
      }
     },
     "d86a921a67804970a172b785c58a7184": {
      "model_module": "@jupyter-widgets/controls",
      "model_module_version": "1.5.0",
      "model_name": "ButtonModel",
      "state": {
       "icon": "compress",
       "layout": "IPY_MODEL_e2c86e0c7b784c589a052ad33f050c6b",
       "style": "IPY_MODEL_9fb50deb769b4ab0be6d4f2cad48f9d3"
      }
     },
     "dc9005839284468294297edb5dc54258": {
      "model_module": "@jupyter-widgets/controls",
      "model_module_version": "1.5.0",
      "model_name": "SliderStyleModel",
      "state": {
       "description_width": ""
      }
     },
     "dd720d155fe14962bbc51840c73426c5": {
      "model_module": "@jupyter-widgets/controls",
      "model_module_version": "1.5.0",
      "model_name": "SliderStyleModel",
      "state": {
       "description_width": ""
      }
     },
     "de80b954236f4b35874b8bf0451cd950": {
      "model_module": "@jupyter-widgets/base",
      "model_module_version": "1.2.0",
      "model_name": "LayoutModel",
      "state": {}
     },
     "deb535928dd347a8b48665c6fa1faea1": {
      "model_module": "@jupyter-widgets/controls",
      "model_module_version": "1.5.0",
      "model_name": "SliderStyleModel",
      "state": {
       "description_width": ""
      }
     },
     "dfab9a8da2de42f9af351ac196a715f7": {
      "model_module": "@jupyter-widgets/controls",
      "model_module_version": "1.5.0",
      "model_name": "ButtonModel",
      "state": {
       "description": "Save image",
       "layout": "IPY_MODEL_c5cef23f782f4ca2ae446e3cb3a2b70b",
       "style": "IPY_MODEL_975a233bc99641138fd1add566a7395a",
       "tooltip": "Save current frame to file.\nCurrently .png and .html are supported.\nIt takes a bit time, please be patient."
      }
     },
     "e02f8af2fd2e421783382ac956224bee": {
      "model_module": "@jupyter-widgets/controls",
      "model_module_version": "1.5.0",
      "model_name": "CheckboxModel",
      "state": {
       "description": "Show force",
       "disabled": false,
       "layout": "IPY_MODEL_f35af991a5704c87bf0c60ef4685b09d",
       "style": "IPY_MODEL_565830152e3e484f930b10d16385f3c4",
       "value": false
      }
     },
     "e27215d51b624f0facf730a638b92c15": {
      "model_module": "@jupyter-widgets/output",
      "model_module_version": "1.0.0",
      "model_name": "OutputModel",
      "state": {
       "layout": "IPY_MODEL_53ced95f8cdc41b5b21fa4984fb910bd"
      }
     },
     "e2c86e0c7b784c589a052ad33f050c6b": {
      "model_module": "@jupyter-widgets/base",
      "model_module_version": "1.2.0",
      "model_name": "LayoutModel",
      "state": {
       "width": "34px"
      }
     },
     "e8c4cc4ea9f04ca1b1d6ea475a4cb5d5": {
      "model_module": "@jupyter-widgets/base",
      "model_module_version": "1.2.0",
      "model_name": "LayoutModel",
      "state": {}
     },
     "ec7911e50e184220bd05c134566dabf1": {
      "model_module": "@jupyter-widgets/controls",
      "model_module_version": "1.5.0",
      "model_name": "ButtonModel",
      "state": {
       "icon": "compress",
       "layout": "IPY_MODEL_19ba88836e8a455fabec2a4ef2bd256e",
       "style": "IPY_MODEL_310372109e364acd81cdc2b97c5c8d67"
      }
     },
     "ed55cb103a2c49c893ad7a2fb51d3a44": {
      "model_module": "@jupyter-widgets/base",
      "model_module_version": "1.2.0",
      "model_name": "LayoutModel",
      "state": {}
     },
     "efb02cd378374660956d4f027a65a336": {
      "model_module": "@jupyter-widgets/controls",
      "model_module_version": "1.5.0",
      "model_name": "DescriptionStyleModel",
      "state": {
       "description_width": ""
      }
     },
     "f09b9dba7e8945acbed544aef03e87b6": {
      "model_module": "@jupyter-widgets/base",
      "model_module_version": "1.2.0",
      "model_name": "LayoutModel",
      "state": {}
     },
     "f1edf76b5c7b4fa6a693c5f7e7d3e494": {
      "model_module": "@jupyter-widgets/base",
      "model_module_version": "1.2.0",
      "model_name": "LayoutModel",
      "state": {}
     },
     "f235c82bea1f402ea59c9777572c9ef6": {
      "model_module": "@jupyter-widgets/controls",
      "model_module_version": "1.5.0",
      "model_name": "LinkModel",
      "state": {
       "source": [
        "IPY_MODEL_830a3699931d4324af6b9a66dfbc342f",
        "max"
       ],
       "target": [
        "IPY_MODEL_1d5ea0fef6984c30b60c305b4eca3996",
        "max_frame"
       ]
      }
     },
     "f235ec15b25a4a229844847069b4d55c": {
      "model_module": "@jupyter-widgets/base",
      "model_module_version": "1.2.0",
      "model_name": "LayoutModel",
      "state": {
       "width": "34px"
      }
     },
     "f2ba8d48a3cf4081b6f119e9324fbd8a": {
      "model_module": "@jupyter-widgets/base",
      "model_module_version": "1.2.0",
      "model_name": "LayoutModel",
      "state": {}
     },
     "f35af991a5704c87bf0c60ef4685b09d": {
      "model_module": "@jupyter-widgets/base",
      "model_module_version": "1.2.0",
      "model_name": "LayoutModel",
      "state": {}
     },
     "f42bfea4502e475391e07cfe389fd175": {
      "model_module": "@jupyter-widgets/controls",
      "model_module_version": "1.5.0",
      "model_name": "HBoxModel",
      "state": {
       "children": [
        "IPY_MODEL_b8635a75bcd64ad8affada0d7c742d8b",
        "IPY_MODEL_7e2a4d4e1a044ef88168603db85d2887"
       ],
       "layout": "IPY_MODEL_fdf7fa12df8949458d5954a9e2dfb736"
      }
     },
     "f4ada98f0fba44df9bcffd1e5cc39e06": {
      "model_module": "@jupyter-widgets/controls",
      "model_module_version": "1.5.0",
      "model_name": "CheckboxModel",
      "state": {
       "description": "Show charge",
       "disabled": false,
       "layout": "IPY_MODEL_2fd603f188384bebbd9af82f6fa593d4",
       "style": "IPY_MODEL_42d19ff8817a4e12a484f27fa05271ba",
       "value": false
      }
     },
     "f7387ba57c4542e4ac57c846a0fd6d0d": {
      "model_module": "@jupyter-widgets/base",
      "model_module_version": "1.2.0",
      "model_name": "LayoutModel",
      "state": {}
     },
     "f96bf28e0ae64ad8b5f155950b2bc8df": {
      "model_module": "@jupyter-widgets/controls",
      "model_module_version": "1.5.0",
      "model_name": "SliderStyleModel",
      "state": {
       "description_width": ""
      }
     },
     "f9e6c294d8684b6889949c39cabe1373": {
      "model_module": "@jupyter-widgets/controls",
      "model_module_version": "1.5.0",
      "model_name": "ImageModel",
      "state": {
       "layout": "IPY_MODEL_6812470d3dcf4908be9491ff4d1dde30",
       "width": "900.0"
      }
     },
     "fdf7fa12df8949458d5954a9e2dfb736": {
      "model_module": "@jupyter-widgets/base",
      "model_module_version": "1.2.0",
      "model_name": "LayoutModel",
      "state": {}
     },
     "ffdb29999b1b43a588c17e72fa35e701": {
      "model_module": "@jupyter-widgets/controls",
      "model_module_version": "1.5.0",
      "model_name": "DropdownModel",
      "state": {
       "_options_labels": [
        " ",
        "picking",
        "random",
        "uniform",
        "atomindex",
        "residueindex",
        "chainindex",
        "modelindex",
        "sstruc",
        "element",
        "resname",
        "bfactor",
        "hydrophobicity",
        "value",
        "volume",
        "occupancy"
       ],
       "description": "Color scheme",
       "index": 9,
       "layout": "IPY_MODEL_741aaa4963574ba5b5046ef1a1a373e9",
       "style": "IPY_MODEL_4c6ee3f723f34e23b406b2a480ff0a66"
      }
     }
    },
    "version_major": 2,
    "version_minor": 0
   }
  }
 },
 "nbformat": 4,
 "nbformat_minor": 5
}
