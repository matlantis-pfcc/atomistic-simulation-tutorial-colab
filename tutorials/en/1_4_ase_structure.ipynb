{
 "cells": [
  {
   "cell_type": "markdown",
   "id": "1e16ab4e-d089-4a83-a1ff-3633a18b95b9",
   "metadata": {},
   "source": [
    "# Notion"
   ]
  },
  {
   "cell_type": "markdown",
   "id": "3c4ad0e5-902e-46e2-80fc-340f3aac4c33",
   "metadata": {},
   "source": [
    "This notebook is the modified notebook of [AtomisticSimulationTutorial](https://docs.matlantis.com/atomistic-simulation-tutorial/en/) to run on Google Colab. We only provide executable parts with general library."
   ]
  },
  {
   "cell_type": "markdown",
   "id": "802ba23f-2812-4519-ba19-7c13d258c040",
   "metadata": {},
   "source": [
    "# ASE Structure"
   ]
  },
  {
   "cell_type": "markdown",
   "id": "0699fefb-d0e8-4ecf-96ff-2e86988b0242",
   "metadata": {},
   "source": [
    "## Structure Generation Methods\n",
    "\n",
    "We directly specified the coordinates of atoms in the previous section.\n",
    "It is good if you want to set the position of each atom in detail, however, explicitly checking and setting the coordinate values of each atom is usually difficult.\n",
    "\n",
    "In ASE, various easy structure generation methods are defined.\n",
    "\n",
    "- https://wiki.fysik.dtu.dk/ase/ase/build/build.html"
   ]
  },
  {
   "cell_type": "markdown",
   "id": "1e50a131-09c8-46c6-aa62-014d219761c1",
   "metadata": {
    "tags": []
   },
   "source": [
    "## Initial setup"
   ]
  },
  {
   "cell_type": "code",
   "execution_count": 1,
   "id": "6af5a525-0516-45d4-b6cb-4ac411abadae",
   "metadata": {
    "tags": []
   },
   "outputs": [
    {
     "name": "stdout",
     "output_type": "stream",
     "text": [
      "Looking in indexes: https://pypi.org/simple, http://pypi.artifact.svc:8080/simple\n",
      "Requirement already satisfied: ase in /home/jovyan/.py39/lib/python3.9/site-packages (3.23.0)\n",
      "Requirement already satisfied: numpy>=1.18.5 in /home/jovyan/.py39/lib/python3.9/site-packages (from ase) (1.26.4)\n",
      "Requirement already satisfied: scipy>=1.6.0 in /home/jovyan/.py39/lib/python3.9/site-packages (from ase) (1.13.1)\n",
      "Requirement already satisfied: matplotlib>=3.3.4 in /home/jovyan/.py39/lib/python3.9/site-packages (from ase) (3.9.0)\n",
      "Requirement already satisfied: contourpy>=1.0.1 in /home/jovyan/.py39/lib/python3.9/site-packages (from matplotlib>=3.3.4->ase) (1.2.1)\n",
      "Requirement already satisfied: cycler>=0.10 in /home/jovyan/.py39/lib/python3.9/site-packages (from matplotlib>=3.3.4->ase) (0.12.1)\n",
      "Requirement already satisfied: fonttools>=4.22.0 in /home/jovyan/.py39/lib/python3.9/site-packages (from matplotlib>=3.3.4->ase) (4.53.0)\n",
      "Requirement already satisfied: kiwisolver>=1.3.1 in /home/jovyan/.py39/lib/python3.9/site-packages (from matplotlib>=3.3.4->ase) (1.4.5)\n",
      "Requirement already satisfied: packaging>=20.0 in /home/jovyan/.py39/lib/python3.9/site-packages (from matplotlib>=3.3.4->ase) (20.9)\n",
      "Requirement already satisfied: pillow>=8 in /home/jovyan/.py39/lib/python3.9/site-packages (from matplotlib>=3.3.4->ase) (10.4.0)\n",
      "Requirement already satisfied: pyparsing>=2.3.1 in /home/jovyan/.py39/lib/python3.9/site-packages (from matplotlib>=3.3.4->ase) (3.1.2)\n",
      "Requirement already satisfied: python-dateutil>=2.7 in /home/jovyan/.py39/lib/python3.9/site-packages (from matplotlib>=3.3.4->ase) (2.9.0.post0)\n",
      "Requirement already satisfied: importlib-resources>=3.2.0 in /home/jovyan/.py39/lib/python3.9/site-packages (from matplotlib>=3.3.4->ase) (6.4.0)\n",
      "Requirement already satisfied: zipp>=3.1.0 in /home/jovyan/.py39/lib/python3.9/site-packages (from importlib-resources>=3.2.0->matplotlib>=3.3.4->ase) (3.19.2)\n",
      "Requirement already satisfied: six>=1.5 in /home/jovyan/.py39/lib/python3.9/site-packages (from python-dateutil>=2.7->matplotlib>=3.3.4->ase) (1.16.0)\n",
      "\n",
      "\u001b[1m[\u001b[0m\u001b[34;49mnotice\u001b[0m\u001b[1;39;49m]\u001b[0m\u001b[39;49m A new release of pip is available: \u001b[0m\u001b[31;49m24.2\u001b[0m\u001b[39;49m -> \u001b[0m\u001b[32;49m24.3.1\u001b[0m\n",
      "\u001b[1m[\u001b[0m\u001b[34;49mnotice\u001b[0m\u001b[1;39;49m]\u001b[0m\u001b[39;49m To update, run: \u001b[0m\u001b[32;49mpip install --upgrade pip\u001b[0m\n"
     ]
    }
   ],
   "source": [
    "!pip install ase"
   ]
  },
  {
   "cell_type": "code",
   "execution_count": 2,
   "id": "dcc3d125-c782-400e-a205-3f4e903c5c1e",
   "metadata": {
    "tags": []
   },
   "outputs": [],
   "source": [
    "import os\n",
    "\n",
    "from IPython.display import HTML, Image\n",
    "\n",
    "import matplotlib.pyplot as plt\n",
    "import matplotlib.image as mpimg\n",
    "from matplotlib.animation import FuncAnimation\n",
    "\n",
    "from ase import Atoms\n",
    "from ase.build import make_supercell\n",
    "from ase.io import write\n",
    "from ase.visualize import view\n",
    "\n",
    "os.makedirs(\"output\", exist_ok=True)\n",
    "\n",
    "def view_x3d(atoms, idx=0):\n",
    "    if isinstance(atoms[0], Atoms):\n",
    "        # Assume this is a trajectory or struct list\n",
    "        if (len(atoms) <= idx):\n",
    "                print(f\"The specified index exceeds the length of the trajectory. The length of the trajectory is {len(atoms)}.\")\n",
    "        return view(atoms[idx], viewer=\"x3d\")\n",
    "    else:\n",
    "        return view(atoms, viewer=\"x3d\")\n",
    "\n",
    "\n",
    "def view_ase_atoms(atoms, rotation=\"0x,0y,0z\", figsize=(4, 4), title=\"\", scale=100):\n",
    "    fig, ax = plt.subplots(figsize=figsize)\n",
    "    write(\"output/tmp.png\", atoms, rotation=rotation, scale=scale)\n",
    "    img = mpimg.imread('output/tmp.png')\n",
    "    ax.imshow(img)\n",
    "    ax.set_title(title)\n",
    "    ax.axis('off')\n",
    "    plt.show()\n",
    "    os.remove('output/tmp.png')\n",
    "    return\n",
    "\n",
    "def traj_to_apng(traj, rotation='30x,30y,30z'):\n",
    "    imgs = []\n",
    "    for atom in traj:\n",
    "        supercell = make_supercell(atom, [[1, 0, 0], [0, 1, 0], [0, 0, 1]])\n",
    "        write('output/tmp.png', supercell, rotation=rotation, show_unit_cell=2)\n",
    "        img = mpimg.imread('output/tmp.png')\n",
    "        imgs.append(img)\n",
    "    os.remove('output/tmp.png')\n",
    "\n",
    "    fig, ax = plt.subplots()\n",
    "\n",
    "    def update(frame):\n",
    "        img = imgs[frame]\n",
    "        ax.clear()\n",
    "        ax.imshow(img)\n",
    "        return []\n",
    "\n",
    "    ani = FuncAnimation(fig, update, frames=len(imgs), blit=True)\n",
    "    plt.close()\n",
    "    return HTML(ani.to_jshtml())"
   ]
  },
  {
   "cell_type": "markdown",
   "id": "7b5c57ba-128b-4dd8-8e4f-1651e93c6f60",
   "metadata": {},
   "source": [
    "### ASE molecule\n",
    "\n",
    "The `molecule` method can create organic molecules registered with ASE. <br/>\n",
    "The list of registered names can be seen below."
   ]
  },
  {
   "cell_type": "code",
   "execution_count": 3,
   "id": "3b751f08-ee8b-4571-972b-aa0cf7272f30",
   "metadata": {},
   "outputs": [
    {
     "name": "stdout",
     "output_type": "stream",
     "text": [
      "Available molecule: 162 ['PH3', 'P2', 'CH3CHO', 'H2COH', 'CS', 'OCHCHO', 'C3H9C', 'CH3COF', 'CH3CH2OCH3', 'HCOOH', 'HCCl3', 'HOCl', 'H2', 'SH2', 'C2H2', 'C4H4NH', 'CH3SCH3', 'SiH2_s3B1d', 'CH3SH', 'CH3CO', 'CO', 'ClF3', 'SiH4', 'C2H6CHOH', 'CH2NHCH2', 'isobutene', 'HCO', 'bicyclobutane', 'LiF', 'Si', 'C2H6', 'CN', 'ClNO', 'S', 'SiF4', 'H3CNH2', 'methylenecyclopropane', 'CH3CH2OH', 'F', 'NaCl', 'CH3Cl', 'CH3SiH3', 'AlF3', 'C2H3', 'ClF', 'PF3', 'PH2', 'CH3CN', 'cyclobutene', 'CH3ONO', 'SiH3', 'C3H6_D3h', 'CO2', 'NO', 'trans-butane', 'H2CCHCl', 'LiH', 'NH2', 'CH', 'CH2OCH2', 'C6H6', 'CH3CONH2', 'cyclobutane', 'H2CCHCN', 'butadiene', 'C', 'H2CO', 'CH3COOH', 'HCF3', 'CH3S', 'CS2', 'SiH2_s1A1d', 'C4H4S', 'N2H4', 'OH', 'CH3OCH3', 'C5H5N', 'H2O', 'HCl', 'CH2_s1A1d', 'CH3CH2SH', 'CH3NO2', 'Cl', 'Be', 'BCl3', 'C4H4O', 'Al', 'CH3O', 'CH3OH', 'C3H7Cl', 'isobutane', 'Na', 'CCl4', 'CH3CH2O', 'H2CCHF', 'C3H7', 'CH3', 'O3', 'P', 'C2H4', 'NCCN', 'S2', 'AlCl3', 'SiCl4', 'SiO', 'C3H4_D2d', 'H', 'COF2', '2-butyne', 'C2H5', 'BF3', 'N2O', 'F2O', 'SO2', 'H2CCl2', 'CF3CN', 'HCN', 'C2H6NH', 'OCS', 'B', 'ClO', 'C3H8', 'HF', 'O2', 'SO', 'NH', 'C2F4', 'NF3', 'CH2_s3B1d', 'CH3CH2Cl', 'CH3COCl', 'NH3', 'C3H9N', 'CF4', 'C3H6_Cs', 'Si2H6', 'HCOOCH3', 'O', 'CCH', 'N', 'Si2', 'C2H6SO', 'C5H8', 'H2CF2', 'Li2', 'CH2SCH2', 'C2Cl4', 'C3H4_C3v', 'CH3COCH3', 'F2', 'CH4', 'SH', 'H2CCO', 'CH3CH2NH2', 'Li', 'N2', 'Cl2', 'H2O2', 'Na2', 'BeH', 'C3H4_C2v', 'NO2']\n"
     ]
    }
   ],
   "source": [
    "from ase.build import molecule\n",
    "from ase.collections import g2\n",
    "\n",
    "print(f\"Available molecule:\", len(g2.names), g2.names)"
   ]
  },
  {
   "cell_type": "markdown",
   "id": "5418e85d-4833-4cc0-825e-5892e5fd5cd8",
   "metadata": {},
   "source": [
    "Atoms can be created by simply specifying a string as follows."
   ]
  },
  {
   "cell_type": "code",
   "execution_count": 4,
   "id": "7797dc6d-8037-490d-b225-a2d9b90f24c7",
   "metadata": {},
   "outputs": [
    {
     "data": {
      "text/html": [
       "<html>\n",
       "    <head>\n",
       "        <title>ASE atomic visualization</title>\n",
       "        <link rel=\"stylesheet\" type=\"text/css\"             href=\"https://www.x3dom.org/release/x3dom.css\"></link>\n",
       "        <script type=\"text/javascript\"             src=\"https://www.x3dom.org/release/x3dom.js\"></script>\n",
       "    </head>\n",
       "    <body>\n",
       "        <X3D width=\"400px\"; height=\"300px\";>\n",
       "\n",
       "<!--Inserting Generated X3D Scene-->\n",
       "<scene>\n",
       "  <viewpoint position=\"0 0 6.199062\">\n",
       "    <group/>\n",
       "  </viewpoint>\n",
       "  <transform translation=\"-0.0 -0.0 -0.0\">\n",
       "    <group>\n",
       "      <group>\n",
       "        <transform translation=\"0 0 0\">\n",
       "          <shape>\n",
       "            <appearance>\n",
       "              <material diffuseColor=\"0 0 0\"/>\n",
       "            </appearance>\n",
       "            <lineset vertexCount=\"5\">\n",
       "              <coordinate point=\"0 0 0 0.0 0.0 0.0 0.0 0.0 0.0 0.0 0.0 0.0 0 0 0\"/>\n",
       "            </lineset>\n",
       "          </shape>\n",
       "        </transform>\n",
       "        <transform translation=\"0.0 0.0 0.0\">\n",
       "          <shape>\n",
       "            <appearance>\n",
       "              <material diffuseColor=\"0 0 0\"/>\n",
       "            </appearance>\n",
       "            <lineset vertexCount=\"5\">\n",
       "              <coordinate point=\"0 0 0 0.0 0.0 0.0 0.0 0.0 0.0 0.0 0.0 0.0 0 0 0\"/>\n",
       "            </lineset>\n",
       "          </shape>\n",
       "        </transform>\n",
       "        <transform translation=\"0 0 0\">\n",
       "          <shape>\n",
       "            <appearance>\n",
       "              <material diffuseColor=\"0 0 0\"/>\n",
       "            </appearance>\n",
       "            <lineset vertexCount=\"5\">\n",
       "              <coordinate point=\"0 0 0 0.0 0.0 0.0 0.0 0.0 0.0 0.0 0.0 0.0 0 0 0\"/>\n",
       "            </lineset>\n",
       "          </shape>\n",
       "        </transform>\n",
       "        <transform translation=\"0.0 0.0 0.0\">\n",
       "          <shape>\n",
       "            <appearance>\n",
       "              <material diffuseColor=\"0 0 0\"/>\n",
       "            </appearance>\n",
       "            <lineset vertexCount=\"5\">\n",
       "              <coordinate point=\"0 0 0 0.0 0.0 0.0 0.0 0.0 0.0 0.0 0.0 0.0 0 0 0\"/>\n",
       "            </lineset>\n",
       "          </shape>\n",
       "        </transform>\n",
       "      </group>\n",
       "      <group>\n",
       "        <transform translation=\"1.218055 0.36124 0.0\">\n",
       "          <shape>\n",
       "            <appearance>\n",
       "              <material diffuseColor=\"1.0 0.051 0.051\"/>\n",
       "            </appearance>\n",
       "            <sphere radius=\"0.66\"/>\n",
       "          </shape>\n",
       "        </transform>\n",
       "        <transform translation=\"0.0 0.464133 0.0\">\n",
       "          <shape>\n",
       "            <appearance>\n",
       "              <material diffuseColor=\"0.565 0.565 0.565\"/>\n",
       "            </appearance>\n",
       "            <sphere radius=\"0.76\"/>\n",
       "          </shape>\n",
       "        </transform>\n",
       "        <transform translation=\"-0.477241 1.465295 0.0\">\n",
       "          <shape>\n",
       "            <appearance>\n",
       "              <material diffuseColor=\"1.0 1.0 1.0\"/>\n",
       "            </appearance>\n",
       "            <sphere radius=\"0.31\"/>\n",
       "          </shape>\n",
       "        </transform>\n",
       "        <transform translation=\"-0.948102 -0.700138 0.0\">\n",
       "          <shape>\n",
       "            <appearance>\n",
       "              <material diffuseColor=\"0.565 0.565 0.565\"/>\n",
       "            </appearance>\n",
       "            <sphere radius=\"0.76\"/>\n",
       "          </shape>\n",
       "        </transform>\n",
       "        <transform translation=\"-0.385946 -1.634236 0.0\">\n",
       "          <shape>\n",
       "            <appearance>\n",
       "              <material diffuseColor=\"1.0 1.0 1.0\"/>\n",
       "            </appearance>\n",
       "            <sphere radius=\"0.31\"/>\n",
       "          </shape>\n",
       "        </transform>\n",
       "        <transform translation=\"-1.596321 -0.652475 0.880946\">\n",
       "          <shape>\n",
       "            <appearance>\n",
       "              <material diffuseColor=\"1.0 1.0 1.0\"/>\n",
       "            </appearance>\n",
       "            <sphere radius=\"0.31\"/>\n",
       "          </shape>\n",
       "        </transform>\n",
       "        <transform translation=\"-1.596321 -0.652475 -0.880946\">\n",
       "          <shape>\n",
       "            <appearance>\n",
       "              <material diffuseColor=\"1.0 1.0 1.0\"/>\n",
       "            </appearance>\n",
       "            <sphere radius=\"0.31\"/>\n",
       "          </shape>\n",
       "        </transform>\n",
       "      </group>\n",
       "    </group>\n",
       "  </transform>\n",
       "</scene>\n",
       "<!--End of Inserted Scene-->\n",
       "\n",
       "        </X3D>\n",
       "    </body>\n",
       "</html>\n",
       "\n"
      ],
      "text/plain": [
       "<IPython.core.display.HTML object>"
      ]
     },
     "execution_count": 4,
     "metadata": {},
     "output_type": "execute_result"
    }
   ],
   "source": [
    "ch3cho_atoms = molecule(\"CH3CHO\")\n",
    "view_x3d(ch3cho_atoms)"
   ]
  },
  {
   "cell_type": "code",
   "execution_count": 5,
   "id": "8acc3e7a-951f-42ec-bc60-51ebe29525f8",
   "metadata": {},
   "outputs": [
    {
     "data": {
      "image/png": "[encoded data removed]",
      "text/plain": [
       "<Figure size 400x400 with 1 Axes>"
      ]
     },
     "metadata": {},
     "output_type": "display_data"
    }
   ],
   "source": [
    "view_ase_atoms(ch3cho_atoms, rotation=\"0x,0y,0z\", figsize=(4, 4), title=\"CH3CHO atoms\", scale=40)"
   ]
  },
  {
   "cell_type": "markdown",
   "id": "9016fe04-45ba-4793-8f83-e44b202d3c2a",
   "metadata": {},
   "source": [
    "### ASE bulk\n",
    "\n",
    "The `bulk` method can be used to create crystal structures easily.\n",
    "The crystal structure is generated by specifying the values that characterize the crystal, as shown below.\n",
    "\n",
    " - `name`: Atom symbol name\n",
    " - `crystalstructure`: The crystal structure, such as \"sc\", \"fcc\", \"bcc\", etc.\n",
    " - `a, b, c, alpha, covera`: Specify the shape and size of the cnell.\n",
    " - `cubic`: Whether the cell should be a cubic unit cell or not."
   ]
  },
  {
   "cell_type": "code",
   "execution_count": 6,
   "id": "5e62ea12-cb39-4d11-be29-9eccb829764b",
   "metadata": {},
   "outputs": [
    {
     "data": {
      "text/plain": [
       "Atoms(symbols='Fe', pbc=True, cell=[2.0, 2.0, 2.0])"
      ]
     },
     "execution_count": 6,
     "metadata": {},
     "output_type": "execute_result"
    }
   ],
   "source": [
    "from ase.build import bulk\n",
    "\n",
    "fe_sc_atoms = bulk(name=\"Fe\", crystalstructure=\"sc\", a=2.0)\n",
    "fe_sc_atoms"
   ]
  },
  {
   "cell_type": "markdown",
   "id": "0b9987fc-da1b-47c1-a195-70306ae567c4",
   "metadata": {},
   "source": [
    "In the following visualization, only one atom is shown with border, which is the **cell**."
   ]
  },
  {
   "cell_type": "code",
   "execution_count": 7,
   "id": "fc6e1624-eeb8-4b67-8c1c-73118ebd78a6",
   "metadata": {},
   "outputs": [
    {
     "data": {
      "text/html": [
       "<html>\n",
       "    <head>\n",
       "        <title>ASE atomic visualization</title>\n",
       "        <link rel=\"stylesheet\" type=\"text/css\"             href=\"https://www.x3dom.org/release/x3dom.css\"></link>\n",
       "        <script type=\"text/javascript\"             src=\"https://www.x3dom.org/release/x3dom.js\"></script>\n",
       "    </head>\n",
       "    <body>\n",
       "        <X3D width=\"400px\"; height=\"300px\";>\n",
       "\n",
       "<!--Inserting Generated X3D Scene-->\n",
       "<scene>\n",
       "  <viewpoint position=\"0 0 4.0\">\n",
       "    <group/>\n",
       "  </viewpoint>\n",
       "  <transform translation=\"-1.0 -1.0 -1.0\">\n",
       "    <group>\n",
       "      <group>\n",
       "        <transform translation=\"0 0 0\">\n",
       "          <shape>\n",
       "            <appearance>\n",
       "              <material diffuseColor=\"0 0 0\"/>\n",
       "            </appearance>\n",
       "            <lineset vertexCount=\"5\">\n",
       "              <coordinate point=\"0 0 0 2.0 0.0 0.0 2.0 2.0 0.0 0.0 2.0 0.0 0 0 0\"/>\n",
       "            </lineset>\n",
       "          </shape>\n",
       "        </transform>\n",
       "        <transform translation=\"0.0 0.0 2.0\">\n",
       "          <shape>\n",
       "            <appearance>\n",
       "              <material diffuseColor=\"0 0 0\"/>\n",
       "            </appearance>\n",
       "            <lineset vertexCount=\"5\">\n",
       "              <coordinate point=\"0 0 0 2.0 0.0 0.0 2.0 2.0 0.0 0.0 2.0 0.0 0 0 0\"/>\n",
       "            </lineset>\n",
       "          </shape>\n",
       "        </transform>\n",
       "        <transform translation=\"0 0 0\">\n",
       "          <shape>\n",
       "            <appearance>\n",
       "              <material diffuseColor=\"0 0 0\"/>\n",
       "            </appearance>\n",
       "            <lineset vertexCount=\"5\">\n",
       "              <coordinate point=\"0 0 0 2.0 0.0 0.0 2.0 0.0 2.0 0.0 0.0 2.0 0 0 0\"/>\n",
       "            </lineset>\n",
       "          </shape>\n",
       "        </transform>\n",
       "        <transform translation=\"0.0 2.0 0.0\">\n",
       "          <shape>\n",
       "            <appearance>\n",
       "              <material diffuseColor=\"0 0 0\"/>\n",
       "            </appearance>\n",
       "            <lineset vertexCount=\"5\">\n",
       "              <coordinate point=\"0 0 0 2.0 0.0 0.0 2.0 0.0 2.0 0.0 0.0 2.0 0 0 0\"/>\n",
       "            </lineset>\n",
       "          </shape>\n",
       "        </transform>\n",
       "      </group>\n",
       "      <group>\n",
       "        <transform translation=\"0.0 0.0 0.0\">\n",
       "          <shape>\n",
       "            <appearance>\n",
       "              <material diffuseColor=\"0.878 0.4 0.2\"/>\n",
       "            </appearance>\n",
       "            <sphere radius=\"1.32\"/>\n",
       "          </shape>\n",
       "        </transform>\n",
       "      </group>\n",
       "    </group>\n",
       "  </transform>\n",
       "</scene>\n",
       "<!--End of Inserted Scene-->\n",
       "\n",
       "        </X3D>\n",
       "    </body>\n",
       "</html>\n",
       "\n"
      ],
      "text/plain": [
       "<IPython.core.display.HTML object>"
      ]
     },
     "execution_count": 7,
     "metadata": {},
     "output_type": "execute_result"
    }
   ],
   "source": [
    "view_x3d(fe_sc_atoms)"
   ]
  },
  {
   "cell_type": "markdown",
   "id": "a1a69937-bb1f-41f0-8124-44634f68feac",
   "metadata": {},
   "source": [
    "Given a cell and a periodic boundary condition (pbc), consider a structure such that the above structure continues indefinitely according to the periodic boundary condition. <br/>\n",
    "In other words, although only one atom is shown on the display, it represents a crystal structure in which the structures are arranged in a regular sequence, as in the following structure."
   ]
  },
  {
   "cell_type": "code",
   "execution_count": 8,
   "id": "fd17cf2f-b143-444f-bf7f-6b8159aecacf",
   "metadata": {},
   "outputs": [
    {
     "data": {
      "text/html": [
       "<html>\n",
       "    <head>\n",
       "        <title>ASE atomic visualization</title>\n",
       "        <link rel=\"stylesheet\" type=\"text/css\"             href=\"https://www.x3dom.org/release/x3dom.css\"></link>\n",
       "        <script type=\"text/javascript\"             src=\"https://www.x3dom.org/release/x3dom.js\"></script>\n",
       "    </head>\n",
       "    <body>\n",
       "        <X3D width=\"400px\"; height=\"300px\";>\n",
       "\n",
       "<!--Inserting Generated X3D Scene-->\n",
       "<scene>\n",
       "  <viewpoint position=\"0 0 24.0\">\n",
       "    <group/>\n",
       "  </viewpoint>\n",
       "  <transform translation=\"-6.0 -6.0 -6.0\">\n",
       "    <group>\n",
       "      <group>\n",
       "        <transform translation=\"0 0 0\">\n",
       "          <shape>\n",
       "            <appearance>\n",
       "              <material diffuseColor=\"0 0 0\"/>\n",
       "            </appearance>\n",
       "            <lineset vertexCount=\"5\">\n",
       "              <coordinate point=\"0 0 0 12.0 0.0 0.0 12.0 12.0 0.0 0.0 12.0 0.0 0 0 0\"/>\n",
       "            </lineset>\n",
       "          </shape>\n",
       "        </transform>\n",
       "        <transform translation=\"0.0 0.0 12.0\">\n",
       "          <shape>\n",
       "            <appearance>\n",
       "              <material diffuseColor=\"0 0 0\"/>\n",
       "            </appearance>\n",
       "            <lineset vertexCount=\"5\">\n",
       "              <coordinate point=\"0 0 0 12.0 0.0 0.0 12.0 12.0 0.0 0.0 12.0 0.0 0 0 0\"/>\n",
       "            </lineset>\n",
       "          </shape>\n",
       "        </transform>\n",
       "        <transform translation=\"0 0 0\">\n",
       "          <shape>\n",
       "            <appearance>\n",
       "              <material diffuseColor=\"0 0 0\"/>\n",
       "            </appearance>\n",
       "            <lineset vertexCount=\"5\">\n",
       "              <coordinate point=\"0 0 0 12.0 0.0 0.0 12.0 0.0 12.0 0.0 0.0 12.0 0 0 0\"/>\n",
       "            </lineset>\n",
       "          </shape>\n",
       "        </transform>\n",
       "        <transform translation=\"0.0 12.0 0.0\">\n",
       "          <shape>\n",
       "            <appearance>\n",
       "              <material diffuseColor=\"0 0 0\"/>\n",
       "            </appearance>\n",
       "            <lineset vertexCount=\"5\">\n",
       "              <coordinate point=\"0 0 0 12.0 0.0 0.0 12.0 0.0 12.0 0.0 0.0 12.0 0 0 0\"/>\n",
       "            </lineset>\n",
       "          </shape>\n",
       "        </transform>\n",
       "      </group>\n",
       "      <group>\n",
       "        <transform translation=\"0.0 0.0 0.0\">\n",
       "          <shape>\n",
       "            <appearance>\n",
       "              <material diffuseColor=\"0.878 0.4 0.2\"/>\n",
       "            </appearance>\n",
       "            <sphere radius=\"1.32\"/>\n",
       "          </shape>\n",
       "        </transform>\n",
       "        <transform translation=\"0.0 0.0 2.0\">\n",
       "          <shape>\n",
       "            <appearance>\n",
       "              <material diffuseColor=\"0.878 0.4 0.2\"/>\n",
       "            </appearance>\n",
       "            <sphere radius=\"1.32\"/>\n",
       "          </shape>\n",
       "        </transform>\n",
       "        <transform translation=\"0.0 0.0 4.0\">\n",
       "          <shape>\n",
       "            <appearance>\n",
       "              <material diffuseColor=\"0.878 0.4 0.2\"/>\n",
       "            </appearance>\n",
       "            <sphere radius=\"1.32\"/>\n",
       "          </shape>\n",
       "        </transform>\n",
       "        <transform translation=\"0.0 0.0 6.0\">\n",
       "          <shape>\n",
       "            <appearance>\n",
       "              <material diffuseColor=\"0.878 0.4 0.2\"/>\n",
       "            </appearance>\n",
       "            <sphere radius=\"1.32\"/>\n",
       "          </shape>\n",
       "        </transform>\n",
       "        <transform translation=\"0.0 0.0 8.0\">\n",
       "          <shape>\n",
       "            <appearance>\n",
       "              <material diffuseColor=\"0.878 0.4 0.2\"/>\n",
       "            </appearance>\n",
       "            <sphere radius=\"1.32\"/>\n",
       "          </shape>\n",
       "        </transform>\n",
       "        <transform translation=\"0.0 0.0 10.0\">\n",
       "          <shape>\n",
       "            <appearance>\n",
       "              <material diffuseColor=\"0.878 0.4 0.2\"/>\n",
       "            </appearance>\n",
       "            <sphere radius=\"1.32\"/>\n",
       "          </shape>\n",
       "        </transform>\n",
       "        <transform translation=\"0.0 2.0 0.0\">\n",
       "          <shape>\n",
       "            <appearance>\n",
       "              <material diffuseColor=\"0.878 0.4 0.2\"/>\n",
       "            </appearance>\n",
       "            <sphere radius=\"1.32\"/>\n",
       "          </shape>\n",
       "        </transform>\n",
       "        <transform translation=\"0.0 2.0 2.0\">\n",
       "          <shape>\n",
       "            <appearance>\n",
       "              <material diffuseColor=\"0.878 0.4 0.2\"/>\n",
       "            </appearance>\n",
       "            <sphere radius=\"1.32\"/>\n",
       "          </shape>\n",
       "        </transform>\n",
       "        <transform translation=\"0.0 2.0 4.0\">\n",
       "          <shape>\n",
       "            <appearance>\n",
       "              <material diffuseColor=\"0.878 0.4 0.2\"/>\n",
       "            </appearance>\n",
       "            <sphere radius=\"1.32\"/>\n",
       "          </shape>\n",
       "        </transform>\n",
       "        <transform translation=\"0.0 2.0 6.0\">\n",
       "          <shape>\n",
       "            <appearance>\n",
       "              <material diffuseColor=\"0.878 0.4 0.2\"/>\n",
       "            </appearance>\n",
       "            <sphere radius=\"1.32\"/>\n",
       "          </shape>\n",
       "        </transform>\n",
       "        <transform translation=\"0.0 2.0 8.0\">\n",
       "          <shape>\n",
       "            <appearance>\n",
       "              <material diffuseColor=\"0.878 0.4 0.2\"/>\n",
       "            </appearance>\n",
       "            <sphere radius=\"1.32\"/>\n",
       "          </shape>\n",
       "        </transform>\n",
       "        <transform translation=\"0.0 2.0 10.0\">\n",
       "          <shape>\n",
       "            <appearance>\n",
       "              <material diffuseColor=\"0.878 0.4 0.2\"/>\n",
       "            </appearance>\n",
       "            <sphere radius=\"1.32\"/>\n",
       "          </shape>\n",
       "        </transform>\n",
       "        <transform translation=\"0.0 4.0 0.0\">\n",
       "          <shape>\n",
       "            <appearance>\n",
       "              <material diffuseColor=\"0.878 0.4 0.2\"/>\n",
       "            </appearance>\n",
       "            <sphere radius=\"1.32\"/>\n",
       "          </shape>\n",
       "        </transform>\n",
       "        <transform translation=\"0.0 4.0 2.0\">\n",
       "          <shape>\n",
       "            <appearance>\n",
       "              <material diffuseColor=\"0.878 0.4 0.2\"/>\n",
       "            </appearance>\n",
       "            <sphere radius=\"1.32\"/>\n",
       "          </shape>\n",
       "        </transform>\n",
       "        <transform translation=\"0.0 4.0 4.0\">\n",
       "          <shape>\n",
       "            <appearance>\n",
       "              <material diffuseColor=\"0.878 0.4 0.2\"/>\n",
       "            </appearance>\n",
       "            <sphere radius=\"1.32\"/>\n",
       "          </shape>\n",
       "        </transform>\n",
       "        <transform translation=\"0.0 4.0 6.0\">\n",
       "          <shape>\n",
       "            <appearance>\n",
       "              <material diffuseColor=\"0.878 0.4 0.2\"/>\n",
       "            </appearance>\n",
       "            <sphere radius=\"1.32\"/>\n",
       "          </shape>\n",
       "        </transform>\n",
       "        <transform translation=\"0.0 4.0 8.0\">\n",
       "          <shape>\n",
       "            <appearance>\n",
       "              <material diffuseColor=\"0.878 0.4 0.2\"/>\n",
       "            </appearance>\n",
       "            <sphere radius=\"1.32\"/>\n",
       "          </shape>\n",
       "        </transform>\n",
       "        <transform translation=\"0.0 4.0 10.0\">\n",
       "          <shape>\n",
       "            <appearance>\n",
       "              <material diffuseColor=\"0.878 0.4 0.2\"/>\n",
       "            </appearance>\n",
       "            <sphere radius=\"1.32\"/>\n",
       "          </shape>\n",
       "        </transform>\n",
       "        <transform translation=\"0.0 6.0 0.0\">\n",
       "          <shape>\n",
       "            <appearance>\n",
       "              <material diffuseColor=\"0.878 0.4 0.2\"/>\n",
       "            </appearance>\n",
       "            <sphere radius=\"1.32\"/>\n",
       "          </shape>\n",
       "        </transform>\n",
       "        <transform translation=\"0.0 6.0 2.0\">\n",
       "          <shape>\n",
       "            <appearance>\n",
       "              <material diffuseColor=\"0.878 0.4 0.2\"/>\n",
       "            </appearance>\n",
       "            <sphere radius=\"1.32\"/>\n",
       "          </shape>\n",
       "        </transform>\n",
       "        <transform translation=\"0.0 6.0 4.0\">\n",
       "          <shape>\n",
       "            <appearance>\n",
       "              <material diffuseColor=\"0.878 0.4 0.2\"/>\n",
       "            </appearance>\n",
       "            <sphere radius=\"1.32\"/>\n",
       "          </shape>\n",
       "        </transform>\n",
       "        <transform translation=\"0.0 6.0 6.0\">\n",
       "          <shape>\n",
       "            <appearance>\n",
       "              <material diffuseColor=\"0.878 0.4 0.2\"/>\n",
       "            </appearance>\n",
       "            <sphere radius=\"1.32\"/>\n",
       "          </shape>\n",
       "        </transform>\n",
       "        <transform translation=\"0.0 6.0 8.0\">\n",
       "          <shape>\n",
       "            <appearance>\n",
       "              <material diffuseColor=\"0.878 0.4 0.2\"/>\n",
       "            </appearance>\n",
       "            <sphere radius=\"1.32\"/>\n",
       "          </shape>\n",
       "        </transform>\n",
       "        <transform translation=\"0.0 6.0 10.0\">\n",
       "          <shape>\n",
       "            <appearance>\n",
       "              <material diffuseColor=\"0.878 0.4 0.2\"/>\n",
       "            </appearance>\n",
       "            <sphere radius=\"1.32\"/>\n",
       "          </shape>\n",
       "        </transform>\n",
       "        <transform translation=\"0.0 8.0 0.0\">\n",
       "          <shape>\n",
       "            <appearance>\n",
       "              <material diffuseColor=\"0.878 0.4 0.2\"/>\n",
       "            </appearance>\n",
       "            <sphere radius=\"1.32\"/>\n",
       "          </shape>\n",
       "        </transform>\n",
       "        <transform translation=\"0.0 8.0 2.0\">\n",
       "          <shape>\n",
       "            <appearance>\n",
       "              <material diffuseColor=\"0.878 0.4 0.2\"/>\n",
       "            </appearance>\n",
       "            <sphere radius=\"1.32\"/>\n",
       "          </shape>\n",
       "        </transform>\n",
       "        <transform translation=\"0.0 8.0 4.0\">\n",
       "          <shape>\n",
       "            <appearance>\n",
       "              <material diffuseColor=\"0.878 0.4 0.2\"/>\n",
       "            </appearance>\n",
       "            <sphere radius=\"1.32\"/>\n",
       "          </shape>\n",
       "        </transform>\n",
       "        <transform translation=\"0.0 8.0 6.0\">\n",
       "          <shape>\n",
       "            <appearance>\n",
       "              <material diffuseColor=\"0.878 0.4 0.2\"/>\n",
       "            </appearance>\n",
       "            <sphere radius=\"1.32\"/>\n",
       "          </shape>\n",
       "        </transform>\n",
       "        <transform translation=\"0.0 8.0 8.0\">\n",
       "          <shape>\n",
       "            <appearance>\n",
       "              <material diffuseColor=\"0.878 0.4 0.2\"/>\n",
       "            </appearance>\n",
       "            <sphere radius=\"1.32\"/>\n",
       "          </shape>\n",
       "        </transform>\n",
       "        <transform translation=\"0.0 8.0 10.0\">\n",
       "          <shape>\n",
       "            <appearance>\n",
       "              <material diffuseColor=\"0.878 0.4 0.2\"/>\n",
       "            </appearance>\n",
       "            <sphere radius=\"1.32\"/>\n",
       "          </shape>\n",
       "        </transform>\n",
       "        <transform translation=\"0.0 10.0 0.0\">\n",
       "          <shape>\n",
       "            <appearance>\n",
       "              <material diffuseColor=\"0.878 0.4 0.2\"/>\n",
       "            </appearance>\n",
       "            <sphere radius=\"1.32\"/>\n",
       "          </shape>\n",
       "        </transform>\n",
       "        <transform translation=\"0.0 10.0 2.0\">\n",
       "          <shape>\n",
       "            <appearance>\n",
       "              <material diffuseColor=\"0.878 0.4 0.2\"/>\n",
       "            </appearance>\n",
       "            <sphere radius=\"1.32\"/>\n",
       "          </shape>\n",
       "        </transform>\n",
       "        <transform translation=\"0.0 10.0 4.0\">\n",
       "          <shape>\n",
       "            <appearance>\n",
       "              <material diffuseColor=\"0.878 0.4 0.2\"/>\n",
       "            </appearance>\n",
       "            <sphere radius=\"1.32\"/>\n",
       "          </shape>\n",
       "        </transform>\n",
       "        <transform translation=\"0.0 10.0 6.0\">\n",
       "          <shape>\n",
       "            <appearance>\n",
       "              <material diffuseColor=\"0.878 0.4 0.2\"/>\n",
       "            </appearance>\n",
       "            <sphere radius=\"1.32\"/>\n",
       "          </shape>\n",
       "        </transform>\n",
       "        <transform translation=\"0.0 10.0 8.0\">\n",
       "          <shape>\n",
       "            <appearance>\n",
       "              <material diffuseColor=\"0.878 0.4 0.2\"/>\n",
       "            </appearance>\n",
       "            <sphere radius=\"1.32\"/>\n",
       "          </shape>\n",
       "        </transform>\n",
       "        <transform translation=\"0.0 10.0 10.0\">\n",
       "          <shape>\n",
       "            <appearance>\n",
       "              <material diffuseColor=\"0.878 0.4 0.2\"/>\n",
       "            </appearance>\n",
       "            <sphere radius=\"1.32\"/>\n",
       "          </shape>\n",
       "        </transform>\n",
       "        <transform translation=\"2.0 0.0 0.0\">\n",
       "          <shape>\n",
       "            <appearance>\n",
       "              <material diffuseColor=\"0.878 0.4 0.2\"/>\n",
       "            </appearance>\n",
       "            <sphere radius=\"1.32\"/>\n",
       "          </shape>\n",
       "        </transform>\n",
       "        <transform translation=\"2.0 0.0 2.0\">\n",
       "          <shape>\n",
       "            <appearance>\n",
       "              <material diffuseColor=\"0.878 0.4 0.2\"/>\n",
       "            </appearance>\n",
       "            <sphere radius=\"1.32\"/>\n",
       "          </shape>\n",
       "        </transform>\n",
       "        <transform translation=\"2.0 0.0 4.0\">\n",
       "          <shape>\n",
       "            <appearance>\n",
       "              <material diffuseColor=\"0.878 0.4 0.2\"/>\n",
       "            </appearance>\n",
       "            <sphere radius=\"1.32\"/>\n",
       "          </shape>\n",
       "        </transform>\n",
       "        <transform translation=\"2.0 0.0 6.0\">\n",
       "          <shape>\n",
       "            <appearance>\n",
       "              <material diffuseColor=\"0.878 0.4 0.2\"/>\n",
       "            </appearance>\n",
       "            <sphere radius=\"1.32\"/>\n",
       "          </shape>\n",
       "        </transform>\n",
       "        <transform translation=\"2.0 0.0 8.0\">\n",
       "          <shape>\n",
       "            <appearance>\n",
       "              <material diffuseColor=\"0.878 0.4 0.2\"/>\n",
       "            </appearance>\n",
       "            <sphere radius=\"1.32\"/>\n",
       "          </shape>\n",
       "        </transform>\n",
       "        <transform translation=\"2.0 0.0 10.0\">\n",
       "          <shape>\n",
       "            <appearance>\n",
       "              <material diffuseColor=\"0.878 0.4 0.2\"/>\n",
       "            </appearance>\n",
       "            <sphere radius=\"1.32\"/>\n",
       "          </shape>\n",
       "        </transform>\n",
       "        <transform translation=\"2.0 2.0 0.0\">\n",
       "          <shape>\n",
       "            <appearance>\n",
       "              <material diffuseColor=\"0.878 0.4 0.2\"/>\n",
       "            </appearance>\n",
       "            <sphere radius=\"1.32\"/>\n",
       "          </shape>\n",
       "        </transform>\n",
       "        <transform translation=\"2.0 2.0 2.0\">\n",
       "          <shape>\n",
       "            <appearance>\n",
       "              <material diffuseColor=\"0.878 0.4 0.2\"/>\n",
       "            </appearance>\n",
       "            <sphere radius=\"1.32\"/>\n",
       "          </shape>\n",
       "        </transform>\n",
       "        <transform translation=\"2.0 2.0 4.0\">\n",
       "          <shape>\n",
       "            <appearance>\n",
       "              <material diffuseColor=\"0.878 0.4 0.2\"/>\n",
       "            </appearance>\n",
       "            <sphere radius=\"1.32\"/>\n",
       "          </shape>\n",
       "        </transform>\n",
       "        <transform translation=\"2.0 2.0 6.0\">\n",
       "          <shape>\n",
       "            <appearance>\n",
       "              <material diffuseColor=\"0.878 0.4 0.2\"/>\n",
       "            </appearance>\n",
       "            <sphere radius=\"1.32\"/>\n",
       "          </shape>\n",
       "        </transform>\n",
       "        <transform translation=\"2.0 2.0 8.0\">\n",
       "          <shape>\n",
       "            <appearance>\n",
       "              <material diffuseColor=\"0.878 0.4 0.2\"/>\n",
       "            </appearance>\n",
       "            <sphere radius=\"1.32\"/>\n",
       "          </shape>\n",
       "        </transform>\n",
       "        <transform translation=\"2.0 2.0 10.0\">\n",
       "          <shape>\n",
       "            <appearance>\n",
       "              <material diffuseColor=\"0.878 0.4 0.2\"/>\n",
       "            </appearance>\n",
       "            <sphere radius=\"1.32\"/>\n",
       "          </shape>\n",
       "        </transform>\n",
       "        <transform translation=\"2.0 4.0 0.0\">\n",
       "          <shape>\n",
       "            <appearance>\n",
       "              <material diffuseColor=\"0.878 0.4 0.2\"/>\n",
       "            </appearance>\n",
       "            <sphere radius=\"1.32\"/>\n",
       "          </shape>\n",
       "        </transform>\n",
       "        <transform translation=\"2.0 4.0 2.0\">\n",
       "          <shape>\n",
       "            <appearance>\n",
       "              <material diffuseColor=\"0.878 0.4 0.2\"/>\n",
       "            </appearance>\n",
       "            <sphere radius=\"1.32\"/>\n",
       "          </shape>\n",
       "        </transform>\n",
       "        <transform translation=\"2.0 4.0 4.0\">\n",
       "          <shape>\n",
       "            <appearance>\n",
       "              <material diffuseColor=\"0.878 0.4 0.2\"/>\n",
       "            </appearance>\n",
       "            <sphere radius=\"1.32\"/>\n",
       "          </shape>\n",
       "        </transform>\n",
       "        <transform translation=\"2.0 4.0 6.0\">\n",
       "          <shape>\n",
       "            <appearance>\n",
       "              <material diffuseColor=\"0.878 0.4 0.2\"/>\n",
       "            </appearance>\n",
       "            <sphere radius=\"1.32\"/>\n",
       "          </shape>\n",
       "        </transform>\n",
       "        <transform translation=\"2.0 4.0 8.0\">\n",
       "          <shape>\n",
       "            <appearance>\n",
       "              <material diffuseColor=\"0.878 0.4 0.2\"/>\n",
       "            </appearance>\n",
       "            <sphere radius=\"1.32\"/>\n",
       "          </shape>\n",
       "        </transform>\n",
       "        <transform translation=\"2.0 4.0 10.0\">\n",
       "          <shape>\n",
       "            <appearance>\n",
       "              <material diffuseColor=\"0.878 0.4 0.2\"/>\n",
       "            </appearance>\n",
       "            <sphere radius=\"1.32\"/>\n",
       "          </shape>\n",
       "        </transform>\n",
       "        <transform translation=\"2.0 6.0 0.0\">\n",
       "          <shape>\n",
       "            <appearance>\n",
       "              <material diffuseColor=\"0.878 0.4 0.2\"/>\n",
       "            </appearance>\n",
       "            <sphere radius=\"1.32\"/>\n",
       "          </shape>\n",
       "        </transform>\n",
       "        <transform translation=\"2.0 6.0 2.0\">\n",
       "          <shape>\n",
       "            <appearance>\n",
       "              <material diffuseColor=\"0.878 0.4 0.2\"/>\n",
       "            </appearance>\n",
       "            <sphere radius=\"1.32\"/>\n",
       "          </shape>\n",
       "        </transform>\n",
       "        <transform translation=\"2.0 6.0 4.0\">\n",
       "          <shape>\n",
       "            <appearance>\n",
       "              <material diffuseColor=\"0.878 0.4 0.2\"/>\n",
       "            </appearance>\n",
       "            <sphere radius=\"1.32\"/>\n",
       "          </shape>\n",
       "        </transform>\n",
       "        <transform translation=\"2.0 6.0 6.0\">\n",
       "          <shape>\n",
       "            <appearance>\n",
       "              <material diffuseColor=\"0.878 0.4 0.2\"/>\n",
       "            </appearance>\n",
       "            <sphere radius=\"1.32\"/>\n",
       "          </shape>\n",
       "        </transform>\n",
       "        <transform translation=\"2.0 6.0 8.0\">\n",
       "          <shape>\n",
       "            <appearance>\n",
       "              <material diffuseColor=\"0.878 0.4 0.2\"/>\n",
       "            </appearance>\n",
       "            <sphere radius=\"1.32\"/>\n",
       "          </shape>\n",
       "        </transform>\n",
       "        <transform translation=\"2.0 6.0 10.0\">\n",
       "          <shape>\n",
       "            <appearance>\n",
       "              <material diffuseColor=\"0.878 0.4 0.2\"/>\n",
       "            </appearance>\n",
       "            <sphere radius=\"1.32\"/>\n",
       "          </shape>\n",
       "        </transform>\n",
       "        <transform translation=\"2.0 8.0 0.0\">\n",
       "          <shape>\n",
       "            <appearance>\n",
       "              <material diffuseColor=\"0.878 0.4 0.2\"/>\n",
       "            </appearance>\n",
       "            <sphere radius=\"1.32\"/>\n",
       "          </shape>\n",
       "        </transform>\n",
       "        <transform translation=\"2.0 8.0 2.0\">\n",
       "          <shape>\n",
       "            <appearance>\n",
       "              <material diffuseColor=\"0.878 0.4 0.2\"/>\n",
       "            </appearance>\n",
       "            <sphere radius=\"1.32\"/>\n",
       "          </shape>\n",
       "        </transform>\n",
       "        <transform translation=\"2.0 8.0 4.0\">\n",
       "          <shape>\n",
       "            <appearance>\n",
       "              <material diffuseColor=\"0.878 0.4 0.2\"/>\n",
       "            </appearance>\n",
       "            <sphere radius=\"1.32\"/>\n",
       "          </shape>\n",
       "        </transform>\n",
       "        <transform translation=\"2.0 8.0 6.0\">\n",
       "          <shape>\n",
       "            <appearance>\n",
       "              <material diffuseColor=\"0.878 0.4 0.2\"/>\n",
       "            </appearance>\n",
       "            <sphere radius=\"1.32\"/>\n",
       "          </shape>\n",
       "        </transform>\n",
       "        <transform translation=\"2.0 8.0 8.0\">\n",
       "          <shape>\n",
       "            <appearance>\n",
       "              <material diffuseColor=\"0.878 0.4 0.2\"/>\n",
       "            </appearance>\n",
       "            <sphere radius=\"1.32\"/>\n",
       "          </shape>\n",
       "        </transform>\n",
       "        <transform translation=\"2.0 8.0 10.0\">\n",
       "          <shape>\n",
       "            <appearance>\n",
       "              <material diffuseColor=\"0.878 0.4 0.2\"/>\n",
       "            </appearance>\n",
       "            <sphere radius=\"1.32\"/>\n",
       "          </shape>\n",
       "        </transform>\n",
       "        <transform translation=\"2.0 10.0 0.0\">\n",
       "          <shape>\n",
       "            <appearance>\n",
       "              <material diffuseColor=\"0.878 0.4 0.2\"/>\n",
       "            </appearance>\n",
       "            <sphere radius=\"1.32\"/>\n",
       "          </shape>\n",
       "        </transform>\n",
       "        <transform translation=\"2.0 10.0 2.0\">\n",
       "          <shape>\n",
       "            <appearance>\n",
       "              <material diffuseColor=\"0.878 0.4 0.2\"/>\n",
       "            </appearance>\n",
       "            <sphere radius=\"1.32\"/>\n",
       "          </shape>\n",
       "        </transform>\n",
       "        <transform translation=\"2.0 10.0 4.0\">\n",
       "          <shape>\n",
       "            <appearance>\n",
       "              <material diffuseColor=\"0.878 0.4 0.2\"/>\n",
       "            </appearance>\n",
       "            <sphere radius=\"1.32\"/>\n",
       "          </shape>\n",
       "        </transform>\n",
       "        <transform translation=\"2.0 10.0 6.0\">\n",
       "          <shape>\n",
       "            <appearance>\n",
       "              <material diffuseColor=\"0.878 0.4 0.2\"/>\n",
       "            </appearance>\n",
       "            <sphere radius=\"1.32\"/>\n",
       "          </shape>\n",
       "        </transform>\n",
       "        <transform translation=\"2.0 10.0 8.0\">\n",
       "          <shape>\n",
       "            <appearance>\n",
       "              <material diffuseColor=\"0.878 0.4 0.2\"/>\n",
       "            </appearance>\n",
       "            <sphere radius=\"1.32\"/>\n",
       "          </shape>\n",
       "        </transform>\n",
       "        <transform translation=\"2.0 10.0 10.0\">\n",
       "          <shape>\n",
       "            <appearance>\n",
       "              <material diffuseColor=\"0.878 0.4 0.2\"/>\n",
       "            </appearance>\n",
       "            <sphere radius=\"1.32\"/>\n",
       "          </shape>\n",
       "        </transform>\n",
       "        <transform translation=\"4.0 0.0 0.0\">\n",
       "          <shape>\n",
       "            <appearance>\n",
       "              <material diffuseColor=\"0.878 0.4 0.2\"/>\n",
       "            </appearance>\n",
       "            <sphere radius=\"1.32\"/>\n",
       "          </shape>\n",
       "        </transform>\n",
       "        <transform translation=\"4.0 0.0 2.0\">\n",
       "          <shape>\n",
       "            <appearance>\n",
       "              <material diffuseColor=\"0.878 0.4 0.2\"/>\n",
       "            </appearance>\n",
       "            <sphere radius=\"1.32\"/>\n",
       "          </shape>\n",
       "        </transform>\n",
       "        <transform translation=\"4.0 0.0 4.0\">\n",
       "          <shape>\n",
       "            <appearance>\n",
       "              <material diffuseColor=\"0.878 0.4 0.2\"/>\n",
       "            </appearance>\n",
       "            <sphere radius=\"1.32\"/>\n",
       "          </shape>\n",
       "        </transform>\n",
       "        <transform translation=\"4.0 0.0 6.0\">\n",
       "          <shape>\n",
       "            <appearance>\n",
       "              <material diffuseColor=\"0.878 0.4 0.2\"/>\n",
       "            </appearance>\n",
       "            <sphere radius=\"1.32\"/>\n",
       "          </shape>\n",
       "        </transform>\n",
       "        <transform translation=\"4.0 0.0 8.0\">\n",
       "          <shape>\n",
       "            <appearance>\n",
       "              <material diffuseColor=\"0.878 0.4 0.2\"/>\n",
       "            </appearance>\n",
       "            <sphere radius=\"1.32\"/>\n",
       "          </shape>\n",
       "        </transform>\n",
       "        <transform translation=\"4.0 0.0 10.0\">\n",
       "          <shape>\n",
       "            <appearance>\n",
       "              <material diffuseColor=\"0.878 0.4 0.2\"/>\n",
       "            </appearance>\n",
       "            <sphere radius=\"1.32\"/>\n",
       "          </shape>\n",
       "        </transform>\n",
       "        <transform translation=\"4.0 2.0 0.0\">\n",
       "          <shape>\n",
       "            <appearance>\n",
       "              <material diffuseColor=\"0.878 0.4 0.2\"/>\n",
       "            </appearance>\n",
       "            <sphere radius=\"1.32\"/>\n",
       "          </shape>\n",
       "        </transform>\n",
       "        <transform translation=\"4.0 2.0 2.0\">\n",
       "          <shape>\n",
       "            <appearance>\n",
       "              <material diffuseColor=\"0.878 0.4 0.2\"/>\n",
       "            </appearance>\n",
       "            <sphere radius=\"1.32\"/>\n",
       "          </shape>\n",
       "        </transform>\n",
       "        <transform translation=\"4.0 2.0 4.0\">\n",
       "          <shape>\n",
       "            <appearance>\n",
       "              <material diffuseColor=\"0.878 0.4 0.2\"/>\n",
       "            </appearance>\n",
       "            <sphere radius=\"1.32\"/>\n",
       "          </shape>\n",
       "        </transform>\n",
       "        <transform translation=\"4.0 2.0 6.0\">\n",
       "          <shape>\n",
       "            <appearance>\n",
       "              <material diffuseColor=\"0.878 0.4 0.2\"/>\n",
       "            </appearance>\n",
       "            <sphere radius=\"1.32\"/>\n",
       "          </shape>\n",
       "        </transform>\n",
       "        <transform translation=\"4.0 2.0 8.0\">\n",
       "          <shape>\n",
       "            <appearance>\n",
       "              <material diffuseColor=\"0.878 0.4 0.2\"/>\n",
       "            </appearance>\n",
       "            <sphere radius=\"1.32\"/>\n",
       "          </shape>\n",
       "        </transform>\n",
       "        <transform translation=\"4.0 2.0 10.0\">\n",
       "          <shape>\n",
       "            <appearance>\n",
       "              <material diffuseColor=\"0.878 0.4 0.2\"/>\n",
       "            </appearance>\n",
       "            <sphere radius=\"1.32\"/>\n",
       "          </shape>\n",
       "        </transform>\n",
       "        <transform translation=\"4.0 4.0 0.0\">\n",
       "          <shape>\n",
       "            <appearance>\n",
       "              <material diffuseColor=\"0.878 0.4 0.2\"/>\n",
       "            </appearance>\n",
       "            <sphere radius=\"1.32\"/>\n",
       "          </shape>\n",
       "        </transform>\n",
       "        <transform translation=\"4.0 4.0 2.0\">\n",
       "          <shape>\n",
       "            <appearance>\n",
       "              <material diffuseColor=\"0.878 0.4 0.2\"/>\n",
       "            </appearance>\n",
       "            <sphere radius=\"1.32\"/>\n",
       "          </shape>\n",
       "        </transform>\n",
       "        <transform translation=\"4.0 4.0 4.0\">\n",
       "          <shape>\n",
       "            <appearance>\n",
       "              <material diffuseColor=\"0.878 0.4 0.2\"/>\n",
       "            </appearance>\n",
       "            <sphere radius=\"1.32\"/>\n",
       "          </shape>\n",
       "        </transform>\n",
       "        <transform translation=\"4.0 4.0 6.0\">\n",
       "          <shape>\n",
       "            <appearance>\n",
       "              <material diffuseColor=\"0.878 0.4 0.2\"/>\n",
       "            </appearance>\n",
       "            <sphere radius=\"1.32\"/>\n",
       "          </shape>\n",
       "        </transform>\n",
       "        <transform translation=\"4.0 4.0 8.0\">\n",
       "          <shape>\n",
       "            <appearance>\n",
       "              <material diffuseColor=\"0.878 0.4 0.2\"/>\n",
       "            </appearance>\n",
       "            <sphere radius=\"1.32\"/>\n",
       "          </shape>\n",
       "        </transform>\n",
       "        <transform translation=\"4.0 4.0 10.0\">\n",
       "          <shape>\n",
       "            <appearance>\n",
       "              <material diffuseColor=\"0.878 0.4 0.2\"/>\n",
       "            </appearance>\n",
       "            <sphere radius=\"1.32\"/>\n",
       "          </shape>\n",
       "        </transform>\n",
       "        <transform translation=\"4.0 6.0 0.0\">\n",
       "          <shape>\n",
       "            <appearance>\n",
       "              <material diffuseColor=\"0.878 0.4 0.2\"/>\n",
       "            </appearance>\n",
       "            <sphere radius=\"1.32\"/>\n",
       "          </shape>\n",
       "        </transform>\n",
       "        <transform translation=\"4.0 6.0 2.0\">\n",
       "          <shape>\n",
       "            <appearance>\n",
       "              <material diffuseColor=\"0.878 0.4 0.2\"/>\n",
       "            </appearance>\n",
       "            <sphere radius=\"1.32\"/>\n",
       "          </shape>\n",
       "        </transform>\n",
       "        <transform translation=\"4.0 6.0 4.0\">\n",
       "          <shape>\n",
       "            <appearance>\n",
       "              <material diffuseColor=\"0.878 0.4 0.2\"/>\n",
       "            </appearance>\n",
       "            <sphere radius=\"1.32\"/>\n",
       "          </shape>\n",
       "        </transform>\n",
       "        <transform translation=\"4.0 6.0 6.0\">\n",
       "          <shape>\n",
       "            <appearance>\n",
       "              <material diffuseColor=\"0.878 0.4 0.2\"/>\n",
       "            </appearance>\n",
       "            <sphere radius=\"1.32\"/>\n",
       "          </shape>\n",
       "        </transform>\n",
       "        <transform translation=\"4.0 6.0 8.0\">\n",
       "          <shape>\n",
       "            <appearance>\n",
       "              <material diffuseColor=\"0.878 0.4 0.2\"/>\n",
       "            </appearance>\n",
       "            <sphere radius=\"1.32\"/>\n",
       "          </shape>\n",
       "        </transform>\n",
       "        <transform translation=\"4.0 6.0 10.0\">\n",
       "          <shape>\n",
       "            <appearance>\n",
       "              <material diffuseColor=\"0.878 0.4 0.2\"/>\n",
       "            </appearance>\n",
       "            <sphere radius=\"1.32\"/>\n",
       "          </shape>\n",
       "        </transform>\n",
       "        <transform translation=\"4.0 8.0 0.0\">\n",
       "          <shape>\n",
       "            <appearance>\n",
       "              <material diffuseColor=\"0.878 0.4 0.2\"/>\n",
       "            </appearance>\n",
       "            <sphere radius=\"1.32\"/>\n",
       "          </shape>\n",
       "        </transform>\n",
       "        <transform translation=\"4.0 8.0 2.0\">\n",
       "          <shape>\n",
       "            <appearance>\n",
       "              <material diffuseColor=\"0.878 0.4 0.2\"/>\n",
       "            </appearance>\n",
       "            <sphere radius=\"1.32\"/>\n",
       "          </shape>\n",
       "        </transform>\n",
       "        <transform translation=\"4.0 8.0 4.0\">\n",
       "          <shape>\n",
       "            <appearance>\n",
       "              <material diffuseColor=\"0.878 0.4 0.2\"/>\n",
       "            </appearance>\n",
       "            <sphere radius=\"1.32\"/>\n",
       "          </shape>\n",
       "        </transform>\n",
       "        <transform translation=\"4.0 8.0 6.0\">\n",
       "          <shape>\n",
       "            <appearance>\n",
       "              <material diffuseColor=\"0.878 0.4 0.2\"/>\n",
       "            </appearance>\n",
       "            <sphere radius=\"1.32\"/>\n",
       "          </shape>\n",
       "        </transform>\n",
       "        <transform translation=\"4.0 8.0 8.0\">\n",
       "          <shape>\n",
       "            <appearance>\n",
       "              <material diffuseColor=\"0.878 0.4 0.2\"/>\n",
       "            </appearance>\n",
       "            <sphere radius=\"1.32\"/>\n",
       "          </shape>\n",
       "        </transform>\n",
       "        <transform translation=\"4.0 8.0 10.0\">\n",
       "          <shape>\n",
       "            <appearance>\n",
       "              <material diffuseColor=\"0.878 0.4 0.2\"/>\n",
       "            </appearance>\n",
       "            <sphere radius=\"1.32\"/>\n",
       "          </shape>\n",
       "        </transform>\n",
       "        <transform translation=\"4.0 10.0 0.0\">\n",
       "          <shape>\n",
       "            <appearance>\n",
       "              <material diffuseColor=\"0.878 0.4 0.2\"/>\n",
       "            </appearance>\n",
       "            <sphere radius=\"1.32\"/>\n",
       "          </shape>\n",
       "        </transform>\n",
       "        <transform translation=\"4.0 10.0 2.0\">\n",
       "          <shape>\n",
       "            <appearance>\n",
       "              <material diffuseColor=\"0.878 0.4 0.2\"/>\n",
       "            </appearance>\n",
       "            <sphere radius=\"1.32\"/>\n",
       "          </shape>\n",
       "        </transform>\n",
       "        <transform translation=\"4.0 10.0 4.0\">\n",
       "          <shape>\n",
       "            <appearance>\n",
       "              <material diffuseColor=\"0.878 0.4 0.2\"/>\n",
       "            </appearance>\n",
       "            <sphere radius=\"1.32\"/>\n",
       "          </shape>\n",
       "        </transform>\n",
       "        <transform translation=\"4.0 10.0 6.0\">\n",
       "          <shape>\n",
       "            <appearance>\n",
       "              <material diffuseColor=\"0.878 0.4 0.2\"/>\n",
       "            </appearance>\n",
       "            <sphere radius=\"1.32\"/>\n",
       "          </shape>\n",
       "        </transform>\n",
       "        <transform translation=\"4.0 10.0 8.0\">\n",
       "          <shape>\n",
       "            <appearance>\n",
       "              <material diffuseColor=\"0.878 0.4 0.2\"/>\n",
       "            </appearance>\n",
       "            <sphere radius=\"1.32\"/>\n",
       "          </shape>\n",
       "        </transform>\n",
       "        <transform translation=\"4.0 10.0 10.0\">\n",
       "          <shape>\n",
       "            <appearance>\n",
       "              <material diffuseColor=\"0.878 0.4 0.2\"/>\n",
       "            </appearance>\n",
       "            <sphere radius=\"1.32\"/>\n",
       "          </shape>\n",
       "        </transform>\n",
       "        <transform translation=\"6.0 0.0 0.0\">\n",
       "          <shape>\n",
       "            <appearance>\n",
       "              <material diffuseColor=\"0.878 0.4 0.2\"/>\n",
       "            </appearance>\n",
       "            <sphere radius=\"1.32\"/>\n",
       "          </shape>\n",
       "        </transform>\n",
       "        <transform translation=\"6.0 0.0 2.0\">\n",
       "          <shape>\n",
       "            <appearance>\n",
       "              <material diffuseColor=\"0.878 0.4 0.2\"/>\n",
       "            </appearance>\n",
       "            <sphere radius=\"1.32\"/>\n",
       "          </shape>\n",
       "        </transform>\n",
       "        <transform translation=\"6.0 0.0 4.0\">\n",
       "          <shape>\n",
       "            <appearance>\n",
       "              <material diffuseColor=\"0.878 0.4 0.2\"/>\n",
       "            </appearance>\n",
       "            <sphere radius=\"1.32\"/>\n",
       "          </shape>\n",
       "        </transform>\n",
       "        <transform translation=\"6.0 0.0 6.0\">\n",
       "          <shape>\n",
       "            <appearance>\n",
       "              <material diffuseColor=\"0.878 0.4 0.2\"/>\n",
       "            </appearance>\n",
       "            <sphere radius=\"1.32\"/>\n",
       "          </shape>\n",
       "        </transform>\n",
       "        <transform translation=\"6.0 0.0 8.0\">\n",
       "          <shape>\n",
       "            <appearance>\n",
       "              <material diffuseColor=\"0.878 0.4 0.2\"/>\n",
       "            </appearance>\n",
       "            <sphere radius=\"1.32\"/>\n",
       "          </shape>\n",
       "        </transform>\n",
       "        <transform translation=\"6.0 0.0 10.0\">\n",
       "          <shape>\n",
       "            <appearance>\n",
       "              <material diffuseColor=\"0.878 0.4 0.2\"/>\n",
       "            </appearance>\n",
       "            <sphere radius=\"1.32\"/>\n",
       "          </shape>\n",
       "        </transform>\n",
       "        <transform translation=\"6.0 2.0 0.0\">\n",
       "          <shape>\n",
       "            <appearance>\n",
       "              <material diffuseColor=\"0.878 0.4 0.2\"/>\n",
       "            </appearance>\n",
       "            <sphere radius=\"1.32\"/>\n",
       "          </shape>\n",
       "        </transform>\n",
       "        <transform translation=\"6.0 2.0 2.0\">\n",
       "          <shape>\n",
       "            <appearance>\n",
       "              <material diffuseColor=\"0.878 0.4 0.2\"/>\n",
       "            </appearance>\n",
       "            <sphere radius=\"1.32\"/>\n",
       "          </shape>\n",
       "        </transform>\n",
       "        <transform translation=\"6.0 2.0 4.0\">\n",
       "          <shape>\n",
       "            <appearance>\n",
       "              <material diffuseColor=\"0.878 0.4 0.2\"/>\n",
       "            </appearance>\n",
       "            <sphere radius=\"1.32\"/>\n",
       "          </shape>\n",
       "        </transform>\n",
       "        <transform translation=\"6.0 2.0 6.0\">\n",
       "          <shape>\n",
       "            <appearance>\n",
       "              <material diffuseColor=\"0.878 0.4 0.2\"/>\n",
       "            </appearance>\n",
       "            <sphere radius=\"1.32\"/>\n",
       "          </shape>\n",
       "        </transform>\n",
       "        <transform translation=\"6.0 2.0 8.0\">\n",
       "          <shape>\n",
       "            <appearance>\n",
       "              <material diffuseColor=\"0.878 0.4 0.2\"/>\n",
       "            </appearance>\n",
       "            <sphere radius=\"1.32\"/>\n",
       "          </shape>\n",
       "        </transform>\n",
       "        <transform translation=\"6.0 2.0 10.0\">\n",
       "          <shape>\n",
       "            <appearance>\n",
       "              <material diffuseColor=\"0.878 0.4 0.2\"/>\n",
       "            </appearance>\n",
       "            <sphere radius=\"1.32\"/>\n",
       "          </shape>\n",
       "        </transform>\n",
       "        <transform translation=\"6.0 4.0 0.0\">\n",
       "          <shape>\n",
       "            <appearance>\n",
       "              <material diffuseColor=\"0.878 0.4 0.2\"/>\n",
       "            </appearance>\n",
       "            <sphere radius=\"1.32\"/>\n",
       "          </shape>\n",
       "        </transform>\n",
       "        <transform translation=\"6.0 4.0 2.0\">\n",
       "          <shape>\n",
       "            <appearance>\n",
       "              <material diffuseColor=\"0.878 0.4 0.2\"/>\n",
       "            </appearance>\n",
       "            <sphere radius=\"1.32\"/>\n",
       "          </shape>\n",
       "        </transform>\n",
       "        <transform translation=\"6.0 4.0 4.0\">\n",
       "          <shape>\n",
       "            <appearance>\n",
       "              <material diffuseColor=\"0.878 0.4 0.2\"/>\n",
       "            </appearance>\n",
       "            <sphere radius=\"1.32\"/>\n",
       "          </shape>\n",
       "        </transform>\n",
       "        <transform translation=\"6.0 4.0 6.0\">\n",
       "          <shape>\n",
       "            <appearance>\n",
       "              <material diffuseColor=\"0.878 0.4 0.2\"/>\n",
       "            </appearance>\n",
       "            <sphere radius=\"1.32\"/>\n",
       "          </shape>\n",
       "        </transform>\n",
       "        <transform translation=\"6.0 4.0 8.0\">\n",
       "          <shape>\n",
       "            <appearance>\n",
       "              <material diffuseColor=\"0.878 0.4 0.2\"/>\n",
       "            </appearance>\n",
       "            <sphere radius=\"1.32\"/>\n",
       "          </shape>\n",
       "        </transform>\n",
       "        <transform translation=\"6.0 4.0 10.0\">\n",
       "          <shape>\n",
       "            <appearance>\n",
       "              <material diffuseColor=\"0.878 0.4 0.2\"/>\n",
       "            </appearance>\n",
       "            <sphere radius=\"1.32\"/>\n",
       "          </shape>\n",
       "        </transform>\n",
       "        <transform translation=\"6.0 6.0 0.0\">\n",
       "          <shape>\n",
       "            <appearance>\n",
       "              <material diffuseColor=\"0.878 0.4 0.2\"/>\n",
       "            </appearance>\n",
       "            <sphere radius=\"1.32\"/>\n",
       "          </shape>\n",
       "        </transform>\n",
       "        <transform translation=\"6.0 6.0 2.0\">\n",
       "          <shape>\n",
       "            <appearance>\n",
       "              <material diffuseColor=\"0.878 0.4 0.2\"/>\n",
       "            </appearance>\n",
       "            <sphere radius=\"1.32\"/>\n",
       "          </shape>\n",
       "        </transform>\n",
       "        <transform translation=\"6.0 6.0 4.0\">\n",
       "          <shape>\n",
       "            <appearance>\n",
       "              <material diffuseColor=\"0.878 0.4 0.2\"/>\n",
       "            </appearance>\n",
       "            <sphere radius=\"1.32\"/>\n",
       "          </shape>\n",
       "        </transform>\n",
       "        <transform translation=\"6.0 6.0 6.0\">\n",
       "          <shape>\n",
       "            <appearance>\n",
       "              <material diffuseColor=\"0.878 0.4 0.2\"/>\n",
       "            </appearance>\n",
       "            <sphere radius=\"1.32\"/>\n",
       "          </shape>\n",
       "        </transform>\n",
       "        <transform translation=\"6.0 6.0 8.0\">\n",
       "          <shape>\n",
       "            <appearance>\n",
       "              <material diffuseColor=\"0.878 0.4 0.2\"/>\n",
       "            </appearance>\n",
       "            <sphere radius=\"1.32\"/>\n",
       "          </shape>\n",
       "        </transform>\n",
       "        <transform translation=\"6.0 6.0 10.0\">\n",
       "          <shape>\n",
       "            <appearance>\n",
       "              <material diffuseColor=\"0.878 0.4 0.2\"/>\n",
       "            </appearance>\n",
       "            <sphere radius=\"1.32\"/>\n",
       "          </shape>\n",
       "        </transform>\n",
       "        <transform translation=\"6.0 8.0 0.0\">\n",
       "          <shape>\n",
       "            <appearance>\n",
       "              <material diffuseColor=\"0.878 0.4 0.2\"/>\n",
       "            </appearance>\n",
       "            <sphere radius=\"1.32\"/>\n",
       "          </shape>\n",
       "        </transform>\n",
       "        <transform translation=\"6.0 8.0 2.0\">\n",
       "          <shape>\n",
       "            <appearance>\n",
       "              <material diffuseColor=\"0.878 0.4 0.2\"/>\n",
       "            </appearance>\n",
       "            <sphere radius=\"1.32\"/>\n",
       "          </shape>\n",
       "        </transform>\n",
       "        <transform translation=\"6.0 8.0 4.0\">\n",
       "          <shape>\n",
       "            <appearance>\n",
       "              <material diffuseColor=\"0.878 0.4 0.2\"/>\n",
       "            </appearance>\n",
       "            <sphere radius=\"1.32\"/>\n",
       "          </shape>\n",
       "        </transform>\n",
       "        <transform translation=\"6.0 8.0 6.0\">\n",
       "          <shape>\n",
       "            <appearance>\n",
       "              <material diffuseColor=\"0.878 0.4 0.2\"/>\n",
       "            </appearance>\n",
       "            <sphere radius=\"1.32\"/>\n",
       "          </shape>\n",
       "        </transform>\n",
       "        <transform translation=\"6.0 8.0 8.0\">\n",
       "          <shape>\n",
       "            <appearance>\n",
       "              <material diffuseColor=\"0.878 0.4 0.2\"/>\n",
       "            </appearance>\n",
       "            <sphere radius=\"1.32\"/>\n",
       "          </shape>\n",
       "        </transform>\n",
       "        <transform translation=\"6.0 8.0 10.0\">\n",
       "          <shape>\n",
       "            <appearance>\n",
       "              <material diffuseColor=\"0.878 0.4 0.2\"/>\n",
       "            </appearance>\n",
       "            <sphere radius=\"1.32\"/>\n",
       "          </shape>\n",
       "        </transform>\n",
       "        <transform translation=\"6.0 10.0 0.0\">\n",
       "          <shape>\n",
       "            <appearance>\n",
       "              <material diffuseColor=\"0.878 0.4 0.2\"/>\n",
       "            </appearance>\n",
       "            <sphere radius=\"1.32\"/>\n",
       "          </shape>\n",
       "        </transform>\n",
       "        <transform translation=\"6.0 10.0 2.0\">\n",
       "          <shape>\n",
       "            <appearance>\n",
       "              <material diffuseColor=\"0.878 0.4 0.2\"/>\n",
       "            </appearance>\n",
       "            <sphere radius=\"1.32\"/>\n",
       "          </shape>\n",
       "        </transform>\n",
       "        <transform translation=\"6.0 10.0 4.0\">\n",
       "          <shape>\n",
       "            <appearance>\n",
       "              <material diffuseColor=\"0.878 0.4 0.2\"/>\n",
       "            </appearance>\n",
       "            <sphere radius=\"1.32\"/>\n",
       "          </shape>\n",
       "        </transform>\n",
       "        <transform translation=\"6.0 10.0 6.0\">\n",
       "          <shape>\n",
       "            <appearance>\n",
       "              <material diffuseColor=\"0.878 0.4 0.2\"/>\n",
       "            </appearance>\n",
       "            <sphere radius=\"1.32\"/>\n",
       "          </shape>\n",
       "        </transform>\n",
       "        <transform translation=\"6.0 10.0 8.0\">\n",
       "          <shape>\n",
       "            <appearance>\n",
       "              <material diffuseColor=\"0.878 0.4 0.2\"/>\n",
       "            </appearance>\n",
       "            <sphere radius=\"1.32\"/>\n",
       "          </shape>\n",
       "        </transform>\n",
       "        <transform translation=\"6.0 10.0 10.0\">\n",
       "          <shape>\n",
       "            <appearance>\n",
       "              <material diffuseColor=\"0.878 0.4 0.2\"/>\n",
       "            </appearance>\n",
       "            <sphere radius=\"1.32\"/>\n",
       "          </shape>\n",
       "        </transform>\n",
       "        <transform translation=\"8.0 0.0 0.0\">\n",
       "          <shape>\n",
       "            <appearance>\n",
       "              <material diffuseColor=\"0.878 0.4 0.2\"/>\n",
       "            </appearance>\n",
       "            <sphere radius=\"1.32\"/>\n",
       "          </shape>\n",
       "        </transform>\n",
       "        <transform translation=\"8.0 0.0 2.0\">\n",
       "          <shape>\n",
       "            <appearance>\n",
       "              <material diffuseColor=\"0.878 0.4 0.2\"/>\n",
       "            </appearance>\n",
       "            <sphere radius=\"1.32\"/>\n",
       "          </shape>\n",
       "        </transform>\n",
       "        <transform translation=\"8.0 0.0 4.0\">\n",
       "          <shape>\n",
       "            <appearance>\n",
       "              <material diffuseColor=\"0.878 0.4 0.2\"/>\n",
       "            </appearance>\n",
       "            <sphere radius=\"1.32\"/>\n",
       "          </shape>\n",
       "        </transform>\n",
       "        <transform translation=\"8.0 0.0 6.0\">\n",
       "          <shape>\n",
       "            <appearance>\n",
       "              <material diffuseColor=\"0.878 0.4 0.2\"/>\n",
       "            </appearance>\n",
       "            <sphere radius=\"1.32\"/>\n",
       "          </shape>\n",
       "        </transform>\n",
       "        <transform translation=\"8.0 0.0 8.0\">\n",
       "          <shape>\n",
       "            <appearance>\n",
       "              <material diffuseColor=\"0.878 0.4 0.2\"/>\n",
       "            </appearance>\n",
       "            <sphere radius=\"1.32\"/>\n",
       "          </shape>\n",
       "        </transform>\n",
       "        <transform translation=\"8.0 0.0 10.0\">\n",
       "          <shape>\n",
       "            <appearance>\n",
       "              <material diffuseColor=\"0.878 0.4 0.2\"/>\n",
       "            </appearance>\n",
       "            <sphere radius=\"1.32\"/>\n",
       "          </shape>\n",
       "        </transform>\n",
       "        <transform translation=\"8.0 2.0 0.0\">\n",
       "          <shape>\n",
       "            <appearance>\n",
       "              <material diffuseColor=\"0.878 0.4 0.2\"/>\n",
       "            </appearance>\n",
       "            <sphere radius=\"1.32\"/>\n",
       "          </shape>\n",
       "        </transform>\n",
       "        <transform translation=\"8.0 2.0 2.0\">\n",
       "          <shape>\n",
       "            <appearance>\n",
       "              <material diffuseColor=\"0.878 0.4 0.2\"/>\n",
       "            </appearance>\n",
       "            <sphere radius=\"1.32\"/>\n",
       "          </shape>\n",
       "        </transform>\n",
       "        <transform translation=\"8.0 2.0 4.0\">\n",
       "          <shape>\n",
       "            <appearance>\n",
       "              <material diffuseColor=\"0.878 0.4 0.2\"/>\n",
       "            </appearance>\n",
       "            <sphere radius=\"1.32\"/>\n",
       "          </shape>\n",
       "        </transform>\n",
       "        <transform translation=\"8.0 2.0 6.0\">\n",
       "          <shape>\n",
       "            <appearance>\n",
       "              <material diffuseColor=\"0.878 0.4 0.2\"/>\n",
       "            </appearance>\n",
       "            <sphere radius=\"1.32\"/>\n",
       "          </shape>\n",
       "        </transform>\n",
       "        <transform translation=\"8.0 2.0 8.0\">\n",
       "          <shape>\n",
       "            <appearance>\n",
       "              <material diffuseColor=\"0.878 0.4 0.2\"/>\n",
       "            </appearance>\n",
       "            <sphere radius=\"1.32\"/>\n",
       "          </shape>\n",
       "        </transform>\n",
       "        <transform translation=\"8.0 2.0 10.0\">\n",
       "          <shape>\n",
       "            <appearance>\n",
       "              <material diffuseColor=\"0.878 0.4 0.2\"/>\n",
       "            </appearance>\n",
       "            <sphere radius=\"1.32\"/>\n",
       "          </shape>\n",
       "        </transform>\n",
       "        <transform translation=\"8.0 4.0 0.0\">\n",
       "          <shape>\n",
       "            <appearance>\n",
       "              <material diffuseColor=\"0.878 0.4 0.2\"/>\n",
       "            </appearance>\n",
       "            <sphere radius=\"1.32\"/>\n",
       "          </shape>\n",
       "        </transform>\n",
       "        <transform translation=\"8.0 4.0 2.0\">\n",
       "          <shape>\n",
       "            <appearance>\n",
       "              <material diffuseColor=\"0.878 0.4 0.2\"/>\n",
       "            </appearance>\n",
       "            <sphere radius=\"1.32\"/>\n",
       "          </shape>\n",
       "        </transform>\n",
       "        <transform translation=\"8.0 4.0 4.0\">\n",
       "          <shape>\n",
       "            <appearance>\n",
       "              <material diffuseColor=\"0.878 0.4 0.2\"/>\n",
       "            </appearance>\n",
       "            <sphere radius=\"1.32\"/>\n",
       "          </shape>\n",
       "        </transform>\n",
       "        <transform translation=\"8.0 4.0 6.0\">\n",
       "          <shape>\n",
       "            <appearance>\n",
       "              <material diffuseColor=\"0.878 0.4 0.2\"/>\n",
       "            </appearance>\n",
       "            <sphere radius=\"1.32\"/>\n",
       "          </shape>\n",
       "        </transform>\n",
       "        <transform translation=\"8.0 4.0 8.0\">\n",
       "          <shape>\n",
       "            <appearance>\n",
       "              <material diffuseColor=\"0.878 0.4 0.2\"/>\n",
       "            </appearance>\n",
       "            <sphere radius=\"1.32\"/>\n",
       "          </shape>\n",
       "        </transform>\n",
       "        <transform translation=\"8.0 4.0 10.0\">\n",
       "          <shape>\n",
       "            <appearance>\n",
       "              <material diffuseColor=\"0.878 0.4 0.2\"/>\n",
       "            </appearance>\n",
       "            <sphere radius=\"1.32\"/>\n",
       "          </shape>\n",
       "        </transform>\n",
       "        <transform translation=\"8.0 6.0 0.0\">\n",
       "          <shape>\n",
       "            <appearance>\n",
       "              <material diffuseColor=\"0.878 0.4 0.2\"/>\n",
       "            </appearance>\n",
       "            <sphere radius=\"1.32\"/>\n",
       "          </shape>\n",
       "        </transform>\n",
       "        <transform translation=\"8.0 6.0 2.0\">\n",
       "          <shape>\n",
       "            <appearance>\n",
       "              <material diffuseColor=\"0.878 0.4 0.2\"/>\n",
       "            </appearance>\n",
       "            <sphere radius=\"1.32\"/>\n",
       "          </shape>\n",
       "        </transform>\n",
       "        <transform translation=\"8.0 6.0 4.0\">\n",
       "          <shape>\n",
       "            <appearance>\n",
       "              <material diffuseColor=\"0.878 0.4 0.2\"/>\n",
       "            </appearance>\n",
       "            <sphere radius=\"1.32\"/>\n",
       "          </shape>\n",
       "        </transform>\n",
       "        <transform translation=\"8.0 6.0 6.0\">\n",
       "          <shape>\n",
       "            <appearance>\n",
       "              <material diffuseColor=\"0.878 0.4 0.2\"/>\n",
       "            </appearance>\n",
       "            <sphere radius=\"1.32\"/>\n",
       "          </shape>\n",
       "        </transform>\n",
       "        <transform translation=\"8.0 6.0 8.0\">\n",
       "          <shape>\n",
       "            <appearance>\n",
       "              <material diffuseColor=\"0.878 0.4 0.2\"/>\n",
       "            </appearance>\n",
       "            <sphere radius=\"1.32\"/>\n",
       "          </shape>\n",
       "        </transform>\n",
       "        <transform translation=\"8.0 6.0 10.0\">\n",
       "          <shape>\n",
       "            <appearance>\n",
       "              <material diffuseColor=\"0.878 0.4 0.2\"/>\n",
       "            </appearance>\n",
       "            <sphere radius=\"1.32\"/>\n",
       "          </shape>\n",
       "        </transform>\n",
       "        <transform translation=\"8.0 8.0 0.0\">\n",
       "          <shape>\n",
       "            <appearance>\n",
       "              <material diffuseColor=\"0.878 0.4 0.2\"/>\n",
       "            </appearance>\n",
       "            <sphere radius=\"1.32\"/>\n",
       "          </shape>\n",
       "        </transform>\n",
       "        <transform translation=\"8.0 8.0 2.0\">\n",
       "          <shape>\n",
       "            <appearance>\n",
       "              <material diffuseColor=\"0.878 0.4 0.2\"/>\n",
       "            </appearance>\n",
       "            <sphere radius=\"1.32\"/>\n",
       "          </shape>\n",
       "        </transform>\n",
       "        <transform translation=\"8.0 8.0 4.0\">\n",
       "          <shape>\n",
       "            <appearance>\n",
       "              <material diffuseColor=\"0.878 0.4 0.2\"/>\n",
       "            </appearance>\n",
       "            <sphere radius=\"1.32\"/>\n",
       "          </shape>\n",
       "        </transform>\n",
       "        <transform translation=\"8.0 8.0 6.0\">\n",
       "          <shape>\n",
       "            <appearance>\n",
       "              <material diffuseColor=\"0.878 0.4 0.2\"/>\n",
       "            </appearance>\n",
       "            <sphere radius=\"1.32\"/>\n",
       "          </shape>\n",
       "        </transform>\n",
       "        <transform translation=\"8.0 8.0 8.0\">\n",
       "          <shape>\n",
       "            <appearance>\n",
       "              <material diffuseColor=\"0.878 0.4 0.2\"/>\n",
       "            </appearance>\n",
       "            <sphere radius=\"1.32\"/>\n",
       "          </shape>\n",
       "        </transform>\n",
       "        <transform translation=\"8.0 8.0 10.0\">\n",
       "          <shape>\n",
       "            <appearance>\n",
       "              <material diffuseColor=\"0.878 0.4 0.2\"/>\n",
       "            </appearance>\n",
       "            <sphere radius=\"1.32\"/>\n",
       "          </shape>\n",
       "        </transform>\n",
       "        <transform translation=\"8.0 10.0 0.0\">\n",
       "          <shape>\n",
       "            <appearance>\n",
       "              <material diffuseColor=\"0.878 0.4 0.2\"/>\n",
       "            </appearance>\n",
       "            <sphere radius=\"1.32\"/>\n",
       "          </shape>\n",
       "        </transform>\n",
       "        <transform translation=\"8.0 10.0 2.0\">\n",
       "          <shape>\n",
       "            <appearance>\n",
       "              <material diffuseColor=\"0.878 0.4 0.2\"/>\n",
       "            </appearance>\n",
       "            <sphere radius=\"1.32\"/>\n",
       "          </shape>\n",
       "        </transform>\n",
       "        <transform translation=\"8.0 10.0 4.0\">\n",
       "          <shape>\n",
       "            <appearance>\n",
       "              <material diffuseColor=\"0.878 0.4 0.2\"/>\n",
       "            </appearance>\n",
       "            <sphere radius=\"1.32\"/>\n",
       "          </shape>\n",
       "        </transform>\n",
       "        <transform translation=\"8.0 10.0 6.0\">\n",
       "          <shape>\n",
       "            <appearance>\n",
       "              <material diffuseColor=\"0.878 0.4 0.2\"/>\n",
       "            </appearance>\n",
       "            <sphere radius=\"1.32\"/>\n",
       "          </shape>\n",
       "        </transform>\n",
       "        <transform translation=\"8.0 10.0 8.0\">\n",
       "          <shape>\n",
       "            <appearance>\n",
       "              <material diffuseColor=\"0.878 0.4 0.2\"/>\n",
       "            </appearance>\n",
       "            <sphere radius=\"1.32\"/>\n",
       "          </shape>\n",
       "        </transform>\n",
       "        <transform translation=\"8.0 10.0 10.0\">\n",
       "          <shape>\n",
       "            <appearance>\n",
       "              <material diffuseColor=\"0.878 0.4 0.2\"/>\n",
       "            </appearance>\n",
       "            <sphere radius=\"1.32\"/>\n",
       "          </shape>\n",
       "        </transform>\n",
       "        <transform translation=\"10.0 0.0 0.0\">\n",
       "          <shape>\n",
       "            <appearance>\n",
       "              <material diffuseColor=\"0.878 0.4 0.2\"/>\n",
       "            </appearance>\n",
       "            <sphere radius=\"1.32\"/>\n",
       "          </shape>\n",
       "        </transform>\n",
       "        <transform translation=\"10.0 0.0 2.0\">\n",
       "          <shape>\n",
       "            <appearance>\n",
       "              <material diffuseColor=\"0.878 0.4 0.2\"/>\n",
       "            </appearance>\n",
       "            <sphere radius=\"1.32\"/>\n",
       "          </shape>\n",
       "        </transform>\n",
       "        <transform translation=\"10.0 0.0 4.0\">\n",
       "          <shape>\n",
       "            <appearance>\n",
       "              <material diffuseColor=\"0.878 0.4 0.2\"/>\n",
       "            </appearance>\n",
       "            <sphere radius=\"1.32\"/>\n",
       "          </shape>\n",
       "        </transform>\n",
       "        <transform translation=\"10.0 0.0 6.0\">\n",
       "          <shape>\n",
       "            <appearance>\n",
       "              <material diffuseColor=\"0.878 0.4 0.2\"/>\n",
       "            </appearance>\n",
       "            <sphere radius=\"1.32\"/>\n",
       "          </shape>\n",
       "        </transform>\n",
       "        <transform translation=\"10.0 0.0 8.0\">\n",
       "          <shape>\n",
       "            <appearance>\n",
       "              <material diffuseColor=\"0.878 0.4 0.2\"/>\n",
       "            </appearance>\n",
       "            <sphere radius=\"1.32\"/>\n",
       "          </shape>\n",
       "        </transform>\n",
       "        <transform translation=\"10.0 0.0 10.0\">\n",
       "          <shape>\n",
       "            <appearance>\n",
       "              <material diffuseColor=\"0.878 0.4 0.2\"/>\n",
       "            </appearance>\n",
       "            <sphere radius=\"1.32\"/>\n",
       "          </shape>\n",
       "        </transform>\n",
       "        <transform translation=\"10.0 2.0 0.0\">\n",
       "          <shape>\n",
       "            <appearance>\n",
       "              <material diffuseColor=\"0.878 0.4 0.2\"/>\n",
       "            </appearance>\n",
       "            <sphere radius=\"1.32\"/>\n",
       "          </shape>\n",
       "        </transform>\n",
       "        <transform translation=\"10.0 2.0 2.0\">\n",
       "          <shape>\n",
       "            <appearance>\n",
       "              <material diffuseColor=\"0.878 0.4 0.2\"/>\n",
       "            </appearance>\n",
       "            <sphere radius=\"1.32\"/>\n",
       "          </shape>\n",
       "        </transform>\n",
       "        <transform translation=\"10.0 2.0 4.0\">\n",
       "          <shape>\n",
       "            <appearance>\n",
       "              <material diffuseColor=\"0.878 0.4 0.2\"/>\n",
       "            </appearance>\n",
       "            <sphere radius=\"1.32\"/>\n",
       "          </shape>\n",
       "        </transform>\n",
       "        <transform translation=\"10.0 2.0 6.0\">\n",
       "          <shape>\n",
       "            <appearance>\n",
       "              <material diffuseColor=\"0.878 0.4 0.2\"/>\n",
       "            </appearance>\n",
       "            <sphere radius=\"1.32\"/>\n",
       "          </shape>\n",
       "        </transform>\n",
       "        <transform translation=\"10.0 2.0 8.0\">\n",
       "          <shape>\n",
       "            <appearance>\n",
       "              <material diffuseColor=\"0.878 0.4 0.2\"/>\n",
       "            </appearance>\n",
       "            <sphere radius=\"1.32\"/>\n",
       "          </shape>\n",
       "        </transform>\n",
       "        <transform translation=\"10.0 2.0 10.0\">\n",
       "          <shape>\n",
       "            <appearance>\n",
       "              <material diffuseColor=\"0.878 0.4 0.2\"/>\n",
       "            </appearance>\n",
       "            <sphere radius=\"1.32\"/>\n",
       "          </shape>\n",
       "        </transform>\n",
       "        <transform translation=\"10.0 4.0 0.0\">\n",
       "          <shape>\n",
       "            <appearance>\n",
       "              <material diffuseColor=\"0.878 0.4 0.2\"/>\n",
       "            </appearance>\n",
       "            <sphere radius=\"1.32\"/>\n",
       "          </shape>\n",
       "        </transform>\n",
       "        <transform translation=\"10.0 4.0 2.0\">\n",
       "          <shape>\n",
       "            <appearance>\n",
       "              <material diffuseColor=\"0.878 0.4 0.2\"/>\n",
       "            </appearance>\n",
       "            <sphere radius=\"1.32\"/>\n",
       "          </shape>\n",
       "        </transform>\n",
       "        <transform translation=\"10.0 4.0 4.0\">\n",
       "          <shape>\n",
       "            <appearance>\n",
       "              <material diffuseColor=\"0.878 0.4 0.2\"/>\n",
       "            </appearance>\n",
       "            <sphere radius=\"1.32\"/>\n",
       "          </shape>\n",
       "        </transform>\n",
       "        <transform translation=\"10.0 4.0 6.0\">\n",
       "          <shape>\n",
       "            <appearance>\n",
       "              <material diffuseColor=\"0.878 0.4 0.2\"/>\n",
       "            </appearance>\n",
       "            <sphere radius=\"1.32\"/>\n",
       "          </shape>\n",
       "        </transform>\n",
       "        <transform translation=\"10.0 4.0 8.0\">\n",
       "          <shape>\n",
       "            <appearance>\n",
       "              <material diffuseColor=\"0.878 0.4 0.2\"/>\n",
       "            </appearance>\n",
       "            <sphere radius=\"1.32\"/>\n",
       "          </shape>\n",
       "        </transform>\n",
       "        <transform translation=\"10.0 4.0 10.0\">\n",
       "          <shape>\n",
       "            <appearance>\n",
       "              <material diffuseColor=\"0.878 0.4 0.2\"/>\n",
       "            </appearance>\n",
       "            <sphere radius=\"1.32\"/>\n",
       "          </shape>\n",
       "        </transform>\n",
       "        <transform translation=\"10.0 6.0 0.0\">\n",
       "          <shape>\n",
       "            <appearance>\n",
       "              <material diffuseColor=\"0.878 0.4 0.2\"/>\n",
       "            </appearance>\n",
       "            <sphere radius=\"1.32\"/>\n",
       "          </shape>\n",
       "        </transform>\n",
       "        <transform translation=\"10.0 6.0 2.0\">\n",
       "          <shape>\n",
       "            <appearance>\n",
       "              <material diffuseColor=\"0.878 0.4 0.2\"/>\n",
       "            </appearance>\n",
       "            <sphere radius=\"1.32\"/>\n",
       "          </shape>\n",
       "        </transform>\n",
       "        <transform translation=\"10.0 6.0 4.0\">\n",
       "          <shape>\n",
       "            <appearance>\n",
       "              <material diffuseColor=\"0.878 0.4 0.2\"/>\n",
       "            </appearance>\n",
       "            <sphere radius=\"1.32\"/>\n",
       "          </shape>\n",
       "        </transform>\n",
       "        <transform translation=\"10.0 6.0 6.0\">\n",
       "          <shape>\n",
       "            <appearance>\n",
       "              <material diffuseColor=\"0.878 0.4 0.2\"/>\n",
       "            </appearance>\n",
       "            <sphere radius=\"1.32\"/>\n",
       "          </shape>\n",
       "        </transform>\n",
       "        <transform translation=\"10.0 6.0 8.0\">\n",
       "          <shape>\n",
       "            <appearance>\n",
       "              <material diffuseColor=\"0.878 0.4 0.2\"/>\n",
       "            </appearance>\n",
       "            <sphere radius=\"1.32\"/>\n",
       "          </shape>\n",
       "        </transform>\n",
       "        <transform translation=\"10.0 6.0 10.0\">\n",
       "          <shape>\n",
       "            <appearance>\n",
       "              <material diffuseColor=\"0.878 0.4 0.2\"/>\n",
       "            </appearance>\n",
       "            <sphere radius=\"1.32\"/>\n",
       "          </shape>\n",
       "        </transform>\n",
       "        <transform translation=\"10.0 8.0 0.0\">\n",
       "          <shape>\n",
       "            <appearance>\n",
       "              <material diffuseColor=\"0.878 0.4 0.2\"/>\n",
       "            </appearance>\n",
       "            <sphere radius=\"1.32\"/>\n",
       "          </shape>\n",
       "        </transform>\n",
       "        <transform translation=\"10.0 8.0 2.0\">\n",
       "          <shape>\n",
       "            <appearance>\n",
       "              <material diffuseColor=\"0.878 0.4 0.2\"/>\n",
       "            </appearance>\n",
       "            <sphere radius=\"1.32\"/>\n",
       "          </shape>\n",
       "        </transform>\n",
       "        <transform translation=\"10.0 8.0 4.0\">\n",
       "          <shape>\n",
       "            <appearance>\n",
       "              <material diffuseColor=\"0.878 0.4 0.2\"/>\n",
       "            </appearance>\n",
       "            <sphere radius=\"1.32\"/>\n",
       "          </shape>\n",
       "        </transform>\n",
       "        <transform translation=\"10.0 8.0 6.0\">\n",
       "          <shape>\n",
       "            <appearance>\n",
       "              <material diffuseColor=\"0.878 0.4 0.2\"/>\n",
       "            </appearance>\n",
       "            <sphere radius=\"1.32\"/>\n",
       "          </shape>\n",
       "        </transform>\n",
       "        <transform translation=\"10.0 8.0 8.0\">\n",
       "          <shape>\n",
       "            <appearance>\n",
       "              <material diffuseColor=\"0.878 0.4 0.2\"/>\n",
       "            </appearance>\n",
       "            <sphere radius=\"1.32\"/>\n",
       "          </shape>\n",
       "        </transform>\n",
       "        <transform translation=\"10.0 8.0 10.0\">\n",
       "          <shape>\n",
       "            <appearance>\n",
       "              <material diffuseColor=\"0.878 0.4 0.2\"/>\n",
       "            </appearance>\n",
       "            <sphere radius=\"1.32\"/>\n",
       "          </shape>\n",
       "        </transform>\n",
       "        <transform translation=\"10.0 10.0 0.0\">\n",
       "          <shape>\n",
       "            <appearance>\n",
       "              <material diffuseColor=\"0.878 0.4 0.2\"/>\n",
       "            </appearance>\n",
       "            <sphere radius=\"1.32\"/>\n",
       "          </shape>\n",
       "        </transform>\n",
       "        <transform translation=\"10.0 10.0 2.0\">\n",
       "          <shape>\n",
       "            <appearance>\n",
       "              <material diffuseColor=\"0.878 0.4 0.2\"/>\n",
       "            </appearance>\n",
       "            <sphere radius=\"1.32\"/>\n",
       "          </shape>\n",
       "        </transform>\n",
       "        <transform translation=\"10.0 10.0 4.0\">\n",
       "          <shape>\n",
       "            <appearance>\n",
       "              <material diffuseColor=\"0.878 0.4 0.2\"/>\n",
       "            </appearance>\n",
       "            <sphere radius=\"1.32\"/>\n",
       "          </shape>\n",
       "        </transform>\n",
       "        <transform translation=\"10.0 10.0 6.0\">\n",
       "          <shape>\n",
       "            <appearance>\n",
       "              <material diffuseColor=\"0.878 0.4 0.2\"/>\n",
       "            </appearance>\n",
       "            <sphere radius=\"1.32\"/>\n",
       "          </shape>\n",
       "        </transform>\n",
       "        <transform translation=\"10.0 10.0 8.0\">\n",
       "          <shape>\n",
       "            <appearance>\n",
       "              <material diffuseColor=\"0.878 0.4 0.2\"/>\n",
       "            </appearance>\n",
       "            <sphere radius=\"1.32\"/>\n",
       "          </shape>\n",
       "        </transform>\n",
       "        <transform translation=\"10.0 10.0 10.0\">\n",
       "          <shape>\n",
       "            <appearance>\n",
       "              <material diffuseColor=\"0.878 0.4 0.2\"/>\n",
       "            </appearance>\n",
       "            <sphere radius=\"1.32\"/>\n",
       "          </shape>\n",
       "        </transform>\n",
       "      </group>\n",
       "    </group>\n",
       "  </transform>\n",
       "</scene>\n",
       "<!--End of Inserted Scene-->\n",
       "\n",
       "        </X3D>\n",
       "    </body>\n",
       "</html>\n",
       "\n"
      ],
      "text/plain": [
       "<IPython.core.display.HTML object>"
      ]
     },
     "execution_count": 8,
     "metadata": {},
     "output_type": "execute_result"
    }
   ],
   "source": [
    "view_x3d(fe_sc_atoms * (6, 6, 6))"
   ]
  },
  {
   "cell_type": "code",
   "execution_count": 9,
   "id": "5efe93b0-e392-411f-92c6-28fd992a06f7",
   "metadata": {},
   "outputs": [
    {
     "data": {
      "image/png": "[encoded data removed]",
      "text/plain": [
       "<Figure size 400x400 with 1 Axes>"
      ]
     },
     "metadata": {},
     "output_type": "display_data"
    }
   ],
   "source": [
    "view_ase_atoms(fe_sc_atoms, rotation=\"45x,45y,0z\", figsize=(4, 4), title=\"Fe simple cubic atoms\", scale=40)"
   ]
  },
  {
   "cell_type": "markdown",
   "id": "8d914dcb-4414-44a6-9276-d3100093e0af",
   "metadata": {},
   "source": [
    "If you do not specify `crystalstructure`, cell size `a`, etc., ASE will [automatically determine the best value based on the elemental species](https://gitlab.com/ase/ase/-/blob/6cb8784ac1056b7b897822ff7b763a323d92a543/ase/data/__init__.py#L578)。\n",
    "\n",
    "For example, the Fe BCC structure is `a=2.87`."
   ]
  },
  {
   "cell_type": "code",
   "execution_count": 10,
   "id": "3e98f12e-3677-4099-b46f-1c725b690847",
   "metadata": {},
   "outputs": [
    {
     "data": {
      "text/plain": [
       "Atoms(symbols='Fe', pbc=True, cell=[[-1.435, 1.435, 1.435], [1.435, -1.435, 1.435], [1.435, 1.435, -1.435]], initial_magmoms=...)"
      ]
     },
     "execution_count": 10,
     "metadata": {},
     "output_type": "execute_result"
    }
   ],
   "source": [
    "fe_atoms = bulk(\"Fe\")\n",
    "fe_atoms"
   ]
  },
  {
   "cell_type": "code",
   "execution_count": 11,
   "id": "92e7023c-884f-4786-8b60-eb20ad44aafb",
   "metadata": {},
   "outputs": [
    {
     "data": {
      "text/html": [
       "<html>\n",
       "    <head>\n",
       "        <title>ASE atomic visualization</title>\n",
       "        <link rel=\"stylesheet\" type=\"text/css\"             href=\"https://www.x3dom.org/release/x3dom.css\"></link>\n",
       "        <script type=\"text/javascript\"             src=\"https://www.x3dom.org/release/x3dom.js\"></script>\n",
       "    </head>\n",
       "    <body>\n",
       "        <X3D width=\"400px\"; height=\"300px\";>\n",
       "\n",
       "<!--Inserting Generated X3D Scene-->\n",
       "<scene>\n",
       "  <viewpoint position=\"0 0 5.74\">\n",
       "    <group/>\n",
       "  </viewpoint>\n",
       "  <transform translation=\"0.7175 0.7175 0.7175\">\n",
       "    <group>\n",
       "      <group>\n",
       "        <transform translation=\"0 0 0\">\n",
       "          <shape>\n",
       "            <appearance>\n",
       "              <material diffuseColor=\"0 0 0\"/>\n",
       "            </appearance>\n",
       "            <lineset vertexCount=\"5\">\n",
       "              <coordinate point=\"0 0 0 -1.435 1.435 1.435 0.0 0.0 2.87 1.435 -1.435 1.435 0 0 0\"/>\n",
       "            </lineset>\n",
       "          </shape>\n",
       "        </transform>\n",
       "        <transform translation=\"1.435 1.435 -1.435\">\n",
       "          <shape>\n",
       "            <appearance>\n",
       "              <material diffuseColor=\"0 0 0\"/>\n",
       "            </appearance>\n",
       "            <lineset vertexCount=\"5\">\n",
       "              <coordinate point=\"0 0 0 -1.435 1.435 1.435 0.0 0.0 2.87 1.435 -1.435 1.435 0 0 0\"/>\n",
       "            </lineset>\n",
       "          </shape>\n",
       "        </transform>\n",
       "        <transform translation=\"0 0 0\">\n",
       "          <shape>\n",
       "            <appearance>\n",
       "              <material diffuseColor=\"0 0 0\"/>\n",
       "            </appearance>\n",
       "            <lineset vertexCount=\"5\">\n",
       "              <coordinate point=\"0 0 0 -1.435 1.435 1.435 0.0 2.87 0.0 1.435 1.435 -1.435 0 0 0\"/>\n",
       "            </lineset>\n",
       "          </shape>\n",
       "        </transform>\n",
       "        <transform translation=\"1.435 -1.435 1.435\">\n",
       "          <shape>\n",
       "            <appearance>\n",
       "              <material diffuseColor=\"0 0 0\"/>\n",
       "            </appearance>\n",
       "            <lineset vertexCount=\"5\">\n",
       "              <coordinate point=\"0 0 0 -1.435 1.435 1.435 0.0 2.87 0.0 1.435 1.435 -1.435 0 0 0\"/>\n",
       "            </lineset>\n",
       "          </shape>\n",
       "        </transform>\n",
       "      </group>\n",
       "      <group>\n",
       "        <transform translation=\"0.0 0.0 0.0\">\n",
       "          <shape>\n",
       "            <appearance>\n",
       "              <material diffuseColor=\"0.878 0.4 0.2\"/>\n",
       "            </appearance>\n",
       "            <sphere radius=\"1.32\"/>\n",
       "          </shape>\n",
       "        </transform>\n",
       "      </group>\n",
       "    </group>\n",
       "  </transform>\n",
       "</scene>\n",
       "<!--End of Inserted Scene-->\n",
       "\n",
       "        </X3D>\n",
       "    </body>\n",
       "</html>\n",
       "\n"
      ],
      "text/plain": [
       "<IPython.core.display.HTML object>"
      ]
     },
     "execution_count": 11,
     "metadata": {},
     "output_type": "execute_result"
    }
   ],
   "source": [
    "view_x3d(fe_atoms)"
   ]
  },
  {
   "cell_type": "code",
   "execution_count": 12,
   "id": "3be9aba4-672b-429e-973c-c78c4003d5d8",
   "metadata": {},
   "outputs": [
    {
     "data": {
      "image/png": "[encoded data removed]",
      "text/plain": [
       "<Figure size 400x400 with 1 Axes>"
      ]
     },
     "metadata": {},
     "output_type": "display_data"
    }
   ],
   "source": [
    "view_ase_atoms(fe_atoms, rotation=\"45x,0y,0z\", figsize=(4, 4), title=\"Fe BCC atoms\", scale=40)"
   ]
  },
  {
   "cell_type": "markdown",
   "id": "b3a1be7a-b4e1-43a7-ae0d-ca3449f8f7a8",
   "metadata": {},
   "source": [
    "As shown above, in the BCC and FCC structures, the primitive cell, which is a unit cell containing only one atom, is not cubic, but it can be made cubic by taking an extended unit cell. \n",
    "Atoms with a cubic lattice can be generated by setting the `cubic=True` argument.\n",
    "The difference between these primitive cells and unit cells with cubic cells can be found in the following references.\n",
    "\n",
    " - https://www2.latech.edu/~pderosa/SS_2010/Supporting%20Documents/4p70chap1lect2b.pdf"
   ]
  },
  {
   "cell_type": "code",
   "execution_count": 13,
   "id": "7accef83-8291-40fc-bc78-ac4c9314f7d8",
   "metadata": {},
   "outputs": [
    {
     "data": {
      "text/plain": [
       "Atoms(symbols='Fe2', pbc=True, cell=[2.87, 2.87, 2.87], initial_magmoms=...)"
      ]
     },
     "execution_count": 13,
     "metadata": {},
     "output_type": "execute_result"
    }
   ],
   "source": [
    "fe_cubic_atoms = bulk(\"Fe\", cubic=True)\n",
    "fe_cubic_atoms"
   ]
  },
  {
   "cell_type": "code",
   "execution_count": 14,
   "id": "cb0d7415-194d-468a-96c5-c32f182b5137",
   "metadata": {},
   "outputs": [
    {
     "data": {
      "text/html": [
       "<html>\n",
       "    <head>\n",
       "        <title>ASE atomic visualization</title>\n",
       "        <link rel=\"stylesheet\" type=\"text/css\"             href=\"https://www.x3dom.org/release/x3dom.css\"></link>\n",
       "        <script type=\"text/javascript\"             src=\"https://www.x3dom.org/release/x3dom.js\"></script>\n",
       "    </head>\n",
       "    <body>\n",
       "        <X3D width=\"400px\"; height=\"300px\";>\n",
       "\n",
       "<!--Inserting Generated X3D Scene-->\n",
       "<scene>\n",
       "  <viewpoint position=\"0 0 5.74\">\n",
       "    <group/>\n",
       "  </viewpoint>\n",
       "  <transform translation=\"-1.435 -1.435 -1.435\">\n",
       "    <group>\n",
       "      <group>\n",
       "        <transform translation=\"0 0 0\">\n",
       "          <shape>\n",
       "            <appearance>\n",
       "              <material diffuseColor=\"0 0 0\"/>\n",
       "            </appearance>\n",
       "            <lineset vertexCount=\"5\">\n",
       "              <coordinate point=\"0 0 0 2.87 0.0 0.0 2.87 2.87 0.0 0.0 2.87 0.0 0 0 0\"/>\n",
       "            </lineset>\n",
       "          </shape>\n",
       "        </transform>\n",
       "        <transform translation=\"0.0 0.0 2.87\">\n",
       "          <shape>\n",
       "            <appearance>\n",
       "              <material diffuseColor=\"0 0 0\"/>\n",
       "            </appearance>\n",
       "            <lineset vertexCount=\"5\">\n",
       "              <coordinate point=\"0 0 0 2.87 0.0 0.0 2.87 2.87 0.0 0.0 2.87 0.0 0 0 0\"/>\n",
       "            </lineset>\n",
       "          </shape>\n",
       "        </transform>\n",
       "        <transform translation=\"0 0 0\">\n",
       "          <shape>\n",
       "            <appearance>\n",
       "              <material diffuseColor=\"0 0 0\"/>\n",
       "            </appearance>\n",
       "            <lineset vertexCount=\"5\">\n",
       "              <coordinate point=\"0 0 0 2.87 0.0 0.0 2.87 0.0 2.87 0.0 0.0 2.87 0 0 0\"/>\n",
       "            </lineset>\n",
       "          </shape>\n",
       "        </transform>\n",
       "        <transform translation=\"0.0 2.87 0.0\">\n",
       "          <shape>\n",
       "            <appearance>\n",
       "              <material diffuseColor=\"0 0 0\"/>\n",
       "            </appearance>\n",
       "            <lineset vertexCount=\"5\">\n",
       "              <coordinate point=\"0 0 0 2.87 0.0 0.0 2.87 0.0 2.87 0.0 0.0 2.87 0 0 0\"/>\n",
       "            </lineset>\n",
       "          </shape>\n",
       "        </transform>\n",
       "      </group>\n",
       "      <group>\n",
       "        <transform translation=\"0.0 0.0 0.0\">\n",
       "          <shape>\n",
       "            <appearance>\n",
       "              <material diffuseColor=\"0.878 0.4 0.2\"/>\n",
       "            </appearance>\n",
       "            <sphere radius=\"1.32\"/>\n",
       "          </shape>\n",
       "        </transform>\n",
       "        <transform translation=\"1.435 1.435 1.435\">\n",
       "          <shape>\n",
       "            <appearance>\n",
       "              <material diffuseColor=\"0.878 0.4 0.2\"/>\n",
       "            </appearance>\n",
       "            <sphere radius=\"1.32\"/>\n",
       "          </shape>\n",
       "        </transform>\n",
       "      </group>\n",
       "    </group>\n",
       "  </transform>\n",
       "</scene>\n",
       "<!--End of Inserted Scene-->\n",
       "\n",
       "        </X3D>\n",
       "    </body>\n",
       "</html>\n",
       "\n"
      ],
      "text/plain": [
       "<IPython.core.display.HTML object>"
      ]
     },
     "execution_count": 14,
     "metadata": {},
     "output_type": "execute_result"
    }
   ],
   "source": [
    "view_x3d(fe_cubic_atoms)"
   ]
  },
  {
   "cell_type": "code",
   "execution_count": 15,
   "id": "bfd6a82a-8a67-46cb-b284-cd234f023dea",
   "metadata": {},
   "outputs": [
    {
     "data": {
      "image/png": "[encoded data removed]",
      "text/plain": [
       "<Figure size 400x400 with 1 Axes>"
      ]
     },
     "metadata": {},
     "output_type": "display_data"
    }
   ],
   "source": [
    "view_ase_atoms(fe_cubic_atoms, rotation=\"10x,30y,0z\", figsize=(4, 4), title=\"Fe BCC atoms (cubic)\", scale=40)"
   ]
  },
  {
   "cell_type": "markdown",
   "id": "3fb06330-5c58-43b8-8e6d-35351fadfd0c",
   "metadata": {},
   "source": [
    "**repeat method**\n",
    "\n",
    "A structure with periodic boundary conditions can be made into a super cell by using the `repeat` method to repeat the unit cell structure.\n",
    "\n",
    "In the following example, the atomic structure of a cell is created with the size of 2x in the a-axis direction, 3x in the b-axis direction, and 4x in the c-axis direction."
   ]
  },
  {
   "cell_type": "code",
   "execution_count": 16,
   "id": "7ee58017-5a2a-4886-b706-156531f521e3",
   "metadata": {},
   "outputs": [
    {
     "data": {
      "text/html": [
       "<html>\n",
       "    <head>\n",
       "        <title>ASE atomic visualization</title>\n",
       "        <link rel=\"stylesheet\" type=\"text/css\"             href=\"https://www.x3dom.org/release/x3dom.css\"></link>\n",
       "        <script type=\"text/javascript\"             src=\"https://www.x3dom.org/release/x3dom.js\"></script>\n",
       "    </head>\n",
       "    <body>\n",
       "        <X3D width=\"400px\"; height=\"300px\";>\n",
       "\n",
       "<!--Inserting Generated X3D Scene-->\n",
       "<scene>\n",
       "  <viewpoint position=\"0 0 20.090000000000003\">\n",
       "    <group/>\n",
       "  </viewpoint>\n",
       "  <transform translation=\"1.435 2.1525 2.87\">\n",
       "    <group>\n",
       "      <group>\n",
       "        <transform translation=\"0 0 0\">\n",
       "          <shape>\n",
       "            <appearance>\n",
       "              <material diffuseColor=\"0 0 0\"/>\n",
       "            </appearance>\n",
       "            <lineset vertexCount=\"5\">\n",
       "              <coordinate point=\"0 0 0 -2.87 2.87 2.87 1.4349999999999996 -1.4349999999999996 7.175 4.305 -4.305 4.305 0 0 0\"/>\n",
       "            </lineset>\n",
       "          </shape>\n",
       "        </transform>\n",
       "        <transform translation=\"5.74 5.74 -5.74\">\n",
       "          <shape>\n",
       "            <appearance>\n",
       "              <material diffuseColor=\"0 0 0\"/>\n",
       "            </appearance>\n",
       "            <lineset vertexCount=\"5\">\n",
       "              <coordinate point=\"0 0 0 -2.87 2.87 2.87 1.4349999999999996 -1.4349999999999996 7.175 4.305 -4.305 4.305 0 0 0\"/>\n",
       "            </lineset>\n",
       "          </shape>\n",
       "        </transform>\n",
       "        <transform translation=\"0 0 0\">\n",
       "          <shape>\n",
       "            <appearance>\n",
       "              <material diffuseColor=\"0 0 0\"/>\n",
       "            </appearance>\n",
       "            <lineset vertexCount=\"5\">\n",
       "              <coordinate point=\"0 0 0 -2.87 2.87 2.87 2.87 8.61 -2.87 5.74 5.74 -5.74 0 0 0\"/>\n",
       "            </lineset>\n",
       "          </shape>\n",
       "        </transform>\n",
       "        <transform translation=\"4.305 -4.305 4.305\">\n",
       "          <shape>\n",
       "            <appearance>\n",
       "              <material diffuseColor=\"0 0 0\"/>\n",
       "            </appearance>\n",
       "            <lineset vertexCount=\"5\">\n",
       "              <coordinate point=\"0 0 0 -2.87 2.87 2.87 2.87 8.61 -2.87 5.74 5.74 -5.74 0 0 0\"/>\n",
       "            </lineset>\n",
       "          </shape>\n",
       "        </transform>\n",
       "      </group>\n",
       "      <group>\n",
       "        <transform translation=\"0.0 0.0 0.0\">\n",
       "          <shape>\n",
       "            <appearance>\n",
       "              <material diffuseColor=\"0.878 0.4 0.2\"/>\n",
       "            </appearance>\n",
       "            <sphere radius=\"1.32\"/>\n",
       "          </shape>\n",
       "        </transform>\n",
       "        <transform translation=\"1.435 1.435 -1.435\">\n",
       "          <shape>\n",
       "            <appearance>\n",
       "              <material diffuseColor=\"0.878 0.4 0.2\"/>\n",
       "            </appearance>\n",
       "            <sphere radius=\"1.32\"/>\n",
       "          </shape>\n",
       "        </transform>\n",
       "        <transform translation=\"2.87 2.87 -2.87\">\n",
       "          <shape>\n",
       "            <appearance>\n",
       "              <material diffuseColor=\"0.878 0.4 0.2\"/>\n",
       "            </appearance>\n",
       "            <sphere radius=\"1.32\"/>\n",
       "          </shape>\n",
       "        </transform>\n",
       "        <transform translation=\"4.305 4.305 -4.305\">\n",
       "          <shape>\n",
       "            <appearance>\n",
       "              <material diffuseColor=\"0.878 0.4 0.2\"/>\n",
       "            </appearance>\n",
       "            <sphere radius=\"1.32\"/>\n",
       "          </shape>\n",
       "        </transform>\n",
       "        <transform translation=\"1.435 -1.435 1.435\">\n",
       "          <shape>\n",
       "            <appearance>\n",
       "              <material diffuseColor=\"0.878 0.4 0.2\"/>\n",
       "            </appearance>\n",
       "            <sphere radius=\"1.32\"/>\n",
       "          </shape>\n",
       "        </transform>\n",
       "        <transform translation=\"2.87 0.0 0.0\">\n",
       "          <shape>\n",
       "            <appearance>\n",
       "              <material diffuseColor=\"0.878 0.4 0.2\"/>\n",
       "            </appearance>\n",
       "            <sphere radius=\"1.32\"/>\n",
       "          </shape>\n",
       "        </transform>\n",
       "        <transform translation=\"4.305 1.435 -1.435\">\n",
       "          <shape>\n",
       "            <appearance>\n",
       "              <material diffuseColor=\"0.878 0.4 0.2\"/>\n",
       "            </appearance>\n",
       "            <sphere radius=\"1.32\"/>\n",
       "          </shape>\n",
       "        </transform>\n",
       "        <transform translation=\"5.74 2.87 -2.87\">\n",
       "          <shape>\n",
       "            <appearance>\n",
       "              <material diffuseColor=\"0.878 0.4 0.2\"/>\n",
       "            </appearance>\n",
       "            <sphere radius=\"1.32\"/>\n",
       "          </shape>\n",
       "        </transform>\n",
       "        <transform translation=\"2.87 -2.87 2.87\">\n",
       "          <shape>\n",
       "            <appearance>\n",
       "              <material diffuseColor=\"0.878 0.4 0.2\"/>\n",
       "            </appearance>\n",
       "            <sphere radius=\"1.32\"/>\n",
       "          </shape>\n",
       "        </transform>\n",
       "        <transform translation=\"4.305 -1.435 1.435\">\n",
       "          <shape>\n",
       "            <appearance>\n",
       "              <material diffuseColor=\"0.878 0.4 0.2\"/>\n",
       "            </appearance>\n",
       "            <sphere radius=\"1.32\"/>\n",
       "          </shape>\n",
       "        </transform>\n",
       "        <transform translation=\"5.74 0.0 0.0\">\n",
       "          <shape>\n",
       "            <appearance>\n",
       "              <material diffuseColor=\"0.878 0.4 0.2\"/>\n",
       "            </appearance>\n",
       "            <sphere radius=\"1.32\"/>\n",
       "          </shape>\n",
       "        </transform>\n",
       "        <transform translation=\"7.175000000000001 1.435 -1.435\">\n",
       "          <shape>\n",
       "            <appearance>\n",
       "              <material diffuseColor=\"0.878 0.4 0.2\"/>\n",
       "            </appearance>\n",
       "            <sphere radius=\"1.32\"/>\n",
       "          </shape>\n",
       "        </transform>\n",
       "        <transform translation=\"-1.435 1.435 1.435\">\n",
       "          <shape>\n",
       "            <appearance>\n",
       "              <material diffuseColor=\"0.878 0.4 0.2\"/>\n",
       "            </appearance>\n",
       "            <sphere radius=\"1.32\"/>\n",
       "          </shape>\n",
       "        </transform>\n",
       "        <transform translation=\"0.0 2.87 0.0\">\n",
       "          <shape>\n",
       "            <appearance>\n",
       "              <material diffuseColor=\"0.878 0.4 0.2\"/>\n",
       "            </appearance>\n",
       "            <sphere radius=\"1.32\"/>\n",
       "          </shape>\n",
       "        </transform>\n",
       "        <transform translation=\"1.435 4.305 -1.435\">\n",
       "          <shape>\n",
       "            <appearance>\n",
       "              <material diffuseColor=\"0.878 0.4 0.2\"/>\n",
       "            </appearance>\n",
       "            <sphere radius=\"1.32\"/>\n",
       "          </shape>\n",
       "        </transform>\n",
       "        <transform translation=\"2.87 5.74 -2.87\">\n",
       "          <shape>\n",
       "            <appearance>\n",
       "              <material diffuseColor=\"0.878 0.4 0.2\"/>\n",
       "            </appearance>\n",
       "            <sphere radius=\"1.32\"/>\n",
       "          </shape>\n",
       "        </transform>\n",
       "        <transform translation=\"0.0 0.0 2.87\">\n",
       "          <shape>\n",
       "            <appearance>\n",
       "              <material diffuseColor=\"0.878 0.4 0.2\"/>\n",
       "            </appearance>\n",
       "            <sphere radius=\"1.32\"/>\n",
       "          </shape>\n",
       "        </transform>\n",
       "        <transform translation=\"1.435 1.435 1.435\">\n",
       "          <shape>\n",
       "            <appearance>\n",
       "              <material diffuseColor=\"0.878 0.4 0.2\"/>\n",
       "            </appearance>\n",
       "            <sphere radius=\"1.32\"/>\n",
       "          </shape>\n",
       "        </transform>\n",
       "        <transform translation=\"2.87 2.87 0.0\">\n",
       "          <shape>\n",
       "            <appearance>\n",
       "              <material diffuseColor=\"0.878 0.4 0.2\"/>\n",
       "            </appearance>\n",
       "            <sphere radius=\"1.32\"/>\n",
       "          </shape>\n",
       "        </transform>\n",
       "        <transform translation=\"4.305 4.305 -1.435\">\n",
       "          <shape>\n",
       "            <appearance>\n",
       "              <material diffuseColor=\"0.878 0.4 0.2\"/>\n",
       "            </appearance>\n",
       "            <sphere radius=\"1.32\"/>\n",
       "          </shape>\n",
       "        </transform>\n",
       "        <transform translation=\"1.435 -1.435 4.305\">\n",
       "          <shape>\n",
       "            <appearance>\n",
       "              <material diffuseColor=\"0.878 0.4 0.2\"/>\n",
       "            </appearance>\n",
       "            <sphere radius=\"1.32\"/>\n",
       "          </shape>\n",
       "        </transform>\n",
       "        <transform translation=\"2.87 0.0 2.8699999999999997\">\n",
       "          <shape>\n",
       "            <appearance>\n",
       "              <material diffuseColor=\"0.878 0.4 0.2\"/>\n",
       "            </appearance>\n",
       "            <sphere radius=\"1.32\"/>\n",
       "          </shape>\n",
       "        </transform>\n",
       "        <transform translation=\"4.305 1.435 1.4349999999999996\">\n",
       "          <shape>\n",
       "            <appearance>\n",
       "              <material diffuseColor=\"0.878 0.4 0.2\"/>\n",
       "            </appearance>\n",
       "            <sphere radius=\"1.32\"/>\n",
       "          </shape>\n",
       "        </transform>\n",
       "        <transform translation=\"5.74 2.87 -4.440892098500626e-16\">\n",
       "          <shape>\n",
       "            <appearance>\n",
       "              <material diffuseColor=\"0.878 0.4 0.2\"/>\n",
       "            </appearance>\n",
       "            <sphere radius=\"1.32\"/>\n",
       "          </shape>\n",
       "        </transform>\n",
       "      </group>\n",
       "    </group>\n",
       "  </transform>\n",
       "</scene>\n",
       "<!--End of Inserted Scene-->\n",
       "\n",
       "        </X3D>\n",
       "    </body>\n",
       "</html>\n",
       "\n"
      ],
      "text/plain": [
       "<IPython.core.display.HTML object>"
      ]
     },
     "execution_count": 16,
     "metadata": {},
     "output_type": "execute_result"
    }
   ],
   "source": [
    "fe234_atoms = fe_atoms.repeat((2, 3, 4))\n",
    "view_x3d(fe234_atoms)"
   ]
  },
  {
   "cell_type": "markdown",
   "id": "f38448f5-384f-4548-a664-aaeb989d195e",
   "metadata": {},
   "source": [
    "Instead of the `repeat` method, it can be specified by multiplication."
   ]
  },
  {
   "cell_type": "code",
   "execution_count": 17,
   "id": "4c6f6f1a-0ce2-4009-84bd-5264efbec631",
   "metadata": {},
   "outputs": [
    {
     "data": {
      "text/html": [
       "<html>\n",
       "    <head>\n",
       "        <title>ASE atomic visualization</title>\n",
       "        <link rel=\"stylesheet\" type=\"text/css\"             href=\"https://www.x3dom.org/release/x3dom.css\"></link>\n",
       "        <script type=\"text/javascript\"             src=\"https://www.x3dom.org/release/x3dom.js\"></script>\n",
       "    </head>\n",
       "    <body>\n",
       "        <X3D width=\"400px\"; height=\"300px\";>\n",
       "\n",
       "<!--Inserting Generated X3D Scene-->\n",
       "<scene>\n",
       "  <viewpoint position=\"0 0 20.090000000000003\">\n",
       "    <group/>\n",
       "  </viewpoint>\n",
       "  <transform translation=\"1.435 2.1525 2.87\">\n",
       "    <group>\n",
       "      <group>\n",
       "        <transform translation=\"0 0 0\">\n",
       "          <shape>\n",
       "            <appearance>\n",
       "              <material diffuseColor=\"0 0 0\"/>\n",
       "            </appearance>\n",
       "            <lineset vertexCount=\"5\">\n",
       "              <coordinate point=\"0 0 0 -2.87 2.87 2.87 1.4349999999999996 -1.4349999999999996 7.175 4.305 -4.305 4.305 0 0 0\"/>\n",
       "            </lineset>\n",
       "          </shape>\n",
       "        </transform>\n",
       "        <transform translation=\"5.74 5.74 -5.74\">\n",
       "          <shape>\n",
       "            <appearance>\n",
       "              <material diffuseColor=\"0 0 0\"/>\n",
       "            </appearance>\n",
       "            <lineset vertexCount=\"5\">\n",
       "              <coordinate point=\"0 0 0 -2.87 2.87 2.87 1.4349999999999996 -1.4349999999999996 7.175 4.305 -4.305 4.305 0 0 0\"/>\n",
       "            </lineset>\n",
       "          </shape>\n",
       "        </transform>\n",
       "        <transform translation=\"0 0 0\">\n",
       "          <shape>\n",
       "            <appearance>\n",
       "              <material diffuseColor=\"0 0 0\"/>\n",
       "            </appearance>\n",
       "            <lineset vertexCount=\"5\">\n",
       "              <coordinate point=\"0 0 0 -2.87 2.87 2.87 2.87 8.61 -2.87 5.74 5.74 -5.74 0 0 0\"/>\n",
       "            </lineset>\n",
       "          </shape>\n",
       "        </transform>\n",
       "        <transform translation=\"4.305 -4.305 4.305\">\n",
       "          <shape>\n",
       "            <appearance>\n",
       "              <material diffuseColor=\"0 0 0\"/>\n",
       "            </appearance>\n",
       "            <lineset vertexCount=\"5\">\n",
       "              <coordinate point=\"0 0 0 -2.87 2.87 2.87 2.87 8.61 -2.87 5.74 5.74 -5.74 0 0 0\"/>\n",
       "            </lineset>\n",
       "          </shape>\n",
       "        </transform>\n",
       "      </group>\n",
       "      <group>\n",
       "        <transform translation=\"0.0 0.0 0.0\">\n",
       "          <shape>\n",
       "            <appearance>\n",
       "              <material diffuseColor=\"0.878 0.4 0.2\"/>\n",
       "            </appearance>\n",
       "            <sphere radius=\"1.32\"/>\n",
       "          </shape>\n",
       "        </transform>\n",
       "        <transform translation=\"1.435 1.435 -1.435\">\n",
       "          <shape>\n",
       "            <appearance>\n",
       "              <material diffuseColor=\"0.878 0.4 0.2\"/>\n",
       "            </appearance>\n",
       "            <sphere radius=\"1.32\"/>\n",
       "          </shape>\n",
       "        </transform>\n",
       "        <transform translation=\"2.87 2.87 -2.87\">\n",
       "          <shape>\n",
       "            <appearance>\n",
       "              <material diffuseColor=\"0.878 0.4 0.2\"/>\n",
       "            </appearance>\n",
       "            <sphere radius=\"1.32\"/>\n",
       "          </shape>\n",
       "        </transform>\n",
       "        <transform translation=\"4.305 4.305 -4.305\">\n",
       "          <shape>\n",
       "            <appearance>\n",
       "              <material diffuseColor=\"0.878 0.4 0.2\"/>\n",
       "            </appearance>\n",
       "            <sphere radius=\"1.32\"/>\n",
       "          </shape>\n",
       "        </transform>\n",
       "        <transform translation=\"1.435 -1.435 1.435\">\n",
       "          <shape>\n",
       "            <appearance>\n",
       "              <material diffuseColor=\"0.878 0.4 0.2\"/>\n",
       "            </appearance>\n",
       "            <sphere radius=\"1.32\"/>\n",
       "          </shape>\n",
       "        </transform>\n",
       "        <transform translation=\"2.87 0.0 0.0\">\n",
       "          <shape>\n",
       "            <appearance>\n",
       "              <material diffuseColor=\"0.878 0.4 0.2\"/>\n",
       "            </appearance>\n",
       "            <sphere radius=\"1.32\"/>\n",
       "          </shape>\n",
       "        </transform>\n",
       "        <transform translation=\"4.305 1.435 -1.435\">\n",
       "          <shape>\n",
       "            <appearance>\n",
       "              <material diffuseColor=\"0.878 0.4 0.2\"/>\n",
       "            </appearance>\n",
       "            <sphere radius=\"1.32\"/>\n",
       "          </shape>\n",
       "        </transform>\n",
       "        <transform translation=\"5.74 2.87 -2.87\">\n",
       "          <shape>\n",
       "            <appearance>\n",
       "              <material diffuseColor=\"0.878 0.4 0.2\"/>\n",
       "            </appearance>\n",
       "            <sphere radius=\"1.32\"/>\n",
       "          </shape>\n",
       "        </transform>\n",
       "        <transform translation=\"2.87 -2.87 2.87\">\n",
       "          <shape>\n",
       "            <appearance>\n",
       "              <material diffuseColor=\"0.878 0.4 0.2\"/>\n",
       "            </appearance>\n",
       "            <sphere radius=\"1.32\"/>\n",
       "          </shape>\n",
       "        </transform>\n",
       "        <transform translation=\"4.305 -1.435 1.435\">\n",
       "          <shape>\n",
       "            <appearance>\n",
       "              <material diffuseColor=\"0.878 0.4 0.2\"/>\n",
       "            </appearance>\n",
       "            <sphere radius=\"1.32\"/>\n",
       "          </shape>\n",
       "        </transform>\n",
       "        <transform translation=\"5.74 0.0 0.0\">\n",
       "          <shape>\n",
       "            <appearance>\n",
       "              <material diffuseColor=\"0.878 0.4 0.2\"/>\n",
       "            </appearance>\n",
       "            <sphere radius=\"1.32\"/>\n",
       "          </shape>\n",
       "        </transform>\n",
       "        <transform translation=\"7.175000000000001 1.435 -1.435\">\n",
       "          <shape>\n",
       "            <appearance>\n",
       "              <material diffuseColor=\"0.878 0.4 0.2\"/>\n",
       "            </appearance>\n",
       "            <sphere radius=\"1.32\"/>\n",
       "          </shape>\n",
       "        </transform>\n",
       "        <transform translation=\"-1.435 1.435 1.435\">\n",
       "          <shape>\n",
       "            <appearance>\n",
       "              <material diffuseColor=\"0.878 0.4 0.2\"/>\n",
       "            </appearance>\n",
       "            <sphere radius=\"1.32\"/>\n",
       "          </shape>\n",
       "        </transform>\n",
       "        <transform translation=\"0.0 2.87 0.0\">\n",
       "          <shape>\n",
       "            <appearance>\n",
       "              <material diffuseColor=\"0.878 0.4 0.2\"/>\n",
       "            </appearance>\n",
       "            <sphere radius=\"1.32\"/>\n",
       "          </shape>\n",
       "        </transform>\n",
       "        <transform translation=\"1.435 4.305 -1.435\">\n",
       "          <shape>\n",
       "            <appearance>\n",
       "              <material diffuseColor=\"0.878 0.4 0.2\"/>\n",
       "            </appearance>\n",
       "            <sphere radius=\"1.32\"/>\n",
       "          </shape>\n",
       "        </transform>\n",
       "        <transform translation=\"2.87 5.74 -2.87\">\n",
       "          <shape>\n",
       "            <appearance>\n",
       "              <material diffuseColor=\"0.878 0.4 0.2\"/>\n",
       "            </appearance>\n",
       "            <sphere radius=\"1.32\"/>\n",
       "          </shape>\n",
       "        </transform>\n",
       "        <transform translation=\"0.0 0.0 2.87\">\n",
       "          <shape>\n",
       "            <appearance>\n",
       "              <material diffuseColor=\"0.878 0.4 0.2\"/>\n",
       "            </appearance>\n",
       "            <sphere radius=\"1.32\"/>\n",
       "          </shape>\n",
       "        </transform>\n",
       "        <transform translation=\"1.435 1.435 1.435\">\n",
       "          <shape>\n",
       "            <appearance>\n",
       "              <material diffuseColor=\"0.878 0.4 0.2\"/>\n",
       "            </appearance>\n",
       "            <sphere radius=\"1.32\"/>\n",
       "          </shape>\n",
       "        </transform>\n",
       "        <transform translation=\"2.87 2.87 0.0\">\n",
       "          <shape>\n",
       "            <appearance>\n",
       "              <material diffuseColor=\"0.878 0.4 0.2\"/>\n",
       "            </appearance>\n",
       "            <sphere radius=\"1.32\"/>\n",
       "          </shape>\n",
       "        </transform>\n",
       "        <transform translation=\"4.305 4.305 -1.435\">\n",
       "          <shape>\n",
       "            <appearance>\n",
       "              <material diffuseColor=\"0.878 0.4 0.2\"/>\n",
       "            </appearance>\n",
       "            <sphere radius=\"1.32\"/>\n",
       "          </shape>\n",
       "        </transform>\n",
       "        <transform translation=\"1.435 -1.435 4.305\">\n",
       "          <shape>\n",
       "            <appearance>\n",
       "              <material diffuseColor=\"0.878 0.4 0.2\"/>\n",
       "            </appearance>\n",
       "            <sphere radius=\"1.32\"/>\n",
       "          </shape>\n",
       "        </transform>\n",
       "        <transform translation=\"2.87 0.0 2.8699999999999997\">\n",
       "          <shape>\n",
       "            <appearance>\n",
       "              <material diffuseColor=\"0.878 0.4 0.2\"/>\n",
       "            </appearance>\n",
       "            <sphere radius=\"1.32\"/>\n",
       "          </shape>\n",
       "        </transform>\n",
       "        <transform translation=\"4.305 1.435 1.4349999999999996\">\n",
       "          <shape>\n",
       "            <appearance>\n",
       "              <material diffuseColor=\"0.878 0.4 0.2\"/>\n",
       "            </appearance>\n",
       "            <sphere radius=\"1.32\"/>\n",
       "          </shape>\n",
       "        </transform>\n",
       "        <transform translation=\"5.74 2.87 -4.440892098500626e-16\">\n",
       "          <shape>\n",
       "            <appearance>\n",
       "              <material diffuseColor=\"0.878 0.4 0.2\"/>\n",
       "            </appearance>\n",
       "            <sphere radius=\"1.32\"/>\n",
       "          </shape>\n",
       "        </transform>\n",
       "      </group>\n",
       "    </group>\n",
       "  </transform>\n",
       "</scene>\n",
       "<!--End of Inserted Scene-->\n",
       "\n",
       "        </X3D>\n",
       "    </body>\n",
       "</html>\n",
       "\n"
      ],
      "text/plain": [
       "<IPython.core.display.HTML object>"
      ]
     },
     "execution_count": 17,
     "metadata": {},
     "output_type": "execute_result"
    }
   ],
   "source": [
    "fe234_atoms = fe_atoms * (2, 3, 4)\n",
    "view_x3d(fe234_atoms)"
   ]
  },
  {
   "cell_type": "code",
   "execution_count": 18,
   "id": "2f44dc7b-f8e0-4953-9261-db0469066240",
   "metadata": {},
   "outputs": [
    {
     "data": {
      "image/png": "[encoded data removed]",
      "text/plain": [
       "<Figure size 500x500 with 1 Axes>"
      ]
     },
     "metadata": {},
     "output_type": "display_data"
    }
   ],
   "source": [
    "view_ase_atoms(fe234_atoms, rotation=\"45x,0y,0z\", figsize=(5, 5), title=\"Fe BCC atoms (2x3x4)\", scale=30)"
   ]
  },
  {
   "cell_type": "markdown",
   "id": "5f8de221-5017-4f57-8ba8-38eb2ee4a3e5",
   "metadata": {},
   "source": [
    "Considering that the unit cell continues infinitely according to the periodic boundary condition, we can confirm that the Fe structure represented by the primitive cell without specifying cubic and the Fe structure of the unit cell with `cubic=True`  represent the same structure."
   ]
  },
  {
   "cell_type": "markdown",
   "id": "b599f793-aa8b-46cc-88fb-58bd0c658d1a",
   "metadata": {},
   "source": [
    "The `bulk` method can also create structures consisting of two elements."
   ]
  },
  {
   "cell_type": "code",
   "execution_count": 19,
   "id": "7ceaac54-aefb-4606-b34b-c4632107f38a",
   "metadata": {},
   "outputs": [
    {
     "data": {
      "text/html": [
       "<html>\n",
       "    <head>\n",
       "        <title>ASE atomic visualization</title>\n",
       "        <link rel=\"stylesheet\" type=\"text/css\"             href=\"https://www.x3dom.org/release/x3dom.css\"></link>\n",
       "        <script type=\"text/javascript\"             src=\"https://www.x3dom.org/release/x3dom.js\"></script>\n",
       "    </head>\n",
       "    <body>\n",
       "        <X3D width=\"400px\"; height=\"300px\";>\n",
       "\n",
       "<!--Inserting Generated X3D Scene-->\n",
       "<scene>\n",
       "  <viewpoint position=\"0 0 10.0\">\n",
       "    <group/>\n",
       "  </viewpoint>\n",
       "  <transform translation=\"-0.0 -0.0 -0.0\">\n",
       "    <group>\n",
       "      <group>\n",
       "        <transform translation=\"0 0 0\">\n",
       "          <shape>\n",
       "            <appearance>\n",
       "              <material diffuseColor=\"0 0 0\"/>\n",
       "            </appearance>\n",
       "            <lineset vertexCount=\"5\">\n",
       "              <coordinate point=\"0 0 0 0.0 3.0 3.0 3.0 3.0 6.0 3.0 0.0 3.0 0 0 0\"/>\n",
       "            </lineset>\n",
       "          </shape>\n",
       "        </transform>\n",
       "        <transform translation=\"3.0 3.0 0.0\">\n",
       "          <shape>\n",
       "            <appearance>\n",
       "              <material diffuseColor=\"0 0 0\"/>\n",
       "            </appearance>\n",
       "            <lineset vertexCount=\"5\">\n",
       "              <coordinate point=\"0 0 0 0.0 3.0 3.0 3.0 3.0 6.0 3.0 0.0 3.0 0 0 0\"/>\n",
       "            </lineset>\n",
       "          </shape>\n",
       "        </transform>\n",
       "        <transform translation=\"0 0 0\">\n",
       "          <shape>\n",
       "            <appearance>\n",
       "              <material diffuseColor=\"0 0 0\"/>\n",
       "            </appearance>\n",
       "            <lineset vertexCount=\"5\">\n",
       "              <coordinate point=\"0 0 0 0.0 3.0 3.0 3.0 6.0 3.0 3.0 3.0 0.0 0 0 0\"/>\n",
       "            </lineset>\n",
       "          </shape>\n",
       "        </transform>\n",
       "        <transform translation=\"3.0 0.0 3.0\">\n",
       "          <shape>\n",
       "            <appearance>\n",
       "              <material diffuseColor=\"0 0 0\"/>\n",
       "            </appearance>\n",
       "            <lineset vertexCount=\"5\">\n",
       "              <coordinate point=\"0 0 0 0.0 3.0 3.0 3.0 6.0 3.0 3.0 3.0 0.0 0 0 0\"/>\n",
       "            </lineset>\n",
       "          </shape>\n",
       "        </transform>\n",
       "      </group>\n",
       "      <group>\n",
       "        <transform translation=\"0.0 0.0 0.0\">\n",
       "          <shape>\n",
       "            <appearance>\n",
       "              <material diffuseColor=\"0.671 0.361 0.949\"/>\n",
       "            </appearance>\n",
       "            <sphere radius=\"1.66\"/>\n",
       "          </shape>\n",
       "        </transform>\n",
       "        <transform translation=\"1.0 0.0 0.0\">\n",
       "          <shape>\n",
       "            <appearance>\n",
       "              <material diffuseColor=\"0.122 0.941 0.122\"/>\n",
       "            </appearance>\n",
       "            <sphere radius=\"1.02\"/>\n",
       "          </shape>\n",
       "        </transform>\n",
       "        <transform translation=\"1.0 1.0 0.0\">\n",
       "          <shape>\n",
       "            <appearance>\n",
       "              <material diffuseColor=\"0.671 0.361 0.949\"/>\n",
       "            </appearance>\n",
       "            <sphere radius=\"1.66\"/>\n",
       "          </shape>\n",
       "        </transform>\n",
       "        <transform translation=\"2.0 1.0 0.0\">\n",
       "          <shape>\n",
       "            <appearance>\n",
       "              <material diffuseColor=\"0.122 0.941 0.122\"/>\n",
       "            </appearance>\n",
       "            <sphere radius=\"1.02\"/>\n",
       "          </shape>\n",
       "        </transform>\n",
       "        <transform translation=\"2.0 2.0 0.0\">\n",
       "          <shape>\n",
       "            <appearance>\n",
       "              <material diffuseColor=\"0.671 0.361 0.949\"/>\n",
       "            </appearance>\n",
       "            <sphere radius=\"1.66\"/>\n",
       "          </shape>\n",
       "        </transform>\n",
       "        <transform translation=\"3.0 2.0 0.0\">\n",
       "          <shape>\n",
       "            <appearance>\n",
       "              <material diffuseColor=\"0.122 0.941 0.122\"/>\n",
       "            </appearance>\n",
       "            <sphere radius=\"1.02\"/>\n",
       "          </shape>\n",
       "        </transform>\n",
       "        <transform translation=\"1.0 0.0 1.0\">\n",
       "          <shape>\n",
       "            <appearance>\n",
       "              <material diffuseColor=\"0.671 0.361 0.949\"/>\n",
       "            </appearance>\n",
       "            <sphere radius=\"1.66\"/>\n",
       "          </shape>\n",
       "        </transform>\n",
       "        <transform translation=\"2.0 0.0 1.0\">\n",
       "          <shape>\n",
       "            <appearance>\n",
       "              <material diffuseColor=\"0.122 0.941 0.122\"/>\n",
       "            </appearance>\n",
       "            <sphere radius=\"1.02\"/>\n",
       "          </shape>\n",
       "        </transform>\n",
       "        <transform translation=\"2.0 1.0 1.0\">\n",
       "          <shape>\n",
       "            <appearance>\n",
       "              <material diffuseColor=\"0.671 0.361 0.949\"/>\n",
       "            </appearance>\n",
       "            <sphere radius=\"1.66\"/>\n",
       "          </shape>\n",
       "        </transform>\n",
       "        <transform translation=\"3.0 1.0 1.0\">\n",
       "          <shape>\n",
       "            <appearance>\n",
       "              <material diffuseColor=\"0.122 0.941 0.122\"/>\n",
       "            </appearance>\n",
       "            <sphere radius=\"1.02\"/>\n",
       "          </shape>\n",
       "        </transform>\n",
       "        <transform translation=\"3.0 2.0 1.0\">\n",
       "          <shape>\n",
       "            <appearance>\n",
       "              <material diffuseColor=\"0.671 0.361 0.949\"/>\n",
       "            </appearance>\n",
       "            <sphere radius=\"1.66\"/>\n",
       "          </shape>\n",
       "        </transform>\n",
       "        <transform translation=\"4.0 2.0 1.0\">\n",
       "          <shape>\n",
       "            <appearance>\n",
       "              <material diffuseColor=\"0.122 0.941 0.122\"/>\n",
       "            </appearance>\n",
       "            <sphere radius=\"1.02\"/>\n",
       "          </shape>\n",
       "        </transform>\n",
       "        <transform translation=\"2.0 0.0 2.0\">\n",
       "          <shape>\n",
       "            <appearance>\n",
       "              <material diffuseColor=\"0.671 0.361 0.949\"/>\n",
       "            </appearance>\n",
       "            <sphere radius=\"1.66\"/>\n",
       "          </shape>\n",
       "        </transform>\n",
       "        <transform translation=\"3.0 0.0 2.0\">\n",
       "          <shape>\n",
       "            <appearance>\n",
       "              <material diffuseColor=\"0.122 0.941 0.122\"/>\n",
       "            </appearance>\n",
       "            <sphere radius=\"1.02\"/>\n",
       "          </shape>\n",
       "        </transform>\n",
       "        <transform translation=\"3.0 1.0 2.0\">\n",
       "          <shape>\n",
       "            <appearance>\n",
       "              <material diffuseColor=\"0.671 0.361 0.949\"/>\n",
       "            </appearance>\n",
       "            <sphere radius=\"1.66\"/>\n",
       "          </shape>\n",
       "        </transform>\n",
       "        <transform translation=\"4.0 1.0 2.0\">\n",
       "          <shape>\n",
       "            <appearance>\n",
       "              <material diffuseColor=\"0.122 0.941 0.122\"/>\n",
       "            </appearance>\n",
       "            <sphere radius=\"1.02\"/>\n",
       "          </shape>\n",
       "        </transform>\n",
       "        <transform translation=\"4.0 2.0 2.0\">\n",
       "          <shape>\n",
       "            <appearance>\n",
       "              <material diffuseColor=\"0.671 0.361 0.949\"/>\n",
       "            </appearance>\n",
       "            <sphere radius=\"1.66\"/>\n",
       "          </shape>\n",
       "        </transform>\n",
       "        <transform translation=\"5.0 2.0 2.0\">\n",
       "          <shape>\n",
       "            <appearance>\n",
       "              <material diffuseColor=\"0.122 0.941 0.122\"/>\n",
       "            </appearance>\n",
       "            <sphere radius=\"1.02\"/>\n",
       "          </shape>\n",
       "        </transform>\n",
       "        <transform translation=\"0.0 1.0 1.0\">\n",
       "          <shape>\n",
       "            <appearance>\n",
       "              <material diffuseColor=\"0.671 0.361 0.949\"/>\n",
       "            </appearance>\n",
       "            <sphere radius=\"1.66\"/>\n",
       "          </shape>\n",
       "        </transform>\n",
       "        <transform translation=\"1.0 1.0 1.0\">\n",
       "          <shape>\n",
       "            <appearance>\n",
       "              <material diffuseColor=\"0.122 0.941 0.122\"/>\n",
       "            </appearance>\n",
       "            <sphere radius=\"1.02\"/>\n",
       "          </shape>\n",
       "        </transform>\n",
       "        <transform translation=\"1.0 2.0 1.0\">\n",
       "          <shape>\n",
       "            <appearance>\n",
       "              <material diffuseColor=\"0.671 0.361 0.949\"/>\n",
       "            </appearance>\n",
       "            <sphere radius=\"1.66\"/>\n",
       "          </shape>\n",
       "        </transform>\n",
       "        <transform translation=\"2.0 2.0 1.0\">\n",
       "          <shape>\n",
       "            <appearance>\n",
       "              <material diffuseColor=\"0.122 0.941 0.122\"/>\n",
       "            </appearance>\n",
       "            <sphere radius=\"1.02\"/>\n",
       "          </shape>\n",
       "        </transform>\n",
       "        <transform translation=\"2.0 3.0 1.0\">\n",
       "          <shape>\n",
       "            <appearance>\n",
       "              <material diffuseColor=\"0.671 0.361 0.949\"/>\n",
       "            </appearance>\n",
       "            <sphere radius=\"1.66\"/>\n",
       "          </shape>\n",
       "        </transform>\n",
       "        <transform translation=\"3.0 3.0 1.0\">\n",
       "          <shape>\n",
       "            <appearance>\n",
       "              <material diffuseColor=\"0.122 0.941 0.122\"/>\n",
       "            </appearance>\n",
       "            <sphere radius=\"1.02\"/>\n",
       "          </shape>\n",
       "        </transform>\n",
       "        <transform translation=\"1.0 1.0 2.0\">\n",
       "          <shape>\n",
       "            <appearance>\n",
       "              <material diffuseColor=\"0.671 0.361 0.949\"/>\n",
       "            </appearance>\n",
       "            <sphere radius=\"1.66\"/>\n",
       "          </shape>\n",
       "        </transform>\n",
       "        <transform translation=\"2.0 1.0 2.0\">\n",
       "          <shape>\n",
       "            <appearance>\n",
       "              <material diffuseColor=\"0.122 0.941 0.122\"/>\n",
       "            </appearance>\n",
       "            <sphere radius=\"1.02\"/>\n",
       "          </shape>\n",
       "        </transform>\n",
       "        <transform translation=\"2.0 2.0 2.0\">\n",
       "          <shape>\n",
       "            <appearance>\n",
       "              <material diffuseColor=\"0.671 0.361 0.949\"/>\n",
       "            </appearance>\n",
       "            <sphere radius=\"1.66\"/>\n",
       "          </shape>\n",
       "        </transform>\n",
       "        <transform translation=\"3.0 2.0 2.0\">\n",
       "          <shape>\n",
       "            <appearance>\n",
       "              <material diffuseColor=\"0.122 0.941 0.122\"/>\n",
       "            </appearance>\n",
       "            <sphere radius=\"1.02\"/>\n",
       "          </shape>\n",
       "        </transform>\n",
       "        <transform translation=\"3.0 3.0 2.0\">\n",
       "          <shape>\n",
       "            <appearance>\n",
       "              <material diffuseColor=\"0.671 0.361 0.949\"/>\n",
       "            </appearance>\n",
       "            <sphere radius=\"1.66\"/>\n",
       "          </shape>\n",
       "        </transform>\n",
       "        <transform translation=\"4.0 3.0 2.0\">\n",
       "          <shape>\n",
       "            <appearance>\n",
       "              <material diffuseColor=\"0.122 0.941 0.122\"/>\n",
       "            </appearance>\n",
       "            <sphere radius=\"1.02\"/>\n",
       "          </shape>\n",
       "        </transform>\n",
       "        <transform translation=\"2.0 1.0 3.0\">\n",
       "          <shape>\n",
       "            <appearance>\n",
       "              <material diffuseColor=\"0.671 0.361 0.949\"/>\n",
       "            </appearance>\n",
       "            <sphere radius=\"1.66\"/>\n",
       "          </shape>\n",
       "        </transform>\n",
       "        <transform translation=\"3.0 1.0 3.0\">\n",
       "          <shape>\n",
       "            <appearance>\n",
       "              <material diffuseColor=\"0.122 0.941 0.122\"/>\n",
       "            </appearance>\n",
       "            <sphere radius=\"1.02\"/>\n",
       "          </shape>\n",
       "        </transform>\n",
       "        <transform translation=\"3.0 2.0 3.0\">\n",
       "          <shape>\n",
       "            <appearance>\n",
       "              <material diffuseColor=\"0.671 0.361 0.949\"/>\n",
       "            </appearance>\n",
       "            <sphere radius=\"1.66\"/>\n",
       "          </shape>\n",
       "        </transform>\n",
       "        <transform translation=\"4.0 2.0 3.0\">\n",
       "          <shape>\n",
       "            <appearance>\n",
       "              <material diffuseColor=\"0.122 0.941 0.122\"/>\n",
       "            </appearance>\n",
       "            <sphere radius=\"1.02\"/>\n",
       "          </shape>\n",
       "        </transform>\n",
       "        <transform translation=\"4.0 3.0 3.0\">\n",
       "          <shape>\n",
       "            <appearance>\n",
       "              <material diffuseColor=\"0.671 0.361 0.949\"/>\n",
       "            </appearance>\n",
       "            <sphere radius=\"1.66\"/>\n",
       "          </shape>\n",
       "        </transform>\n",
       "        <transform translation=\"5.0 3.0 3.0\">\n",
       "          <shape>\n",
       "            <appearance>\n",
       "              <material diffuseColor=\"0.122 0.941 0.122\"/>\n",
       "            </appearance>\n",
       "            <sphere radius=\"1.02\"/>\n",
       "          </shape>\n",
       "        </transform>\n",
       "        <transform translation=\"0.0 2.0 2.0\">\n",
       "          <shape>\n",
       "            <appearance>\n",
       "              <material diffuseColor=\"0.671 0.361 0.949\"/>\n",
       "            </appearance>\n",
       "            <sphere radius=\"1.66\"/>\n",
       "          </shape>\n",
       "        </transform>\n",
       "        <transform translation=\"1.0 2.0 2.0\">\n",
       "          <shape>\n",
       "            <appearance>\n",
       "              <material diffuseColor=\"0.122 0.941 0.122\"/>\n",
       "            </appearance>\n",
       "            <sphere radius=\"1.02\"/>\n",
       "          </shape>\n",
       "        </transform>\n",
       "        <transform translation=\"1.0 3.0 2.0\">\n",
       "          <shape>\n",
       "            <appearance>\n",
       "              <material diffuseColor=\"0.671 0.361 0.949\"/>\n",
       "            </appearance>\n",
       "            <sphere radius=\"1.66\"/>\n",
       "          </shape>\n",
       "        </transform>\n",
       "        <transform translation=\"2.0 3.0 2.0\">\n",
       "          <shape>\n",
       "            <appearance>\n",
       "              <material diffuseColor=\"0.122 0.941 0.122\"/>\n",
       "            </appearance>\n",
       "            <sphere radius=\"1.02\"/>\n",
       "          </shape>\n",
       "        </transform>\n",
       "        <transform translation=\"2.0 4.0 2.0\">\n",
       "          <shape>\n",
       "            <appearance>\n",
       "              <material diffuseColor=\"0.671 0.361 0.949\"/>\n",
       "            </appearance>\n",
       "            <sphere radius=\"1.66\"/>\n",
       "          </shape>\n",
       "        </transform>\n",
       "        <transform translation=\"3.0 4.0 2.0\">\n",
       "          <shape>\n",
       "            <appearance>\n",
       "              <material diffuseColor=\"0.122 0.941 0.122\"/>\n",
       "            </appearance>\n",
       "            <sphere radius=\"1.02\"/>\n",
       "          </shape>\n",
       "        </transform>\n",
       "        <transform translation=\"1.0 2.0 3.0\">\n",
       "          <shape>\n",
       "            <appearance>\n",
       "              <material diffuseColor=\"0.671 0.361 0.949\"/>\n",
       "            </appearance>\n",
       "            <sphere radius=\"1.66\"/>\n",
       "          </shape>\n",
       "        </transform>\n",
       "        <transform translation=\"2.0 2.0 3.0\">\n",
       "          <shape>\n",
       "            <appearance>\n",
       "              <material diffuseColor=\"0.122 0.941 0.122\"/>\n",
       "            </appearance>\n",
       "            <sphere radius=\"1.02\"/>\n",
       "          </shape>\n",
       "        </transform>\n",
       "        <transform translation=\"2.0 3.0 3.0\">\n",
       "          <shape>\n",
       "            <appearance>\n",
       "              <material diffuseColor=\"0.671 0.361 0.949\"/>\n",
       "            </appearance>\n",
       "            <sphere radius=\"1.66\"/>\n",
       "          </shape>\n",
       "        </transform>\n",
       "        <transform translation=\"3.0 3.0 3.0\">\n",
       "          <shape>\n",
       "            <appearance>\n",
       "              <material diffuseColor=\"0.122 0.941 0.122\"/>\n",
       "            </appearance>\n",
       "            <sphere radius=\"1.02\"/>\n",
       "          </shape>\n",
       "        </transform>\n",
       "        <transform translation=\"3.0 4.0 3.0\">\n",
       "          <shape>\n",
       "            <appearance>\n",
       "              <material diffuseColor=\"0.671 0.361 0.949\"/>\n",
       "            </appearance>\n",
       "            <sphere radius=\"1.66\"/>\n",
       "          </shape>\n",
       "        </transform>\n",
       "        <transform translation=\"4.0 4.0 3.0\">\n",
       "          <shape>\n",
       "            <appearance>\n",
       "              <material diffuseColor=\"0.122 0.941 0.122\"/>\n",
       "            </appearance>\n",
       "            <sphere radius=\"1.02\"/>\n",
       "          </shape>\n",
       "        </transform>\n",
       "        <transform translation=\"2.0 2.0 4.0\">\n",
       "          <shape>\n",
       "            <appearance>\n",
       "              <material diffuseColor=\"0.671 0.361 0.949\"/>\n",
       "            </appearance>\n",
       "            <sphere radius=\"1.66\"/>\n",
       "          </shape>\n",
       "        </transform>\n",
       "        <transform translation=\"3.0 2.0 4.0\">\n",
       "          <shape>\n",
       "            <appearance>\n",
       "              <material diffuseColor=\"0.122 0.941 0.122\"/>\n",
       "            </appearance>\n",
       "            <sphere radius=\"1.02\"/>\n",
       "          </shape>\n",
       "        </transform>\n",
       "        <transform translation=\"3.0 3.0 4.0\">\n",
       "          <shape>\n",
       "            <appearance>\n",
       "              <material diffuseColor=\"0.671 0.361 0.949\"/>\n",
       "            </appearance>\n",
       "            <sphere radius=\"1.66\"/>\n",
       "          </shape>\n",
       "        </transform>\n",
       "        <transform translation=\"4.0 3.0 4.0\">\n",
       "          <shape>\n",
       "            <appearance>\n",
       "              <material diffuseColor=\"0.122 0.941 0.122\"/>\n",
       "            </appearance>\n",
       "            <sphere radius=\"1.02\"/>\n",
       "          </shape>\n",
       "        </transform>\n",
       "        <transform translation=\"4.0 4.0 4.0\">\n",
       "          <shape>\n",
       "            <appearance>\n",
       "              <material diffuseColor=\"0.671 0.361 0.949\"/>\n",
       "            </appearance>\n",
       "            <sphere radius=\"1.66\"/>\n",
       "          </shape>\n",
       "        </transform>\n",
       "        <transform translation=\"5.0 4.0 4.0\">\n",
       "          <shape>\n",
       "            <appearance>\n",
       "              <material diffuseColor=\"0.122 0.941 0.122\"/>\n",
       "            </appearance>\n",
       "            <sphere radius=\"1.02\"/>\n",
       "          </shape>\n",
       "        </transform>\n",
       "      </group>\n",
       "    </group>\n",
       "  </transform>\n",
       "</scene>\n",
       "<!--End of Inserted Scene-->\n",
       "\n",
       "        </X3D>\n",
       "    </body>\n",
       "</html>\n",
       "\n"
      ],
      "text/plain": [
       "<IPython.core.display.HTML object>"
      ]
     },
     "execution_count": 19,
     "metadata": {},
     "output_type": "execute_result"
    }
   ],
   "source": [
    "nacl_atoms = bulk(\"NaCl\", crystalstructure=\"rocksalt\", a=2.0)\n",
    "view_x3d(nacl_atoms * (3, 3, 3))"
   ]
  },
  {
   "cell_type": "code",
   "execution_count": 20,
   "id": "ce6a0807-d0e0-456f-bb98-c69cd99aac31",
   "metadata": {},
   "outputs": [
    {
     "data": {
      "image/png": "[encoded data removed]",
      "text/plain": [
       "<Figure size 300x300 with 1 Axes>"
      ]
     },
     "metadata": {},
     "output_type": "display_data"
    }
   ],
   "source": [
    "view_ase_atoms(nacl_atoms, rotation=\"0x,0y,0z\", figsize=(3, 3), title=\"NaCl atoms\", scale=30)"
   ]
  },
  {
   "cell_type": "markdown",
   "id": "9ddc1b48-a6bb-4dc9-8e8e-bb60bd27dd51",
   "metadata": {},
   "source": [
    "### Slab: Surface structure\n",
    "\n",
    "When we deal with reactions with catalysts, we model the phenomena by looking at how reactants behave with respect to the surface of a metal crystal. <br/>\n",
    "The surface of the crystal can be specified by [Miller index](https://en.wikipedia.org/wiki/Miller_index).\n",
    "\n",
    "ASE can produce a cutout of each surface with a specified Miller index for major crystal structures. \n",
    "Surfaces are created in the z-axis direction. <br/>\n",
    "A structure with such a surface is called a slab structure.\n",
    "When creating a slab structure, the following parameters are specified.\n",
    "\n",
    "- `symbol`: The atom element type.\n",
    "- `size`: Number of atoms in each direction of x, y, and z axes.\n",
    "- `vacuum`: The thickness of the vacuum layer to be created above and below the z-axis."
   ]
  },
  {
   "cell_type": "code",
   "execution_count": 21,
   "id": "1232260f-927e-44f5-9506-5b827bb74ec1",
   "metadata": {},
   "outputs": [],
   "source": [
    "from ase.build import (\n",
    "    fcc100, fcc110, fcc111, fcc211, fcc111_root,\n",
    "    bcc100, bcc110, bcc111, bcc111_root,\n",
    "    hcp0001, hcp10m10, hcp0001_root,\n",
    "    diamond100, diamond111\n",
    ")\n",
    "\n",
    "# fcc: fcc100(), fcc110(), fcc111(), fcc211(), fcc111_root()\n",
    "# bcc: bcc100(), bcc110(), bcc111() * - bcc111_root()\n",
    "# hcp: hcp0001(), hcp10m10(), hcp0001_root()\n",
    "# diamond: diamond100(), diamond111()\n",
    "\n",
    "pt100_atoms = fcc100(\"Pt\", size=(4, 5, 6), vacuum=10.0)"
   ]
  },
  {
   "cell_type": "code",
   "execution_count": 22,
   "id": "d73f0fa6-1b72-4647-ab58-f747bc3301fd",
   "metadata": {},
   "outputs": [
    {
     "data": {
      "image/png": "[encoded data removed]",
      "text/plain": [
       "<Figure size 700x700 with 1 Axes>"
      ]
     },
     "metadata": {},
     "output_type": "display_data"
    }
   ],
   "source": [
    "view_ase_atoms(pt100_atoms, rotation=\"-80x,10y,0z\", figsize=(7.0, 7.0), title=\"Pt[100] atoms\", scale=20)"
   ]
  },
  {
   "cell_type": "code",
   "execution_count": 23,
   "id": "0ebfd2c7-0a22-43f0-b032-32cb9bb0f613",
   "metadata": {},
   "outputs": [
    {
     "data": {
      "text/plain": [
       "\u001b[0;31mSignature:\u001b[0m \u001b[0mfcc100\u001b[0m\u001b[0;34m(\u001b[0m\u001b[0msymbol\u001b[0m\u001b[0;34m,\u001b[0m \u001b[0msize\u001b[0m\u001b[0;34m,\u001b[0m \u001b[0ma\u001b[0m\u001b[0;34m=\u001b[0m\u001b[0;32mNone\u001b[0m\u001b[0;34m,\u001b[0m \u001b[0mvacuum\u001b[0m\u001b[0;34m=\u001b[0m\u001b[0;32mNone\u001b[0m\u001b[0;34m,\u001b[0m \u001b[0morthogonal\u001b[0m\u001b[0;34m=\u001b[0m\u001b[0;32mTrue\u001b[0m\u001b[0;34m,\u001b[0m \u001b[0mperiodic\u001b[0m\u001b[0;34m=\u001b[0m\u001b[0;32mFalse\u001b[0m\u001b[0;34m)\u001b[0m\u001b[0;34m\u001b[0m\u001b[0;34m\u001b[0m\u001b[0m\n",
       "\u001b[0;31mDocstring:\u001b[0m\n",
       "FCC(100) surface.\n",
       "\n",
       "Supported special adsorption sites: 'ontop', 'bridge', 'hollow'.\n",
       "\u001b[0;31mFile:\u001b[0m      ~/.py39/lib/python3.9/site-packages/ase/build/surface.py\n",
       "\u001b[0;31mType:\u001b[0m      function\n"
      ]
     },
     "metadata": {},
     "output_type": "display_data"
    }
   ],
   "source": [
    "fcc100?"
   ]
  },
  {
   "cell_type": "markdown",
   "id": "81fc5d57-1fb4-41cf-ade6-6cdaa76d643e",
   "metadata": {},
   "source": [
    "We usually focus on one side of the surface in the analysis, but even in that case, there will be another surface on the opposite side. \n",
    "The analysis is performed with some thickness (6 layers in this example) to avoid the influence of the opposite surface."
   ]
  },
  {
   "cell_type": "markdown",
   "id": "2070101d-75c3-4593-80aa-1840d61d8d19",
   "metadata": {},
   "source": [
    "### Structure generation from SMILES\n",
    "\n",
    "When dealing with organic molecules, the [SMILES notation](https://en.wikipedia.org/wiki/Simplified_molecular-input_line-entry_system) is often used to represent a particular molecule. <br/>\n",
    "For example, ethylene can be represented by \"C=C\".\n",
    "The following function uses [pubchem](https://pubchem.ncbi.nlm.nih.gov/), a database handles organic molecules, to generate Atoms from SMILES."
   ]
  },
  {
   "cell_type": "code",
   "execution_count": 24,
   "id": "507af555-e076-44fd-973b-ee8e41c10f6e",
   "metadata": {},
   "outputs": [
    {
     "data": {
      "text/html": [
       "<html>\n",
       "    <head>\n",
       "        <title>ASE atomic visualization</title>\n",
       "        <link rel=\"stylesheet\" type=\"text/css\"             href=\"https://www.x3dom.org/release/x3dom.css\"></link>\n",
       "        <script type=\"text/javascript\"             src=\"https://www.x3dom.org/release/x3dom.js\"></script>\n",
       "    </head>\n",
       "    <body>\n",
       "        <X3D width=\"400px\"; height=\"300px\";>\n",
       "\n",
       "<!--Inserting Generated X3D Scene-->\n",
       "<scene>\n",
       "  <viewpoint position=\"0 0 4.8852\">\n",
       "    <group/>\n",
       "  </viewpoint>\n",
       "  <transform translation=\"-0.0 -0.0 -0.0\">\n",
       "    <group>\n",
       "      <group>\n",
       "        <transform translation=\"0 0 0\">\n",
       "          <shape>\n",
       "            <appearance>\n",
       "              <material diffuseColor=\"0 0 0\"/>\n",
       "            </appearance>\n",
       "            <lineset vertexCount=\"5\">\n",
       "              <coordinate point=\"0 0 0 0.0 0.0 0.0 0.0 0.0 0.0 0.0 0.0 0.0 0 0 0\"/>\n",
       "            </lineset>\n",
       "          </shape>\n",
       "        </transform>\n",
       "        <transform translation=\"0.0 0.0 0.0\">\n",
       "          <shape>\n",
       "            <appearance>\n",
       "              <material diffuseColor=\"0 0 0\"/>\n",
       "            </appearance>\n",
       "            <lineset vertexCount=\"5\">\n",
       "              <coordinate point=\"0 0 0 0.0 0.0 0.0 0.0 0.0 0.0 0.0 0.0 0.0 0 0 0\"/>\n",
       "            </lineset>\n",
       "          </shape>\n",
       "        </transform>\n",
       "        <transform translation=\"0 0 0\">\n",
       "          <shape>\n",
       "            <appearance>\n",
       "              <material diffuseColor=\"0 0 0\"/>\n",
       "            </appearance>\n",
       "            <lineset vertexCount=\"5\">\n",
       "              <coordinate point=\"0 0 0 0.0 0.0 0.0 0.0 0.0 0.0 0.0 0.0 0.0 0 0 0\"/>\n",
       "            </lineset>\n",
       "          </shape>\n",
       "        </transform>\n",
       "        <transform translation=\"0.0 0.0 0.0\">\n",
       "          <shape>\n",
       "            <appearance>\n",
       "              <material diffuseColor=\"0 0 0\"/>\n",
       "            </appearance>\n",
       "            <lineset vertexCount=\"5\">\n",
       "              <coordinate point=\"0 0 0 0.0 0.0 0.0 0.0 0.0 0.0 0.0 0.0 0.0 0 0 0\"/>\n",
       "            </lineset>\n",
       "          </shape>\n",
       "        </transform>\n",
       "      </group>\n",
       "      <group>\n",
       "        <transform translation=\"-0.6672 0.0 0.0\">\n",
       "          <shape>\n",
       "            <appearance>\n",
       "              <material diffuseColor=\"0.565 0.565 0.565\"/>\n",
       "            </appearance>\n",
       "            <sphere radius=\"0.76\"/>\n",
       "          </shape>\n",
       "        </transform>\n",
       "        <transform translation=\"0.6672 0.0 0.0\">\n",
       "          <shape>\n",
       "            <appearance>\n",
       "              <material diffuseColor=\"0.565 0.565 0.565\"/>\n",
       "            </appearance>\n",
       "            <sphere radius=\"0.76\"/>\n",
       "          </shape>\n",
       "        </transform>\n",
       "        <transform translation=\"-1.2213 -0.929 0.0708\">\n",
       "          <shape>\n",
       "            <appearance>\n",
       "              <material diffuseColor=\"1.0 1.0 1.0\"/>\n",
       "            </appearance>\n",
       "            <sphere radius=\"0.31\"/>\n",
       "          </shape>\n",
       "        </transform>\n",
       "        <transform translation=\"-1.2212 0.929 -0.0708\">\n",
       "          <shape>\n",
       "            <appearance>\n",
       "              <material diffuseColor=\"1.0 1.0 1.0\"/>\n",
       "            </appearance>\n",
       "            <sphere radius=\"0.31\"/>\n",
       "          </shape>\n",
       "        </transform>\n",
       "        <transform translation=\"1.2213 0.929 -0.0708\">\n",
       "          <shape>\n",
       "            <appearance>\n",
       "              <material diffuseColor=\"1.0 1.0 1.0\"/>\n",
       "            </appearance>\n",
       "            <sphere radius=\"0.31\"/>\n",
       "          </shape>\n",
       "        </transform>\n",
       "        <transform translation=\"1.2213 -0.929 0.0708\">\n",
       "          <shape>\n",
       "            <appearance>\n",
       "              <material diffuseColor=\"1.0 1.0 1.0\"/>\n",
       "            </appearance>\n",
       "            <sphere radius=\"0.31\"/>\n",
       "          </shape>\n",
       "        </transform>\n",
       "      </group>\n",
       "    </group>\n",
       "  </transform>\n",
       "</scene>\n",
       "<!--End of Inserted Scene-->\n",
       "\n",
       "        </X3D>\n",
       "    </body>\n",
       "</html>\n",
       "\n"
      ],
      "text/plain": [
       "<IPython.core.display.HTML object>"
      ]
     },
     "execution_count": 24,
     "metadata": {},
     "output_type": "execute_result"
    }
   ],
   "source": [
    "from ase.data.pubchem import pubchem_atoms_search\n",
    "\n",
    "atoms = pubchem_atoms_search(smiles=\"C=C\")\n",
    "view_x3d(atoms)"
   ]
  },
  {
   "cell_type": "markdown",
   "id": "9c044c5e-4eb8-45eb-bf5a-c4a4f50b16f7",
   "metadata": {},
   "source": [
    "### Read from file\n",
    "\n",
    "ASE supports writing and reading from files describing various atomic structures, such as xyz, cif, VASP POSCAR files, etc. <br/>\n",
    "See the following document for a list of supported files.\n",
    "\n",
    " - https://wiki.fysik.dtu.dk/ase/ase/io/io.html"
   ]
  },
  {
   "cell_type": "code",
   "execution_count": 25,
   "id": "44f4ceef-f341-4a0f-b49c-6ae6de133639",
   "metadata": {},
   "outputs": [
    {
     "name": "stderr",
     "output_type": "stream",
     "text": [
      "/home/jovyan/.py39/lib/python3.9/site-packages/ase/io/extxyz.py:311: UserWarning: Skipping unhashable information adsorbate_info\n",
      "  warnings.warn('Skipping unhashable information '\n"
     ]
    }
   ],
   "source": [
    "from ase.io import read, write\n",
    "\n",
    "# write to file\n",
    "write(\"output/pt100.xyz\", pt100_atoms)"
   ]
  },
  {
   "cell_type": "code",
   "execution_count": 26,
   "id": "ac5a1211-36d4-4c0c-8c5d-fd865896d25f",
   "metadata": {},
   "outputs": [
    {
     "data": {
      "text/plain": [
       "Atoms(symbols='Pt120', pbc=[True, True, False], cell=[11.087434329005065, 13.85929291125633, 29.8], tags=...)"
      ]
     },
     "execution_count": 26,
     "metadata": {},
     "output_type": "execute_result"
    }
   ],
   "source": [
    "# read from file\n",
    "read(\"output/pt100.xyz\")"
   ]
  },
  {
   "cell_type": "markdown",
   "id": "f2710a55-0d9a-4860-80ac-fbffddf423ba",
   "metadata": {},
   "source": [
    "### Use an external database\n",
    "\n",
    "It is also possible to download files and read in structures from large databases such as\n",
    "\n",
    " - Materials Project:\n",
    "   - https://materialsproject.org/\n",
    "   - https://next-gen.materialsproject.org/\n",
    " - PubChem: https://pubchem.ncbi.nlm.nih.gov/\n",
    "\n",
    "Please refer to the examples in the Matlantis product for information on how to use these files."
   ]
  }
 ],
 "metadata": {
  "kernelspec": {
   "display_name": "Python 3.9",
   "language": "python",
   "name": "python39"
  },
  "language_info": {
   "codemirror_mode": {
    "name": "ipython",
    "version": 3
   },
   "file_extension": ".py",
   "mimetype": "text/x-python",
   "name": "python",
   "nbconvert_exporter": "python",
   "pygments_lexer": "ipython3",
   "version": "3.9.16"
  },
  "toc-autonumbering": false,
  "toc-showcode": false,
  "toc-showmarkdowntxt": false,
  "toc-showtags": false,
  "widgets": {
   "application/vnd.jupyter.widget-state+json": {
    "state": {
     "001cb14e30bb46a988f2b6bcd73e3d42": {
      "model_module": "@jupyter-widgets/controls",
      "model_module_version": "1.5.0",
      "model_name": "LinkModel",
      "state": {
       "source": [
        "IPY_MODEL_5d8bb661e11a40679f54e3fae4969c3f",
        "max"
       ],
       "target": [
        "IPY_MODEL_58c6285ae72b4d67a30722b0129dccc8",
        "max_frame"
       ]
      }
     },
     "00dedf1a22674af5bf90e93e3d7132e4": {
      "model_module": "@jupyter-widgets/controls",
      "model_module_version": "1.5.0",
      "model_name": "ButtonStyleModel",
      "state": {}
     },
     "01d766c8847044b0a9bc7e7004d02e81": {
      "model_module": "@jupyter-widgets/base",
      "model_module_version": "1.2.0",
      "model_name": "LayoutModel",
      "state": {}
     },
     "03e6093abfc2414eb7c406decdfb3ee0": {
      "model_module": "@jupyter-widgets/base",
      "model_module_version": "1.2.0",
      "model_name": "LayoutModel",
      "state": {}
     },
     "03f97276c47046ecb16e7d0b1d71a387": {
      "model_module": "@jupyter-widgets/base",
      "model_module_version": "1.2.0",
      "model_name": "LayoutModel",
      "state": {}
     },
     "03fe1970f2204e03af06ed5971846dd8": {
      "model_module": "@jupyter-widgets/controls",
      "model_module_version": "1.5.0",
      "model_name": "LinkModel",
      "state": {
       "source": [
        "IPY_MODEL_3dbd0e6f9f334fbcbe3010e7774f0b34",
        "max"
       ],
       "target": [
        "IPY_MODEL_cc86e245ab3e46adaaac2ec59f48b0c6",
        "max_frame"
       ]
      }
     },
     "0403e21b2047453c88ae7818d29df15a": {
      "model_module": "@jupyter-widgets/controls",
      "model_module_version": "1.5.0",
      "model_name": "HBoxModel",
      "state": {
       "children": [
        "IPY_MODEL_58c6285ae72b4d67a30722b0129dccc8",
        "IPY_MODEL_21897d56ba1140349cc14b79935d299b"
       ],
       "layout": "IPY_MODEL_9b305dcd7c3a416ea9276368eeee2c52"
      }
     },
     "0490c733f6d04c8e992d89013dfaf165": {
      "model_module": "@jupyter-widgets/controls",
      "model_module_version": "1.5.0",
      "model_name": "SliderStyleModel",
      "state": {
       "description_width": ""
      }
     },
     "049458c7b7674c05a94e05e2f87d416e": {
      "model_module": "@jupyter-widgets/controls",
      "model_module_version": "1.5.0",
      "model_name": "CheckboxModel",
      "state": {
       "description": "Show charge",
       "disabled": false,
       "layout": "IPY_MODEL_a8c5b2ea01354417adc430ebea1f6f2c",
       "style": "IPY_MODEL_36aa8e90920345988abe414552664c1a",
       "value": false
      }
     },
     "04d715c8b058490ab10a0849d8d96cbb": {
      "model_module": "@jupyter-widgets/controls",
      "model_module_version": "1.5.0",
      "model_name": "HBoxModel",
      "state": {
       "children": [
        "IPY_MODEL_cc86e245ab3e46adaaac2ec59f48b0c6",
        "IPY_MODEL_0de0d2fb73454ee3a30eae054636af59"
       ],
       "layout": "IPY_MODEL_a6c576e9d805479d9b72539e12ccc711"
      }
     },
     "04dd103fac5d49d983a175e75274f7a6": {
      "model_module": "@jupyter-widgets/controls",
      "model_module_version": "1.5.0",
      "model_name": "DropdownModel",
      "state": {
       "_options_labels": [
        " ",
        "picking",
        "random",
        "uniform",
        "atomindex",
        "residueindex",
        "chainindex",
        "modelindex",
        "sstruc",
        "element",
        "resname",
        "bfactor",
        "hydrophobicity",
        "value",
        "volume",
        "occupancy"
       ],
       "description": "Color scheme",
       "index": 9,
       "layout": "IPY_MODEL_fe3a3c76984b4b5692fe8fb036fb258a",
       "style": "IPY_MODEL_704655cf60144ba1a65a629b60f6dd8c"
      }
     },
     "05036fb0e6be47d780950f5e3cd5aa35": {
      "model_module": "@jupyter-widgets/controls",
      "model_module_version": "1.5.0",
      "model_name": "FloatSliderModel",
      "state": {
       "description": "Force scale",
       "layout": "IPY_MODEL_39f05bc9e3b54602a4680eee4499f588",
       "step": 0.1,
       "style": "IPY_MODEL_b0930ed414ac4dbf9c793411e2f67177",
       "value": 0.5
      }
     },
     "052fba97175b4e218d0d507ed7c73c72": {
      "model_module": "@jupyter-widgets/controls",
      "model_module_version": "1.5.0",
      "model_name": "DescriptionStyleModel",
      "state": {
       "description_width": ""
      }
     },
     "05e1d2ccc6a74a1a9185a7075a6db3d3": {
      "model_module": "@jupyter-widgets/base",
      "model_module_version": "1.2.0",
      "model_name": "LayoutModel",
      "state": {}
     },
     "061858c4ca634ae0a1cf70432e4ba667": {
      "model_module": "nglview-js-widgets",
      "model_module_version": "3.0.1",
      "model_name": "NGLModel",
      "state": {
       "_camera_orientation": [
        8.706508549078459,
        0,
        0,
        0,
        0,
        8.706508549078459,
        0,
        0,
        0,
        0,
        8.706508549078459,
        0,
        0,
        0,
        0,
        1
       ],
       "_camera_str": "orthographic",
       "_gui_theme": null,
       "_ibtn_fullscreen": "IPY_MODEL_50c15c14450f4db4a91b3a9a0018f436",
       "_igui": null,
       "_iplayer": "IPY_MODEL_cb311eacd1f742e3a11f9a76c9b3f8f7",
       "_ngl_color_dict": {},
       "_ngl_coordinate_resource": {},
       "_ngl_full_stage_parameters": {
        "ambientColor": 14540253,
        "ambientIntensity": 0.2,
        "backgroundColor": "white",
        "cameraEyeSep": 0.3,
        "cameraFov": 40,
        "cameraType": "orthographic",
        "clipDist": 0,
        "clipFar": 100,
        "clipNear": 0,
        "fogFar": 100,
        "fogNear": 50,
        "hoverTimeout": 0,
        "impostor": true,
        "lightColor": 14540253,
        "lightIntensity": 1,
        "mousePreset": "default",
        "panSpeed": 1,
        "quality": "medium",
        "rotateSpeed": 2,
        "sampleLevel": 0,
        "tooltip": true,
        "workerDefault": true,
        "zoomSpeed": 1.2
       },
       "_ngl_msg_archive": [
        {
         "args": [
          {
           "binary": false,
           "data": "CRYST1    2.485    2.485    2.485 109.47 109.47 109.47 P 1\nMODEL     1\nATOM      1   Fe MOL     1       0.000   0.000   0.000  1.00  0.00          FE  \nENDMDL\n",
           "type": "blob"
          }
         ],
         "kwargs": {
          "defaultRepresentation": false,
          "ext": "pdb"
         },
         "methodName": "loadFile",
         "reconstruc_color_scheme": false,
         "target": "Stage",
         "type": "call_method"
        },
        {
         "args": [
          "400px",
          "300px"
         ],
         "kwargs": {},
         "methodName": "setSize",
         "reconstruc_color_scheme": false,
         "target": "Widget",
         "type": "call_method"
        },
        {
         "args": [
          "unitcell"
         ],
         "component_index": 0,
         "kwargs": {
          "sele": "all"
         },
         "methodName": "addRepresentation",
         "reconstruc_color_scheme": false,
         "target": "compList",
         "type": "call_method"
        },
        {
         "args": [
          "spacefill"
         ],
         "component_index": 0,
         "kwargs": {
          "sele": "all"
         },
         "methodName": "addRepresentation",
         "reconstruc_color_scheme": false,
         "target": "compList",
         "type": "call_method"
        },
        {
         "args": [],
         "kwargs": {
          "cameraType": "orthographic"
         },
         "methodName": "setParameters",
         "reconstruc_color_scheme": false,
         "target": "Stage",
         "type": "call_method"
        },
        {
         "args": [
          {
           "clipDist": 0
          }
         ],
         "kwargs": {},
         "methodName": "setParameters",
         "reconstruc_color_scheme": false,
         "target": "Widget",
         "type": "call_method"
        },
        {
         "args": [
          "spacefill",
          0
         ],
         "kwargs": {
          "colorScale": "rainbow",
          "colorScheme": "element",
          "radiusScale": 0.5,
          "radiusType": "covalent"
         },
         "methodName": "updateRepresentationsByName",
         "reconstruc_color_scheme": false,
         "target": "Widget",
         "type": "call_method"
        },
        {
         "args": [
          "this._Q = [[-0.5773502691896257, 0.5773502691896257, 0.5773502691896257], [0.40824829046386313, -0.408248290463863, 0.8164965809277263], [0.7071067811865474, 0.7071067811865478, -3.5164189309272113e-16]]\n    var tooltip = document.createElement('div');\n    Object.assign(tooltip.style, {\n      display: 'none',\n      position: 'fixed',\n      zIndex: 10,\n      pointerEvents: 'none',\n      backgroundColor: 'rgba( 0, 0, 0, 0.6 )',\n      color: 'lightgrey',\n      padding: '8px',\n      fontFamily: 'sans-serif'\n    });\n    document.body.appendChild(tooltip);\n\n    var that = this;\n    this.stage.mouseControls.remove('hoverPick');\n    this.stage.signals.hovered.add(function (pickingProxy) {\n      if (pickingProxy && (pickingProxy.atom || pickingProxy.bond)) {\n        var atom = pickingProxy.atom || pickingProxy.closestBondAtom\n        var mp = pickingProxy.mouse.position\n        //tooltip.innerText = atom.element + ' i=' + atom.index + ' (' + atom.x.toFixed(2) +  ', ' + atom.y.toFixed(2) +  ', ' + atom.z.toFixed(2) + ')'\n        //var pos = that._atoms_pos[atom.index]\n        var Q = that._Q\n        var pos_x = Q[0][0] * atom.x + Q[0][1] * atom.y + Q[0][2] * atom.z \n        var pos_y = Q[1][0] * atom.x + Q[1][1] * atom.y + Q[1][2] * atom.z\n        var pos_z = Q[2][0] * atom.x + Q[2][1] * atom.y + Q[2][2] * atom.z\n        tooltip.innerText = 'i=' + atom.index + ' ' + atom.element + ' (' + pos_x.toFixed(2) +  ', ' + pos_y.toFixed(2) +  ', ' + pos_z.toFixed(2) + ')'\n        tooltip.style.bottom = window.innerHeight - mp.y + 3 + 'px'\n        tooltip.style.left = mp.x + 3 + 'px'\n        tooltip.style.display = 'block'\n      } else {\n        tooltip.style.display = 'none'\n      }\n    });\n    this.stage.tooltip = tooltip;\n    "
         ],
         "kwargs": {},
         "methodName": "executeCode",
         "reconstruc_color_scheme": false,
         "target": "Widget",
         "type": "call_method"
        }
       ],
       "_ngl_original_stage_parameters": {
        "ambientColor": 14540253,
        "ambientIntensity": 0.2,
        "backgroundColor": "white",
        "cameraEyeSep": 0.3,
        "cameraFov": 40,
        "cameraType": "perspective",
        "clipDist": 10,
        "clipFar": 100,
        "clipNear": 0,
        "fogFar": 100,
        "fogNear": 50,
        "hoverTimeout": 0,
        "impostor": true,
        "lightColor": 14540253,
        "lightIntensity": 1,
        "mousePreset": "default",
        "panSpeed": 1,
        "quality": "medium",
        "rotateSpeed": 2,
        "sampleLevel": 0,
        "tooltip": true,
        "workerDefault": true,
        "zoomSpeed": 1.2
       },
       "_ngl_repr_dict": {
        "0": {
         "0": {
          "params": {
           "clipCenter": {
            "x": 0,
            "y": 0,
            "z": 0
           },
           "clipNear": 0,
           "clipRadius": 0,
           "colorMode": "hcl",
           "colorReverse": false,
           "colorScale": "",
           "colorScheme": "element",
           "colorValue": "orange",
           "defaultAssembly": "",
           "depthWrite": true,
           "diffuse": 16777215,
           "diffuseInterior": false,
           "disableImpostor": false,
           "disablePicking": false,
           "flatShaded": false,
           "interiorColor": 2236962,
           "interiorDarkening": 0,
           "lazy": false,
           "matrix": {
            "elements": [
             1,
             0,
             0,
             0,
             0,
             1,
             0,
             0,
             0,
             0,
             1,
             0,
             0,
             0,
             0,
             1
            ]
           },
           "metalness": 0,
           "opacity": 1,
           "quality": "medium",
           "radialSegments": 10,
           "radiusData": {},
           "radiusScale": 1,
           "radiusSize": 0.011390413656173605,
           "radiusType": "vdw",
           "roughness": 0.4,
           "sele": "all",
           "side": "double",
           "sphereDetail": 1,
           "useInteriorColor": true,
           "visible": true,
           "wireframe": false
          },
          "type": "unitcell"
         },
         "1": {
          "params": {
           "assembly": "default",
           "clipCenter": {
            "x": 0,
            "y": 0,
            "z": 0
           },
           "clipNear": 0,
           "clipRadius": 0,
           "colorMode": "hcl",
           "colorReverse": false,
           "colorScale": "rainbow",
           "colorScheme": "element",
           "colorValue": 9474192,
           "defaultAssembly": "",
           "depthWrite": true,
           "diffuse": 16777215,
           "diffuseInterior": false,
           "disableImpostor": false,
           "disablePicking": false,
           "flatShaded": false,
           "interiorColor": 2236962,
           "interiorDarkening": 0,
           "lazy": false,
           "matrix": {
            "elements": [
             1,
             0,
             0,
             0,
             0,
             1,
             0,
             0,
             0,
             0,
             1,
             0,
             0,
             0,
             0,
             1
            ]
           },
           "metalness": 0,
           "opacity": 1,
           "quality": "medium",
           "radiusData": {},
           "radiusScale": 0.5,
           "radiusSize": 1,
           "radiusType": "covalent",
           "roughness": 0.4,
           "sele": "all",
           "side": "double",
           "sphereDetail": 1,
           "useInteriorColor": true,
           "visible": true,
           "wireframe": false
          },
          "type": "spacefill"
         }
        }
       },
       "_ngl_serialize": false,
       "_ngl_version": "2.0.0-dev.36",
       "_ngl_view_id": [
        "2CA516E3-A0C3-4CC3-A418-DBC14453EE6F"
       ],
       "_player_dict": {},
       "_scene_position": {},
       "_scene_rotation": {},
       "_synced_model_ids": [],
       "_synced_repr_model_ids": [],
       "_view_height": "",
       "_view_width": "",
       "background": "white",
       "frame": 0,
       "gui_style": null,
       "layout": "IPY_MODEL_3b4128dbbcea4662838f2d5f44946307",
       "max_frame": 0,
       "n_components": 1,
       "picked": {}
      }
     },
     "062dfe12263049088f2a57329c8af9da": {
      "model_module": "@jupyter-widgets/controls",
      "model_module_version": "1.5.0",
      "model_name": "LinkModel",
      "state": {
       "source": [
        "IPY_MODEL_6e591c88ded940c6b59a4fd3bb6fae03",
        "max"
       ],
       "target": [
        "IPY_MODEL_23977554da934654ad14b7e489cd3c9e",
        "max_frame"
       ]
      }
     },
     "068727219cfb4cc3aa1391b3b378493f": {
      "model_module": "@jupyter-widgets/controls",
      "model_module_version": "1.5.0",
      "model_name": "TextModel",
      "state": {
       "description": "Filename: ",
       "layout": "IPY_MODEL_cd85b0036cda4656a90cc41d2f62712d",
       "style": "IPY_MODEL_b6c467804c244c709a338ba7255bb242",
       "value": "screenshot.png"
      }
     },
     "06f8a873ea0a4bb9b4f97f8a6cdf5547": {
      "model_module": "@jupyter-widgets/controls",
      "model_module_version": "1.5.0",
      "model_name": "ButtonModel",
      "state": {
       "icon": "compress",
       "layout": "IPY_MODEL_ff3925adede3457a82f952dff9e4fb68",
       "style": "IPY_MODEL_7696d5273d0e44d88075d8d1ae1cf596"
      }
     },
     "071cd9c0625a4ba8b8c8efc3ffee0cad": {
      "model_module": "@jupyter-widgets/base",
      "model_module_version": "1.2.0",
      "model_name": "LayoutModel",
      "state": {}
     },
     "075788bdc02e47c2a824085a942b8ca7": {
      "model_module": "@jupyter-widgets/base",
      "model_module_version": "1.2.0",
      "model_name": "LayoutModel",
      "state": {}
     },
     "07798a030ed347ab9cd06c2935b64b4c": {
      "model_module": "@jupyter-widgets/base",
      "model_module_version": "1.2.0",
      "model_name": "LayoutModel",
      "state": {}
     },
     "0785ea76b98b496a87370fa5dd5945f3": {
      "model_module": "@jupyter-widgets/base",
      "model_module_version": "1.2.0",
      "model_name": "LayoutModel",
      "state": {
       "border": "0px solid black"
      }
     },
     "0844435af96e42f682188b9e44dcb25b": {
      "model_module": "@jupyter-widgets/controls",
      "model_module_version": "1.5.0",
      "model_name": "SliderStyleModel",
      "state": {
       "description_width": ""
      }
     },
     "084e58e1fc2f489babfff5dd1f07bc89": {
      "model_module": "@jupyter-widgets/controls",
      "model_module_version": "1.5.0",
      "model_name": "DescriptionStyleModel",
      "state": {
       "description_width": ""
      }
     },
     "09382af4a3e24c8db8505cdca20127f8": {
      "model_module": "@jupyter-widgets/base",
      "model_module_version": "1.2.0",
      "model_name": "LayoutModel",
      "state": {}
     },
     "09a4d44e5ad34ff7b6cc6e5414c494bd": {
      "model_module": "@jupyter-widgets/controls",
      "model_module_version": "1.5.0",
      "model_name": "IntSliderModel",
      "state": {
       "layout": "IPY_MODEL_c7529a78e7034b9d976cca5b1495052f",
       "max": 0,
       "style": "IPY_MODEL_ad3434ef70df4e68a50ed673ff4e762a"
      }
     },
     "09d7a8021e4546c1aa14542373c75082": {
      "model_module": "@jupyter-widgets/controls",
      "model_module_version": "1.5.0",
      "model_name": "SliderStyleModel",
      "state": {
       "description_width": ""
      }
     },
     "0beafb7ae5614bb8abea371edd22ce13": {
      "model_module": "@jupyter-widgets/controls",
      "model_module_version": "1.5.0",
      "model_name": "DropdownModel",
      "state": {
       "_options_labels": [
        " ",
        "picking",
        "random",
        "uniform",
        "atomindex",
        "residueindex",
        "chainindex",
        "modelindex",
        "sstruc",
        "element",
        "resname",
        "bfactor",
        "hydrophobicity",
        "value",
        "volume",
        "occupancy"
       ],
       "description": "Color scheme",
       "index": 9,
       "layout": "IPY_MODEL_45e7c638d8b74c07b24caf7ebdce5970",
       "style": "IPY_MODEL_d455aa1252e24c3ca609cfa619254924"
      }
     },
     "0c0079efc58a41c6812e1ed2a9ce2dd2": {
      "model_module": "@jupyter-widgets/base",
      "model_module_version": "1.2.0",
      "model_name": "LayoutModel",
      "state": {}
     },
     "0c11be358af34c3bbdf769b43dfb4113": {
      "model_module": "@jupyter-widgets/controls",
      "model_module_version": "1.5.0",
      "model_name": "SliderStyleModel",
      "state": {
       "description_width": ""
      }
     },
     "0c36a36e569a48f694d03fc286aee8e6": {
      "model_module": "@jupyter-widgets/controls",
      "model_module_version": "1.5.0",
      "model_name": "ButtonModel",
      "state": {
       "icon": "compress",
       "layout": "IPY_MODEL_4d7e12c8245f4045897714c282b56c63",
       "style": "IPY_MODEL_778e5960ec104ab49be3f65f29695398"
      }
     },
     "0c7e656a49d94530bcc58b5ea7de14bb": {
      "model_module": "@jupyter-widgets/base",
      "model_module_version": "1.2.0",
      "model_name": "LayoutModel",
      "state": {}
     },
     "0cbea951833148f081711d86bb0aa3cf": {
      "model_module": "@jupyter-widgets/controls",
      "model_module_version": "1.5.0",
      "model_name": "DescriptionStyleModel",
      "state": {
       "description_width": ""
      }
     },
     "0cc72f4cb7ab4d969cdfbccadb0c1eec": {
      "model_module": "@jupyter-widgets/controls",
      "model_module_version": "1.5.0",
      "model_name": "ButtonStyleModel",
      "state": {}
     },
     "0dd8888b204a4830890a683ae971e736": {
      "model_module": "@jupyter-widgets/controls",
      "model_module_version": "1.5.0",
      "model_name": "ButtonStyleModel",
      "state": {}
     },
     "0de0d2fb73454ee3a30eae054636af59": {
      "model_module": "@jupyter-widgets/controls",
      "model_module_version": "1.5.0",
      "model_name": "VBoxModel",
      "state": {
       "children": [
        "IPY_MODEL_3b8023bb81574547b1ac896153cb3c41",
        "IPY_MODEL_d4b3e427da2d48b6af36fe56d41d4eb5",
        "IPY_MODEL_ed5e1717fd904654bc42c57b6df0444a",
        "IPY_MODEL_783346dbdb39491cb53473eec778acac",
        "IPY_MODEL_62f9f1e83579491f86b1bcafdcdc1e07",
        "IPY_MODEL_4d4ccf28a05a445e98b628683584d35e",
        "IPY_MODEL_05036fb0e6be47d780950f5e3cd5aa35",
        "IPY_MODEL_99f88e1f97c04ce1a320409575d307c4",
        "IPY_MODEL_99f8af2b1c2844bfa978148deac90883",
        "IPY_MODEL_38d132cebe2e40dc9347b7c42282539d"
       ],
       "layout": "IPY_MODEL_05e1d2ccc6a74a1a9185a7075a6db3d3"
      }
     },
     "0e629f37a2fe4919ae0f6a40ac439d41": {
      "model_module": "@jupyter-widgets/base",
      "model_module_version": "1.2.0",
      "model_name": "LayoutModel",
      "state": {}
     },
     "0e6e58c0c5d14f708d24fbd58eeeec51": {
      "model_module": "@jupyter-widgets/base",
      "model_module_version": "1.2.0",
      "model_name": "LayoutModel",
      "state": {}
     },
     "0ea7648b55dd4aebb07c447a8cc2efb4": {
      "model_module": "@jupyter-widgets/output",
      "model_module_version": "1.0.0",
      "model_name": "OutputModel",
      "state": {
       "layout": "IPY_MODEL_b972f64e0e03464da6156af48e861f64"
      }
     },
     "0eef37d6231f4b99932f89a9aeb7d0ed": {
      "model_module": "@jupyter-widgets/controls",
      "model_module_version": "1.5.0",
      "model_name": "ButtonModel",
      "state": {
       "description": "Download image",
       "layout": "IPY_MODEL_a95377a1027042bd93c779e4ec1ec0e6",
       "style": "IPY_MODEL_d30ea0a660d14abe933cb839111b8a02",
       "tooltip": "Download current frame to your local PC"
      }
     },
     "10ae3e392ff04080b6ccbaf31cf8a464": {
      "model_module": "@jupyter-widgets/controls",
      "model_module_version": "1.5.0",
      "model_name": "HBoxModel",
      "state": {
       "children": [
        "IPY_MODEL_ed6f88aa8c7f4336a5b44c402a27eebb",
        "IPY_MODEL_39cc62f8380d410e932c503327556451"
       ],
       "layout": "IPY_MODEL_282aec8eb20e46adb2ba6234853567b4"
      }
     },
     "10ca12312894431fb319fdc80bf3ae92": {
      "model_module": "@jupyter-widgets/controls",
      "model_module_version": "1.5.0",
      "model_name": "DescriptionStyleModel",
      "state": {
       "description_width": ""
      }
     },
     "1156798fa44f413abf9ee15aadf82275": {
      "model_module": "@jupyter-widgets/controls",
      "model_module_version": "1.5.0",
      "model_name": "CheckboxModel",
      "state": {
       "description": "Show force",
       "disabled": false,
       "layout": "IPY_MODEL_8d6be87b9fa443d4a4f37186b94e35a1",
       "style": "IPY_MODEL_14f03730701045438e7f8921a97cabea",
       "value": false
      }
     },
     "125ad0cf258743e293adda02a260c3bc": {
      "model_module": "@jupyter-widgets/controls",
      "model_module_version": "1.5.0",
      "model_name": "TextModel",
      "state": {
       "description": "Filename: ",
       "layout": "IPY_MODEL_03e6093abfc2414eb7c406decdfb3ee0",
       "style": "IPY_MODEL_fc839f3c565a41f4940ade432fb7fa58",
       "value": "screenshot.png"
      }
     },
     "12668bb6b69949169110e3d8c0aa8b4e": {
      "model_module": "@jupyter-widgets/controls",
      "model_module_version": "1.5.0",
      "model_name": "DescriptionStyleModel",
      "state": {
       "description_width": ""
      }
     },
     "13480e55fee1466a9e459407ce4dd0bd": {
      "model_module": "@jupyter-widgets/controls",
      "model_module_version": "1.5.0",
      "model_name": "ButtonStyleModel",
      "state": {}
     },
     "138d379e9bfe41079e7ade277a886614": {
      "model_module": "@jupyter-widgets/base",
      "model_module_version": "1.2.0",
      "model_name": "LayoutModel",
      "state": {}
     },
     "13fbddd6478d4aab91afb66c0f9ff7f0": {
      "model_module": "@jupyter-widgets/controls",
      "model_module_version": "1.5.0",
      "model_name": "IntSliderModel",
      "state": {
       "layout": "IPY_MODEL_582ea00d5a6f447dbc603cc694686752",
       "max": 0,
       "style": "IPY_MODEL_d8db4eeea5164e16b7d59868883a1f62"
      }
     },
     "14063efac234480cbd3443410b68a55a": {
      "model_module": "@jupyter-widgets/output",
      "model_module_version": "1.0.0",
      "model_name": "OutputModel",
      "state": {
       "layout": "IPY_MODEL_f0d6c515d5224a81bf8fe27d0006cfa7"
      }
     },
     "14b2a522a34945bbabdc7dcf47b6ede7": {
      "model_module": "@jupyter-widgets/controls",
      "model_module_version": "1.5.0",
      "model_name": "ButtonModel",
      "state": {
       "icon": "compress",
       "layout": "IPY_MODEL_6eee12c6f6284d51ab83d0a264b1c0e7",
       "style": "IPY_MODEL_54c666389c794aaeb448dd1edf98a7c9"
      }
     },
     "14f03730701045438e7f8921a97cabea": {
      "model_module": "@jupyter-widgets/controls",
      "model_module_version": "1.5.0",
      "model_name": "DescriptionStyleModel",
      "state": {
       "description_width": ""
      }
     },
     "1503d2c03862452aace50f32e5f08af4": {
      "model_module": "@jupyter-widgets/controls",
      "model_module_version": "1.5.0",
      "model_name": "LinkModel",
      "state": {
       "source": [
        "IPY_MODEL_e23e86d105be431f97911d69ec4a8179",
        "max"
       ],
       "target": [
        "IPY_MODEL_ee80931adf794c02849c7d81c8cc0f8e",
        "max_frame"
       ]
      }
     },
     "15095be2135843179c8b974fb5084c9a": {
      "model_module": "@jupyter-widgets/controls",
      "model_module_version": "1.5.0",
      "model_name": "ButtonStyleModel",
      "state": {}
     },
     "15bf3446e11f4936b15370b798165170": {
      "model_module": "@jupyter-widgets/controls",
      "model_module_version": "1.5.0",
      "model_name": "PlayModel",
      "state": {
       "layout": "IPY_MODEL_8e1c212753ca40099aed667b40170620",
       "max": 0,
       "style": "IPY_MODEL_c005e91c5087449da993a74c427185e9"
      }
     },
     "15d5ba8457794554a74c23abe7c800d0": {
      "model_module": "@jupyter-widgets/base",
      "model_module_version": "1.2.0",
      "model_name": "LayoutModel",
      "state": {}
     },
     "15ee7416bb2244549218b32945ca1954": {
      "model_module": "@jupyter-widgets/base",
      "model_module_version": "1.2.0",
      "model_name": "LayoutModel",
      "state": {}
     },
     "164a6d8956c143709e49e8e1a3fe7742": {
      "model_module": "@jupyter-widgets/controls",
      "model_module_version": "1.5.0",
      "model_name": "DescriptionStyleModel",
      "state": {
       "description_width": ""
      }
     },
     "16ea776b3dd14df28cfa3d808a5626d6": {
      "model_module": "@jupyter-widgets/controls",
      "model_module_version": "1.5.0",
      "model_name": "LinkModel",
      "state": {
       "source": [
        "IPY_MODEL_7551fe67b6a04789a71cd3b2c899197b",
        "max"
       ],
       "target": [
        "IPY_MODEL_961689801f9145459c40509384ec9c53",
        "max_frame"
       ]
      }
     },
     "1723212e7e674d38b45d370716694ffa": {
      "model_module": "@jupyter-widgets/base",
      "model_module_version": "1.2.0",
      "model_name": "LayoutModel",
      "state": {}
     },
     "17cb2a5acf324718893c5bf3ef22efa3": {
      "model_module": "@jupyter-widgets/base",
      "model_module_version": "1.2.0",
      "model_name": "LayoutModel",
      "state": {}
     },
     "181cf63652d34f44b12dfc5b7407f44d": {
      "model_module": "@jupyter-widgets/controls",
      "model_module_version": "1.5.0",
      "model_name": "SliderStyleModel",
      "state": {
       "description_width": ""
      }
     },
     "19510bae48384097bd7e45073e63b0df": {
      "model_module": "@jupyter-widgets/controls",
      "model_module_version": "1.5.0",
      "model_name": "VBoxModel",
      "state": {
       "children": [
        "IPY_MODEL_d1ea0ba3431c4d0c8f481df87f7ffa80",
        "IPY_MODEL_d444c953b086426a8650e25e15146bfc",
        "IPY_MODEL_f92a5462fc1b4d92940f6270a369b810",
        "IPY_MODEL_cb9ff1fa03f34fd1921a03c27b2484a4",
        "IPY_MODEL_10ae3e392ff04080b6ccbaf31cf8a464",
        "IPY_MODEL_941d90c72eed41a792379db1ea257d47",
        "IPY_MODEL_b4251085d31f4d689a50750e842e2aef",
        "IPY_MODEL_a641d6d5d7d945399ccaad6050d5a567",
        "IPY_MODEL_9526683ed57142339a59bf560b26808b",
        "IPY_MODEL_14063efac234480cbd3443410b68a55a"
       ],
       "layout": "IPY_MODEL_1fa37c4de2a74c5a97b69b1462ea3f36"
      }
     },
     "19ec90848e004aada58669986cadf1f3": {
      "model_module": "@jupyter-widgets/base",
      "model_module_version": "1.2.0",
      "model_name": "LayoutModel",
      "state": {}
     },
     "19f1f7ed6ebb4b7399d4c9b3431cb7fb": {
      "model_module": "@jupyter-widgets/controls",
      "model_module_version": "1.5.0",
      "model_name": "HBoxModel",
      "state": {
       "children": [
        "IPY_MODEL_1c9d552ee98146b485d5fa1e8fbc43bd",
        "IPY_MODEL_47aab7c128e64f2f806120aff70d7232"
       ],
       "layout": "IPY_MODEL_c91d10309a454f3ea351275afa94b104"
      }
     },
     "1a0ed3f2b3f943d8a3d157ac44b597f6": {
      "model_module": "@jupyter-widgets/controls",
      "model_module_version": "1.5.0",
      "model_name": "ButtonModel",
      "state": {
       "description": "Download image",
       "layout": "IPY_MODEL_c1428355e1e54994b3f4049ab5adfef3",
       "style": "IPY_MODEL_96707bae58a34a5a9fa4871cec82a92d",
       "tooltip": "Download current frame to your local PC"
      }
     },
     "1aa4f73425c6440ea8c158c107e908fd": {
      "model_module": "@jupyter-widgets/controls",
      "model_module_version": "1.5.0",
      "model_name": "TextModel",
      "state": {
       "description": "Filename: ",
       "layout": "IPY_MODEL_84795dd322e94f02afd1d31a3cdb4a39",
       "style": "IPY_MODEL_47f9a374ed6a43ab95f748300478e1b6",
       "value": "screenshot.png"
      }
     },
     "1ad4879e983f4ae2806cf402287bad5f": {
      "model_module": "@jupyter-widgets/controls",
      "model_module_version": "1.5.0",
      "model_name": "CheckboxModel",
      "state": {
       "description": "Show charge",
       "disabled": false,
       "layout": "IPY_MODEL_6a9e7045722c4f9d9de1b95e47e7759f",
       "style": "IPY_MODEL_a505fecf425d4f7992446ec8e6830937",
       "value": false
      }
     },
     "1b5cf08ac8f346beaf6e9cde58ddc79c": {
      "model_module": "@jupyter-widgets/controls",
      "model_module_version": "1.5.0",
      "model_name": "DropdownModel",
      "state": {
       "_options_labels": [
        " ",
        "picking",
        "random",
        "uniform",
        "atomindex",
        "residueindex",
        "chainindex",
        "modelindex",
        "sstruc",
        "element",
        "resname",
        "bfactor",
        "hydrophobicity",
        "value",
        "volume",
        "occupancy"
       ],
       "description": "Color scheme",
       "index": 9,
       "layout": "IPY_MODEL_dcbd4b0d7f8a4514a5b605801f07d749",
       "style": "IPY_MODEL_b30fa4973e7248f6adca5d92957f27db"
      }
     },
     "1c9d552ee98146b485d5fa1e8fbc43bd": {
      "model_module": "@jupyter-widgets/controls",
      "model_module_version": "1.5.0",
      "model_name": "ButtonModel",
      "state": {
       "description": "Download image",
       "layout": "IPY_MODEL_071cd9c0625a4ba8b8c8efc3ffee0cad",
       "style": "IPY_MODEL_7524d553176d45aeb5075a762ee02393",
       "tooltip": "Download current frame to your local PC"
      }
     },
     "1c9ee52ee1744491978d32ddf839feef": {
      "model_module": "@jupyter-widgets/base",
      "model_module_version": "1.2.0",
      "model_name": "LayoutModel",
      "state": {}
     },
     "1cc8d556b1704f3fa6528bc1b98626d6": {
      "model_module": "@jupyter-widgets/base",
      "model_module_version": "1.2.0",
      "model_name": "LayoutModel",
      "state": {}
     },
     "1deca5dd2c0a46068e3824dc84100d19": {
      "model_module": "@jupyter-widgets/base",
      "model_module_version": "1.2.0",
      "model_name": "LayoutModel",
      "state": {}
     },
     "1eab9bb78d6940b180d6c692395ea947": {
      "model_module": "@jupyter-widgets/base",
      "model_module_version": "1.2.0",
      "model_name": "LayoutModel",
      "state": {}
     },
     "1f9aa5e7ff8e4410857f43139e0cf94b": {
      "model_module": "@jupyter-widgets/controls",
      "model_module_version": "1.5.0",
      "model_name": "ButtonModel",
      "state": {
       "description": "Download image",
       "layout": "IPY_MODEL_138d379e9bfe41079e7ade277a886614",
       "style": "IPY_MODEL_b4ed3b6b5a9a45ca93e4d12068aa916f",
       "tooltip": "Download current frame to your local PC"
      }
     },
     "1fa37c4de2a74c5a97b69b1462ea3f36": {
      "model_module": "@jupyter-widgets/base",
      "model_module_version": "1.2.0",
      "model_name": "LayoutModel",
      "state": {}
     },
     "21897d56ba1140349cc14b79935d299b": {
      "model_module": "@jupyter-widgets/controls",
      "model_module_version": "1.5.0",
      "model_name": "VBoxModel",
      "state": {
       "children": [
        "IPY_MODEL_9a6ac1cb2347443f98d7a79ffb6fdbff",
        "IPY_MODEL_fcdda160b5cd42639143c1c0901eae68",
        "IPY_MODEL_3bea4634cb644bcc932ddaba49430be9",
        "IPY_MODEL_f69f66379e184acf8e263ebed01aa7cd",
        "IPY_MODEL_400d3f42c81f442292998a50423d2a79",
        "IPY_MODEL_ab5292fd20ed482b8a8caa7b97220926",
        "IPY_MODEL_9378b951e5be4483981f579e85a3f286",
        "IPY_MODEL_8859767346654d68a0715d3ad02bd0f4",
        "IPY_MODEL_aa2854577e3b434da55b3f634f3dfb9a",
        "IPY_MODEL_3871e84f3d8b43fe802a21f200b1d18d"
       ],
       "layout": "IPY_MODEL_52efd89974c9466e9e03da7e88072405"
      }
     },
     "218e620a1deb400994ade13f82b3526d": {
      "model_module": "@jupyter-widgets/base",
      "model_module_version": "1.2.0",
      "model_name": "LayoutModel",
      "state": {}
     },
     "21d5b535431c4e8fa4b8a549aabdc22f": {
      "model_module": "@jupyter-widgets/controls",
      "model_module_version": "1.5.0",
      "model_name": "ButtonStyleModel",
      "state": {}
     },
     "21fd4ed20bfe4f13b6eed9f8fb5f40f3": {
      "model_module": "@jupyter-widgets/base",
      "model_module_version": "1.2.0",
      "model_name": "LayoutModel",
      "state": {
       "width": "34px"
      }
     },
     "21fe0c9104a94bbf8ac3a74b9749a2ec": {
      "model_module": "@jupyter-widgets/base",
      "model_module_version": "1.2.0",
      "model_name": "LayoutModel",
      "state": {
       "width": "34px"
      }
     },
     "221ce34b139c48b8a4e1e6c78b2cf9cd": {
      "model_module": "@jupyter-widgets/base",
      "model_module_version": "1.2.0",
      "model_name": "LayoutModel",
      "state": {
       "border": "0px solid black"
      }
     },
     "2340d98ad37c497dabdc8b7434cb1b54": {
      "model_module": "@jupyter-widgets/controls",
      "model_module_version": "1.5.0",
      "model_name": "LinkModel",
      "state": {
       "source": [
        "IPY_MODEL_3d44103f214046f887a56d5c3b1db06b",
        "max"
       ],
       "target": [
        "IPY_MODEL_4dae4b50ebbe4599a6ecbf0a32cd2d32",
        "max_frame"
       ]
      }
     },
     "23977554da934654ad14b7e489cd3c9e": {
      "model_module": "nglview-js-widgets",
      "model_module_version": "3.0.1",
      "model_name": "NGLModel",
      "state": {
       "_camera_orientation": [
        6.614504973493051,
        -0.6304339655280051,
        -3.5580741425003737,
        0,
        0.4140111825312099,
        7.504924807778621,
        -0.5601008865493985,
        0,
        3.5896982225752985,
        0.29609335940366593,
        6.620831520748907,
        0,
        0,
        0,
        0,
        1
       ],
       "_camera_str": "orthographic",
       "_gui_theme": null,
       "_ibtn_fullscreen": "IPY_MODEL_7ccf9a2fcf9648019ed0a7aefcddda6d",
       "_igui": null,
       "_iplayer": "IPY_MODEL_4534621a02d54edba7b802d2b239a430",
       "_ngl_color_dict": {},
       "_ngl_coordinate_resource": {},
       "_ngl_full_stage_parameters": {
        "ambientColor": 14540253,
        "ambientIntensity": 0.2,
        "backgroundColor": "white",
        "cameraEyeSep": 0.3,
        "cameraFov": 40,
        "cameraType": "orthographic",
        "clipDist": 0,
        "clipFar": 100,
        "clipNear": 0,
        "fogFar": 100,
        "fogNear": 50,
        "hoverTimeout": 0,
        "impostor": true,
        "lightColor": 14540253,
        "lightIntensity": 1,
        "mousePreset": "default",
        "panSpeed": 1,
        "quality": "medium",
        "rotateSpeed": 2,
        "sampleLevel": 0,
        "tooltip": true,
        "workerDefault": true,
        "zoomSpeed": 1.2
       },
       "_ngl_msg_archive": [
        {
         "args": [
          {
           "binary": false,
           "data": "CRYST1    2.000    2.000    2.000  90.00  90.00  90.00 P 1\nMODEL     1\nATOM      1   Fe MOL     1       0.000   0.000   0.000  1.00  0.00          FE  \nENDMDL\n",
           "type": "blob"
          }
         ],
         "kwargs": {
          "defaultRepresentation": false,
          "ext": "pdb"
         },
         "methodName": "loadFile",
         "reconstruc_color_scheme": false,
         "target": "Stage",
         "type": "call_method"
        },
        {
         "args": [
          "400px",
          "300px"
         ],
         "kwargs": {},
         "methodName": "setSize",
         "reconstruc_color_scheme": false,
         "target": "Widget",
         "type": "call_method"
        },
        {
         "args": [
          "unitcell"
         ],
         "component_index": 0,
         "kwargs": {
          "sele": "all"
         },
         "methodName": "addRepresentation",
         "reconstruc_color_scheme": false,
         "target": "compList",
         "type": "call_method"
        },
        {
         "args": [
          "spacefill"
         ],
         "component_index": 0,
         "kwargs": {
          "sele": "all"
         },
         "methodName": "addRepresentation",
         "reconstruc_color_scheme": false,
         "target": "compList",
         "type": "call_method"
        },
        {
         "args": [],
         "kwargs": {
          "cameraType": "orthographic"
         },
         "methodName": "setParameters",
         "reconstruc_color_scheme": false,
         "target": "Stage",
         "type": "call_method"
        },
        {
         "args": [
          {
           "clipDist": 0
          }
         ],
         "kwargs": {},
         "methodName": "setParameters",
         "reconstruc_color_scheme": false,
         "target": "Widget",
         "type": "call_method"
        },
        {
         "args": [
          "spacefill",
          0
         ],
         "kwargs": {
          "colorScale": "rainbow",
          "colorScheme": "element",
          "radiusScale": 0.5,
          "radiusType": "covalent"
         },
         "methodName": "updateRepresentationsByName",
         "reconstruc_color_scheme": false,
         "target": "Widget",
         "type": "call_method"
        },
        {
         "args": [
          "this._Q = [[1.0, 0.0, 0.0], [0.0, 1.0, 0.0], [0.0, 0.0, 1.0]]\n    var tooltip = document.createElement('div');\n    Object.assign(tooltip.style, {\n      display: 'none',\n      position: 'fixed',\n      zIndex: 10,\n      pointerEvents: 'none',\n      backgroundColor: 'rgba( 0, 0, 0, 0.6 )',\n      color: 'lightgrey',\n      padding: '8px',\n      fontFamily: 'sans-serif'\n    });\n    document.body.appendChild(tooltip);\n\n    var that = this;\n    this.stage.mouseControls.remove('hoverPick');\n    this.stage.signals.hovered.add(function (pickingProxy) {\n      if (pickingProxy && (pickingProxy.atom || pickingProxy.bond)) {\n        var atom = pickingProxy.atom || pickingProxy.closestBondAtom\n        var mp = pickingProxy.mouse.position\n        //tooltip.innerText = atom.element + ' i=' + atom.index + ' (' + atom.x.toFixed(2) +  ', ' + atom.y.toFixed(2) +  ', ' + atom.z.toFixed(2) + ')'\n        //var pos = that._atoms_pos[atom.index]\n        var Q = that._Q\n        var pos_x = Q[0][0] * atom.x + Q[0][1] * atom.y + Q[0][2] * atom.z \n        var pos_y = Q[1][0] * atom.x + Q[1][1] * atom.y + Q[1][2] * atom.z\n        var pos_z = Q[2][0] * atom.x + Q[2][1] * atom.y + Q[2][2] * atom.z\n        tooltip.innerText = 'i=' + atom.index + ' ' + atom.element + ' (' + pos_x.toFixed(2) +  ', ' + pos_y.toFixed(2) +  ', ' + pos_z.toFixed(2) + ')'\n        tooltip.style.bottom = window.innerHeight - mp.y + 3 + 'px'\n        tooltip.style.left = mp.x + 3 + 'px'\n        tooltip.style.display = 'block'\n      } else {\n        tooltip.style.display = 'none'\n      }\n    });\n    this.stage.tooltip = tooltip;\n    "
         ],
         "kwargs": {},
         "methodName": "executeCode",
         "reconstruc_color_scheme": false,
         "target": "Widget",
         "type": "call_method"
        }
       ],
       "_ngl_original_stage_parameters": {
        "ambientColor": 14540253,
        "ambientIntensity": 0.2,
        "backgroundColor": "white",
        "cameraEyeSep": 0.3,
        "cameraFov": 40,
        "cameraType": "perspective",
        "clipDist": 10,
        "clipFar": 100,
        "clipNear": 0,
        "fogFar": 100,
        "fogNear": 50,
        "hoverTimeout": 0,
        "impostor": true,
        "lightColor": 14540253,
        "lightIntensity": 1,
        "mousePreset": "default",
        "panSpeed": 1,
        "quality": "medium",
        "rotateSpeed": 2,
        "sampleLevel": 0,
        "tooltip": true,
        "workerDefault": true,
        "zoomSpeed": 1.2
       },
       "_ngl_repr_dict": {
        "0": {
         "0": {
          "params": {
           "clipCenter": {
            "x": 0,
            "y": 0,
            "z": 0
           },
           "clipNear": 0,
           "clipRadius": 0,
           "colorMode": "hcl",
           "colorReverse": false,
           "colorScale": "",
           "colorScheme": "element",
           "colorValue": "orange",
           "defaultAssembly": "",
           "depthWrite": true,
           "diffuse": 16777215,
           "diffuseInterior": false,
           "disableImpostor": false,
           "disablePicking": false,
           "flatShaded": false,
           "interiorColor": 2236962,
           "interiorDarkening": 0,
           "lazy": false,
           "matrix": {
            "elements": [
             1,
             0,
             0,
             0,
             0,
             1,
             0,
             0,
             0,
             0,
             1,
             0,
             0,
             0,
             0,
             1
            ]
           },
           "metalness": 0,
           "opacity": 1,
           "quality": "medium",
           "radialSegments": 10,
           "radiusData": {},
           "radiusScale": 1,
           "radiusSize": 0.009999999561038853,
           "radiusType": "vdw",
           "roughness": 0.4,
           "sele": "all",
           "side": "double",
           "sphereDetail": 1,
           "useInteriorColor": true,
           "visible": true,
           "wireframe": false
          },
          "type": "unitcell"
         },
         "1": {
          "params": {
           "assembly": "default",
           "clipCenter": {
            "x": 0,
            "y": 0,
            "z": 0
           },
           "clipNear": 0,
           "clipRadius": 0,
           "colorMode": "hcl",
           "colorReverse": false,
           "colorScale": "rainbow",
           "colorScheme": "element",
           "colorValue": 9474192,
           "defaultAssembly": "",
           "depthWrite": true,
           "diffuse": 16777215,
           "diffuseInterior": false,
           "disableImpostor": false,
           "disablePicking": false,
           "flatShaded": false,
           "interiorColor": 2236962,
           "interiorDarkening": 0,
           "lazy": false,
           "matrix": {
            "elements": [
             1,
             0,
             0,
             0,
             0,
             1,
             0,
             0,
             0,
             0,
             1,
             0,
             0,
             0,
             0,
             1
            ]
           },
           "metalness": 0,
           "opacity": 1,
           "quality": "medium",
           "radiusData": {},
           "radiusScale": 0.5,
           "radiusSize": 1,
           "radiusType": "covalent",
           "roughness": 0.4,
           "sele": "all",
           "side": "double",
           "sphereDetail": 1,
           "useInteriorColor": true,
           "visible": true,
           "wireframe": false
          },
          "type": "spacefill"
         }
        }
       },
       "_ngl_serialize": false,
       "_ngl_version": "2.0.0-dev.36",
       "_ngl_view_id": [
        "0DD62997-FA04-4926-9418-6DAB6D39E497"
       ],
       "_player_dict": {},
       "_scene_position": {},
       "_scene_rotation": {},
       "_synced_model_ids": [],
       "_synced_repr_model_ids": [],
       "_view_height": "",
       "_view_width": "",
       "background": "white",
       "frame": 0,
       "gui_style": null,
       "layout": "IPY_MODEL_2d9dae9ae91b48df913688266fe31a10",
       "max_frame": 0,
       "n_components": 1,
       "picked": {}
      }
     },
     "23b1176653604a519a59a55938dbb3d6": {
      "model_module": "@jupyter-widgets/controls",
      "model_module_version": "1.5.0",
      "model_name": "SliderStyleModel",
      "state": {
       "description_width": ""
      }
     },
     "23b3ce1e3ee447fdae2a6cf347464773": {
      "model_module": "@jupyter-widgets/base",
      "model_module_version": "1.2.0",
      "model_name": "LayoutModel",
      "state": {}
     },
     "23d276a24fde42a8b42533ff62863f04": {
      "model_module": "@jupyter-widgets/controls",
      "model_module_version": "1.5.0",
      "model_name": "HBoxModel",
      "state": {
       "children": [
        "IPY_MODEL_1a0ed3f2b3f943d8a3d157ac44b597f6",
        "IPY_MODEL_8ffba74d68af4e7ea285714d818a615e"
       ],
       "layout": "IPY_MODEL_f48f19fd003b47eaa041ffee8a12cb2c"
      }
     },
     "24a8c605e91f4fe59078e3629dcc8cef": {
      "model_module": "@jupyter-widgets/controls",
      "model_module_version": "1.5.0",
      "model_name": "ButtonStyleModel",
      "state": {}
     },
     "24ebaff85092491584fd55c70972dd81": {
      "model_module": "@jupyter-widgets/controls",
      "model_module_version": "1.5.0",
      "model_name": "DescriptionStyleModel",
      "state": {
       "description_width": ""
      }
     },
     "258d549d1e8d48ae861a815cf69f2a04": {
      "model_module": "@jupyter-widgets/controls",
      "model_module_version": "1.5.0",
      "model_name": "ButtonStyleModel",
      "state": {}
     },
     "261e5c320b0b48eb90cbe1e295cb247a": {
      "model_module": "@jupyter-widgets/base",
      "model_module_version": "1.2.0",
      "model_name": "LayoutModel",
      "state": {}
     },
     "262f61ff3cac4d21a627007cc5e804d1": {
      "model_module": "@jupyter-widgets/controls",
      "model_module_version": "1.5.0",
      "model_name": "HBoxModel",
      "state": {
       "children": [
        "IPY_MODEL_2739154ff2854d14b619a39759a8f8fd",
        "IPY_MODEL_88df65a957124d79ba4ac30080b248a2"
       ],
       "layout": "IPY_MODEL_b1607d18278546648e4180ea85a81e2b"
      }
     },
     "26b9ec1f78744a89b138eba9a1f5efa1": {
      "model_module": "@jupyter-widgets/controls",
      "model_module_version": "1.5.0",
      "model_name": "ButtonStyleModel",
      "state": {}
     },
     "2739154ff2854d14b619a39759a8f8fd": {
      "model_module": "nglview-js-widgets",
      "model_module_version": "3.0.1",
      "model_name": "NGLModel",
      "state": {
       "_camera_orientation": [
        6.472139903336057,
        0,
        0,
        0,
        0,
        6.472139903336057,
        0,
        0,
        0,
        0,
        6.472139903336057,
        0,
        0.1889999508857727,
        0.08449995517730713,
        0,
        1
       ],
       "_camera_str": "orthographic",
       "_gui_theme": null,
       "_ibtn_fullscreen": "IPY_MODEL_a46634faf3364610af9509ae2d064ceb",
       "_igui": null,
       "_iplayer": "IPY_MODEL_5742fcdc2bf54ea5997f51777bb83514",
       "_ngl_color_dict": {},
       "_ngl_coordinate_resource": {},
       "_ngl_full_stage_parameters": {
        "ambientColor": 14540253,
        "ambientIntensity": 0.2,
        "backgroundColor": "white",
        "cameraEyeSep": 0.3,
        "cameraFov": 40,
        "cameraType": "orthographic",
        "clipDist": 0,
        "clipFar": 100,
        "clipNear": 0,
        "fogFar": 100,
        "fogNear": 50,
        "hoverTimeout": 0,
        "impostor": true,
        "lightColor": 14540253,
        "lightIntensity": 1,
        "mousePreset": "default",
        "panSpeed": 1,
        "quality": "medium",
        "rotateSpeed": 2,
        "sampleLevel": 0,
        "tooltip": true,
        "workerDefault": true,
        "zoomSpeed": 1.2
       },
       "_ngl_msg_archive": [
        {
         "args": [
          {
           "binary": false,
           "data": "MODEL     1\nATOM      1    O MOL     1       1.218   0.361   0.000  1.00  0.00           O  \nATOM      2    C MOL     1       0.000   0.464   0.000  1.00  0.00           C  \nATOM      3    H MOL     1      -0.477   1.465   0.000  1.00  0.00           H  \nATOM      4    C MOL     1      -0.948  -0.700   0.000  1.00  0.00           C  \nATOM      5    H MOL     1      -0.386  -1.634   0.000  1.00  0.00           H  \nATOM      6    H MOL     1      -1.596  -0.652   0.881  1.00  0.00           H  \nATOM      7    H MOL     1      -1.596  -0.652  -0.881  1.00  0.00           H  \nENDMDL\n",
           "type": "blob"
          }
         ],
         "kwargs": {
          "defaultRepresentation": false,
          "ext": "pdb"
         },
         "methodName": "loadFile",
         "reconstruc_color_scheme": false,
         "target": "Stage",
         "type": "call_method"
        },
        {
         "args": [
          "400px",
          "300px"
         ],
         "kwargs": {},
         "methodName": "setSize",
         "reconstruc_color_scheme": false,
         "target": "Widget",
         "type": "call_method"
        },
        {
         "args": [
          "unitcell"
         ],
         "component_index": 0,
         "kwargs": {
          "sele": "all"
         },
         "methodName": "addRepresentation",
         "reconstruc_color_scheme": false,
         "target": "compList",
         "type": "call_method"
        },
        {
         "args": [
          "spacefill"
         ],
         "component_index": 0,
         "kwargs": {
          "sele": "all"
         },
         "methodName": "addRepresentation",
         "reconstruc_color_scheme": false,
         "target": "compList",
         "type": "call_method"
        },
        {
         "args": [],
         "kwargs": {
          "cameraType": "orthographic"
         },
         "methodName": "setParameters",
         "reconstruc_color_scheme": false,
         "target": "Stage",
         "type": "call_method"
        },
        {
         "args": [
          {
           "clipDist": 0
          }
         ],
         "kwargs": {},
         "methodName": "setParameters",
         "reconstruc_color_scheme": false,
         "target": "Widget",
         "type": "call_method"
        },
        {
         "args": [
          "spacefill",
          0
         ],
         "kwargs": {
          "colorScale": "rainbow",
          "colorScheme": "element",
          "radiusScale": 0.5,
          "radiusType": "covalent"
         },
         "methodName": "updateRepresentationsByName",
         "reconstruc_color_scheme": false,
         "target": "Widget",
         "type": "call_method"
        },
        {
         "args": [
          "this._Q = [[1.0, 0.0, 0.0], [0.0, 1.0, 0.0], [0.0, 0.0, 1.0]]\n    var tooltip = document.createElement('div');\n    Object.assign(tooltip.style, {\n      display: 'none',\n      position: 'fixed',\n      zIndex: 10,\n      pointerEvents: 'none',\n      backgroundColor: 'rgba( 0, 0, 0, 0.6 )',\n      color: 'lightgrey',\n      padding: '8px',\n      fontFamily: 'sans-serif'\n    });\n    document.body.appendChild(tooltip);\n\n    var that = this;\n    this.stage.mouseControls.remove('hoverPick');\n    this.stage.signals.hovered.add(function (pickingProxy) {\n      if (pickingProxy && (pickingProxy.atom || pickingProxy.bond)) {\n        var atom = pickingProxy.atom || pickingProxy.closestBondAtom\n        var mp = pickingProxy.mouse.position\n        //tooltip.innerText = atom.element + ' i=' + atom.index + ' (' + atom.x.toFixed(2) +  ', ' + atom.y.toFixed(2) +  ', ' + atom.z.toFixed(2) + ')'\n        //var pos = that._atoms_pos[atom.index]\n        var Q = that._Q\n        var pos_x = Q[0][0] * atom.x + Q[0][1] * atom.y + Q[0][2] * atom.z \n        var pos_y = Q[1][0] * atom.x + Q[1][1] * atom.y + Q[1][2] * atom.z\n        var pos_z = Q[2][0] * atom.x + Q[2][1] * atom.y + Q[2][2] * atom.z\n        tooltip.innerText = 'i=' + atom.index + ' ' + atom.element + ' (' + pos_x.toFixed(2) +  ', ' + pos_y.toFixed(2) +  ', ' + pos_z.toFixed(2) + ')'\n        tooltip.style.bottom = window.innerHeight - mp.y + 3 + 'px'\n        tooltip.style.left = mp.x + 3 + 'px'\n        tooltip.style.display = 'block'\n      } else {\n        tooltip.style.display = 'none'\n      }\n    });\n    this.stage.tooltip = tooltip;\n    "
         ],
         "kwargs": {},
         "methodName": "executeCode",
         "reconstruc_color_scheme": false,
         "target": "Widget",
         "type": "call_method"
        },
        {
         "args": [
          "ball+stick"
         ],
         "component_index": 0,
         "kwargs": {
          "sele": "all"
         },
         "methodName": "addRepresentation",
         "reconstruc_color_scheme": false,
         "target": "compList",
         "type": "call_method"
        }
       ],
       "_ngl_original_stage_parameters": {
        "ambientColor": 14540253,
        "ambientIntensity": 0.2,
        "backgroundColor": "white",
        "cameraEyeSep": 0.3,
        "cameraFov": 40,
        "cameraType": "perspective",
        "clipDist": 10,
        "clipFar": 100,
        "clipNear": 0,
        "fogFar": 100,
        "fogNear": 50,
        "hoverTimeout": 0,
        "impostor": true,
        "lightColor": 14540253,
        "lightIntensity": 1,
        "mousePreset": "default",
        "panSpeed": 1,
        "quality": "medium",
        "rotateSpeed": 2,
        "sampleLevel": 0,
        "tooltip": true,
        "workerDefault": true,
        "zoomSpeed": 1.2
       },
       "_ngl_repr_dict": {
        "0": {
         "0": {
          "params": {
           "clipCenter": {
            "x": 0,
            "y": 0,
            "z": 0
           },
           "clipNear": 0,
           "clipRadius": 0,
           "colorMode": "hcl",
           "colorReverse": false,
           "colorScale": "",
           "colorScheme": "element",
           "colorValue": "orange",
           "defaultAssembly": "",
           "depthWrite": true,
           "diffuse": 16777215,
           "diffuseInterior": false,
           "disableImpostor": false,
           "disablePicking": false,
           "flatShaded": false,
           "interiorColor": 2236962,
           "interiorDarkening": 0,
           "lazy": false,
           "matrix": {
            "elements": [
             1,
             0,
             0,
             0,
             0,
             1,
             0,
             0,
             0,
             0,
             1,
             0,
             0,
             0,
             0,
             1
            ]
           },
           "metalness": 0,
           "opacity": 1,
           "quality": "medium",
           "radialSegments": 10,
           "radiusData": {},
           "radiusScale": 1,
           "radiusSize": 0.5,
           "radiusType": "vdw",
           "roughness": 0.4,
           "sele": "all",
           "side": "double",
           "sphereDetail": 1,
           "useInteriorColor": true,
           "visible": true,
           "wireframe": false
          },
          "type": "unitcell"
         },
         "1": {
          "params": {
           "assembly": "default",
           "clipCenter": {
            "x": 0,
            "y": 0,
            "z": 0
           },
           "clipNear": 0,
           "clipRadius": 0,
           "colorMode": "hcl",
           "colorReverse": false,
           "colorScale": "rainbow",
           "colorScheme": "element",
           "colorValue": 9474192,
           "defaultAssembly": "",
           "depthWrite": true,
           "diffuse": 16777215,
           "diffuseInterior": false,
           "disableImpostor": false,
           "disablePicking": false,
           "flatShaded": false,
           "interiorColor": 2236962,
           "interiorDarkening": 0,
           "lazy": false,
           "matrix": {
            "elements": [
             1,
             0,
             0,
             0,
             0,
             1,
             0,
             0,
             0,
             0,
             1,
             0,
             0,
             0,
             0,
             1
            ]
           },
           "metalness": 0,
           "opacity": 1,
           "quality": "medium",
           "radiusData": {},
           "radiusScale": 0.5,
           "radiusSize": 1,
           "radiusType": "covalent",
           "roughness": 0.4,
           "sele": "all",
           "side": "double",
           "sphereDetail": 1,
           "useInteriorColor": true,
           "visible": true,
           "wireframe": false
          },
          "type": "spacefill"
         },
         "2": {
          "params": {
           "aspectRatio": 2,
           "assembly": "default",
           "bondScale": 0.4,
           "bondSpacing": 1,
           "clipCenter": {
            "x": 0,
            "y": 0,
            "z": 0
           },
           "clipNear": 0,
           "clipRadius": 0,
           "colorMode": "hcl",
           "colorReverse": false,
           "colorScale": "",
           "colorScheme": "element",
           "colorValue": 9474192,
           "cylinderOnly": false,
           "defaultAssembly": "",
           "depthWrite": true,
           "diffuse": 16777215,
           "diffuseInterior": false,
           "disableImpostor": false,
           "disablePicking": false,
           "flatShaded": false,
           "interiorColor": 2236962,
           "interiorDarkening": 0,
           "lazy": false,
           "lineOnly": false,
           "linewidth": 2,
           "matrix": {
            "elements": [
             1,
             0,
             0,
             0,
             0,
             1,
             0,
             0,
             0,
             0,
             1,
             0,
             0,
             0,
             0,
             1
            ]
           },
           "metalness": 0,
           "multipleBond": "off",
           "opacity": 1,
           "openEnded": true,
           "quality": "medium",
           "radialSegments": 10,
           "radiusData": {},
           "radiusScale": 1,
           "radiusSize": 0.15,
           "radiusType": "size",
           "roughness": 0.4,
           "sele": "all",
           "side": "double",
           "sphereDetail": 1,
           "useInteriorColor": true,
           "visible": true,
           "wireframe": false
          },
          "type": "ball+stick"
         }
        }
       },
       "_ngl_serialize": false,
       "_ngl_version": "2.0.0-dev.36",
       "_ngl_view_id": [
        "C2756F25-23D3-4CD6-92D2-BB76924A0B24"
       ],
       "_player_dict": {},
       "_scene_position": {},
       "_scene_rotation": {},
       "_synced_model_ids": [],
       "_synced_repr_model_ids": [],
       "_view_height": "",
       "_view_width": "",
       "background": "white",
       "frame": 0,
       "gui_style": null,
       "layout": "IPY_MODEL_7af13cc25d6c4389a00addbf29268649",
       "max_frame": 0,
       "n_components": 1,
       "picked": {}
      }
     },
     "282aec8eb20e46adb2ba6234853567b4": {
      "model_module": "@jupyter-widgets/base",
      "model_module_version": "1.2.0",
      "model_name": "LayoutModel",
      "state": {}
     },
     "297ecea523c942b4a8907029610d2b93": {
      "model_module": "@jupyter-widgets/base",
      "model_module_version": "1.2.0",
      "model_name": "LayoutModel",
      "state": {}
     },
     "2994518d44444e119aa01982f6f8d945": {
      "model_module": "@jupyter-widgets/controls",
      "model_module_version": "1.5.0",
      "model_name": "LinkModel",
      "state": {
       "source": [
        "IPY_MODEL_a297eb5f20c849c28693aa50e181669c",
        "max"
       ],
       "target": [
        "IPY_MODEL_961689801f9145459c40509384ec9c53",
        "max_frame"
       ]
      }
     },
     "2c3c88ce5e514f38808ff09587a9547c": {
      "model_module": "@jupyter-widgets/controls",
      "model_module_version": "1.5.0",
      "model_name": "LinkModel",
      "state": {
       "source": [
        "IPY_MODEL_3dbd0e6f9f334fbcbe3010e7774f0b34",
        "value"
       ],
       "target": [
        "IPY_MODEL_13fbddd6478d4aab91afb66c0f9ff7f0",
        "value"
       ]
      }
     },
     "2d9dae9ae91b48df913688266fe31a10": {
      "model_module": "@jupyter-widgets/base",
      "model_module_version": "1.2.0",
      "model_name": "LayoutModel",
      "state": {}
     },
     "2dae3e0269fe4d268ca044f03016dcd7": {
      "model_module": "@jupyter-widgets/controls",
      "model_module_version": "1.5.0",
      "model_name": "HBoxModel",
      "state": {
       "children": [
        "IPY_MODEL_a297eb5f20c849c28693aa50e181669c",
        "IPY_MODEL_7551fe67b6a04789a71cd3b2c899197b"
       ],
       "layout": "IPY_MODEL_852a735b231d41b29579f4a6cab4278e"
      }
     },
     "2db6fb79b44d40f68f9e4f6bca169406": {
      "model_module": "@jupyter-widgets/controls",
      "model_module_version": "1.5.0",
      "model_name": "HBoxModel",
      "state": {
       "children": [
        "IPY_MODEL_ee80931adf794c02849c7d81c8cc0f8e",
        "IPY_MODEL_19510bae48384097bd7e45073e63b0df"
       ],
       "layout": "IPY_MODEL_65dc78ed4dfb4363ad6952bdbe847b8b"
      }
     },
     "2dcd2f3a82504db3befcf2d3a7b632d8": {
      "model_module": "@jupyter-widgets/controls",
      "model_module_version": "1.5.0",
      "model_name": "ButtonModel",
      "state": {
       "description": "Save image",
       "layout": "IPY_MODEL_b85e145dc21a47bdb9289329261c99fd",
       "style": "IPY_MODEL_f91ce9d81d5d451c94b1f87bdfe42845",
       "tooltip": "Save current frame to file.\nCurrently .png and .html are supported.\nIt takes a bit time, please be patient."
      }
     },
     "2e19699914754134a30a7ec0ed4989ac": {
      "model_module": "@jupyter-widgets/controls",
      "model_module_version": "1.5.0",
      "model_name": "ImageModel",
      "state": {
       "layout": "IPY_MODEL_66f623b585464ce38cf8076f99eaaa23",
       "width": "900.0"
      }
     },
     "2e9062431d7a4d80a3e28f5aef96968e": {
      "model_module": "@jupyter-widgets/controls",
      "model_module_version": "1.5.0",
      "model_name": "CheckboxModel",
      "state": {
       "description": "Show force",
       "disabled": false,
       "layout": "IPY_MODEL_8b77acddfceb4fa6914d164026c41daf",
       "style": "IPY_MODEL_7215c3a782eb488199fe9d8642662089",
       "value": false
      }
     },
     "2f3cd07dbd574ea0b10bfb44a1ed8603": {
      "model_module": "@jupyter-widgets/base",
      "model_module_version": "1.2.0",
      "model_name": "LayoutModel",
      "state": {}
     },
     "2fe843a2b6e9402ea1382ea42c609533": {
      "model_module": "@jupyter-widgets/controls",
      "model_module_version": "1.5.0",
      "model_name": "ImageModel",
      "state": {
       "layout": "IPY_MODEL_8efbc5f41ee34d6280244f3ff39baa66",
       "width": "900.0"
      }
     },
     "31915e6cd06d4b7d91c3feb41970d82d": {
      "model_module": "@jupyter-widgets/controls",
      "model_module_version": "1.5.0",
      "model_name": "LinkModel",
      "state": {
       "source": [
        "IPY_MODEL_6763c802e5b04e3cbb2b8f6388eb4e36",
        "value"
       ],
       "target": [
        "IPY_MODEL_8e844daad3494b18a41d725001c19c99",
        "frame"
       ]
      }
     },
     "320b2033cdca4eeb87edf1e735d39b4b": {
      "model_module": "@jupyter-widgets/base",
      "model_module_version": "1.2.0",
      "model_name": "LayoutModel",
      "state": {}
     },
     "325be4a546334c06a4bdbdd8bd7cffbd": {
      "model_module": "@jupyter-widgets/controls",
      "model_module_version": "1.5.0",
      "model_name": "ButtonModel",
      "state": {
       "description": "Save image",
       "layout": "IPY_MODEL_07798a030ed347ab9cd06c2935b64b4c",
       "style": "IPY_MODEL_21d5b535431c4e8fa4b8a549aabdc22f",
       "tooltip": "Save current frame to file.\nCurrently .png and .html are supported.\nIt takes a bit time, please be patient."
      }
     },
     "327e170ed65340bd8b3d658337d98145": {
      "model_module": "@jupyter-widgets/controls",
      "model_module_version": "1.5.0",
      "model_name": "ButtonModel",
      "state": {
       "description": "Download image",
       "layout": "IPY_MODEL_397ff6a4936943648c2cb4af34c47ab9",
       "style": "IPY_MODEL_0dd8888b204a4830890a683ae971e736",
       "tooltip": "Download current frame to your local PC"
      }
     },
     "32dcef40c6404ea1af5bac282f00c075": {
      "model_module": "@jupyter-widgets/base",
      "model_module_version": "1.2.0",
      "model_name": "LayoutModel",
      "state": {
       "width": "34px"
      }
     },
     "32f748f4fdd549c9a5ac22f35b259f50": {
      "model_module": "@jupyter-widgets/controls",
      "model_module_version": "1.5.0",
      "model_name": "LinkModel",
      "state": {
       "source": [
        "IPY_MODEL_e23e86d105be431f97911d69ec4a8179",
        "value"
       ],
       "target": [
        "IPY_MODEL_ee80931adf794c02849c7d81c8cc0f8e",
        "frame"
       ]
      }
     },
     "339f85daa3484b2b8ba3ef75c815d2ca": {
      "model_module": "@jupyter-widgets/controls",
      "model_module_version": "1.5.0",
      "model_name": "VBoxModel",
      "state": {
       "children": [
        "IPY_MODEL_a404a221568a4e959b15acd7f9311f7c",
        "IPY_MODEL_7a11a626a3f74e6fbfbce9dcc32eded0",
        "IPY_MODEL_b7f59885d3544e12971cc732828d6092",
        "IPY_MODEL_068727219cfb4cc3aa1391b3b378493f",
        "IPY_MODEL_874a919b8cd14a85b50243471e696425",
        "IPY_MODEL_1156798fa44f413abf9ee15aadf82275",
        "IPY_MODEL_d6b23750a0d04e5190623405aacb287e",
        "IPY_MODEL_7f7ffc494bec4ef4894ead119bfde7aa",
        "IPY_MODEL_be72c8cb477345f49dd8cf6f899ee8c2",
        "IPY_MODEL_84782c85501d460b90c7064689b6a319"
       ],
       "layout": "IPY_MODEL_87ed7620045f459695126391a373cf62"
      }
     },
     "34dbcc7b21434ac68640f3c6743ac938": {
      "model_module": "@jupyter-widgets/controls",
      "model_module_version": "1.5.0",
      "model_name": "TextModel",
      "state": {
       "description": "Filename: ",
       "layout": "IPY_MODEL_770486165e6a4321ac653d0b8ac65266",
       "style": "IPY_MODEL_5f163cd2fd2740c2bdf626610a8713d6",
       "value": "screenshot.png"
      }
     },
     "354218d45ad24519b83e320a09a582b5": {
      "model_module": "@jupyter-widgets/controls",
      "model_module_version": "1.5.0",
      "model_name": "DescriptionStyleModel",
      "state": {
       "description_width": ""
      }
     },
     "35ce2308df094e0181387e6acc11a562": {
      "model_module": "@jupyter-widgets/base",
      "model_module_version": "1.2.0",
      "model_name": "LayoutModel",
      "state": {}
     },
     "35dafe600ecd4fa3b34b26937b969606": {
      "model_module": "@jupyter-widgets/base",
      "model_module_version": "1.2.0",
      "model_name": "LayoutModel",
      "state": {}
     },
     "36736701fc334ab4b0818fe9b9a10666": {
      "model_module": "@jupyter-widgets/base",
      "model_module_version": "1.2.0",
      "model_name": "LayoutModel",
      "state": {}
     },
     "3691d21e41a14c3d82972f4e7c06cdc6": {
      "model_module": "@jupyter-widgets/base",
      "model_module_version": "1.2.0",
      "model_name": "LayoutModel",
      "state": {}
     },
     "36aa8e90920345988abe414552664c1a": {
      "model_module": "@jupyter-widgets/controls",
      "model_module_version": "1.5.0",
      "model_name": "DescriptionStyleModel",
      "state": {
       "description_width": ""
      }
     },
     "373c0f77ce2b4ce98d94198c4ead2bfa": {
      "model_module": "@jupyter-widgets/controls",
      "model_module_version": "1.5.0",
      "model_name": "DescriptionStyleModel",
      "state": {
       "description_width": ""
      }
     },
     "37fc613202b3469c9dd5571b70449aea": {
      "model_module": "@jupyter-widgets/base",
      "model_module_version": "1.2.0",
      "model_name": "LayoutModel",
      "state": {}
     },
     "3845a690583d4306a59fc3dac6130225": {
      "model_module": "@jupyter-widgets/controls",
      "model_module_version": "1.5.0",
      "model_name": "SliderStyleModel",
      "state": {
       "description_width": ""
      }
     },
     "3871e84f3d8b43fe802a21f200b1d18d": {
      "model_module": "@jupyter-widgets/output",
      "model_module_version": "1.0.0",
      "model_name": "OutputModel",
      "state": {
       "layout": "IPY_MODEL_8ad586be959147b5a3812f3999796762"
      }
     },
     "38d132cebe2e40dc9347b7c42282539d": {
      "model_module": "@jupyter-widgets/output",
      "model_module_version": "1.0.0",
      "model_name": "OutputModel",
      "state": {
       "layout": "IPY_MODEL_7ebab734066f4873b09d48b5b59fc515"
      }
     },
     "38f309c77cce4a9fb92b3387e8007c4f": {
      "model_module": "@jupyter-widgets/base",
      "model_module_version": "1.2.0",
      "model_name": "LayoutModel",
      "state": {}
     },
     "397ff6a4936943648c2cb4af34c47ab9": {
      "model_module": "@jupyter-widgets/base",
      "model_module_version": "1.2.0",
      "model_name": "LayoutModel",
      "state": {}
     },
     "39cc62f8380d410e932c503327556451": {
      "model_module": "@jupyter-widgets/controls",
      "model_module_version": "1.5.0",
      "model_name": "ButtonModel",
      "state": {
       "description": "Save image",
       "layout": "IPY_MODEL_0c0079efc58a41c6812e1ed2a9ce2dd2",
       "style": "IPY_MODEL_7530d2415c504a0b819b2ebbeb715e05",
       "tooltip": "Save current frame to file.\nCurrently .png and .html are supported.\nIt takes a bit time, please be patient."
      }
     },
     "39f05bc9e3b54602a4680eee4499f588": {
      "model_module": "@jupyter-widgets/base",
      "model_module_version": "1.2.0",
      "model_name": "LayoutModel",
      "state": {}
     },
     "3b4128dbbcea4662838f2d5f44946307": {
      "model_module": "@jupyter-widgets/base",
      "model_module_version": "1.2.0",
      "model_name": "LayoutModel",
      "state": {}
     },
     "3b8023bb81574547b1ac896153cb3c41": {
      "model_module": "@jupyter-widgets/controls",
      "model_module_version": "1.5.0",
      "model_name": "DropdownModel",
      "state": {
       "_options_labels": [
        "All",
        "Fe"
       ],
       "description": "Show",
       "index": 0,
       "layout": "IPY_MODEL_9c604ad8ca2b4a19bf34c38856f5a398",
       "style": "IPY_MODEL_c652237426e84d06b6f71095ef2117db"
      }
     },
     "3bea4634cb644bcc932ddaba49430be9": {
      "model_module": "@jupyter-widgets/controls",
      "model_module_version": "1.5.0",
      "model_name": "FloatSliderModel",
      "state": {
       "description": "Ball size",
       "layout": "IPY_MODEL_a5d5988e8f0d437b8fec2dd51607840e",
       "max": 1.5,
       "step": 0.01,
       "style": "IPY_MODEL_ca15d68fe2984b819e1f522c73beb280",
       "value": 0.5
      }
     },
     "3c73367452684293bfc91951af3e7075": {
      "model_module": "@jupyter-widgets/base",
      "model_module_version": "1.2.0",
      "model_name": "LayoutModel",
      "state": {}
     },
     "3d384e427fe941f0acb23689fc00da09": {
      "model_module": "@jupyter-widgets/base",
      "model_module_version": "1.2.0",
      "model_name": "LayoutModel",
      "state": {}
     },
     "3d44103f214046f887a56d5c3b1db06b": {
      "model_module": "@jupyter-widgets/controls",
      "model_module_version": "1.5.0",
      "model_name": "IntSliderModel",
      "state": {
       "layout": "IPY_MODEL_dabe4b51afe04afd82153119d3cefb0d",
       "max": 0,
       "style": "IPY_MODEL_dca892ac375c41a89407abe51884732f"
      }
     },
     "3dbd0e6f9f334fbcbe3010e7774f0b34": {
      "model_module": "@jupyter-widgets/controls",
      "model_module_version": "1.5.0",
      "model_name": "PlayModel",
      "state": {
       "layout": "IPY_MODEL_86e917601dd84870918ae390deb75638",
       "max": 0,
       "style": "IPY_MODEL_9659c65b447e487fbd6ab2793139acf2"
      }
     },
     "3dc0cde7ec6a45c6aff81043c2e638d7": {
      "model_module": "@jupyter-widgets/controls",
      "model_module_version": "1.5.0",
      "model_name": "CheckboxModel",
      "state": {
       "description": "Show force",
       "disabled": false,
       "layout": "IPY_MODEL_6f89a7261455482b94b51882197e5354",
       "style": "IPY_MODEL_e589bdfe53c748b3b94e07ab59aaa386",
       "value": false
      }
     },
     "3e0d90ca04434ef8b0a9de9684dc6263": {
      "model_module": "@jupyter-widgets/base",
      "model_module_version": "1.2.0",
      "model_name": "LayoutModel",
      "state": {}
     },
     "3e2df6c7d32840f69503e394c1aa4c82": {
      "model_module": "@jupyter-widgets/base",
      "model_module_version": "1.2.0",
      "model_name": "LayoutModel",
      "state": {}
     },
     "3ed750b6043b42ea8b7bcf2b83a066db": {
      "model_module": "@jupyter-widgets/base",
      "model_module_version": "1.2.0",
      "model_name": "LayoutModel",
      "state": {}
     },
     "400d3f42c81f442292998a50423d2a79": {
      "model_module": "@jupyter-widgets/controls",
      "model_module_version": "1.5.0",
      "model_name": "HBoxModel",
      "state": {
       "children": [
        "IPY_MODEL_e266f42f1ddd4bf1af255afec72fbf62",
        "IPY_MODEL_2dcd2f3a82504db3befcf2d3a7b632d8"
       ],
       "layout": "IPY_MODEL_b2ab71c6ed9f4287a7a338282c7e269e"
      }
     },
     "409d30c448ec4e00809e264a291f2149": {
      "model_module": "@jupyter-widgets/controls",
      "model_module_version": "1.5.0",
      "model_name": "SliderStyleModel",
      "state": {
       "description_width": ""
      }
     },
     "412c5d8781dc4878a706aa948b3ec3bc": {
      "model_module": "@jupyter-widgets/controls",
      "model_module_version": "1.5.0",
      "model_name": "LinkModel",
      "state": {
       "source": [
        "IPY_MODEL_6d5a61f2c79b4a47865122be10432b7f",
        "max"
       ],
       "target": [
        "IPY_MODEL_2739154ff2854d14b619a39759a8f8fd",
        "max_frame"
       ]
      }
     },
     "418cbd564c0840a8bbabd5d618ad24d0": {
      "model_module": "@jupyter-widgets/base",
      "model_module_version": "1.2.0",
      "model_name": "LayoutModel",
      "state": {}
     },
     "4534621a02d54edba7b802d2b239a430": {
      "model_module": "@jupyter-widgets/controls",
      "model_module_version": "1.5.0",
      "model_name": "HBoxModel",
      "state": {
       "children": [
        "IPY_MODEL_e76c31e3354c412282f160a1c9bb0c1a",
        "IPY_MODEL_6e591c88ded940c6b59a4fd3bb6fae03"
       ],
       "layout": "IPY_MODEL_64ed4cf4438947e185531b1918bbdcaf"
      }
     },
     "453f58b51d094f1887d138edb71b706f": {
      "model_module": "@jupyter-widgets/controls",
      "model_module_version": "1.5.0",
      "model_name": "DropdownModel",
      "state": {
       "_options_labels": [
        "All",
        "O",
        "H",
        "C"
       ],
       "description": "Show",
       "index": 0,
       "layout": "IPY_MODEL_ffef3c55e1a44741956ae67333504129",
       "style": "IPY_MODEL_5487a0c567894ebd84c9fc07ad493763"
      }
     },
     "45bffcdd5834457d876d863bd2b6d4e8": {
      "model_module": "@jupyter-widgets/controls",
      "model_module_version": "1.5.0",
      "model_name": "PlayModel",
      "state": {
       "layout": "IPY_MODEL_bc5ac535df714a48bfeff8dc21d35bbe",
       "max": 0,
       "style": "IPY_MODEL_10ca12312894431fb319fdc80bf3ae92"
      }
     },
     "45e7c638d8b74c07b24caf7ebdce5970": {
      "model_module": "@jupyter-widgets/base",
      "model_module_version": "1.2.0",
      "model_name": "LayoutModel",
      "state": {}
     },
     "4754817d342c4360a202d2eb0017c614": {
      "model_module": "@jupyter-widgets/controls",
      "model_module_version": "1.5.0",
      "model_name": "DescriptionStyleModel",
      "state": {
       "description_width": ""
      }
     },
     "47aab7c128e64f2f806120aff70d7232": {
      "model_module": "@jupyter-widgets/controls",
      "model_module_version": "1.5.0",
      "model_name": "ButtonModel",
      "state": {
       "description": "Save image",
       "layout": "IPY_MODEL_6e9b1f25017c4e519d4234d942e9c71b",
       "style": "IPY_MODEL_15095be2135843179c8b974fb5084c9a",
       "tooltip": "Save current frame to file.\nCurrently .png and .html are supported.\nIt takes a bit time, please be patient."
      }
     },
     "47c988d67cba47e493b3d6f9c5d53e2c": {
      "model_module": "@jupyter-widgets/controls",
      "model_module_version": "1.5.0",
      "model_name": "LinkModel",
      "state": {
       "source": [
        "IPY_MODEL_6763c802e5b04e3cbb2b8f6388eb4e36",
        "max"
       ],
       "target": [
        "IPY_MODEL_8e844daad3494b18a41d725001c19c99",
        "max_frame"
       ]
      }
     },
     "47f9a374ed6a43ab95f748300478e1b6": {
      "model_module": "@jupyter-widgets/controls",
      "model_module_version": "1.5.0",
      "model_name": "DescriptionStyleModel",
      "state": {
       "description_width": ""
      }
     },
     "482bb23ff2ca47afa7c62b78522fc268": {
      "model_module": "@jupyter-widgets/controls",
      "model_module_version": "1.5.0",
      "model_name": "LinkModel",
      "state": {
       "source": [
        "IPY_MODEL_45bffcdd5834457d876d863bd2b6d4e8",
        "value"
       ],
       "target": [
        "IPY_MODEL_2739154ff2854d14b619a39759a8f8fd",
        "frame"
       ]
      }
     },
     "4946eff5b1f640dd93bc8b31b7075c2d": {
      "model_module": "@jupyter-widgets/base",
      "model_module_version": "1.2.0",
      "model_name": "LayoutModel",
      "state": {
       "border": "0px solid black"
      }
     },
     "4b24cff293f8437492231b6b34909be9": {
      "model_module": "@jupyter-widgets/base",
      "model_module_version": "1.2.0",
      "model_name": "LayoutModel",
      "state": {}
     },
     "4b8029ff894f453ea70ff28fd8159cc3": {
      "model_module": "@jupyter-widgets/controls",
      "model_module_version": "1.5.0",
      "model_name": "CheckboxModel",
      "state": {
       "description": "Show charge",
       "disabled": false,
       "layout": "IPY_MODEL_8edb4503504147fab6c5a54599d4c582",
       "style": "IPY_MODEL_56beb4b0c30442eaa67db37b28d3931d",
       "value": false
      }
     },
     "4bacd78bfd3d4adcbe43661093b00d81": {
      "model_module": "@jupyter-widgets/controls",
      "model_module_version": "1.5.0",
      "model_name": "CheckboxModel",
      "state": {
       "description": "Show force",
       "disabled": false,
       "layout": "IPY_MODEL_aa7c3d19722e4041ba3a18b7b602abf5",
       "style": "IPY_MODEL_12668bb6b69949169110e3d8c0aa8b4e",
       "value": false
      }
     },
     "4c89c364f7ba4656ac03409370da8d51": {
      "model_module": "@jupyter-widgets/controls",
      "model_module_version": "1.5.0",
      "model_name": "ButtonModel",
      "state": {
       "description": "Save image",
       "layout": "IPY_MODEL_1eab9bb78d6940b180d6c692395ea947",
       "style": "IPY_MODEL_849b61703fa54ae39ecdb1761f69452b",
       "tooltip": "Save current frame to file.\nCurrently .png and .html are supported.\nIt takes a bit time, please be patient."
      }
     },
     "4ca882781f1e4f40be1b9eef0c9a1855": {
      "model_module": "@jupyter-widgets/controls",
      "model_module_version": "1.5.0",
      "model_name": "SliderStyleModel",
      "state": {
       "description_width": ""
      }
     },
     "4ceaf42f6da041cca956eb682101a960": {
      "model_module": "@jupyter-widgets/base",
      "model_module_version": "1.2.0",
      "model_name": "LayoutModel",
      "state": {}
     },
     "4d4ccf28a05a445e98b628683584d35e": {
      "model_module": "@jupyter-widgets/controls",
      "model_module_version": "1.5.0",
      "model_name": "CheckboxModel",
      "state": {
       "description": "Show force",
       "disabled": false,
       "layout": "IPY_MODEL_0c7e656a49d94530bcc58b5ea7de14bb",
       "style": "IPY_MODEL_f2b4ba232c864a0ebcbf4085a4f8896d",
       "value": false
      }
     },
     "4d7e12c8245f4045897714c282b56c63": {
      "model_module": "@jupyter-widgets/base",
      "model_module_version": "1.2.0",
      "model_name": "LayoutModel",
      "state": {
       "width": "34px"
      }
     },
     "4d9d8dc84c22463c82ca864472b0a5dd": {
      "model_module": "@jupyter-widgets/controls",
      "model_module_version": "1.5.0",
      "model_name": "DescriptionStyleModel",
      "state": {
       "description_width": ""
      }
     },
     "4dae4b50ebbe4599a6ecbf0a32cd2d32": {
      "model_module": "nglview-js-widgets",
      "model_module_version": "3.0.1",
      "model_name": "NGLModel",
      "state": {
       "_camera_orientation": [
        10.755870370378133,
        0,
        0,
        0,
        0,
        10.755870370378133,
        0,
        0,
        0,
        0,
        10.755870370378133,
        0,
        -2.8285000324249268,
        -2.0409998893737793,
        -1.44350004196167,
        1
       ],
       "_camera_str": "orthographic",
       "_gui_theme": null,
       "_ibtn_fullscreen": "IPY_MODEL_06f8a873ea0a4bb9b4f97f8a6cdf5547",
       "_igui": null,
       "_iplayer": "IPY_MODEL_a5d8945ba83849b4b5e4d3dd07e62f79",
       "_ngl_color_dict": {},
       "_ngl_coordinate_resource": {},
       "_ngl_full_stage_parameters": {
        "ambientColor": 14540253,
        "ambientIntensity": 0.2,
        "backgroundColor": "white",
        "cameraEyeSep": 0.3,
        "cameraFov": 40,
        "cameraType": "orthographic",
        "clipDist": 0,
        "clipFar": 100,
        "clipNear": 0,
        "fogFar": 100,
        "fogNear": 50,
        "hoverTimeout": 0,
        "impostor": true,
        "lightColor": 14540253,
        "lightIntensity": 1,
        "mousePreset": "default",
        "panSpeed": 1,
        "quality": "medium",
        "rotateSpeed": 2,
        "sampleLevel": 0,
        "tooltip": true,
        "workerDefault": true,
        "zoomSpeed": 1.2
       },
       "_ngl_msg_archive": [
        {
         "args": [
          {
           "binary": false,
           "data": "CRYST1    4.243    4.243    4.243  60.00  60.00  60.00 P 1\nMODEL     1\nATOM      1   Na MOL     1       0.000   0.000   0.000  1.00  0.00          NA  \nATOM      2   Cl MOL     1       0.000   0.816   0.577  1.00  0.00          CL  \nATOM      3   Na MOL     1       0.707   0.408   1.155  1.00  0.00          NA  \nATOM      4   Cl MOL     1       0.707   1.225   1.732  1.00  0.00          CL  \nATOM      5   Na MOL     1       1.414   0.816   2.309  1.00  0.00          NA  \nATOM      6   Cl MOL     1       1.414   1.633   2.887  1.00  0.00          CL  \nATOM      7   Na MOL     1       0.707   1.225  -0.000  1.00  0.00          NA  \nATOM      8   Cl MOL     1       0.707   2.041   0.577  1.00  0.00          CL  \nATOM      9   Na MOL     1       1.414   1.633   1.155  1.00  0.00          NA  \nATOM     10   Cl MOL     1       1.414   2.449   1.732  1.00  0.00          CL  \nATOM     11   Na MOL     1       2.121   2.041   2.309  1.00  0.00          NA  \nATOM     12   Cl MOL     1       2.121   2.858   2.887  1.00  0.00          CL  \nATOM     13   Na MOL     1       1.414   2.449  -0.000  1.00  0.00          NA  \nATOM     14   Cl MOL     1       1.414   3.266   0.577  1.00  0.00          CL  \nATOM     15   Na MOL     1       2.121   2.858   1.155  1.00  0.00          NA  \nATOM     16   Cl MOL     1       2.121   3.674   1.732  1.00  0.00          CL  \nATOM     17   Na MOL     1       2.828   3.266   2.309  1.00  0.00          NA  \nATOM     18   Cl MOL     1       2.828   4.082   2.887  1.00  0.00          CL  \nATOM     19   Na MOL     1       1.414   0.000  -0.000  1.00  0.00          NA  \nATOM     20   Cl MOL     1       1.414   0.816   0.577  1.00  0.00          CL  \nATOM     21   Na MOL     1       2.121   0.408   1.155  1.00  0.00          NA  \nATOM     22   Cl MOL     1       2.121   1.225   1.732  1.00  0.00          CL  \nATOM     23   Na MOL     1       2.828   0.816   2.309  1.00  0.00          NA  \nATOM     24   Cl MOL     1       2.828   1.633   2.887  1.00  0.00          CL  \nATOM     25   Na MOL     1       2.121   1.225  -0.000  1.00  0.00          NA  \nATOM     26   Cl MOL     1       2.121   2.041   0.577  1.00  0.00          CL  \nATOM     27   Na MOL     1       2.828   1.633   1.155  1.00  0.00          NA  \nATOM     28   Cl MOL     1       2.828   2.449   1.732  1.00  0.00          CL  \nATOM     29   Na MOL     1       3.536   2.041   2.309  1.00  0.00          NA  \nATOM     30   Cl MOL     1       3.536   2.858   2.887  1.00  0.00          CL  \nATOM     31   Na MOL     1       2.828   2.449  -0.000  1.00  0.00          NA  \nATOM     32   Cl MOL     1       2.828   3.266   0.577  1.00  0.00          CL  \nATOM     33   Na MOL     1       3.536   2.858   1.155  1.00  0.00          NA  \nATOM     34   Cl MOL     1       3.536   3.674   1.732  1.00  0.00          CL  \nATOM     35   Na MOL     1       4.243   3.266   2.309  1.00  0.00          NA  \nATOM     36   Cl MOL     1       4.243   4.082   2.887  1.00  0.00          CL  \nATOM     37   Na MOL     1       2.828   0.000  -0.000  1.00  0.00          NA  \nATOM     38   Cl MOL     1       2.828   0.816   0.577  1.00  0.00          CL  \nATOM     39   Na MOL     1       3.536   0.408   1.155  1.00  0.00          NA  \nATOM     40   Cl MOL     1       3.536   1.225   1.732  1.00  0.00          CL  \nATOM     41   Na MOL     1       4.243   0.816   2.309  1.00  0.00          NA  \nATOM     42   Cl MOL     1       4.243   1.633   2.887  1.00  0.00          CL  \nATOM     43   Na MOL     1       3.536   1.225  -0.000  1.00  0.00          NA  \nATOM     44   Cl MOL     1       3.536   2.041   0.577  1.00  0.00          CL  \nATOM     45   Na MOL     1       4.243   1.633   1.155  1.00  0.00          NA  \nATOM     46   Cl MOL     1       4.243   2.449   1.732  1.00  0.00          CL  \nATOM     47   Na MOL     1       4.950   2.041   2.309  1.00  0.00          NA  \nATOM     48   Cl MOL     1       4.950   2.858   2.887  1.00  0.00          CL  \nATOM     49   Na MOL     1       4.243   2.449  -0.000  1.00  0.00          NA  \nATOM     50   Cl MOL     1       4.243   3.266   0.577  1.00  0.00          CL  \nATOM     51   Na MOL     1       4.950   2.858   1.155  1.00  0.00          NA  \nATOM     52   Cl MOL     1       4.950   3.674   1.732  1.00  0.00          CL  \nATOM     53   Na MOL     1       5.657   3.266   2.309  1.00  0.00          NA  \nATOM     54   Cl MOL     1       5.657   4.082   2.887  1.00  0.00          CL  \nENDMDL\n",
           "type": "blob"
          }
         ],
         "kwargs": {
          "defaultRepresentation": false,
          "ext": "pdb"
         },
         "methodName": "loadFile",
         "reconstruc_color_scheme": false,
         "target": "Stage",
         "type": "call_method"
        },
        {
         "args": [
          "400px",
          "300px"
         ],
         "kwargs": {},
         "methodName": "setSize",
         "reconstruc_color_scheme": false,
         "target": "Widget",
         "type": "call_method"
        },
        {
         "args": [
          "unitcell"
         ],
         "component_index": 0,
         "kwargs": {
          "sele": "all"
         },
         "methodName": "addRepresentation",
         "reconstruc_color_scheme": false,
         "target": "compList",
         "type": "call_method"
        },
        {
         "args": [
          "spacefill"
         ],
         "component_index": 0,
         "kwargs": {
          "sele": "all"
         },
         "methodName": "addRepresentation",
         "reconstruc_color_scheme": false,
         "target": "compList",
         "type": "call_method"
        },
        {
         "args": [],
         "kwargs": {
          "cameraType": "orthographic"
         },
         "methodName": "setParameters",
         "reconstruc_color_scheme": false,
         "target": "Stage",
         "type": "call_method"
        },
        {
         "args": [
          {
           "clipDist": 0
          }
         ],
         "kwargs": {},
         "methodName": "setParameters",
         "reconstruc_color_scheme": false,
         "target": "Widget",
         "type": "call_method"
        },
        {
         "args": [
          "spacefill",
          0
         ],
         "kwargs": {
          "colorScale": "rainbow",
          "colorScheme": "element",
          "radiusScale": 0.5,
          "radiusType": "covalent"
         },
         "methodName": "updateRepresentationsByName",
         "reconstruc_color_scheme": false,
         "target": "Widget",
         "type": "call_method"
        },
        {
         "args": [
          "this._Q = [[-0.0, 0.7071067811865476, 0.7071067811865476], [0.8164965809277263, -0.4082482904638629, 0.40824829046386313], [0.5773502691896257, 0.5773502691896258, -0.5773502691896257]]\n    var tooltip = document.createElement('div');\n    Object.assign(tooltip.style, {\n      display: 'none',\n      position: 'fixed',\n      zIndex: 10,\n      pointerEvents: 'none',\n      backgroundColor: 'rgba( 0, 0, 0, 0.6 )',\n      color: 'lightgrey',\n      padding: '8px',\n      fontFamily: 'sans-serif'\n    });\n    document.body.appendChild(tooltip);\n\n    var that = this;\n    this.stage.mouseControls.remove('hoverPick');\n    this.stage.signals.hovered.add(function (pickingProxy) {\n      if (pickingProxy && (pickingProxy.atom || pickingProxy.bond)) {\n        var atom = pickingProxy.atom || pickingProxy.closestBondAtom\n        var mp = pickingProxy.mouse.position\n        //tooltip.innerText = atom.element + ' i=' + atom.index + ' (' + atom.x.toFixed(2) +  ', ' + atom.y.toFixed(2) +  ', ' + atom.z.toFixed(2) + ')'\n        //var pos = that._atoms_pos[atom.index]\n        var Q = that._Q\n        var pos_x = Q[0][0] * atom.x + Q[0][1] * atom.y + Q[0][2] * atom.z \n        var pos_y = Q[1][0] * atom.x + Q[1][1] * atom.y + Q[1][2] * atom.z\n        var pos_z = Q[2][0] * atom.x + Q[2][1] * atom.y + Q[2][2] * atom.z\n        tooltip.innerText = 'i=' + atom.index + ' ' + atom.element + ' (' + pos_x.toFixed(2) +  ', ' + pos_y.toFixed(2) +  ', ' + pos_z.toFixed(2) + ')'\n        tooltip.style.bottom = window.innerHeight - mp.y + 3 + 'px'\n        tooltip.style.left = mp.x + 3 + 'px'\n        tooltip.style.display = 'block'\n      } else {\n        tooltip.style.display = 'none'\n      }\n    });\n    this.stage.tooltip = tooltip;\n    "
         ],
         "kwargs": {},
         "methodName": "executeCode",
         "reconstruc_color_scheme": false,
         "target": "Widget",
         "type": "call_method"
        }
       ],
       "_ngl_original_stage_parameters": {
        "ambientColor": 14540253,
        "ambientIntensity": 0.2,
        "backgroundColor": "white",
        "cameraEyeSep": 0.3,
        "cameraFov": 40,
        "cameraType": "perspective",
        "clipDist": 10,
        "clipFar": 100,
        "clipNear": 0,
        "fogFar": 100,
        "fogNear": 50,
        "hoverTimeout": 0,
        "impostor": true,
        "lightColor": 14540253,
        "lightIntensity": 1,
        "mousePreset": "default",
        "panSpeed": 1,
        "quality": "medium",
        "rotateSpeed": 2,
        "sampleLevel": 0,
        "tooltip": true,
        "workerDefault": true,
        "zoomSpeed": 1.2
       },
       "_ngl_repr_dict": {
        "0": {
         "0": {
          "params": {
           "clipCenter": {
            "x": 0,
            "y": 0,
            "z": 0
           },
           "clipNear": 0,
           "clipRadius": 0,
           "colorMode": "hcl",
           "colorReverse": false,
           "colorScale": "",
           "colorScheme": "element",
           "colorValue": "orange",
           "defaultAssembly": "",
           "depthWrite": true,
           "diffuse": 16777215,
           "diffuseInterior": false,
           "disableImpostor": false,
           "disablePicking": false,
           "flatShaded": false,
           "interiorColor": 2236962,
           "interiorDarkening": 0,
           "lazy": false,
           "matrix": {
            "elements": [
             1,
             0,
             0,
             0,
             0,
             1,
             0,
             0,
             0,
             0,
             1,
             0,
             0,
             0,
             0,
             1
            ]
           },
           "metalness": 0,
           "opacity": 1,
           "quality": "medium",
           "radialSegments": 10,
           "radiusData": {},
           "radiusScale": 1,
           "radiusSize": 0.01889879926903164,
           "radiusType": "vdw",
           "roughness": 0.4,
           "sele": "all",
           "side": "double",
           "sphereDetail": 1,
           "useInteriorColor": true,
           "visible": true,
           "wireframe": false
          },
          "type": "unitcell"
         },
         "1": {
          "params": {
           "assembly": "default",
           "clipCenter": {
            "x": 0,
            "y": 0,
            "z": 0
           },
           "clipNear": 0,
           "clipRadius": 0,
           "colorMode": "hcl",
           "colorReverse": false,
           "colorScale": "rainbow",
           "colorScheme": "element",
           "colorValue": 9474192,
           "defaultAssembly": "",
           "depthWrite": true,
           "diffuse": 16777215,
           "diffuseInterior": false,
           "disableImpostor": false,
           "disablePicking": false,
           "flatShaded": false,
           "interiorColor": 2236962,
           "interiorDarkening": 0,
           "lazy": false,
           "matrix": {
            "elements": [
             1,
             0,
             0,
             0,
             0,
             1,
             0,
             0,
             0,
             0,
             1,
             0,
             0,
             0,
             0,
             1
            ]
           },
           "metalness": 0,
           "opacity": 1,
           "quality": "medium",
           "radiusData": {},
           "radiusScale": 0.5,
           "radiusSize": 1,
           "radiusType": "covalent",
           "roughness": 0.4,
           "sele": "all",
           "side": "double",
           "sphereDetail": 1,
           "useInteriorColor": true,
           "visible": true,
           "wireframe": false
          },
          "type": "spacefill"
         }
        }
       },
       "_ngl_serialize": false,
       "_ngl_version": "2.0.0-dev.36",
       "_ngl_view_id": [
        "2A86FC93-E898-4B17-A9BD-0F16DA762159"
       ],
       "_player_dict": {},
       "_scene_position": {},
       "_scene_rotation": {},
       "_synced_model_ids": [],
       "_synced_repr_model_ids": [],
       "_view_height": "",
       "_view_width": "",
       "background": "white",
       "frame": 0,
       "gui_style": null,
       "layout": "IPY_MODEL_15ee7416bb2244549218b32945ca1954",
       "max_frame": 0,
       "n_components": 1,
       "picked": {}
      }
     },
     "4e157443fcf7466e9ddd891ae26db1c6": {
      "model_module": "@jupyter-widgets/base",
      "model_module_version": "1.2.0",
      "model_name": "LayoutModel",
      "state": {}
     },
     "4ef5bd5483234242b036c4e99a9d95d4": {
      "model_module": "@jupyter-widgets/controls",
      "model_module_version": "1.5.0",
      "model_name": "SliderStyleModel",
      "state": {
       "description_width": ""
      }
     },
     "4f33aad529534d2bbe67e3a7335a0de9": {
      "model_module": "@jupyter-widgets/base",
      "model_module_version": "1.2.0",
      "model_name": "LayoutModel",
      "state": {}
     },
     "4ff59c1605594df6beb39ac9bf54ca8d": {
      "model_module": "@jupyter-widgets/controls",
      "model_module_version": "1.5.0",
      "model_name": "FloatSliderModel",
      "state": {
       "description": "Force scale",
       "layout": "IPY_MODEL_36736701fc334ab4b0818fe9b9a10666",
       "step": 0.1,
       "style": "IPY_MODEL_181cf63652d34f44b12dfc5b7407f44d",
       "value": 0.5
      }
     },
     "50c15c14450f4db4a91b3a9a0018f436": {
      "model_module": "@jupyter-widgets/controls",
      "model_module_version": "1.5.0",
      "model_name": "ButtonModel",
      "state": {
       "icon": "compress",
       "layout": "IPY_MODEL_32dcef40c6404ea1af5bac282f00c075",
       "style": "IPY_MODEL_258d549d1e8d48ae861a815cf69f2a04"
      }
     },
     "510b2b71e831444e9540572761e4605d": {
      "model_module": "@jupyter-widgets/base",
      "model_module_version": "1.2.0",
      "model_name": "LayoutModel",
      "state": {}
     },
     "513925a6e4a4476bae946c99fcf4db97": {
      "model_module": "@jupyter-widgets/controls",
      "model_module_version": "1.5.0",
      "model_name": "DropdownModel",
      "state": {
       "_options_labels": [
        "All",
        "Fe"
       ],
       "description": "Show",
       "index": 0,
       "layout": "IPY_MODEL_320b2033cdca4eeb87edf1e735d39b4b",
       "style": "IPY_MODEL_e12a7974d6704abe96e28a8498752bb4"
      }
     },
     "51cba4b901a94ca39e2627e069be3ad1": {
      "model_module": "@jupyter-widgets/base",
      "model_module_version": "1.2.0",
      "model_name": "LayoutModel",
      "state": {}
     },
     "51f2e04874c54f248d27f31c19fa0250": {
      "model_module": "@jupyter-widgets/controls",
      "model_module_version": "1.5.0",
      "model_name": "ButtonModel",
      "state": {
       "description": "Save image",
       "layout": "IPY_MODEL_9b407ed54b844c3b8e43c1ec6d64d422",
       "style": "IPY_MODEL_24a8c605e91f4fe59078e3629dcc8cef",
       "tooltip": "Save current frame to file.\nCurrently .png and .html are supported.\nIt takes a bit time, please be patient."
      }
     },
     "521fb814024e4b8cb4b0304554a00f95": {
      "model_module": "@jupyter-widgets/controls",
      "model_module_version": "1.5.0",
      "model_name": "DescriptionStyleModel",
      "state": {
       "description_width": ""
      }
     },
     "523d60a1c3a041509b0afa877aee455a": {
      "model_module": "@jupyter-widgets/base",
      "model_module_version": "1.2.0",
      "model_name": "LayoutModel",
      "state": {}
     },
     "52a8470def1f4f0ebf13f4a2ae0578c5": {
      "model_module": "@jupyter-widgets/output",
      "model_module_version": "1.0.0",
      "model_name": "OutputModel",
      "state": {
       "layout": "IPY_MODEL_221ce34b139c48b8a4e1e6c78b2cf9cd"
      }
     },
     "52efd89974c9466e9e03da7e88072405": {
      "model_module": "@jupyter-widgets/base",
      "model_module_version": "1.2.0",
      "model_name": "LayoutModel",
      "state": {}
     },
     "52f654fb237d4570b77b59d2058108bc": {
      "model_module": "@jupyter-widgets/base",
      "model_module_version": "1.2.0",
      "model_name": "LayoutModel",
      "state": {}
     },
     "53229facc52641c291e7981c0db0cc0c": {
      "model_module": "@jupyter-widgets/base",
      "model_module_version": "1.2.0",
      "model_name": "LayoutModel",
      "state": {}
     },
     "535a9d85833e4b6e9582d775389f1984": {
      "model_module": "@jupyter-widgets/controls",
      "model_module_version": "1.5.0",
      "model_name": "CheckboxModel",
      "state": {
       "description": "Show force",
       "disabled": false,
       "layout": "IPY_MODEL_523d60a1c3a041509b0afa877aee455a",
       "style": "IPY_MODEL_f81e512d9f5a4dbf8e9fd81cae72abc2",
       "value": false
      }
     },
     "5487a0c567894ebd84c9fc07ad493763": {
      "model_module": "@jupyter-widgets/controls",
      "model_module_version": "1.5.0",
      "model_name": "DescriptionStyleModel",
      "state": {
       "description_width": ""
      }
     },
     "54c666389c794aaeb448dd1edf98a7c9": {
      "model_module": "@jupyter-widgets/controls",
      "model_module_version": "1.5.0",
      "model_name": "ButtonStyleModel",
      "state": {}
     },
     "5588f6e0da3c4923bdf2e887cd22340c": {
      "model_module": "@jupyter-widgets/base",
      "model_module_version": "1.2.0",
      "model_name": "LayoutModel",
      "state": {}
     },
     "55917f7512854535841ffcb6d98ba21e": {
      "model_module": "@jupyter-widgets/output",
      "model_module_version": "1.0.0",
      "model_name": "OutputModel",
      "state": {
       "layout": "IPY_MODEL_4946eff5b1f640dd93bc8b31b7075c2d"
      }
     },
     "55e45f54c6d84e98bc1632585515eef1": {
      "model_module": "@jupyter-widgets/controls",
      "model_module_version": "1.5.0",
      "model_name": "FloatSliderModel",
      "state": {
       "description": "Force scale",
       "layout": "IPY_MODEL_6d3a57bbea2b41fda7f28a9d172811ab",
       "step": 0.1,
       "style": "IPY_MODEL_ca085dc0e2b844d0b2fffedd36f5e9aa",
       "value": 0.5
      }
     },
     "5645f52410af47c6991d320de04f98f5": {
      "model_module": "@jupyter-widgets/controls",
      "model_module_version": "1.5.0",
      "model_name": "ImageModel",
      "state": {
       "layout": "IPY_MODEL_ef91d363baa84b9998067ddcac0f8214",
       "width": "900.0"
      }
     },
     "56b12d187df94a1692eb513d27988aad": {
      "model_module": "@jupyter-widgets/controls",
      "model_module_version": "1.5.0",
      "model_name": "ButtonModel",
      "state": {
       "description": "Download image",
       "layout": "IPY_MODEL_df7febc71df040ad8684941bb63bff4d",
       "style": "IPY_MODEL_13480e55fee1466a9e459407ce4dd0bd",
       "tooltip": "Download current frame to your local PC"
      }
     },
     "56beb4b0c30442eaa67db37b28d3931d": {
      "model_module": "@jupyter-widgets/controls",
      "model_module_version": "1.5.0",
      "model_name": "DescriptionStyleModel",
      "state": {
       "description_width": ""
      }
     },
     "56ce2ef0c04d4c848f6ce54f6f5f34ce": {
      "model_module": "@jupyter-widgets/controls",
      "model_module_version": "1.5.0",
      "model_name": "DescriptionStyleModel",
      "state": {
       "description_width": ""
      }
     },
     "5742fcdc2bf54ea5997f51777bb83514": {
      "model_module": "@jupyter-widgets/controls",
      "model_module_version": "1.5.0",
      "model_name": "HBoxModel",
      "state": {
       "children": [
        "IPY_MODEL_45bffcdd5834457d876d863bd2b6d4e8",
        "IPY_MODEL_6d5a61f2c79b4a47865122be10432b7f"
       ],
       "layout": "IPY_MODEL_075788bdc02e47c2a824085a942b8ca7"
      }
     },
     "582ea00d5a6f447dbc603cc694686752": {
      "model_module": "@jupyter-widgets/base",
      "model_module_version": "1.2.0",
      "model_name": "LayoutModel",
      "state": {}
     },
     "58370db1a90c4823bf5c4652e94d7f23": {
      "model_module": "@jupyter-widgets/base",
      "model_module_version": "1.2.0",
      "model_name": "LayoutModel",
      "state": {}
     },
     "58c6285ae72b4d67a30722b0129dccc8": {
      "model_module": "nglview-js-widgets",
      "model_module_version": "3.0.1",
      "model_name": "NGLModel",
      "state": {
       "_camera_orientation": [
        5.334401693000302,
        0,
        0,
        0,
        0,
        5.334401693000302,
        0,
        0,
        0,
        0,
        5.334401693000302,
        0,
        -0.00850003957748413,
        0.005499988794326782,
        0.002499997615814209,
        1
       ],
       "_camera_str": "orthographic",
       "_gui_theme": null,
       "_ibtn_fullscreen": "IPY_MODEL_0c36a36e569a48f694d03fc286aee8e6",
       "_igui": null,
       "_iplayer": "IPY_MODEL_a41885d7751c451d83b0a155b2a84758",
       "_ngl_color_dict": {},
       "_ngl_coordinate_resource": {},
       "_ngl_full_stage_parameters": {
        "ambientColor": 14540253,
        "ambientIntensity": 0.2,
        "backgroundColor": "white",
        "cameraEyeSep": 0.3,
        "cameraFov": 40,
        "cameraType": "orthographic",
        "clipDist": 0,
        "clipFar": 100,
        "clipNear": 0,
        "fogFar": 100,
        "fogNear": 50,
        "hoverTimeout": 0,
        "impostor": true,
        "lightColor": 14540253,
        "lightIntensity": 1,
        "mousePreset": "default",
        "panSpeed": 1,
        "quality": "medium",
        "rotateSpeed": 2,
        "sampleLevel": 0,
        "tooltip": true,
        "workerDefault": true,
        "zoomSpeed": 1.2
       },
       "_ngl_msg_archive": [
        {
         "args": [
          {
           "binary": false,
           "data": "MODEL     1\nATOM      1    C MOL     1       0.652   0.048   0.070  1.00  0.00           C  \nATOM      2    C MOL     1      -0.664  -0.057  -0.075  1.00  0.00           C  \nATOM      3    H MOL     1       1.090   0.953   0.477  1.00  0.00           H  \nATOM      4    H MOL     1       1.343  -0.729  -0.198  1.00  0.00           H  \nATOM      5    H MOL     1      -1.326   0.749   0.207  1.00  0.00           H  \nATOM      6    H MOL     1      -1.094  -0.964  -0.482  1.00  0.00           H  \nENDMDL\n",
           "type": "blob"
          }
         ],
         "kwargs": {
          "defaultRepresentation": false,
          "ext": "pdb"
         },
         "methodName": "loadFile",
         "reconstruc_color_scheme": false,
         "target": "Stage",
         "type": "call_method"
        },
        {
         "args": [
          "400px",
          "300px"
         ],
         "kwargs": {},
         "methodName": "setSize",
         "reconstruc_color_scheme": false,
         "target": "Widget",
         "type": "call_method"
        },
        {
         "args": [
          "unitcell"
         ],
         "component_index": 0,
         "kwargs": {
          "sele": "all"
         },
         "methodName": "addRepresentation",
         "reconstruc_color_scheme": false,
         "target": "compList",
         "type": "call_method"
        },
        {
         "args": [
          "spacefill"
         ],
         "component_index": 0,
         "kwargs": {
          "sele": "all"
         },
         "methodName": "addRepresentation",
         "reconstruc_color_scheme": false,
         "target": "compList",
         "type": "call_method"
        },
        {
         "args": [],
         "kwargs": {
          "cameraType": "orthographic"
         },
         "methodName": "setParameters",
         "reconstruc_color_scheme": false,
         "target": "Stage",
         "type": "call_method"
        },
        {
         "args": [
          {
           "clipDist": 0
          }
         ],
         "kwargs": {},
         "methodName": "setParameters",
         "reconstruc_color_scheme": false,
         "target": "Widget",
         "type": "call_method"
        },
        {
         "args": [
          "spacefill",
          0
         ],
         "kwargs": {
          "colorScale": "rainbow",
          "colorScheme": "element",
          "radiusScale": 0.5,
          "radiusType": "covalent"
         },
         "methodName": "updateRepresentationsByName",
         "reconstruc_color_scheme": false,
         "target": "Widget",
         "type": "call_method"
        },
        {
         "args": [
          "this._Q = [[1.0, 0.0, 0.0], [0.0, 1.0, 0.0], [0.0, 0.0, 1.0]]\n    var tooltip = document.createElement('div');\n    Object.assign(tooltip.style, {\n      display: 'none',\n      position: 'fixed',\n      zIndex: 10,\n      pointerEvents: 'none',\n      backgroundColor: 'rgba( 0, 0, 0, 0.6 )',\n      color: 'lightgrey',\n      padding: '8px',\n      fontFamily: 'sans-serif'\n    });\n    document.body.appendChild(tooltip);\n\n    var that = this;\n    this.stage.mouseControls.remove('hoverPick');\n    this.stage.signals.hovered.add(function (pickingProxy) {\n      if (pickingProxy && (pickingProxy.atom || pickingProxy.bond)) {\n        var atom = pickingProxy.atom || pickingProxy.closestBondAtom\n        var mp = pickingProxy.mouse.position\n        //tooltip.innerText = atom.element + ' i=' + atom.index + ' (' + atom.x.toFixed(2) +  ', ' + atom.y.toFixed(2) +  ', ' + atom.z.toFixed(2) + ')'\n        //var pos = that._atoms_pos[atom.index]\n        var Q = that._Q\n        var pos_x = Q[0][0] * atom.x + Q[0][1] * atom.y + Q[0][2] * atom.z \n        var pos_y = Q[1][0] * atom.x + Q[1][1] * atom.y + Q[1][2] * atom.z\n        var pos_z = Q[2][0] * atom.x + Q[2][1] * atom.y + Q[2][2] * atom.z\n        tooltip.innerText = 'i=' + atom.index + ' ' + atom.element + ' (' + pos_x.toFixed(2) +  ', ' + pos_y.toFixed(2) +  ', ' + pos_z.toFixed(2) + ')'\n        tooltip.style.bottom = window.innerHeight - mp.y + 3 + 'px'\n        tooltip.style.left = mp.x + 3 + 'px'\n        tooltip.style.display = 'block'\n      } else {\n        tooltip.style.display = 'none'\n      }\n    });\n    this.stage.tooltip = tooltip;\n    "
         ],
         "kwargs": {},
         "methodName": "executeCode",
         "reconstruc_color_scheme": false,
         "target": "Widget",
         "type": "call_method"
        },
        {
         "args": [
          "ball+stick"
         ],
         "component_index": 0,
         "kwargs": {
          "sele": "all"
         },
         "methodName": "addRepresentation",
         "reconstruc_color_scheme": false,
         "target": "compList",
         "type": "call_method"
        }
       ],
       "_ngl_original_stage_parameters": {
        "ambientColor": 14540253,
        "ambientIntensity": 0.2,
        "backgroundColor": "white",
        "cameraEyeSep": 0.3,
        "cameraFov": 40,
        "cameraType": "perspective",
        "clipDist": 10,
        "clipFar": 100,
        "clipNear": 0,
        "fogFar": 100,
        "fogNear": 50,
        "hoverTimeout": 0,
        "impostor": true,
        "lightColor": 14540253,
        "lightIntensity": 1,
        "mousePreset": "default",
        "panSpeed": 1,
        "quality": "medium",
        "rotateSpeed": 2,
        "sampleLevel": 0,
        "tooltip": true,
        "workerDefault": true,
        "zoomSpeed": 1.2
       },
       "_ngl_repr_dict": {
        "0": {
         "0": {
          "params": {
           "clipCenter": {
            "x": 0,
            "y": 0,
            "z": 0
           },
           "clipNear": 0,
           "clipRadius": 0,
           "colorMode": "hcl",
           "colorReverse": false,
           "colorScale": "",
           "colorScheme": "element",
           "colorValue": "orange",
           "defaultAssembly": "",
           "depthWrite": true,
           "diffuse": 16777215,
           "diffuseInterior": false,
           "disableImpostor": false,
           "disablePicking": false,
           "flatShaded": false,
           "interiorColor": 2236962,
           "interiorDarkening": 0,
           "lazy": false,
           "matrix": {
            "elements": [
             1,
             0,
             0,
             0,
             0,
             1,
             0,
             0,
             0,
             0,
             1,
             0,
             0,
             0,
             0,
             1
            ]
           },
           "metalness": 0,
           "opacity": 1,
           "quality": "medium",
           "radialSegments": 10,
           "radiusData": {},
           "radiusScale": 1,
           "radiusSize": 0.5,
           "radiusType": "vdw",
           "roughness": 0.4,
           "sele": "all",
           "side": "double",
           "sphereDetail": 1,
           "useInteriorColor": true,
           "visible": true,
           "wireframe": false
          },
          "type": "unitcell"
         },
         "1": {
          "params": {
           "assembly": "default",
           "clipCenter": {
            "x": 0,
            "y": 0,
            "z": 0
           },
           "clipNear": 0,
           "clipRadius": 0,
           "colorMode": "hcl",
           "colorReverse": false,
           "colorScale": "rainbow",
           "colorScheme": "element",
           "colorValue": 9474192,
           "defaultAssembly": "",
           "depthWrite": true,
           "diffuse": 16777215,
           "diffuseInterior": false,
           "disableImpostor": false,
           "disablePicking": false,
           "flatShaded": false,
           "interiorColor": 2236962,
           "interiorDarkening": 0,
           "lazy": false,
           "matrix": {
            "elements": [
             1,
             0,
             0,
             0,
             0,
             1,
             0,
             0,
             0,
             0,
             1,
             0,
             0,
             0,
             0,
             1
            ]
           },
           "metalness": 0,
           "opacity": 1,
           "quality": "medium",
           "radiusData": {},
           "radiusScale": 0.5,
           "radiusSize": 1,
           "radiusType": "covalent",
           "roughness": 0.4,
           "sele": "all",
           "side": "double",
           "sphereDetail": 1,
           "useInteriorColor": true,
           "visible": true,
           "wireframe": false
          },
          "type": "spacefill"
         },
         "2": {
          "params": {
           "aspectRatio": 2,
           "assembly": "default",
           "bondScale": 0.4,
           "bondSpacing": 1,
           "clipCenter": {
            "x": 0,
            "y": 0,
            "z": 0
           },
           "clipNear": 0,
           "clipRadius": 0,
           "colorMode": "hcl",
           "colorReverse": false,
           "colorScale": "",
           "colorScheme": "element",
           "colorValue": 9474192,
           "cylinderOnly": false,
           "defaultAssembly": "",
           "depthWrite": true,
           "diffuse": 16777215,
           "diffuseInterior": false,
           "disableImpostor": false,
           "disablePicking": false,
           "flatShaded": false,
           "interiorColor": 2236962,
           "interiorDarkening": 0,
           "lazy": false,
           "lineOnly": false,
           "linewidth": 2,
           "matrix": {
            "elements": [
             1,
             0,
             0,
             0,
             0,
             1,
             0,
             0,
             0,
             0,
             1,
             0,
             0,
             0,
             0,
             1
            ]
           },
           "metalness": 0,
           "multipleBond": "off",
           "opacity": 1,
           "openEnded": true,
           "quality": "medium",
           "radialSegments": 10,
           "radiusData": {},
           "radiusScale": 1,
           "radiusSize": 0.15,
           "radiusType": "size",
           "roughness": 0.4,
           "sele": "all",
           "side": "double",
           "sphereDetail": 1,
           "useInteriorColor": true,
           "visible": true,
           "wireframe": false
          },
          "type": "ball+stick"
         }
        }
       },
       "_ngl_serialize": false,
       "_ngl_version": "2.0.0-dev.36",
       "_ngl_view_id": [
        "E8B2AF02-F2DE-4A8E-BC46-6148C3662317"
       ],
       "_player_dict": {},
       "_scene_position": {},
       "_scene_rotation": {},
       "_synced_model_ids": [],
       "_synced_repr_model_ids": [],
       "_view_height": "",
       "_view_width": "",
       "background": "white",
       "frame": 0,
       "gui_style": null,
       "layout": "IPY_MODEL_95180d9e276a4890bf69e2100b0e6834",
       "max_frame": 0,
       "n_components": 1,
       "picked": {}
      }
     },
     "5a6db6fc57db41daadc304676ffaa5a4": {
      "model_module": "@jupyter-widgets/controls",
      "model_module_version": "1.5.0",
      "model_name": "LinkModel",
      "state": {
       "source": [
        "IPY_MODEL_15bf3446e11f4936b15370b798165170",
        "value"
       ],
       "target": [
        "IPY_MODEL_4dae4b50ebbe4599a6ecbf0a32cd2d32",
        "frame"
       ]
      }
     },
     "5ac31b038b0349e783634160961095af": {
      "model_module": "@jupyter-widgets/controls",
      "model_module_version": "1.5.0",
      "model_name": "DropdownModel",
      "state": {
       "_options_labels": [
        " ",
        "picking",
        "random",
        "uniform",
        "atomindex",
        "residueindex",
        "chainindex",
        "modelindex",
        "sstruc",
        "element",
        "resname",
        "bfactor",
        "hydrophobicity",
        "value",
        "volume",
        "occupancy"
       ],
       "description": "Color scheme",
       "index": 9,
       "layout": "IPY_MODEL_80a6c1d714544f27b6517c68bc4a3c7a",
       "style": "IPY_MODEL_354218d45ad24519b83e320a09a582b5"
      }
     },
     "5b838ae0b4fa472da40bc7f1f051b05d": {
      "model_module": "@jupyter-widgets/controls",
      "model_module_version": "1.5.0",
      "model_name": "ButtonModel",
      "state": {
       "description": "Download image",
       "layout": "IPY_MODEL_1deca5dd2c0a46068e3824dc84100d19",
       "style": "IPY_MODEL_e008bccc89d040feacbdd0eefee44870",
       "tooltip": "Download current frame to your local PC"
      }
     },
     "5ca469b1330749088e6d4ddfc16d8b38": {
      "model_module": "@jupyter-widgets/controls",
      "model_module_version": "1.5.0",
      "model_name": "LinkModel",
      "state": {
       "source": [
        "IPY_MODEL_971b9039766b4010b596da0ab61a24bb",
        "max"
       ],
       "target": [
        "IPY_MODEL_58c6285ae72b4d67a30722b0129dccc8",
        "max_frame"
       ]
      }
     },
     "5d8bb661e11a40679f54e3fae4969c3f": {
      "model_module": "@jupyter-widgets/controls",
      "model_module_version": "1.5.0",
      "model_name": "IntSliderModel",
      "state": {
       "layout": "IPY_MODEL_f99133681e024e5698e985a4f9610a90",
       "max": 0,
       "style": "IPY_MODEL_e2ecfd5fc58a4c739a6a9533797a0445"
      }
     },
     "5f163cd2fd2740c2bdf626610a8713d6": {
      "model_module": "@jupyter-widgets/controls",
      "model_module_version": "1.5.0",
      "model_name": "DescriptionStyleModel",
      "state": {
       "description_width": ""
      }
     },
     "5fbb1b83fdac49968da04ff0ba8b170a": {
      "model_module": "@jupyter-widgets/base",
      "model_module_version": "1.2.0",
      "model_name": "LayoutModel",
      "state": {}
     },
     "607b5dc0a6844a0db49f0e7553a8a82c": {
      "model_module": "@jupyter-widgets/base",
      "model_module_version": "1.2.0",
      "model_name": "LayoutModel",
      "state": {}
     },
     "61234b9197a44a7b84971dad9b7ec655": {
      "model_module": "@jupyter-widgets/controls",
      "model_module_version": "1.5.0",
      "model_name": "FloatSliderModel",
      "state": {
       "description": "Charge scale",
       "layout": "IPY_MODEL_ab05c2588d604199bd8063e2297dc2d4",
       "step": 0.1,
       "style": "IPY_MODEL_cf8abfeb002e45b5a89e5705ec9d3ac5",
       "value": 1
      }
     },
     "613da7c0f57940749a7d938c18948489": {
      "model_module": "@jupyter-widgets/controls",
      "model_module_version": "1.5.0",
      "model_name": "FloatSliderModel",
      "state": {
       "description": "Force scale",
       "layout": "IPY_MODEL_c4684cfb109a43f0afb164bbdaf22020",
       "step": 0.1,
       "style": "IPY_MODEL_9e8dcdabf04f4bb88f8a5c30808a1dc3",
       "value": 0.5
      }
     },
     "6143587ee96548ac9fee17018c47794c": {
      "model_module": "@jupyter-widgets/controls",
      "model_module_version": "1.5.0",
      "model_name": "SliderStyleModel",
      "state": {
       "description_width": ""
      }
     },
     "62f9f1e83579491f86b1bcafdcdc1e07": {
      "model_module": "@jupyter-widgets/controls",
      "model_module_version": "1.5.0",
      "model_name": "HBoxModel",
      "state": {
       "children": [
        "IPY_MODEL_0eef37d6231f4b99932f89a9aeb7d0ed",
        "IPY_MODEL_4c89c364f7ba4656ac03409370da8d51"
       ],
       "layout": "IPY_MODEL_c830371103734c09b875162a72909712"
      }
     },
     "63993d490f4c4b41bcd1d0ef638e46c7": {
      "model_module": "@jupyter-widgets/controls",
      "model_module_version": "1.5.0",
      "model_name": "LinkModel",
      "state": {
       "source": [
        "IPY_MODEL_9fb9cfe1f74f44bbb79b6bb9e4163c0a",
        "max"
       ],
       "target": [
        "IPY_MODEL_061858c4ca634ae0a1cf70432e4ba667",
        "max_frame"
       ]
      }
     },
     "6420b204360842a596962fe0c90bf436": {
      "model_module": "@jupyter-widgets/controls",
      "model_module_version": "1.5.0",
      "model_name": "LinkModel",
      "state": {
       "source": [
        "IPY_MODEL_e76c31e3354c412282f160a1c9bb0c1a",
        "max"
       ],
       "target": [
        "IPY_MODEL_23977554da934654ad14b7e489cd3c9e",
        "max_frame"
       ]
      }
     },
     "64ed4cf4438947e185531b1918bbdcaf": {
      "model_module": "@jupyter-widgets/base",
      "model_module_version": "1.2.0",
      "model_name": "LayoutModel",
      "state": {}
     },
     "6509f8f8554d4ac495d92652a28eb10c": {
      "model_module": "@jupyter-widgets/controls",
      "model_module_version": "1.5.0",
      "model_name": "SliderStyleModel",
      "state": {
       "description_width": ""
      }
     },
     "6599f863a95246dab385a7a2d7272c00": {
      "model_module": "@jupyter-widgets/base",
      "model_module_version": "1.2.0",
      "model_name": "LayoutModel",
      "state": {}
     },
     "65dc78ed4dfb4363ad6952bdbe847b8b": {
      "model_module": "@jupyter-widgets/base",
      "model_module_version": "1.2.0",
      "model_name": "LayoutModel",
      "state": {}
     },
     "66da1b4df5a14ac7ab8cbcb876845054": {
      "model_module": "@jupyter-widgets/controls",
      "model_module_version": "1.5.0",
      "model_name": "DropdownModel",
      "state": {
       "_options_labels": [
        "All",
        "Fe"
       ],
       "description": "Show",
       "index": 0,
       "layout": "IPY_MODEL_5588f6e0da3c4923bdf2e887cd22340c",
       "style": "IPY_MODEL_901c00235c9c45bc99b298ee01a56221"
      }
     },
     "66f623b585464ce38cf8076f99eaaa23": {
      "model_module": "@jupyter-widgets/base",
      "model_module_version": "1.2.0",
      "model_name": "LayoutModel",
      "state": {}
     },
     "6718ac7460014548ae55d0735a091b0f": {
      "model_module": "@jupyter-widgets/base",
      "model_module_version": "1.2.0",
      "model_name": "LayoutModel",
      "state": {}
     },
     "6763c802e5b04e3cbb2b8f6388eb4e36": {
      "model_module": "@jupyter-widgets/controls",
      "model_module_version": "1.5.0",
      "model_name": "PlayModel",
      "state": {
       "layout": "IPY_MODEL_37fc613202b3469c9dd5571b70449aea",
       "max": 0,
       "style": "IPY_MODEL_164a6d8956c143709e49e8e1a3fe7742"
      }
     },
     "69a6bd5fce7540cda3dc2c300f0adfe5": {
      "model_module": "@jupyter-widgets/controls",
      "model_module_version": "1.5.0",
      "model_name": "SliderStyleModel",
      "state": {
       "description_width": ""
      }
     },
     "6a9e7045722c4f9d9de1b95e47e7759f": {
      "model_module": "@jupyter-widgets/base",
      "model_module_version": "1.2.0",
      "model_name": "LayoutModel",
      "state": {}
     },
     "6c19e396f12642b2a947fced291fd6a4": {
      "model_module": "@jupyter-widgets/controls",
      "model_module_version": "1.5.0",
      "model_name": "ImageModel",
      "state": {
       "layout": "IPY_MODEL_3e0d90ca04434ef8b0a9de9684dc6263",
       "width": "900.0"
      }
     },
     "6cb7cb90a5864269a2223f07d26af435": {
      "model_module": "@jupyter-widgets/base",
      "model_module_version": "1.2.0",
      "model_name": "LayoutModel",
      "state": {}
     },
     "6d3a57bbea2b41fda7f28a9d172811ab": {
      "model_module": "@jupyter-widgets/base",
      "model_module_version": "1.2.0",
      "model_name": "LayoutModel",
      "state": {}
     },
     "6d5a61f2c79b4a47865122be10432b7f": {
      "model_module": "@jupyter-widgets/controls",
      "model_module_version": "1.5.0",
      "model_name": "IntSliderModel",
      "state": {
       "layout": "IPY_MODEL_9f30866163ab41009bbf01e2ce3f953d",
       "max": 0,
       "style": "IPY_MODEL_6509f8f8554d4ac495d92652a28eb10c"
      }
     },
     "6da8881cace94d13a047f0551e8c9ea8": {
      "model_module": "@jupyter-widgets/base",
      "model_module_version": "1.2.0",
      "model_name": "LayoutModel",
      "state": {}
     },
     "6e591c88ded940c6b59a4fd3bb6fae03": {
      "model_module": "@jupyter-widgets/controls",
      "model_module_version": "1.5.0",
      "model_name": "IntSliderModel",
      "state": {
       "layout": "IPY_MODEL_aaba854da25c4eccae6e03fd11593cd4",
       "max": 0,
       "style": "IPY_MODEL_d2b710c3e9144dea8bccf9958c96b501"
      }
     },
     "6e9b1f25017c4e519d4234d942e9c71b": {
      "model_module": "@jupyter-widgets/base",
      "model_module_version": "1.2.0",
      "model_name": "LayoutModel",
      "state": {}
     },
     "6eee12c6f6284d51ab83d0a264b1c0e7": {
      "model_module": "@jupyter-widgets/base",
      "model_module_version": "1.2.0",
      "model_name": "LayoutModel",
      "state": {
       "width": "34px"
      }
     },
     "6f01b11775b54604b37c51d0ecfc038e": {
      "model_module": "@jupyter-widgets/base",
      "model_module_version": "1.2.0",
      "model_name": "LayoutModel",
      "state": {}
     },
     "6f89a7261455482b94b51882197e5354": {
      "model_module": "@jupyter-widgets/base",
      "model_module_version": "1.2.0",
      "model_name": "LayoutModel",
      "state": {}
     },
     "704655cf60144ba1a65a629b60f6dd8c": {
      "model_module": "@jupyter-widgets/controls",
      "model_module_version": "1.5.0",
      "model_name": "DescriptionStyleModel",
      "state": {
       "description_width": ""
      }
     },
     "71e51d0599444c70920403cfcadb29ac": {
      "model_module": "@jupyter-widgets/controls",
      "model_module_version": "1.5.0",
      "model_name": "DescriptionStyleModel",
      "state": {
       "description_width": ""
      }
     },
     "7215c3a782eb488199fe9d8642662089": {
      "model_module": "@jupyter-widgets/controls",
      "model_module_version": "1.5.0",
      "model_name": "DescriptionStyleModel",
      "state": {
       "description_width": ""
      }
     },
     "729359d583e74d969a9b922ea0eabebb": {
      "model_module": "@jupyter-widgets/controls",
      "model_module_version": "1.5.0",
      "model_name": "DescriptionStyleModel",
      "state": {
       "description_width": ""
      }
     },
     "72ce3919fc54475c8269ca233fa5e632": {
      "model_module": "@jupyter-widgets/base",
      "model_module_version": "1.2.0",
      "model_name": "LayoutModel",
      "state": {
       "border": "0px solid black"
      }
     },
     "72dbf8968869430b8b265be9c9a16984": {
      "model_module": "@jupyter-widgets/controls",
      "model_module_version": "1.5.0",
      "model_name": "CheckboxModel",
      "state": {
       "description": "Show charge",
       "disabled": false,
       "layout": "IPY_MODEL_be499ca37f12481eb59c226c5a23e43c",
       "style": "IPY_MODEL_e975d5f9506b4d9aac84ce7ec7a07e47",
       "value": false
      }
     },
     "734c278226944880b45be1cb89f7c1b2": {
      "model_module": "@jupyter-widgets/base",
      "model_module_version": "1.2.0",
      "model_name": "LayoutModel",
      "state": {
       "width": "34px"
      }
     },
     "74367ae476894670b45e5d6ad7af6224": {
      "model_module": "@jupyter-widgets/controls",
      "model_module_version": "1.5.0",
      "model_name": "DescriptionStyleModel",
      "state": {
       "description_width": ""
      }
     },
     "7524d553176d45aeb5075a762ee02393": {
      "model_module": "@jupyter-widgets/controls",
      "model_module_version": "1.5.0",
      "model_name": "ButtonStyleModel",
      "state": {}
     },
     "7530d2415c504a0b819b2ebbeb715e05": {
      "model_module": "@jupyter-widgets/controls",
      "model_module_version": "1.5.0",
      "model_name": "ButtonStyleModel",
      "state": {}
     },
     "7551fe67b6a04789a71cd3b2c899197b": {
      "model_module": "@jupyter-widgets/controls",
      "model_module_version": "1.5.0",
      "model_name": "IntSliderModel",
      "state": {
       "layout": "IPY_MODEL_7c0f4ed445ca42178c5319ea86349e96",
       "max": 0,
       "style": "IPY_MODEL_3845a690583d4306a59fc3dac6130225"
      }
     },
     "75c6b08776a44b6aab3918602f69ce5a": {
      "model_module": "@jupyter-widgets/controls",
      "model_module_version": "1.5.0",
      "model_name": "TextModel",
      "state": {
       "description": "Filename: ",
       "layout": "IPY_MODEL_b8e3f17ead7849d7a00a33dfd984a972",
       "style": "IPY_MODEL_df26b274ac4f4dfda2360451ca1b1e8c",
       "value": "screenshot.png"
      }
     },
     "7629001abd9a4291ac951a107bf4bd85": {
      "model_module": "@jupyter-widgets/base",
      "model_module_version": "1.2.0",
      "model_name": "LayoutModel",
      "state": {}
     },
     "76870aa55b46428d862bc4c049037aff": {
      "model_module": "@jupyter-widgets/controls",
      "model_module_version": "1.5.0",
      "model_name": "HBoxModel",
      "state": {
       "children": [
        "IPY_MODEL_5b838ae0b4fa472da40bc7f1f051b05d",
        "IPY_MODEL_bb3982ecd39d4a709d3cf0b757430afa"
       ],
       "layout": "IPY_MODEL_1c9ee52ee1744491978d32ddf839feef"
      }
     },
     "768ff63ccd4a4f80a3b542c39fc54c77": {
      "model_module": "@jupyter-widgets/controls",
      "model_module_version": "1.5.0",
      "model_name": "LinkModel",
      "state": {
       "source": [
        "IPY_MODEL_15bf3446e11f4936b15370b798165170",
        "max"
       ],
       "target": [
        "IPY_MODEL_4dae4b50ebbe4599a6ecbf0a32cd2d32",
        "max_frame"
       ]
      }
     },
     "7696d5273d0e44d88075d8d1ae1cf596": {
      "model_module": "@jupyter-widgets/controls",
      "model_module_version": "1.5.0",
      "model_name": "ButtonStyleModel",
      "state": {}
     },
     "76e87bc0873444d2867a4bf5476e648a": {
      "model_module": "@jupyter-widgets/controls",
      "model_module_version": "1.5.0",
      "model_name": "ImageModel",
      "state": {
       "layout": "IPY_MODEL_4e157443fcf7466e9ddd891ae26db1c6",
       "width": "900.0"
      }
     },
     "770486165e6a4321ac653d0b8ac65266": {
      "model_module": "@jupyter-widgets/base",
      "model_module_version": "1.2.0",
      "model_name": "LayoutModel",
      "state": {}
     },
     "778e5960ec104ab49be3f65f29695398": {
      "model_module": "@jupyter-widgets/controls",
      "model_module_version": "1.5.0",
      "model_name": "ButtonStyleModel",
      "state": {}
     },
     "783346dbdb39491cb53473eec778acac": {
      "model_module": "@jupyter-widgets/controls",
      "model_module_version": "1.5.0",
      "model_name": "TextModel",
      "state": {
       "description": "Filename: ",
       "layout": "IPY_MODEL_5fbb1b83fdac49968da04ff0ba8b170a",
       "style": "IPY_MODEL_56ce2ef0c04d4c848f6ce54f6f5f34ce",
       "value": "screenshot.png"
      }
     },
     "786dd3a200c64ef9866520c7f4a988ee": {
      "model_module": "@jupyter-widgets/controls",
      "model_module_version": "1.5.0",
      "model_name": "HBoxModel",
      "state": {
       "children": [
        "IPY_MODEL_961689801f9145459c40509384ec9c53",
        "IPY_MODEL_a01c8dbe00d44bc4a2b14b82dc9b9b06"
       ],
       "layout": "IPY_MODEL_c2f5d29a83474918a6f55ba9d8f74505"
      }
     },
     "788d6f5c9ce543d887bd904e82211460": {
      "model_module": "@jupyter-widgets/controls",
      "model_module_version": "1.5.0",
      "model_name": "HBoxModel",
      "state": {
       "children": [
        "IPY_MODEL_3dbd0e6f9f334fbcbe3010e7774f0b34",
        "IPY_MODEL_13fbddd6478d4aab91afb66c0f9ff7f0"
       ],
       "layout": "IPY_MODEL_98a2dbb63981468ba801cb31b192e219"
      }
     },
     "7913f022ccb84a4c84078895ff487e42": {
      "model_module": "@jupyter-widgets/controls",
      "model_module_version": "1.5.0",
      "model_name": "ButtonStyleModel",
      "state": {}
     },
     "7a11a626a3f74e6fbfbce9dcc32eded0": {
      "model_module": "@jupyter-widgets/controls",
      "model_module_version": "1.5.0",
      "model_name": "DropdownModel",
      "state": {
       "_options_labels": [
        " ",
        "picking",
        "random",
        "uniform",
        "atomindex",
        "residueindex",
        "chainindex",
        "modelindex",
        "sstruc",
        "element",
        "resname",
        "bfactor",
        "hydrophobicity",
        "value",
        "volume",
        "occupancy"
       ],
       "description": "Color scheme",
       "index": 9,
       "layout": "IPY_MODEL_607b5dc0a6844a0db49f0e7553a8a82c",
       "style": "IPY_MODEL_c70e2b4a855246b6a569b5b74b9a03c9"
      }
     },
     "7a4edb75bdfa4b1f8ed6d23f6544b758": {
      "model_module": "@jupyter-widgets/base",
      "model_module_version": "1.2.0",
      "model_name": "LayoutModel",
      "state": {}
     },
     "7a9334338c41459e8c85156bfff0a546": {
      "model_module": "@jupyter-widgets/output",
      "model_module_version": "1.0.0",
      "model_name": "OutputModel",
      "state": {
       "layout": "IPY_MODEL_0785ea76b98b496a87370fa5dd5945f3"
      }
     },
     "7af13cc25d6c4389a00addbf29268649": {
      "model_module": "@jupyter-widgets/base",
      "model_module_version": "1.2.0",
      "model_name": "LayoutModel",
      "state": {}
     },
     "7b7261497bfe44228ce2de32a12e667d": {
      "model_module": "@jupyter-widgets/controls",
      "model_module_version": "1.5.0",
      "model_name": "LinkModel",
      "state": {
       "source": [
        "IPY_MODEL_09a4d44e5ad34ff7b6cc6e5414c494bd",
        "max"
       ],
       "target": [
        "IPY_MODEL_8e844daad3494b18a41d725001c19c99",
        "max_frame"
       ]
      }
     },
     "7bedc5dd5bad40db891919459e25721f": {
      "model_module": "@jupyter-widgets/base",
      "model_module_version": "1.2.0",
      "model_name": "LayoutModel",
      "state": {}
     },
     "7c0f4ed445ca42178c5319ea86349e96": {
      "model_module": "@jupyter-widgets/base",
      "model_module_version": "1.2.0",
      "model_name": "LayoutModel",
      "state": {}
     },
     "7cb6f63eba044512a891ed113b617eff": {
      "model_module": "@jupyter-widgets/controls",
      "model_module_version": "1.5.0",
      "model_name": "HBoxModel",
      "state": {
       "children": [
        "IPY_MODEL_e23e86d105be431f97911d69ec4a8179",
        "IPY_MODEL_cac0ca9cb3554d1db64e0808756357d4"
       ],
       "layout": "IPY_MODEL_58370db1a90c4823bf5c4652e94d7f23"
      }
     },
     "7ccf9a2fcf9648019ed0a7aefcddda6d": {
      "model_module": "@jupyter-widgets/controls",
      "model_module_version": "1.5.0",
      "model_name": "ButtonModel",
      "state": {
       "icon": "compress",
       "layout": "IPY_MODEL_21fd4ed20bfe4f13b6eed9f8fb5f40f3",
       "style": "IPY_MODEL_ba5cb1891fa5497991c8506d58b3b04e"
      }
     },
     "7cf2e56ccdc041d2a0f0fb82b31aaf81": {
      "model_module": "@jupyter-widgets/controls",
      "model_module_version": "1.5.0",
      "model_name": "LinkModel",
      "state": {
       "source": [
        "IPY_MODEL_6763c802e5b04e3cbb2b8f6388eb4e36",
        "value"
       ],
       "target": [
        "IPY_MODEL_09a4d44e5ad34ff7b6cc6e5414c494bd",
        "value"
       ]
      }
     },
     "7e8fcdbd20794583befee2bbedf97c19": {
      "model_module": "@jupyter-widgets/controls",
      "model_module_version": "1.5.0",
      "model_name": "DropdownModel",
      "state": {
       "_options_labels": [
        "All",
        "Na",
        "Cl"
       ],
       "description": "Show",
       "index": 0,
       "layout": "IPY_MODEL_7a4edb75bdfa4b1f8ed6d23f6544b758",
       "style": "IPY_MODEL_8c1c9b0ad8fd4398a488b13b54a8c8a6"
      }
     },
     "7ebab734066f4873b09d48b5b59fc515": {
      "model_module": "@jupyter-widgets/base",
      "model_module_version": "1.2.0",
      "model_name": "LayoutModel",
      "state": {
       "border": "0px solid black"
      }
     },
     "7f29386ce37845c7b71b60eacbb85ea6": {
      "model_module": "@jupyter-widgets/controls",
      "model_module_version": "1.5.0",
      "model_name": "ImageModel",
      "state": {
       "layout": "IPY_MODEL_cd03c00075ee4882ade19b0448252aee",
       "width": "900.0"
      }
     },
     "7f7ffc494bec4ef4894ead119bfde7aa": {
      "model_module": "@jupyter-widgets/controls",
      "model_module_version": "1.5.0",
      "model_name": "CheckboxModel",
      "state": {
       "description": "Show charge",
       "disabled": false,
       "layout": "IPY_MODEL_3691d21e41a14c3d82972f4e7c06cdc6",
       "style": "IPY_MODEL_ea1ed236235a464e97a0f8f8a8596552",
       "value": false
      }
     },
     "80a6c1d714544f27b6517c68bc4a3c7a": {
      "model_module": "@jupyter-widgets/base",
      "model_module_version": "1.2.0",
      "model_name": "LayoutModel",
      "state": {}
     },
     "84782c85501d460b90c7064689b6a319": {
      "model_module": "@jupyter-widgets/output",
      "model_module_version": "1.0.0",
      "model_name": "OutputModel",
      "state": {
       "layout": "IPY_MODEL_b7367232063f49e6bce682e6179d16c7"
      }
     },
     "84795dd322e94f02afd1d31a3cdb4a39": {
      "model_module": "@jupyter-widgets/base",
      "model_module_version": "1.2.0",
      "model_name": "LayoutModel",
      "state": {}
     },
     "849b61703fa54ae39ecdb1761f69452b": {
      "model_module": "@jupyter-widgets/controls",
      "model_module_version": "1.5.0",
      "model_name": "ButtonStyleModel",
      "state": {}
     },
     "84cb9ed708f84d2fa02589023108792b": {
      "model_module": "@jupyter-widgets/controls",
      "model_module_version": "1.5.0",
      "model_name": "LinkModel",
      "state": {
       "source": [
        "IPY_MODEL_cac0ca9cb3554d1db64e0808756357d4",
        "max"
       ],
       "target": [
        "IPY_MODEL_ee80931adf794c02849c7d81c8cc0f8e",
        "max_frame"
       ]
      }
     },
     "852a735b231d41b29579f4a6cab4278e": {
      "model_module": "@jupyter-widgets/base",
      "model_module_version": "1.2.0",
      "model_name": "LayoutModel",
      "state": {}
     },
     "85be43f4a01e4f2690be3849644cbacb": {
      "model_module": "@jupyter-widgets/controls",
      "model_module_version": "1.5.0",
      "model_name": "ImageModel",
      "state": {
       "layout": "IPY_MODEL_8ab2027356274bc195a38c006471abd0",
       "width": "900.0"
      }
     },
     "86e917601dd84870918ae390deb75638": {
      "model_module": "@jupyter-widgets/base",
      "model_module_version": "1.2.0",
      "model_name": "LayoutModel",
      "state": {}
     },
     "874a919b8cd14a85b50243471e696425": {
      "model_module": "@jupyter-widgets/controls",
      "model_module_version": "1.5.0",
      "model_name": "HBoxModel",
      "state": {
       "children": [
        "IPY_MODEL_327e170ed65340bd8b3d658337d98145",
        "IPY_MODEL_e55212f2d66f471292f5167fc4205470"
       ],
       "layout": "IPY_MODEL_d6909d3ce6a84597bda67d2efaa5c146"
      }
     },
     "87ed7620045f459695126391a373cf62": {
      "model_module": "@jupyter-widgets/base",
      "model_module_version": "1.2.0",
      "model_name": "LayoutModel",
      "state": {}
     },
     "8859767346654d68a0715d3ad02bd0f4": {
      "model_module": "@jupyter-widgets/controls",
      "model_module_version": "1.5.0",
      "model_name": "CheckboxModel",
      "state": {
       "description": "Show charge",
       "disabled": false,
       "layout": "IPY_MODEL_ed49e2f238484c4f969c5140ba0ae42c",
       "style": "IPY_MODEL_aaf05582588745acab16d02260eacfa7",
       "value": false
      }
     },
     "888cd389e5c84995a68799bdc04ad780": {
      "model_module": "@jupyter-widgets/controls",
      "model_module_version": "1.5.0",
      "model_name": "DescriptionStyleModel",
      "state": {
       "description_width": ""
      }
     },
     "88df65a957124d79ba4ac30080b248a2": {
      "model_module": "@jupyter-widgets/controls",
      "model_module_version": "1.5.0",
      "model_name": "VBoxModel",
      "state": {
       "children": [
        "IPY_MODEL_453f58b51d094f1887d138edb71b706f",
        "IPY_MODEL_9b8e48ab1e204c8293d301a6f88287ea",
        "IPY_MODEL_ef0bd28176f748518cfa89876f5a193c",
        "IPY_MODEL_1aa4f73425c6440ea8c158c107e908fd",
        "IPY_MODEL_affe93ba7545451783175f7e6571c6e8",
        "IPY_MODEL_535a9d85833e4b6e9582d775389f1984",
        "IPY_MODEL_613da7c0f57940749a7d938c18948489",
        "IPY_MODEL_df789fef88e44f4f92565ddcef95218d",
        "IPY_MODEL_f403a17380774bc09445389aab1f893e",
        "IPY_MODEL_0ea7648b55dd4aebb07c447a8cc2efb4"
       ],
       "layout": "IPY_MODEL_4ceaf42f6da041cca956eb682101a960"
      }
     },
     "8ab2027356274bc195a38c006471abd0": {
      "model_module": "@jupyter-widgets/base",
      "model_module_version": "1.2.0",
      "model_name": "LayoutModel",
      "state": {}
     },
     "8ad586be959147b5a3812f3999796762": {
      "model_module": "@jupyter-widgets/base",
      "model_module_version": "1.2.0",
      "model_name": "LayoutModel",
      "state": {
       "border": "0px solid black"
      }
     },
     "8ae403a2fecd4f4aa3b2f9c4b008d6bc": {
      "model_module": "@jupyter-widgets/controls",
      "model_module_version": "1.5.0",
      "model_name": "DescriptionStyleModel",
      "state": {
       "description_width": ""
      }
     },
     "8b77acddfceb4fa6914d164026c41daf": {
      "model_module": "@jupyter-widgets/base",
      "model_module_version": "1.2.0",
      "model_name": "LayoutModel",
      "state": {}
     },
     "8c1c9b0ad8fd4398a488b13b54a8c8a6": {
      "model_module": "@jupyter-widgets/controls",
      "model_module_version": "1.5.0",
      "model_name": "DescriptionStyleModel",
      "state": {
       "description_width": ""
      }
     },
     "8d6be87b9fa443d4a4f37186b94e35a1": {
      "model_module": "@jupyter-widgets/base",
      "model_module_version": "1.2.0",
      "model_name": "LayoutModel",
      "state": {}
     },
     "8e1c212753ca40099aed667b40170620": {
      "model_module": "@jupyter-widgets/base",
      "model_module_version": "1.2.0",
      "model_name": "LayoutModel",
      "state": {}
     },
     "8e2bba74e51c43ff9216dc3f4c1f26be": {
      "model_module": "@jupyter-widgets/controls",
      "model_module_version": "1.5.0",
      "model_name": "FloatSliderModel",
      "state": {
       "description": "Ball size",
       "layout": "IPY_MODEL_0e6e58c0c5d14f708d24fbd58eeeec51",
       "max": 1.5,
       "step": 0.01,
       "style": "IPY_MODEL_d817e96909e94ee6a943787111b410cb",
       "value": 0.5
      }
     },
     "8e7b02fa775b4122bd179b6d2fc309d8": {
      "model_module": "@jupyter-widgets/base",
      "model_module_version": "1.2.0",
      "model_name": "LayoutModel",
      "state": {}
     },
     "8e844daad3494b18a41d725001c19c99": {
      "model_module": "nglview-js-widgets",
      "model_module_version": "3.0.1",
      "model_name": "NGLModel",
      "state": {
       "_camera_orientation": [
        6.538997632907795,
        0,
        0,
        0,
        0,
        6.538997632907795,
        0,
        0,
        0,
        0,
        6.538997632907795,
        0,
        -0.7174999713897705,
        -0.7174999713897705,
        -0.7174999713897705,
        1
       ],
       "_camera_str": "orthographic",
       "_gui_theme": null,
       "_ibtn_fullscreen": "IPY_MODEL_14b2a522a34945bbabdc7dcf47b6ede7",
       "_igui": null,
       "_iplayer": "IPY_MODEL_b1d631029f7845a9a6fdb325d29d47b5",
       "_ngl_color_dict": {},
       "_ngl_coordinate_resource": {},
       "_ngl_full_stage_parameters": {
        "ambientColor": 14540253,
        "ambientIntensity": 0.2,
        "backgroundColor": "white",
        "cameraEyeSep": 0.3,
        "cameraFov": 40,
        "cameraType": "orthographic",
        "clipDist": 0,
        "clipFar": 100,
        "clipNear": 0,
        "fogFar": 100,
        "fogNear": 50,
        "hoverTimeout": 0,
        "impostor": true,
        "lightColor": 14540253,
        "lightIntensity": 1,
        "mousePreset": "default",
        "panSpeed": 1,
        "quality": "medium",
        "rotateSpeed": 2,
        "sampleLevel": 0,
        "tooltip": true,
        "workerDefault": true,
        "zoomSpeed": 1.2
       },
       "_ngl_msg_archive": [
        {
         "args": [
          {
           "binary": false,
           "data": "CRYST1    2.870    2.870    2.870  90.00  90.00  90.00 P 1\nMODEL     1\nATOM      1   Fe MOL     1       0.000   0.000   0.000  1.00  0.00          FE  \nATOM      2   Fe MOL     1       1.435   1.435   1.435  1.00  0.00          FE  \nENDMDL\n",
           "type": "blob"
          }
         ],
         "kwargs": {
          "defaultRepresentation": false,
          "ext": "pdb"
         },
         "methodName": "loadFile",
         "reconstruc_color_scheme": false,
         "target": "Stage",
         "type": "call_method"
        },
        {
         "args": [
          "400px",
          "300px"
         ],
         "kwargs": {},
         "methodName": "setSize",
         "reconstruc_color_scheme": false,
         "target": "Widget",
         "type": "call_method"
        },
        {
         "args": [
          "unitcell"
         ],
         "component_index": 0,
         "kwargs": {
          "sele": "all"
         },
         "methodName": "addRepresentation",
         "reconstruc_color_scheme": false,
         "target": "compList",
         "type": "call_method"
        },
        {
         "args": [
          "spacefill"
         ],
         "component_index": 0,
         "kwargs": {
          "sele": "all"
         },
         "methodName": "addRepresentation",
         "reconstruc_color_scheme": false,
         "target": "compList",
         "type": "call_method"
        },
        {
         "args": [],
         "kwargs": {
          "cameraType": "orthographic"
         },
         "methodName": "setParameters",
         "reconstruc_color_scheme": false,
         "target": "Stage",
         "type": "call_method"
        },
        {
         "args": [
          {
           "clipDist": 0
          }
         ],
         "kwargs": {},
         "methodName": "setParameters",
         "reconstruc_color_scheme": false,
         "target": "Widget",
         "type": "call_method"
        },
        {
         "args": [
          "spacefill",
          0
         ],
         "kwargs": {
          "colorScale": "rainbow",
          "colorScheme": "element",
          "radiusScale": 0.5,
          "radiusType": "covalent"
         },
         "methodName": "updateRepresentationsByName",
         "reconstruc_color_scheme": false,
         "target": "Widget",
         "type": "call_method"
        },
        {
         "args": [
          "this._Q = [[1.0, 0.0, 0.0], [0.0, 1.0, 0.0], [0.0, 0.0, 1.0]]\n    var tooltip = document.createElement('div');\n    Object.assign(tooltip.style, {\n      display: 'none',\n      position: 'fixed',\n      zIndex: 10,\n      pointerEvents: 'none',\n      backgroundColor: 'rgba( 0, 0, 0, 0.6 )',\n      color: 'lightgrey',\n      padding: '8px',\n      fontFamily: 'sans-serif'\n    });\n    document.body.appendChild(tooltip);\n\n    var that = this;\n    this.stage.mouseControls.remove('hoverPick');\n    this.stage.signals.hovered.add(function (pickingProxy) {\n      if (pickingProxy && (pickingProxy.atom || pickingProxy.bond)) {\n        var atom = pickingProxy.atom || pickingProxy.closestBondAtom\n        var mp = pickingProxy.mouse.position\n        //tooltip.innerText = atom.element + ' i=' + atom.index + ' (' + atom.x.toFixed(2) +  ', ' + atom.y.toFixed(2) +  ', ' + atom.z.toFixed(2) + ')'\n        //var pos = that._atoms_pos[atom.index]\n        var Q = that._Q\n        var pos_x = Q[0][0] * atom.x + Q[0][1] * atom.y + Q[0][2] * atom.z \n        var pos_y = Q[1][0] * atom.x + Q[1][1] * atom.y + Q[1][2] * atom.z\n        var pos_z = Q[2][0] * atom.x + Q[2][1] * atom.y + Q[2][2] * atom.z\n        tooltip.innerText = 'i=' + atom.index + ' ' + atom.element + ' (' + pos_x.toFixed(2) +  ', ' + pos_y.toFixed(2) +  ', ' + pos_z.toFixed(2) + ')'\n        tooltip.style.bottom = window.innerHeight - mp.y + 3 + 'px'\n        tooltip.style.left = mp.x + 3 + 'px'\n        tooltip.style.display = 'block'\n      } else {\n        tooltip.style.display = 'none'\n      }\n    });\n    this.stage.tooltip = tooltip;\n    "
         ],
         "kwargs": {},
         "methodName": "executeCode",
         "reconstruc_color_scheme": false,
         "target": "Widget",
         "type": "call_method"
        }
       ],
       "_ngl_original_stage_parameters": {
        "ambientColor": 14540253,
        "ambientIntensity": 0.2,
        "backgroundColor": "white",
        "cameraEyeSep": 0.3,
        "cameraFov": 40,
        "cameraType": "perspective",
        "clipDist": 10,
        "clipFar": 100,
        "clipNear": 0,
        "fogFar": 100,
        "fogNear": 50,
        "hoverTimeout": 0,
        "impostor": true,
        "lightColor": 14540253,
        "lightIntensity": 1,
        "mousePreset": "default",
        "panSpeed": 1,
        "quality": "medium",
        "rotateSpeed": 2,
        "sampleLevel": 0,
        "tooltip": true,
        "workerDefault": true,
        "zoomSpeed": 1.2
       },
       "_ngl_repr_dict": {
        "0": {
         "0": {
          "params": {
           "clipCenter": {
            "x": 0,
            "y": 0,
            "z": 0
           },
           "clipNear": 0,
           "clipRadius": 0,
           "colorMode": "hcl",
           "colorReverse": false,
           "colorScale": "",
           "colorScheme": "element",
           "colorValue": "orange",
           "defaultAssembly": "",
           "depthWrite": true,
           "diffuse": 16777215,
           "diffuseInterior": false,
           "disableImpostor": false,
           "disablePicking": false,
           "flatShaded": false,
           "interiorColor": 2236962,
           "interiorDarkening": 0,
           "lazy": false,
           "matrix": {
            "elements": [
             1,
             0,
             0,
             0,
             0,
             1,
             0,
             0,
             0,
             0,
             1,
             0,
             0,
             0,
             0,
             1
            ]
           },
           "metalness": 0,
           "opacity": 1,
           "quality": "medium",
           "radialSegments": 10,
           "radiusData": {},
           "radiusScale": 1,
           "radiusSize": 0.014349999370090754,
           "radiusType": "vdw",
           "roughness": 0.4,
           "sele": "all",
           "side": "double",
           "sphereDetail": 1,
           "useInteriorColor": true,
           "visible": true,
           "wireframe": false
          },
          "type": "unitcell"
         },
         "1": {
          "params": {
           "assembly": "default",
           "clipCenter": {
            "x": 0,
            "y": 0,
            "z": 0
           },
           "clipNear": 0,
           "clipRadius": 0,
           "colorMode": "hcl",
           "colorReverse": false,
           "colorScale": "rainbow",
           "colorScheme": "element",
           "colorValue": 9474192,
           "defaultAssembly": "",
           "depthWrite": true,
           "diffuse": 16777215,
           "diffuseInterior": false,
           "disableImpostor": false,
           "disablePicking": false,
           "flatShaded": false,
           "interiorColor": 2236962,
           "interiorDarkening": 0,
           "lazy": false,
           "matrix": {
            "elements": [
             1,
             0,
             0,
             0,
             0,
             1,
             0,
             0,
             0,
             0,
             1,
             0,
             0,
             0,
             0,
             1
            ]
           },
           "metalness": 0,
           "opacity": 1,
           "quality": "medium",
           "radiusData": {},
           "radiusScale": 0.5,
           "radiusSize": 1,
           "radiusType": "covalent",
           "roughness": 0.4,
           "sele": "all",
           "side": "double",
           "sphereDetail": 1,
           "useInteriorColor": true,
           "visible": true,
           "wireframe": false
          },
          "type": "spacefill"
         }
        }
       },
       "_ngl_serialize": false,
       "_ngl_version": "2.0.0-dev.36",
       "_ngl_view_id": [
        "59E0D42A-3C4C-4374-BE7C-ECFF9B0ADD5E"
       ],
       "_player_dict": {},
       "_scene_position": {},
       "_scene_rotation": {},
       "_synced_model_ids": [],
       "_synced_repr_model_ids": [],
       "_view_height": "",
       "_view_width": "",
       "background": "white",
       "frame": 0,
       "gui_style": null,
       "layout": "IPY_MODEL_6cb7cb90a5864269a2223f07d26af435",
       "max_frame": 0,
       "n_components": 1,
       "picked": {}
      }
     },
     "8edb4503504147fab6c5a54599d4c582": {
      "model_module": "@jupyter-widgets/base",
      "model_module_version": "1.2.0",
      "model_name": "LayoutModel",
      "state": {}
     },
     "8efbc5f41ee34d6280244f3ff39baa66": {
      "model_module": "@jupyter-widgets/base",
      "model_module_version": "1.2.0",
      "model_name": "LayoutModel",
      "state": {}
     },
     "8ffba74d68af4e7ea285714d818a615e": {
      "model_module": "@jupyter-widgets/controls",
      "model_module_version": "1.5.0",
      "model_name": "ButtonModel",
      "state": {
       "description": "Save image",
       "layout": "IPY_MODEL_0e629f37a2fe4919ae0f6a40ac439d41",
       "style": "IPY_MODEL_cffeee27bee0441490ec8130f3fe4978",
       "tooltip": "Save current frame to file.\nCurrently .png and .html are supported.\nIt takes a bit time, please be patient."
      }
     },
     "900308c6ccac4c8f88ea3fdfa5376bc6": {
      "model_module": "@jupyter-widgets/controls",
      "model_module_version": "1.5.0",
      "model_name": "ImageModel",
      "state": {
       "layout": "IPY_MODEL_b8465eba7db04bbcaacd5cd5ea829410",
       "width": "900.0"
      }
     },
     "901c00235c9c45bc99b298ee01a56221": {
      "model_module": "@jupyter-widgets/controls",
      "model_module_version": "1.5.0",
      "model_name": "DescriptionStyleModel",
      "state": {
       "description_width": ""
      }
     },
     "91a9e1c18f594ae6a2735a7f0bbf9f8e": {
      "model_module": "@jupyter-widgets/base",
      "model_module_version": "1.2.0",
      "model_name": "LayoutModel",
      "state": {}
     },
     "9378b951e5be4483981f579e85a3f286": {
      "model_module": "@jupyter-widgets/controls",
      "model_module_version": "1.5.0",
      "model_name": "FloatSliderModel",
      "state": {
       "description": "Force scale",
       "layout": "IPY_MODEL_35ce2308df094e0181387e6acc11a562",
       "step": 0.1,
       "style": "IPY_MODEL_bf4ae81e56c54ca5b8eefe93329b7aa4",
       "value": 0.5
      }
     },
     "941d90c72eed41a792379db1ea257d47": {
      "model_module": "@jupyter-widgets/controls",
      "model_module_version": "1.5.0",
      "model_name": "CheckboxModel",
      "state": {
       "description": "Show force",
       "disabled": false,
       "layout": "IPY_MODEL_6718ac7460014548ae55d0735a091b0f",
       "style": "IPY_MODEL_c8634d7948f240c4904b3b70abb3f6ac",
       "value": false
      }
     },
     "95180d9e276a4890bf69e2100b0e6834": {
      "model_module": "@jupyter-widgets/base",
      "model_module_version": "1.2.0",
      "model_name": "LayoutModel",
      "state": {}
     },
     "9526683ed57142339a59bf560b26808b": {
      "model_module": "@jupyter-widgets/controls",
      "model_module_version": "1.5.0",
      "model_name": "FloatSliderModel",
      "state": {
       "description": "Charge scale",
       "layout": "IPY_MODEL_f301696a70bb4a9bbe123cbaffd550fb",
       "step": 0.1,
       "style": "IPY_MODEL_9a9beb30096a4de093c8d538565f23b7",
       "value": 1
      }
     },
     "961689801f9145459c40509384ec9c53": {
      "model_module": "nglview-js-widgets",
      "model_module_version": "3.0.1",
      "model_name": "NGLModel",
      "state": {
       "_camera_orientation": [
        16.496526401152668,
        0.7166088454186668,
        10.291198263954634,
        0,
        -1.3899342105586685,
        19.38697450670773,
        0.8780521714932972,
        0,
        -10.222053259285715,
        -1.4796501235809691,
        16.48872147637272,
        0,
        0.8285001516342163,
        -0.5859998464584351,
        -3.0439999103546143,
        1
       ],
       "_camera_str": "orthographic",
       "_gui_theme": null,
       "_ibtn_fullscreen": "IPY_MODEL_9f99102422924147a7b63f820034db5f",
       "_igui": null,
       "_iplayer": "IPY_MODEL_2dae3e0269fe4d268ca044f03016dcd7",
       "_ngl_color_dict": {},
       "_ngl_coordinate_resource": {},
       "_ngl_full_stage_parameters": {
        "ambientColor": 14540253,
        "ambientIntensity": 0.2,
        "backgroundColor": "white",
        "cameraEyeSep": 0.3,
        "cameraFov": 40,
        "cameraType": "orthographic",
        "clipDist": 0,
        "clipFar": 100,
        "clipNear": 0,
        "fogFar": 100,
        "fogNear": 50,
        "hoverTimeout": 0,
        "impostor": true,
        "lightColor": 14540253,
        "lightIntensity": 1,
        "mousePreset": "default",
        "panSpeed": 1,
        "quality": "medium",
        "rotateSpeed": 2,
        "sampleLevel": 0,
        "tooltip": true,
        "workerDefault": true,
        "zoomSpeed": 1.2
       },
       "_ngl_msg_archive": [
        {
         "args": [
          {
           "binary": false,
           "data": "CRYST1    4.971    7.456    9.942 109.47 109.47 109.47 P 1\nMODEL     1\nATOM      1   Fe MOL     1       0.000   0.000   0.000  1.00  0.00          FE  \nATOM      2   Fe MOL     1      -0.828  -1.172   2.029  1.00  0.00          FE  \nATOM      3   Fe MOL     1      -1.657  -2.343   4.059  1.00  0.00          FE  \nATOM      4   Fe MOL     1      -2.485  -3.515   6.088  1.00  0.00          FE  \nATOM      5   Fe MOL     1      -0.828   2.343   0.000  1.00  0.00          FE  \nATOM      6   Fe MOL     1      -1.657   1.172   2.029  1.00  0.00          FE  \nATOM      7   Fe MOL     1      -2.485   0.000   4.059  1.00  0.00          FE  \nATOM      8   Fe MOL     1      -3.314  -1.172   6.088  1.00  0.00          FE  \nATOM      9   Fe MOL     1      -1.657   4.687   0.000  1.00  0.00          FE  \nATOM     10   Fe MOL     1      -2.485   3.515   2.029  1.00  0.00          FE  \nATOM     11   Fe MOL     1      -3.314   2.343   4.059  1.00  0.00          FE  \nATOM     12   Fe MOL     1      -4.142   1.172   6.088  1.00  0.00          FE  \nATOM     13   Fe MOL     1       2.485   0.000  -0.000  1.00  0.00          FE  \nATOM     14   Fe MOL     1       1.657  -1.172   2.029  1.00  0.00          FE  \nATOM     15   Fe MOL     1       0.828  -2.343   4.059  1.00  0.00          FE  \nATOM     16   Fe MOL     1       0.000  -3.515   6.088  1.00  0.00          FE  \nATOM     17   Fe MOL     1       1.657   2.343   0.000  1.00  0.00          FE  \nATOM     18   Fe MOL     1       0.828   1.172   2.029  1.00  0.00          FE  \nATOM     19   Fe MOL     1       0.000   0.000   4.059  1.00  0.00          FE  \nATOM     20   Fe MOL     1      -0.828  -1.172   6.088  1.00  0.00          FE  \nATOM     21   Fe MOL     1       0.828   4.687   0.000  1.00  0.00          FE  \nATOM     22   Fe MOL     1       0.000   3.515   2.029  1.00  0.00          FE  \nATOM     23   Fe MOL     1      -0.828   2.343   4.059  1.00  0.00          FE  \nATOM     24   Fe MOL     1      -1.657   1.172   6.088  1.00  0.00          FE  \nENDMDL\n",
           "type": "blob"
          }
         ],
         "kwargs": {
          "defaultRepresentation": false,
          "ext": "pdb"
         },
         "methodName": "loadFile",
         "reconstruc_color_scheme": false,
         "target": "Stage",
         "type": "call_method"
        },
        {
         "args": [
          "400px",
          "300px"
         ],
         "kwargs": {},
         "methodName": "setSize",
         "reconstruc_color_scheme": false,
         "target": "Widget",
         "type": "call_method"
        },
        {
         "args": [
          "unitcell"
         ],
         "component_index": 0,
         "kwargs": {
          "sele": "all"
         },
         "methodName": "addRepresentation",
         "reconstruc_color_scheme": false,
         "target": "compList",
         "type": "call_method"
        },
        {
         "args": [
          "spacefill"
         ],
         "component_index": 0,
         "kwargs": {
          "sele": "all"
         },
         "methodName": "addRepresentation",
         "reconstruc_color_scheme": false,
         "target": "compList",
         "type": "call_method"
        },
        {
         "args": [],
         "kwargs": {
          "cameraType": "orthographic"
         },
         "methodName": "setParameters",
         "reconstruc_color_scheme": false,
         "target": "Stage",
         "type": "call_method"
        },
        {
         "args": [
          {
           "clipDist": 0
          }
         ],
         "kwargs": {},
         "methodName": "setParameters",
         "reconstruc_color_scheme": false,
         "target": "Widget",
         "type": "call_method"
        },
        {
         "args": [
          "spacefill",
          0
         ],
         "kwargs": {
          "colorScale": "rainbow",
          "colorScheme": "element",
          "radiusScale": 0.5,
          "radiusType": "covalent"
         },
         "methodName": "updateRepresentationsByName",
         "reconstruc_color_scheme": false,
         "target": "Widget",
         "type": "call_method"
        },
        {
         "args": [
          "this._Q = [[-0.5773502691896257, 0.5773502691896257, 0.5773502691896257], [0.40824829046386313, -0.408248290463863, 0.8164965809277261], [0.7071067811865476, 0.7071067811865477, -2.6638240557478837e-16]]\n    var tooltip = document.createElement('div');\n    Object.assign(tooltip.style, {\n      display: 'none',\n      position: 'fixed',\n      zIndex: 10,\n      pointerEvents: 'none',\n      backgroundColor: 'rgba( 0, 0, 0, 0.6 )',\n      color: 'lightgrey',\n      padding: '8px',\n      fontFamily: 'sans-serif'\n    });\n    document.body.appendChild(tooltip);\n\n    var that = this;\n    this.stage.mouseControls.remove('hoverPick');\n    this.stage.signals.hovered.add(function (pickingProxy) {\n      if (pickingProxy && (pickingProxy.atom || pickingProxy.bond)) {\n        var atom = pickingProxy.atom || pickingProxy.closestBondAtom\n        var mp = pickingProxy.mouse.position\n        //tooltip.innerText = atom.element + ' i=' + atom.index + ' (' + atom.x.toFixed(2) +  ', ' + atom.y.toFixed(2) +  ', ' + atom.z.toFixed(2) + ')'\n        //var pos = that._atoms_pos[atom.index]\n        var Q = that._Q\n        var pos_x = Q[0][0] * atom.x + Q[0][1] * atom.y + Q[0][2] * atom.z \n        var pos_y = Q[1][0] * atom.x + Q[1][1] * atom.y + Q[1][2] * atom.z\n        var pos_z = Q[2][0] * atom.x + Q[2][1] * atom.y + Q[2][2] * atom.z\n        tooltip.innerText = 'i=' + atom.index + ' ' + atom.element + ' (' + pos_x.toFixed(2) +  ', ' + pos_y.toFixed(2) +  ', ' + pos_z.toFixed(2) + ')'\n        tooltip.style.bottom = window.innerHeight - mp.y + 3 + 'px'\n        tooltip.style.left = mp.x + 3 + 'px'\n        tooltip.style.display = 'block'\n      } else {\n        tooltip.style.display = 'none'\n      }\n    });\n    this.stage.tooltip = tooltip;\n    "
         ],
         "kwargs": {},
         "methodName": "executeCode",
         "reconstruc_color_scheme": false,
         "target": "Widget",
         "type": "call_method"
        }
       ],
       "_ngl_original_stage_parameters": {
        "ambientColor": 14540253,
        "ambientIntensity": 0.2,
        "backgroundColor": "white",
        "cameraEyeSep": 0.3,
        "cameraFov": 40,
        "cameraType": "perspective",
        "clipDist": 10,
        "clipFar": 100,
        "clipNear": 0,
        "fogFar": 100,
        "fogNear": 50,
        "hoverTimeout": 0,
        "impostor": true,
        "lightColor": 14540253,
        "lightIntensity": 1,
        "mousePreset": "default",
        "panSpeed": 1,
        "quality": "medium",
        "rotateSpeed": 2,
        "sampleLevel": 0,
        "tooltip": true,
        "workerDefault": true,
        "zoomSpeed": 1.2
       },
       "_ngl_repr_dict": {
        "0": {
         "0": {
          "params": {
           "clipCenter": {
            "x": 0,
            "y": 0,
            "z": 0
           },
           "clipNear": 0,
           "clipRadius": 0,
           "colorMode": "hcl",
           "colorReverse": false,
           "colorScale": "",
           "colorScheme": "element",
           "colorValue": "orange",
           "defaultAssembly": "",
           "depthWrite": true,
           "diffuse": 16777215,
           "diffuseInterior": false,
           "disableImpostor": false,
           "disablePicking": false,
           "flatShaded": false,
           "interiorColor": 2236962,
           "interiorDarkening": 0,
           "lazy": false,
           "matrix": {
            "elements": [
             1,
             0,
             0,
             0,
             0,
             1,
             0,
             0,
             0,
             0,
             1,
             0,
             0,
             0,
             0,
             1
            ]
           },
           "metalness": 0,
           "opacity": 1,
           "quality": "medium",
           "radialSegments": 10,
           "radiusData": {},
           "radiusScale": 1,
           "radiusSize": 0.03286151464600358,
           "radiusType": "vdw",
           "roughness": 0.4,
           "sele": "all",
           "side": "double",
           "sphereDetail": 1,
           "useInteriorColor": true,
           "visible": true,
           "wireframe": false
          },
          "type": "unitcell"
         },
         "1": {
          "params": {
           "assembly": "default",
           "clipCenter": {
            "x": 0,
            "y": 0,
            "z": 0
           },
           "clipNear": 0,
           "clipRadius": 0,
           "colorMode": "hcl",
           "colorReverse": false,
           "colorScale": "rainbow",
           "colorScheme": "element",
           "colorValue": 9474192,
           "defaultAssembly": "",
           "depthWrite": true,
           "diffuse": 16777215,
           "diffuseInterior": false,
           "disableImpostor": false,
           "disablePicking": false,
           "flatShaded": false,
           "interiorColor": 2236962,
           "interiorDarkening": 0,
           "lazy": false,
           "matrix": {
            "elements": [
             1,
             0,
             0,
             0,
             0,
             1,
             0,
             0,
             0,
             0,
             1,
             0,
             0,
             0,
             0,
             1
            ]
           },
           "metalness": 0,
           "opacity": 1,
           "quality": "medium",
           "radiusData": {},
           "radiusScale": 0.5,
           "radiusSize": 1,
           "radiusType": "covalent",
           "roughness": 0.4,
           "sele": "all",
           "side": "double",
           "sphereDetail": 1,
           "useInteriorColor": true,
           "visible": true,
           "wireframe": false
          },
          "type": "spacefill"
         }
        }
       },
       "_ngl_serialize": false,
       "_ngl_version": "2.0.0-dev.36",
       "_ngl_view_id": [
        "49E62E8C-E13D-46B3-8636-A2B2F774FB5D"
       ],
       "_player_dict": {},
       "_scene_position": {},
       "_scene_rotation": {},
       "_synced_model_ids": [],
       "_synced_repr_model_ids": [],
       "_view_height": "",
       "_view_width": "",
       "background": "white",
       "frame": 0,
       "gui_style": null,
       "layout": "IPY_MODEL_418cbd564c0840a8bbabd5d618ad24d0",
       "max_frame": 0,
       "n_components": 1,
       "picked": {}
      }
     },
     "9659c65b447e487fbd6ab2793139acf2": {
      "model_module": "@jupyter-widgets/controls",
      "model_module_version": "1.5.0",
      "model_name": "DescriptionStyleModel",
      "state": {
       "description_width": ""
      }
     },
     "96707bae58a34a5a9fa4871cec82a92d": {
      "model_module": "@jupyter-widgets/controls",
      "model_module_version": "1.5.0",
      "model_name": "ButtonStyleModel",
      "state": {}
     },
     "971b9039766b4010b596da0ab61a24bb": {
      "model_module": "@jupyter-widgets/controls",
      "model_module_version": "1.5.0",
      "model_name": "PlayModel",
      "state": {
       "layout": "IPY_MODEL_e2934fabe5444fd69356d3b6105ae1ae",
       "max": 0,
       "style": "IPY_MODEL_4754817d342c4360a202d2eb0017c614"
      }
     },
     "97c6e406a3f24cecaff06622d3ae262b": {
      "model_module": "@jupyter-widgets/controls",
      "model_module_version": "1.5.0",
      "model_name": "FloatSliderModel",
      "state": {
       "description": "Ball size",
       "layout": "IPY_MODEL_3c73367452684293bfc91951af3e7075",
       "max": 1.5,
       "step": 0.01,
       "style": "IPY_MODEL_23b1176653604a519a59a55938dbb3d6",
       "value": 0.5
      }
     },
     "97ffd462fe0047d6a598018cbe601f2a": {
      "model_module": "@jupyter-widgets/controls",
      "model_module_version": "1.5.0",
      "model_name": "CheckboxModel",
      "state": {
       "description": "Show force",
       "disabled": false,
       "layout": "IPY_MODEL_ecb634bbd27b46e281feccabc7ef8ad5",
       "style": "IPY_MODEL_084e58e1fc2f489babfff5dd1f07bc89",
       "value": false
      }
     },
     "98a2dbb63981468ba801cb31b192e219": {
      "model_module": "@jupyter-widgets/base",
      "model_module_version": "1.2.0",
      "model_name": "LayoutModel",
      "state": {}
     },
     "98c62cbf92e64bffa39c945deb686fc5": {
      "model_module": "@jupyter-widgets/base",
      "model_module_version": "1.2.0",
      "model_name": "LayoutModel",
      "state": {}
     },
     "99f88e1f97c04ce1a320409575d307c4": {
      "model_module": "@jupyter-widgets/controls",
      "model_module_version": "1.5.0",
      "model_name": "CheckboxModel",
      "state": {
       "description": "Show charge",
       "disabled": false,
       "layout": "IPY_MODEL_ab51ef1b6d274fa4892a60ef803e2bf4",
       "style": "IPY_MODEL_0cbea951833148f081711d86bb0aa3cf",
       "value": false
      }
     },
     "99f8af2b1c2844bfa978148deac90883": {
      "model_module": "@jupyter-widgets/controls",
      "model_module_version": "1.5.0",
      "model_name": "FloatSliderModel",
      "state": {
       "description": "Charge scale",
       "layout": "IPY_MODEL_218e620a1deb400994ade13f82b3526d",
       "step": 0.1,
       "style": "IPY_MODEL_c1d18ffb5b2547b4970e24e66c517ec2",
       "value": 1
      }
     },
     "9a308942292c4bd7811e0085f6fd0fb4": {
      "model_module": "@jupyter-widgets/controls",
      "model_module_version": "1.5.0",
      "model_name": "VBoxModel",
      "state": {
       "children": [
        "IPY_MODEL_7e8fcdbd20794583befee2bbedf97c19",
        "IPY_MODEL_04dd103fac5d49d983a175e75274f7a6",
        "IPY_MODEL_a24f8f6563954d72a391453c0da212e7",
        "IPY_MODEL_75c6b08776a44b6aab3918602f69ce5a",
        "IPY_MODEL_19f1f7ed6ebb4b7399d4c9b3431cb7fb",
        "IPY_MODEL_2e9062431d7a4d80a3e28f5aef96968e",
        "IPY_MODEL_d3df1c3f817149aeb522535ff05daecd",
        "IPY_MODEL_049458c7b7674c05a94e05e2f87d416e",
        "IPY_MODEL_61234b9197a44a7b84971dad9b7ec655",
        "IPY_MODEL_9b27be957f964e2c870e2e5457ed8d1f"
       ],
       "layout": "IPY_MODEL_38f309c77cce4a9fb92b3387e8007c4f"
      }
     },
     "9a69848bccf24b8ebf73ceb1296555b3": {
      "model_module": "@jupyter-widgets/controls",
      "model_module_version": "1.5.0",
      "model_name": "ButtonModel",
      "state": {
       "icon": "compress",
       "layout": "IPY_MODEL_a49853670b1e402eb61207173818a1d4",
       "style": "IPY_MODEL_26b9ec1f78744a89b138eba9a1f5efa1"
      }
     },
     "9a6ac1cb2347443f98d7a79ffb6fdbff": {
      "model_module": "@jupyter-widgets/controls",
      "model_module_version": "1.5.0",
      "model_name": "DropdownModel",
      "state": {
       "_options_labels": [
        "All",
        "H",
        "C"
       ],
       "description": "Show",
       "index": 0,
       "layout": "IPY_MODEL_f1931388a42145f1b9917829e432505f",
       "style": "IPY_MODEL_74367ae476894670b45e5d6ad7af6224"
      }
     },
     "9a9beb30096a4de093c8d538565f23b7": {
      "model_module": "@jupyter-widgets/controls",
      "model_module_version": "1.5.0",
      "model_name": "SliderStyleModel",
      "state": {
       "description_width": ""
      }
     },
     "9aba7d65beb3403a8c0a4969dcc5f806": {
      "model_module": "@jupyter-widgets/controls",
      "model_module_version": "1.5.0",
      "model_name": "LinkModel",
      "state": {
       "source": [
        "IPY_MODEL_3dbd0e6f9f334fbcbe3010e7774f0b34",
        "value"
       ],
       "target": [
        "IPY_MODEL_cc86e245ab3e46adaaac2ec59f48b0c6",
        "frame"
       ]
      }
     },
     "9b27be957f964e2c870e2e5457ed8d1f": {
      "model_module": "@jupyter-widgets/output",
      "model_module_version": "1.0.0",
      "model_name": "OutputModel",
      "state": {
       "layout": "IPY_MODEL_72ce3919fc54475c8269ca233fa5e632"
      }
     },
     "9b305dcd7c3a416ea9276368eeee2c52": {
      "model_module": "@jupyter-widgets/base",
      "model_module_version": "1.2.0",
      "model_name": "LayoutModel",
      "state": {}
     },
     "9b407ed54b844c3b8e43c1ec6d64d422": {
      "model_module": "@jupyter-widgets/base",
      "model_module_version": "1.2.0",
      "model_name": "LayoutModel",
      "state": {}
     },
     "9b8e48ab1e204c8293d301a6f88287ea": {
      "model_module": "@jupyter-widgets/controls",
      "model_module_version": "1.5.0",
      "model_name": "DropdownModel",
      "state": {
       "_options_labels": [
        " ",
        "picking",
        "random",
        "uniform",
        "atomindex",
        "residueindex",
        "chainindex",
        "modelindex",
        "sstruc",
        "element",
        "resname",
        "bfactor",
        "hydrophobicity",
        "value",
        "volume",
        "occupancy"
       ],
       "description": "Color scheme",
       "index": 9,
       "layout": "IPY_MODEL_52f654fb237d4570b77b59d2058108bc",
       "style": "IPY_MODEL_052fba97175b4e218d0d507ed7c73c72"
      }
     },
     "9c604ad8ca2b4a19bf34c38856f5a398": {
      "model_module": "@jupyter-widgets/base",
      "model_module_version": "1.2.0",
      "model_name": "LayoutModel",
      "state": {}
     },
     "9ccfe610d44f40d2a33027bc52e235b4": {
      "model_module": "@jupyter-widgets/controls",
      "model_module_version": "1.5.0",
      "model_name": "LinkModel",
      "state": {
       "source": [
        "IPY_MODEL_a297eb5f20c849c28693aa50e181669c",
        "value"
       ],
       "target": [
        "IPY_MODEL_961689801f9145459c40509384ec9c53",
        "frame"
       ]
      }
     },
     "9e8dcdabf04f4bb88f8a5c30808a1dc3": {
      "model_module": "@jupyter-widgets/controls",
      "model_module_version": "1.5.0",
      "model_name": "SliderStyleModel",
      "state": {
       "description_width": ""
      }
     },
     "9f30866163ab41009bbf01e2ce3f953d": {
      "model_module": "@jupyter-widgets/base",
      "model_module_version": "1.2.0",
      "model_name": "LayoutModel",
      "state": {}
     },
     "9f99102422924147a7b63f820034db5f": {
      "model_module": "@jupyter-widgets/controls",
      "model_module_version": "1.5.0",
      "model_name": "ButtonModel",
      "state": {
       "icon": "compress",
       "layout": "IPY_MODEL_21fe0c9104a94bbf8ac3a74b9749a2ec",
       "style": "IPY_MODEL_0cc72f4cb7ab4d969cdfbccadb0c1eec"
      }
     },
     "9fb9cfe1f74f44bbb79b6bb9e4163c0a": {
      "model_module": "@jupyter-widgets/controls",
      "model_module_version": "1.5.0",
      "model_name": "PlayModel",
      "state": {
       "layout": "IPY_MODEL_3ed750b6043b42ea8b7bcf2b83a066db",
       "max": 0,
       "style": "IPY_MODEL_4d9d8dc84c22463c82ca864472b0a5dd"
      }
     },
     "9fe91fe10ab64bd9a85fdc17e9d14bbe": {
      "model_module": "@jupyter-widgets/base",
      "model_module_version": "1.2.0",
      "model_name": "LayoutModel",
      "state": {}
     },
     "a01c8dbe00d44bc4a2b14b82dc9b9b06": {
      "model_module": "@jupyter-widgets/controls",
      "model_module_version": "1.5.0",
      "model_name": "VBoxModel",
      "state": {
       "children": [
        "IPY_MODEL_66da1b4df5a14ac7ab8cbcb876845054",
        "IPY_MODEL_1b5cf08ac8f346beaf6e9cde58ddc79c",
        "IPY_MODEL_97c6e406a3f24cecaff06622d3ae262b",
        "IPY_MODEL_34dbcc7b21434ac68640f3c6743ac938",
        "IPY_MODEL_bc33c1bcba9e4b7c8a7d38fa879542d2",
        "IPY_MODEL_4bacd78bfd3d4adcbe43661093b00d81",
        "IPY_MODEL_55e45f54c6d84e98bc1632585515eef1",
        "IPY_MODEL_1ad4879e983f4ae2806cf402287bad5f",
        "IPY_MODEL_c947ec57a41e44cf90aa5d45776e29cc",
        "IPY_MODEL_55917f7512854535841ffcb6d98ba21e"
       ],
       "layout": "IPY_MODEL_a13f1c0767ce4accaf511505e6de6555"
      }
     },
     "a051e883e52840b5b27fb0c830c154f2": {
      "model_module": "@jupyter-widgets/base",
      "model_module_version": "1.2.0",
      "model_name": "LayoutModel",
      "state": {}
     },
     "a13f1c0767ce4accaf511505e6de6555": {
      "model_module": "@jupyter-widgets/base",
      "model_module_version": "1.2.0",
      "model_name": "LayoutModel",
      "state": {}
     },
     "a24f8f6563954d72a391453c0da212e7": {
      "model_module": "@jupyter-widgets/controls",
      "model_module_version": "1.5.0",
      "model_name": "FloatSliderModel",
      "state": {
       "description": "Ball size",
       "layout": "IPY_MODEL_eca5644be7a14197881ae85745b06eda",
       "max": 1.5,
       "step": 0.01,
       "style": "IPY_MODEL_0c11be358af34c3bbdf769b43dfb4113",
       "value": 0.5
      }
     },
     "a297eb5f20c849c28693aa50e181669c": {
      "model_module": "@jupyter-widgets/controls",
      "model_module_version": "1.5.0",
      "model_name": "PlayModel",
      "state": {
       "layout": "IPY_MODEL_fda1822ca3914085a8dff538398efe29",
       "max": 0,
       "style": "IPY_MODEL_b2503bad4ab54071b90e49994c5fe95e"
      }
     },
     "a2e6288b078e4ece88b7daec30c56aca": {
      "model_module": "@jupyter-widgets/controls",
      "model_module_version": "1.5.0",
      "model_name": "DescriptionStyleModel",
      "state": {
       "description_width": ""
      }
     },
     "a404a221568a4e959b15acd7f9311f7c": {
      "model_module": "@jupyter-widgets/controls",
      "model_module_version": "1.5.0",
      "model_name": "DropdownModel",
      "state": {
       "_options_labels": [
        "All",
        "Fe"
       ],
       "description": "Show",
       "index": 0,
       "layout": "IPY_MODEL_ba4cb49ca82a42abbe459edaed6fc1ee",
       "style": "IPY_MODEL_521fb814024e4b8cb4b0304554a00f95"
      }
     },
     "a41885d7751c451d83b0a155b2a84758": {
      "model_module": "@jupyter-widgets/controls",
      "model_module_version": "1.5.0",
      "model_name": "HBoxModel",
      "state": {
       "children": [
        "IPY_MODEL_971b9039766b4010b596da0ab61a24bb",
        "IPY_MODEL_5d8bb661e11a40679f54e3fae4969c3f"
       ],
       "layout": "IPY_MODEL_261e5c320b0b48eb90cbe1e295cb247a"
      }
     },
     "a46634faf3364610af9509ae2d064ceb": {
      "model_module": "@jupyter-widgets/controls",
      "model_module_version": "1.5.0",
      "model_name": "ButtonModel",
      "state": {
       "icon": "compress",
       "layout": "IPY_MODEL_dfe68fd38f28499193c57d4fb9cf3f35",
       "style": "IPY_MODEL_be360876adc94987979e79aac5eac9d9"
      }
     },
     "a49853670b1e402eb61207173818a1d4": {
      "model_module": "@jupyter-widgets/base",
      "model_module_version": "1.2.0",
      "model_name": "LayoutModel",
      "state": {
       "width": "34px"
      }
     },
     "a4c0187d3df244d1b4c7f65747e3719d": {
      "model_module": "@jupyter-widgets/controls",
      "model_module_version": "1.5.0",
      "model_name": "SliderStyleModel",
      "state": {
       "description_width": ""
      }
     },
     "a505fecf425d4f7992446ec8e6830937": {
      "model_module": "@jupyter-widgets/controls",
      "model_module_version": "1.5.0",
      "model_name": "DescriptionStyleModel",
      "state": {
       "description_width": ""
      }
     },
     "a5bf5906632c4d3786dbdbf61849a1ff": {
      "model_module": "@jupyter-widgets/base",
      "model_module_version": "1.2.0",
      "model_name": "LayoutModel",
      "state": {}
     },
     "a5d5988e8f0d437b8fec2dd51607840e": {
      "model_module": "@jupyter-widgets/base",
      "model_module_version": "1.2.0",
      "model_name": "LayoutModel",
      "state": {}
     },
     "a5d8945ba83849b4b5e4d3dd07e62f79": {
      "model_module": "@jupyter-widgets/controls",
      "model_module_version": "1.5.0",
      "model_name": "HBoxModel",
      "state": {
       "children": [
        "IPY_MODEL_15bf3446e11f4936b15370b798165170",
        "IPY_MODEL_3d44103f214046f887a56d5c3b1db06b"
       ],
       "layout": "IPY_MODEL_f99561b17660495ea6be27a5ca5a513c"
      }
     },
     "a641d6d5d7d945399ccaad6050d5a567": {
      "model_module": "@jupyter-widgets/controls",
      "model_module_version": "1.5.0",
      "model_name": "CheckboxModel",
      "state": {
       "description": "Show charge",
       "disabled": false,
       "layout": "IPY_MODEL_c50e0855d1d34f30a8f3023ee1e47ac5",
       "style": "IPY_MODEL_24ebaff85092491584fd55c70972dd81",
       "value": false
      }
     },
     "a6c576e9d805479d9b72539e12ccc711": {
      "model_module": "@jupyter-widgets/base",
      "model_module_version": "1.2.0",
      "model_name": "LayoutModel",
      "state": {}
     },
     "a7199bf14fd54629b3d5b339532d3afe": {
      "model_module": "@jupyter-widgets/controls",
      "model_module_version": "1.5.0",
      "model_name": "HBoxModel",
      "state": {
       "children": [
        "IPY_MODEL_8e844daad3494b18a41d725001c19c99",
        "IPY_MODEL_b253570ac98242f79f6ba10220e45bdb"
       ],
       "layout": "IPY_MODEL_a5bf5906632c4d3786dbdbf61849a1ff"
      }
     },
     "a84425d9dd75465ea5cb003948ae4389": {
      "model_module": "@jupyter-widgets/controls",
      "model_module_version": "1.5.0",
      "model_name": "ButtonStyleModel",
      "state": {}
     },
     "a8c5b2ea01354417adc430ebea1f6f2c": {
      "model_module": "@jupyter-widgets/base",
      "model_module_version": "1.2.0",
      "model_name": "LayoutModel",
      "state": {}
     },
     "a8d7a23f5d08462f8574483caaffcbbb": {
      "model_module": "@jupyter-widgets/controls",
      "model_module_version": "1.5.0",
      "model_name": "DescriptionStyleModel",
      "state": {
       "description_width": ""
      }
     },
     "a95377a1027042bd93c779e4ec1ec0e6": {
      "model_module": "@jupyter-widgets/base",
      "model_module_version": "1.2.0",
      "model_name": "LayoutModel",
      "state": {}
     },
     "a9b9b325e50f47829e756132be1ee32b": {
      "model_module": "@jupyter-widgets/base",
      "model_module_version": "1.2.0",
      "model_name": "LayoutModel",
      "state": {}
     },
     "aa043b21a4f646f492b07b46ba00d2ac": {
      "model_module": "@jupyter-widgets/controls",
      "model_module_version": "1.5.0",
      "model_name": "LinkModel",
      "state": {
       "source": [
        "IPY_MODEL_971b9039766b4010b596da0ab61a24bb",
        "value"
       ],
       "target": [
        "IPY_MODEL_58c6285ae72b4d67a30722b0129dccc8",
        "frame"
       ]
      }
     },
     "aa2854577e3b434da55b3f634f3dfb9a": {
      "model_module": "@jupyter-widgets/controls",
      "model_module_version": "1.5.0",
      "model_name": "FloatSliderModel",
      "state": {
       "description": "Charge scale",
       "layout": "IPY_MODEL_4b24cff293f8437492231b6b34909be9",
       "step": 0.1,
       "style": "IPY_MODEL_cc32aff88a0f4a9284ec20f8097e4dd4",
       "value": 1
      }
     },
     "aa7c3d19722e4041ba3a18b7b602abf5": {
      "model_module": "@jupyter-widgets/base",
      "model_module_version": "1.2.0",
      "model_name": "LayoutModel",
      "state": {}
     },
     "aaba854da25c4eccae6e03fd11593cd4": {
      "model_module": "@jupyter-widgets/base",
      "model_module_version": "1.2.0",
      "model_name": "LayoutModel",
      "state": {}
     },
     "aaf05582588745acab16d02260eacfa7": {
      "model_module": "@jupyter-widgets/controls",
      "model_module_version": "1.5.0",
      "model_name": "DescriptionStyleModel",
      "state": {
       "description_width": ""
      }
     },
     "ab05c2588d604199bd8063e2297dc2d4": {
      "model_module": "@jupyter-widgets/base",
      "model_module_version": "1.2.0",
      "model_name": "LayoutModel",
      "state": {}
     },
     "ab51ef1b6d274fa4892a60ef803e2bf4": {
      "model_module": "@jupyter-widgets/base",
      "model_module_version": "1.2.0",
      "model_name": "LayoutModel",
      "state": {}
     },
     "ab5292fd20ed482b8a8caa7b97220926": {
      "model_module": "@jupyter-widgets/controls",
      "model_module_version": "1.5.0",
      "model_name": "CheckboxModel",
      "state": {
       "description": "Show force",
       "disabled": false,
       "layout": "IPY_MODEL_53229facc52641c291e7981c0db0cc0c",
       "style": "IPY_MODEL_e78131aea488458bb1642d62fa969426",
       "value": false
      }
     },
     "ad3434ef70df4e68a50ed673ff4e762a": {
      "model_module": "@jupyter-widgets/controls",
      "model_module_version": "1.5.0",
      "model_name": "SliderStyleModel",
      "state": {
       "description_width": ""
      }
     },
     "ae17499acd9442d68313c36d3f3b6363": {
      "model_module": "@jupyter-widgets/controls",
      "model_module_version": "1.5.0",
      "model_name": "LinkModel",
      "state": {
       "source": [
        "IPY_MODEL_e76c31e3354c412282f160a1c9bb0c1a",
        "value"
       ],
       "target": [
        "IPY_MODEL_6e591c88ded940c6b59a4fd3bb6fae03",
        "value"
       ]
      }
     },
     "af50902276f14155b88edb7613b3d65e": {
      "model_module": "@jupyter-widgets/controls",
      "model_module_version": "1.5.0",
      "model_name": "LinkModel",
      "state": {
       "source": [
        "IPY_MODEL_eda52e2d37574bf6b136a21c20ac31e5",
        "max"
       ],
       "target": [
        "IPY_MODEL_061858c4ca634ae0a1cf70432e4ba667",
        "max_frame"
       ]
      }
     },
     "affe93ba7545451783175f7e6571c6e8": {
      "model_module": "@jupyter-widgets/controls",
      "model_module_version": "1.5.0",
      "model_name": "HBoxModel",
      "state": {
       "children": [
        "IPY_MODEL_1f9aa5e7ff8e4410857f43139e0cf94b",
        "IPY_MODEL_51f2e04874c54f248d27f31c19fa0250"
       ],
       "layout": "IPY_MODEL_01d766c8847044b0a9bc7e7004d02e81"
      }
     },
     "b04f67d8a8e143ebad80c9c93fddd758": {
      "model_module": "@jupyter-widgets/controls",
      "model_module_version": "1.5.0",
      "model_name": "DropdownModel",
      "state": {
       "_options_labels": [
        "All",
        "Fe"
       ],
       "description": "Show",
       "index": 0,
       "layout": "IPY_MODEL_e38c701be53f42bb9295eaebd47480d4",
       "style": "IPY_MODEL_729359d583e74d969a9b922ea0eabebb"
      }
     },
     "b0930ed414ac4dbf9c793411e2f67177": {
      "model_module": "@jupyter-widgets/controls",
      "model_module_version": "1.5.0",
      "model_name": "SliderStyleModel",
      "state": {
       "description_width": ""
      }
     },
     "b1607d18278546648e4180ea85a81e2b": {
      "model_module": "@jupyter-widgets/base",
      "model_module_version": "1.2.0",
      "model_name": "LayoutModel",
      "state": {}
     },
     "b18a95bdef574e2bbf5df7c3fe7a198e": {
      "model_module": "@jupyter-widgets/controls",
      "model_module_version": "1.5.0",
      "model_name": "FloatSliderModel",
      "state": {
       "description": "Ball size",
       "layout": "IPY_MODEL_4f33aad529534d2bbe67e3a7335a0de9",
       "max": 1.5,
       "step": 0.01,
       "style": "IPY_MODEL_0490c733f6d04c8e992d89013dfaf165",
       "value": 0.5
      }
     },
     "b1d631029f7845a9a6fdb325d29d47b5": {
      "model_module": "@jupyter-widgets/controls",
      "model_module_version": "1.5.0",
      "model_name": "HBoxModel",
      "state": {
       "children": [
        "IPY_MODEL_6763c802e5b04e3cbb2b8f6388eb4e36",
        "IPY_MODEL_09a4d44e5ad34ff7b6cc6e5414c494bd"
       ],
       "layout": "IPY_MODEL_7629001abd9a4291ac951a107bf4bd85"
      }
     },
     "b2503bad4ab54071b90e49994c5fe95e": {
      "model_module": "@jupyter-widgets/controls",
      "model_module_version": "1.5.0",
      "model_name": "DescriptionStyleModel",
      "state": {
       "description_width": ""
      }
     },
     "b253570ac98242f79f6ba10220e45bdb": {
      "model_module": "@jupyter-widgets/controls",
      "model_module_version": "1.5.0",
      "model_name": "VBoxModel",
      "state": {
       "children": [
        "IPY_MODEL_513925a6e4a4476bae946c99fcf4db97",
        "IPY_MODEL_0beafb7ae5614bb8abea371edd22ce13",
        "IPY_MODEL_8e2bba74e51c43ff9216dc3f4c1f26be",
        "IPY_MODEL_bf194b0ce3c94b12bbde8760436f96e0",
        "IPY_MODEL_23d276a24fde42a8b42533ff62863f04",
        "IPY_MODEL_97ffd462fe0047d6a598018cbe601f2a",
        "IPY_MODEL_4ff59c1605594df6beb39ac9bf54ca8d",
        "IPY_MODEL_4b8029ff894f453ea70ff28fd8159cc3",
        "IPY_MODEL_bbc76ab3e4ec4ac9a5dc6ab1534a8ff8",
        "IPY_MODEL_7a9334338c41459e8c85156bfff0a546"
       ],
       "layout": "IPY_MODEL_3e2df6c7d32840f69503e394c1aa4c82"
      }
     },
     "b2ab71c6ed9f4287a7a338282c7e269e": {
      "model_module": "@jupyter-widgets/base",
      "model_module_version": "1.2.0",
      "model_name": "LayoutModel",
      "state": {}
     },
     "b30fa4973e7248f6adca5d92957f27db": {
      "model_module": "@jupyter-widgets/controls",
      "model_module_version": "1.5.0",
      "model_name": "DescriptionStyleModel",
      "state": {
       "description_width": ""
      }
     },
     "b4251085d31f4d689a50750e842e2aef": {
      "model_module": "@jupyter-widgets/controls",
      "model_module_version": "1.5.0",
      "model_name": "FloatSliderModel",
      "state": {
       "description": "Force scale",
       "layout": "IPY_MODEL_b4c1cf6f312f47668fe270382a260fe1",
       "step": 0.1,
       "style": "IPY_MODEL_e27597feff1846e7b2d8dc3ad3eea01f",
       "value": 0.5
      }
     },
     "b4c1cf6f312f47668fe270382a260fe1": {
      "model_module": "@jupyter-widgets/base",
      "model_module_version": "1.2.0",
      "model_name": "LayoutModel",
      "state": {}
     },
     "b4ed3b6b5a9a45ca93e4d12068aa916f": {
      "model_module": "@jupyter-widgets/controls",
      "model_module_version": "1.5.0",
      "model_name": "ButtonStyleModel",
      "state": {}
     },
     "b4f603c25c3f48beb028521e13036d56": {
      "model_module": "@jupyter-widgets/base",
      "model_module_version": "1.2.0",
      "model_name": "LayoutModel",
      "state": {}
     },
     "b6bf458cf7304d5fbbcde44a57dd77e6": {
      "model_module": "@jupyter-widgets/base",
      "model_module_version": "1.2.0",
      "model_name": "LayoutModel",
      "state": {}
     },
     "b6c467804c244c709a338ba7255bb242": {
      "model_module": "@jupyter-widgets/controls",
      "model_module_version": "1.5.0",
      "model_name": "DescriptionStyleModel",
      "state": {
       "description_width": ""
      }
     },
     "b7367232063f49e6bce682e6179d16c7": {
      "model_module": "@jupyter-widgets/base",
      "model_module_version": "1.2.0",
      "model_name": "LayoutModel",
      "state": {
       "border": "0px solid black"
      }
     },
     "b7ee93b967154b458e1dee323ecb475a": {
      "model_module": "@jupyter-widgets/controls",
      "model_module_version": "1.5.0",
      "model_name": "HBoxModel",
      "state": {
       "children": [
        "IPY_MODEL_061858c4ca634ae0a1cf70432e4ba667",
        "IPY_MODEL_e8d9e6d296eb46e1bc29df023b7aae1d"
       ],
       "layout": "IPY_MODEL_9fe91fe10ab64bd9a85fdc17e9d14bbe"
      }
     },
     "b7f59885d3544e12971cc732828d6092": {
      "model_module": "@jupyter-widgets/controls",
      "model_module_version": "1.5.0",
      "model_name": "FloatSliderModel",
      "state": {
       "description": "Ball size",
       "layout": "IPY_MODEL_e791d9cf9dea4a6e94da8797b753df0d",
       "max": 1.5,
       "step": 0.01,
       "style": "IPY_MODEL_4ef5bd5483234242b036c4e99a9d95d4",
       "value": 0.5
      }
     },
     "b8465eba7db04bbcaacd5cd5ea829410": {
      "model_module": "@jupyter-widgets/base",
      "model_module_version": "1.2.0",
      "model_name": "LayoutModel",
      "state": {}
     },
     "b85e145dc21a47bdb9289329261c99fd": {
      "model_module": "@jupyter-widgets/base",
      "model_module_version": "1.2.0",
      "model_name": "LayoutModel",
      "state": {}
     },
     "b8e3f17ead7849d7a00a33dfd984a972": {
      "model_module": "@jupyter-widgets/base",
      "model_module_version": "1.2.0",
      "model_name": "LayoutModel",
      "state": {}
     },
     "b972f64e0e03464da6156af48e861f64": {
      "model_module": "@jupyter-widgets/base",
      "model_module_version": "1.2.0",
      "model_name": "LayoutModel",
      "state": {
       "border": "0px solid black"
      }
     },
     "ba4cb49ca82a42abbe459edaed6fc1ee": {
      "model_module": "@jupyter-widgets/base",
      "model_module_version": "1.2.0",
      "model_name": "LayoutModel",
      "state": {}
     },
     "ba5cb1891fa5497991c8506d58b3b04e": {
      "model_module": "@jupyter-widgets/controls",
      "model_module_version": "1.5.0",
      "model_name": "ButtonStyleModel",
      "state": {}
     },
     "bb3982ecd39d4a709d3cf0b757430afa": {
      "model_module": "@jupyter-widgets/controls",
      "model_module_version": "1.5.0",
      "model_name": "ButtonModel",
      "state": {
       "description": "Save image",
       "layout": "IPY_MODEL_e52bfef9e3cd4d5b8e0ba8bd87923f82",
       "style": "IPY_MODEL_00dedf1a22674af5bf90e93e3d7132e4",
       "tooltip": "Save current frame to file.\nCurrently .png and .html are supported.\nIt takes a bit time, please be patient."
      }
     },
     "bbc76ab3e4ec4ac9a5dc6ab1534a8ff8": {
      "model_module": "@jupyter-widgets/controls",
      "model_module_version": "1.5.0",
      "model_name": "FloatSliderModel",
      "state": {
       "description": "Charge scale",
       "layout": "IPY_MODEL_510b2b71e831444e9540572761e4605d",
       "step": 0.1,
       "style": "IPY_MODEL_409d30c448ec4e00809e264a291f2149",
       "value": 1
      }
     },
     "bc33c1bcba9e4b7c8a7d38fa879542d2": {
      "model_module": "@jupyter-widgets/controls",
      "model_module_version": "1.5.0",
      "model_name": "HBoxModel",
      "state": {
       "children": [
        "IPY_MODEL_56b12d187df94a1692eb513d27988aad",
        "IPY_MODEL_325be4a546334c06a4bdbdd8bd7cffbd"
       ],
       "layout": "IPY_MODEL_03f97276c47046ecb16e7d0b1d71a387"
      }
     },
     "bc5ac535df714a48bfeff8dc21d35bbe": {
      "model_module": "@jupyter-widgets/base",
      "model_module_version": "1.2.0",
      "model_name": "LayoutModel",
      "state": {}
     },
     "bd3a948320c042c7b5bf549a1c461946": {
      "model_module": "@jupyter-widgets/base",
      "model_module_version": "1.2.0",
      "model_name": "LayoutModel",
      "state": {}
     },
     "be360876adc94987979e79aac5eac9d9": {
      "model_module": "@jupyter-widgets/controls",
      "model_module_version": "1.5.0",
      "model_name": "ButtonStyleModel",
      "state": {}
     },
     "be499ca37f12481eb59c226c5a23e43c": {
      "model_module": "@jupyter-widgets/base",
      "model_module_version": "1.2.0",
      "model_name": "LayoutModel",
      "state": {}
     },
     "be72c8cb477345f49dd8cf6f899ee8c2": {
      "model_module": "@jupyter-widgets/controls",
      "model_module_version": "1.5.0",
      "model_name": "FloatSliderModel",
      "state": {
       "description": "Charge scale",
       "layout": "IPY_MODEL_a9b9b325e50f47829e756132be1ee32b",
       "step": 0.1,
       "style": "IPY_MODEL_c44380a8a38447cea5b8bb86f7861344",
       "value": 1
      }
     },
     "bf194b0ce3c94b12bbde8760436f96e0": {
      "model_module": "@jupyter-widgets/controls",
      "model_module_version": "1.5.0",
      "model_name": "TextModel",
      "state": {
       "description": "Filename: ",
       "layout": "IPY_MODEL_c4b4451f42c04f7d8eb77f1f66663016",
       "style": "IPY_MODEL_c8fbeaa0ea8543c5a67af3205173ed1c",
       "value": "screenshot.png"
      }
     },
     "bf4ae81e56c54ca5b8eefe93329b7aa4": {
      "model_module": "@jupyter-widgets/controls",
      "model_module_version": "1.5.0",
      "model_name": "SliderStyleModel",
      "state": {
       "description_width": ""
      }
     },
     "c005e91c5087449da993a74c427185e9": {
      "model_module": "@jupyter-widgets/controls",
      "model_module_version": "1.5.0",
      "model_name": "DescriptionStyleModel",
      "state": {
       "description_width": ""
      }
     },
     "c028134f930e4d7db6247677a6a0d753": {
      "model_module": "@jupyter-widgets/controls",
      "model_module_version": "1.5.0",
      "model_name": "ButtonModel",
      "state": {
       "icon": "compress",
       "layout": "IPY_MODEL_734c278226944880b45be1cb89f7c1b2",
       "style": "IPY_MODEL_7913f022ccb84a4c84078895ff487e42"
      }
     },
     "c1428355e1e54994b3f4049ab5adfef3": {
      "model_module": "@jupyter-widgets/base",
      "model_module_version": "1.2.0",
      "model_name": "LayoutModel",
      "state": {}
     },
     "c1cf11fb885c48b6b469c35e7537a392": {
      "model_module": "@jupyter-widgets/controls",
      "model_module_version": "1.5.0",
      "model_name": "LinkModel",
      "state": {
       "source": [
        "IPY_MODEL_971b9039766b4010b596da0ab61a24bb",
        "value"
       ],
       "target": [
        "IPY_MODEL_5d8bb661e11a40679f54e3fae4969c3f",
        "value"
       ]
      }
     },
     "c1d18ffb5b2547b4970e24e66c517ec2": {
      "model_module": "@jupyter-widgets/controls",
      "model_module_version": "1.5.0",
      "model_name": "SliderStyleModel",
      "state": {
       "description_width": ""
      }
     },
     "c2d0c61f718f4f12beb4480f7b625e17": {
      "model_module": "@jupyter-widgets/base",
      "model_module_version": "1.2.0",
      "model_name": "LayoutModel",
      "state": {}
     },
     "c2f5d29a83474918a6f55ba9d8f74505": {
      "model_module": "@jupyter-widgets/base",
      "model_module_version": "1.2.0",
      "model_name": "LayoutModel",
      "state": {}
     },
     "c44380a8a38447cea5b8bb86f7861344": {
      "model_module": "@jupyter-widgets/controls",
      "model_module_version": "1.5.0",
      "model_name": "SliderStyleModel",
      "state": {
       "description_width": ""
      }
     },
     "c4684cfb109a43f0afb164bbdaf22020": {
      "model_module": "@jupyter-widgets/base",
      "model_module_version": "1.2.0",
      "model_name": "LayoutModel",
      "state": {}
     },
     "c4b4451f42c04f7d8eb77f1f66663016": {
      "model_module": "@jupyter-widgets/base",
      "model_module_version": "1.2.0",
      "model_name": "LayoutModel",
      "state": {}
     },
     "c50932fcea0549bba8ea2874013b5eda": {
      "model_module": "@jupyter-widgets/controls",
      "model_module_version": "1.5.0",
      "model_name": "SliderStyleModel",
      "state": {
       "description_width": ""
      }
     },
     "c50e0855d1d34f30a8f3023ee1e47ac5": {
      "model_module": "@jupyter-widgets/base",
      "model_module_version": "1.2.0",
      "model_name": "LayoutModel",
      "state": {}
     },
     "c62533f2efaa4a9c8881620d72b41d82": {
      "model_module": "@jupyter-widgets/controls",
      "model_module_version": "1.5.0",
      "model_name": "DescriptionStyleModel",
      "state": {
       "description_width": ""
      }
     },
     "c652237426e84d06b6f71095ef2117db": {
      "model_module": "@jupyter-widgets/controls",
      "model_module_version": "1.5.0",
      "model_name": "DescriptionStyleModel",
      "state": {
       "description_width": ""
      }
     },
     "c70e2b4a855246b6a569b5b74b9a03c9": {
      "model_module": "@jupyter-widgets/controls",
      "model_module_version": "1.5.0",
      "model_name": "DescriptionStyleModel",
      "state": {
       "description_width": ""
      }
     },
     "c7529a78e7034b9d976cca5b1495052f": {
      "model_module": "@jupyter-widgets/base",
      "model_module_version": "1.2.0",
      "model_name": "LayoutModel",
      "state": {}
     },
     "c830371103734c09b875162a72909712": {
      "model_module": "@jupyter-widgets/base",
      "model_module_version": "1.2.0",
      "model_name": "LayoutModel",
      "state": {}
     },
     "c8634d7948f240c4904b3b70abb3f6ac": {
      "model_module": "@jupyter-widgets/controls",
      "model_module_version": "1.5.0",
      "model_name": "DescriptionStyleModel",
      "state": {
       "description_width": ""
      }
     },
     "c8fbeaa0ea8543c5a67af3205173ed1c": {
      "model_module": "@jupyter-widgets/controls",
      "model_module_version": "1.5.0",
      "model_name": "DescriptionStyleModel",
      "state": {
       "description_width": ""
      }
     },
     "c91d10309a454f3ea351275afa94b104": {
      "model_module": "@jupyter-widgets/base",
      "model_module_version": "1.2.0",
      "model_name": "LayoutModel",
      "state": {}
     },
     "c946b15673d241a49519495ffd2f37c8": {
      "model_module": "@jupyter-widgets/controls",
      "model_module_version": "1.5.0",
      "model_name": "LinkModel",
      "state": {
       "source": [
        "IPY_MODEL_13fbddd6478d4aab91afb66c0f9ff7f0",
        "max"
       ],
       "target": [
        "IPY_MODEL_cc86e245ab3e46adaaac2ec59f48b0c6",
        "max_frame"
       ]
      }
     },
     "c947ec57a41e44cf90aa5d45776e29cc": {
      "model_module": "@jupyter-widgets/controls",
      "model_module_version": "1.5.0",
      "model_name": "FloatSliderModel",
      "state": {
       "description": "Charge scale",
       "layout": "IPY_MODEL_bd3a948320c042c7b5bf549a1c461946",
       "step": 0.1,
       "style": "IPY_MODEL_f44a14cf5d154dd68084cfd709626715",
       "value": 1
      }
     },
     "ca085dc0e2b844d0b2fffedd36f5e9aa": {
      "model_module": "@jupyter-widgets/controls",
      "model_module_version": "1.5.0",
      "model_name": "SliderStyleModel",
      "state": {
       "description_width": ""
      }
     },
     "ca15d68fe2984b819e1f522c73beb280": {
      "model_module": "@jupyter-widgets/controls",
      "model_module_version": "1.5.0",
      "model_name": "SliderStyleModel",
      "state": {
       "description_width": ""
      }
     },
     "ca9fa73f232842a0a36bc7b1be458a39": {
      "model_module": "@jupyter-widgets/controls",
      "model_module_version": "1.5.0",
      "model_name": "DescriptionStyleModel",
      "state": {
       "description_width": ""
      }
     },
     "cac0ca9cb3554d1db64e0808756357d4": {
      "model_module": "@jupyter-widgets/controls",
      "model_module_version": "1.5.0",
      "model_name": "IntSliderModel",
      "state": {
       "layout": "IPY_MODEL_f40ad71a72044352b349765975480e06",
       "max": 0,
       "style": "IPY_MODEL_09d7a8021e4546c1aa14542373c75082"
      }
     },
     "caf2c3829e3e4300930214d8ec4ce227": {
      "model_module": "@jupyter-widgets/base",
      "model_module_version": "1.2.0",
      "model_name": "LayoutModel",
      "state": {}
     },
     "cb311eacd1f742e3a11f9a76c9b3f8f7": {
      "model_module": "@jupyter-widgets/controls",
      "model_module_version": "1.5.0",
      "model_name": "HBoxModel",
      "state": {
       "children": [
        "IPY_MODEL_9fb9cfe1f74f44bbb79b6bb9e4163c0a",
        "IPY_MODEL_eda52e2d37574bf6b136a21c20ac31e5"
       ],
       "layout": "IPY_MODEL_2f3cd07dbd574ea0b10bfb44a1ed8603"
      }
     },
     "cb9ff1fa03f34fd1921a03c27b2484a4": {
      "model_module": "@jupyter-widgets/controls",
      "model_module_version": "1.5.0",
      "model_name": "TextModel",
      "state": {
       "description": "Filename: ",
       "layout": "IPY_MODEL_15d5ba8457794554a74c23abe7c800d0",
       "style": "IPY_MODEL_8ae403a2fecd4f4aa3b2f9c4b008d6bc",
       "value": "screenshot.png"
      }
     },
     "cc32aff88a0f4a9284ec20f8097e4dd4": {
      "model_module": "@jupyter-widgets/controls",
      "model_module_version": "1.5.0",
      "model_name": "SliderStyleModel",
      "state": {
       "description_width": ""
      }
     },
     "cc86e245ab3e46adaaac2ec59f48b0c6": {
      "model_module": "nglview-js-widgets",
      "model_module_version": "3.0.1",
      "model_name": "NGLModel",
      "state": {
       "_camera_orientation": [
        20.01190325293475,
        0.2730235322695012,
        -2.3959364080400887,
        0,
        -0.32002422978442735,
        20.150606885237487,
        -0.37676461396472355,
        0,
        2.390112468670843,
        0.41209857171820846,
        20.010218941322375,
        0,
        -5,
        -5,
        -5,
        1
       ],
       "_camera_str": "orthographic",
       "_gui_theme": null,
       "_ibtn_fullscreen": "IPY_MODEL_9a69848bccf24b8ebf73ceb1296555b3",
       "_igui": null,
       "_iplayer": "IPY_MODEL_788d6f5c9ce543d887bd904e82211460",
       "_ngl_color_dict": {},
       "_ngl_coordinate_resource": {},
       "_ngl_full_stage_parameters": {
        "ambientColor": 14540253,
        "ambientIntensity": 0.2,
        "backgroundColor": "white",
        "cameraEyeSep": 0.3,
        "cameraFov": 40,
        "cameraType": "orthographic",
        "clipDist": 0,
        "clipFar": 100,
        "clipNear": 0,
        "fogFar": 100,
        "fogNear": 50,
        "hoverTimeout": 0,
        "impostor": true,
        "lightColor": 14540253,
        "lightIntensity": 1,
        "mousePreset": "default",
        "panSpeed": 1,
        "quality": "medium",
        "rotateSpeed": 2,
        "sampleLevel": 0,
        "tooltip": true,
        "workerDefault": true,
        "zoomSpeed": 1.2
       },
       "_ngl_msg_archive": [
        {
         "args": [
          {
           "binary": false,
           "data": "CRYST1   12.000   12.000   12.000  90.00  90.00  90.00 P 1\nMODEL     1\nATOM      1   Fe MOL     1       0.000   0.000   0.000  1.00  0.00          FE  \nATOM      2   Fe MOL     1       0.000   0.000   2.000  1.00  0.00          FE  \nATOM      3   Fe MOL     1       0.000   0.000   4.000  1.00  0.00          FE  \nATOM      4   Fe MOL     1       0.000   0.000   6.000  1.00  0.00          FE  \nATOM      5   Fe MOL     1       0.000   0.000   8.000  1.00  0.00          FE  \nATOM      6   Fe MOL     1       0.000   0.000  10.000  1.00  0.00          FE  \nATOM      7   Fe MOL     1       0.000   2.000   0.000  1.00  0.00          FE  \nATOM      8   Fe MOL     1       0.000   2.000   2.000  1.00  0.00          FE  \nATOM      9   Fe MOL     1       0.000   2.000   4.000  1.00  0.00          FE  \nATOM     10   Fe MOL     1       0.000   2.000   6.000  1.00  0.00          FE  \nATOM     11   Fe MOL     1       0.000   2.000   8.000  1.00  0.00          FE  \nATOM     12   Fe MOL     1       0.000   2.000  10.000  1.00  0.00          FE  \nATOM     13   Fe MOL     1       0.000   4.000   0.000  1.00  0.00          FE  \nATOM     14   Fe MOL     1       0.000   4.000   2.000  1.00  0.00          FE  \nATOM     15   Fe MOL     1       0.000   4.000   4.000  1.00  0.00          FE  \nATOM     16   Fe MOL     1       0.000   4.000   6.000  1.00  0.00          FE  \nATOM     17   Fe MOL     1       0.000   4.000   8.000  1.00  0.00          FE  \nATOM     18   Fe MOL     1       0.000   4.000  10.000  1.00  0.00          FE  \nATOM     19   Fe MOL     1       0.000   6.000   0.000  1.00  0.00          FE  \nATOM     20   Fe MOL     1       0.000   6.000   2.000  1.00  0.00          FE  \nATOM     21   Fe MOL     1       0.000   6.000   4.000  1.00  0.00          FE  \nATOM     22   Fe MOL     1       0.000   6.000   6.000  1.00  0.00          FE  \nATOM     23   Fe MOL     1       0.000   6.000   8.000  1.00  0.00          FE  \nATOM     24   Fe MOL     1       0.000   6.000  10.000  1.00  0.00          FE  \nATOM     25   Fe MOL     1       0.000   8.000   0.000  1.00  0.00          FE  \nATOM     26   Fe MOL     1       0.000   8.000   2.000  1.00  0.00          FE  \nATOM     27   Fe MOL     1       0.000   8.000   4.000  1.00  0.00          FE  \nATOM     28   Fe MOL     1       0.000   8.000   6.000  1.00  0.00          FE  \nATOM     29   Fe MOL     1       0.000   8.000   8.000  1.00  0.00          FE  \nATOM     30   Fe MOL     1       0.000   8.000  10.000  1.00  0.00          FE  \nATOM     31   Fe MOL     1       0.000  10.000   0.000  1.00  0.00          FE  \nATOM     32   Fe MOL     1       0.000  10.000   2.000  1.00  0.00          FE  \nATOM     33   Fe MOL     1       0.000  10.000   4.000  1.00  0.00          FE  \nATOM     34   Fe MOL     1       0.000  10.000   6.000  1.00  0.00          FE  \nATOM     35   Fe MOL     1       0.000  10.000   8.000  1.00  0.00          FE  \nATOM     36   Fe MOL     1       0.000  10.000  10.000  1.00  0.00          FE  \nATOM     37   Fe MOL     1       2.000   0.000   0.000  1.00  0.00          FE  \nATOM     38   Fe MOL     1       2.000   0.000   2.000  1.00  0.00          FE  \nATOM     39   Fe MOL     1       2.000   0.000   4.000  1.00  0.00          FE  \nATOM     40   Fe MOL     1       2.000   0.000   6.000  1.00  0.00          FE  \nATOM     41   Fe MOL     1       2.000   0.000   8.000  1.00  0.00          FE  \nATOM     42   Fe MOL     1       2.000   0.000  10.000  1.00  0.00          FE  \nATOM     43   Fe MOL     1       2.000   2.000   0.000  1.00  0.00          FE  \nATOM     44   Fe MOL     1       2.000   2.000   2.000  1.00  0.00          FE  \nATOM     45   Fe MOL     1       2.000   2.000   4.000  1.00  0.00          FE  \nATOM     46   Fe MOL     1       2.000   2.000   6.000  1.00  0.00          FE  \nATOM     47   Fe MOL     1       2.000   2.000   8.000  1.00  0.00          FE  \nATOM     48   Fe MOL     1       2.000   2.000  10.000  1.00  0.00          FE  \nATOM     49   Fe MOL     1       2.000   4.000   0.000  1.00  0.00          FE  \nATOM     50   Fe MOL     1       2.000   4.000   2.000  1.00  0.00          FE  \nATOM     51   Fe MOL     1       2.000   4.000   4.000  1.00  0.00          FE  \nATOM     52   Fe MOL     1       2.000   4.000   6.000  1.00  0.00          FE  \nATOM     53   Fe MOL     1       2.000   4.000   8.000  1.00  0.00          FE  \nATOM     54   Fe MOL     1       2.000   4.000  10.000  1.00  0.00          FE  \nATOM     55   Fe MOL     1       2.000   6.000   0.000  1.00  0.00          FE  \nATOM     56   Fe MOL     1       2.000   6.000   2.000  1.00  0.00          FE  \nATOM     57   Fe MOL     1       2.000   6.000   4.000  1.00  0.00          FE  \nATOM     58   Fe MOL     1       2.000   6.000   6.000  1.00  0.00          FE  \nATOM     59   Fe MOL     1       2.000   6.000   8.000  1.00  0.00          FE  \nATOM     60   Fe MOL     1       2.000   6.000  10.000  1.00  0.00          FE  \nATOM     61   Fe MOL     1       2.000   8.000   0.000  1.00  0.00          FE  \nATOM     62   Fe MOL     1       2.000   8.000   2.000  1.00  0.00          FE  \nATOM     63   Fe MOL     1       2.000   8.000   4.000  1.00  0.00          FE  \nATOM     64   Fe MOL     1       2.000   8.000   6.000  1.00  0.00          FE  \nATOM     65   Fe MOL     1       2.000   8.000   8.000  1.00  0.00          FE  \nATOM     66   Fe MOL     1       2.000   8.000  10.000  1.00  0.00          FE  \nATOM     67   Fe MOL     1       2.000  10.000   0.000  1.00  0.00          FE  \nATOM     68   Fe MOL     1       2.000  10.000   2.000  1.00  0.00          FE  \nATOM     69   Fe MOL     1       2.000  10.000   4.000  1.00  0.00          FE  \nATOM     70   Fe MOL     1       2.000  10.000   6.000  1.00  0.00          FE  \nATOM     71   Fe MOL     1       2.000  10.000   8.000  1.00  0.00          FE  \nATOM     72   Fe MOL     1       2.000  10.000  10.000  1.00  0.00          FE  \nATOM     73   Fe MOL     1       4.000   0.000   0.000  1.00  0.00          FE  \nATOM     74   Fe MOL     1       4.000   0.000   2.000  1.00  0.00          FE  \nATOM     75   Fe MOL     1       4.000   0.000   4.000  1.00  0.00          FE  \nATOM     76   Fe MOL     1       4.000   0.000   6.000  1.00  0.00          FE  \nATOM     77   Fe MOL     1       4.000   0.000   8.000  1.00  0.00          FE  \nATOM     78   Fe MOL     1       4.000   0.000  10.000  1.00  0.00          FE  \nATOM     79   Fe MOL     1       4.000   2.000   0.000  1.00  0.00          FE  \nATOM     80   Fe MOL     1       4.000   2.000   2.000  1.00  0.00          FE  \nATOM     81   Fe MOL     1       4.000   2.000   4.000  1.00  0.00          FE  \nATOM     82   Fe MOL     1       4.000   2.000   6.000  1.00  0.00          FE  \nATOM     83   Fe MOL     1       4.000   2.000   8.000  1.00  0.00          FE  \nATOM     84   Fe MOL     1       4.000   2.000  10.000  1.00  0.00          FE  \nATOM     85   Fe MOL     1       4.000   4.000   0.000  1.00  0.00          FE  \nATOM     86   Fe MOL     1       4.000   4.000   2.000  1.00  0.00          FE  \nATOM     87   Fe MOL     1       4.000   4.000   4.000  1.00  0.00          FE  \nATOM     88   Fe MOL     1       4.000   4.000   6.000  1.00  0.00          FE  \nATOM     89   Fe MOL     1       4.000   4.000   8.000  1.00  0.00          FE  \nATOM     90   Fe MOL     1       4.000   4.000  10.000  1.00  0.00          FE  \nATOM     91   Fe MOL     1       4.000   6.000   0.000  1.00  0.00          FE  \nATOM     92   Fe MOL     1       4.000   6.000   2.000  1.00  0.00          FE  \nATOM     93   Fe MOL     1       4.000   6.000   4.000  1.00  0.00          FE  \nATOM     94   Fe MOL     1       4.000   6.000   6.000  1.00  0.00          FE  \nATOM     95   Fe MOL     1       4.000   6.000   8.000  1.00  0.00          FE  \nATOM     96   Fe MOL     1       4.000   6.000  10.000  1.00  0.00          FE  \nATOM     97   Fe MOL     1       4.000   8.000   0.000  1.00  0.00          FE  \nATOM     98   Fe MOL     1       4.000   8.000   2.000  1.00  0.00          FE  \nATOM     99   Fe MOL     1       4.000   8.000   4.000  1.00  0.00          FE  \nATOM    100   Fe MOL     1       4.000   8.000   6.000  1.00  0.00          FE  \nATOM    101   Fe MOL     1       4.000   8.000   8.000  1.00  0.00          FE  \nATOM    102   Fe MOL     1       4.000   8.000  10.000  1.00  0.00          FE  \nATOM    103   Fe MOL     1       4.000  10.000   0.000  1.00  0.00          FE  \nATOM    104   Fe MOL     1       4.000  10.000   2.000  1.00  0.00          FE  \nATOM    105   Fe MOL     1       4.000  10.000   4.000  1.00  0.00          FE  \nATOM    106   Fe MOL     1       4.000  10.000   6.000  1.00  0.00          FE  \nATOM    107   Fe MOL     1       4.000  10.000   8.000  1.00  0.00          FE  \nATOM    108   Fe MOL     1       4.000  10.000  10.000  1.00  0.00          FE  \nATOM    109   Fe MOL     1       6.000   0.000   0.000  1.00  0.00          FE  \nATOM    110   Fe MOL     1       6.000   0.000   2.000  1.00  0.00          FE  \nATOM    111   Fe MOL     1       6.000   0.000   4.000  1.00  0.00          FE  \nATOM    112   Fe MOL     1       6.000   0.000   6.000  1.00  0.00          FE  \nATOM    113   Fe MOL     1       6.000   0.000   8.000  1.00  0.00          FE  \nATOM    114   Fe MOL     1       6.000   0.000  10.000  1.00  0.00          FE  \nATOM    115   Fe MOL     1       6.000   2.000   0.000  1.00  0.00          FE  \nATOM    116   Fe MOL     1       6.000   2.000   2.000  1.00  0.00          FE  \nATOM    117   Fe MOL     1       6.000   2.000   4.000  1.00  0.00          FE  \nATOM    118   Fe MOL     1       6.000   2.000   6.000  1.00  0.00          FE  \nATOM    119   Fe MOL     1       6.000   2.000   8.000  1.00  0.00          FE  \nATOM    120   Fe MOL     1       6.000   2.000  10.000  1.00  0.00          FE  \nATOM    121   Fe MOL     1       6.000   4.000   0.000  1.00  0.00          FE  \nATOM    122   Fe MOL     1       6.000   4.000   2.000  1.00  0.00          FE  \nATOM    123   Fe MOL     1       6.000   4.000   4.000  1.00  0.00          FE  \nATOM    124   Fe MOL     1       6.000   4.000   6.000  1.00  0.00          FE  \nATOM    125   Fe MOL     1       6.000   4.000   8.000  1.00  0.00          FE  \nATOM    126   Fe MOL     1       6.000   4.000  10.000  1.00  0.00          FE  \nATOM    127   Fe MOL     1       6.000   6.000   0.000  1.00  0.00          FE  \nATOM    128   Fe MOL     1       6.000   6.000   2.000  1.00  0.00          FE  \nATOM    129   Fe MOL     1       6.000   6.000   4.000  1.00  0.00          FE  \nATOM    130   Fe MOL     1       6.000   6.000   6.000  1.00  0.00          FE  \nATOM    131   Fe MOL     1       6.000   6.000   8.000  1.00  0.00          FE  \nATOM    132   Fe MOL     1       6.000   6.000  10.000  1.00  0.00          FE  \nATOM    133   Fe MOL     1       6.000   8.000   0.000  1.00  0.00          FE  \nATOM    134   Fe MOL     1       6.000   8.000   2.000  1.00  0.00          FE  \nATOM    135   Fe MOL     1       6.000   8.000   4.000  1.00  0.00          FE  \nATOM    136   Fe MOL     1       6.000   8.000   6.000  1.00  0.00          FE  \nATOM    137   Fe MOL     1       6.000   8.000   8.000  1.00  0.00          FE  \nATOM    138   Fe MOL     1       6.000   8.000  10.000  1.00  0.00          FE  \nATOM    139   Fe MOL     1       6.000  10.000   0.000  1.00  0.00          FE  \nATOM    140   Fe MOL     1       6.000  10.000   2.000  1.00  0.00          FE  \nATOM    141   Fe MOL     1       6.000  10.000   4.000  1.00  0.00          FE  \nATOM    142   Fe MOL     1       6.000  10.000   6.000  1.00  0.00          FE  \nATOM    143   Fe MOL     1       6.000  10.000   8.000  1.00  0.00          FE  \nATOM    144   Fe MOL     1       6.000  10.000  10.000  1.00  0.00          FE  \nATOM    145   Fe MOL     1       8.000   0.000   0.000  1.00  0.00          FE  \nATOM    146   Fe MOL     1       8.000   0.000   2.000  1.00  0.00          FE  \nATOM    147   Fe MOL     1       8.000   0.000   4.000  1.00  0.00          FE  \nATOM    148   Fe MOL     1       8.000   0.000   6.000  1.00  0.00          FE  \nATOM    149   Fe MOL     1       8.000   0.000   8.000  1.00  0.00          FE  \nATOM    150   Fe MOL     1       8.000   0.000  10.000  1.00  0.00          FE  \nATOM    151   Fe MOL     1       8.000   2.000   0.000  1.00  0.00          FE  \nATOM    152   Fe MOL     1       8.000   2.000   2.000  1.00  0.00          FE  \nATOM    153   Fe MOL     1       8.000   2.000   4.000  1.00  0.00          FE  \nATOM    154   Fe MOL     1       8.000   2.000   6.000  1.00  0.00          FE  \nATOM    155   Fe MOL     1       8.000   2.000   8.000  1.00  0.00          FE  \nATOM    156   Fe MOL     1       8.000   2.000  10.000  1.00  0.00          FE  \nATOM    157   Fe MOL     1       8.000   4.000   0.000  1.00  0.00          FE  \nATOM    158   Fe MOL     1       8.000   4.000   2.000  1.00  0.00          FE  \nATOM    159   Fe MOL     1       8.000   4.000   4.000  1.00  0.00          FE  \nATOM    160   Fe MOL     1       8.000   4.000   6.000  1.00  0.00          FE  \nATOM    161   Fe MOL     1       8.000   4.000   8.000  1.00  0.00          FE  \nATOM    162   Fe MOL     1       8.000   4.000  10.000  1.00  0.00          FE  \nATOM    163   Fe MOL     1       8.000   6.000   0.000  1.00  0.00          FE  \nATOM    164   Fe MOL     1       8.000   6.000   2.000  1.00  0.00          FE  \nATOM    165   Fe MOL     1       8.000   6.000   4.000  1.00  0.00          FE  \nATOM    166   Fe MOL     1       8.000   6.000   6.000  1.00  0.00          FE  \nATOM    167   Fe MOL     1       8.000   6.000   8.000  1.00  0.00          FE  \nATOM    168   Fe MOL     1       8.000   6.000  10.000  1.00  0.00          FE  \nATOM    169   Fe MOL     1       8.000   8.000   0.000  1.00  0.00          FE  \nATOM    170   Fe MOL     1       8.000   8.000   2.000  1.00  0.00          FE  \nATOM    171   Fe MOL     1       8.000   8.000   4.000  1.00  0.00          FE  \nATOM    172   Fe MOL     1       8.000   8.000   6.000  1.00  0.00          FE  \nATOM    173   Fe MOL     1       8.000   8.000   8.000  1.00  0.00          FE  \nATOM    174   Fe MOL     1       8.000   8.000  10.000  1.00  0.00          FE  \nATOM    175   Fe MOL     1       8.000  10.000   0.000  1.00  0.00          FE  \nATOM    176   Fe MOL     1       8.000  10.000   2.000  1.00  0.00          FE  \nATOM    177   Fe MOL     1       8.000  10.000   4.000  1.00  0.00          FE  \nATOM    178   Fe MOL     1       8.000  10.000   6.000  1.00  0.00          FE  \nATOM    179   Fe MOL     1       8.000  10.000   8.000  1.00  0.00          FE  \nATOM    180   Fe MOL     1       8.000  10.000  10.000  1.00  0.00          FE  \nATOM    181   Fe MOL     1      10.000   0.000   0.000  1.00  0.00          FE  \nATOM    182   Fe MOL     1      10.000   0.000   2.000  1.00  0.00          FE  \nATOM    183   Fe MOL     1      10.000   0.000   4.000  1.00  0.00          FE  \nATOM    184   Fe MOL     1      10.000   0.000   6.000  1.00  0.00          FE  \nATOM    185   Fe MOL     1      10.000   0.000   8.000  1.00  0.00          FE  \nATOM    186   Fe MOL     1      10.000   0.000  10.000  1.00  0.00          FE  \nATOM    187   Fe MOL     1      10.000   2.000   0.000  1.00  0.00          FE  \nATOM    188   Fe MOL     1      10.000   2.000   2.000  1.00  0.00          FE  \nATOM    189   Fe MOL     1      10.000   2.000   4.000  1.00  0.00          FE  \nATOM    190   Fe MOL     1      10.000   2.000   6.000  1.00  0.00          FE  \nATOM    191   Fe MOL     1      10.000   2.000   8.000  1.00  0.00          FE  \nATOM    192   Fe MOL     1      10.000   2.000  10.000  1.00  0.00          FE  \nATOM    193   Fe MOL     1      10.000   4.000   0.000  1.00  0.00          FE  \nATOM    194   Fe MOL     1      10.000   4.000   2.000  1.00  0.00          FE  \nATOM    195   Fe MOL     1      10.000   4.000   4.000  1.00  0.00          FE  \nATOM    196   Fe MOL     1      10.000   4.000   6.000  1.00  0.00          FE  \nATOM    197   Fe MOL     1      10.000   4.000   8.000  1.00  0.00          FE  \nATOM    198   Fe MOL     1      10.000   4.000  10.000  1.00  0.00          FE  \nATOM    199   Fe MOL     1      10.000   6.000   0.000  1.00  0.00          FE  \nATOM    200   Fe MOL     1      10.000   6.000   2.000  1.00  0.00          FE  \nATOM    201   Fe MOL     1      10.000   6.000   4.000  1.00  0.00          FE  \nATOM    202   Fe MOL     1      10.000   6.000   6.000  1.00  0.00          FE  \nATOM    203   Fe MOL     1      10.000   6.000   8.000  1.00  0.00          FE  \nATOM    204   Fe MOL     1      10.000   6.000  10.000  1.00  0.00          FE  \nATOM    205   Fe MOL     1      10.000   8.000   0.000  1.00  0.00          FE  \nATOM    206   Fe MOL     1      10.000   8.000   2.000  1.00  0.00          FE  \nATOM    207   Fe MOL     1      10.000   8.000   4.000  1.00  0.00          FE  \nATOM    208   Fe MOL     1      10.000   8.000   6.000  1.00  0.00          FE  \nATOM    209   Fe MOL     1      10.000   8.000   8.000  1.00  0.00          FE  \nATOM    210   Fe MOL     1      10.000   8.000  10.000  1.00  0.00          FE  \nATOM    211   Fe MOL     1      10.000  10.000   0.000  1.00  0.00          FE  \nATOM    212   Fe MOL     1      10.000  10.000   2.000  1.00  0.00          FE  \nATOM    213   Fe MOL     1      10.000  10.000   4.000  1.00  0.00          FE  \nATOM    214   Fe MOL     1      10.000  10.000   6.000  1.00  0.00          FE  \nATOM    215   Fe MOL     1      10.000  10.000   8.000  1.00  0.00          FE  \nATOM    216   Fe MOL     1      10.000  10.000  10.000  1.00  0.00          FE  \nENDMDL\n",
           "type": "blob"
          }
         ],
         "kwargs": {
          "defaultRepresentation": false,
          "ext": "pdb"
         },
         "methodName": "loadFile",
         "reconstruc_color_scheme": false,
         "target": "Stage",
         "type": "call_method"
        },
        {
         "args": [
          "400px",
          "300px"
         ],
         "kwargs": {},
         "methodName": "setSize",
         "reconstruc_color_scheme": false,
         "target": "Widget",
         "type": "call_method"
        },
        {
         "args": [
          "unitcell"
         ],
         "component_index": 0,
         "kwargs": {
          "sele": "all"
         },
         "methodName": "addRepresentation",
         "reconstruc_color_scheme": false,
         "target": "compList",
         "type": "call_method"
        },
        {
         "args": [
          "spacefill"
         ],
         "component_index": 0,
         "kwargs": {
          "sele": "all"
         },
         "methodName": "addRepresentation",
         "reconstruc_color_scheme": false,
         "target": "compList",
         "type": "call_method"
        },
        {
         "args": [],
         "kwargs": {
          "cameraType": "orthographic"
         },
         "methodName": "setParameters",
         "reconstruc_color_scheme": false,
         "target": "Stage",
         "type": "call_method"
        },
        {
         "args": [
          {
           "clipDist": 0
          }
         ],
         "kwargs": {},
         "methodName": "setParameters",
         "reconstruc_color_scheme": false,
         "target": "Widget",
         "type": "call_method"
        },
        {
         "args": [
          "spacefill",
          0
         ],
         "kwargs": {
          "colorScale": "rainbow",
          "colorScheme": "element",
          "radiusScale": 0.5,
          "radiusType": "covalent"
         },
         "methodName": "updateRepresentationsByName",
         "reconstruc_color_scheme": false,
         "target": "Widget",
         "type": "call_method"
        },
        {
         "args": [
          "this._Q = [[1.0, 0.0, 0.0], [0.0, 1.0, 0.0], [0.0, 0.0, 1.0]]\n    var tooltip = document.createElement('div');\n    Object.assign(tooltip.style, {\n      display: 'none',\n      position: 'fixed',\n      zIndex: 10,\n      pointerEvents: 'none',\n      backgroundColor: 'rgba( 0, 0, 0, 0.6 )',\n      color: 'lightgrey',\n      padding: '8px',\n      fontFamily: 'sans-serif'\n    });\n    document.body.appendChild(tooltip);\n\n    var that = this;\n    this.stage.mouseControls.remove('hoverPick');\n    this.stage.signals.hovered.add(function (pickingProxy) {\n      if (pickingProxy && (pickingProxy.atom || pickingProxy.bond)) {\n        var atom = pickingProxy.atom || pickingProxy.closestBondAtom\n        var mp = pickingProxy.mouse.position\n        //tooltip.innerText = atom.element + ' i=' + atom.index + ' (' + atom.x.toFixed(2) +  ', ' + atom.y.toFixed(2) +  ', ' + atom.z.toFixed(2) + ')'\n        //var pos = that._atoms_pos[atom.index]\n        var Q = that._Q\n        var pos_x = Q[0][0] * atom.x + Q[0][1] * atom.y + Q[0][2] * atom.z \n        var pos_y = Q[1][0] * atom.x + Q[1][1] * atom.y + Q[1][2] * atom.z\n        var pos_z = Q[2][0] * atom.x + Q[2][1] * atom.y + Q[2][2] * atom.z\n        tooltip.innerText = 'i=' + atom.index + ' ' + atom.element + ' (' + pos_x.toFixed(2) +  ', ' + pos_y.toFixed(2) +  ', ' + pos_z.toFixed(2) + ')'\n        tooltip.style.bottom = window.innerHeight - mp.y + 3 + 'px'\n        tooltip.style.left = mp.x + 3 + 'px'\n        tooltip.style.display = 'block'\n      } else {\n        tooltip.style.display = 'none'\n      }\n    });\n    this.stage.tooltip = tooltip;\n    "
         ],
         "kwargs": {},
         "methodName": "executeCode",
         "reconstruc_color_scheme": false,
         "target": "Widget",
         "type": "call_method"
        }
       ],
       "_ngl_original_stage_parameters": {
        "ambientColor": 14540253,
        "ambientIntensity": 0.2,
        "backgroundColor": "white",
        "cameraEyeSep": 0.3,
        "cameraFov": 40,
        "cameraType": "perspective",
        "clipDist": 10,
        "clipFar": 100,
        "clipNear": 0,
        "fogFar": 100,
        "fogNear": 50,
        "hoverTimeout": 0,
        "impostor": true,
        "lightColor": 14540253,
        "lightIntensity": 1,
        "mousePreset": "default",
        "panSpeed": 1,
        "quality": "medium",
        "rotateSpeed": 2,
        "sampleLevel": 0,
        "tooltip": true,
        "workerDefault": true,
        "zoomSpeed": 1.2
       },
       "_ngl_repr_dict": {
        "0": {
         "0": {
          "params": {
           "clipCenter": {
            "x": 0,
            "y": 0,
            "z": 0
           },
           "clipNear": 0,
           "clipRadius": 0,
           "colorMode": "hcl",
           "colorReverse": false,
           "colorScale": "",
           "colorScheme": "element",
           "colorValue": "orange",
           "defaultAssembly": "",
           "depthWrite": true,
           "diffuse": 16777215,
           "diffuseInterior": false,
           "disableImpostor": false,
           "disablePicking": false,
           "flatShaded": false,
           "interiorColor": 2236962,
           "interiorDarkening": 0,
           "lazy": false,
           "matrix": {
            "elements": [
             1,
             0,
             0,
             0,
             0,
             1,
             0,
             0,
             0,
             0,
             1,
             0,
             0,
             0,
             0,
             1
            ]
           },
           "metalness": 0,
           "opacity": 1,
           "quality": "medium",
           "radialSegments": 10,
           "radiusData": {},
           "radiusScale": 1,
           "radiusSize": 0.05999999736623311,
           "radiusType": "vdw",
           "roughness": 0.4,
           "sele": "all",
           "side": "double",
           "sphereDetail": 1,
           "useInteriorColor": true,
           "visible": true,
           "wireframe": false
          },
          "type": "unitcell"
         },
         "1": {
          "params": {
           "assembly": "default",
           "clipCenter": {
            "x": 0,
            "y": 0,
            "z": 0
           },
           "clipNear": 0,
           "clipRadius": 0,
           "colorMode": "hcl",
           "colorReverse": false,
           "colorScale": "rainbow",
           "colorScheme": "element",
           "colorValue": 9474192,
           "defaultAssembly": "",
           "depthWrite": true,
           "diffuse": 16777215,
           "diffuseInterior": false,
           "disableImpostor": false,
           "disablePicking": false,
           "flatShaded": false,
           "interiorColor": 2236962,
           "interiorDarkening": 0,
           "lazy": false,
           "matrix": {
            "elements": [
             1,
             0,
             0,
             0,
             0,
             1,
             0,
             0,
             0,
             0,
             1,
             0,
             0,
             0,
             0,
             1
            ]
           },
           "metalness": 0,
           "opacity": 1,
           "quality": "medium",
           "radiusData": {},
           "radiusScale": 0.5,
           "radiusSize": 1,
           "radiusType": "covalent",
           "roughness": 0.4,
           "sele": "all",
           "side": "double",
           "sphereDetail": 1,
           "useInteriorColor": true,
           "visible": true,
           "wireframe": false
          },
          "type": "spacefill"
         }
        }
       },
       "_ngl_serialize": false,
       "_ngl_version": "2.0.0-dev.36",
       "_ngl_view_id": [
        "2565B62D-DA92-4C59-B952-F3DB1C75E57E"
       ],
       "_player_dict": {},
       "_scene_position": {},
       "_scene_rotation": {},
       "_synced_model_ids": [],
       "_synced_repr_model_ids": [],
       "_view_height": "",
       "_view_width": "",
       "background": "white",
       "frame": 0,
       "gui_style": null,
       "layout": "IPY_MODEL_1cc8d556b1704f3fa6528bc1b98626d6",
       "max_frame": 0,
       "n_components": 1,
       "picked": {}
      }
     },
     "cd03c00075ee4882ade19b0448252aee": {
      "model_module": "@jupyter-widgets/base",
      "model_module_version": "1.2.0",
      "model_name": "LayoutModel",
      "state": {}
     },
     "cd85b0036cda4656a90cc41d2f62712d": {
      "model_module": "@jupyter-widgets/base",
      "model_module_version": "1.2.0",
      "model_name": "LayoutModel",
      "state": {}
     },
     "cefa0b15af1d4a49bb28bc93c80c3d25": {
      "model_module": "@jupyter-widgets/controls",
      "model_module_version": "1.5.0",
      "model_name": "HBoxModel",
      "state": {
       "children": [
        "IPY_MODEL_23977554da934654ad14b7e489cd3c9e",
        "IPY_MODEL_339f85daa3484b2b8ba3ef75c815d2ca"
       ],
       "layout": "IPY_MODEL_09382af4a3e24c8db8505cdca20127f8"
      }
     },
     "cf8abfeb002e45b5a89e5705ec9d3ac5": {
      "model_module": "@jupyter-widgets/controls",
      "model_module_version": "1.5.0",
      "model_name": "SliderStyleModel",
      "state": {
       "description_width": ""
      }
     },
     "cfe4049b950e4256b01f0ef69cfc7940": {
      "model_module": "@jupyter-widgets/controls",
      "model_module_version": "1.5.0",
      "model_name": "HBoxModel",
      "state": {
       "children": [
        "IPY_MODEL_4dae4b50ebbe4599a6ecbf0a32cd2d32",
        "IPY_MODEL_9a308942292c4bd7811e0085f6fd0fb4"
       ],
       "layout": "IPY_MODEL_91a9e1c18f594ae6a2735a7f0bbf9f8e"
      }
     },
     "cff2b1d3c552404c9c1ca850367cb821": {
      "model_module": "nglview-js-widgets",
      "model_module_version": "3.0.1",
      "model_name": "ColormakerRegistryModel",
      "state": {
       "_msg_ar": [],
       "_msg_q": [],
       "_ready": true,
       "layout": "IPY_MODEL_297ecea523c942b4a8907029610d2b93"
      }
     },
     "cffeee27bee0441490ec8130f3fe4978": {
      "model_module": "@jupyter-widgets/controls",
      "model_module_version": "1.5.0",
      "model_name": "ButtonStyleModel",
      "state": {}
     },
     "d09c2213053f4546a85369e6272a7f98": {
      "model_module": "@jupyter-widgets/controls",
      "model_module_version": "1.5.0",
      "model_name": "ButtonStyleModel",
      "state": {}
     },
     "d1ea0ba3431c4d0c8f481df87f7ffa80": {
      "model_module": "@jupyter-widgets/controls",
      "model_module_version": "1.5.0",
      "model_name": "DropdownModel",
      "state": {
       "_options_labels": [
        "All",
        "Fe"
       ],
       "description": "Show",
       "index": 0,
       "layout": "IPY_MODEL_a051e883e52840b5b27fb0c830c154f2",
       "style": "IPY_MODEL_ca9fa73f232842a0a36bc7b1be458a39"
      }
     },
     "d27ff6ab0d6b4d74a30067c2504e9342": {
      "model_module": "@jupyter-widgets/controls",
      "model_module_version": "1.5.0",
      "model_name": "LinkModel",
      "state": {
       "source": [
        "IPY_MODEL_9fb9cfe1f74f44bbb79b6bb9e4163c0a",
        "value"
       ],
       "target": [
        "IPY_MODEL_eda52e2d37574bf6b136a21c20ac31e5",
        "value"
       ]
      }
     },
     "d2b710c3e9144dea8bccf9958c96b501": {
      "model_module": "@jupyter-widgets/controls",
      "model_module_version": "1.5.0",
      "model_name": "SliderStyleModel",
      "state": {
       "description_width": ""
      }
     },
     "d30ea0a660d14abe933cb839111b8a02": {
      "model_module": "@jupyter-widgets/controls",
      "model_module_version": "1.5.0",
      "model_name": "ButtonStyleModel",
      "state": {}
     },
     "d3df1c3f817149aeb522535ff05daecd": {
      "model_module": "@jupyter-widgets/controls",
      "model_module_version": "1.5.0",
      "model_name": "FloatSliderModel",
      "state": {
       "description": "Force scale",
       "layout": "IPY_MODEL_caf2c3829e3e4300930214d8ec4ce227",
       "step": 0.1,
       "style": "IPY_MODEL_e5c3d41c7345485ca3bc9006d3c7ef30",
       "value": 0.5
      }
     },
     "d444c953b086426a8650e25e15146bfc": {
      "model_module": "@jupyter-widgets/controls",
      "model_module_version": "1.5.0",
      "model_name": "DropdownModel",
      "state": {
       "_options_labels": [
        " ",
        "picking",
        "random",
        "uniform",
        "atomindex",
        "residueindex",
        "chainindex",
        "modelindex",
        "sstruc",
        "element",
        "resname",
        "bfactor",
        "hydrophobicity",
        "value",
        "volume",
        "occupancy"
       ],
       "description": "Color scheme",
       "index": 9,
       "layout": "IPY_MODEL_6f01b11775b54604b37c51d0ecfc038e",
       "style": "IPY_MODEL_373c0f77ce2b4ce98d94198c4ead2bfa"
      }
     },
     "d455aa1252e24c3ca609cfa619254924": {
      "model_module": "@jupyter-widgets/controls",
      "model_module_version": "1.5.0",
      "model_name": "DescriptionStyleModel",
      "state": {
       "description_width": ""
      }
     },
     "d4b3e427da2d48b6af36fe56d41d4eb5": {
      "model_module": "@jupyter-widgets/controls",
      "model_module_version": "1.5.0",
      "model_name": "DropdownModel",
      "state": {
       "_options_labels": [
        " ",
        "picking",
        "random",
        "uniform",
        "atomindex",
        "residueindex",
        "chainindex",
        "modelindex",
        "sstruc",
        "element",
        "resname",
        "bfactor",
        "hydrophobicity",
        "value",
        "volume",
        "occupancy"
       ],
       "description": "Color scheme",
       "index": 9,
       "layout": "IPY_MODEL_b4f603c25c3f48beb028521e13036d56",
       "style": "IPY_MODEL_a8d7a23f5d08462f8574483caaffcbbb"
      }
     },
     "d6909d3ce6a84597bda67d2efaa5c146": {
      "model_module": "@jupyter-widgets/base",
      "model_module_version": "1.2.0",
      "model_name": "LayoutModel",
      "state": {}
     },
     "d6b23750a0d04e5190623405aacb287e": {
      "model_module": "@jupyter-widgets/controls",
      "model_module_version": "1.5.0",
      "model_name": "FloatSliderModel",
      "state": {
       "description": "Force scale",
       "layout": "IPY_MODEL_e75a2993030a4d229dd05d277ac1e7a3",
       "step": 0.1,
       "style": "IPY_MODEL_a4c0187d3df244d1b4c7f65747e3719d",
       "value": 0.5
      }
     },
     "d7bf2ebae8b94bc5852d1eafddd00aca": {
      "model_module": "@jupyter-widgets/base",
      "model_module_version": "1.2.0",
      "model_name": "LayoutModel",
      "state": {}
     },
     "d817e96909e94ee6a943787111b410cb": {
      "model_module": "@jupyter-widgets/controls",
      "model_module_version": "1.5.0",
      "model_name": "SliderStyleModel",
      "state": {
       "description_width": ""
      }
     },
     "d8db4eeea5164e16b7d59868883a1f62": {
      "model_module": "@jupyter-widgets/controls",
      "model_module_version": "1.5.0",
      "model_name": "SliderStyleModel",
      "state": {
       "description_width": ""
      }
     },
     "dabe4b51afe04afd82153119d3cefb0d": {
      "model_module": "@jupyter-widgets/base",
      "model_module_version": "1.2.0",
      "model_name": "LayoutModel",
      "state": {}
     },
     "db1a2dc06a744f699cd47f4c2813958e": {
      "model_module": "@jupyter-widgets/controls",
      "model_module_version": "1.5.0",
      "model_name": "FloatSliderModel",
      "state": {
       "description": "Charge scale",
       "layout": "IPY_MODEL_23b3ce1e3ee447fdae2a6cf347464773",
       "step": 0.1,
       "style": "IPY_MODEL_ecdd4c3ec17d4db69d6a8f5baf03461f",
       "value": 1
      }
     },
     "dc7bacbd4da2469ea7cfdb5f34588abc": {
      "model_module": "@jupyter-widgets/controls",
      "model_module_version": "1.5.0",
      "model_name": "LinkModel",
      "state": {
       "source": [
        "IPY_MODEL_9fb9cfe1f74f44bbb79b6bb9e4163c0a",
        "value"
       ],
       "target": [
        "IPY_MODEL_061858c4ca634ae0a1cf70432e4ba667",
        "frame"
       ]
      }
     },
     "dca892ac375c41a89407abe51884732f": {
      "model_module": "@jupyter-widgets/controls",
      "model_module_version": "1.5.0",
      "model_name": "SliderStyleModel",
      "state": {
       "description_width": ""
      }
     },
     "dcbd4b0d7f8a4514a5b605801f07d749": {
      "model_module": "@jupyter-widgets/base",
      "model_module_version": "1.2.0",
      "model_name": "LayoutModel",
      "state": {}
     },
     "df26b274ac4f4dfda2360451ca1b1e8c": {
      "model_module": "@jupyter-widgets/controls",
      "model_module_version": "1.5.0",
      "model_name": "DescriptionStyleModel",
      "state": {
       "description_width": ""
      }
     },
     "df789fef88e44f4f92565ddcef95218d": {
      "model_module": "@jupyter-widgets/controls",
      "model_module_version": "1.5.0",
      "model_name": "CheckboxModel",
      "state": {
       "description": "Show charge",
       "disabled": false,
       "layout": "IPY_MODEL_35dafe600ecd4fa3b34b26937b969606",
       "style": "IPY_MODEL_c62533f2efaa4a9c8881620d72b41d82",
       "value": false
      }
     },
     "df7febc71df040ad8684941bb63bff4d": {
      "model_module": "@jupyter-widgets/base",
      "model_module_version": "1.2.0",
      "model_name": "LayoutModel",
      "state": {}
     },
     "dfe68fd38f28499193c57d4fb9cf3f35": {
      "model_module": "@jupyter-widgets/base",
      "model_module_version": "1.2.0",
      "model_name": "LayoutModel",
      "state": {
       "width": "34px"
      }
     },
     "e008bccc89d040feacbdd0eefee44870": {
      "model_module": "@jupyter-widgets/controls",
      "model_module_version": "1.5.0",
      "model_name": "ButtonStyleModel",
      "state": {}
     },
     "e12a7974d6704abe96e28a8498752bb4": {
      "model_module": "@jupyter-widgets/controls",
      "model_module_version": "1.5.0",
      "model_name": "DescriptionStyleModel",
      "state": {
       "description_width": ""
      }
     },
     "e23e86d105be431f97911d69ec4a8179": {
      "model_module": "@jupyter-widgets/controls",
      "model_module_version": "1.5.0",
      "model_name": "PlayModel",
      "state": {
       "layout": "IPY_MODEL_b6bf458cf7304d5fbbcde44a57dd77e6",
       "max": 0,
       "style": "IPY_MODEL_ee8c12d28d3546b3b162a6c8a31776e0"
      }
     },
     "e266f42f1ddd4bf1af255afec72fbf62": {
      "model_module": "@jupyter-widgets/controls",
      "model_module_version": "1.5.0",
      "model_name": "ButtonModel",
      "state": {
       "description": "Download image",
       "layout": "IPY_MODEL_d7bf2ebae8b94bc5852d1eafddd00aca",
       "style": "IPY_MODEL_a84425d9dd75465ea5cb003948ae4389",
       "tooltip": "Download current frame to your local PC"
      }
     },
     "e27597feff1846e7b2d8dc3ad3eea01f": {
      "model_module": "@jupyter-widgets/controls",
      "model_module_version": "1.5.0",
      "model_name": "SliderStyleModel",
      "state": {
       "description_width": ""
      }
     },
     "e2790b5c5625470da769de8b7fd52ca5": {
      "model_module": "@jupyter-widgets/controls",
      "model_module_version": "1.5.0",
      "model_name": "SliderStyleModel",
      "state": {
       "description_width": ""
      }
     },
     "e2934fabe5444fd69356d3b6105ae1ae": {
      "model_module": "@jupyter-widgets/base",
      "model_module_version": "1.2.0",
      "model_name": "LayoutModel",
      "state": {}
     },
     "e2dd1548163c49a88b273ca8fa703c6d": {
      "model_module": "@jupyter-widgets/controls",
      "model_module_version": "1.5.0",
      "model_name": "ImageModel",
      "state": {
       "layout": "IPY_MODEL_f39929f33f9849f1ac82dece4a10388c",
       "width": "900.0"
      }
     },
     "e2ecfd5fc58a4c739a6a9533797a0445": {
      "model_module": "@jupyter-widgets/controls",
      "model_module_version": "1.5.0",
      "model_name": "SliderStyleModel",
      "state": {
       "description_width": ""
      }
     },
     "e38c701be53f42bb9295eaebd47480d4": {
      "model_module": "@jupyter-widgets/base",
      "model_module_version": "1.2.0",
      "model_name": "LayoutModel",
      "state": {}
     },
     "e4158c0efdd74248abc58c86d5fd5b90": {
      "model_module": "@jupyter-widgets/controls",
      "model_module_version": "1.5.0",
      "model_name": "LinkModel",
      "state": {
       "source": [
        "IPY_MODEL_e76c31e3354c412282f160a1c9bb0c1a",
        "value"
       ],
       "target": [
        "IPY_MODEL_23977554da934654ad14b7e489cd3c9e",
        "frame"
       ]
      }
     },
     "e46ca3119c5c44058579bae7d06815a5": {
      "model_module": "@jupyter-widgets/controls",
      "model_module_version": "1.5.0",
      "model_name": "LinkModel",
      "state": {
       "source": [
        "IPY_MODEL_a297eb5f20c849c28693aa50e181669c",
        "value"
       ],
       "target": [
        "IPY_MODEL_7551fe67b6a04789a71cd3b2c899197b",
        "value"
       ]
      }
     },
     "e4a7ec4a8c944a5f90eccbb62d057c0a": {
      "model_module": "@jupyter-widgets/controls",
      "model_module_version": "1.5.0",
      "model_name": "LinkModel",
      "state": {
       "source": [
        "IPY_MODEL_15bf3446e11f4936b15370b798165170",
        "value"
       ],
       "target": [
        "IPY_MODEL_3d44103f214046f887a56d5c3b1db06b",
        "value"
       ]
      }
     },
     "e50821bb2145436286c4d6da23f9769c": {
      "model_module": "@jupyter-widgets/base",
      "model_module_version": "1.2.0",
      "model_name": "LayoutModel",
      "state": {}
     },
     "e52bfef9e3cd4d5b8e0ba8bd87923f82": {
      "model_module": "@jupyter-widgets/base",
      "model_module_version": "1.2.0",
      "model_name": "LayoutModel",
      "state": {}
     },
     "e55212f2d66f471292f5167fc4205470": {
      "model_module": "@jupyter-widgets/controls",
      "model_module_version": "1.5.0",
      "model_name": "ButtonModel",
      "state": {
       "description": "Save image",
       "layout": "IPY_MODEL_1723212e7e674d38b45d370716694ffa",
       "style": "IPY_MODEL_d09c2213053f4546a85369e6272a7f98",
       "tooltip": "Save current frame to file.\nCurrently .png and .html are supported.\nIt takes a bit time, please be patient."
      }
     },
     "e589bdfe53c748b3b94e07ab59aaa386": {
      "model_module": "@jupyter-widgets/controls",
      "model_module_version": "1.5.0",
      "model_name": "DescriptionStyleModel",
      "state": {
       "description_width": ""
      }
     },
     "e5c3d41c7345485ca3bc9006d3c7ef30": {
      "model_module": "@jupyter-widgets/controls",
      "model_module_version": "1.5.0",
      "model_name": "SliderStyleModel",
      "state": {
       "description_width": ""
      }
     },
     "e5c4d459fdbf42eca73a6c3cca1916c3": {
      "model_module": "@jupyter-widgets/controls",
      "model_module_version": "1.5.0",
      "model_name": "LinkModel",
      "state": {
       "source": [
        "IPY_MODEL_45bffcdd5834457d876d863bd2b6d4e8",
        "max"
       ],
       "target": [
        "IPY_MODEL_2739154ff2854d14b619a39759a8f8fd",
        "max_frame"
       ]
      }
     },
     "e75a2993030a4d229dd05d277ac1e7a3": {
      "model_module": "@jupyter-widgets/base",
      "model_module_version": "1.2.0",
      "model_name": "LayoutModel",
      "state": {}
     },
     "e76c31e3354c412282f160a1c9bb0c1a": {
      "model_module": "@jupyter-widgets/controls",
      "model_module_version": "1.5.0",
      "model_name": "PlayModel",
      "state": {
       "layout": "IPY_MODEL_eb9a26a9ec09402a8b864c0698781236",
       "max": 0,
       "style": "IPY_MODEL_a2e6288b078e4ece88b7daec30c56aca"
      }
     },
     "e78131aea488458bb1642d62fa969426": {
      "model_module": "@jupyter-widgets/controls",
      "model_module_version": "1.5.0",
      "model_name": "DescriptionStyleModel",
      "state": {
       "description_width": ""
      }
     },
     "e791d9cf9dea4a6e94da8797b753df0d": {
      "model_module": "@jupyter-widgets/base",
      "model_module_version": "1.2.0",
      "model_name": "LayoutModel",
      "state": {}
     },
     "e8d9e6d296eb46e1bc29df023b7aae1d": {
      "model_module": "@jupyter-widgets/controls",
      "model_module_version": "1.5.0",
      "model_name": "VBoxModel",
      "state": {
       "children": [
        "IPY_MODEL_b04f67d8a8e143ebad80c9c93fddd758",
        "IPY_MODEL_5ac31b038b0349e783634160961095af",
        "IPY_MODEL_b18a95bdef574e2bbf5df7c3fe7a198e",
        "IPY_MODEL_125ad0cf258743e293adda02a260c3bc",
        "IPY_MODEL_76870aa55b46428d862bc4c049037aff",
        "IPY_MODEL_3dc0cde7ec6a45c6aff81043c2e638d7",
        "IPY_MODEL_eb80a913781f4e368d6a31231b24a64e",
        "IPY_MODEL_72dbf8968869430b8b265be9c9a16984",
        "IPY_MODEL_db1a2dc06a744f699cd47f4c2813958e",
        "IPY_MODEL_52a8470def1f4f0ebf13f4a2ae0578c5"
       ],
       "layout": "IPY_MODEL_c2d0c61f718f4f12beb4480f7b625e17"
      }
     },
     "e975d5f9506b4d9aac84ce7ec7a07e47": {
      "model_module": "@jupyter-widgets/controls",
      "model_module_version": "1.5.0",
      "model_name": "DescriptionStyleModel",
      "state": {
       "description_width": ""
      }
     },
     "e99304292a1e4d07b3670f2c118203a7": {
      "model_module": "@jupyter-widgets/controls",
      "model_module_version": "1.5.0",
      "model_name": "LinkModel",
      "state": {
       "source": [
        "IPY_MODEL_e23e86d105be431f97911d69ec4a8179",
        "value"
       ],
       "target": [
        "IPY_MODEL_cac0ca9cb3554d1db64e0808756357d4",
        "value"
       ]
      }
     },
     "ea1ed236235a464e97a0f8f8a8596552": {
      "model_module": "@jupyter-widgets/controls",
      "model_module_version": "1.5.0",
      "model_name": "DescriptionStyleModel",
      "state": {
       "description_width": ""
      }
     },
     "eb80a913781f4e368d6a31231b24a64e": {
      "model_module": "@jupyter-widgets/controls",
      "model_module_version": "1.5.0",
      "model_name": "FloatSliderModel",
      "state": {
       "description": "Force scale",
       "layout": "IPY_MODEL_3d384e427fe941f0acb23689fc00da09",
       "step": 0.1,
       "style": "IPY_MODEL_e2790b5c5625470da769de8b7fd52ca5",
       "value": 0.5
      }
     },
     "eb9a26a9ec09402a8b864c0698781236": {
      "model_module": "@jupyter-widgets/base",
      "model_module_version": "1.2.0",
      "model_name": "LayoutModel",
      "state": {}
     },
     "eca5644be7a14197881ae85745b06eda": {
      "model_module": "@jupyter-widgets/base",
      "model_module_version": "1.2.0",
      "model_name": "LayoutModel",
      "state": {}
     },
     "ecb634bbd27b46e281feccabc7ef8ad5": {
      "model_module": "@jupyter-widgets/base",
      "model_module_version": "1.2.0",
      "model_name": "LayoutModel",
      "state": {}
     },
     "ecdd4c3ec17d4db69d6a8f5baf03461f": {
      "model_module": "@jupyter-widgets/controls",
      "model_module_version": "1.5.0",
      "model_name": "SliderStyleModel",
      "state": {
       "description_width": ""
      }
     },
     "ed49e2f238484c4f969c5140ba0ae42c": {
      "model_module": "@jupyter-widgets/base",
      "model_module_version": "1.2.0",
      "model_name": "LayoutModel",
      "state": {}
     },
     "ed5e1717fd904654bc42c57b6df0444a": {
      "model_module": "@jupyter-widgets/controls",
      "model_module_version": "1.5.0",
      "model_name": "FloatSliderModel",
      "state": {
       "description": "Ball size",
       "layout": "IPY_MODEL_6da8881cace94d13a047f0551e8c9ea8",
       "max": 1.5,
       "step": 0.01,
       "style": "IPY_MODEL_4ca882781f1e4f40be1b9eef0c9a1855",
       "value": 0.5
      }
     },
     "ed6f88aa8c7f4336a5b44c402a27eebb": {
      "model_module": "@jupyter-widgets/controls",
      "model_module_version": "1.5.0",
      "model_name": "ButtonModel",
      "state": {
       "description": "Download image",
       "layout": "IPY_MODEL_98c62cbf92e64bffa39c945deb686fc5",
       "style": "IPY_MODEL_fb0a156dd4034503b840c9393722b1de",
       "tooltip": "Download current frame to your local PC"
      }
     },
     "eda52e2d37574bf6b136a21c20ac31e5": {
      "model_module": "@jupyter-widgets/controls",
      "model_module_version": "1.5.0",
      "model_name": "IntSliderModel",
      "state": {
       "layout": "IPY_MODEL_19ec90848e004aada58669986cadf1f3",
       "max": 0,
       "style": "IPY_MODEL_0844435af96e42f682188b9e44dcb25b"
      }
     },
     "ee60d88442da48cd95ebfd09411347d7": {
      "model_module": "@jupyter-widgets/controls",
      "model_module_version": "1.5.0",
      "model_name": "LinkModel",
      "state": {
       "source": [
        "IPY_MODEL_45bffcdd5834457d876d863bd2b6d4e8",
        "value"
       ],
       "target": [
        "IPY_MODEL_6d5a61f2c79b4a47865122be10432b7f",
        "value"
       ]
      }
     },
     "ee80931adf794c02849c7d81c8cc0f8e": {
      "model_module": "nglview-js-widgets",
      "model_module_version": "3.0.1",
      "model_name": "NGLModel",
      "state": {
       "_camera_orientation": [
        13.378999505273882,
        0.7340395243732227,
        11.235039409616542,
        0,
        -0.9283299353749476,
        17.461371821771916,
        -0.03535468869874223,
        0,
        -11.220656312803868,
        -0.5694140844624188,
        13.399074290093605,
        0,
        0.8285001516342163,
        -0.5859998464584351,
        -3.0439999103546143,
        1
       ],
       "_camera_str": "orthographic",
       "_gui_theme": null,
       "_ibtn_fullscreen": "IPY_MODEL_c028134f930e4d7db6247677a6a0d753",
       "_igui": null,
       "_iplayer": "IPY_MODEL_7cb6f63eba044512a891ed113b617eff",
       "_ngl_color_dict": {},
       "_ngl_coordinate_resource": {},
       "_ngl_full_stage_parameters": {
        "ambientColor": 14540253,
        "ambientIntensity": 0.2,
        "backgroundColor": "white",
        "cameraEyeSep": 0.3,
        "cameraFov": 40,
        "cameraType": "orthographic",
        "clipDist": 0,
        "clipFar": 100,
        "clipNear": 0,
        "fogFar": 100,
        "fogNear": 50,
        "hoverTimeout": 0,
        "impostor": true,
        "lightColor": 14540253,
        "lightIntensity": 1,
        "mousePreset": "default",
        "panSpeed": 1,
        "quality": "medium",
        "rotateSpeed": 2,
        "sampleLevel": 0,
        "tooltip": true,
        "workerDefault": true,
        "zoomSpeed": 1.2
       },
       "_ngl_msg_archive": [
        {
         "args": [
          {
           "binary": false,
           "data": "CRYST1    4.971    7.456    9.942 109.47 109.47 109.47 P 1\nMODEL     1\nATOM      1   Fe MOL     1       0.000   0.000   0.000  1.00  0.00          FE  \nATOM      2   Fe MOL     1      -0.828  -1.172   2.029  1.00  0.00          FE  \nATOM      3   Fe MOL     1      -1.657  -2.343   4.059  1.00  0.00          FE  \nATOM      4   Fe MOL     1      -2.485  -3.515   6.088  1.00  0.00          FE  \nATOM      5   Fe MOL     1      -0.828   2.343   0.000  1.00  0.00          FE  \nATOM      6   Fe MOL     1      -1.657   1.172   2.029  1.00  0.00          FE  \nATOM      7   Fe MOL     1      -2.485   0.000   4.059  1.00  0.00          FE  \nATOM      8   Fe MOL     1      -3.314  -1.172   6.088  1.00  0.00          FE  \nATOM      9   Fe MOL     1      -1.657   4.687   0.000  1.00  0.00          FE  \nATOM     10   Fe MOL     1      -2.485   3.515   2.029  1.00  0.00          FE  \nATOM     11   Fe MOL     1      -3.314   2.343   4.059  1.00  0.00          FE  \nATOM     12   Fe MOL     1      -4.142   1.172   6.088  1.00  0.00          FE  \nATOM     13   Fe MOL     1       2.485   0.000  -0.000  1.00  0.00          FE  \nATOM     14   Fe MOL     1       1.657  -1.172   2.029  1.00  0.00          FE  \nATOM     15   Fe MOL     1       0.828  -2.343   4.059  1.00  0.00          FE  \nATOM     16   Fe MOL     1       0.000  -3.515   6.088  1.00  0.00          FE  \nATOM     17   Fe MOL     1       1.657   2.343   0.000  1.00  0.00          FE  \nATOM     18   Fe MOL     1       0.828   1.172   2.029  1.00  0.00          FE  \nATOM     19   Fe MOL     1       0.000   0.000   4.059  1.00  0.00          FE  \nATOM     20   Fe MOL     1      -0.828  -1.172   6.088  1.00  0.00          FE  \nATOM     21   Fe MOL     1       0.828   4.687   0.000  1.00  0.00          FE  \nATOM     22   Fe MOL     1       0.000   3.515   2.029  1.00  0.00          FE  \nATOM     23   Fe MOL     1      -0.828   2.343   4.059  1.00  0.00          FE  \nATOM     24   Fe MOL     1      -1.657   1.172   6.088  1.00  0.00          FE  \nENDMDL\n",
           "type": "blob"
          }
         ],
         "kwargs": {
          "defaultRepresentation": false,
          "ext": "pdb"
         },
         "methodName": "loadFile",
         "reconstruc_color_scheme": false,
         "target": "Stage",
         "type": "call_method"
        },
        {
         "args": [
          "400px",
          "300px"
         ],
         "kwargs": {},
         "methodName": "setSize",
         "reconstruc_color_scheme": false,
         "target": "Widget",
         "type": "call_method"
        },
        {
         "args": [
          "unitcell"
         ],
         "component_index": 0,
         "kwargs": {
          "sele": "all"
         },
         "methodName": "addRepresentation",
         "reconstruc_color_scheme": false,
         "target": "compList",
         "type": "call_method"
        },
        {
         "args": [
          "spacefill"
         ],
         "component_index": 0,
         "kwargs": {
          "sele": "all"
         },
         "methodName": "addRepresentation",
         "reconstruc_color_scheme": false,
         "target": "compList",
         "type": "call_method"
        },
        {
         "args": [],
         "kwargs": {
          "cameraType": "orthographic"
         },
         "methodName": "setParameters",
         "reconstruc_color_scheme": false,
         "target": "Stage",
         "type": "call_method"
        },
        {
         "args": [
          {
           "clipDist": 0
          }
         ],
         "kwargs": {},
         "methodName": "setParameters",
         "reconstruc_color_scheme": false,
         "target": "Widget",
         "type": "call_method"
        },
        {
         "args": [
          "spacefill",
          0
         ],
         "kwargs": {
          "colorScale": "rainbow",
          "colorScheme": "element",
          "radiusScale": 0.5,
          "radiusType": "covalent"
         },
         "methodName": "updateRepresentationsByName",
         "reconstruc_color_scheme": false,
         "target": "Widget",
         "type": "call_method"
        },
        {
         "args": [
          "this._Q = [[-0.5773502691896257, 0.5773502691896257, 0.5773502691896257], [0.40824829046386313, -0.408248290463863, 0.8164965809277261], [0.7071067811865476, 0.7071067811865477, -2.6638240557478837e-16]]\n    var tooltip = document.createElement('div');\n    Object.assign(tooltip.style, {\n      display: 'none',\n      position: 'fixed',\n      zIndex: 10,\n      pointerEvents: 'none',\n      backgroundColor: 'rgba( 0, 0, 0, 0.6 )',\n      color: 'lightgrey',\n      padding: '8px',\n      fontFamily: 'sans-serif'\n    });\n    document.body.appendChild(tooltip);\n\n    var that = this;\n    this.stage.mouseControls.remove('hoverPick');\n    this.stage.signals.hovered.add(function (pickingProxy) {\n      if (pickingProxy && (pickingProxy.atom || pickingProxy.bond)) {\n        var atom = pickingProxy.atom || pickingProxy.closestBondAtom\n        var mp = pickingProxy.mouse.position\n        //tooltip.innerText = atom.element + ' i=' + atom.index + ' (' + atom.x.toFixed(2) +  ', ' + atom.y.toFixed(2) +  ', ' + atom.z.toFixed(2) + ')'\n        //var pos = that._atoms_pos[atom.index]\n        var Q = that._Q\n        var pos_x = Q[0][0] * atom.x + Q[0][1] * atom.y + Q[0][2] * atom.z \n        var pos_y = Q[1][0] * atom.x + Q[1][1] * atom.y + Q[1][2] * atom.z\n        var pos_z = Q[2][0] * atom.x + Q[2][1] * atom.y + Q[2][2] * atom.z\n        tooltip.innerText = 'i=' + atom.index + ' ' + atom.element + ' (' + pos_x.toFixed(2) +  ', ' + pos_y.toFixed(2) +  ', ' + pos_z.toFixed(2) + ')'\n        tooltip.style.bottom = window.innerHeight - mp.y + 3 + 'px'\n        tooltip.style.left = mp.x + 3 + 'px'\n        tooltip.style.display = 'block'\n      } else {\n        tooltip.style.display = 'none'\n      }\n    });\n    this.stage.tooltip = tooltip;\n    "
         ],
         "kwargs": {},
         "methodName": "executeCode",
         "reconstruc_color_scheme": false,
         "target": "Widget",
         "type": "call_method"
        }
       ],
       "_ngl_original_stage_parameters": {
        "ambientColor": 14540253,
        "ambientIntensity": 0.2,
        "backgroundColor": "white",
        "cameraEyeSep": 0.3,
        "cameraFov": 40,
        "cameraType": "perspective",
        "clipDist": 10,
        "clipFar": 100,
        "clipNear": 0,
        "fogFar": 100,
        "fogNear": 50,
        "hoverTimeout": 0,
        "impostor": true,
        "lightColor": 14540253,
        "lightIntensity": 1,
        "mousePreset": "default",
        "panSpeed": 1,
        "quality": "medium",
        "rotateSpeed": 2,
        "sampleLevel": 0,
        "tooltip": true,
        "workerDefault": true,
        "zoomSpeed": 1.2
       },
       "_ngl_repr_dict": {
        "0": {
         "0": {
          "params": {
           "clipCenter": {
            "x": 0,
            "y": 0,
            "z": 0
           },
           "clipNear": 0,
           "clipRadius": 0,
           "colorMode": "hcl",
           "colorReverse": false,
           "colorScale": "",
           "colorScheme": "element",
           "colorValue": "orange",
           "defaultAssembly": "",
           "depthWrite": true,
           "diffuse": 16777215,
           "diffuseInterior": false,
           "disableImpostor": false,
           "disablePicking": false,
           "flatShaded": false,
           "interiorColor": 2236962,
           "interiorDarkening": 0,
           "lazy": false,
           "matrix": {
            "elements": [
             1,
             0,
             0,
             0,
             0,
             1,
             0,
             0,
             0,
             0,
             1,
             0,
             0,
             0,
             0,
             1
            ]
           },
           "metalness": 0,
           "opacity": 1,
           "quality": "medium",
           "radialSegments": 10,
           "radiusData": {},
           "radiusScale": 1,
           "radiusSize": 0.03286151464600358,
           "radiusType": "vdw",
           "roughness": 0.4,
           "sele": "all",
           "side": "double",
           "sphereDetail": 1,
           "useInteriorColor": true,
           "visible": true,
           "wireframe": false
          },
          "type": "unitcell"
         },
         "1": {
          "params": {
           "assembly": "default",
           "clipCenter": {
            "x": 0,
            "y": 0,
            "z": 0
           },
           "clipNear": 0,
           "clipRadius": 0,
           "colorMode": "hcl",
           "colorReverse": false,
           "colorScale": "rainbow",
           "colorScheme": "element",
           "colorValue": 9474192,
           "defaultAssembly": "",
           "depthWrite": true,
           "diffuse": 16777215,
           "diffuseInterior": false,
           "disableImpostor": false,
           "disablePicking": false,
           "flatShaded": false,
           "interiorColor": 2236962,
           "interiorDarkening": 0,
           "lazy": false,
           "matrix": {
            "elements": [
             1,
             0,
             0,
             0,
             0,
             1,
             0,
             0,
             0,
             0,
             1,
             0,
             0,
             0,
             0,
             1
            ]
           },
           "metalness": 0,
           "opacity": 1,
           "quality": "medium",
           "radiusData": {},
           "radiusScale": 0.5,
           "radiusSize": 1,
           "radiusType": "covalent",
           "roughness": 0.4,
           "sele": "all",
           "side": "double",
           "sphereDetail": 1,
           "useInteriorColor": true,
           "visible": true,
           "wireframe": false
          },
          "type": "spacefill"
         }
        }
       },
       "_ngl_serialize": false,
       "_ngl_version": "2.0.0-dev.36",
       "_ngl_view_id": [
        "08777249-AA81-47CE-80CA-9CA3E6A6080F"
       ],
       "_player_dict": {},
       "_scene_position": {},
       "_scene_rotation": {},
       "_synced_model_ids": [],
       "_synced_repr_model_ids": [],
       "_view_height": "",
       "_view_width": "",
       "background": "white",
       "frame": 0,
       "gui_style": null,
       "layout": "IPY_MODEL_8e7b02fa775b4122bd179b6d2fc309d8",
       "max_frame": 0,
       "n_components": 1,
       "picked": {}
      }
     },
     "ee8c12d28d3546b3b162a6c8a31776e0": {
      "model_module": "@jupyter-widgets/controls",
      "model_module_version": "1.5.0",
      "model_name": "DescriptionStyleModel",
      "state": {
       "description_width": ""
      }
     },
     "ef0bd28176f748518cfa89876f5a193c": {
      "model_module": "@jupyter-widgets/controls",
      "model_module_version": "1.5.0",
      "model_name": "FloatSliderModel",
      "state": {
       "description": "Ball size",
       "layout": "IPY_MODEL_e50821bb2145436286c4d6da23f9769c",
       "max": 1.5,
       "step": 0.01,
       "style": "IPY_MODEL_6143587ee96548ac9fee17018c47794c",
       "value": 0.5
      }
     },
     "ef91d363baa84b9998067ddcac0f8214": {
      "model_module": "@jupyter-widgets/base",
      "model_module_version": "1.2.0",
      "model_name": "LayoutModel",
      "state": {}
     },
     "f0d6c515d5224a81bf8fe27d0006cfa7": {
      "model_module": "@jupyter-widgets/base",
      "model_module_version": "1.2.0",
      "model_name": "LayoutModel",
      "state": {
       "border": "0px solid black"
      }
     },
     "f1931388a42145f1b9917829e432505f": {
      "model_module": "@jupyter-widgets/base",
      "model_module_version": "1.2.0",
      "model_name": "LayoutModel",
      "state": {}
     },
     "f2b4ba232c864a0ebcbf4085a4f8896d": {
      "model_module": "@jupyter-widgets/controls",
      "model_module_version": "1.5.0",
      "model_name": "DescriptionStyleModel",
      "state": {
       "description_width": ""
      }
     },
     "f301696a70bb4a9bbe123cbaffd550fb": {
      "model_module": "@jupyter-widgets/base",
      "model_module_version": "1.2.0",
      "model_name": "LayoutModel",
      "state": {}
     },
     "f39929f33f9849f1ac82dece4a10388c": {
      "model_module": "@jupyter-widgets/base",
      "model_module_version": "1.2.0",
      "model_name": "LayoutModel",
      "state": {}
     },
     "f403a17380774bc09445389aab1f893e": {
      "model_module": "@jupyter-widgets/controls",
      "model_module_version": "1.5.0",
      "model_name": "FloatSliderModel",
      "state": {
       "description": "Charge scale",
       "layout": "IPY_MODEL_17cb2a5acf324718893c5bf3ef22efa3",
       "step": 0.1,
       "style": "IPY_MODEL_69a6bd5fce7540cda3dc2c300f0adfe5",
       "value": 1
      }
     },
     "f40ad71a72044352b349765975480e06": {
      "model_module": "@jupyter-widgets/base",
      "model_module_version": "1.2.0",
      "model_name": "LayoutModel",
      "state": {}
     },
     "f44a14cf5d154dd68084cfd709626715": {
      "model_module": "@jupyter-widgets/controls",
      "model_module_version": "1.5.0",
      "model_name": "SliderStyleModel",
      "state": {
       "description_width": ""
      }
     },
     "f48f19fd003b47eaa041ffee8a12cb2c": {
      "model_module": "@jupyter-widgets/base",
      "model_module_version": "1.2.0",
      "model_name": "LayoutModel",
      "state": {}
     },
     "f69f66379e184acf8e263ebed01aa7cd": {
      "model_module": "@jupyter-widgets/controls",
      "model_module_version": "1.5.0",
      "model_name": "TextModel",
      "state": {
       "description": "Filename: ",
       "layout": "IPY_MODEL_6599f863a95246dab385a7a2d7272c00",
       "style": "IPY_MODEL_71e51d0599444c70920403cfcadb29ac",
       "value": "screenshot.png"
      }
     },
     "f81e512d9f5a4dbf8e9fd81cae72abc2": {
      "model_module": "@jupyter-widgets/controls",
      "model_module_version": "1.5.0",
      "model_name": "DescriptionStyleModel",
      "state": {
       "description_width": ""
      }
     },
     "f91ce9d81d5d451c94b1f87bdfe42845": {
      "model_module": "@jupyter-widgets/controls",
      "model_module_version": "1.5.0",
      "model_name": "ButtonStyleModel",
      "state": {}
     },
     "f92a5462fc1b4d92940f6270a369b810": {
      "model_module": "@jupyter-widgets/controls",
      "model_module_version": "1.5.0",
      "model_name": "FloatSliderModel",
      "state": {
       "description": "Ball size",
       "layout": "IPY_MODEL_7bedc5dd5bad40db891919459e25721f",
       "max": 1.5,
       "step": 0.01,
       "style": "IPY_MODEL_c50932fcea0549bba8ea2874013b5eda",
       "value": 0.5
      }
     },
     "f99133681e024e5698e985a4f9610a90": {
      "model_module": "@jupyter-widgets/base",
      "model_module_version": "1.2.0",
      "model_name": "LayoutModel",
      "state": {}
     },
     "f99561b17660495ea6be27a5ca5a513c": {
      "model_module": "@jupyter-widgets/base",
      "model_module_version": "1.2.0",
      "model_name": "LayoutModel",
      "state": {}
     },
     "fb0a156dd4034503b840c9393722b1de": {
      "model_module": "@jupyter-widgets/controls",
      "model_module_version": "1.5.0",
      "model_name": "ButtonStyleModel",
      "state": {}
     },
     "fc839f3c565a41f4940ade432fb7fa58": {
      "model_module": "@jupyter-widgets/controls",
      "model_module_version": "1.5.0",
      "model_name": "DescriptionStyleModel",
      "state": {
       "description_width": ""
      }
     },
     "fcdda160b5cd42639143c1c0901eae68": {
      "model_module": "@jupyter-widgets/controls",
      "model_module_version": "1.5.0",
      "model_name": "DropdownModel",
      "state": {
       "_options_labels": [
        " ",
        "picking",
        "random",
        "uniform",
        "atomindex",
        "residueindex",
        "chainindex",
        "modelindex",
        "sstruc",
        "element",
        "resname",
        "bfactor",
        "hydrophobicity",
        "value",
        "volume",
        "occupancy"
       ],
       "description": "Color scheme",
       "index": 9,
       "layout": "IPY_MODEL_51cba4b901a94ca39e2627e069be3ad1",
       "style": "IPY_MODEL_888cd389e5c84995a68799bdc04ad780"
      }
     },
     "fda1822ca3914085a8dff538398efe29": {
      "model_module": "@jupyter-widgets/base",
      "model_module_version": "1.2.0",
      "model_name": "LayoutModel",
      "state": {}
     },
     "fe3a3c76984b4b5692fe8fb036fb258a": {
      "model_module": "@jupyter-widgets/base",
      "model_module_version": "1.2.0",
      "model_name": "LayoutModel",
      "state": {}
     },
     "ff3925adede3457a82f952dff9e4fb68": {
      "model_module": "@jupyter-widgets/base",
      "model_module_version": "1.2.0",
      "model_name": "LayoutModel",
      "state": {
       "width": "34px"
      }
     },
     "ffef3c55e1a44741956ae67333504129": {
      "model_module": "@jupyter-widgets/base",
      "model_module_version": "1.2.0",
      "model_name": "LayoutModel",
      "state": {}
     }
    },
    "version_major": 2,
    "version_minor": 0
   }
  }
 },
 "nbformat": 4,
 "nbformat_minor": 5
}
