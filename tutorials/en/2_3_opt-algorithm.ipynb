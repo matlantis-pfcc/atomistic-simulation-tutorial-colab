{
 "cells": [
  {
   "cell_type": "markdown",
   "id": "f454a3c4-5e58-4fbe-8e28-6dcd864a973c",
   "metadata": {
    "tags": []
   },
   "source": [
    "# Notion"
   ]
  },
  {
   "cell_type": "markdown",
   "id": "2b5315d9-35b6-4436-9cea-269a2d41ea3e",
   "metadata": {},
   "source": [
    "This notebook is the modified notebook of [AtomisticSimulationTutorial](https://docs.matlantis.com/atomistic-simulation-tutorial/en/) to run on Google Colab. We only provide executable parts with general library."
   ]
  },
  {
   "cell_type": "markdown",
   "id": "77f4da01-27bb-43d2-b7c5-df254f7a03c9",
   "metadata": {
    "pycharm": {
     "name": "#%% md\n"
    }
   },
   "source": [
    "# Optimization algorithm\n",
    "\n",
    "Until the previous section, we applied structural optimization to various examples. <br/>\n",
    "In this section, we will learn about the local optimization algorithms used in structural optimization.\n",
    "\n",
    "## Algorithm type\n",
    "\n",
    "As local optimization algorithms, ASE offers the `FIRE` method, which performs optimization with Molecular Dynamics (MD)-like behavior, and the `BFGS`, `LBFGS`, `BFGSLineSearch`=`QuasiNewton`, and `LBFGSLineSearch` methods are provided as [quasi-newton methods](https://en.wikipedia.org/wiki/Quasi-Newton_method).\n",
    "\n",
    " - https://wiki.fysik.dtu.dk/ase/ase/optimize.html\n",
    " \n",
    "|  Algorithm  | Group | Description |\n",
    "| ---- | ---- | ---- |\n",
    "| MDMin | MD-like  | Performs MD, but resets momentum to 0 if the inner product of momentum and force is negative |\n",
    "| FIRE　 |  MD-like  | MD, with various additional innovations to make it fast and robust. |\n",
    "| BFGS  | Quasi-Newton | Approximate the Hessian from the optimization trajectory and run the Newton method using the approximated Hessian |\n",
    "| LBFGS  | Quasi-Newton | BFGS method to run at high speed and low memory |\n",
    "| BFGSLineSearch  | Quasi-Newton | BFGS determines the direction of optimization direction, and LineSearch determines the step size. |\n",
    "| LBFGSLineSearch  | Quasi-Newton | LBFGS determines the direction of optimization direction, and LineSearch determines the step size. |\n"
   ]
  },
  {
   "cell_type": "markdown",
   "id": "d64d4fe2-ce83-47ea-b603-7076f9c8c19e",
   "metadata": {
    "pycharm": {
     "name": "#%% md\n"
    }
   },
   "source": [
    "We exclude MDMin from the benchmark because of its large hyperparameter dependence and frequent structural optimization failures. Let's look at other optimizers."
   ]
  },
  {
   "cell_type": "markdown",
   "id": "19fbd540-15a2-4094-934e-32d1ae1c5d13",
   "metadata": {
    "pycharm": {
     "name": "#%% md\n"
    }
   },
   "source": [
    "### FIRE\n",
    "\n",
    "FIRE basically performs MD, but some ingenious techniques are included for fast convergence."
   ]
  },
  {
   "cell_type": "markdown",
   "id": "a7de1543-fb18-4ebc-8fb3-88c8e341bb94",
   "metadata": {
    "pycharm": {
     "name": "#%% md\n"
    }
   },
   "source": [
    "### Newton method\n",
    "\n",
    "The Newton method uses the Hessian and gradient to determine the next step. \n",
    "The Newton method is a quadratic convergence method, which means that when the potential is close to a quadratic function (close to the minima), it approaches the exact solution at the speed of the square and is very fast.\n",
    "With the Hessian as $H$ and the gradient as $\\vec{g}$, the next optimization step $\\vec{p}$ is expressed as follows\n",
    "\n",
    "$\\vec{p} = - H^{-1} \\vec{g}$\n",
    "\n",
    "If the potential were strictly quadratic, it would converge to a minimum in one step."
   ]
  },
  {
   "cell_type": "markdown",
   "id": "287a0308-bb94-431b-9f91-4c52b5b0848a",
   "metadata": {
    "pycharm": {
     "name": "#%% md\n"
    }
   },
   "source": [
    "### Quasi-Newton Method\n",
    "\n",
    "Since the evaluation of the Hessian is onerous (for example, it can be obtained numerically by computing force 6N times), it is often more meaningful to use the time spent computing the Hessian to proceed with structural optimization. Therefore, using the optimization trajectory, a quasi-Newton method approximates the Hessian in a short time. Since the Hessian is not exact, it does not converge in as few steps as the Newton method but still converges fast."
   ]
  },
  {
   "cell_type": "markdown",
   "id": "bdf3d0d6-aec5-440c-b435-60f564e2e2af",
   "metadata": {
    "pycharm": {
     "name": "#%% md\n"
    }
   },
   "source": [
    "### BFGS\n",
    "\n",
    "The BFGS method is the most standard Hessian approximation method among the quasi-Newtonian methods. Various other methods are known, such as the SR1 and DFP methods, but the BFGS method is implemented in ASE."
   ]
  },
  {
   "cell_type": "markdown",
   "id": "93a74e52-f30b-4444-a7ab-a6a53c78835e",
   "metadata": {
    "pycharm": {
     "name": "#%% md\n"
    }
   },
   "source": [
    "### LBFGS\n",
    "\n",
    "One drawback of the BFGS method is that it requires storing a matrix of the size of the variable's dimension to optimize and calculate the matrix-vector product.\n",
    "This means $O(N^2)$ for dimension $N$ in space and $O(N^2)$ in time are required, which is not suitable for optimizing multidimensional functions.\n",
    "Therefore, the LBFGS method is a method that can reproduce BFGS with a computational complexity of $O(N)$ by using only the information from the last few trajectories and transforming it so that the results are almost the same as the BFGS method.\n",
    "Since the computational complexity of PFP is $O(N)$, the computational time in Optimizer becomes noticeable from about 300 atoms using the $O(N^2)$ method like BFGS. However, in LBFGS, the computational time in optimizer is not noticeable even if the number of atoms increases."
   ]
  },
  {
   "cell_type": "markdown",
   "id": "ef2ea9a7-1bac-4b0d-94ac-ad6801ff9510",
   "metadata": {
    "pycharm": {
     "name": "#%% md\n"
    }
   },
   "source": [
    "### LineSearch\n",
    "\n",
    "If the potential is not quadratic, the Newton method may oscillate. \n",
    "Also, the quasi-Newton method may not provide an appropriate step size because the Hessian may not be accurate.\n",
    "In these cases, LineSearch can be used to stabilize the optimization in order to converge the optimization.\n",
    "After determining the direction of optimization using the quasi-Newton method, it is desirable to decide a step size such that the energy is sufficiently small in that direction. \n",
    "LineSearch determines such a step size by actually calculating several points.\n",
    "With BFGS, there may be cases where the energy increases as a result of calculation according to the Newton method, but BFGSLineSearch searches for a good step size."
   ]
  },
  {
   "cell_type": "markdown",
   "id": "35dfbbb5-f0ac-4270-909b-8876c74f5919",
   "metadata": {
    "tags": []
   },
   "source": [
    "## Initial setup"
   ]
  },
  {
   "cell_type": "code",
   "execution_count": 1,
   "id": "8f79bcf9-1a58-4b34-a72b-a2d3c0351bec",
   "metadata": {},
   "outputs": [
    {
     "name": "stdout",
     "output_type": "stream",
     "text": [
      "Looking in indexes: https://pypi.org/simple, http://pypi.artifact.svc:8080/simple\n",
      "Requirement already satisfied: ase in /home/jovyan/.py39/lib/python3.9/site-packages (3.23.0)\n",
      "Requirement already satisfied: numpy>=1.18.5 in /home/jovyan/.py39/lib/python3.9/site-packages (from ase) (1.26.4)\n",
      "Requirement already satisfied: scipy>=1.6.0 in /home/jovyan/.py39/lib/python3.9/site-packages (from ase) (1.13.1)\n",
      "Requirement already satisfied: matplotlib>=3.3.4 in /home/jovyan/.py39/lib/python3.9/site-packages (from ase) (3.9.0)\n",
      "Requirement already satisfied: contourpy>=1.0.1 in /home/jovyan/.py39/lib/python3.9/site-packages (from matplotlib>=3.3.4->ase) (1.2.1)\n",
      "Requirement already satisfied: cycler>=0.10 in /home/jovyan/.py39/lib/python3.9/site-packages (from matplotlib>=3.3.4->ase) (0.12.1)\n",
      "Requirement already satisfied: fonttools>=4.22.0 in /home/jovyan/.py39/lib/python3.9/site-packages (from matplotlib>=3.3.4->ase) (4.53.0)\n",
      "Requirement already satisfied: kiwisolver>=1.3.1 in /home/jovyan/.py39/lib/python3.9/site-packages (from matplotlib>=3.3.4->ase) (1.4.5)\n",
      "Requirement already satisfied: packaging>=20.0 in /home/jovyan/.py39/lib/python3.9/site-packages (from matplotlib>=3.3.4->ase) (20.9)\n",
      "Requirement already satisfied: pillow>=8 in /home/jovyan/.py39/lib/python3.9/site-packages (from matplotlib>=3.3.4->ase) (10.4.0)\n",
      "Requirement already satisfied: pyparsing>=2.3.1 in /home/jovyan/.py39/lib/python3.9/site-packages (from matplotlib>=3.3.4->ase) (3.1.2)\n",
      "Requirement already satisfied: python-dateutil>=2.7 in /home/jovyan/.py39/lib/python3.9/site-packages (from matplotlib>=3.3.4->ase) (2.9.0.post0)\n",
      "Requirement already satisfied: importlib-resources>=3.2.0 in /home/jovyan/.py39/lib/python3.9/site-packages (from matplotlib>=3.3.4->ase) (6.4.0)\n",
      "Requirement already satisfied: zipp>=3.1.0 in /home/jovyan/.py39/lib/python3.9/site-packages (from importlib-resources>=3.2.0->matplotlib>=3.3.4->ase) (3.19.2)\n",
      "Requirement already satisfied: six>=1.5 in /home/jovyan/.py39/lib/python3.9/site-packages (from python-dateutil>=2.7->matplotlib>=3.3.4->ase) (1.16.0)\n",
      "\n",
      "\u001b[1m[\u001b[0m\u001b[34;49mnotice\u001b[0m\u001b[1;39;49m]\u001b[0m\u001b[39;49m A new release of pip is available: \u001b[0m\u001b[31;49m24.2\u001b[0m\u001b[39;49m -> \u001b[0m\u001b[32;49m24.3.1\u001b[0m\n",
      "\u001b[1m[\u001b[0m\u001b[34;49mnotice\u001b[0m\u001b[1;39;49m]\u001b[0m\u001b[39;49m To update, run: \u001b[0m\u001b[32;49mpip install --upgrade pip\u001b[0m\n"
     ]
    }
   ],
   "source": [
    "!pip install ase"
   ]
  },
  {
   "cell_type": "code",
   "execution_count": 2,
   "id": "fc0edae6-ae43-483a-a201-05370cdb01be",
   "metadata": {
    "tags": []
   },
   "outputs": [],
   "source": [
    "import os\n",
    "\n",
    "from IPython.display import HTML, Image\n",
    "\n",
    "import matplotlib.pyplot as plt\n",
    "import matplotlib.image as mpimg\n",
    "from matplotlib.animation import FuncAnimation\n",
    "\n",
    "from ase import Atoms\n",
    "from ase.build import make_supercell\n",
    "from ase.io import write\n",
    "from ase.visualize import view\n",
    "\n",
    "os.makedirs(\"output\", exist_ok=True)\n",
    "\n",
    "def view_x3d(atoms, idx=0):\n",
    "    if isinstance(atoms[0], Atoms):\n",
    "        # Assume this is a trajectory or struct list\n",
    "        if (len(atoms) <= idx):\n",
    "                print(f\"The specified index exceeds the length of the trajectory. The length of the trajectory is {len(atoms)}.\")\n",
    "        return view(atoms[idx], viewer=\"x3d\")\n",
    "    else:\n",
    "        return view(atoms, viewer=\"x3d\")\n",
    "\n",
    "\n",
    "def view_ase_atoms(atoms, rotation=\"0x,0y,0z\", figsize=(4, 4), title=\"\", scale=100):\n",
    "    fig, ax = plt.subplots(figsize=figsize)\n",
    "    write(\"output/tmp.png\", atoms, rotation=rotation, scale=scale)\n",
    "    img = mpimg.imread('output/tmp.png')\n",
    "    ax.imshow(img)\n",
    "    ax.set_title(title)\n",
    "    ax.axis('off')\n",
    "    plt.show()\n",
    "    os.remove('output/tmp.png')\n",
    "    return\n",
    "\n",
    "def traj_to_apng(traj, rotation='30x,30y,30z'):\n",
    "    imgs = []\n",
    "    for atom in traj:\n",
    "        supercell = make_supercell(atom, [[1, 0, 0], [0, 1, 0], [0, 0, 1]])\n",
    "        write('output/tmp.png', supercell, rotation=rotation, show_unit_cell=2)\n",
    "        img = mpimg.imread('output/tmp.png')\n",
    "        imgs.append(img)\n",
    "    os.remove('output/tmp.png')\n",
    "\n",
    "    fig, ax = plt.subplots()\n",
    "\n",
    "    def update(frame):\n",
    "        img = imgs[frame]\n",
    "        ax.clear()\n",
    "        ax.imshow(img)\n",
    "        return []\n",
    "\n",
    "    ani = FuncAnimation(fig, update, frames=len(imgs), blit=True)\n",
    "    plt.close()\n",
    "    return HTML(ani.to_jshtml())"
   ]
  },
  {
   "cell_type": "code",
   "execution_count": 3,
   "id": "9a737456-2c8e-406a-abd3-15971951cb5e",
   "metadata": {
    "pycharm": {
     "name": "#%%\n"
    }
   },
   "outputs": [],
   "source": [
    "from time import perf_counter\n",
    "from typing import Optional, Type\n",
    "\n",
    "import matplotlib.pyplot as plt\n",
    "import pandas as pd\n",
    "from ase import Atoms\n",
    "from ase.build import bulk, molecule\n",
    "from ase.calculators.calculator import Calculator\n",
    "from ase.io import Trajectory\n",
    "from ase.optimize import BFGS, FIRE, LBFGS, BFGSLineSearch, LBFGSLineSearch, MDMin\n",
    "from ase.optimize.optimize import Optimizer\n",
    "from tqdm.auto import tqdm"
   ]
  },
  {
   "cell_type": "markdown",
   "id": "85ae32d3-e74c-4019-8d9e-4aecd6890bc1",
   "metadata": {
    "pycharm": {
     "name": "#%% md\n"
    }
   },
   "source": [
    "## Benchmark"
   ]
  },
  {
   "cell_type": "code",
   "execution_count": 4,
   "id": "9a8c892c-1a26-4d84-9bdb-49f47ff30b6b",
   "metadata": {
    "tags": []
   },
   "outputs": [],
   "source": [
    "from ase.calculators.emt import EMT\n",
    "calc = EMT()\n",
    "calc_mol = EMT()"
   ]
  },
  {
   "cell_type": "markdown",
   "id": "099a64a7-dd62-404b-8c6b-4f0ad7a2e838",
   "metadata": {
    "pycharm": {
     "name": "#%% md\n"
    }
   },
   "source": [
    "### Comparison of number of steps (force calculation)\n",
    "\n",
    "Below is a simple example of a structural optimization of a Pt crystal. <br/>\n",
    "The structure obtained by `bulk(\"Pt\")` is not strictly stable, but it is a fairly good initial structure.\n",
    "Therefore, when starting from such a structure, the quasi-Newton method can be used to complete the structural optimization in a much smaller number of PFP calls."
   ]
  },
  {
   "cell_type": "markdown",
   "id": "09934ba7-451c-414b-8e4f-06de81d1d023",
   "metadata": {
    "pycharm": {
     "name": "#%% md\n"
    }
   },
   "source": [
    "First, let's benchmark how many times force is calculated until the structural optimization is complete.\n",
    "Here, we take the structure of the bulk of Pt moved randomly as the initial structure and measure the number of force calculations until the optimal structure is achieved."
   ]
  },
  {
   "cell_type": "code",
   "execution_count": 5,
   "id": "b2a178ea-0793-4d7f-b224-4bbc642b8d61",
   "metadata": {
    "pycharm": {
     "name": "#%%\n"
    }
   },
   "outputs": [],
   "source": [
    "def get_force_calls(opt: Optimizer) -> int:\n",
    "    \"\"\"Obtrain number of force calculations\"\"\"\n",
    "    if isinstance(opt, (BFGSLineSearch, LBFGSLineSearch)):\n",
    "        return opt.force_calls\n",
    "    else:\n",
    "        return opt.nsteps"
   ]
  },
  {
   "cell_type": "code",
   "execution_count": 6,
   "id": "6a5d03fb-57ef-4eed-a95e-bb80373e236e",
   "metadata": {
    "pycharm": {
     "name": "#%%\n"
    }
   },
   "outputs": [],
   "source": [
    "os.makedirs(\"output\", exist_ok=True)"
   ]
  },
  {
   "cell_type": "code",
   "execution_count": 7,
   "id": "5027978e-3bdd-4b7b-adfc-1fe2f152af7e",
   "metadata": {
    "pycharm": {
     "name": "#%%\n"
    }
   },
   "outputs": [],
   "source": [
    "atoms_0 = bulk(\"Pt\") * (4, 4, 4)\n",
    "atoms_0.rattle(stdev=0.1)"
   ]
  },
  {
   "cell_type": "code",
   "execution_count": 8,
   "id": "3886b9d7-0215-4407-99dd-51de21a956e3",
   "metadata": {
    "pycharm": {
     "name": "#%%\n"
    }
   },
   "outputs": [
    {
     "data": {
      "text/html": [
       "<html>\n",
       "    <head>\n",
       "        <title>ASE atomic visualization</title>\n",
       "        <link rel=\"stylesheet\" type=\"text/css\"             href=\"https://www.x3dom.org/release/x3dom.css\"></link>\n",
       "        <script type=\"text/javascript\"             src=\"https://www.x3dom.org/release/x3dom.js\"></script>\n",
       "    </head>\n",
       "    <body>\n",
       "        <X3D width=\"400px\"; height=\"300px\";>\n",
       "\n",
       "<!--Inserting Generated X3D Scene-->\n",
       "<scene>\n",
       "  <viewpoint position=\"0 0 24.076346056774852\">\n",
       "    <group/>\n",
       "  </viewpoint>\n",
       "  <transform translation=\"-0.0 -0.0 -0.0\">\n",
       "    <group>\n",
       "      <group>\n",
       "        <transform translation=\"0 0 0\">\n",
       "          <shape>\n",
       "            <appearance>\n",
       "              <material diffuseColor=\"0 0 0\"/>\n",
       "            </appearance>\n",
       "            <lineset vertexCount=\"5\">\n",
       "              <coordinate point=\"0 0 0 0.0 7.84 7.84 7.84 7.84 15.68 7.84 0.0 7.84 0 0 0\"/>\n",
       "            </lineset>\n",
       "          </shape>\n",
       "        </transform>\n",
       "        <transform translation=\"7.84 7.84 0.0\">\n",
       "          <shape>\n",
       "            <appearance>\n",
       "              <material diffuseColor=\"0 0 0\"/>\n",
       "            </appearance>\n",
       "            <lineset vertexCount=\"5\">\n",
       "              <coordinate point=\"0 0 0 0.0 7.84 7.84 7.84 7.84 15.68 7.84 0.0 7.84 0 0 0\"/>\n",
       "            </lineset>\n",
       "          </shape>\n",
       "        </transform>\n",
       "        <transform translation=\"0 0 0\">\n",
       "          <shape>\n",
       "            <appearance>\n",
       "              <material diffuseColor=\"0 0 0\"/>\n",
       "            </appearance>\n",
       "            <lineset vertexCount=\"5\">\n",
       "              <coordinate point=\"0 0 0 0.0 7.84 7.84 7.84 15.68 7.84 7.84 7.84 0.0 0 0 0\"/>\n",
       "            </lineset>\n",
       "          </shape>\n",
       "        </transform>\n",
       "        <transform translation=\"7.84 0.0 7.84\">\n",
       "          <shape>\n",
       "            <appearance>\n",
       "              <material diffuseColor=\"0 0 0\"/>\n",
       "            </appearance>\n",
       "            <lineset vertexCount=\"5\">\n",
       "              <coordinate point=\"0 0 0 0.0 7.84 7.84 7.84 15.68 7.84 7.84 7.84 0.0 0 0 0\"/>\n",
       "            </lineset>\n",
       "          </shape>\n",
       "        </transform>\n",
       "      </group>\n",
       "      <group>\n",
       "        <transform translation=\"0.04967141530112327 -0.013826430117118467 0.06476885381006925\">\n",
       "          <shape>\n",
       "            <appearance>\n",
       "              <material diffuseColor=\"0.816 0.816 0.878\"/>\n",
       "            </appearance>\n",
       "            <sphere radius=\"1.36\"/>\n",
       "          </shape>\n",
       "        </transform>\n",
       "        <transform translation=\"2.1123029856408024 1.9365846625276664 -0.023413695694918055\">\n",
       "          <shape>\n",
       "            <appearance>\n",
       "              <material diffuseColor=\"0.816 0.816 0.878\"/>\n",
       "            </appearance>\n",
       "            <sphere radius=\"1.36\"/>\n",
       "          </shape>\n",
       "        </transform>\n",
       "        <transform translation=\"4.077921281550739 3.996743472915291 -0.04694743859349521\">\n",
       "          <shape>\n",
       "            <appearance>\n",
       "              <material diffuseColor=\"0.816 0.816 0.878\"/>\n",
       "            </appearance>\n",
       "            <sphere radius=\"1.36\"/>\n",
       "          </shape>\n",
       "        </transform>\n",
       "        <transform translation=\"5.934256004358597 5.833658230718754 -0.04657297535702569\">\n",
       "          <shape>\n",
       "            <appearance>\n",
       "              <material diffuseColor=\"0.816 0.816 0.878\"/>\n",
       "            </appearance>\n",
       "            <sphere radius=\"1.36\"/>\n",
       "          </shape>\n",
       "        </transform>\n",
       "        <transform translation=\"1.9841962271566034 -0.1913280244657798 1.7875082167486966\">\n",
       "          <shape>\n",
       "            <appearance>\n",
       "              <material diffuseColor=\"0.816 0.816 0.878\"/>\n",
       "            </appearance>\n",
       "            <sphere radius=\"1.36\"/>\n",
       "          </shape>\n",
       "        </transform>\n",
       "        <transform translation=\"3.8637712470759027 1.8587168879665577 1.9914247332595274\">\n",
       "          <shape>\n",
       "            <appearance>\n",
       "              <material diffuseColor=\"0.816 0.816 0.878\"/>\n",
       "            </appearance>\n",
       "            <sphere radius=\"1.36\"/>\n",
       "          </shape>\n",
       "        </transform>\n",
       "        <transform translation=\"5.789197592447879 3.7787696298664706 2.1065648768921554\">\n",
       "          <shape>\n",
       "            <appearance>\n",
       "              <material diffuseColor=\"0.816 0.816 0.878\"/>\n",
       "            </appearance>\n",
       "            <sphere radius=\"1.36\"/>\n",
       "          </shape>\n",
       "        </transform>\n",
       "        <transform translation=\"7.8174223699513465 5.886752820468792 1.8175251813786544\">\n",
       "          <shape>\n",
       "            <appearance>\n",
       "              <material diffuseColor=\"0.816 0.816 0.878\"/>\n",
       "            </appearance>\n",
       "            <sphere radius=\"1.36\"/>\n",
       "          </shape>\n",
       "        </transform>\n",
       "        <transform translation=\"3.865561727547482 0.01109225897098661 3.8049006422577696\">\n",
       "          <shape>\n",
       "            <appearance>\n",
       "              <material diffuseColor=\"0.816 0.816 0.878\"/>\n",
       "            </appearance>\n",
       "            <sphere radius=\"1.36\"/>\n",
       "          </shape>\n",
       "        </transform>\n",
       "        <transform translation=\"5.917569801834567 1.8999361310081195 3.8908306250206723\">\n",
       "          <shape>\n",
       "            <appearance>\n",
       "              <material diffuseColor=\"0.816 0.816 0.878\"/>\n",
       "            </appearance>\n",
       "            <sphere radius=\"1.36\"/>\n",
       "          </shape>\n",
       "        </transform>\n",
       "        <transform translation=\"7.77982933877706 4.105227818450894 3.9186502775262064\">\n",
       "          <shape>\n",
       "            <appearance>\n",
       "              <material diffuseColor=\"0.816 0.816 0.878\"/>\n",
       "            </appearance>\n",
       "            <sphere radius=\"1.36\"/>\n",
       "          </shape>\n",
       "        </transform>\n",
       "        <transform translation=\"9.69422890710441 5.962254491210318 3.7979156350028975\">\n",
       "          <shape>\n",
       "            <appearance>\n",
       "              <material diffuseColor=\"0.816 0.816 0.878\"/>\n",
       "            </appearance>\n",
       "            <sphere radius=\"1.36\"/>\n",
       "          </shape>\n",
       "        </transform>\n",
       "        <transform translation=\"5.9008863595004755 -0.19596701238797756 5.7471813951101565\">\n",
       "          <shape>\n",
       "            <appearance>\n",
       "              <material diffuseColor=\"0.816 0.816 0.878\"/>\n",
       "            </appearance>\n",
       "            <sphere radius=\"1.36\"/>\n",
       "          </shape>\n",
       "        </transform>\n",
       "        <transform translation=\"7.859686123586912 2.033846657999541 5.897136828118997\">\n",
       "          <shape>\n",
       "            <appearance>\n",
       "              <material diffuseColor=\"0.816 0.816 0.878\"/>\n",
       "            </appearance>\n",
       "            <sphere radius=\"1.36\"/>\n",
       "          </shape>\n",
       "        </transform>\n",
       "        <transform translation=\"9.788435171761178 3.889889630441071 5.732147800963257\">\n",
       "          <shape>\n",
       "            <appearance>\n",
       "              <material diffuseColor=\"0.816 0.816 0.878\"/>\n",
       "            </appearance>\n",
       "            <sphere radius=\"1.36\"/>\n",
       "          </shape>\n",
       "        </transform>\n",
       "        <transform translation=\"11.68801557916053 5.833936122904021 5.985712222621891\">\n",
       "          <shape>\n",
       "            <appearance>\n",
       "              <material diffuseColor=\"0.816 0.816 0.878\"/>\n",
       "            </appearance>\n",
       "            <sphere radius=\"1.36\"/>\n",
       "          </shape>\n",
       "        </transform>\n",
       "        <transform translation=\"0.03436182895684614 1.7836959844637266 1.9924083969394795\">\n",
       "          <shape>\n",
       "            <appearance>\n",
       "              <material diffuseColor=\"0.816 0.816 0.878\"/>\n",
       "            </appearance>\n",
       "            <sphere radius=\"1.36\"/>\n",
       "          </shape>\n",
       "        </transform>\n",
       "        <transform translation=\"1.9214917719583684 3.852307799969404 2.0211676288840867\">\n",
       "          <shape>\n",
       "            <appearance>\n",
       "              <material diffuseColor=\"0.816 0.816 0.878\"/>\n",
       "            </appearance>\n",
       "            <sphere radius=\"1.36\"/>\n",
       "          </shape>\n",
       "        </transform>\n",
       "        <transform translation=\"4.023099952249595 5.97312801191162 1.876078247677736\">\n",
       "          <shape>\n",
       "            <appearance>\n",
       "              <material diffuseColor=\"0.816 0.816 0.878\"/>\n",
       "            </appearance>\n",
       "            <sphere radius=\"1.36\"/>\n",
       "          </shape>\n",
       "        </transform>\n",
       "        <transform translation=\"5.849078762414878 7.873126343140356 2.057554512712236\">\n",
       "          <shape>\n",
       "            <appearance>\n",
       "              <material diffuseColor=\"0.816 0.816 0.878\"/>\n",
       "            </appearance>\n",
       "            <sphere radius=\"1.36\"/>\n",
       "          </shape>\n",
       "        </transform>\n",
       "        <transform translation=\"1.912082576215471 1.9414341023336184 3.809366502599397\">\n",
       "          <shape>\n",
       "            <appearance>\n",
       "              <material diffuseColor=\"0.816 0.816 0.878\"/>\n",
       "            </appearance>\n",
       "            <sphere radius=\"1.36\"/>\n",
       "          </shape>\n",
       "        </transform>\n",
       "        <transform translation=\"3.800379337591933 4.001252582239419 4.0556240028570825\">\n",
       "          <shape>\n",
       "            <appearance>\n",
       "              <material diffuseColor=\"0.816 0.816 0.878\"/>\n",
       "            </appearance>\n",
       "            <sphere radius=\"1.36\"/>\n",
       "          </shape>\n",
       "        </transform>\n",
       "        <transform translation=\"5.872798987841967 5.980353289789202 3.9561636025047635\">\n",
       "          <shape>\n",
       "            <appearance>\n",
       "              <material diffuseColor=\"0.816 0.816 0.878\"/>\n",
       "            </appearance>\n",
       "            <sphere radius=\"1.36\"/>\n",
       "          </shape>\n",
       "        </transform>\n",
       "        <transform translation=\"7.775488024539487 7.8761395605508415 4.0738036566465965\">\n",
       "          <shape>\n",
       "            <appearance>\n",
       "              <material diffuseColor=\"0.816 0.816 0.878\"/>\n",
       "            </appearance>\n",
       "            <sphere radius=\"1.36\"/>\n",
       "          </shape>\n",
       "        </transform>\n",
       "        <transform translation=\"3.9164173960890047 2.1164643655814004 5.618025489591026\">\n",
       "          <shape>\n",
       "            <appearance>\n",
       "              <material diffuseColor=\"0.816 0.816 0.878\"/>\n",
       "            </appearance>\n",
       "            <sphere radius=\"1.36\"/>\n",
       "          </shape>\n",
       "        </transform>\n",
       "        <transform translation=\"5.962190250437522 3.928704706823817 5.850099264953413\">\n",
       "          <shape>\n",
       "            <appearance>\n",
       "              <material diffuseColor=\"0.816 0.816 0.878\"/>\n",
       "            </appearance>\n",
       "            <sphere radius=\"1.36\"/>\n",
       "          </shape>\n",
       "        </transform>\n",
       "        <transform translation=\"7.84917607765355 5.681243108539911 5.8580328112162485\">\n",
       "          <shape>\n",
       "            <appearance>\n",
       "              <material diffuseColor=\"0.816 0.816 0.878\"/>\n",
       "            </appearance>\n",
       "            <sphere radius=\"1.36\"/>\n",
       "          </shape>\n",
       "        </transform>\n",
       "        <transform translation=\"9.835711257151175 7.987789404474151 5.828172978172635\">\n",
       "          <shape>\n",
       "            <appearance>\n",
       "              <material diffuseColor=\"0.816 0.816 0.878\"/>\n",
       "            </appearance>\n",
       "            <sphere radius=\"1.36\"/>\n",
       "          </shape>\n",
       "        </transform>\n",
       "        <transform translation=\"5.799150639710681 1.9098242956415463 7.931540211770208\">\n",
       "          <shape>\n",
       "            <appearance>\n",
       "              <material diffuseColor=\"0.816 0.816 0.878\"/>\n",
       "            </appearance>\n",
       "            <sphere radius=\"1.36\"/>\n",
       "          </shape>\n",
       "        </transform>\n",
       "        <transform translation=\"7.8728751109659685 3.867023979623296 7.891326743311335\">\n",
       "          <shape>\n",
       "            <appearance>\n",
       "              <material diffuseColor=\"0.816 0.816 0.878\"/>\n",
       "            </appearance>\n",
       "            <sphere radius=\"1.36\"/>\n",
       "          </shape>\n",
       "        </transform>\n",
       "        <transform translation=\"9.809707754934804 5.976864499053288 7.769794690612264\">\n",
       "          <shape>\n",
       "            <appearance>\n",
       "              <material diffuseColor=\"0.816 0.816 0.878\"/>\n",
       "            </appearance>\n",
       "            <sphere radius=\"1.36\"/>\n",
       "          </shape>\n",
       "        </transform>\n",
       "        <transform translation=\"11.727233785340223 7.800789184686784 7.693648505186788\">\n",
       "          <shape>\n",
       "            <appearance>\n",
       "              <material diffuseColor=\"0.816 0.816 0.878\"/>\n",
       "            </appearance>\n",
       "            <sphere radius=\"1.36\"/>\n",
       "          </shape>\n",
       "        </transform>\n",
       "        <transform translation=\"0.029612027706457607 3.946105527217989 3.920511345664246\">\n",
       "          <shape>\n",
       "            <appearance>\n",
       "              <material diffuseColor=\"0.816 0.816 0.878\"/>\n",
       "            </appearance>\n",
       "            <sphere radius=\"1.36\"/>\n",
       "          </shape>\n",
       "        </transform>\n",
       "        <transform translation=\"1.9365412866624854 5.738462925794958 3.877935467723464\">\n",
       "          <shape>\n",
       "            <appearance>\n",
       "              <material diffuseColor=\"0.816 0.816 0.878\"/>\n",
       "            </appearance>\n",
       "            <sphere radius=\"1.36\"/>\n",
       "          </shape>\n",
       "        </transform>\n",
       "        <transform translation=\"3.885728548347323 7.759772273077838 3.903871428833399\">\n",
       "          <shape>\n",
       "            <appearance>\n",
       "              <material diffuseColor=\"0.816 0.816 0.878\"/>\n",
       "            </appearance>\n",
       "            <sphere radius=\"1.36\"/>\n",
       "          </shape>\n",
       "        </transform>\n",
       "        <transform translation=\"5.920405085681454 9.988618590121053 3.9374577812831837\">\n",
       "          <shape>\n",
       "            <appearance>\n",
       "              <material diffuseColor=\"0.816 0.816 0.878\"/>\n",
       "            </appearance>\n",
       "            <sphere radius=\"1.36\"/>\n",
       "          </shape>\n",
       "        </transform>\n",
       "        <transform translation=\"1.9857550390722765 3.9125554084233833 5.688122878470096\">\n",
       "          <shape>\n",
       "            <appearance>\n",
       "              <material diffuseColor=\"0.816 0.816 0.878\"/>\n",
       "            </appearance>\n",
       "            <sphere radius=\"1.36\"/>\n",
       "          </shape>\n",
       "        </transform>\n",
       "        <transform translation=\"3.9173486124550783 5.886023020994102 6.126324211248528\">\n",
       "          <shape>\n",
       "            <appearance>\n",
       "              <material diffuseColor=\"0.816 0.816 0.878\"/>\n",
       "            </appearance>\n",
       "            <sphere radius=\"1.36\"/>\n",
       "          </shape>\n",
       "        </transform>\n",
       "        <transform translation=\"5.860763903521888 7.8701547342333615 5.876528823029475\">\n",
       "          <shape>\n",
       "            <appearance>\n",
       "              <material diffuseColor=\"0.816 0.816 0.878\"/>\n",
       "            </appearance>\n",
       "            <sphere radius=\"1.36\"/>\n",
       "          </shape>\n",
       "        </transform>\n",
       "        <transform translation=\"7.723132196238047 9.914282281451502 5.955193303268677\">\n",
       "          <shape>\n",
       "            <appearance>\n",
       "              <material diffuseColor=\"0.816 0.816 0.878\"/>\n",
       "            </appearance>\n",
       "            <sphere radius=\"1.36\"/>\n",
       "          </shape>\n",
       "        </transform>\n",
       "        <transform translation=\"3.9991031947043045 3.829061254520526 7.98027943109361\">\n",
       "          <shape>\n",
       "            <appearance>\n",
       "              <material diffuseColor=\"0.816 0.816 0.878\"/>\n",
       "            </appearance>\n",
       "            <sphere radius=\"1.36\"/>\n",
       "          </shape>\n",
       "        </transform>\n",
       "        <transform translation=\"5.739814893720772 5.938685709380027 8.059045562580998\">\n",
       "          <shape>\n",
       "            <appearance>\n",
       "              <material diffuseColor=\"0.816 0.816 0.878\"/>\n",
       "            </appearance>\n",
       "            <sphere radius=\"1.36\"/>\n",
       "          </shape>\n",
       "        </transform>\n",
       "        <transform translation=\"7.740946367486931 7.783370227039723 7.849965136508764\">\n",
       "          <shape>\n",
       "            <appearance>\n",
       "              <material diffuseColor=\"0.816 0.816 0.878\"/>\n",
       "            </appearance>\n",
       "            <sphere radius=\"1.36\"/>\n",
       "          </shape>\n",
       "        </transform>\n",
       "        <transform translation=\"9.74965243458838 9.644933656893388 7.846856297480603\">\n",
       "          <shape>\n",
       "            <appearance>\n",
       "              <material diffuseColor=\"0.816 0.816 0.878\"/>\n",
       "            </appearance>\n",
       "            <sphere radius=\"1.36\"/>\n",
       "          </shape>\n",
       "        </transform>\n",
       "        <transform translation=\"5.77376962862739 3.9673592430635183 9.708057576576621\">\n",
       "          <shape>\n",
       "            <appearance>\n",
       "              <material diffuseColor=\"0.816 0.816 0.878\"/>\n",
       "            </appearance>\n",
       "            <sphere radius=\"1.36\"/>\n",
       "          </shape>\n",
       "        </transform>\n",
       "        <transform translation=\"7.994993440501754 5.801674670766376 9.767793848379434\">\n",
       "          <shape>\n",
       "            <appearance>\n",
       "              <material diffuseColor=\"0.816 0.816 0.878\"/>\n",
       "            </appearance>\n",
       "            <sphere radius=\"1.36\"/>\n",
       "          </shape>\n",
       "        </transform>\n",
       "        <transform translation=\"9.881351721736968 7.716913568356604 9.822745993460414\">\n",
       "          <shape>\n",
       "            <appearance>\n",
       "              <material diffuseColor=\"0.816 0.816 0.878\"/>\n",
       "            </appearance>\n",
       "            <sphere radius=\"1.36\"/>\n",
       "          </shape>\n",
       "        </transform>\n",
       "        <transform translation=\"11.890714275428243 9.639251676543878 9.818463385853232\">\n",
       "          <shape>\n",
       "            <appearance>\n",
       "              <material diffuseColor=\"0.816 0.816 0.878\"/>\n",
       "            </appearance>\n",
       "            <sphere radius=\"1.36\"/>\n",
       "          </shape>\n",
       "        </transform>\n",
       "        <transform translation=\"0.025988279424842355 5.958182287177731 5.756304928912192\">\n",
       "          <shape>\n",
       "            <appearance>\n",
       "              <material diffuseColor=\"0.816 0.816 0.878\"/>\n",
       "            </appearance>\n",
       "            <sphere radius=\"1.36\"/>\n",
       "          </shape>\n",
       "        </transform>\n",
       "        <transform translation=\"1.8279543386915724 7.89219415656169 5.909698467323318\">\n",
       "          <shape>\n",
       "            <appearance>\n",
       "              <material diffuseColor=\"0.816 0.816 0.878\"/>\n",
       "            </appearance>\n",
       "            <sphere radius=\"1.36\"/>\n",
       "          </shape>\n",
       "        </transform>\n",
       "        <transform translation=\"3.9450492850345875 9.834644820949698 5.811997527842151\">\n",
       "          <shape>\n",
       "            <appearance>\n",
       "              <material diffuseColor=\"0.816 0.816 0.878\"/>\n",
       "            </appearance>\n",
       "            <sphere radius=\"1.36\"/>\n",
       "          </shape>\n",
       "        </transform>\n",
       "        <transform translation=\"5.9032253697161 11.789307247329868 5.8085648581973635\">\n",
       "          <shape>\n",
       "            <appearance>\n",
       "              <material diffuseColor=\"0.816 0.816 0.878\"/>\n",
       "            </appearance>\n",
       "            <sphere radius=\"1.36\"/>\n",
       "          </shape>\n",
       "        </transform>\n",
       "        <transform translation=\"2.1465774511144757 5.927383292091179 7.720869650279735\">\n",
       "          <shape>\n",
       "            <appearance>\n",
       "              <material diffuseColor=\"0.816 0.816 0.878\"/>\n",
       "            </appearance>\n",
       "            <sphere radius=\"1.36\"/>\n",
       "          </shape>\n",
       "        </transform>\n",
       "        <transform translation=\"3.985655360863383 7.742531832977268 7.918708460374245\">\n",
       "          <shape>\n",
       "            <appearance>\n",
       "              <material diffuseColor=\"0.816 0.816 0.878\"/>\n",
       "            </appearance>\n",
       "            <sphere radius=\"1.36\"/>\n",
       "          </shape>\n",
       "        </transform>\n",
       "        <transform translation=\"5.99585955790074 9.71793176816483 7.936337612924432\">\n",
       "          <shape>\n",
       "            <appearance>\n",
       "              <material diffuseColor=\"0.816 0.816 0.878\"/>\n",
       "            </appearance>\n",
       "            <sphere radius=\"1.36\"/>\n",
       "          </shape>\n",
       "        </transform>\n",
       "        <transform translation=\"7.88127809269365 11.842206015999448 8.029679298265394\">\n",
       "          <shape>\n",
       "            <appearance>\n",
       "              <material diffuseColor=\"0.816 0.816 0.878\"/>\n",
       "            </appearance>\n",
       "            <sphere radius=\"1.36\"/>\n",
       "          </shape>\n",
       "        </transform>\n",
       "        <transform translation=\"3.895461188399713 5.804626383564251 9.711048557037449\">\n",
       "          <shape>\n",
       "            <appearance>\n",
       "              <material diffuseColor=\"0.816 0.816 0.878\"/>\n",
       "            </appearance>\n",
       "            <sphere radius=\"1.36\"/>\n",
       "          </shape>\n",
       "        </transform>\n",
       "        <transform translation=\"5.798418971503456 7.832289829058589 9.834115197481665\">\n",
       "          <shape>\n",
       "            <appearance>\n",
       "              <material diffuseColor=\"0.816 0.816 0.878\"/>\n",
       "            </appearance>\n",
       "            <sphere radius=\"1.36\"/>\n",
       "          </shape>\n",
       "        </transform>\n",
       "        <transform translation=\"7.867669079933002 9.882718324903603 9.801300189187792\">\n",
       "          <shape>\n",
       "            <appearance>\n",
       "              <material diffuseColor=\"0.816 0.816 0.878\"/>\n",
       "            </appearance>\n",
       "            <sphere radius=\"1.36\"/>\n",
       "          </shape>\n",
       "        </transform>\n",
       "        <transform translation=\"9.945353407715732 11.733534316676204 10.072016916658963\">\n",
       "          <shape>\n",
       "            <appearance>\n",
       "              <material diffuseColor=\"0.816 0.816 0.878\"/>\n",
       "            </appearance>\n",
       "            <sphere radius=\"1.36\"/>\n",
       "          </shape>\n",
       "        </transform>\n",
       "        <transform translation=\"5.9425667347765 5.794284244358372 11.652910750193888\">\n",
       "          <shape>\n",
       "            <appearance>\n",
       "              <material diffuseColor=\"0.816 0.816 0.878\"/>\n",
       "            </appearance>\n",
       "            <sphere radius=\"1.36\"/>\n",
       "          </shape>\n",
       "        </transform>\n",
       "        <transform translation=\"7.8882472415243186 7.817653721467415 11.83140004940921\">\n",
       "          <shape>\n",
       "            <appearance>\n",
       "              <material diffuseColor=\"0.816 0.816 0.878\"/>\n",
       "            </appearance>\n",
       "            <sphere radius=\"1.36\"/>\n",
       "          </shape>\n",
       "        </transform>\n",
       "        <transform translation=\"9.847323762457355 9.792717108734314 11.675320628193159\">\n",
       "          <shape>\n",
       "            <appearance>\n",
       "              <material diffuseColor=\"0.816 0.816 0.878\"/>\n",
       "            </appearance>\n",
       "            <sphere radius=\"1.36\"/>\n",
       "          </shape>\n",
       "        </transform>\n",
       "        <transform translation=\"11.608515277531414 11.715348504793297 11.845639879432348\">\n",
       "          <shape>\n",
       "            <appearance>\n",
       "              <material diffuseColor=\"0.816 0.816 0.878\"/>\n",
       "            </appearance>\n",
       "            <sphere radius=\"1.36\"/>\n",
       "          </shape>\n",
       "        </transform>\n",
       "      </group>\n",
       "    </group>\n",
       "  </transform>\n",
       "</scene>\n",
       "<!--End of Inserted Scene-->\n",
       "\n",
       "        </X3D>\n",
       "    </body>\n",
       "</html>\n",
       "\n"
      ],
      "text/plain": [
       "<IPython.core.display.HTML object>"
      ]
     },
     "execution_count": 8,
     "metadata": {},
     "output_type": "execute_result"
    }
   ],
   "source": [
    "view_x3d(atoms_0)"
   ]
  },
  {
   "cell_type": "code",
   "execution_count": 9,
   "id": "cab3494a-d358-491c-9b58-b55bef889975",
   "metadata": {
    "pycharm": {
     "name": "#%%\n"
    },
    "tags": []
   },
   "outputs": [
    {
     "data": {
      "application/vnd.jupyter.widget-view+json": {
       "model_id": "bc2ea855d7884cb09997e9e36c598c67",
       "version_major": 2,
       "version_minor": 0
      },
      "text/plain": [
       "  0%|          | 0/5 [00:00<?, ?it/s]"
      ]
     },
     "metadata": {},
     "output_type": "display_data"
    }
   ],
   "source": [
    "force_calls = {}\n",
    "for opt_class in tqdm([FIRE, BFGS, LBFGS, BFGSLineSearch, LBFGSLineSearch]):\n",
    "    atoms = atoms_0.copy()\n",
    "    atoms.calc = calc\n",
    "    name = opt_class.__name__\n",
    "    with opt_class(atoms, trajectory=f\"output/{name}_ch3cho.traj\", logfile=None) as opt:\n",
    "        opt.run(fmax=0.05)\n",
    "        force_calls[name] = [get_force_calls(opt)]"
   ]
  },
  {
   "cell_type": "code",
   "execution_count": 10,
   "id": "1348e3d9-cad7-4be2-a79e-48c1773e0eed",
   "metadata": {
    "pycharm": {
     "name": "#%%\n"
    }
   },
   "outputs": [
    {
     "data": {
      "image/png": "[encoded data removed]",
      "text/plain": [
       "<Figure size 640x480 with 1 Axes>"
      ]
     },
     "metadata": {},
     "output_type": "display_data"
    }
   ],
   "source": [
    "df = pd.DataFrame.from_dict(force_calls)\n",
    "df.plot.bar()\n",
    "plt.ylabel(\"Force calls\")\n",
    "plt.show()"
   ]
  },
  {
   "cell_type": "markdown",
   "id": "afa26757-64b4-4d83-996b-18a3a8f720ab",
   "metadata": {
    "pycharm": {
     "name": "#%% md\n"
    }
   },
   "source": [
    "FIRE had the highest number of force evaluation, while BFGS and LBFGS had about the same number.\n",
    "The method with LineSearch also had the same number of force evaluations as BFGS and LBFGS."
   ]
  },
  {
   "cell_type": "markdown",
   "id": "09bf8948-4352-4c7c-92e3-48fefa534b15",
   "metadata": {
    "pycharm": {
     "name": "#%% md\n"
    }
   },
   "source": [
    "### Comparison of speed per step\n",
    "\n",
    "Next, let us compare the speed per step of each of the optimization methods."
   ]
  },
  {
   "cell_type": "code",
   "execution_count": 11,
   "id": "4e98affe-9e60-441b-9929-81649d94e98f",
   "metadata": {
    "pycharm": {
     "name": "#%%\n"
    }
   },
   "outputs": [
    {
     "data": {
      "text/html": [
       "<html>\n",
       "    <head>\n",
       "        <title>ASE atomic visualization</title>\n",
       "        <link rel=\"stylesheet\" type=\"text/css\"             href=\"https://www.x3dom.org/release/x3dom.css\"></link>\n",
       "        <script type=\"text/javascript\"             src=\"https://www.x3dom.org/release/x3dom.js\"></script>\n",
       "    </head>\n",
       "    <body>\n",
       "        <X3D width=\"400px\"; height=\"300px\";>\n",
       "\n",
       "<!--Inserting Generated X3D Scene-->\n",
       "<scene>\n",
       "  <viewpoint position=\"0 0 51.294429052812724\">\n",
       "    <group/>\n",
       "  </viewpoint>\n",
       "  <transform translation=\"-0.0 -0.0 -0.0\">\n",
       "    <group>\n",
       "      <group>\n",
       "        <transform translation=\"0 0 0\">\n",
       "          <shape>\n",
       "            <appearance>\n",
       "              <material diffuseColor=\"0 0 0\"/>\n",
       "            </appearance>\n",
       "            <lineset vertexCount=\"5\">\n",
       "              <coordinate point=\"0 0 0 0.0 19.6 19.6 9.8 19.6 29.400000000000002 9.8 0.0 9.8 0 0 0\"/>\n",
       "            </lineset>\n",
       "          </shape>\n",
       "        </transform>\n",
       "        <transform translation=\"5.88 5.88 0.0\">\n",
       "          <shape>\n",
       "            <appearance>\n",
       "              <material diffuseColor=\"0 0 0\"/>\n",
       "            </appearance>\n",
       "            <lineset vertexCount=\"5\">\n",
       "              <coordinate point=\"0 0 0 0.0 19.6 19.6 9.8 19.6 29.400000000000002 9.8 0.0 9.8 0 0 0\"/>\n",
       "            </lineset>\n",
       "          </shape>\n",
       "        </transform>\n",
       "        <transform translation=\"0 0 0\">\n",
       "          <shape>\n",
       "            <appearance>\n",
       "              <material diffuseColor=\"0 0 0\"/>\n",
       "            </appearance>\n",
       "            <lineset vertexCount=\"5\">\n",
       "              <coordinate point=\"0 0 0 0.0 19.6 19.6 5.88 25.48 19.6 5.88 5.88 0.0 0 0 0\"/>\n",
       "            </lineset>\n",
       "          </shape>\n",
       "        </transform>\n",
       "        <transform translation=\"9.8 0.0 9.8\">\n",
       "          <shape>\n",
       "            <appearance>\n",
       "              <material diffuseColor=\"0 0 0\"/>\n",
       "            </appearance>\n",
       "            <lineset vertexCount=\"5\">\n",
       "              <coordinate point=\"0 0 0 0.0 19.6 19.6 5.88 25.48 19.6 5.88 5.88 0.0 0 0 0\"/>\n",
       "            </lineset>\n",
       "          </shape>\n",
       "        </transform>\n",
       "      </group>\n",
       "      <group>\n",
       "        <transform translation=\"0.09934283060224654 -0.027652860234236933 0.1295377076201385\">\n",
       "          <shape>\n",
       "            <appearance>\n",
       "              <material diffuseColor=\"0.816 0.816 0.878\"/>\n",
       "            </appearance>\n",
       "            <sphere radius=\"1.36\"/>\n",
       "          </shape>\n",
       "        </transform>\n",
       "        <transform translation=\"2.264605971281605 1.9131693250553328 -0.04682739138983611\">\n",
       "          <shape>\n",
       "            <appearance>\n",
       "              <material diffuseColor=\"0.816 0.816 0.878\"/>\n",
       "            </appearance>\n",
       "            <sphere radius=\"1.36\"/>\n",
       "          </shape>\n",
       "        </transform>\n",
       "        <transform translation=\"4.235842563101478 4.073486945830582 -0.09389487718699042\">\n",
       "          <shape>\n",
       "            <appearance>\n",
       "              <material diffuseColor=\"0.816 0.816 0.878\"/>\n",
       "            </appearance>\n",
       "            <sphere radius=\"1.36\"/>\n",
       "          </shape>\n",
       "        </transform>\n",
       "        <transform translation=\"2.068512008717193 -0.09268353856249245 1.8668540492859487\">\n",
       "          <shape>\n",
       "            <appearance>\n",
       "              <material diffuseColor=\"0.816 0.816 0.878\"/>\n",
       "            </appearance>\n",
       "            <sphere radius=\"1.36\"/>\n",
       "          </shape>\n",
       "        </transform>\n",
       "        <transform translation=\"3.9683924543132068 1.5773439510684404 1.6150164334973933\">\n",
       "          <shape>\n",
       "            <appearance>\n",
       "              <material diffuseColor=\"0.816 0.816 0.878\"/>\n",
       "            </appearance>\n",
       "            <sphere radius=\"1.36\"/>\n",
       "          </shape>\n",
       "        </transform>\n",
       "        <transform translation=\"5.767542494151805 3.7174337759331153 2.022849466519055\">\n",
       "          <shape>\n",
       "            <appearance>\n",
       "              <material diffuseColor=\"0.816 0.816 0.878\"/>\n",
       "            </appearance>\n",
       "            <sphere radius=\"1.36\"/>\n",
       "          </shape>\n",
       "        </transform>\n",
       "        <transform translation=\"3.738395184895758 -0.2824607402670583 4.213129753784311\">\n",
       "          <shape>\n",
       "            <appearance>\n",
       "              <material diffuseColor=\"0.816 0.816 0.878\"/>\n",
       "            </appearance>\n",
       "            <sphere radius=\"1.36\"/>\n",
       "          </shape>\n",
       "        </transform>\n",
       "        <transform translation=\"5.834844739902692 1.9735056409375846 3.6350503627573088\">\n",
       "          <shape>\n",
       "            <appearance>\n",
       "              <material diffuseColor=\"0.816 0.816 0.878\"/>\n",
       "            </appearance>\n",
       "            <sphere radius=\"1.36\"/>\n",
       "          </shape>\n",
       "        </transform>\n",
       "        <transform translation=\"7.731123455094964 3.942184517941973 3.6898012845155392\">\n",
       "          <shape>\n",
       "            <appearance>\n",
       "              <material diffuseColor=\"0.816 0.816 0.878\"/>\n",
       "            </appearance>\n",
       "            <sphere radius=\"1.36\"/>\n",
       "          </shape>\n",
       "        </transform>\n",
       "        <transform translation=\"5.955139603669134 -0.120127737983761 5.821661250041345\">\n",
       "          <shape>\n",
       "            <appearance>\n",
       "              <material diffuseColor=\"0.816 0.816 0.878\"/>\n",
       "            </appearance>\n",
       "            <sphere radius=\"1.36\"/>\n",
       "          </shape>\n",
       "        </transform>\n",
       "        <transform translation=\"7.71965867755412 2.3304556369017875 5.877300555052413\">\n",
       "          <shape>\n",
       "            <appearance>\n",
       "              <material diffuseColor=\"0.816 0.816 0.878\"/>\n",
       "            </appearance>\n",
       "            <sphere radius=\"1.36\"/>\n",
       "          </shape>\n",
       "        </transform>\n",
       "        <transform translation=\"9.588457814208821 4.084508982420638 5.635831270005795\">\n",
       "          <shape>\n",
       "            <appearance>\n",
       "              <material diffuseColor=\"0.816 0.816 0.878\"/>\n",
       "            </appearance>\n",
       "            <sphere radius=\"1.36\"/>\n",
       "          </shape>\n",
       "        </transform>\n",
       "        <transform translation=\"7.881772719000951 -0.3919340247759551 7.574362790220314\">\n",
       "          <shape>\n",
       "            <appearance>\n",
       "              <material diffuseColor=\"0.816 0.816 0.878\"/>\n",
       "            </appearance>\n",
       "            <sphere radius=\"1.36\"/>\n",
       "          </shape>\n",
       "        </transform>\n",
       "        <transform translation=\"9.839372247173825 2.1076933159990823 7.874273656237994\">\n",
       "          <shape>\n",
       "            <appearance>\n",
       "              <material diffuseColor=\"0.816 0.816 0.878\"/>\n",
       "            </appearance>\n",
       "            <sphere radius=\"1.36\"/>\n",
       "          </shape>\n",
       "        </transform>\n",
       "        <transform translation=\"11.736870343522352 3.859779260882142 7.544295601926514\">\n",
       "          <shape>\n",
       "            <appearance>\n",
       "              <material diffuseColor=\"0.816 0.816 0.878\"/>\n",
       "            </appearance>\n",
       "            <sphere radius=\"1.36\"/>\n",
       "          </shape>\n",
       "        </transform>\n",
       "        <transform translation=\"-0.14396884167894172 1.8678722458080426 2.171424445243783\">\n",
       "          <shape>\n",
       "            <appearance>\n",
       "              <material diffuseColor=\"0.816 0.816 0.878\"/>\n",
       "            </appearance>\n",
       "            <sphere radius=\"1.36\"/>\n",
       "          </shape>\n",
       "        </transform>\n",
       "        <transform translation=\"2.0287236579136922 3.567391968927453 2.024816793878959\">\n",
       "          <shape>\n",
       "            <appearance>\n",
       "              <material diffuseColor=\"0.816 0.816 0.878\"/>\n",
       "            </appearance>\n",
       "            <sphere radius=\"1.36\"/>\n",
       "          </shape>\n",
       "        </transform>\n",
       "        <transform translation=\"3.842983543916737 5.744615599938808 2.0823352577681735\">\n",
       "          <shape>\n",
       "            <appearance>\n",
       "              <material diffuseColor=\"0.816 0.816 0.878\"/>\n",
       "            </appearance>\n",
       "            <sphere radius=\"1.36\"/>\n",
       "          </shape>\n",
       "        </transform>\n",
       "        <transform translation=\"2.16619990449919 2.1462560238232395 3.752156495355472\">\n",
       "          <shape>\n",
       "            <appearance>\n",
       "              <material diffuseColor=\"0.816 0.816 0.878\"/>\n",
       "            </appearance>\n",
       "            <sphere radius=\"1.36\"/>\n",
       "          </shape>\n",
       "        </transform>\n",
       "        <transform translation=\"3.858157524829757 3.9862526862807126 4.115109025424472\">\n",
       "          <shape>\n",
       "            <appearance>\n",
       "              <material diffuseColor=\"0.816 0.816 0.878\"/>\n",
       "            </appearance>\n",
       "            <sphere radius=\"1.36\"/>\n",
       "          </shape>\n",
       "        </transform>\n",
       "        <transform translation=\"5.784165152430942 5.842868204667236 3.698733005198794\">\n",
       "          <shape>\n",
       "            <appearance>\n",
       "              <material diffuseColor=\"0.816 0.816 0.878\"/>\n",
       "            </appearance>\n",
       "            <sphere radius=\"1.36\"/>\n",
       "          </shape>\n",
       "        </transform>\n",
       "        <transform translation=\"3.6807586751838657 2.1225051644788397 6.151248005714164\">\n",
       "          <shape>\n",
       "            <appearance>\n",
       "              <material diffuseColor=\"0.816 0.816 0.878\"/>\n",
       "            </appearance>\n",
       "            <sphere radius=\"1.36\"/>\n",
       "          </shape>\n",
       "        </transform>\n",
       "        <transform translation=\"5.865597975683933 4.120706579578405 5.952327205009527\">\n",
       "          <shape>\n",
       "            <appearance>\n",
       "              <material diffuseColor=\"0.816 0.816 0.878\"/>\n",
       "            </appearance>\n",
       "            <sphere radius=\"1.36\"/>\n",
       "          </shape>\n",
       "        </transform>\n",
       "        <transform translation=\"7.710976049078975 5.952279121101682 6.187607313293194\">\n",
       "          <shape>\n",
       "            <appearance>\n",
       "              <material diffuseColor=\"0.816 0.816 0.878\"/>\n",
       "            </appearance>\n",
       "            <sphere radius=\"1.36\"/>\n",
       "          </shape>\n",
       "        </transform>\n",
       "        <transform translation=\"5.8728347921780095 2.2729287311628013 7.316050979182051\">\n",
       "          <shape>\n",
       "            <appearance>\n",
       "              <material diffuseColor=\"0.816 0.816 0.878\"/>\n",
       "            </appearance>\n",
       "            <sphere radius=\"1.36\"/>\n",
       "          </shape>\n",
       "        </transform>\n",
       "        <transform translation=\"8.004380500875044 3.937409413647634 7.780198529906826\">\n",
       "          <shape>\n",
       "            <appearance>\n",
       "              <material diffuseColor=\"0.816 0.816 0.878\"/>\n",
       "            </appearance>\n",
       "            <sphere radius=\"1.36\"/>\n",
       "          </shape>\n",
       "        </transform>\n",
       "        <transform translation=\"9.818352155307101 5.482486217079821 7.796065622432497\">\n",
       "          <shape>\n",
       "            <appearance>\n",
       "              <material diffuseColor=\"0.816 0.816 0.878\"/>\n",
       "            </appearance>\n",
       "            <sphere radius=\"1.36\"/>\n",
       "          </shape>\n",
       "        </transform>\n",
       "        <transform translation=\"7.911422514302349 2.2555788089483033 9.69634595634527\">\n",
       "          <shape>\n",
       "            <appearance>\n",
       "              <material diffuseColor=\"0.816 0.816 0.878\"/>\n",
       "            </appearance>\n",
       "            <sphere radius=\"1.36\"/>\n",
       "          </shape>\n",
       "        </transform>\n",
       "        <transform translation=\"9.638301279421363 3.8196485912830926 9.983080423540416\">\n",
       "          <shape>\n",
       "            <appearance>\n",
       "              <material diffuseColor=\"0.816 0.816 0.878\"/>\n",
       "            </appearance>\n",
       "            <sphere radius=\"1.36\"/>\n",
       "          </shape>\n",
       "        </transform>\n",
       "        <transform translation=\"11.825750221931937 5.774047959246592 9.902653486622672\">\n",
       "          <shape>\n",
       "            <appearance>\n",
       "              <material diffuseColor=\"0.816 0.816 0.878\"/>\n",
       "            </appearance>\n",
       "            <sphere radius=\"1.36\"/>\n",
       "          </shape>\n",
       "        </transform>\n",
       "        <transform translation=\"0.019415509869608077 4.113728998106578 3.7795893812245294\">\n",
       "          <shape>\n",
       "            <appearance>\n",
       "              <material diffuseColor=\"0.816 0.816 0.878\"/>\n",
       "            </appearance>\n",
       "            <sphere radius=\"1.36\"/>\n",
       "          </shape>\n",
       "        </transform>\n",
       "        <transform translation=\"1.8944675706804464 5.801578369373568 3.627297010373576\">\n",
       "          <shape>\n",
       "            <appearance>\n",
       "              <material diffuseColor=\"0.816 0.816 0.878\"/>\n",
       "            </appearance>\n",
       "            <sphere radius=\"1.36\"/>\n",
       "          </shape>\n",
       "        </transform>\n",
       "        <transform translation=\"3.979224055412915 7.892211054435978 3.921022691328492\">\n",
       "          <shape>\n",
       "            <appearance>\n",
       "              <material diffuseColor=\"0.816 0.816 0.878\"/>\n",
       "            </appearance>\n",
       "            <sphere radius=\"1.36\"/>\n",
       "          </shape>\n",
       "        </transform>\n",
       "        <transform translation=\"1.9130825733249706 3.636925851589917 5.795870935446928\">\n",
       "          <shape>\n",
       "            <appearance>\n",
       "              <material diffuseColor=\"0.816 0.816 0.878\"/>\n",
       "            </appearance>\n",
       "            <sphere radius=\"1.36\"/>\n",
       "          </shape>\n",
       "        </transform>\n",
       "        <transform translation=\"3.851457096694646 5.719544546155676 5.847742857666798\">\n",
       "          <shape>\n",
       "            <appearance>\n",
       "              <material diffuseColor=\"0.816 0.816 0.878\"/>\n",
       "            </appearance>\n",
       "            <sphere radius=\"1.36\"/>\n",
       "          </shape>\n",
       "        </transform>\n",
       "        <transform translation=\"5.960810171362907 8.217237180242106 5.914915562566367\">\n",
       "          <shape>\n",
       "            <appearance>\n",
       "              <material diffuseColor=\"0.816 0.816 0.878\"/>\n",
       "            </appearance>\n",
       "            <sphere radius=\"1.36\"/>\n",
       "          </shape>\n",
       "        </transform>\n",
       "        <transform translation=\"3.971510078144553 3.9051108168467663 7.456245756940191\">\n",
       "          <shape>\n",
       "            <appearance>\n",
       "              <material diffuseColor=\"0.816 0.816 0.878\"/>\n",
       "            </appearance>\n",
       "            <sphere radius=\"1.36\"/>\n",
       "          </shape>\n",
       "        </transform>\n",
       "        <transform translation=\"5.874697224910157 5.8920460419882055 8.332648422497057\">\n",
       "          <shape>\n",
       "            <appearance>\n",
       "              <material diffuseColor=\"0.816 0.816 0.878\"/>\n",
       "            </appearance>\n",
       "            <sphere radius=\"1.36\"/>\n",
       "          </shape>\n",
       "        </transform>\n",
       "        <transform translation=\"7.801527807043775 7.900309468466722 7.833057646058951\">\n",
       "          <shape>\n",
       "            <appearance>\n",
       "              <material diffuseColor=\"0.816 0.816 0.878\"/>\n",
       "            </appearance>\n",
       "            <sphere radius=\"1.36\"/>\n",
       "          </shape>\n",
       "        </transform>\n",
       "        <transform translation=\"5.646264392476094 4.148564562903004 9.950386606537355\">\n",
       "          <shape>\n",
       "            <appearance>\n",
       "              <material diffuseColor=\"0.816 0.816 0.878\"/>\n",
       "            </appearance>\n",
       "            <sphere radius=\"1.36\"/>\n",
       "          </shape>\n",
       "        </transform>\n",
       "        <transform translation=\"7.998206389408609 5.6981225090410526 10.080558862187221\">\n",
       "          <shape>\n",
       "            <appearance>\n",
       "              <material diffuseColor=\"0.816 0.816 0.878\"/>\n",
       "            </appearance>\n",
       "            <sphere radius=\"1.36\"/>\n",
       "          </shape>\n",
       "        </transform>\n",
       "        <transform translation=\"9.519629787441545 7.9573714187600535 10.238091125161997\">\n",
       "          <shape>\n",
       "            <appearance>\n",
       "              <material diffuseColor=\"0.816 0.816 0.878\"/>\n",
       "            </appearance>\n",
       "            <sphere radius=\"1.36\"/>\n",
       "          </shape>\n",
       "        </transform>\n",
       "        <transform translation=\"7.641892734973863 3.8067404540794456 11.779930273017529\">\n",
       "          <shape>\n",
       "            <appearance>\n",
       "              <material diffuseColor=\"0.816 0.816 0.878\"/>\n",
       "            </appearance>\n",
       "            <sphere radius=\"1.36\"/>\n",
       "          </shape>\n",
       "        </transform>\n",
       "        <transform translation=\"9.69930486917676 5.569867313786773 11.773712594961205\">\n",
       "          <shape>\n",
       "            <appearance>\n",
       "              <material diffuseColor=\"0.816 0.816 0.878\"/>\n",
       "            </appearance>\n",
       "            <sphere radius=\"1.36\"/>\n",
       "          </shape>\n",
       "        </transform>\n",
       "        <transform translation=\"11.54753925725478 7.934718486127037 11.57611515315324\">\n",
       "          <shape>\n",
       "            <appearance>\n",
       "              <material diffuseColor=\"0.816 0.816 0.878\"/>\n",
       "            </appearance>\n",
       "            <sphere radius=\"1.36\"/>\n",
       "          </shape>\n",
       "        </transform>\n",
       "        <transform translation=\"0.3099868810035079 5.723349341532752 5.815587696758865\">\n",
       "          <shape>\n",
       "            <appearance>\n",
       "              <material diffuseColor=\"0.816 0.816 0.878\"/>\n",
       "            </appearance>\n",
       "            <sphere radius=\"1.36\"/>\n",
       "          </shape>\n",
       "        </transform>\n",
       "        <transform translation=\"2.122703443473934 7.593827136713209 5.925491986920826\">\n",
       "          <shape>\n",
       "            <appearance>\n",
       "              <material diffuseColor=\"0.816 0.816 0.878\"/>\n",
       "            </appearance>\n",
       "            <sphere radius=\"1.36\"/>\n",
       "          </shape>\n",
       "        </transform>\n",
       "        <transform translation=\"4.181428550856485 9.478503353087754 5.916926771706461\">\n",
       "          <shape>\n",
       "            <appearance>\n",
       "              <material diffuseColor=\"0.816 0.816 0.878\"/>\n",
       "            </appearance>\n",
       "            <sphere radius=\"1.36\"/>\n",
       "          </shape>\n",
       "        </transform>\n",
       "        <transform translation=\"2.0119765588496845 6.036364574355462 7.5926098578243835\">\n",
       "          <shape>\n",
       "            <appearance>\n",
       "              <material diffuseColor=\"0.816 0.816 0.878\"/>\n",
       "            </appearance>\n",
       "            <sphere radius=\"1.36\"/>\n",
       "          </shape>\n",
       "        </transform>\n",
       "        <transform translation=\"3.655908677383145 7.94438831312338 7.899396934646637\">\n",
       "          <shape>\n",
       "            <appearance>\n",
       "              <material diffuseColor=\"0.816 0.816 0.878\"/>\n",
       "            </appearance>\n",
       "            <sphere radius=\"1.36\"/>\n",
       "          </shape>\n",
       "        </transform>\n",
       "        <transform translation=\"5.930098570069175 9.869289641899396 7.7039950556843015\">\n",
       "          <shape>\n",
       "            <appearance>\n",
       "              <material diffuseColor=\"0.816 0.816 0.878\"/>\n",
       "            </appearance>\n",
       "            <sphere radius=\"1.36\"/>\n",
       "          </shape>\n",
       "        </transform>\n",
       "        <transform translation=\"3.966450739432201 5.938614494659737 9.657129716394728\">\n",
       "          <shape>\n",
       "            <appearance>\n",
       "              <material diffuseColor=\"0.816 0.816 0.878\"/>\n",
       "            </appearance>\n",
       "            <sphere radius=\"1.36\"/>\n",
       "          </shape>\n",
       "        </transform>\n",
       "        <transform translation=\"6.253154902228951 7.934766584182357 9.561739300559472\">\n",
       "          <shape>\n",
       "            <appearance>\n",
       "              <material diffuseColor=\"0.816 0.816 0.878\"/>\n",
       "            </appearance>\n",
       "            <sphere radius=\"1.36\"/>\n",
       "          </shape>\n",
       "        </transform>\n",
       "        <transform translation=\"7.971310721726766 9.605063665954537 9.957416920748491\">\n",
       "          <shape>\n",
       "            <appearance>\n",
       "              <material diffuseColor=\"0.816 0.816 0.878\"/>\n",
       "            </appearance>\n",
       "            <sphere radius=\"1.36\"/>\n",
       "          </shape>\n",
       "        </transform>\n",
       "        <transform translation=\"6.11171911580148 5.715863536329658 11.952675225848864\">\n",
       "          <shape>\n",
       "            <appearance>\n",
       "              <material diffuseColor=\"0.816 0.816 0.878\"/>\n",
       "            </appearance>\n",
       "            <sphere radius=\"1.36\"/>\n",
       "          </shape>\n",
       "        </transform>\n",
       "        <transform translation=\"7.922556185387299 8.004412031998898 12.139358596530789\">\n",
       "          <shape>\n",
       "            <appearance>\n",
       "              <material diffuseColor=\"0.816 0.816 0.878\"/>\n",
       "            </appearance>\n",
       "            <sphere radius=\"1.36\"/>\n",
       "          </shape>\n",
       "        </transform>\n",
       "        <transform translation=\"9.750922376799426 9.649252767128504 11.582097114074895\">\n",
       "          <shape>\n",
       "            <appearance>\n",
       "              <material diffuseColor=\"0.816 0.816 0.878\"/>\n",
       "            </appearance>\n",
       "            <sphere radius=\"1.36\"/>\n",
       "          </shape>\n",
       "        </transform>\n",
       "        <transform translation=\"7.6768379430069125 5.864579658117179 13.788230394963328\">\n",
       "          <shape>\n",
       "            <appearance>\n",
       "              <material diffuseColor=\"0.816 0.816 0.878\"/>\n",
       "            </appearance>\n",
       "            <sphere radius=\"1.36\"/>\n",
       "          </shape>\n",
       "        </transform>\n",
       "        <transform translation=\"9.855338159866005 8.005436649807205 13.72260037837558\">\n",
       "          <shape>\n",
       "            <appearance>\n",
       "              <material diffuseColor=\"0.816 0.816 0.878\"/>\n",
       "            </appearance>\n",
       "            <sphere radius=\"1.36\"/>\n",
       "          </shape>\n",
       "        </transform>\n",
       "        <transform translation=\"12.050706815431463 9.74706863335241 14.264033833317923\">\n",
       "          <shape>\n",
       "            <appearance>\n",
       "              <material diffuseColor=\"0.816 0.816 0.878\"/>\n",
       "            </appearance>\n",
       "            <sphere radius=\"1.36\"/>\n",
       "          </shape>\n",
       "        </transform>\n",
       "        <transform translation=\"0.12513346955300125 7.668568488716743 7.625821500387778\">\n",
       "          <shape>\n",
       "            <appearance>\n",
       "              <material diffuseColor=\"0.816 0.816 0.878\"/>\n",
       "            </appearance>\n",
       "            <sphere radius=\"1.36\"/>\n",
       "          </shape>\n",
       "        </transform>\n",
       "        <transform translation=\"2.056494483048637 9.75530744293483 7.9828000988184185\">\n",
       "          <shape>\n",
       "            <appearance>\n",
       "              <material diffuseColor=\"0.816 0.816 0.878\"/>\n",
       "            </appearance>\n",
       "            <sphere radius=\"1.36\"/>\n",
       "          </shape>\n",
       "        </transform>\n",
       "        <transform translation=\"4.014647524914709 11.745434217468626 7.670641256386319\">\n",
       "          <shape>\n",
       "            <appearance>\n",
       "              <material diffuseColor=\"0.816 0.816 0.878\"/>\n",
       "            </appearance>\n",
       "            <sphere radius=\"1.36\"/>\n",
       "          </shape>\n",
       "        </transform>\n",
       "        <transform translation=\"1.657030555062827 7.750697009586595 9.971279758864695\">\n",
       "          <shape>\n",
       "            <appearance>\n",
       "              <material diffuseColor=\"0.816 0.816 0.878\"/>\n",
       "            </appearance>\n",
       "            <sphere radius=\"1.36\"/>\n",
       "          </shape>\n",
       "        </transform>\n",
       "        <transform translation=\"3.9628187488260407 9.550852244257603 9.834636185170238\">\n",
       "          <shape>\n",
       "            <appearance>\n",
       "              <material diffuseColor=\"0.816 0.816 0.878\"/>\n",
       "            </appearance>\n",
       "            <sphere radius=\"1.36\"/>\n",
       "          </shape>\n",
       "        </transform>\n",
       "        <transform translation=\"5.957063475945767 11.583228512759772 9.830745021189106\">\n",
       "          <shape>\n",
       "            <appearance>\n",
       "              <material diffuseColor=\"0.816 0.816 0.878\"/>\n",
       "            </appearance>\n",
       "            <sphere radius=\"1.36\"/>\n",
       "          </shape>\n",
       "        </transform>\n",
       "        <transform translation=\"3.9316417436892 7.611405940433875 11.831557472069656\">\n",
       "          <shape>\n",
       "            <appearance>\n",
       "              <material diffuseColor=\"0.816 0.816 0.878\"/>\n",
       "            </appearance>\n",
       "            <sphere radius=\"1.36\"/>\n",
       "          </shape>\n",
       "        </transform>\n",
       "        <transform translation=\"5.992156905273647 10.016610248635056 11.97076041040698\">\n",
       "          <shape>\n",
       "            <appearance>\n",
       "              <material diffuseColor=\"0.816 0.816 0.878\"/>\n",
       "            </appearance>\n",
       "            <sphere radius=\"1.36\"/>\n",
       "          </shape>\n",
       "        </transform>\n",
       "        <transform translation=\"7.564466126408582 11.572434992016975 11.863007053441732\">\n",
       "          <shape>\n",
       "            <appearance>\n",
       "              <material diffuseColor=\"0.816 0.816 0.878\"/>\n",
       "            </appearance>\n",
       "            <sphere radius=\"1.36\"/>\n",
       "          </shape>\n",
       "        </transform>\n",
       "        <transform translation=\"5.982757190182442 7.94300953726121 14.490546298130944\">\n",
       "          <shape>\n",
       "            <appearance>\n",
       "              <material diffuseColor=\"0.816 0.816 0.878\"/>\n",
       "            </appearance>\n",
       "            <sphere radius=\"1.36\"/>\n",
       "          </shape>\n",
       "        </transform>\n",
       "        <transform translation=\"7.954178102138633 10.02711312803612 13.91080035269864\">\n",
       "          <shape>\n",
       "            <appearance>\n",
       "              <material diffuseColor=\"0.816 0.816 0.878\"/>\n",
       "            </appearance>\n",
       "            <sphere radius=\"1.36\"/>\n",
       "          </shape>\n",
       "        </transform>\n",
       "        <transform translation=\"9.93027825026116 11.69694615107193 13.871793844098653\">\n",
       "          <shape>\n",
       "            <appearance>\n",
       "              <material diffuseColor=\"0.816 0.816 0.878\"/>\n",
       "            </appearance>\n",
       "            <sphere radius=\"1.36\"/>\n",
       "          </shape>\n",
       "        </transform>\n",
       "        <transform translation=\"7.685434957092485 7.792636278651998 15.58292729043418\">\n",
       "          <shape>\n",
       "            <appearance>\n",
       "              <material diffuseColor=\"0.816 0.816 0.878\"/>\n",
       "            </appearance>\n",
       "            <sphere radius=\"1.36\"/>\n",
       "          </shape>\n",
       "        </transform>\n",
       "        <transform translation=\"9.816374827877265 10.262931713334702 15.30654696148165\">\n",
       "          <shape>\n",
       "            <appearance>\n",
       "              <material diffuseColor=\"0.816 0.816 0.878\"/>\n",
       "            </appearance>\n",
       "            <sphere radius=\"1.36\"/>\n",
       "          </shape>\n",
       "        </transform>\n",
       "        <transform translation=\"11.897252038074903 11.43745682576207 15.585613626842113\">\n",
       "          <shape>\n",
       "            <appearance>\n",
       "              <material diffuseColor=\"0.816 0.816 0.878\"/>\n",
       "            </appearance>\n",
       "            <sphere radius=\"1.36\"/>\n",
       "          </shape>\n",
       "        </transform>\n",
       "        <transform translation=\"0.21779011939347323 9.812856003819093 9.58445104441414\">\n",
       "          <shape>\n",
       "            <appearance>\n",
       "              <material diffuseColor=\"0.816 0.816 0.878\"/>\n",
       "            </appearance>\n",
       "            <sphere radius=\"1.36\"/>\n",
       "          </shape>\n",
       "        </transform>\n",
       "        <transform translation=\"1.8169392581480064 11.895919549786937 9.653926673656573\">\n",
       "          <shape>\n",
       "            <appearance>\n",
       "              <material diffuseColor=\"0.816 0.816 0.878\"/>\n",
       "            </appearance>\n",
       "            <sphere radius=\"1.36\"/>\n",
       "          </shape>\n",
       "        </transform>\n",
       "        <transform translation=\"3.963291717916395 13.729114367980763 9.669679930478837\">\n",
       "          <shape>\n",
       "            <appearance>\n",
       "              <material diffuseColor=\"0.816 0.816 0.878\"/>\n",
       "            </appearance>\n",
       "            <sphere radius=\"1.36\"/>\n",
       "          </shape>\n",
       "        </transform>\n",
       "        <transform translation=\"2.3887888178650654 9.926783804463604 11.35497148266848\">\n",
       "          <shape>\n",
       "            <appearance>\n",
       "              <material diffuseColor=\"0.816 0.816 0.878\"/>\n",
       "            </appearance>\n",
       "            <sphere radius=\"1.36\"/>\n",
       "          </shape>\n",
       "        </transform>\n",
       "        <transform translation=\"3.9572908629538857 11.627642707046324 11.930486666959247\">\n",
       "          <shape>\n",
       "            <appearance>\n",
       "              <material diffuseColor=\"0.816 0.816 0.878\"/>\n",
       "            </appearance>\n",
       "            <sphere radius=\"1.36\"/>\n",
       "          </shape>\n",
       "        </transform>\n",
       "        <transform translation=\"5.72149585231346 13.69705271170662 11.860997455796094\">\n",
       "          <shape>\n",
       "            <appearance>\n",
       "              <material diffuseColor=\"0.816 0.816 0.878\"/>\n",
       "            </appearance>\n",
       "            <sphere radius=\"1.36\"/>\n",
       "          </shape>\n",
       "        </transform>\n",
       "        <transform translation=\"4.093151038834025 9.559940718588846 13.65309975283181\">\n",
       "          <shape>\n",
       "            <appearance>\n",
       "              <material diffuseColor=\"0.816 0.816 0.878\"/>\n",
       "            </appearance>\n",
       "            <sphere radius=\"1.36\"/>\n",
       "          </shape>\n",
       "        </transform>\n",
       "        <transform translation=\"5.785010937767809 11.629334153485258 14.07309084805622\">\n",
       "          <shape>\n",
       "            <appearance>\n",
       "              <material diffuseColor=\"0.816 0.816 0.878\"/>\n",
       "            </appearance>\n",
       "            <sphere radius=\"1.36\"/>\n",
       "          </shape>\n",
       "        </transform>\n",
       "        <transform translation=\"7.920996342192191 13.467823209132991 13.903572389410956\">\n",
       "          <shape>\n",
       "            <appearance>\n",
       "              <material diffuseColor=\"0.816 0.816 0.878\"/>\n",
       "            </appearance>\n",
       "            <sphere radius=\"1.36\"/>\n",
       "          </shape>\n",
       "        </transform>\n",
       "        <transform translation=\"6.304431239402526 10.00649305211023 15.376126006809198\">\n",
       "          <shape>\n",
       "            <appearance>\n",
       "              <material diffuseColor=\"0.816 0.816 0.878\"/>\n",
       "            </appearance>\n",
       "            <sphere radius=\"1.36\"/>\n",
       "          </shape>\n",
       "        </transform>\n",
       "        <transform translation=\"7.74315318542675 12.013382229837326 15.538466106876244\">\n",
       "          <shape>\n",
       "            <appearance>\n",
       "              <material diffuseColor=\"0.816 0.816 0.878\"/>\n",
       "            </appearance>\n",
       "            <sphere radius=\"1.36\"/>\n",
       "          </shape>\n",
       "        </transform>\n",
       "        <transform translation=\"9.888763885629247 13.874926810685867 15.494613905684384\">\n",
       "          <shape>\n",
       "            <appearance>\n",
       "              <material diffuseColor=\"0.816 0.816 0.878\"/>\n",
       "            </appearance>\n",
       "            <sphere radius=\"1.36\"/>\n",
       "          </shape>\n",
       "        </transform>\n",
       "        <transform translation=\"7.82809492878764 9.151746531986186 17.43512247173314\">\n",
       "          <shape>\n",
       "            <appearance>\n",
       "              <material diffuseColor=\"0.816 0.816 0.878\"/>\n",
       "            </appearance>\n",
       "            <sphere radius=\"1.36\"/>\n",
       "          </shape>\n",
       "        </transform>\n",
       "        <transform translation=\"9.74948636972137 11.510443363607031 17.96648226078633\">\n",
       "          <shape>\n",
       "            <appearance>\n",
       "              <material diffuseColor=\"0.816 0.816 0.878\"/>\n",
       "            </appearance>\n",
       "            <sphere radius=\"1.36\"/>\n",
       "          </shape>\n",
       "        </transform>\n",
       "        <transform translation=\"11.473971724407873 13.631991102660605 17.66614811545722\">\n",
       "          <shape>\n",
       "            <appearance>\n",
       "              <material diffuseColor=\"0.816 0.816 0.878\"/>\n",
       "            </appearance>\n",
       "            <sphere radius=\"1.36\"/>\n",
       "          </shape>\n",
       "        </transform>\n",
       "        <transform translation=\"0.2882546578132231 11.472827569764112 11.992632750430992\">\n",
       "          <shape>\n",
       "            <appearance>\n",
       "              <material diffuseColor=\"0.816 0.816 0.878\"/>\n",
       "            </appearance>\n",
       "            <sphere radius=\"1.36\"/>\n",
       "          </shape>\n",
       "        </transform>\n",
       "        <transform translation=\"1.9620466122039173 13.523698269790408 11.852420694852654\">\n",
       "          <shape>\n",
       "            <appearance>\n",
       "              <material diffuseColor=\"0.816 0.816 0.878\"/>\n",
       "            </appearance>\n",
       "            <sphere radius=\"1.36\"/>\n",
       "          </shape>\n",
       "        </transform>\n",
       "        <transform translation=\"3.9598119391146938 15.55995662456824 11.773960416998003\">\n",
       "          <shape>\n",
       "            <appearance>\n",
       "              <material diffuseColor=\"0.816 0.816 0.878\"/>\n",
       "            </appearance>\n",
       "            <sphere radius=\"1.36\"/>\n",
       "          </shape>\n",
       "        </transform>\n",
       "        <transform translation=\"1.8829372806276479 11.782703469050249 13.852426134904208\">\n",
       "          <shape>\n",
       "            <appearance>\n",
       "              <material diffuseColor=\"0.816 0.816 0.878\"/>\n",
       "            </appearance>\n",
       "            <sphere radius=\"1.36\"/>\n",
       "          </shape>\n",
       "        </transform>\n",
       "        <transform translation=\"4.23720336322907 13.472436900234628 14.146606674931252\">\n",
       "          <shape>\n",
       "            <appearance>\n",
       "              <material diffuseColor=\"0.816 0.816 0.878\"/>\n",
       "            </appearance>\n",
       "            <sphere radius=\"1.36\"/>\n",
       "          </shape>\n",
       "        </transform>\n",
       "        <transform translation=\"5.489582440095499 15.649642980992883 13.837663441296915\">\n",
       "          <shape>\n",
       "            <appearance>\n",
       "              <material diffuseColor=\"0.816 0.816 0.878\"/>\n",
       "            </appearance>\n",
       "            <sphere radius=\"1.36\"/>\n",
       "          </shape>\n",
       "        </transform>\n",
       "        <transform translation=\"3.9761983735470063 11.635460096035882 15.638375549928545\">\n",
       "          <shape>\n",
       "            <appearance>\n",
       "              <material diffuseColor=\"0.816 0.816 0.878\"/>\n",
       "            </appearance>\n",
       "            <sphere radius=\"1.36\"/>\n",
       "          </shape>\n",
       "        </transform>\n",
       "        <transform translation=\"5.781399813068234 13.602127048611157 15.849920419404205\">\n",
       "          <shape>\n",
       "            <appearance>\n",
       "              <material diffuseColor=\"0.816 0.816 0.878\"/>\n",
       "            </appearance>\n",
       "            <sphere radius=\"1.36\"/>\n",
       "          </shape>\n",
       "        </transform>\n",
       "        <transform translation=\"7.911403097193009 15.541418080947869 15.85991997508665\">\n",
       "          <shape>\n",
       "            <appearance>\n",
       "              <material diffuseColor=\"0.816 0.816 0.878\"/>\n",
       "            </appearance>\n",
       "            <sphere radius=\"1.36\"/>\n",
       "          </shape>\n",
       "        </transform>\n",
       "        <transform translation=\"5.941459904175321 11.922572423767791 17.765925768384722\">\n",
       "          <shape>\n",
       "            <appearance>\n",
       "              <material diffuseColor=\"0.816 0.816 0.878\"/>\n",
       "            </appearance>\n",
       "            <sphere radius=\"1.36\"/>\n",
       "          </shape>\n",
       "        </transform>\n",
       "        <transform translation=\"7.674200997815586 13.607963791960605 17.78945872102465\">\n",
       "          <shape>\n",
       "            <appearance>\n",
       "              <material diffuseColor=\"0.816 0.816 0.878\"/>\n",
       "            </appearance>\n",
       "            <sphere radius=\"1.36\"/>\n",
       "          </shape>\n",
       "        </transform>\n",
       "        <transform translation=\"9.922074053086694 15.67581968120717 17.663465476661756\">\n",
       "          <shape>\n",
       "            <appearance>\n",
       "              <material diffuseColor=\"0.816 0.816 0.878\"/>\n",
       "            </appearance>\n",
       "            <sphere radius=\"1.36\"/>\n",
       "          </shape>\n",
       "        </transform>\n",
       "        <transform translation=\"8.095532979157685 11.641685722232834 19.709419476234007\">\n",
       "          <shape>\n",
       "            <appearance>\n",
       "              <material diffuseColor=\"0.816 0.816 0.878\"/>\n",
       "            </appearance>\n",
       "            <sphere radius=\"1.36\"/>\n",
       "          </shape>\n",
       "        </transform>\n",
       "        <transform translation=\"9.759561469513223 13.676463759354554 19.819755370397438\">\n",
       "          <shape>\n",
       "            <appearance>\n",
       "              <material diffuseColor=\"0.816 0.816 0.878\"/>\n",
       "            </appearance>\n",
       "            <sphere radius=\"1.36\"/>\n",
       "          </shape>\n",
       "        </transform>\n",
       "        <transform translation=\"11.925083269797605 15.842701927200128 19.861095761430867\">\n",
       "          <shape>\n",
       "            <appearance>\n",
       "              <material diffuseColor=\"0.816 0.816 0.878\"/>\n",
       "            </appearance>\n",
       "            <sphere radius=\"1.36\"/>\n",
       "          </shape>\n",
       "        </transform>\n",
       "        <transform translation=\"0.00420076832655181 13.856390594258992 13.657946648681307\">\n",
       "          <shape>\n",
       "            <appearance>\n",
       "              <material diffuseColor=\"0.816 0.816 0.878\"/>\n",
       "            </appearance>\n",
       "            <sphere radius=\"1.36\"/>\n",
       "          </shape>\n",
       "        </transform>\n",
       "        <transform translation=\"2.0248332704976884 15.653971389126463 13.739399192998542\">\n",
       "          <shape>\n",
       "            <appearance>\n",
       "              <material diffuseColor=\"0.816 0.816 0.878\"/>\n",
       "            </appearance>\n",
       "            <sphere radius=\"1.36\"/>\n",
       "          </shape>\n",
       "        </transform>\n",
       "        <transform translation=\"4.039031405087383 17.476355863353305 14.13847745513709\">\n",
       "          <shape>\n",
       "            <appearance>\n",
       "              <material diffuseColor=\"0.816 0.816 0.878\"/>\n",
       "            </appearance>\n",
       "            <sphere radius=\"1.36\"/>\n",
       "          </shape>\n",
       "        </transform>\n",
       "        <transform translation=\"1.7587965237000596 13.477162277442453 15.911622174700014\">\n",
       "          <shape>\n",
       "            <appearance>\n",
       "              <material diffuseColor=\"0.816 0.816 0.878\"/>\n",
       "            </appearance>\n",
       "            <sphere radius=\"1.36\"/>\n",
       "          </shape>\n",
       "        </transform>\n",
       "        <transform translation=\"4.078332538792587 15.804823963410431 15.805669101852855\">\n",
       "          <shape>\n",
       "            <appearance>\n",
       "              <material diffuseColor=\"0.816 0.816 0.878\"/>\n",
       "            </appearance>\n",
       "            <sphere radius=\"1.36\"/>\n",
       "          </shape>\n",
       "        </transform>\n",
       "        <transform translation=\"5.877550645430617 17.460549125702833 15.695160911638744\">\n",
       "          <shape>\n",
       "            <appearance>\n",
       "              <material diffuseColor=\"0.816 0.816 0.878\"/>\n",
       "            </appearance>\n",
       "            <sphere radius=\"1.36\"/>\n",
       "          </shape>\n",
       "        </transform>\n",
       "        <transform translation=\"3.7845676576975777 13.915023946683549 17.610588523699573\">\n",
       "          <shape>\n",
       "            <appearance>\n",
       "              <material diffuseColor=\"0.816 0.816 0.878\"/>\n",
       "            </appearance>\n",
       "            <sphere radius=\"1.36\"/>\n",
       "          </shape>\n",
       "        </transform>\n",
       "        <transform translation=\"5.714900560641498 15.615722831669402 17.722586290855126\">\n",
       "          <shape>\n",
       "            <appearance>\n",
       "              <material diffuseColor=\"0.816 0.816 0.878\"/>\n",
       "            </appearance>\n",
       "            <sphere radius=\"1.36\"/>\n",
       "          </shape>\n",
       "        </transform>\n",
       "        <transform translation=\"7.727255089439205 17.475555920886713 17.688737442298383\">\n",
       "          <shape>\n",
       "            <appearance>\n",
       "              <material diffuseColor=\"0.816 0.816 0.878\"/>\n",
       "            </appearance>\n",
       "            <sphere radius=\"1.36\"/>\n",
       "          </shape>\n",
       "        </transform>\n",
       "        <transform translation=\"5.928993314221745 13.618611364925773 19.505792338876333\">\n",
       "          <shape>\n",
       "            <appearance>\n",
       "              <material diffuseColor=\"0.816 0.816 0.878\"/>\n",
       "            </appearance>\n",
       "            <sphere radius=\"1.36\"/>\n",
       "          </shape>\n",
       "        </transform>\n",
       "        <transform translation=\"7.886409987471527 15.390383131700535 19.318507245124685\">\n",
       "          <shape>\n",
       "            <appearance>\n",
       "              <material diffuseColor=\"0.816 0.816 0.878\"/>\n",
       "            </appearance>\n",
       "            <sphere radius=\"1.36\"/>\n",
       "          </shape>\n",
       "        </transform>\n",
       "        <transform translation=\"9.656311155749513 17.59731056965763 19.6621815131196\">\n",
       "          <shape>\n",
       "            <appearance>\n",
       "              <material diffuseColor=\"0.816 0.816 0.878\"/>\n",
       "            </appearance>\n",
       "            <sphere radius=\"1.36\"/>\n",
       "          </shape>\n",
       "        </transform>\n",
       "        <transform translation=\"8.13507124338991 13.891531924640402 21.528012294007315\">\n",
       "          <shape>\n",
       "            <appearance>\n",
       "              <material diffuseColor=\"0.816 0.816 0.878\"/>\n",
       "            </appearance>\n",
       "            <sphere radius=\"1.36\"/>\n",
       "          </shape>\n",
       "        </transform>\n",
       "        <transform translation=\"9.796196758419462 15.479494127072439 21.55629737280152\">\n",
       "          <shape>\n",
       "            <appearance>\n",
       "              <material diffuseColor=\"0.816 0.816 0.878\"/>\n",
       "            </appearance>\n",
       "            <sphere radius=\"1.36\"/>\n",
       "          </shape>\n",
       "        </transform>\n",
       "        <transform translation=\"11.702268272215973 17.70454371206762 21.394553811289533\">\n",
       "          <shape>\n",
       "            <appearance>\n",
       "              <material diffuseColor=\"0.816 0.816 0.878\"/>\n",
       "            </appearance>\n",
       "            <sphere radius=\"1.36\"/>\n",
       "          </shape>\n",
       "        </transform>\n",
       "        <transform translation=\"0.10386930284823447 15.986547782600516 15.658247970308627\">\n",
       "          <shape>\n",
       "            <appearance>\n",
       "              <material diffuseColor=\"0.816 0.816 0.878\"/>\n",
       "            </appearance>\n",
       "            <sphere radius=\"1.36\"/>\n",
       "          </shape>\n",
       "        </transform>\n",
       "        <transform translation=\"2.040342344419788 17.778028798342223 15.599755905622832\">\n",
       "          <shape>\n",
       "            <appearance>\n",
       "              <material diffuseColor=\"0.816 0.816 0.878\"/>\n",
       "            </appearance>\n",
       "            <sphere radius=\"1.36\"/>\n",
       "          </shape>\n",
       "        </transform>\n",
       "        <transform translation=\"3.964818496362083 19.60251848015636 15.699535219709766\">\n",
       "          <shape>\n",
       "            <appearance>\n",
       "              <material diffuseColor=\"0.816 0.816 0.878\"/>\n",
       "            </appearance>\n",
       "            <sphere radius=\"1.36\"/>\n",
       "          </shape>\n",
       "        </transform>\n",
       "        <transform translation=\"1.8053980432289067 15.684902034851788 17.73959965824909\">\n",
       "          <shape>\n",
       "            <appearance>\n",
       "              <material diffuseColor=\"0.816 0.816 0.878\"/>\n",
       "            </appearance>\n",
       "            <sphere radius=\"1.36\"/>\n",
       "          </shape>\n",
       "        </transform>\n",
       "        <transform translation=\"4.210228721559008 17.83185416521704 18.070636491502313\">\n",
       "          <shape>\n",
       "            <appearance>\n",
       "              <material diffuseColor=\"0.816 0.816 0.878\"/>\n",
       "            </appearance>\n",
       "            <sphere radius=\"1.36\"/>\n",
       "          </shape>\n",
       "        </transform>\n",
       "        <transform translation=\"5.72653048742239 19.77446412734414 17.676668401147673\">\n",
       "          <shape>\n",
       "            <appearance>\n",
       "              <material diffuseColor=\"0.816 0.816 0.878\"/>\n",
       "            </appearance>\n",
       "            <sphere radius=\"1.36\"/>\n",
       "          </shape>\n",
       "        </transform>\n",
       "        <transform translation=\"4.357960586643534 15.518340342928969 19.432055631563845\">\n",
       "          <shape>\n",
       "            <appearance>\n",
       "              <material diffuseColor=\"0.816 0.816 0.878\"/>\n",
       "            </appearance>\n",
       "            <sphere radius=\"1.36\"/>\n",
       "          </shape>\n",
       "        </transform>\n",
       "        <transform translation=\"5.760121470911195 17.21522085513804 19.494848995663848\">\n",
       "          <shape>\n",
       "            <appearance>\n",
       "              <material diffuseColor=\"0.816 0.816 0.878\"/>\n",
       "            </appearance>\n",
       "            <sphere radius=\"1.36\"/>\n",
       "          </shape>\n",
       "        </transform>\n",
       "        <transform translation=\"7.688173467689261 19.630078757295244 19.668351195155434\">\n",
       "          <shape>\n",
       "            <appearance>\n",
       "              <material diffuseColor=\"0.816 0.816 0.878\"/>\n",
       "            </appearance>\n",
       "            <sphere radius=\"1.36\"/>\n",
       "          </shape>\n",
       "        </transform>\n",
       "        <transform translation=\"6.255234167843177 15.87008476763721 21.44461926886752\">\n",
       "          <shape>\n",
       "            <appearance>\n",
       "              <material diffuseColor=\"0.816 0.816 0.878\"/>\n",
       "            </appearance>\n",
       "            <sphere radius=\"1.36\"/>\n",
       "          </shape>\n",
       "        </transform>\n",
       "        <transform translation=\"7.660317065730328 17.738383834301302 21.29595335859587\">\n",
       "          <shape>\n",
       "            <appearance>\n",
       "              <material diffuseColor=\"0.816 0.816 0.878\"/>\n",
       "            </appearance>\n",
       "            <sphere radius=\"1.36\"/>\n",
       "          </shape>\n",
       "        </transform>\n",
       "        <transform translation=\"10.16629175317087 19.83588802414426 21.466164869579057\">\n",
       "          <shape>\n",
       "            <appearance>\n",
       "              <material diffuseColor=\"0.816 0.816 0.878\"/>\n",
       "            </appearance>\n",
       "            <sphere radius=\"1.36\"/>\n",
       "          </shape>\n",
       "        </transform>\n",
       "        <transform translation=\"7.497373094181825 15.950774474833082 23.497092030949474\">\n",
       "          <shape>\n",
       "            <appearance>\n",
       "              <material diffuseColor=\"0.816 0.816 0.878\"/>\n",
       "            </appearance>\n",
       "            <sphere radius=\"1.36\"/>\n",
       "          </shape>\n",
       "        </transform>\n",
       "        <transform translation=\"10.047563262394693 17.321114468241127 23.400124995409247\">\n",
       "          <shape>\n",
       "            <appearance>\n",
       "              <material diffuseColor=\"0.816 0.816 0.878\"/>\n",
       "            </appearance>\n",
       "            <sphere radius=\"1.36\"/>\n",
       "          </shape>\n",
       "        </transform>\n",
       "        <transform translation=\"11.761048739943636 19.60939611875295 23.42998690570415\">\n",
       "          <shape>\n",
       "            <appearance>\n",
       "              <material diffuseColor=\"0.816 0.816 0.878\"/>\n",
       "            </appearance>\n",
       "            <sphere radius=\"1.36\"/>\n",
       "          </shape>\n",
       "        </transform>\n",
       "        <transform translation=\"0.12456998646949975 17.426475914123483 17.61152410299574\">\n",
       "          <shape>\n",
       "            <appearance>\n",
       "              <material diffuseColor=\"0.816 0.816 0.878\"/>\n",
       "            </appearance>\n",
       "            <sphere radius=\"1.36\"/>\n",
       "          </shape>\n",
       "        </transform>\n",
       "        <transform translation=\"1.9840591263423797 19.702887766811752 17.782322975617777\">\n",
       "          <shape>\n",
       "            <appearance>\n",
       "              <material diffuseColor=\"0.816 0.816 0.878\"/>\n",
       "            </appearance>\n",
       "            <sphere radius=\"1.36\"/>\n",
       "          </shape>\n",
       "        </transform>\n",
       "        <transform translation=\"3.695071581632426 21.25317716585288 17.895535364379704\">\n",
       "          <shape>\n",
       "            <appearance>\n",
       "              <material diffuseColor=\"0.816 0.816 0.878\"/>\n",
       "            </appearance>\n",
       "            <sphere radius=\"1.36\"/>\n",
       "          </shape>\n",
       "        </transform>\n",
       "        <transform translation=\"2.026462802395918 17.49030269268869 19.910230395104506\">\n",
       "          <shape>\n",
       "            <appearance>\n",
       "              <material diffuseColor=\"0.816 0.816 0.878\"/>\n",
       "            </appearance>\n",
       "            <sphere radius=\"1.36\"/>\n",
       "          </shape>\n",
       "        </transform>\n",
       "        <transform translation=\"3.943134926858572 19.83585943681277 19.613503696282024\">\n",
       "          <shape>\n",
       "            <appearance>\n",
       "              <material diffuseColor=\"0.816 0.816 0.878\"/>\n",
       "            </appearance>\n",
       "            <sphere radius=\"1.36\"/>\n",
       "          </shape>\n",
       "        </transform>\n",
       "        <transform translation=\"6.292149584976397 21.911068168488644 19.550207170304187\">\n",
       "          <shape>\n",
       "            <appearance>\n",
       "              <material diffuseColor=\"0.816 0.816 0.878\"/>\n",
       "            </appearance>\n",
       "            <sphere radius=\"1.36\"/>\n",
       "          </shape>\n",
       "        </transform>\n",
       "        <transform translation=\"4.114314190190871 17.76907518991703 21.83372631150647\">\n",
       "          <shape>\n",
       "            <appearance>\n",
       "              <material diffuseColor=\"0.816 0.816 0.878\"/>\n",
       "            </appearance>\n",
       "            <sphere radius=\"1.36\"/>\n",
       "          </shape>\n",
       "        </transform>\n",
       "        <transform translation=\"5.687015307883979 19.737210291999688 21.77168489736992\">\n",
       "          <shape>\n",
       "            <appearance>\n",
       "              <material diffuseColor=\"0.816 0.816 0.878\"/>\n",
       "            </appearance>\n",
       "            <sphere radius=\"1.36\"/>\n",
       "          </shape>\n",
       "        </transform>\n",
       "        <transform translation=\"7.488252102715377 21.323348297466847 21.152153564447982\">\n",
       "          <shape>\n",
       "            <appearance>\n",
       "              <material diffuseColor=\"0.816 0.816 0.878\"/>\n",
       "            </appearance>\n",
       "            <sphere radius=\"1.36\"/>\n",
       "          </shape>\n",
       "        </transform>\n",
       "        <transform translation=\"5.826118633111088 17.783508451159193 23.820471410419206\">\n",
       "          <shape>\n",
       "            <appearance>\n",
       "              <material diffuseColor=\"0.816 0.816 0.878\"/>\n",
       "            </appearance>\n",
       "            <sphere radius=\"1.36\"/>\n",
       "          </shape>\n",
       "        </transform>\n",
       "        <transform translation=\"7.854818956083955 19.92572310911426 23.24397970835702\">\n",
       "          <shape>\n",
       "            <appearance>\n",
       "              <material diffuseColor=\"0.816 0.816 0.878\"/>\n",
       "            </appearance>\n",
       "            <sphere radius=\"1.36\"/>\n",
       "          </shape>\n",
       "        </transform>\n",
       "        <transform translation=\"9.45932351212897 21.54889046022068 23.59681308978786\">\n",
       "          <shape>\n",
       "            <appearance>\n",
       "              <material diffuseColor=\"0.816 0.816 0.878\"/>\n",
       "            </appearance>\n",
       "            <sphere radius=\"1.36\"/>\n",
       "          </shape>\n",
       "        </transform>\n",
       "        <transform translation=\"7.833461050381182 17.226511579992025 25.462175992097443\">\n",
       "          <shape>\n",
       "            <appearance>\n",
       "              <material diffuseColor=\"0.816 0.816 0.878\"/>\n",
       "            </appearance>\n",
       "            <sphere radius=\"1.36\"/>\n",
       "          </shape>\n",
       "        </transform>\n",
       "        <transform translation=\"9.53910609989903 19.73393450976601 25.55331964921937\">\n",
       "          <shape>\n",
       "            <appearance>\n",
       "              <material diffuseColor=\"0.816 0.816 0.878\"/>\n",
       "            </appearance>\n",
       "            <sphere radius=\"1.36\"/>\n",
       "          </shape>\n",
       "        </transform>\n",
       "        <transform translation=\"11.57202404273453 21.457226616532665 25.26815729562221\">\n",
       "          <shape>\n",
       "            <appearance>\n",
       "              <material diffuseColor=\"0.816 0.816 0.878\"/>\n",
       "            </appearance>\n",
       "            <sphere radius=\"1.36\"/>\n",
       "          </shape>\n",
       "        </transform>\n",
       "      </group>\n",
       "    </group>\n",
       "  </transform>\n",
       "</scene>\n",
       "<!--End of Inserted Scene-->\n",
       "\n",
       "        </X3D>\n",
       "    </body>\n",
       "</html>\n",
       "\n"
      ],
      "text/plain": [
       "<IPython.core.display.HTML object>"
      ]
     },
     "execution_count": 11,
     "metadata": {},
     "output_type": "execute_result"
    }
   ],
   "source": [
    "from ase.build import bulk\n",
    "\n",
    "atoms = bulk(\"Pt\") * (10, 5, 3)\n",
    "atoms.rattle(stdev=0.2)\n",
    "atoms.calc = calc\n",
    "\n",
    "view_x3d(atoms)"
   ]
  },
  {
   "cell_type": "code",
   "execution_count": 12,
   "id": "2b7354d6-d6a2-495a-85ed-f09b1f40e289",
   "metadata": {
    "pycharm": {
     "name": "#%%\n"
    }
   },
   "outputs": [],
   "source": [
    "def opt_benchmark(atoms: Atoms, calculator: Calculator, opt_class, logfile: Optional[str] = \"-\", steps: int = 10) -> float:\n",
    "    _atoms = atoms.copy()\n",
    "    _atoms.calc = calculator\n",
    "    with opt_class(_atoms, logfile=logfile) as opt:\n",
    "        start_time = perf_counter()\n",
    "        opt.run(steps=steps)\n",
    "        end_time = perf_counter()\n",
    "        duration = end_time - start_time\n",
    "        duration_per_force_calls = duration / get_force_calls(opt)\n",
    "    return duration_per_force_calls"
   ]
  },
  {
   "cell_type": "code",
   "execution_count": 13,
   "id": "5f6284ba-2ae9-4893-90b0-d4a7622d290d",
   "metadata": {
    "pycharm": {
     "name": "#%%\n"
    },
    "tags": []
   },
   "outputs": [
    {
     "name": "stdout",
     "output_type": "stream",
     "text": [
      "----- n_atoms 100 -----\n",
      "Running FIRE...\n",
      "Done in 0.04 sec.\n",
      "Running BFGS...\n",
      "Done in 0.06 sec.\n",
      "Running LBFGS...\n",
      "Done in 0.05 sec.\n",
      "Running BFGSLineSearch...\n",
      "Done in 0.06 sec.\n",
      "Running LBFGSLineSearch...\n",
      "Done in 0.04 sec.\n",
      "----- n_atoms 200 -----\n",
      "Running FIRE...\n",
      "Done in 0.07 sec.\n",
      "Running BFGS...\n",
      "Done in 0.15 sec.\n",
      "Running LBFGS...\n",
      "Done in 0.09 sec.\n",
      "Running BFGSLineSearch...\n",
      "Done in 0.09 sec.\n",
      "Running LBFGSLineSearch...\n",
      "Done in 0.06 sec.\n",
      "----- n_atoms 300 -----\n",
      "Running FIRE...\n",
      "Done in 0.09 sec.\n",
      "Running BFGS...\n",
      "Done in 0.28 sec.\n",
      "Running LBFGS...\n",
      "Done in 0.11 sec.\n",
      "Running BFGSLineSearch...\n",
      "Done in 0.18 sec.\n",
      "Running LBFGSLineSearch...\n",
      "Done in 0.08 sec.\n",
      "----- n_atoms 400 -----\n",
      "Running FIRE...\n",
      "Done in 0.11 sec.\n",
      "Running BFGS...\n",
      "Done in 0.51 sec.\n",
      "Running LBFGS...\n",
      "Done in 0.16 sec.\n",
      "Running BFGSLineSearch...\n",
      "Done in 0.30 sec.\n",
      "Running LBFGSLineSearch...\n",
      "Done in 0.14 sec.\n",
      "----- n_atoms 500 -----\n",
      "Running FIRE...\n",
      "Done in 0.16 sec.\n",
      "Running BFGS...\n",
      "Done in 0.91 sec.\n",
      "Running LBFGS...\n",
      "Done in 0.18 sec.\n",
      "Running BFGSLineSearch...\n",
      "Done in 0.41 sec.\n",
      "Running LBFGSLineSearch...\n",
      "Done in 0.18 sec.\n"
     ]
    }
   ],
   "source": [
    "result_dict = {\n",
    "    \"n_atoms\": [],\n",
    "    \"FIRE\": [],\n",
    "    \"BFGS\": [],\n",
    "    \"LBFGS\": [],\n",
    "    \"BFGSLineSearch\": [],\n",
    "    \"LBFGSLineSearch\": [],\n",
    "}\n",
    "\n",
    "\n",
    "for i in range(1, 6):\n",
    "    atoms = bulk(\"Pt\") * (10, 10, i)\n",
    "    atoms.rattle(stdev=0.2)\n",
    "    n_atoms = atoms.get_global_number_of_atoms()\n",
    "    result_dict[\"n_atoms\"].append(n_atoms)\n",
    "    print(f\"----- n_atoms {n_atoms} -----\")\n",
    "    for opt_class in [FIRE, BFGS, LBFGS, BFGSLineSearch, LBFGSLineSearch]:\n",
    "        name = opt_class.__name__\n",
    "        print(f\"Running {name}...\")\n",
    "        duration = opt_benchmark(atoms, calc, opt_class=opt_class, logfile=None, steps=10)\n",
    "        print(f\"Done in {duration:.2f} sec.\")\n",
    "        result_dict[name].append(duration)"
   ]
  },
  {
   "cell_type": "code",
   "execution_count": 14,
   "id": "a1c59d4f-9f34-4804-bd62-4421935f55a0",
   "metadata": {
    "pycharm": {
     "name": "#%%\n"
    }
   },
   "outputs": [
    {
     "data": {
      "image/png": "[encoded data removed]",
      "text/plain": [
       "<Figure size 1000x400 with 2 Axes>"
      ]
     },
     "metadata": {},
     "output_type": "display_data"
    }
   ],
   "source": [
    "import matplotlib.pyplot as plt\n",
    "import pandas as pd\n",
    "\n",
    "fig, axes = plt.subplots(1, 2, tight_layout=True, figsize=(10, 4))\n",
    "df = pd.DataFrame(result_dict)\n",
    "df = df.set_index(\"n_atoms\")\n",
    "df.plot(ax=axes[0])\n",
    "axes[0].set_title(\"Speed for various opt algorithms\")\n",
    "df[[\"LBFGS\", \"FIRE\", \"LBFGSLineSearch\"]].plot(ax=axes[1])\n",
    "axes[1].set_title(\"Speed for various opt algorithms ($O(N)$ methods only)\")\n",
    "for ax in axes:\n",
    "    ax.set_ylabel(\"sec / step\")\n",
    "fig.savefig(\"output/opt_benchmark.png\")\n",
    "plt.show(fig)"
   ]
  },
  {
   "cell_type": "markdown",
   "id": "ef191a64-3648-483c-8306-8c8995ab6357",
   "metadata": {
    "pycharm": {
     "name": "#%% md\n"
    }
   },
   "source": [
    "In BFGS and BFGSLineSearch, the calculation time per step increases as the number of atoms increases.\n",
    "\n",
    "The BFGS method implemented in ASE performs eigenvalue decomposition at each step to find the Hessian inverse matrix.\n",
    "Since the Hessian has a size of 3N, where N is the number of atoms, and the eigenvalue decomposition takes $O(N^3)$ computational time, the BFGS method in ASE slows down rapidly on the order of the cube of the number of atoms.\n",
    "\n",
    "BFGSLineSearch directly approximates the Hessian inverse matrix without performing Hessian eigenvalue decomposition. \n",
    "This makes it faster than BFGS, $O(N^2)$ computational time because the matrix-vector product becomes the rate-limiting factor.\n",
    "\n",
    "However, it is much slower than LBFGS and FIRE, which operate on $O(N)$ when the number of atoms is large."
   ]
  },
  {
   "cell_type": "markdown",
   "id": "a91b50d7-44ee-4afe-89a5-360e05c71c5f",
   "metadata": {
    "pycharm": {
     "name": "#%% md\n"
    }
   },
   "source": [
    "## Use of different optimization algorithms\n",
    "\n",
    "We have seen that FIRE requires more force calls than other methods, and that BFGS and BFGSLineSearch are more rate-limiting in the internal routines of the optimizer than in force evaluation when the number of atoms is large.\n",
    "So in what cases should we use LBFGS and LBFGSLineSearch?\n",
    "We will now look at some cases where even those algorithms do not work."
   ]
  },
  {
   "cell_type": "markdown",
   "id": "241d551f-9772-4346-bb25-7e78e2f13446",
   "metadata": {
    "pycharm": {
     "name": "#%% md\n"
    }
   },
   "source": [
    "### Examples of LBFGS and BFGS fail\n",
    "\n",
    "Let's look at the next example.\n",
    "This example uses a very simple potential, the Lennard-Jones (LJ) potential, and performs structural optimization with initial values away from its stability point.\n",
    "\n",
    " - https://wiki.fysik.dtu.dk/ase/ase/calculators/others.html#lennard-jones\n",
    "\n",
    "LJ potential is expressed as follows, and can be visualized as below\n",
    "\n",
    "$$ \\phi (r) = 4 \\epsilon \\bigg\\{ \\left( \\frac{\\sigma}{r} \\right) ^{12} -  \\left( \\frac{\\sigma}{r} \\right) ^{6} \\bigg\\} $$\n"
   ]
  },
  {
   "cell_type": "code",
   "execution_count": 15,
   "id": "04e8d668-7b1c-4649-8232-19f7abef8488",
   "metadata": {
    "pycharm": {
     "name": "#%%\n"
    }
   },
   "outputs": [
    {
     "data": {
      "image/png": "[encoded data removed]",
      "text/plain": [
       "<Figure size 640x480 with 1 Axes>"
      ]
     },
     "metadata": {},
     "output_type": "display_data"
    }
   ],
   "source": [
    "from ase.calculators.lj import LennardJones\n",
    "import numpy as np\n",
    "\n",
    "\n",
    "calc_lj = LennardJones()\n",
    "\n",
    "dists = np.linspace(1.0, 4.0, 500)\n",
    "\n",
    "\n",
    "E_pot_list = []\n",
    "for d in dists:\n",
    "    atoms = Atoms(\"Ar2\", [[0, 0, 0], [d, 0, 0]])\n",
    "    atoms.calc = calc_lj\n",
    "    E_pot = atoms.get_potential_energy()\n",
    "    E_pot_list.append(E_pot)\n",
    "\n",
    "plt.plot(dists, E_pot_list)\n",
    "plt.title(\"Lennard Jones Potential\")\n",
    "plt.ylabel(\"eV\")\n",
    "plt.xlabel(\"Distance [A]\")\n",
    "plt.show()"
   ]
  },
  {
   "cell_type": "markdown",
   "id": "740cb0b9-cca5-4d29-98ed-6c83bb905e34",
   "metadata": {
    "pycharm": {
     "name": "#%% md\n"
    }
   },
   "source": [
    "Let's run a structural optimization of this simple potential form by starting the distance away from the stability point, 1.12A."
   ]
  },
  {
   "cell_type": "code",
   "execution_count": 16,
   "id": "3504e71d-e81e-47c2-b7e9-afcd50dc3ac0",
   "metadata": {
    "pycharm": {
     "name": "#%%\n"
    }
   },
   "outputs": [],
   "source": [
    "def lennard_jones_trajectory(opt_class: Type[Optimizer], d0: float):\n",
    "    name = opt_class.__name__\n",
    "    trajectory_path = f\"output/Ar_{name}.traj\"\n",
    "\n",
    "    atoms = Atoms(\"Ar2\", [[0, 0, 0], [d0, 0, 0]])\n",
    "    atoms.calc = calc_lj\n",
    "\n",
    "    opt = opt_class(atoms, trajectory=trajectory_path)\n",
    "    opt.run()\n",
    "\n",
    "    distance_list = []\n",
    "    energy_list = []\n",
    "    for atoms in Trajectory(trajectory_path):\n",
    "        energy_list.append(atoms.get_potential_energy())\n",
    "        distance_list.append(atoms.get_distance(0, 1))\n",
    "\n",
    "    print(\"Distance in opt trajectory: \", distance_list)\n",
    "\n",
    "    plt.plot(dists, E_pot_list)\n",
    "    plt.plot(distance_list, energy_list, marker=\"x\")\n",
    "    plt.title(f\"Lennard Jones Potential: {name} opt\")\n",
    "    plt.ylim(-1.0, 0)\n",
    "    plt.ylabel(\"eV\")\n",
    "    plt.xlabel(\"Distance [A]\")\n",
    "    plt.show()"
   ]
  },
  {
   "cell_type": "markdown",
   "id": "004bbd51-7ca2-4ae8-a1f6-70347062ddd2",
   "metadata": {
    "pycharm": {
     "name": "#%% md\n"
    }
   },
   "source": [
    "The first case is when FIRE is used. The optimum value of 1.12A is reached in a stable manner."
   ]
  },
  {
   "cell_type": "code",
   "execution_count": 17,
   "id": "a0bad0a0-72f6-4a58-8bf8-40c4becaa3c0",
   "metadata": {
    "pycharm": {
     "name": "#%%\n"
    }
   },
   "outputs": [
    {
     "name": "stdout",
     "output_type": "stream",
     "text": [
      "      Step     Time          Energy          fmax\n",
      "FIRE:    0 02:05:23       -0.314857        1.158029\n",
      "FIRE:    1 02:05:23       -0.342894        1.264380\n",
      "FIRE:    2 02:05:23       -0.410024        1.512419\n",
      "FIRE:    3 02:05:23       -0.546744        1.968308\n",
      "FIRE:    4 02:05:23       -0.812180        2.383891\n",
      "FIRE:    5 02:05:24       -0.862167        5.585844\n",
      "FIRE:    6 02:05:24       -0.966377        2.149190\n",
      "FIRE:    7 02:05:24       -0.991817        0.522302\n",
      "FIRE:    8 02:05:24       -0.992148        0.491275\n",
      "FIRE:    9 02:05:24       -0.992732        0.429940\n",
      "FIRE:   10 02:05:24       -0.993427        0.339973\n",
      "FIRE:   11 02:05:24       -0.994057        0.224455\n",
      "FIRE:   12 02:05:24       -0.994451        0.088426\n",
      "FIRE:   13 02:05:24       -0.994489        0.060610\n",
      "FIRE:   14 02:05:24       -0.994490        0.059506\n",
      "FIRE:   15 02:05:24       -0.994492        0.057320\n",
      "FIRE:   16 02:05:24       -0.994495        0.054094\n",
      "FIRE:   17 02:05:24       -0.994499        0.049889\n",
      "Distance in opt trajectory:  [1.5, 1.4768394233790767, 1.42839123774426, 1.349694678243147, 1.231631957294667, 1.0658914242047832, 1.0938206432760949, 1.132495812583008, 1.1318429355798734, 1.1305759647542164, 1.1287715691339621, 1.1265422074054834, 1.1240322773166505, 1.1214118150599879, 1.1214307556785812, 1.1214682920288386, 1.1215237409768002, 1.1215960942672192]\n"
     ]
    },
    {
     "data": {
      "image/png": "[encoded data removed]",
      "text/plain": [
       "<Figure size 640x480 with 1 Axes>"
      ]
     },
     "metadata": {},
     "output_type": "display_data"
    }
   ],
   "source": [
    "lennard_jones_trajectory(FIRE, 1.5)"
   ]
  },
  {
   "cell_type": "code",
   "execution_count": 18,
   "id": "fe8d47e8-8328-4c17-9810-545006d2b6df",
   "metadata": {
    "pycharm": {
     "name": "#%%\n"
    }
   },
   "outputs": [
    {
     "name": "stdout",
     "output_type": "stream",
     "text": [
      "      Step     Time          Energy          fmax\n",
      "FIRE:    0 02:05:24       -0.697220        2.324552\n",
      "FIRE:    1 02:05:24       -0.807702        2.387400\n",
      "FIRE:    2 02:05:24       -0.987241        0.821987\n",
      "FIRE:    3 02:05:24       -0.520102       13.570402\n",
      "FIRE:    4 02:05:24       -0.971689        1.903593\n",
      "FIRE:    5 02:05:24       -0.939109        1.840004\n",
      "FIRE:    6 02:05:24       -0.943288        1.793714\n",
      "FIRE:    7 02:05:24       -0.951214        1.694594\n",
      "FIRE:    8 02:05:24       -0.961964        1.529352\n",
      "FIRE:    9 02:05:24       -0.974030        1.277952\n",
      "FIRE:   10 02:05:24       -0.985244        0.914936\n",
      "FIRE:   11 02:05:24       -0.992867        0.414203\n",
      "FIRE:   12 02:05:24       -0.994043        0.239611\n",
      "FIRE:   13 02:05:24       -0.994061        0.235001\n",
      "FIRE:   14 02:05:24       -0.994095        0.225890\n",
      "FIRE:   15 02:05:24       -0.994143        0.212487\n",
      "FIRE:   16 02:05:24       -0.994201        0.195100\n",
      "FIRE:   17 02:05:24       -0.994265        0.174121\n",
      "FIRE:   18 02:05:24       -0.994330        0.150013\n",
      "FIRE:   19 02:05:24       -0.994391        0.123296\n",
      "FIRE:   20 02:05:24       -0.994449        0.091418\n",
      "FIRE:   21 02:05:24       -0.994495        0.054286\n",
      "FIRE:   22 02:05:24       -0.994519        0.012221\n",
      "Distance in opt trajectory:  [1.28, 1.2335089629222111, 1.1392699328939198, 1.0285911631178963, 1.0964431714345662, 1.1738131464936081, 1.1715131413850235, 1.1669709941864936, 1.160310604717144, 1.1517385248429906, 1.1415690055780352, 1.130255815977825, 1.118424872251103, 1.1184997505580012, 1.1186480666965142, 1.1188669733107373, 1.1191522821112356, 1.1194985597723826, 1.1198992503739216, 1.1203468201911215, 1.1208857684008715, 1.121520438052656, 1.1222486280893154]\n"
     ]
    },
    {
     "data": {
      "image/png": "[encoded data removed]",
      "text/plain": [
       "<Figure size 640x480 with 1 Axes>"
      ]
     },
     "metadata": {},
     "output_type": "display_data"
    }
   ],
   "source": [
    "lennard_jones_trajectory(FIRE, 1.28)"
   ]
  },
  {
   "cell_type": "markdown",
   "id": "4517f8c3-47b6-45a8-a664-b426b1d27419",
   "metadata": {
    "pycharm": {
     "name": "#%% md\n"
    }
   },
   "source": [
    "If we start the BFGS method at 1.5A, we will find that it jumps too far at certain steps, resulting in unstable behavior that jumps far past the stability point.\n",
    "(where it seems to jump from 1.18A to 0.78A.)\n",
    "Thus, the distance will oscillate significantly before reaching the optimum value of 1.12A, even in this simple example.\n",
    "When the function surface is very different from the second-order function and the second-order approximation method is used, its estimation of minima is far from the actual minima."
   ]
  },
  {
   "cell_type": "code",
   "execution_count": 19,
   "id": "55aabb42-5353-473c-853b-b71bbed09d23",
   "metadata": {
    "pycharm": {
     "name": "#%%\n"
    }
   },
   "outputs": [
    {
     "name": "stdout",
     "output_type": "stream",
     "text": [
      "      Step     Time          Energy          fmax\n",
      "BFGS:    0 02:05:24       -0.314857        1.158029\n",
      "BFGS:    1 02:05:24       -0.355681        1.312428\n",
      "BFGS:    2 02:05:24       -0.916039        2.041011\n",
      "BFGS:    3 02:05:24       55.304434      974.487533\n",
      "BFGS:    4 02:05:24       -0.917740        2.028761\n",
      "BFGS:    5 02:05:24       -0.919418        2.016337\n",
      "BFGS:    6 02:05:24       -0.747080        8.517609\n",
      "BFGS:    7 02:05:24       -0.965068        1.472894\n",
      "BFGS:    8 02:05:24       -0.984660        0.939655\n",
      "BFGS:    9 02:05:24       -0.992324        0.528593\n",
      "BFGS:   10 02:05:24       -0.994444        0.092418\n",
      "BFGS:   11 02:05:24       -0.994520        0.007274\n",
      "Distance in opt trajectory:  [1.5, 1.4669134619701096, 1.1856710148074785, 0.7856710148074794, 1.1848349876531552, 1.1840057048694352, 1.0494144415981015, 1.1582431525834522, 1.1421985974452062, 1.1139254943723917, 1.1241042745909042, 1.1225894828343739]\n"
     ]
    },
    {
     "data": {
      "image/png": "[encoded data removed]",
      "text/plain": [
       "<Figure size 640x480 with 1 Axes>"
      ]
     },
     "metadata": {},
     "output_type": "display_data"
    }
   ],
   "source": [
    "lennard_jones_trajectory(BFGS, 1.5)"
   ]
  },
  {
   "cell_type": "markdown",
   "id": "737211fb-8b98-4ba8-977d-9c935c1c110f",
   "metadata": {
    "pycharm": {
     "name": "#%% md\n"
    }
   },
   "source": [
    "The same thing happens with the LBFGS method.\n",
    "If such oscillations occur in a polyatomic system, the optimization may not be completed for a long time."
   ]
  },
  {
   "cell_type": "code",
   "execution_count": 20,
   "id": "30828765-16ff-41f0-9a12-81785ae5681c",
   "metadata": {
    "pycharm": {
     "name": "#%%\n"
    }
   },
   "outputs": [
    {
     "name": "stdout",
     "output_type": "stream",
     "text": [
      "       Step     Time          Energy          fmax\n",
      "LBFGS:    0 02:05:24       -0.697220        2.324552\n",
      "LBFGS:    1 02:05:24       -0.854683        2.314904\n",
      "LBFGS:    2 02:05:24       33.771592      599.751912\n",
      "LBFGS:    3 02:05:25       -0.858237        2.305680\n",
      "LBFGS:    4 02:05:25       -0.861748        2.295944\n",
      "LBFGS:    5 02:05:25       17.305333      318.491824\n",
      "LBFGS:    6 02:05:25       -0.867638        2.278148\n",
      "LBFGS:    7 02:05:25       -0.873395        2.258876\n",
      "LBFGS:    8 02:05:25        5.604073      121.154807\n",
      "LBFGS:    9 02:05:25       -0.885566        2.211348\n",
      "LBFGS:   10 02:05:25       -0.897001        2.157091\n",
      "LBFGS:   11 02:05:25        0.369118       30.787165\n",
      "LBFGS:   12 02:05:25       -0.925197        1.970726\n",
      "LBFGS:   13 02:05:25       -0.947015        1.749104\n",
      "LBFGS:   14 02:05:25       -0.915603        4.009032\n",
      "LBFGS:   15 02:05:25       -0.985429        0.906882\n",
      "LBFGS:   16 02:05:25       -0.993163        0.377052\n",
      "LBFGS:   17 02:05:25       -0.994465        0.080647\n",
      "LBFGS:   18 02:05:25       -0.994520        0.005364\n",
      "Distance in opt trajectory:  [1.28, 1.213584232746016, 0.813584232746016, 1.2120462614888505, 1.2105202846657441, 0.8506725019776178, 1.2079447803538972, 1.2054073889508412, 0.9079986088524912, 1.1999638317862706, 1.1947303311793407, 0.9866659932915066, 1.1811069055371053, 1.169409273526655, 1.0770879993440852, 1.1413655567592533, 1.1295077111909069, 1.1210690913427286, 1.1225559889249785]\n"
     ]
    },
    {
     "data": {
      "image/png": "[encoded data removed]",
      "text/plain": [
       "<Figure size 640x480 with 1 Axes>"
      ]
     },
     "metadata": {},
     "output_type": "display_data"
    }
   ],
   "source": [
    "lennard_jones_trajectory(LBFGS, 1.28)"
   ]
  },
  {
   "cell_type": "markdown",
   "id": "07dd7e90-5173-499f-856d-c3635a038e85",
   "metadata": {
    "pycharm": {
     "name": "#%% md\n"
    }
   },
   "source": [
    "There are also other cases where the initial value does not reach the stability point correctly if it starts far from the stability point. <br/>\n",
    "This may be caused by a problem with the initialization of Hessian or other reasons."
   ]
  },
  {
   "cell_type": "code",
   "execution_count": 21,
   "id": "dc6a25ae-6603-49fd-95a9-3d6d6ff5f1b8",
   "metadata": {
    "pycharm": {
     "name": "#%%\n"
    }
   },
   "outputs": [
    {
     "name": "stdout",
     "output_type": "stream",
     "text": [
      "       Step     Time          Energy          fmax\n",
      "LBFGS:    0 02:05:25       -0.314857        1.158029\n",
      "LBFGS:    1 02:05:25       -0.355681        1.312428\n",
      "LBFGS:    2 02:05:25       -0.129756        0.447300\n",
      "LBFGS:    3 02:05:25       -0.079409        0.263016\n",
      "LBFGS:    4 02:05:25       -0.040472        0.129677\n",
      "LBFGS:    5 02:05:25       -0.021155        0.068924\n",
      "LBFGS:    6 02:05:25       -0.009646        0.035707\n",
      "Distance in opt trajectory:  [1.5, 1.4669134619701096, 1.748155909132741, 1.8935676545167726, 2.101103976550205, 2.302941039822042, 2.531922335240822]\n"
     ]
    },
    {
     "data": {
      "image/png": "[encoded data removed]",
      "text/plain": [
       "<Figure size 640x480 with 1 Axes>"
      ]
     },
     "metadata": {},
     "output_type": "display_data"
    }
   ],
   "source": [
    "lennard_jones_trajectory(LBFGS, 1.50)"
   ]
  },
  {
   "cell_type": "markdown",
   "id": "319b6277-919a-4dd9-b147-1afe4ded961c",
   "metadata": {
    "pycharm": {
     "name": "#%% md\n"
    }
   },
   "source": [
    "Thus, even in cases where BFGS and LBFGS do not work, LineSearch can be used to converge correctly.\n",
    "LBFGSLineSearch is a better optimizer in most cases."
   ]
  },
  {
   "cell_type": "code",
   "execution_count": 22,
   "id": "a14e35d2-5ccf-484b-bc4a-091ef338d848",
   "metadata": {
    "pycharm": {
     "name": "#%%\n"
    }
   },
   "outputs": [
    {
     "name": "stdout",
     "output_type": "stream",
     "text": [
      "                 Step     Time          Energy          fmax\n",
      "LBFGSLineSearch:    0 02:05:25       -0.314857        1.158029\n",
      "LBFGSLineSearch:    1 02:05:25       -0.994517        0.021446\n",
      "Distance in opt trajectory:  [1.5, 1.1220880716401869]\n"
     ]
    },
    {
     "data": {
      "image/png": "[encoded data removed]",
      "text/plain": [
       "<Figure size 640x480 with 1 Axes>"
      ]
     },
     "metadata": {},
     "output_type": "display_data"
    }
   ],
   "source": [
    "lennard_jones_trajectory(LBFGSLineSearch, 1.5)"
   ]
  },
  {
   "cell_type": "markdown",
   "id": "0ae710ad-3580-4c38-9f6b-3b8464b3d337",
   "metadata": {
    "pycharm": {
     "name": "#%% md\n"
    }
   },
   "source": [
    "LBFGSLineSearch appears to finish in a few steps, but the actual number of calculations is a bit higher because the part of LineSearch being done internally is not counted as a step. </br>\n",
    "BFGSLineSearch shows Step[FC], where FC is the actual number of force evaluations."
   ]
  },
  {
   "cell_type": "code",
   "execution_count": 23,
   "id": "f15a87b5-acd4-4d36-a47d-fd80b7531c5c",
   "metadata": {
    "pycharm": {
     "name": "#%%\n"
    }
   },
   "outputs": [
    {
     "name": "stdout",
     "output_type": "stream",
     "text": [
      "                Step[ FC]     Time          Energy          fmax\n",
      "BFGSLineSearch:    0[  0] 02:05:25       -0.314857       1.1580\n",
      "BFGSLineSearch:    1[  5] 02:05:25       -0.994057       0.2244\n",
      "BFGSLineSearch:    2[  7] 02:05:25       -0.994520       0.0054\n",
      "Distance in opt trajectory:  [1.5, 1.1265420003736115, 1.1225561293552997]\n"
     ]
    },
    {
     "data": {
      "image/png": "[encoded data removed]",
      "text/plain": [
       "<Figure size 640x480 with 1 Axes>"
      ]
     },
     "metadata": {},
     "output_type": "display_data"
    }
   ],
   "source": [
    "lennard_jones_trajectory(BFGSLineSearch, 1.5)"
   ]
  },
  {
   "cell_type": "markdown",
   "id": "7ebbc6de-8518-4bda-af34-f4279c96bacf",
   "metadata": {
    "pycharm": {
     "name": "#%% md\n"
    }
   },
   "source": [
    "We have seen here that there are examples where BFGS and LBFGS do not work.\n",
    "But even in these instances, LBFGSLineSearch has worked well.\n",
    "\n",
    "Our conclusion so far is that LBFGSLineSearch is the best optimizer in many cases.\n",
    "Below we discuss the shortcomings of the other optimizers.\n",
    "\n",
    "- FIRE: Long number of steps to convergence\n",
    "- BFGS: Takes a long time when the number of atoms is large.\n",
    "- BFGSLineSearch: Takes a long time when the number of atoms is large.\n",
    "- LBFGS: May oscillate or increase energy sometimes."
   ]
  },
  {
   "cell_type": "markdown",
   "id": "e3e7dde0-6e76-430c-8ab6-c33d2b40aa1d",
   "metadata": {
    "pycharm": {
     "name": "#%% md\n"
    }
   },
   "source": [
    "However, it is not always the case that using LBFGSLineSearch always works, unfortunately."
   ]
  },
  {
   "cell_type": "markdown",
   "id": "20983ee2-6b49-490d-a4c4-63f84326fb4f",
   "metadata": {
    "pycharm": {
     "name": "#%% md\n"
    }
   },
   "source": [
    "### Example of LBFGSLineSearch fails\n",
    "\n",
    "`LBFGSLineSearch` is a complete method, and it will work well in many cases.\n",
    "However, there are rare cases where `LBFGSLineSearch` does not work well.\n",
    "For example, this is often the case when one wants to perform precise structural optimization with a small `fmax`.\n",
    "If you want to optimize the rotation of the methyl group of toluene, you need to set `fmax=0.001` eV/A to reach the minimum value for the rotation.\n",
    "In this example, LineSearch will not converge easily, and one step will take a long time, or the energy will not drop, or in some cases, LineSearch will fail, and an error will occur with `RuntimeError: LineSearch failed!`"
   ]
  },
  {
   "cell_type": "markdown",
   "id": "85018986-8954-4d68-900b-6f6785167969",
   "metadata": {
    "pycharm": {
     "name": "#%% md\n"
    }
   },
   "source": [
    "### Implementation of optimization algorithms based on the above findings\n",
    "\n",
    "LBFGSLineSearch is a good optimizer, but it can be very slow with small `fmax`, and in some cases, it can also produce errors. FIRE is often slower than LBFGSLineSearch, but it is robust in many cases. However, it may not converge easily when fmax is small. LBFGS converges even with small fmax, but in some cases, it may oscillate or increase its energy, as seen in the Lennard-Jones example.\n",
    "\n",
    "Heuristically, we want to use the second-order Newton method with good convergence close to the stability point where the quadratic function approximation is a good approximation.\n",
    "And we adopt LBFGS since LBFGSLineSearch is not numerically stable in some cases.\n",
    "For unstable structures where the quadratic approximation is not a good approximation, we adopt FIRE or LBFGSLineSearch to drop energy robustly.\n",
    "\n",
    "However, it is difficult to predict at what fmax cases LBFGSLineSearch will not be numerically stable.\n",
    "FIRE is more stable when the method is applied uniformly to unknown materials, such as in high-throughput calculations.\n",
    "\n",
    "To summarize our findings so far, the optimization algorithms that seem to work well heuristically are\n",
    "\n",
    "- In unstable places, such as the early stages of structural optimization, use FIRE to move down the gradient.\n",
    "- Once a certain point of stability is reached (small values of force, etc.), the LBFGS method is used to attempt fast convergence.\n",
    "\n",
    "This algorithm is implemented as **`FIRELBFGS` optimizer** in matlantis-features."
   ]
  },
  {
   "cell_type": "markdown",
   "id": "40c0b0f3-823e-4ec1-929f-1ba12df22b85",
   "metadata": {
    "pycharm": {
     "name": "#%% md\n"
    }
   },
   "source": [
    "## Further reading\n",
    "\n",
    "The following books provide detailed explanations of the Newton method family, quasi-Newton methods, LineSearch, and other methods.\n",
    "\n",
    " - \"Numerical Optimization\" Jorge Nocedal, Stephan Wright https://doi.org/10.1007/978-0-387-40065-5\n",
    "\n",
    "The original paper is the best source to understand FIRE.\n",
    "\n",
    " - [Structural Relaxation Made Simple](https://journals.aps.org/prl/abstract/10.1103/PhysRevLett.97.170201)\n",
    "\n",
    "\n",
    "You may also study algorithms by reading ASE implementations."
   ]
  },
  {
   "cell_type": "code",
   "execution_count": 24,
   "id": "fa172486-aba8-4be2-b560-f516a0523373",
   "metadata": {
    "pycharm": {
     "name": "#%%\n"
    },
    "tags": []
   },
   "outputs": [
    {
     "data": {
      "text/plain": [
       "\u001b[0;31mInit signature:\u001b[0m\n",
       "\u001b[0mFIRE\u001b[0m\u001b[0;34m(\u001b[0m\u001b[0;34m\u001b[0m\n",
       "\u001b[0;34m\u001b[0m    \u001b[0matoms\u001b[0m\u001b[0;34m:\u001b[0m \u001b[0mase\u001b[0m\u001b[0;34m.\u001b[0m\u001b[0matoms\u001b[0m\u001b[0;34m.\u001b[0m\u001b[0mAtoms\u001b[0m\u001b[0;34m,\u001b[0m\u001b[0;34m\u001b[0m\n",
       "\u001b[0;34m\u001b[0m    \u001b[0mrestart\u001b[0m\u001b[0;34m:\u001b[0m \u001b[0mOptional\u001b[0m\u001b[0;34m[\u001b[0m\u001b[0mstr\u001b[0m\u001b[0;34m]\u001b[0m \u001b[0;34m=\u001b[0m \u001b[0;32mNone\u001b[0m\u001b[0;34m,\u001b[0m\u001b[0;34m\u001b[0m\n",
       "\u001b[0;34m\u001b[0m    \u001b[0mlogfile\u001b[0m\u001b[0;34m:\u001b[0m \u001b[0mUnion\u001b[0m\u001b[0;34m[\u001b[0m\u001b[0mIO\u001b[0m\u001b[0;34m,\u001b[0m \u001b[0mstr\u001b[0m\u001b[0;34m]\u001b[0m \u001b[0;34m=\u001b[0m \u001b[0;34m'-'\u001b[0m\u001b[0;34m,\u001b[0m\u001b[0;34m\u001b[0m\n",
       "\u001b[0;34m\u001b[0m    \u001b[0mtrajectory\u001b[0m\u001b[0;34m:\u001b[0m \u001b[0mOptional\u001b[0m\u001b[0;34m[\u001b[0m\u001b[0mstr\u001b[0m\u001b[0;34m]\u001b[0m \u001b[0;34m=\u001b[0m \u001b[0;32mNone\u001b[0m\u001b[0;34m,\u001b[0m\u001b[0;34m\u001b[0m\n",
       "\u001b[0;34m\u001b[0m    \u001b[0mdt\u001b[0m\u001b[0;34m:\u001b[0m \u001b[0mfloat\u001b[0m \u001b[0;34m=\u001b[0m \u001b[0;36m0.1\u001b[0m\u001b[0;34m,\u001b[0m\u001b[0;34m\u001b[0m\n",
       "\u001b[0;34m\u001b[0m    \u001b[0mmaxstep\u001b[0m\u001b[0;34m:\u001b[0m \u001b[0mOptional\u001b[0m\u001b[0;34m[\u001b[0m\u001b[0mfloat\u001b[0m\u001b[0;34m]\u001b[0m \u001b[0;34m=\u001b[0m \u001b[0;32mNone\u001b[0m\u001b[0;34m,\u001b[0m\u001b[0;34m\u001b[0m\n",
       "\u001b[0;34m\u001b[0m    \u001b[0mmaxmove\u001b[0m\u001b[0;34m:\u001b[0m \u001b[0mOptional\u001b[0m\u001b[0;34m[\u001b[0m\u001b[0mfloat\u001b[0m\u001b[0;34m]\u001b[0m \u001b[0;34m=\u001b[0m \u001b[0;32mNone\u001b[0m\u001b[0;34m,\u001b[0m\u001b[0;34m\u001b[0m\n",
       "\u001b[0;34m\u001b[0m    \u001b[0mdtmax\u001b[0m\u001b[0;34m:\u001b[0m \u001b[0mfloat\u001b[0m \u001b[0;34m=\u001b[0m \u001b[0;36m1.0\u001b[0m\u001b[0;34m,\u001b[0m\u001b[0;34m\u001b[0m\n",
       "\u001b[0;34m\u001b[0m    \u001b[0mNmin\u001b[0m\u001b[0;34m:\u001b[0m \u001b[0mint\u001b[0m \u001b[0;34m=\u001b[0m \u001b[0;36m5\u001b[0m\u001b[0;34m,\u001b[0m\u001b[0;34m\u001b[0m\n",
       "\u001b[0;34m\u001b[0m    \u001b[0mfinc\u001b[0m\u001b[0;34m:\u001b[0m \u001b[0mfloat\u001b[0m \u001b[0;34m=\u001b[0m \u001b[0;36m1.1\u001b[0m\u001b[0;34m,\u001b[0m\u001b[0;34m\u001b[0m\n",
       "\u001b[0;34m\u001b[0m    \u001b[0mfdec\u001b[0m\u001b[0;34m:\u001b[0m \u001b[0mfloat\u001b[0m \u001b[0;34m=\u001b[0m \u001b[0;36m0.5\u001b[0m\u001b[0;34m,\u001b[0m\u001b[0;34m\u001b[0m\n",
       "\u001b[0;34m\u001b[0m    \u001b[0mastart\u001b[0m\u001b[0;34m:\u001b[0m \u001b[0mfloat\u001b[0m \u001b[0;34m=\u001b[0m \u001b[0;36m0.1\u001b[0m\u001b[0;34m,\u001b[0m\u001b[0;34m\u001b[0m\n",
       "\u001b[0;34m\u001b[0m    \u001b[0mfa\u001b[0m\u001b[0;34m:\u001b[0m \u001b[0mfloat\u001b[0m \u001b[0;34m=\u001b[0m \u001b[0;36m0.99\u001b[0m\u001b[0;34m,\u001b[0m\u001b[0;34m\u001b[0m\n",
       "\u001b[0;34m\u001b[0m    \u001b[0ma\u001b[0m\u001b[0;34m:\u001b[0m \u001b[0mfloat\u001b[0m \u001b[0;34m=\u001b[0m \u001b[0;36m0.1\u001b[0m\u001b[0;34m,\u001b[0m\u001b[0;34m\u001b[0m\n",
       "\u001b[0;34m\u001b[0m    \u001b[0mmaster\u001b[0m\u001b[0;34m:\u001b[0m \u001b[0mOptional\u001b[0m\u001b[0;34m[\u001b[0m\u001b[0mbool\u001b[0m\u001b[0;34m]\u001b[0m \u001b[0;34m=\u001b[0m \u001b[0;32mNone\u001b[0m\u001b[0;34m,\u001b[0m\u001b[0;34m\u001b[0m\n",
       "\u001b[0;34m\u001b[0m    \u001b[0mdownhill_check\u001b[0m\u001b[0;34m:\u001b[0m \u001b[0mbool\u001b[0m \u001b[0;34m=\u001b[0m \u001b[0;32mFalse\u001b[0m\u001b[0;34m,\u001b[0m\u001b[0;34m\u001b[0m\n",
       "\u001b[0;34m\u001b[0m    \u001b[0mposition_reset_callback\u001b[0m\u001b[0;34m:\u001b[0m \u001b[0mOptional\u001b[0m\u001b[0;34m[\u001b[0m\u001b[0mCallable\u001b[0m\u001b[0;34m]\u001b[0m \u001b[0;34m=\u001b[0m \u001b[0;32mNone\u001b[0m\u001b[0;34m,\u001b[0m\u001b[0;34m\u001b[0m\n",
       "\u001b[0;34m\u001b[0m    \u001b[0mforce_consistent\u001b[0m\u001b[0;34m=\u001b[0m\u001b[0;34m<\u001b[0m\u001b[0mobject\u001b[0m \u001b[0mobject\u001b[0m \u001b[0mat\u001b[0m \u001b[0;36m0x7f4a4d2dd730\u001b[0m\u001b[0;34m>\u001b[0m\u001b[0;34m,\u001b[0m\u001b[0;34m\u001b[0m\n",
       "\u001b[0;34m\u001b[0m\u001b[0;34m)\u001b[0m\u001b[0;34m\u001b[0m\u001b[0;34m\u001b[0m\u001b[0m\n",
       "\u001b[0;31mDocstring:\u001b[0m      Base-class for all structure optimization classes.\n",
       "\u001b[0;31mSource:\u001b[0m        \n",
       "\u001b[0;32mclass\u001b[0m \u001b[0mFIRE\u001b[0m\u001b[0;34m(\u001b[0m\u001b[0mOptimizer\u001b[0m\u001b[0;34m)\u001b[0m\u001b[0;34m:\u001b[0m\u001b[0;34m\u001b[0m\n",
       "\u001b[0;34m\u001b[0m    \u001b[0;34m@\u001b[0m\u001b[0mdeprecated\u001b[0m\u001b[0;34m(\u001b[0m\u001b[0;34m\u001b[0m\n",
       "\u001b[0;34m\u001b[0m        \u001b[0;34m\"Use of `maxmove` is deprecated. Use `maxstep` instead.\"\u001b[0m\u001b[0;34m,\u001b[0m\u001b[0;34m\u001b[0m\n",
       "\u001b[0;34m\u001b[0m        \u001b[0mcategory\u001b[0m\u001b[0;34m=\u001b[0m\u001b[0mFutureWarning\u001b[0m\u001b[0;34m,\u001b[0m\u001b[0;34m\u001b[0m\n",
       "\u001b[0;34m\u001b[0m        \u001b[0mcallback\u001b[0m\u001b[0;34m=\u001b[0m\u001b[0m_forbid_maxmove\u001b[0m\u001b[0;34m,\u001b[0m\u001b[0;34m\u001b[0m\n",
       "\u001b[0;34m\u001b[0m    \u001b[0;34m)\u001b[0m\u001b[0;34m\u001b[0m\n",
       "\u001b[0;34m\u001b[0m    \u001b[0;32mdef\u001b[0m \u001b[0m__init__\u001b[0m\u001b[0;34m(\u001b[0m\u001b[0;34m\u001b[0m\n",
       "\u001b[0;34m\u001b[0m        \u001b[0mself\u001b[0m\u001b[0;34m,\u001b[0m\u001b[0;34m\u001b[0m\n",
       "\u001b[0;34m\u001b[0m        \u001b[0matoms\u001b[0m\u001b[0;34m:\u001b[0m \u001b[0mAtoms\u001b[0m\u001b[0;34m,\u001b[0m\u001b[0;34m\u001b[0m\n",
       "\u001b[0;34m\u001b[0m        \u001b[0mrestart\u001b[0m\u001b[0;34m:\u001b[0m \u001b[0mOptional\u001b[0m\u001b[0;34m[\u001b[0m\u001b[0mstr\u001b[0m\u001b[0;34m]\u001b[0m \u001b[0;34m=\u001b[0m \u001b[0;32mNone\u001b[0m\u001b[0;34m,\u001b[0m\u001b[0;34m\u001b[0m\n",
       "\u001b[0;34m\u001b[0m        \u001b[0mlogfile\u001b[0m\u001b[0;34m:\u001b[0m \u001b[0mUnion\u001b[0m\u001b[0;34m[\u001b[0m\u001b[0mIO\u001b[0m\u001b[0;34m,\u001b[0m \u001b[0mstr\u001b[0m\u001b[0;34m]\u001b[0m \u001b[0;34m=\u001b[0m \u001b[0;34m'-'\u001b[0m\u001b[0;34m,\u001b[0m\u001b[0;34m\u001b[0m\n",
       "\u001b[0;34m\u001b[0m        \u001b[0mtrajectory\u001b[0m\u001b[0;34m:\u001b[0m \u001b[0mOptional\u001b[0m\u001b[0;34m[\u001b[0m\u001b[0mstr\u001b[0m\u001b[0;34m]\u001b[0m \u001b[0;34m=\u001b[0m \u001b[0;32mNone\u001b[0m\u001b[0;34m,\u001b[0m\u001b[0;34m\u001b[0m\n",
       "\u001b[0;34m\u001b[0m        \u001b[0mdt\u001b[0m\u001b[0;34m:\u001b[0m \u001b[0mfloat\u001b[0m \u001b[0;34m=\u001b[0m \u001b[0;36m0.1\u001b[0m\u001b[0;34m,\u001b[0m\u001b[0;34m\u001b[0m\n",
       "\u001b[0;34m\u001b[0m        \u001b[0mmaxstep\u001b[0m\u001b[0;34m:\u001b[0m \u001b[0mOptional\u001b[0m\u001b[0;34m[\u001b[0m\u001b[0mfloat\u001b[0m\u001b[0;34m]\u001b[0m \u001b[0;34m=\u001b[0m \u001b[0;32mNone\u001b[0m\u001b[0;34m,\u001b[0m\u001b[0;34m\u001b[0m\n",
       "\u001b[0;34m\u001b[0m        \u001b[0mmaxmove\u001b[0m\u001b[0;34m:\u001b[0m \u001b[0mOptional\u001b[0m\u001b[0;34m[\u001b[0m\u001b[0mfloat\u001b[0m\u001b[0;34m]\u001b[0m \u001b[0;34m=\u001b[0m \u001b[0;32mNone\u001b[0m\u001b[0;34m,\u001b[0m\u001b[0;34m\u001b[0m\n",
       "\u001b[0;34m\u001b[0m        \u001b[0mdtmax\u001b[0m\u001b[0;34m:\u001b[0m \u001b[0mfloat\u001b[0m \u001b[0;34m=\u001b[0m \u001b[0;36m1.0\u001b[0m\u001b[0;34m,\u001b[0m\u001b[0;34m\u001b[0m\n",
       "\u001b[0;34m\u001b[0m        \u001b[0mNmin\u001b[0m\u001b[0;34m:\u001b[0m \u001b[0mint\u001b[0m \u001b[0;34m=\u001b[0m \u001b[0;36m5\u001b[0m\u001b[0;34m,\u001b[0m\u001b[0;34m\u001b[0m\n",
       "\u001b[0;34m\u001b[0m        \u001b[0mfinc\u001b[0m\u001b[0;34m:\u001b[0m \u001b[0mfloat\u001b[0m \u001b[0;34m=\u001b[0m \u001b[0;36m1.1\u001b[0m\u001b[0;34m,\u001b[0m\u001b[0;34m\u001b[0m\n",
       "\u001b[0;34m\u001b[0m        \u001b[0mfdec\u001b[0m\u001b[0;34m:\u001b[0m \u001b[0mfloat\u001b[0m \u001b[0;34m=\u001b[0m \u001b[0;36m0.5\u001b[0m\u001b[0;34m,\u001b[0m\u001b[0;34m\u001b[0m\n",
       "\u001b[0;34m\u001b[0m        \u001b[0mastart\u001b[0m\u001b[0;34m:\u001b[0m \u001b[0mfloat\u001b[0m \u001b[0;34m=\u001b[0m \u001b[0;36m0.1\u001b[0m\u001b[0;34m,\u001b[0m\u001b[0;34m\u001b[0m\n",
       "\u001b[0;34m\u001b[0m        \u001b[0mfa\u001b[0m\u001b[0;34m:\u001b[0m \u001b[0mfloat\u001b[0m \u001b[0;34m=\u001b[0m \u001b[0;36m0.99\u001b[0m\u001b[0;34m,\u001b[0m\u001b[0;34m\u001b[0m\n",
       "\u001b[0;34m\u001b[0m        \u001b[0ma\u001b[0m\u001b[0;34m:\u001b[0m \u001b[0mfloat\u001b[0m \u001b[0;34m=\u001b[0m \u001b[0;36m0.1\u001b[0m\u001b[0;34m,\u001b[0m\u001b[0;34m\u001b[0m\n",
       "\u001b[0;34m\u001b[0m        \u001b[0mmaster\u001b[0m\u001b[0;34m:\u001b[0m \u001b[0mOptional\u001b[0m\u001b[0;34m[\u001b[0m\u001b[0mbool\u001b[0m\u001b[0;34m]\u001b[0m \u001b[0;34m=\u001b[0m \u001b[0;32mNone\u001b[0m\u001b[0;34m,\u001b[0m\u001b[0;34m\u001b[0m\n",
       "\u001b[0;34m\u001b[0m        \u001b[0mdownhill_check\u001b[0m\u001b[0;34m:\u001b[0m \u001b[0mbool\u001b[0m \u001b[0;34m=\u001b[0m \u001b[0;32mFalse\u001b[0m\u001b[0;34m,\u001b[0m\u001b[0;34m\u001b[0m\n",
       "\u001b[0;34m\u001b[0m        \u001b[0mposition_reset_callback\u001b[0m\u001b[0;34m:\u001b[0m \u001b[0mOptional\u001b[0m\u001b[0;34m[\u001b[0m\u001b[0mCallable\u001b[0m\u001b[0;34m]\u001b[0m \u001b[0;34m=\u001b[0m \u001b[0;32mNone\u001b[0m\u001b[0;34m,\u001b[0m\u001b[0;34m\u001b[0m\n",
       "\u001b[0;34m\u001b[0m        \u001b[0mforce_consistent\u001b[0m\u001b[0;34m=\u001b[0m\u001b[0mOptimizer\u001b[0m\u001b[0;34m.\u001b[0m\u001b[0m_deprecated\u001b[0m\u001b[0;34m,\u001b[0m\u001b[0;34m\u001b[0m\n",
       "\u001b[0;34m\u001b[0m    \u001b[0;34m)\u001b[0m\u001b[0;34m:\u001b[0m\u001b[0;34m\u001b[0m\n",
       "\u001b[0;34m\u001b[0m        \u001b[0;34m\"\"\"Parameters:\u001b[0m\n",
       "\u001b[0;34m\u001b[0m\n",
       "\u001b[0;34m        atoms: Atoms object\u001b[0m\n",
       "\u001b[0;34m            The Atoms object to relax.\u001b[0m\n",
       "\u001b[0;34m\u001b[0m\n",
       "\u001b[0;34m        restart: string\u001b[0m\n",
       "\u001b[0;34m            Pickle file used to store hessian matrix. If set, file with\u001b[0m\n",
       "\u001b[0;34m            such a name will be searched and hessian matrix stored will\u001b[0m\n",
       "\u001b[0;34m            be used, if the file exists.\u001b[0m\n",
       "\u001b[0;34m\u001b[0m\n",
       "\u001b[0;34m        logfile: file object or str\u001b[0m\n",
       "\u001b[0;34m            If *logfile* is a string, a file with that name will be opened.\u001b[0m\n",
       "\u001b[0;34m            Use '-' for stdout.\u001b[0m\n",
       "\u001b[0;34m\u001b[0m\n",
       "\u001b[0;34m        trajectory: string\u001b[0m\n",
       "\u001b[0;34m            Pickle file used to store trajectory of atomic movement.\u001b[0m\n",
       "\u001b[0;34m\u001b[0m\n",
       "\u001b[0;34m        dt: float\u001b[0m\n",
       "\u001b[0;34m            Initial time step. Defualt value is 0.1\u001b[0m\n",
       "\u001b[0;34m\u001b[0m\n",
       "\u001b[0;34m        maxstep: float\u001b[0m\n",
       "\u001b[0;34m            Used to set the maximum distance an atom can move per\u001b[0m\n",
       "\u001b[0;34m            iteration (default value is 0.2).\u001b[0m\n",
       "\u001b[0;34m\u001b[0m\n",
       "\u001b[0;34m        dtmax: float\u001b[0m\n",
       "\u001b[0;34m            Maximum time step. Default value is 1.0\u001b[0m\n",
       "\u001b[0;34m\u001b[0m\n",
       "\u001b[0;34m        Nmin: int\u001b[0m\n",
       "\u001b[0;34m            Number of steps to wait after the last time the dot product of\u001b[0m\n",
       "\u001b[0;34m            the velocity and force is negative (P in The FIRE article) before\u001b[0m\n",
       "\u001b[0;34m            increasing the time step. Default value is 5.\u001b[0m\n",
       "\u001b[0;34m\u001b[0m\n",
       "\u001b[0;34m        finc: float\u001b[0m\n",
       "\u001b[0;34m            Factor to increase the time step. Default value is 1.1\u001b[0m\n",
       "\u001b[0;34m\u001b[0m\n",
       "\u001b[0;34m        fdec: float\u001b[0m\n",
       "\u001b[0;34m            Factor to decrease the time step. Default value is 0.5\u001b[0m\n",
       "\u001b[0;34m\u001b[0m\n",
       "\u001b[0;34m        astart: float\u001b[0m\n",
       "\u001b[0;34m            Initial value of the parameter a. a is the Coefficient for\u001b[0m\n",
       "\u001b[0;34m            mixing the velocity and the force. Called alpha in the FIRE article.\u001b[0m\n",
       "\u001b[0;34m            Default value 0.1.\u001b[0m\n",
       "\u001b[0;34m\u001b[0m\n",
       "\u001b[0;34m        fa: float\u001b[0m\n",
       "\u001b[0;34m            Factor to decrease the parameter alpha. Default value is 0.99\u001b[0m\n",
       "\u001b[0;34m\u001b[0m\n",
       "\u001b[0;34m        a: float\u001b[0m\n",
       "\u001b[0;34m            Coefficient for mixing the velocity and the force. Called\u001b[0m\n",
       "\u001b[0;34m            alpha in the FIRE article. Default value 0.1.\u001b[0m\n",
       "\u001b[0;34m\u001b[0m\n",
       "\u001b[0;34m        master: boolean\u001b[0m\n",
       "\u001b[0;34m            Defaults to None, which causes only rank 0 to save files.  If\u001b[0m\n",
       "\u001b[0;34m            set to true,  this rank will save files.\u001b[0m\n",
       "\u001b[0;34m\u001b[0m\n",
       "\u001b[0;34m        downhill_check: boolean\u001b[0m\n",
       "\u001b[0;34m            Downhill check directly compares potential energies of subsequent\u001b[0m\n",
       "\u001b[0;34m            steps of the FIRE algorithm rather than relying on the current\u001b[0m\n",
       "\u001b[0;34m            product v*f that is positive if the FIRE dynamics moves downhill.\u001b[0m\n",
       "\u001b[0;34m            This can detect numerical issues where at large time steps the step\u001b[0m\n",
       "\u001b[0;34m            is uphill in energy even though locally v*f is positive, i.e. the\u001b[0m\n",
       "\u001b[0;34m            algorithm jumps over a valley because of a too large time step.\u001b[0m\n",
       "\u001b[0;34m\u001b[0m\n",
       "\u001b[0;34m        position_reset_callback: function(atoms, r, e, e_last)\u001b[0m\n",
       "\u001b[0;34m            Function that takes current *atoms* object, an array of position\u001b[0m\n",
       "\u001b[0;34m            *r* that the optimizer will revert to, current energy *e* and\u001b[0m\n",
       "\u001b[0;34m            energy of last step *e_last*. This is only called if e > e_last.\u001b[0m\n",
       "\u001b[0;34m\u001b[0m\n",
       "\u001b[0;34m        force_consistent: boolean or None\u001b[0m\n",
       "\u001b[0;34m            Use force-consistent energy calls (as opposed to the energy\u001b[0m\n",
       "\u001b[0;34m            extrapolated to 0 K).  If force_consistent=None, uses\u001b[0m\n",
       "\u001b[0;34m            force-consistent energies if available in the calculator, but\u001b[0m\n",
       "\u001b[0;34m            falls back to force_consistent=False if not.\u001b[0m\n",
       "\u001b[0;34m\u001b[0m\n",
       "\u001b[0;34m        .. deprecated:: 3.19.3\u001b[0m\n",
       "\u001b[0;34m            Use of ``maxmove`` is deprecated; please use ``maxstep``.\u001b[0m\n",
       "\u001b[0;34m        \"\"\"\u001b[0m\u001b[0;34m\u001b[0m\n",
       "\u001b[0;34m\u001b[0m        \u001b[0mOptimizer\u001b[0m\u001b[0;34m.\u001b[0m\u001b[0m__init__\u001b[0m\u001b[0;34m(\u001b[0m\u001b[0mself\u001b[0m\u001b[0;34m,\u001b[0m \u001b[0matoms\u001b[0m\u001b[0;34m,\u001b[0m \u001b[0mrestart\u001b[0m\u001b[0;34m,\u001b[0m \u001b[0mlogfile\u001b[0m\u001b[0;34m,\u001b[0m \u001b[0mtrajectory\u001b[0m\u001b[0;34m,\u001b[0m\u001b[0;34m\u001b[0m\n",
       "\u001b[0;34m\u001b[0m                           \u001b[0mmaster\u001b[0m\u001b[0;34m,\u001b[0m \u001b[0mforce_consistent\u001b[0m\u001b[0;34m=\u001b[0m\u001b[0mforce_consistent\u001b[0m\u001b[0;34m)\u001b[0m\u001b[0;34m\u001b[0m\n",
       "\u001b[0;34m\u001b[0m\u001b[0;34m\u001b[0m\n",
       "\u001b[0;34m\u001b[0m        \u001b[0mself\u001b[0m\u001b[0;34m.\u001b[0m\u001b[0mdt\u001b[0m \u001b[0;34m=\u001b[0m \u001b[0mdt\u001b[0m\u001b[0;34m\u001b[0m\n",
       "\u001b[0;34m\u001b[0m\u001b[0;34m\u001b[0m\n",
       "\u001b[0;34m\u001b[0m        \u001b[0mself\u001b[0m\u001b[0;34m.\u001b[0m\u001b[0mNsteps\u001b[0m \u001b[0;34m=\u001b[0m \u001b[0;36m0\u001b[0m\u001b[0;34m\u001b[0m\n",
       "\u001b[0;34m\u001b[0m\u001b[0;34m\u001b[0m\n",
       "\u001b[0;34m\u001b[0m        \u001b[0;32mif\u001b[0m \u001b[0mmaxstep\u001b[0m \u001b[0;32mis\u001b[0m \u001b[0;32mnot\u001b[0m \u001b[0;32mNone\u001b[0m\u001b[0;34m:\u001b[0m\u001b[0;34m\u001b[0m\n",
       "\u001b[0;34m\u001b[0m            \u001b[0mself\u001b[0m\u001b[0;34m.\u001b[0m\u001b[0mmaxstep\u001b[0m \u001b[0;34m=\u001b[0m \u001b[0mmaxstep\u001b[0m\u001b[0;34m\u001b[0m\n",
       "\u001b[0;34m\u001b[0m        \u001b[0;32melse\u001b[0m\u001b[0;34m:\u001b[0m\u001b[0;34m\u001b[0m\n",
       "\u001b[0;34m\u001b[0m            \u001b[0mself\u001b[0m\u001b[0;34m.\u001b[0m\u001b[0mmaxstep\u001b[0m \u001b[0;34m=\u001b[0m \u001b[0mself\u001b[0m\u001b[0;34m.\u001b[0m\u001b[0mdefaults\u001b[0m\u001b[0;34m[\u001b[0m\u001b[0;34m\"maxstep\"\u001b[0m\u001b[0;34m]\u001b[0m\u001b[0;34m\u001b[0m\n",
       "\u001b[0;34m\u001b[0m\u001b[0;34m\u001b[0m\n",
       "\u001b[0;34m\u001b[0m        \u001b[0mself\u001b[0m\u001b[0;34m.\u001b[0m\u001b[0mdtmax\u001b[0m \u001b[0;34m=\u001b[0m \u001b[0mdtmax\u001b[0m\u001b[0;34m\u001b[0m\n",
       "\u001b[0;34m\u001b[0m        \u001b[0mself\u001b[0m\u001b[0;34m.\u001b[0m\u001b[0mNmin\u001b[0m \u001b[0;34m=\u001b[0m \u001b[0mNmin\u001b[0m\u001b[0;34m\u001b[0m\n",
       "\u001b[0;34m\u001b[0m        \u001b[0mself\u001b[0m\u001b[0;34m.\u001b[0m\u001b[0mfinc\u001b[0m \u001b[0;34m=\u001b[0m \u001b[0mfinc\u001b[0m\u001b[0;34m\u001b[0m\n",
       "\u001b[0;34m\u001b[0m        \u001b[0mself\u001b[0m\u001b[0;34m.\u001b[0m\u001b[0mfdec\u001b[0m \u001b[0;34m=\u001b[0m \u001b[0mfdec\u001b[0m\u001b[0;34m\u001b[0m\n",
       "\u001b[0;34m\u001b[0m        \u001b[0mself\u001b[0m\u001b[0;34m.\u001b[0m\u001b[0mastart\u001b[0m \u001b[0;34m=\u001b[0m \u001b[0mastart\u001b[0m\u001b[0;34m\u001b[0m\n",
       "\u001b[0;34m\u001b[0m        \u001b[0mself\u001b[0m\u001b[0;34m.\u001b[0m\u001b[0mfa\u001b[0m \u001b[0;34m=\u001b[0m \u001b[0mfa\u001b[0m\u001b[0;34m\u001b[0m\n",
       "\u001b[0;34m\u001b[0m        \u001b[0mself\u001b[0m\u001b[0;34m.\u001b[0m\u001b[0ma\u001b[0m \u001b[0;34m=\u001b[0m \u001b[0ma\u001b[0m\u001b[0;34m\u001b[0m\n",
       "\u001b[0;34m\u001b[0m        \u001b[0mself\u001b[0m\u001b[0;34m.\u001b[0m\u001b[0mdownhill_check\u001b[0m \u001b[0;34m=\u001b[0m \u001b[0mdownhill_check\u001b[0m\u001b[0;34m\u001b[0m\n",
       "\u001b[0;34m\u001b[0m        \u001b[0mself\u001b[0m\u001b[0;34m.\u001b[0m\u001b[0mposition_reset_callback\u001b[0m \u001b[0;34m=\u001b[0m \u001b[0mposition_reset_callback\u001b[0m\u001b[0;34m\u001b[0m\n",
       "\u001b[0;34m\u001b[0m\u001b[0;34m\u001b[0m\n",
       "\u001b[0;34m\u001b[0m    \u001b[0;32mdef\u001b[0m \u001b[0minitialize\u001b[0m\u001b[0;34m(\u001b[0m\u001b[0mself\u001b[0m\u001b[0;34m)\u001b[0m\u001b[0;34m:\u001b[0m\u001b[0;34m\u001b[0m\n",
       "\u001b[0;34m\u001b[0m        \u001b[0mself\u001b[0m\u001b[0;34m.\u001b[0m\u001b[0mv\u001b[0m \u001b[0;34m=\u001b[0m \u001b[0;32mNone\u001b[0m\u001b[0;34m\u001b[0m\n",
       "\u001b[0;34m\u001b[0m\u001b[0;34m\u001b[0m\n",
       "\u001b[0;34m\u001b[0m    \u001b[0;32mdef\u001b[0m \u001b[0mread\u001b[0m\u001b[0;34m(\u001b[0m\u001b[0mself\u001b[0m\u001b[0;34m)\u001b[0m\u001b[0;34m:\u001b[0m\u001b[0;34m\u001b[0m\n",
       "\u001b[0;34m\u001b[0m        \u001b[0mself\u001b[0m\u001b[0;34m.\u001b[0m\u001b[0mv\u001b[0m\u001b[0;34m,\u001b[0m \u001b[0mself\u001b[0m\u001b[0;34m.\u001b[0m\u001b[0mdt\u001b[0m \u001b[0;34m=\u001b[0m \u001b[0mself\u001b[0m\u001b[0;34m.\u001b[0m\u001b[0mload\u001b[0m\u001b[0;34m(\u001b[0m\u001b[0;34m)\u001b[0m\u001b[0;34m\u001b[0m\n",
       "\u001b[0;34m\u001b[0m\u001b[0;34m\u001b[0m\n",
       "\u001b[0;34m\u001b[0m    \u001b[0;32mdef\u001b[0m \u001b[0mstep\u001b[0m\u001b[0;34m(\u001b[0m\u001b[0mself\u001b[0m\u001b[0;34m,\u001b[0m \u001b[0mf\u001b[0m\u001b[0;34m=\u001b[0m\u001b[0;32mNone\u001b[0m\u001b[0;34m)\u001b[0m\u001b[0;34m:\u001b[0m\u001b[0;34m\u001b[0m\n",
       "\u001b[0;34m\u001b[0m        \u001b[0moptimizable\u001b[0m \u001b[0;34m=\u001b[0m \u001b[0mself\u001b[0m\u001b[0;34m.\u001b[0m\u001b[0moptimizable\u001b[0m\u001b[0;34m\u001b[0m\n",
       "\u001b[0;34m\u001b[0m\u001b[0;34m\u001b[0m\n",
       "\u001b[0;34m\u001b[0m        \u001b[0;32mif\u001b[0m \u001b[0mf\u001b[0m \u001b[0;32mis\u001b[0m \u001b[0;32mNone\u001b[0m\u001b[0;34m:\u001b[0m\u001b[0;34m\u001b[0m\n",
       "\u001b[0;34m\u001b[0m            \u001b[0mf\u001b[0m \u001b[0;34m=\u001b[0m \u001b[0moptimizable\u001b[0m\u001b[0;34m.\u001b[0m\u001b[0mget_forces\u001b[0m\u001b[0;34m(\u001b[0m\u001b[0;34m)\u001b[0m\u001b[0;34m\u001b[0m\n",
       "\u001b[0;34m\u001b[0m\u001b[0;34m\u001b[0m\n",
       "\u001b[0;34m\u001b[0m        \u001b[0;32mif\u001b[0m \u001b[0mself\u001b[0m\u001b[0;34m.\u001b[0m\u001b[0mv\u001b[0m \u001b[0;32mis\u001b[0m \u001b[0;32mNone\u001b[0m\u001b[0;34m:\u001b[0m\u001b[0;34m\u001b[0m\n",
       "\u001b[0;34m\u001b[0m            \u001b[0mself\u001b[0m\u001b[0;34m.\u001b[0m\u001b[0mv\u001b[0m \u001b[0;34m=\u001b[0m \u001b[0mnp\u001b[0m\u001b[0;34m.\u001b[0m\u001b[0mzeros\u001b[0m\u001b[0;34m(\u001b[0m\u001b[0;34m(\u001b[0m\u001b[0mlen\u001b[0m\u001b[0;34m(\u001b[0m\u001b[0moptimizable\u001b[0m\u001b[0;34m)\u001b[0m\u001b[0;34m,\u001b[0m \u001b[0;36m3\u001b[0m\u001b[0;34m)\u001b[0m\u001b[0;34m)\u001b[0m\u001b[0;34m\u001b[0m\n",
       "\u001b[0;34m\u001b[0m            \u001b[0;32mif\u001b[0m \u001b[0mself\u001b[0m\u001b[0;34m.\u001b[0m\u001b[0mdownhill_check\u001b[0m\u001b[0;34m:\u001b[0m\u001b[0;34m\u001b[0m\n",
       "\u001b[0;34m\u001b[0m                \u001b[0mself\u001b[0m\u001b[0;34m.\u001b[0m\u001b[0me_last\u001b[0m \u001b[0;34m=\u001b[0m \u001b[0moptimizable\u001b[0m\u001b[0;34m.\u001b[0m\u001b[0mget_potential_energy\u001b[0m\u001b[0;34m(\u001b[0m\u001b[0;34m)\u001b[0m\u001b[0;34m\u001b[0m\n",
       "\u001b[0;34m\u001b[0m                \u001b[0mself\u001b[0m\u001b[0;34m.\u001b[0m\u001b[0mr_last\u001b[0m \u001b[0;34m=\u001b[0m \u001b[0moptimizable\u001b[0m\u001b[0;34m.\u001b[0m\u001b[0mget_positions\u001b[0m\u001b[0;34m(\u001b[0m\u001b[0;34m)\u001b[0m\u001b[0;34m.\u001b[0m\u001b[0mcopy\u001b[0m\u001b[0;34m(\u001b[0m\u001b[0;34m)\u001b[0m\u001b[0;34m\u001b[0m\n",
       "\u001b[0;34m\u001b[0m                \u001b[0mself\u001b[0m\u001b[0;34m.\u001b[0m\u001b[0mv_last\u001b[0m \u001b[0;34m=\u001b[0m \u001b[0mself\u001b[0m\u001b[0;34m.\u001b[0m\u001b[0mv\u001b[0m\u001b[0;34m.\u001b[0m\u001b[0mcopy\u001b[0m\u001b[0;34m(\u001b[0m\u001b[0;34m)\u001b[0m\u001b[0;34m\u001b[0m\n",
       "\u001b[0;34m\u001b[0m        \u001b[0;32melse\u001b[0m\u001b[0;34m:\u001b[0m\u001b[0;34m\u001b[0m\n",
       "\u001b[0;34m\u001b[0m            \u001b[0mis_uphill\u001b[0m \u001b[0;34m=\u001b[0m \u001b[0;32mFalse\u001b[0m\u001b[0;34m\u001b[0m\n",
       "\u001b[0;34m\u001b[0m            \u001b[0;32mif\u001b[0m \u001b[0mself\u001b[0m\u001b[0;34m.\u001b[0m\u001b[0mdownhill_check\u001b[0m\u001b[0;34m:\u001b[0m\u001b[0;34m\u001b[0m\n",
       "\u001b[0;34m\u001b[0m                \u001b[0me\u001b[0m \u001b[0;34m=\u001b[0m \u001b[0moptimizable\u001b[0m\u001b[0;34m.\u001b[0m\u001b[0mget_potential_energy\u001b[0m\u001b[0;34m(\u001b[0m\u001b[0;34m)\u001b[0m\u001b[0;34m\u001b[0m\n",
       "\u001b[0;34m\u001b[0m                \u001b[0;31m# Check if the energy actually decreased\u001b[0m\u001b[0;34m\u001b[0m\n",
       "\u001b[0;34m\u001b[0m                \u001b[0;32mif\u001b[0m \u001b[0me\u001b[0m \u001b[0;34m>\u001b[0m \u001b[0mself\u001b[0m\u001b[0;34m.\u001b[0m\u001b[0me_last\u001b[0m\u001b[0;34m:\u001b[0m\u001b[0;34m\u001b[0m\n",
       "\u001b[0;34m\u001b[0m                    \u001b[0;31m# If not, reset to old positions...\u001b[0m\u001b[0;34m\u001b[0m\n",
       "\u001b[0;34m\u001b[0m                    \u001b[0;32mif\u001b[0m \u001b[0mself\u001b[0m\u001b[0;34m.\u001b[0m\u001b[0mposition_reset_callback\u001b[0m \u001b[0;32mis\u001b[0m \u001b[0;32mnot\u001b[0m \u001b[0;32mNone\u001b[0m\u001b[0;34m:\u001b[0m\u001b[0;34m\u001b[0m\n",
       "\u001b[0;34m\u001b[0m                        \u001b[0mself\u001b[0m\u001b[0;34m.\u001b[0m\u001b[0mposition_reset_callback\u001b[0m\u001b[0;34m(\u001b[0m\u001b[0;34m\u001b[0m\n",
       "\u001b[0;34m\u001b[0m                            \u001b[0moptimizable\u001b[0m\u001b[0;34m,\u001b[0m \u001b[0mself\u001b[0m\u001b[0;34m.\u001b[0m\u001b[0mr_last\u001b[0m\u001b[0;34m,\u001b[0m \u001b[0me\u001b[0m\u001b[0;34m,\u001b[0m\u001b[0;34m\u001b[0m\n",
       "\u001b[0;34m\u001b[0m                            \u001b[0mself\u001b[0m\u001b[0;34m.\u001b[0m\u001b[0me_last\u001b[0m\u001b[0;34m)\u001b[0m\u001b[0;34m\u001b[0m\n",
       "\u001b[0;34m\u001b[0m                    \u001b[0moptimizable\u001b[0m\u001b[0;34m.\u001b[0m\u001b[0mset_positions\u001b[0m\u001b[0;34m(\u001b[0m\u001b[0mself\u001b[0m\u001b[0;34m.\u001b[0m\u001b[0mr_last\u001b[0m\u001b[0;34m)\u001b[0m\u001b[0;34m\u001b[0m\n",
       "\u001b[0;34m\u001b[0m                    \u001b[0mis_uphill\u001b[0m \u001b[0;34m=\u001b[0m \u001b[0;32mTrue\u001b[0m\u001b[0;34m\u001b[0m\n",
       "\u001b[0;34m\u001b[0m                \u001b[0mself\u001b[0m\u001b[0;34m.\u001b[0m\u001b[0me_last\u001b[0m \u001b[0;34m=\u001b[0m \u001b[0moptimizable\u001b[0m\u001b[0;34m.\u001b[0m\u001b[0mget_potential_energy\u001b[0m\u001b[0;34m(\u001b[0m\u001b[0;34m)\u001b[0m\u001b[0;34m\u001b[0m\n",
       "\u001b[0;34m\u001b[0m                \u001b[0mself\u001b[0m\u001b[0;34m.\u001b[0m\u001b[0mr_last\u001b[0m \u001b[0;34m=\u001b[0m \u001b[0moptimizable\u001b[0m\u001b[0;34m.\u001b[0m\u001b[0mget_positions\u001b[0m\u001b[0;34m(\u001b[0m\u001b[0;34m)\u001b[0m\u001b[0;34m.\u001b[0m\u001b[0mcopy\u001b[0m\u001b[0;34m(\u001b[0m\u001b[0;34m)\u001b[0m\u001b[0;34m\u001b[0m\n",
       "\u001b[0;34m\u001b[0m                \u001b[0mself\u001b[0m\u001b[0;34m.\u001b[0m\u001b[0mv_last\u001b[0m \u001b[0;34m=\u001b[0m \u001b[0mself\u001b[0m\u001b[0;34m.\u001b[0m\u001b[0mv\u001b[0m\u001b[0;34m.\u001b[0m\u001b[0mcopy\u001b[0m\u001b[0;34m(\u001b[0m\u001b[0;34m)\u001b[0m\u001b[0;34m\u001b[0m\n",
       "\u001b[0;34m\u001b[0m\u001b[0;34m\u001b[0m\n",
       "\u001b[0;34m\u001b[0m            \u001b[0mvf\u001b[0m \u001b[0;34m=\u001b[0m \u001b[0mnp\u001b[0m\u001b[0;34m.\u001b[0m\u001b[0mvdot\u001b[0m\u001b[0;34m(\u001b[0m\u001b[0mf\u001b[0m\u001b[0;34m,\u001b[0m \u001b[0mself\u001b[0m\u001b[0;34m.\u001b[0m\u001b[0mv\u001b[0m\u001b[0;34m)\u001b[0m\u001b[0;34m\u001b[0m\n",
       "\u001b[0;34m\u001b[0m            \u001b[0;32mif\u001b[0m \u001b[0mvf\u001b[0m \u001b[0;34m>\u001b[0m \u001b[0;36m0.0\u001b[0m \u001b[0;32mand\u001b[0m \u001b[0;32mnot\u001b[0m \u001b[0mis_uphill\u001b[0m\u001b[0;34m:\u001b[0m\u001b[0;34m\u001b[0m\n",
       "\u001b[0;34m\u001b[0m                \u001b[0mself\u001b[0m\u001b[0;34m.\u001b[0m\u001b[0mv\u001b[0m \u001b[0;34m=\u001b[0m \u001b[0;34m(\u001b[0m\u001b[0;36m1.0\u001b[0m \u001b[0;34m-\u001b[0m \u001b[0mself\u001b[0m\u001b[0;34m.\u001b[0m\u001b[0ma\u001b[0m\u001b[0;34m)\u001b[0m \u001b[0;34m*\u001b[0m \u001b[0mself\u001b[0m\u001b[0;34m.\u001b[0m\u001b[0mv\u001b[0m \u001b[0;34m+\u001b[0m \u001b[0mself\u001b[0m\u001b[0;34m.\u001b[0m\u001b[0ma\u001b[0m \u001b[0;34m*\u001b[0m \u001b[0mf\u001b[0m \u001b[0;34m/\u001b[0m \u001b[0mnp\u001b[0m\u001b[0;34m.\u001b[0m\u001b[0msqrt\u001b[0m\u001b[0;34m(\u001b[0m\u001b[0;34m\u001b[0m\n",
       "\u001b[0;34m\u001b[0m                    \u001b[0mnp\u001b[0m\u001b[0;34m.\u001b[0m\u001b[0mvdot\u001b[0m\u001b[0;34m(\u001b[0m\u001b[0mf\u001b[0m\u001b[0;34m,\u001b[0m \u001b[0mf\u001b[0m\u001b[0;34m)\u001b[0m\u001b[0;34m)\u001b[0m \u001b[0;34m*\u001b[0m \u001b[0mnp\u001b[0m\u001b[0;34m.\u001b[0m\u001b[0msqrt\u001b[0m\u001b[0;34m(\u001b[0m\u001b[0mnp\u001b[0m\u001b[0;34m.\u001b[0m\u001b[0mvdot\u001b[0m\u001b[0;34m(\u001b[0m\u001b[0mself\u001b[0m\u001b[0;34m.\u001b[0m\u001b[0mv\u001b[0m\u001b[0;34m,\u001b[0m \u001b[0mself\u001b[0m\u001b[0;34m.\u001b[0m\u001b[0mv\u001b[0m\u001b[0;34m)\u001b[0m\u001b[0;34m)\u001b[0m\u001b[0;34m\u001b[0m\n",
       "\u001b[0;34m\u001b[0m                \u001b[0;32mif\u001b[0m \u001b[0mself\u001b[0m\u001b[0;34m.\u001b[0m\u001b[0mNsteps\u001b[0m \u001b[0;34m>\u001b[0m \u001b[0mself\u001b[0m\u001b[0;34m.\u001b[0m\u001b[0mNmin\u001b[0m\u001b[0;34m:\u001b[0m\u001b[0;34m\u001b[0m\n",
       "\u001b[0;34m\u001b[0m                    \u001b[0mself\u001b[0m\u001b[0;34m.\u001b[0m\u001b[0mdt\u001b[0m \u001b[0;34m=\u001b[0m \u001b[0mmin\u001b[0m\u001b[0;34m(\u001b[0m\u001b[0mself\u001b[0m\u001b[0;34m.\u001b[0m\u001b[0mdt\u001b[0m \u001b[0;34m*\u001b[0m \u001b[0mself\u001b[0m\u001b[0;34m.\u001b[0m\u001b[0mfinc\u001b[0m\u001b[0;34m,\u001b[0m \u001b[0mself\u001b[0m\u001b[0;34m.\u001b[0m\u001b[0mdtmax\u001b[0m\u001b[0;34m)\u001b[0m\u001b[0;34m\u001b[0m\n",
       "\u001b[0;34m\u001b[0m                    \u001b[0mself\u001b[0m\u001b[0;34m.\u001b[0m\u001b[0ma\u001b[0m \u001b[0;34m*=\u001b[0m \u001b[0mself\u001b[0m\u001b[0;34m.\u001b[0m\u001b[0mfa\u001b[0m\u001b[0;34m\u001b[0m\n",
       "\u001b[0;34m\u001b[0m                \u001b[0mself\u001b[0m\u001b[0;34m.\u001b[0m\u001b[0mNsteps\u001b[0m \u001b[0;34m+=\u001b[0m \u001b[0;36m1\u001b[0m\u001b[0;34m\u001b[0m\n",
       "\u001b[0;34m\u001b[0m            \u001b[0;32melse\u001b[0m\u001b[0;34m:\u001b[0m\u001b[0;34m\u001b[0m\n",
       "\u001b[0;34m\u001b[0m                \u001b[0mself\u001b[0m\u001b[0;34m.\u001b[0m\u001b[0mv\u001b[0m\u001b[0;34m[\u001b[0m\u001b[0;34m:\u001b[0m\u001b[0;34m]\u001b[0m \u001b[0;34m*=\u001b[0m \u001b[0;36m0.0\u001b[0m\u001b[0;34m\u001b[0m\n",
       "\u001b[0;34m\u001b[0m                \u001b[0mself\u001b[0m\u001b[0;34m.\u001b[0m\u001b[0ma\u001b[0m \u001b[0;34m=\u001b[0m \u001b[0mself\u001b[0m\u001b[0;34m.\u001b[0m\u001b[0mastart\u001b[0m\u001b[0;34m\u001b[0m\n",
       "\u001b[0;34m\u001b[0m                \u001b[0mself\u001b[0m\u001b[0;34m.\u001b[0m\u001b[0mdt\u001b[0m \u001b[0;34m*=\u001b[0m \u001b[0mself\u001b[0m\u001b[0;34m.\u001b[0m\u001b[0mfdec\u001b[0m\u001b[0;34m\u001b[0m\n",
       "\u001b[0;34m\u001b[0m                \u001b[0mself\u001b[0m\u001b[0;34m.\u001b[0m\u001b[0mNsteps\u001b[0m \u001b[0;34m=\u001b[0m \u001b[0;36m0\u001b[0m\u001b[0;34m\u001b[0m\n",
       "\u001b[0;34m\u001b[0m\u001b[0;34m\u001b[0m\n",
       "\u001b[0;34m\u001b[0m        \u001b[0mself\u001b[0m\u001b[0;34m.\u001b[0m\u001b[0mv\u001b[0m \u001b[0;34m+=\u001b[0m \u001b[0mself\u001b[0m\u001b[0;34m.\u001b[0m\u001b[0mdt\u001b[0m \u001b[0;34m*\u001b[0m \u001b[0mf\u001b[0m\u001b[0;34m\u001b[0m\n",
       "\u001b[0;34m\u001b[0m        \u001b[0mdr\u001b[0m \u001b[0;34m=\u001b[0m \u001b[0mself\u001b[0m\u001b[0;34m.\u001b[0m\u001b[0mdt\u001b[0m \u001b[0;34m*\u001b[0m \u001b[0mself\u001b[0m\u001b[0;34m.\u001b[0m\u001b[0mv\u001b[0m\u001b[0;34m\u001b[0m\n",
       "\u001b[0;34m\u001b[0m        \u001b[0mnormdr\u001b[0m \u001b[0;34m=\u001b[0m \u001b[0mnp\u001b[0m\u001b[0;34m.\u001b[0m\u001b[0msqrt\u001b[0m\u001b[0;34m(\u001b[0m\u001b[0mnp\u001b[0m\u001b[0;34m.\u001b[0m\u001b[0mvdot\u001b[0m\u001b[0;34m(\u001b[0m\u001b[0mdr\u001b[0m\u001b[0;34m,\u001b[0m \u001b[0mdr\u001b[0m\u001b[0;34m)\u001b[0m\u001b[0;34m)\u001b[0m\u001b[0;34m\u001b[0m\n",
       "\u001b[0;34m\u001b[0m        \u001b[0;32mif\u001b[0m \u001b[0mnormdr\u001b[0m \u001b[0;34m>\u001b[0m \u001b[0mself\u001b[0m\u001b[0;34m.\u001b[0m\u001b[0mmaxstep\u001b[0m\u001b[0;34m:\u001b[0m\u001b[0;34m\u001b[0m\n",
       "\u001b[0;34m\u001b[0m            \u001b[0mdr\u001b[0m \u001b[0;34m=\u001b[0m \u001b[0mself\u001b[0m\u001b[0;34m.\u001b[0m\u001b[0mmaxstep\u001b[0m \u001b[0;34m*\u001b[0m \u001b[0mdr\u001b[0m \u001b[0;34m/\u001b[0m \u001b[0mnormdr\u001b[0m\u001b[0;34m\u001b[0m\n",
       "\u001b[0;34m\u001b[0m        \u001b[0mr\u001b[0m \u001b[0;34m=\u001b[0m \u001b[0moptimizable\u001b[0m\u001b[0;34m.\u001b[0m\u001b[0mget_positions\u001b[0m\u001b[0;34m(\u001b[0m\u001b[0;34m)\u001b[0m\u001b[0;34m\u001b[0m\n",
       "\u001b[0;34m\u001b[0m        \u001b[0moptimizable\u001b[0m\u001b[0;34m.\u001b[0m\u001b[0mset_positions\u001b[0m\u001b[0;34m(\u001b[0m\u001b[0mr\u001b[0m \u001b[0;34m+\u001b[0m \u001b[0mdr\u001b[0m\u001b[0;34m)\u001b[0m\u001b[0;34m\u001b[0m\n",
       "\u001b[0;34m\u001b[0m        \u001b[0mself\u001b[0m\u001b[0;34m.\u001b[0m\u001b[0mdump\u001b[0m\u001b[0;34m(\u001b[0m\u001b[0;34m(\u001b[0m\u001b[0mself\u001b[0m\u001b[0;34m.\u001b[0m\u001b[0mv\u001b[0m\u001b[0;34m,\u001b[0m \u001b[0mself\u001b[0m\u001b[0;34m.\u001b[0m\u001b[0mdt\u001b[0m\u001b[0;34m)\u001b[0m\u001b[0;34m)\u001b[0m\u001b[0;34m\u001b[0m\u001b[0;34m\u001b[0m\u001b[0m\n",
       "\u001b[0;31mFile:\u001b[0m           ~/.py39/lib/python3.9/site-packages/ase/optimize/fire.py\n",
       "\u001b[0;31mType:\u001b[0m           type\n",
       "\u001b[0;31mSubclasses:\u001b[0m     \n"
      ]
     },
     "metadata": {},
     "output_type": "display_data"
    }
   ],
   "source": [
    "from ase.optimize import FIRE\n",
    "??FIRE"
   ]
  },
  {
   "cell_type": "code",
   "execution_count": null,
   "id": "f3fe3295-1be6-46e4-845c-dc7f0ef914f3",
   "metadata": {},
   "outputs": [],
   "source": []
  }
 ],
 "metadata": {
  "kernelspec": {
   "display_name": "Python 3.9",
   "language": "python",
   "name": "python39"
  },
  "language_info": {
   "codemirror_mode": {
    "name": "ipython",
    "version": 3
   },
   "file_extension": ".py",
   "mimetype": "text/x-python",
   "name": "python",
   "nbconvert_exporter": "python",
   "pygments_lexer": "ipython3",
   "version": "3.9.16"
  },
  "widgets": {
   "application/vnd.jupyter.widget-state+json": {
    "state": {
     "00084ec8704141e49fc806b8eab4f66e": {
      "model_module": "@jupyter-widgets/base",
      "model_module_version": "1.2.0",
      "model_name": "LayoutModel",
      "state": {}
     },
     "010e11659c0e492b80ce9942665f1573": {
      "model_module": "@jupyter-widgets/controls",
      "model_module_version": "1.5.0",
      "model_name": "FloatSliderModel",
      "state": {
       "description": "Force scale",
       "layout": "IPY_MODEL_68940beef66e477889c3872e5091d411",
       "step": 0.1,
       "style": "IPY_MODEL_6053d2c3c89c453c879a7b80462fc517",
       "value": 0.5
      }
     },
     "0274632c597d46269d036ac4f3dcdbe0": {
      "model_module": "@jupyter-widgets/controls",
      "model_module_version": "1.5.0",
      "model_name": "FloatSliderModel",
      "state": {
       "description": "Charge scale",
       "layout": "IPY_MODEL_c5353d4120a143208be54647943c2021",
       "step": 0.1,
       "style": "IPY_MODEL_5944834a3de145bd98db52668104d537",
       "value": 1
      }
     },
     "03d48c9d843d4c5db0cb153fee1b2229": {
      "model_module": "@jupyter-widgets/base",
      "model_module_version": "1.2.0",
      "model_name": "LayoutModel",
      "state": {}
     },
     "03f5627a519e4fffb5f2f369ef6c8170": {
      "model_module": "@jupyter-widgets/base",
      "model_module_version": "1.2.0",
      "model_name": "LayoutModel",
      "state": {}
     },
     "05259fa016d44419bd906f9cbcfb2c7e": {
      "model_module": "@jupyter-widgets/output",
      "model_module_version": "1.0.0",
      "model_name": "OutputModel",
      "state": {
       "layout": "IPY_MODEL_1d7c0ed67ffb476cbdac521ca628744e"
      }
     },
     "0580fac469194b3ea88fa5f9e8674a07": {
      "model_module": "@jupyter-widgets/base",
      "model_module_version": "1.2.0",
      "model_name": "LayoutModel",
      "state": {}
     },
     "05a7742965f14cc084c8488e3a4b269a": {
      "model_module": "@jupyter-widgets/controls",
      "model_module_version": "1.5.0",
      "model_name": "DescriptionStyleModel",
      "state": {
       "description_width": ""
      }
     },
     "0615f7f1766b405fbcec58e7fd20784d": {
      "model_module": "@jupyter-widgets/controls",
      "model_module_version": "1.5.0",
      "model_name": "SliderStyleModel",
      "state": {
       "description_width": ""
      }
     },
     "065714d8bebf4a0097cf169e79f43a23": {
      "model_module": "nglview-js-widgets",
      "model_module_version": "3.0.1",
      "model_name": "ColormakerRegistryModel",
      "state": {
       "_msg_ar": [],
       "_msg_q": [],
       "_ready": true,
       "layout": "IPY_MODEL_0ebe3d0a23f143e592dfab66f90a634e"
      }
     },
     "07785dafa81845f185541e9742a2d911": {
      "model_module": "@jupyter-widgets/controls",
      "model_module_version": "1.5.0",
      "model_name": "HBoxModel",
      "state": {
       "children": [
        "IPY_MODEL_25aebf8bd2224ee89c813ef74b1d2dc3",
        "IPY_MODEL_88bcca3eb4944f15bc2d20f74192f693"
       ],
       "layout": "IPY_MODEL_b89190e808414a2eb92bf61e8bc1b371"
      }
     },
     "085b3993b47c46828cdcec02e050aec5": {
      "model_module": "@jupyter-widgets/base",
      "model_module_version": "1.2.0",
      "model_name": "LayoutModel",
      "state": {}
     },
     "0af9985cbe1f4a39aaff65d7fb1e10de": {
      "model_module": "@jupyter-widgets/base",
      "model_module_version": "1.2.0",
      "model_name": "LayoutModel",
      "state": {}
     },
     "0da577b23a4e4dc698d0f455a0bdd7be": {
      "model_module": "@jupyter-widgets/controls",
      "model_module_version": "1.5.0",
      "model_name": "ButtonModel",
      "state": {
       "description": "Save image",
       "layout": "IPY_MODEL_d78c6d7941954690a59620ff04f26f9b",
       "style": "IPY_MODEL_dd7b54e3086345228369491e6ac4911d",
       "tooltip": "Save current frame to file.\nCurrently .png and .html are supported.\nIt takes a bit time, please be patient."
      }
     },
     "0de707be76d242d5ae307d3c8780c20e": {
      "model_module": "@jupyter-widgets/controls",
      "model_module_version": "1.5.0",
      "model_name": "LinkModel",
      "state": {
       "source": [
        "IPY_MODEL_84bc932da93c4d2b953b3ae57c77314a",
        "value"
       ],
       "target": [
        "IPY_MODEL_25aebf8bd2224ee89c813ef74b1d2dc3",
        "frame"
       ]
      }
     },
     "0e1c5481f0ef4a05aa649663d15c17ac": {
      "model_module": "@jupyter-widgets/base",
      "model_module_version": "1.2.0",
      "model_name": "LayoutModel",
      "state": {}
     },
     "0e74a523357845d29ba5554a05e951db": {
      "model_module": "@jupyter-widgets/base",
      "model_module_version": "1.2.0",
      "model_name": "LayoutModel",
      "state": {}
     },
     "0ebe3d0a23f143e592dfab66f90a634e": {
      "model_module": "@jupyter-widgets/base",
      "model_module_version": "1.2.0",
      "model_name": "LayoutModel",
      "state": {}
     },
     "0ece783ccd884833b47c3631639ae11d": {
      "model_module": "@jupyter-widgets/controls",
      "model_module_version": "1.5.0",
      "model_name": "ButtonModel",
      "state": {
       "description": "Save image",
       "layout": "IPY_MODEL_23f8402f9a3242b9bef82279bfaded38",
       "style": "IPY_MODEL_5b64d123c8bf4a52b0589beabdd4543e",
       "tooltip": "Save current frame to file.\nCurrently .png and .html are supported.\nIt takes a bit time, please be patient."
      }
     },
     "0ff2f27de717492490f64354521e6e9e": {
      "model_module": "@jupyter-widgets/controls",
      "model_module_version": "1.5.0",
      "model_name": "FloatSliderModel",
      "state": {
       "description": "Charge scale",
       "layout": "IPY_MODEL_3bc5a303efc047bf8f52ac7c86d0c6cc",
       "step": 0.1,
       "style": "IPY_MODEL_4011fdffb5634b5ba54898eddcab1791",
       "value": 1
      }
     },
     "1063996b1fde47ac87e81109c78f7946": {
      "model_module": "@jupyter-widgets/controls",
      "model_module_version": "1.5.0",
      "model_name": "HBoxModel",
      "state": {
       "children": [
        "IPY_MODEL_7c8419434b294e5dba07aa47192994f1",
        "IPY_MODEL_9beca9bdcd2149bfb86c747a4ba9fed7"
       ],
       "layout": "IPY_MODEL_fcf2b9b3ad724e4daa5b85dfdf36c558"
      }
     },
     "1143b62f6521471cb76ecc391da387ad": {
      "model_module": "@jupyter-widgets/controls",
      "model_module_version": "1.5.0",
      "model_name": "CheckboxModel",
      "state": {
       "description": "Show force",
       "disabled": false,
       "layout": "IPY_MODEL_9b97770a03ad408484885083eae39429",
       "style": "IPY_MODEL_c1d87f41920c4a2d86924ef6709626cc",
       "value": false
      }
     },
     "1353772df9414a4ab5cb9d5763fe0ac3": {
      "model_module": "@jupyter-widgets/controls",
      "model_module_version": "1.5.0",
      "model_name": "ButtonModel",
      "state": {
       "icon": "compress",
       "layout": "IPY_MODEL_2327e45767d2493b86d4e167f824810f",
       "style": "IPY_MODEL_ff8a30ce4dfd4299969e9a97c3c5942d"
      }
     },
     "1448734ba2434432b7fd91724f2718fa": {
      "model_module": "@jupyter-widgets/controls",
      "model_module_version": "1.5.0",
      "model_name": "IntSliderModel",
      "state": {
       "layout": "IPY_MODEL_2061464f44d34f9db67c44849f363fdb",
       "max": 2,
       "style": "IPY_MODEL_63652abfabd149ddae7720b2cb0174ef"
      }
     },
     "14526d3b4d944647a723d542daafdfb4": {
      "model_module": "@jupyter-widgets/base",
      "model_module_version": "1.2.0",
      "model_name": "LayoutModel",
      "state": {}
     },
     "1691b1004c324632b8fd5553bd54b3de": {
      "model_module": "@jupyter-widgets/base",
      "model_module_version": "1.2.0",
      "model_name": "LayoutModel",
      "state": {}
     },
     "180047eee6014174abcbb47ef3fcbff0": {
      "model_module": "@jupyter-widgets/base",
      "model_module_version": "1.2.0",
      "model_name": "LayoutModel",
      "state": {}
     },
     "18b0e4bf2cf14cdb98065161743b9ee2": {
      "model_module": "@jupyter-widgets/base",
      "model_module_version": "1.2.0",
      "model_name": "LayoutModel",
      "state": {}
     },
     "190cf9e12ee748f18de0c7ea1da77668": {
      "model_module": "@jupyter-widgets/controls",
      "model_module_version": "1.5.0",
      "model_name": "ButtonModel",
      "state": {
       "description": "Download image",
       "layout": "IPY_MODEL_67a856647e2b46958c38e007d6d6d248",
       "style": "IPY_MODEL_76a21886d49b471ebeb6e82df8ccd5f6",
       "tooltip": "Download current frame to your local PC"
      }
     },
     "1925d49f4fe6408ab711ef281bcaef4a": {
      "model_module": "@jupyter-widgets/controls",
      "model_module_version": "1.5.0",
      "model_name": "DescriptionStyleModel",
      "state": {
       "description_width": ""
      }
     },
     "19baa15a2daf48ab97cbe648ca8b1a86": {
      "model_module": "@jupyter-widgets/controls",
      "model_module_version": "1.5.0",
      "model_name": "SliderStyleModel",
      "state": {
       "description_width": ""
      }
     },
     "1a9e12eea93640479ec4468c367d1065": {
      "model_module": "@jupyter-widgets/controls",
      "model_module_version": "1.5.0",
      "model_name": "LinkModel",
      "state": {
       "source": [
        "IPY_MODEL_3641d58bd84b4d99b9d8d4b4886d7e17",
        "max"
       ],
       "target": [
        "IPY_MODEL_413e58e4761342f09063472bef1ba125",
        "max_frame"
       ]
      }
     },
     "1b502ddf8d64468384f72a03c5add49a": {
      "model_module": "@jupyter-widgets/base",
      "model_module_version": "1.2.0",
      "model_name": "LayoutModel",
      "state": {}
     },
     "1b93450d255d4fc9a0d125c540d68d37": {
      "model_module": "@jupyter-widgets/controls",
      "model_module_version": "1.5.0",
      "model_name": "IntSliderModel",
      "state": {
       "layout": "IPY_MODEL_7637dca67b764d6a94890566e3cad2ca",
       "max": 0,
       "style": "IPY_MODEL_88da29db1f144e5cb1ac306045425385"
      }
     },
     "1be3ffc04572422f9fa1b3e6e2290592": {
      "model_module": "@jupyter-widgets/controls",
      "model_module_version": "1.5.0",
      "model_name": "FloatSliderModel",
      "state": {
       "description": "Force scale",
       "layout": "IPY_MODEL_8279308157714aed80aa34ac25dc55e8",
       "step": 0.1,
       "style": "IPY_MODEL_ba4b9cff724e413eacabdc94f593b637",
       "value": 0.5
      }
     },
     "1c28c683142a46c5937b75059ae7e6c1": {
      "model_module": "@jupyter-widgets/controls",
      "model_module_version": "1.5.0",
      "model_name": "CheckboxModel",
      "state": {
       "description": "Show force",
       "disabled": false,
       "layout": "IPY_MODEL_cce1c391b0fc42a0b02e9da3e16f3504",
       "style": "IPY_MODEL_821562b4896642caab82af83331bd86a",
       "value": false
      }
     },
     "1ca7bf375bb04c0590174b501ec5d964": {
      "model_module": "@jupyter-widgets/controls",
      "model_module_version": "1.5.0",
      "model_name": "SliderStyleModel",
      "state": {
       "description_width": ""
      }
     },
     "1cff135639004d46acf84130281d086c": {
      "model_module": "@jupyter-widgets/controls",
      "model_module_version": "1.5.0",
      "model_name": "CheckboxModel",
      "state": {
       "description": "Show force",
       "disabled": false,
       "layout": "IPY_MODEL_e1156016ede04460abcf04479886e624",
       "style": "IPY_MODEL_77c307be283c4d3995c0d8007cb29e46",
       "value": false
      }
     },
     "1d7c0ed67ffb476cbdac521ca628744e": {
      "model_module": "@jupyter-widgets/base",
      "model_module_version": "1.2.0",
      "model_name": "LayoutModel",
      "state": {
       "border": "0px solid black"
      }
     },
     "1d877806114c4d2b8d536de2f50b1ea9": {
      "model_module": "@jupyter-widgets/controls",
      "model_module_version": "1.5.0",
      "model_name": "FloatSliderModel",
      "state": {
       "description": "Force scale",
       "layout": "IPY_MODEL_4fbc0d836c824430b3f5f9b777e6a3de",
       "step": 0.1,
       "style": "IPY_MODEL_1ca7bf375bb04c0590174b501ec5d964",
       "value": 0.5
      }
     },
     "2061464f44d34f9db67c44849f363fdb": {
      "model_module": "@jupyter-widgets/base",
      "model_module_version": "1.2.0",
      "model_name": "LayoutModel",
      "state": {}
     },
     "21c9f4b452c840f3a50c6d56a58b37f8": {
      "model_module": "@jupyter-widgets/controls",
      "model_module_version": "1.5.0",
      "model_name": "HBoxModel",
      "state": {
       "children": [
        "IPY_MODEL_190cf9e12ee748f18de0c7ea1da77668",
        "IPY_MODEL_6a787a97d3664b3083092d19d0cc45f4"
       ],
       "layout": "IPY_MODEL_371cb4ef8f6641bf8eb56647ad7f827b"
      }
     },
     "21db2ade7297414a8ae383668510dc0d": {
      "model_module": "@jupyter-widgets/controls",
      "model_module_version": "1.5.0",
      "model_name": "LinkModel",
      "state": {
       "source": [
        "IPY_MODEL_c65ae949b1b14375aac26cdb3e65f34a",
        "max"
       ],
       "target": [
        "IPY_MODEL_a80572f4629546a9bd9bad141bbc1155",
        "max_frame"
       ]
      }
     },
     "2283bfde7f8d4495873a1fd5fb6ccc93": {
      "model_module": "@jupyter-widgets/base",
      "model_module_version": "1.2.0",
      "model_name": "LayoutModel",
      "state": {}
     },
     "2327e45767d2493b86d4e167f824810f": {
      "model_module": "@jupyter-widgets/base",
      "model_module_version": "1.2.0",
      "model_name": "LayoutModel",
      "state": {
       "width": "34px"
      }
     },
     "23ea776c32b44e19af6bf6ffe877a063": {
      "model_module": "@jupyter-widgets/controls",
      "model_module_version": "1.5.0",
      "model_name": "HBoxModel",
      "state": {
       "children": [
        "IPY_MODEL_c52d92fc56054803be1cafd344bc2132",
        "IPY_MODEL_c65ae949b1b14375aac26cdb3e65f34a"
       ],
       "layout": "IPY_MODEL_8690a1dd99864fbe8be737441366e710"
      }
     },
     "23f8402f9a3242b9bef82279bfaded38": {
      "model_module": "@jupyter-widgets/base",
      "model_module_version": "1.2.0",
      "model_name": "LayoutModel",
      "state": {}
     },
     "24db1ee5ed1e456bb80bf10106afe77a": {
      "model_module": "@jupyter-widgets/base",
      "model_module_version": "1.2.0",
      "model_name": "LayoutModel",
      "state": {}
     },
     "25aebf8bd2224ee89c813ef74b1d2dc3": {
      "model_module": "nglview-js-widgets",
      "model_module_version": "3.0.1",
      "model_name": "NGLModel",
      "state": {
       "_camera_orientation": [
        10.481783228970954,
        0,
        0,
        0,
        0,
        10.481783228970954,
        0,
        0,
        0,
        0,
        10.481783228970954,
        0,
        0.26649999618530273,
        -0.01100003719329834,
        0.218999981880188,
        1
       ],
       "_camera_str": "orthographic",
       "_gui_theme": null,
       "_ibtn_fullscreen": "IPY_MODEL_2c4d6e70c12a478ab44b7635038f8681",
       "_igui": null,
       "_iplayer": "IPY_MODEL_429ce1c769104195a37c8ad82a8f9cef",
       "_ngl_color_dict": {},
       "_ngl_coordinate_resource": {},
       "_ngl_full_stage_parameters": {
        "ambientColor": 14540253,
        "ambientIntensity": 0.2,
        "backgroundColor": "white",
        "cameraEyeSep": 0.3,
        "cameraFov": 40,
        "cameraType": "orthographic",
        "clipDist": 0,
        "clipFar": 100,
        "clipNear": 0,
        "fogFar": 100,
        "fogNear": 50,
        "hoverTimeout": 0,
        "impostor": true,
        "lightColor": 14540253,
        "lightIntensity": 1,
        "mousePreset": "default",
        "panSpeed": 1,
        "quality": "medium",
        "rotateSpeed": 2,
        "sampleLevel": 0,
        "tooltip": true,
        "workerDefault": true,
        "zoomSpeed": 1.2
       },
       "_ngl_msg_archive": [
        {
         "args": [
          {
           "binary": false,
           "data": "MODEL     1\nATOM      1    C MOL     1       2.215  -0.014  -0.123  1.00  0.00           C  \nATOM      2    C MOL     1       0.723  -0.001  -0.044  1.00  0.00           C  \nATOM      3    C MOL     1      -0.009  -1.171  -0.090  1.00  0.00           C  \nATOM      4    C MOL     1      -1.388  -1.167  -0.018  1.00  0.00           C  \nATOM      5    C MOL     1      -2.101   0.010   0.104  1.00  0.00           C  \nATOM      6    C MOL     1      -1.366   1.177   0.149  1.00  0.00           C  \nATOM      7    C MOL     1       0.011   1.176   0.077  1.00  0.00           C  \nATOM      8    H MOL     1       2.568   0.314  -1.111  1.00  0.00           H  \nATOM      9    H MOL     1       2.650  -0.976   0.104  1.00  0.00           H  \nATOM     10    H MOL     1       2.616   0.702   0.673  1.00  0.00           H  \nATOM     11    H MOL     1       0.513  -2.102  -0.184  1.00  0.00           H  \nATOM     12    H MOL     1      -1.973  -2.081  -0.053  1.00  0.00           H  \nATOM     13    H MOL     1      -3.183  -0.009   0.159  1.00  0.00           H  \nATOM     14    H MOL     1      -1.870   2.124   0.244  1.00  0.00           H  \nATOM     15    H MOL     1       0.593   2.106   0.114  1.00  0.00           H  \nENDMDL\n",
           "type": "blob"
          }
         ],
         "kwargs": {
          "defaultRepresentation": false,
          "ext": "pdb"
         },
         "methodName": "loadFile",
         "reconstruc_color_scheme": false,
         "target": "Stage",
         "type": "call_method"
        },
        {
         "args": [
          "600px",
          "600px"
         ],
         "kwargs": {},
         "methodName": "setSize",
         "reconstruc_color_scheme": false,
         "target": "Widget",
         "type": "call_method"
        },
        {
         "args": [
          "unitcell"
         ],
         "component_index": 0,
         "kwargs": {
          "sele": "all"
         },
         "methodName": "addRepresentation",
         "reconstruc_color_scheme": false,
         "target": "compList",
         "type": "call_method"
        },
        {
         "args": [
          "spacefill"
         ],
         "component_index": 0,
         "kwargs": {
          "sele": "all"
         },
         "methodName": "addRepresentation",
         "reconstruc_color_scheme": false,
         "target": "compList",
         "type": "call_method"
        },
        {
         "args": [],
         "kwargs": {
          "cameraType": "orthographic"
         },
         "methodName": "setParameters",
         "reconstruc_color_scheme": false,
         "target": "Stage",
         "type": "call_method"
        },
        {
         "args": [
          {
           "clipDist": 0
          }
         ],
         "kwargs": {},
         "methodName": "setParameters",
         "reconstruc_color_scheme": false,
         "target": "Widget",
         "type": "call_method"
        },
        {
         "args": [
          "spacefill",
          0
         ],
         "kwargs": {
          "colorScale": "rainbow",
          "colorScheme": "element",
          "radiusScale": 0.5,
          "radiusType": "covalent"
         },
         "methodName": "updateRepresentationsByName",
         "reconstruc_color_scheme": false,
         "target": "Widget",
         "type": "call_method"
        },
        {
         "args": [
          "this._Q = [[1.0, 0.0, 0.0], [0.0, 1.0, 0.0], [0.0, 0.0, 1.0]]\n    var tooltip = document.createElement('div');\n    Object.assign(tooltip.style, {\n      display: 'none',\n      position: 'fixed',\n      zIndex: 10,\n      pointerEvents: 'none',\n      backgroundColor: 'rgba( 0, 0, 0, 0.6 )',\n      color: 'lightgrey',\n      padding: '8px',\n      fontFamily: 'sans-serif'\n    });\n    document.body.appendChild(tooltip);\n\n    var that = this;\n    this.stage.mouseControls.remove('hoverPick');\n    this.stage.signals.hovered.add(function (pickingProxy) {\n      if (pickingProxy && (pickingProxy.atom || pickingProxy.bond)) {\n        var atom = pickingProxy.atom || pickingProxy.closestBondAtom\n        var mp = pickingProxy.mouse.position\n        //tooltip.innerText = atom.element + ' i=' + atom.index + ' (' + atom.x.toFixed(2) +  ', ' + atom.y.toFixed(2) +  ', ' + atom.z.toFixed(2) + ')'\n        //var pos = that._atoms_pos[atom.index]\n        var Q = that._Q\n        var pos_x = Q[0][0] * atom.x + Q[0][1] * atom.y + Q[0][2] * atom.z \n        var pos_y = Q[1][0] * atom.x + Q[1][1] * atom.y + Q[1][2] * atom.z\n        var pos_z = Q[2][0] * atom.x + Q[2][1] * atom.y + Q[2][2] * atom.z\n        tooltip.innerText = 'i=' + atom.index + ' ' + atom.element + ' (' + pos_x.toFixed(2) +  ', ' + pos_y.toFixed(2) +  ', ' + pos_z.toFixed(2) + ')'\n        tooltip.style.bottom = window.innerHeight - mp.y + 3 + 'px'\n        tooltip.style.left = mp.x + 3 + 'px'\n        tooltip.style.display = 'block'\n      } else {\n        tooltip.style.display = 'none'\n      }\n    });\n    this.stage.tooltip = tooltip;\n    "
         ],
         "kwargs": {},
         "methodName": "executeCode",
         "reconstruc_color_scheme": false,
         "target": "Widget",
         "type": "call_method"
        },
        {
         "args": [
          "ball+stick"
         ],
         "component_index": 0,
         "kwargs": {
          "sele": "all"
         },
         "methodName": "addRepresentation",
         "reconstruc_color_scheme": false,
         "target": "compList",
         "type": "call_method"
        }
       ],
       "_ngl_original_stage_parameters": {
        "ambientColor": 14540253,
        "ambientIntensity": 0.2,
        "backgroundColor": "white",
        "cameraEyeSep": 0.3,
        "cameraFov": 40,
        "cameraType": "perspective",
        "clipDist": 10,
        "clipFar": 100,
        "clipNear": 0,
        "fogFar": 100,
        "fogNear": 50,
        "hoverTimeout": 0,
        "impostor": true,
        "lightColor": 14540253,
        "lightIntensity": 1,
        "mousePreset": "default",
        "panSpeed": 1,
        "quality": "medium",
        "rotateSpeed": 2,
        "sampleLevel": 0,
        "tooltip": true,
        "workerDefault": true,
        "zoomSpeed": 1.2
       },
       "_ngl_repr_dict": {
        "0": {
         "0": {
          "params": {
           "clipCenter": {
            "x": 0,
            "y": 0,
            "z": 0
           },
           "clipNear": 0,
           "clipRadius": 0,
           "colorMode": "hcl",
           "colorReverse": false,
           "colorScale": "",
           "colorScheme": "element",
           "colorValue": "orange",
           "defaultAssembly": "",
           "depthWrite": true,
           "diffuse": 16777215,
           "diffuseInterior": false,
           "disableImpostor": false,
           "disablePicking": false,
           "flatShaded": false,
           "interiorColor": 2236962,
           "interiorDarkening": 0,
           "lazy": false,
           "matrix": {
            "elements": [
             1,
             0,
             0,
             0,
             0,
             1,
             0,
             0,
             0,
             0,
             1,
             0,
             0,
             0,
             0,
             1
            ]
           },
           "metalness": 0,
           "opacity": 1,
           "quality": "medium",
           "radialSegments": 10,
           "radiusData": {},
           "radiusScale": 1,
           "radiusSize": 0.5,
           "radiusType": "vdw",
           "roughness": 0.4,
           "sele": "all",
           "side": "double",
           "sphereDetail": 1,
           "useInteriorColor": true,
           "visible": true,
           "wireframe": false
          },
          "type": "unitcell"
         },
         "1": {
          "params": {
           "assembly": "default",
           "clipCenter": {
            "x": 0,
            "y": 0,
            "z": 0
           },
           "clipNear": 0,
           "clipRadius": 0,
           "colorMode": "hcl",
           "colorReverse": false,
           "colorScale": "rainbow",
           "colorScheme": "element",
           "colorValue": 9474192,
           "defaultAssembly": "",
           "depthWrite": true,
           "diffuse": 16777215,
           "diffuseInterior": false,
           "disableImpostor": false,
           "disablePicking": false,
           "flatShaded": false,
           "interiorColor": 2236962,
           "interiorDarkening": 0,
           "lazy": false,
           "matrix": {
            "elements": [
             1,
             0,
             0,
             0,
             0,
             1,
             0,
             0,
             0,
             0,
             1,
             0,
             0,
             0,
             0,
             1
            ]
           },
           "metalness": 0,
           "opacity": 1,
           "quality": "medium",
           "radiusData": {},
           "radiusScale": 0.5,
           "radiusSize": 1,
           "radiusType": "covalent",
           "roughness": 0.4,
           "sele": "all",
           "side": "double",
           "sphereDetail": 1,
           "useInteriorColor": true,
           "visible": true,
           "wireframe": false
          },
          "type": "spacefill"
         },
         "2": {
          "params": {
           "aspectRatio": 2,
           "assembly": "default",
           "bondScale": 0.4,
           "bondSpacing": 1,
           "clipCenter": {
            "x": 0,
            "y": 0,
            "z": 0
           },
           "clipNear": 0,
           "clipRadius": 0,
           "colorMode": "hcl",
           "colorReverse": false,
           "colorScale": "",
           "colorScheme": "element",
           "colorValue": 9474192,
           "cylinderOnly": false,
           "defaultAssembly": "",
           "depthWrite": true,
           "diffuse": 16777215,
           "diffuseInterior": false,
           "disableImpostor": false,
           "disablePicking": false,
           "flatShaded": false,
           "interiorColor": 2236962,
           "interiorDarkening": 0,
           "lazy": false,
           "lineOnly": false,
           "linewidth": 2,
           "matrix": {
            "elements": [
             1,
             0,
             0,
             0,
             0,
             1,
             0,
             0,
             0,
             0,
             1,
             0,
             0,
             0,
             0,
             1
            ]
           },
           "metalness": 0,
           "multipleBond": "off",
           "opacity": 1,
           "openEnded": true,
           "quality": "medium",
           "radialSegments": 10,
           "radiusData": {},
           "radiusScale": 1,
           "radiusSize": 0.15,
           "radiusType": "size",
           "roughness": 0.4,
           "sele": "all",
           "side": "double",
           "sphereDetail": 1,
           "useInteriorColor": true,
           "visible": true,
           "wireframe": false
          },
          "type": "ball+stick"
         }
        }
       },
       "_ngl_serialize": false,
       "_ngl_version": "2.0.0-dev.36",
       "_ngl_view_id": [
        "2045A5F6-179B-4A31-B296-FAA13E8E53DB"
       ],
       "_player_dict": {},
       "_scene_position": {},
       "_scene_rotation": {},
       "_synced_model_ids": [],
       "_synced_repr_model_ids": [],
       "_view_height": "",
       "_view_width": "",
       "background": "white",
       "frame": 0,
       "gui_style": null,
       "layout": "IPY_MODEL_539e29a8671047f99499c6bec1b92397",
       "max_frame": 0,
       "n_components": 1,
       "picked": {}
      }
     },
     "2639075180ab4767a2f1ea0b71df1b6a": {
      "model_module": "@jupyter-widgets/controls",
      "model_module_version": "1.5.0",
      "model_name": "CheckboxModel",
      "state": {
       "description": "Show charge",
       "disabled": false,
       "layout": "IPY_MODEL_5c38524fa11b4e68916511c19b6996a4",
       "style": "IPY_MODEL_a48fb9cc40784137b20bfa7898049b61",
       "value": false
      }
     },
     "265d8636c1cc43bb93c1cf18694ce43d": {
      "model_module": "@jupyter-widgets/controls",
      "model_module_version": "1.5.0",
      "model_name": "ButtonStyleModel",
      "state": {}
     },
     "26f1ae4422fd4b51ab95c7bad66da194": {
      "model_module": "@jupyter-widgets/controls",
      "model_module_version": "1.5.0",
      "model_name": "HBoxModel",
      "state": {
       "children": [
        "IPY_MODEL_2db52387cfb44a05a96005426c7b074d",
        "IPY_MODEL_1b93450d255d4fc9a0d125c540d68d37"
       ],
       "layout": "IPY_MODEL_3289c1379b294adc83d23041e42b6197"
      }
     },
     "283c63c5ef19428fbb24ecce2b466c3c": {
      "model_module": "@jupyter-widgets/controls",
      "model_module_version": "1.5.0",
      "model_name": "FloatSliderModel",
      "state": {
       "description": "Charge scale",
       "layout": "IPY_MODEL_9229960922474cf0bb4f6f8deec9833f",
       "step": 0.1,
       "style": "IPY_MODEL_b393648ba42643ed99c462cd26c5a53a",
       "value": 1
      }
     },
     "2b090fd42b2e44bfb9162cf2452c65d2": {
      "model_module": "@jupyter-widgets/controls",
      "model_module_version": "1.5.0",
      "model_name": "DescriptionStyleModel",
      "state": {
       "description_width": ""
      }
     },
     "2b982c6216ce44c1bbbd73618243ddc4": {
      "model_module": "@jupyter-widgets/controls",
      "model_module_version": "1.5.0",
      "model_name": "DescriptionStyleModel",
      "state": {
       "description_width": ""
      }
     },
     "2c4d6e70c12a478ab44b7635038f8681": {
      "model_module": "@jupyter-widgets/controls",
      "model_module_version": "1.5.0",
      "model_name": "ButtonModel",
      "state": {
       "icon": "compress",
       "layout": "IPY_MODEL_5ed55e8251e144ba83d709ca19444130",
       "style": "IPY_MODEL_9d2b2482a5d444bc9098a9f85aabd063"
      }
     },
     "2cd06d47c1174051967aedc854a29513": {
      "model_module": "@jupyter-widgets/base",
      "model_module_version": "1.2.0",
      "model_name": "LayoutModel",
      "state": {}
     },
     "2d6592aa831840608ac93248643d9a18": {
      "model_module": "@jupyter-widgets/controls",
      "model_module_version": "1.5.0",
      "model_name": "LinkModel",
      "state": {
       "source": [
        "IPY_MODEL_6e7c9a2ff64247e2a3c4e36edefbc59e",
        "max"
       ],
       "target": [
        "IPY_MODEL_7c8419434b294e5dba07aa47192994f1",
        "max_frame"
       ]
      }
     },
     "2db52387cfb44a05a96005426c7b074d": {
      "model_module": "@jupyter-widgets/controls",
      "model_module_version": "1.5.0",
      "model_name": "PlayModel",
      "state": {
       "layout": "IPY_MODEL_0e74a523357845d29ba5554a05e951db",
       "max": 0,
       "style": "IPY_MODEL_2e734cb37502487fbff7b000d71fd608"
      }
     },
     "2e734cb37502487fbff7b000d71fd608": {
      "model_module": "@jupyter-widgets/controls",
      "model_module_version": "1.5.0",
      "model_name": "DescriptionStyleModel",
      "state": {
       "description_width": ""
      }
     },
     "2f17c7c554274e0e980f9338171ad45d": {
      "model_module": "@jupyter-widgets/controls",
      "model_module_version": "1.5.0",
      "model_name": "LinkModel",
      "state": {
       "source": [
        "IPY_MODEL_2db52387cfb44a05a96005426c7b074d",
        "value"
       ],
       "target": [
        "IPY_MODEL_c2b1453970254e4d8bfed78e17a94bfd",
        "frame"
       ]
      }
     },
     "3289c1379b294adc83d23041e42b6197": {
      "model_module": "@jupyter-widgets/base",
      "model_module_version": "1.2.0",
      "model_name": "LayoutModel",
      "state": {}
     },
     "32c34f5c1ab74194a986672f1202a402": {
      "model_module": "@jupyter-widgets/controls",
      "model_module_version": "1.5.0",
      "model_name": "DescriptionStyleModel",
      "state": {
       "description_width": ""
      }
     },
     "331a385c91bb4a0e9eec26168c1bf058": {
      "model_module": "@jupyter-widgets/base",
      "model_module_version": "1.2.0",
      "model_name": "LayoutModel",
      "state": {
       "border": "0px solid black"
      }
     },
     "34486bc45d2e45b1ae6c8b02807f6473": {
      "model_module": "@jupyter-widgets/controls",
      "model_module_version": "1.5.0",
      "model_name": "DescriptionStyleModel",
      "state": {
       "description_width": ""
      }
     },
     "34e7195ba50d4afc93061cb47e35385c": {
      "model_module": "@jupyter-widgets/controls",
      "model_module_version": "1.5.0",
      "model_name": "DropdownModel",
      "state": {
       "_options_labels": [
        "All",
        "H",
        "C"
       ],
       "description": "Show",
       "index": 0,
       "layout": "IPY_MODEL_1691b1004c324632b8fd5553bd54b3de",
       "style": "IPY_MODEL_65854ebddc6a4c1f8bbce01daf2d3af3"
      }
     },
     "35380c2636ae4a19810003f7ff0902b3": {
      "model_module": "@jupyter-widgets/base",
      "model_module_version": "1.2.0",
      "model_name": "LayoutModel",
      "state": {}
     },
     "3641d58bd84b4d99b9d8d4b4886d7e17": {
      "model_module": "@jupyter-widgets/controls",
      "model_module_version": "1.5.0",
      "model_name": "PlayModel",
      "state": {
       "layout": "IPY_MODEL_daea647d2efa48aaa62d40b02bd798e3",
       "max": 0,
       "style": "IPY_MODEL_9fe922139ca44cb3b12fefa0fa33d1f2"
      }
     },
     "36917eb832714dc3a3ba4b91ba9dca02": {
      "model_module": "@jupyter-widgets/controls",
      "model_module_version": "1.5.0",
      "model_name": "DescriptionStyleModel",
      "state": {
       "description_width": ""
      }
     },
     "371cb4ef8f6641bf8eb56647ad7f827b": {
      "model_module": "@jupyter-widgets/base",
      "model_module_version": "1.2.0",
      "model_name": "LayoutModel",
      "state": {}
     },
     "3a95fcea2d8346d9b2d4c992e4afc2a1": {
      "model_module": "@jupyter-widgets/controls",
      "model_module_version": "1.5.0",
      "model_name": "ButtonStyleModel",
      "state": {}
     },
     "3b7538639f894994a815cbcfd6144850": {
      "model_module": "@jupyter-widgets/controls",
      "model_module_version": "1.5.0",
      "model_name": "VBoxModel",
      "state": {
       "children": [
        "IPY_MODEL_9e92001798fc4305acb2e4a32d69a31a",
        "IPY_MODEL_66a501d7885f4604b0c5e3f970b92b70",
        "IPY_MODEL_463c6a92f98d46e9b8d5c2fb6d14083d",
        "IPY_MODEL_5ee38e2cf9104277aca73ae08999f79b",
        "IPY_MODEL_e4cf6995bc0940b5b43102d6d6ec2bd5",
        "IPY_MODEL_1cff135639004d46acf84130281d086c",
        "IPY_MODEL_a7a7fc37bde94509abcc966a2ba75fb1",
        "IPY_MODEL_9cab4ac3debe46d7a88436f6b0103ed5",
        "IPY_MODEL_283c63c5ef19428fbb24ecce2b466c3c",
        "IPY_MODEL_05259fa016d44419bd906f9cbcfb2c7e"
       ],
       "layout": "IPY_MODEL_00084ec8704141e49fc806b8eab4f66e"
      }
     },
     "3b9d506ababa4550a31f1d807fad28f6": {
      "model_module": "@jupyter-widgets/controls",
      "model_module_version": "1.5.0",
      "model_name": "DropdownModel",
      "state": {
       "_options_labels": [
        "All",
        "H",
        "C"
       ],
       "description": "Show",
       "index": 0,
       "layout": "IPY_MODEL_3efaebca80d64649972b892eaa6e23c6",
       "style": "IPY_MODEL_3cb34e6c1eab48b4a0f221384999de55"
      }
     },
     "3bc5a303efc047bf8f52ac7c86d0c6cc": {
      "model_module": "@jupyter-widgets/base",
      "model_module_version": "1.2.0",
      "model_name": "LayoutModel",
      "state": {}
     },
     "3cb34e6c1eab48b4a0f221384999de55": {
      "model_module": "@jupyter-widgets/controls",
      "model_module_version": "1.5.0",
      "model_name": "DescriptionStyleModel",
      "state": {
       "description_width": ""
      }
     },
     "3d8bef3892d840f9a44f4a51da78ff65": {
      "model_module": "@jupyter-widgets/controls",
      "model_module_version": "1.5.0",
      "model_name": "ButtonStyleModel",
      "state": {}
     },
     "3e7571f90ec242f3906c029831d996b0": {
      "model_module": "@jupyter-widgets/controls",
      "model_module_version": "1.5.0",
      "model_name": "FloatSliderModel",
      "state": {
       "description": "Ball size",
       "layout": "IPY_MODEL_03d48c9d843d4c5db0cb153fee1b2229",
       "max": 1.5,
       "step": 0.01,
       "style": "IPY_MODEL_0615f7f1766b405fbcec58e7fd20784d",
       "value": 0.5
      }
     },
     "3e86ef319cf547df863fea8ac2138f0c": {
      "model_module": "@jupyter-widgets/controls",
      "model_module_version": "1.5.0",
      "model_name": "LinkModel",
      "state": {
       "source": [
        "IPY_MODEL_84bc932da93c4d2b953b3ae57c77314a",
        "max"
       ],
       "target": [
        "IPY_MODEL_25aebf8bd2224ee89c813ef74b1d2dc3",
        "max_frame"
       ]
      }
     },
     "3efaebca80d64649972b892eaa6e23c6": {
      "model_module": "@jupyter-widgets/base",
      "model_module_version": "1.2.0",
      "model_name": "LayoutModel",
      "state": {}
     },
     "3f64ce19d92a45048f2a1120716c34fe": {
      "model_module": "@jupyter-widgets/controls",
      "model_module_version": "1.5.0",
      "model_name": "ImageModel",
      "state": {
       "layout": "IPY_MODEL_5ca117497f9c4c08accf4cdcf7f42cde",
       "width": "900.0"
      }
     },
     "4011fdffb5634b5ba54898eddcab1791": {
      "model_module": "@jupyter-widgets/controls",
      "model_module_version": "1.5.0",
      "model_name": "SliderStyleModel",
      "state": {
       "description_width": ""
      }
     },
     "413e58e4761342f09063472bef1ba125": {
      "model_module": "nglview-js-widgets",
      "model_module_version": "3.0.1",
      "model_name": "NGLModel",
      "state": {
       "_camera_orientation": [
        43.23854650299199,
        0,
        0,
        0,
        0,
        43.23854650299199,
        0,
        0,
        0,
        0,
        43.23854650299199,
        0,
        -8.4975004196167,
        -3.58899986743927,
        -2.065500020980835,
        1
       ],
       "_camera_str": "orthographic",
       "_gui_theme": null,
       "_ibtn_fullscreen": "IPY_MODEL_7661a98181db49ca8d0716ae6be782ca",
       "_igui": null,
       "_iplayer": "IPY_MODEL_7b0a8f74b1be40e49c3faf90a83c7eb5",
       "_ngl_color_dict": {},
       "_ngl_coordinate_resource": {},
       "_ngl_full_stage_parameters": {
        "ambientColor": 14540253,
        "ambientIntensity": 0.2,
        "backgroundColor": "white",
        "cameraEyeSep": 0.3,
        "cameraFov": 40,
        "cameraType": "orthographic",
        "clipDist": 0,
        "clipFar": 100,
        "clipNear": 0,
        "fogFar": 100,
        "fogNear": 50,
        "hoverTimeout": 0,
        "impostor": true,
        "lightColor": 14540253,
        "lightIntensity": 1,
        "mousePreset": "default",
        "panSpeed": 1,
        "quality": "medium",
        "rotateSpeed": 2,
        "sampleLevel": 0,
        "tooltip": true,
        "workerDefault": true,
        "zoomSpeed": 1.2
       },
       "_ngl_msg_archive": [
        {
         "args": [
          {
           "binary": false,
           "data": "CRYST1   24.855   12.427    7.456 109.47 109.47 109.47 P 1\nMODEL     1\nATOM      1   Fe MOL     1       0.001   0.158   0.051  1.00  0.00          FE  \nATOM      2   Fe MOL     1      -1.058  -1.066   2.212  1.00  0.00          FE  \nATOM      3   Fe MOL     1      -1.805  -2.354   4.391  1.00  0.00          FE  \nATOM      4   Fe MOL     1      -0.998   2.349   0.011  1.00  0.00          FE  \nATOM      5   Fe MOL     1      -2.105   1.066   1.793  1.00  0.00          FE  \nATOM      6   Fe MOL     1      -2.501   0.088   3.836  1.00  0.00          FE  \nATOM      7   Fe MOL     1      -1.546   4.967  -0.328  1.00  0.00          FE  \nATOM      8   Fe MOL     1      -2.616   3.258   2.007  1.00  0.00          FE  \nATOM      9   Fe MOL     1      -3.371   2.102   3.997  1.00  0.00          FE  \nATOM     10   Fe MOL     1      -2.632   7.062  -0.032  1.00  0.00          FE  \nATOM     11   Fe MOL     1      -3.032   5.656   2.206  1.00  0.00          FE  \nATOM     12   Fe MOL     1      -4.066   4.334   4.026  1.00  0.00          FE  \nATOM     13   Fe MOL     1      -3.718   9.334  -0.248  1.00  0.00          FE  \nATOM     14   Fe MOL     1      -4.060   8.185   2.162  1.00  0.00          FE  \nATOM     15   Fe MOL     1      -5.163   6.804   4.000  1.00  0.00          FE  \nATOM     16   Fe MOL     1       2.637   0.151  -0.167  1.00  0.00          FE  \nATOM     17   Fe MOL     1       1.451  -0.947   1.829  1.00  0.00          FE  \nATOM     18   Fe MOL     1       0.865  -2.220   3.909  1.00  0.00          FE  \nATOM     19   Fe MOL     1       1.549   2.214   0.278  1.00  0.00          FE  \nATOM     20   Fe MOL     1       1.015   1.279   2.033  1.00  0.00          FE  \nATOM     21   Fe MOL     1      -0.094  -0.205   3.965  1.00  0.00          FE  \nATOM     22   Fe MOL     1       1.217   4.744  -0.054  1.00  0.00          FE  \nATOM     23   Fe MOL     1       0.166   3.486   2.161  1.00  0.00          FE  \nATOM     24   Fe MOL     1      -0.535   2.512   4.019  1.00  0.00          FE  \nATOM     25   Fe MOL     1      -0.118   6.472   0.216  1.00  0.00          FE  \nATOM     26   Fe MOL     1      -0.948   5.870   2.158  1.00  0.00          FE  \nATOM     27   Fe MOL     1      -1.922   4.821   3.791  1.00  0.00          FE  \nATOM     28   Fe MOL     1      -0.759   9.197   0.260  1.00  0.00          FE  \nATOM     29   Fe MOL     1      -1.516   8.326   1.844  1.00  0.00          FE  \nATOM     30   Fe MOL     1      -2.525   7.184   4.030  1.00  0.00          FE  \nATOM     31   Fe MOL     1       4.991  -0.186   0.151  1.00  0.00          FE  \nATOM     32   Fe MOL     1       3.966  -1.405   1.928  1.00  0.00          FE  \nATOM     33   Fe MOL     1       3.311  -2.340   4.138  1.00  0.00          FE  \nATOM     34   Fe MOL     1       3.958   2.371  -0.233  1.00  0.00          FE  \nATOM     35   Fe MOL     1       3.242   1.183   1.867  1.00  0.00          FE  \nATOM     36   Fe MOL     1       2.677  -0.093   4.383  1.00  0.00          FE  \nATOM     37   Fe MOL     1       3.054   4.400   0.026  1.00  0.00          FE  \nATOM     38   Fe MOL     1       2.780   3.910   2.034  1.00  0.00          FE  \nATOM     39   Fe MOL     1       1.710   2.297   4.074  1.00  0.00          FE  \nATOM     40   Fe MOL     1       2.839   6.964  -0.004  1.00  0.00          FE  \nATOM     41   Fe MOL     1       1.623   6.226   2.013  1.00  0.00          FE  \nATOM     42   Fe MOL     1       1.311   4.882   3.944  1.00  0.00          FE  \nATOM     43   Fe MOL     1       1.717   9.355  -0.220  1.00  0.00          FE  \nATOM     44   Fe MOL     1       0.715   8.298   1.739  1.00  0.00          FE  \nATOM     45   Fe MOL     1       0.071   6.754   3.976  1.00  0.00          FE  \nATOM     46   Fe MOL     1       7.150   0.138   0.108  1.00  0.00          FE  \nATOM     47   Fe MOL     1       6.418  -0.968   1.970  1.00  0.00          FE  \nATOM     48   Fe MOL     1       5.484  -2.075   4.016  1.00  0.00          FE  \nATOM     49   Fe MOL     1       6.545   2.099   0.147  1.00  0.00          FE  \nATOM     50   Fe MOL     1       6.047   1.070   1.916  1.00  0.00          FE  \nATOM     51   Fe MOL     1       4.904  -0.119   4.143  1.00  0.00          FE  \nATOM     52   Fe MOL     1       5.724   4.565   0.074  1.00  0.00          FE  \nATOM     53   Fe MOL     1       4.673   3.434   2.360  1.00  0.00          FE  \nATOM     54   Fe MOL     1       4.045   2.605   4.014  1.00  0.00          FE  \nATOM     55   Fe MOL     1       4.854   7.349   0.048  1.00  0.00          FE  \nATOM     56   Fe MOL     1       4.409   6.135   2.204  1.00  0.00          FE  \nATOM     57   Fe MOL     1       3.153   4.583   3.917  1.00  0.00          FE  \nATOM     58   Fe MOL     1       4.267   9.369  -0.126  1.00  0.00          FE  \nATOM     59   Fe MOL     1       3.379   8.159   2.186  1.00  0.00          FE  \nATOM     60   Fe MOL     1       2.601   7.615   4.227  1.00  0.00          FE  \nATOM     61   Fe MOL     1       9.647  -0.054  -0.033  1.00  0.00          FE  \nATOM     62   Fe MOL     1       9.114  -0.997   2.066  1.00  0.00          FE  \nATOM     63   Fe MOL     1       8.124  -2.437   4.115  1.00  0.00          FE  \nATOM     64   Fe MOL     1       9.336   2.396  -0.277  1.00  0.00          FE  \nATOM     65   Fe MOL     1       8.136   1.319   1.883  1.00  0.00          FE  \nATOM     66   Fe MOL     1       7.328   0.129   3.988  1.00  0.00          FE  \nATOM     67   Fe MOL     1       8.188   4.843  -0.153  1.00  0.00          FE  \nATOM     68   Fe MOL     1       7.638   3.644   2.262  1.00  0.00          FE  \nATOM     69   Fe MOL     1       6.738   2.392   3.731  1.00  0.00          FE  \nATOM     70   Fe MOL     1       7.901   7.659   0.145  1.00  0.00          FE  \nATOM     71   Fe MOL     1       6.803   5.968   2.271  1.00  0.00          FE  \nATOM     72   Fe MOL     1       5.776   4.890   4.106  1.00  0.00          FE  \nATOM     73   Fe MOL     1       6.634   9.250  -0.143  1.00  0.00          FE  \nATOM     74   Fe MOL     1       5.842   7.714   2.368  1.00  0.00          FE  \nATOM     75   Fe MOL     1       4.651   7.141   3.928  1.00  0.00          FE  \nATOM     76   Fe MOL     1      12.185  -0.092   0.163  1.00  0.00          FE  \nATOM     77   Fe MOL     1      11.676  -1.405   2.024  1.00  0.00          FE  \nATOM     78   Fe MOL     1      10.675  -2.436   4.096  1.00  0.00          FE  \nATOM     79   Fe MOL     1      11.191   2.136   0.393  1.00  0.00          FE  \nATOM     80   Fe MOL     1      10.771   1.380   1.962  1.00  0.00          FE  \nATOM     81   Fe MOL     1      10.079   0.027   3.930  1.00  0.00          FE  \nATOM     82   Fe MOL     1      10.493   4.801  -0.047  1.00  0.00          FE  \nATOM     83   Fe MOL     1      10.125   3.818   1.870  1.00  0.00          FE  \nATOM     84   Fe MOL     1       9.027   2.629   3.938  1.00  0.00          FE  \nATOM     85   Fe MOL     1       9.641   6.871   0.446  1.00  0.00          FE  \nATOM     86   Fe MOL     1       9.234   5.600   2.140  1.00  0.00          FE  \nATOM     87   Fe MOL     1       8.216   4.508   4.231  1.00  0.00          FE  \nATOM     88   Fe MOL     1       8.628   9.466  -0.467  1.00  0.00          FE  \nATOM     89   Fe MOL     1       8.359   8.550   1.817  1.00  0.00          FE  \nATOM     90   Fe MOL     1       7.586   6.971   3.794  1.00  0.00          FE  \nATOM     91   Fe MOL     1      14.715   0.425   0.001  1.00  0.00          FE  \nATOM     92   Fe MOL     1      14.023  -1.015   1.892  1.00  0.00          FE  \nATOM     93   Fe MOL     1      13.172  -2.267   4.002  1.00  0.00          FE  \nATOM     94   Fe MOL     1      14.219   2.411  -0.038  1.00  0.00          FE  \nATOM     95   Fe MOL     1      13.176   1.751   2.079  1.00  0.00          FE  \nATOM     96   Fe MOL     1      12.703  -0.051   3.761  1.00  0.00          FE  \nATOM     97   Fe MOL     1      13.128   4.726  -0.048  1.00  0.00          FE  \nATOM     98   Fe MOL     1      12.514   3.662   1.876  1.00  0.00          FE  \nATOM     99   Fe MOL     1      11.582   2.576   4.011  1.00  0.00          FE  \nATOM    100   Fe MOL     1      12.559   7.092   0.158  1.00  0.00          FE  \nATOM    101   Fe MOL     1      11.716   5.958   1.833  1.00  0.00          FE  \nATOM    102   Fe MOL     1      10.711   4.757   4.142  1.00  0.00          FE  \nATOM    103   Fe MOL     1      11.446   9.615   0.097  1.00  0.00          FE  \nATOM    104   Fe MOL     1      10.896   8.382   1.970  1.00  0.00          FE  \nATOM    105   Fe MOL     1      10.091   7.244   4.291  1.00  0.00          FE  \nATOM    106   Fe MOL     1      17.439  -0.105   0.099  1.00  0.00          FE  \nATOM    107   Fe MOL     1      16.529  -1.119   2.057  1.00  0.00          FE  \nATOM    108   Fe MOL     1      15.820  -1.886   4.027  1.00  0.00          FE  \nATOM    109   Fe MOL     1      16.680   2.549  -0.314  1.00  0.00          FE  \nATOM    110   Fe MOL     1      15.795   1.288   2.230  1.00  0.00          FE  \nATOM    111   Fe MOL     1      14.820   0.085   3.930  1.00  0.00          FE  \nATOM    112   Fe MOL     1      15.915   4.528   0.042  1.00  0.00          FE  \nATOM    113   Fe MOL     1      15.019   3.541   1.867  1.00  0.00          FE  \nATOM    114   Fe MOL     1      14.083   2.404   3.863  1.00  0.00          FE  \nATOM    115   Fe MOL     1      14.772   7.015  -0.037  1.00  0.00          FE  \nATOM    116   Fe MOL     1      13.728   5.766   1.857  1.00  0.00          FE  \nATOM    117   Fe MOL     1      13.350   4.696   3.927  1.00  0.00          FE  \nATOM    118   Fe MOL     1      13.995   9.398   0.330  1.00  0.00          FE  \nATOM    119   Fe MOL     1      13.140   8.279   1.885  1.00  0.00          FE  \nATOM    120   Fe MOL     1      12.403   6.845   4.064  1.00  0.00          FE  \nATOM    121   Fe MOL     1      19.988  -0.101   0.290  1.00  0.00          FE  \nATOM    122   Fe MOL     1      19.042  -1.261   2.184  1.00  0.00          FE  \nATOM    123   Fe MOL     1      18.214  -2.310   4.092  1.00  0.00          FE  \nATOM    124   Fe MOL     1      19.205   2.360  -0.106  1.00  0.00          FE  \nATOM    125   Fe MOL     1      18.419   1.563   2.370  1.00  0.00          FE  \nATOM    126   Fe MOL     1      17.609  -0.104   4.074  1.00  0.00          FE  \nATOM    127   Fe MOL     1      17.784   4.794   0.195  1.00  0.00          FE  \nATOM    128   Fe MOL     1      17.162   3.554   1.644  1.00  0.00          FE  \nATOM    129   Fe MOL     1      16.714   2.325   3.973  1.00  0.00          FE  \nATOM    130   Fe MOL     1      17.225   7.011   0.400  1.00  0.00          FE  \nATOM    131   Fe MOL     1      16.578   5.529   1.972  1.00  0.00          FE  \nATOM    132   Fe MOL     1      15.612   4.663   4.485  1.00  0.00          FE  \nATOM    133   Fe MOL     1      16.911   9.104  -0.051  1.00  0.00          FE  \nATOM    134   Fe MOL     1      15.345   8.335   1.979  1.00  0.00          FE  \nATOM    135   Fe MOL     1      14.866   6.953   4.066  1.00  0.00          FE  \nATOM    136   Fe MOL     1      22.158   0.115  -0.063  1.00  0.00          FE  \nATOM    137   Fe MOL     1      21.669  -1.088   2.119  1.00  0.00          FE  \nATOM    138   Fe MOL     1      20.813  -2.101   3.683  1.00  0.00          FE  \nATOM    139   Fe MOL     1      21.595   2.685  -0.059  1.00  0.00          FE  \nATOM    140   Fe MOL     1      20.843   1.096   2.213  1.00  0.00          FE  \nATOM    141   Fe MOL     1      19.820  -0.016   4.598  1.00  0.00          FE  \nATOM    142   Fe MOL     1      20.833   4.937   0.229  1.00  0.00          FE  \nATOM    143   Fe MOL     1      20.197   3.553   1.990  1.00  0.00          FE  \nATOM    144   Fe MOL     1      18.886   1.963   3.643  1.00  0.00          FE  \nATOM    145   Fe MOL     1      20.171   7.195   0.063  1.00  0.00          FE  \nATOM    146   Fe MOL     1      19.076   5.506   2.270  1.00  0.00          FE  \nATOM    147   Fe MOL     1      18.462   4.615   3.810  1.00  0.00          FE  \nATOM    148   Fe MOL     1      18.810   9.525  -0.297  1.00  0.00          FE  \nATOM    149   Fe MOL     1      18.497   8.100   1.940  1.00  0.00          FE  \nATOM    150   Fe MOL     1      17.325   6.822   3.853  1.00  0.00          FE  \nENDMDL\n",
           "type": "blob"
          }
         ],
         "kwargs": {
          "defaultRepresentation": false,
          "ext": "pdb"
         },
         "methodName": "loadFile",
         "reconstruc_color_scheme": false,
         "target": "Stage",
         "type": "call_method"
        },
        {
         "args": [
          "500px",
          "500px"
         ],
         "kwargs": {},
         "methodName": "setSize",
         "reconstruc_color_scheme": false,
         "target": "Widget",
         "type": "call_method"
        },
        {
         "args": [
          "unitcell"
         ],
         "component_index": 0,
         "kwargs": {
          "sele": "all"
         },
         "methodName": "addRepresentation",
         "reconstruc_color_scheme": false,
         "target": "compList",
         "type": "call_method"
        },
        {
         "args": [
          "spacefill"
         ],
         "component_index": 0,
         "kwargs": {
          "sele": "all"
         },
         "methodName": "addRepresentation",
         "reconstruc_color_scheme": false,
         "target": "compList",
         "type": "call_method"
        },
        {
         "args": [],
         "kwargs": {
          "cameraType": "orthographic"
         },
         "methodName": "setParameters",
         "reconstruc_color_scheme": false,
         "target": "Stage",
         "type": "call_method"
        },
        {
         "args": [
          {
           "clipDist": 0
          }
         ],
         "kwargs": {},
         "methodName": "setParameters",
         "reconstruc_color_scheme": false,
         "target": "Widget",
         "type": "call_method"
        },
        {
         "args": [
          "spacefill",
          0
         ],
         "kwargs": {
          "colorScale": "rainbow",
          "colorScheme": "element",
          "radiusScale": 0.5,
          "radiusType": "covalent"
         },
         "methodName": "updateRepresentationsByName",
         "reconstruc_color_scheme": false,
         "target": "Widget",
         "type": "call_method"
        },
        {
         "args": [
          "this._Q = [[-0.5773502691896257, 0.5773502691896257, 0.5773502691896257], [0.40824829046386313, -0.408248290463863, 0.8164965809277261], [0.7071067811865476, 0.7071067811865477, -2.6638240557478837e-16]]\n    var tooltip = document.createElement('div');\n    Object.assign(tooltip.style, {\n      display: 'none',\n      position: 'fixed',\n      zIndex: 10,\n      pointerEvents: 'none',\n      backgroundColor: 'rgba( 0, 0, 0, 0.6 )',\n      color: 'lightgrey',\n      padding: '8px',\n      fontFamily: 'sans-serif'\n    });\n    document.body.appendChild(tooltip);\n\n    var that = this;\n    this.stage.mouseControls.remove('hoverPick');\n    this.stage.signals.hovered.add(function (pickingProxy) {\n      if (pickingProxy && (pickingProxy.atom || pickingProxy.bond)) {\n        var atom = pickingProxy.atom || pickingProxy.closestBondAtom\n        var mp = pickingProxy.mouse.position\n        //tooltip.innerText = atom.element + ' i=' + atom.index + ' (' + atom.x.toFixed(2) +  ', ' + atom.y.toFixed(2) +  ', ' + atom.z.toFixed(2) + ')'\n        //var pos = that._atoms_pos[atom.index]\n        var Q = that._Q\n        var pos_x = Q[0][0] * atom.x + Q[0][1] * atom.y + Q[0][2] * atom.z \n        var pos_y = Q[1][0] * atom.x + Q[1][1] * atom.y + Q[1][2] * atom.z\n        var pos_z = Q[2][0] * atom.x + Q[2][1] * atom.y + Q[2][2] * atom.z\n        tooltip.innerText = 'i=' + atom.index + ' ' + atom.element + ' (' + pos_x.toFixed(2) +  ', ' + pos_y.toFixed(2) +  ', ' + pos_z.toFixed(2) + ')'\n        tooltip.style.bottom = window.innerHeight - mp.y + 3 + 'px'\n        tooltip.style.left = mp.x + 3 + 'px'\n        tooltip.style.display = 'block'\n      } else {\n        tooltip.style.display = 'none'\n      }\n    });\n    this.stage.tooltip = tooltip;\n    "
         ],
         "kwargs": {},
         "methodName": "executeCode",
         "reconstruc_color_scheme": false,
         "target": "Widget",
         "type": "call_method"
        }
       ],
       "_ngl_original_stage_parameters": {
        "ambientColor": 14540253,
        "ambientIntensity": 0.2,
        "backgroundColor": "white",
        "cameraEyeSep": 0.3,
        "cameraFov": 40,
        "cameraType": "perspective",
        "clipDist": 10,
        "clipFar": 100,
        "clipNear": 0,
        "fogFar": 100,
        "fogNear": 50,
        "hoverTimeout": 0,
        "impostor": true,
        "lightColor": 14540253,
        "lightIntensity": 1,
        "mousePreset": "default",
        "panSpeed": 1,
        "quality": "medium",
        "rotateSpeed": 2,
        "sampleLevel": 0,
        "tooltip": true,
        "workerDefault": true,
        "zoomSpeed": 1.2
       },
       "_ngl_repr_dict": {
        "0": {
         "0": {
          "params": {
           "clipCenter": {
            "x": 0,
            "y": 0,
            "z": 0
           },
           "clipNear": 0,
           "clipRadius": 0,
           "colorMode": "hcl",
           "colorReverse": false,
           "colorScale": "",
           "colorScheme": "element",
           "colorValue": "orange",
           "defaultAssembly": "",
           "depthWrite": true,
           "diffuse": 16777215,
           "diffuseInterior": false,
           "disableImpostor": false,
           "disablePicking": false,
           "flatShaded": false,
           "interiorColor": 2236962,
           "interiorDarkening": 0,
           "lazy": false,
           "matrix": {
            "elements": [
             1,
             0,
             0,
             0,
             0,
             1,
             0,
             0,
             0,
             0,
             1,
             0,
             0,
             0,
             0,
             1
            ]
           },
           "metalness": 0,
           "opacity": 1,
           "quality": "medium",
           "radialSegments": 10,
           "radiusData": {},
           "radiusScale": 1,
           "radiusSize": 0.060530615719461334,
           "radiusType": "vdw",
           "roughness": 0.4,
           "sele": "all",
           "side": "double",
           "sphereDetail": 1,
           "useInteriorColor": true,
           "visible": true,
           "wireframe": false
          },
          "type": "unitcell"
         },
         "1": {
          "params": {
           "assembly": "default",
           "clipCenter": {
            "x": 0,
            "y": 0,
            "z": 0
           },
           "clipNear": 0,
           "clipRadius": 0,
           "colorMode": "hcl",
           "colorReverse": false,
           "colorScale": "rainbow",
           "colorScheme": "element",
           "colorValue": 9474192,
           "defaultAssembly": "",
           "depthWrite": true,
           "diffuse": 16777215,
           "diffuseInterior": false,
           "disableImpostor": false,
           "disablePicking": false,
           "flatShaded": false,
           "interiorColor": 2236962,
           "interiorDarkening": 0,
           "lazy": false,
           "matrix": {
            "elements": [
             1,
             0,
             0,
             0,
             0,
             1,
             0,
             0,
             0,
             0,
             1,
             0,
             0,
             0,
             0,
             1
            ]
           },
           "metalness": 0,
           "opacity": 1,
           "quality": "medium",
           "radiusData": {},
           "radiusScale": 0.5,
           "radiusSize": 1,
           "radiusType": "covalent",
           "roughness": 0.4,
           "sele": "all",
           "side": "double",
           "sphereDetail": 1,
           "useInteriorColor": true,
           "visible": true,
           "wireframe": false
          },
          "type": "spacefill"
         }
        }
       },
       "_ngl_serialize": false,
       "_ngl_version": "2.0.0-dev.36",
       "_ngl_view_id": [
        "D63ECE8B-5108-4FDC-8F90-61A621204977"
       ],
       "_player_dict": {},
       "_scene_position": {},
       "_scene_rotation": {},
       "_synced_model_ids": [],
       "_synced_repr_model_ids": [],
       "_view_height": "",
       "_view_width": "",
       "background": "white",
       "frame": 0,
       "gui_style": null,
       "layout": "IPY_MODEL_24db1ee5ed1e456bb80bf10106afe77a",
       "max_frame": 0,
       "n_components": 1,
       "picked": {}
      }
     },
     "41c53160940c47258dd0ba595b963c4d": {
      "model_module": "@jupyter-widgets/controls",
      "model_module_version": "1.5.0",
      "model_name": "SliderStyleModel",
      "state": {
       "description_width": ""
      }
     },
     "41fcf11d75cb4ef38786b0983a5e090a": {
      "model_module": "@jupyter-widgets/base",
      "model_module_version": "1.2.0",
      "model_name": "LayoutModel",
      "state": {
       "width": "34px"
      }
     },
     "4214bcda2b3248c3bbee8f4e2c8f92e7": {
      "model_module": "@jupyter-widgets/output",
      "model_module_version": "1.0.0",
      "model_name": "OutputModel",
      "state": {
       "layout": "IPY_MODEL_331a385c91bb4a0e9eec26168c1bf058"
      }
     },
     "42237298c2b045f99d587aebc2c028c9": {
      "model_module": "@jupyter-widgets/controls",
      "model_module_version": "1.5.0",
      "model_name": "ButtonModel",
      "state": {
       "icon": "compress",
       "layout": "IPY_MODEL_dc09e081bbe2462e8bd4b36306a3e85e",
       "style": "IPY_MODEL_822cc43237f44f2e9b034b32fbb3936b"
      }
     },
     "42700bee2a444e839d6b13c75657f165": {
      "model_module": "@jupyter-widgets/controls",
      "model_module_version": "1.5.0",
      "model_name": "ButtonStyleModel",
      "state": {}
     },
     "429ce1c769104195a37c8ad82a8f9cef": {
      "model_module": "@jupyter-widgets/controls",
      "model_module_version": "1.5.0",
      "model_name": "HBoxModel",
      "state": {
       "children": [
        "IPY_MODEL_84bc932da93c4d2b953b3ae57c77314a",
        "IPY_MODEL_b5a7e30cb0f94059a55ea3c68d9cbd04"
       ],
       "layout": "IPY_MODEL_921ba9fa73d14094a74ca27d6b64b520"
      }
     },
     "454e5cd30c424419a7aadb8e76e51c6f": {
      "model_module": "@jupyter-widgets/base",
      "model_module_version": "1.2.0",
      "model_name": "LayoutModel",
      "state": {}
     },
     "45ae5f0c84dc4bac909356fc1a6d200c": {
      "model_module": "@jupyter-widgets/controls",
      "model_module_version": "1.5.0",
      "model_name": "ImageModel",
      "state": {
       "layout": "IPY_MODEL_f705775d1a5645f9ae22ce46d24f1626",
       "width": "900.0"
      }
     },
     "463c6a92f98d46e9b8d5c2fb6d14083d": {
      "model_module": "@jupyter-widgets/controls",
      "model_module_version": "1.5.0",
      "model_name": "FloatSliderModel",
      "state": {
       "description": "Ball size",
       "layout": "IPY_MODEL_47ef0da829bd4e4f99dd3651b047fd2b",
       "max": 1.5,
       "step": 0.01,
       "style": "IPY_MODEL_fd68a7cf181a4dd38affb3370cee9cfb",
       "value": 0.5
      }
     },
     "46e26a44e8874102945286d2f539cd5d": {
      "model_module": "@jupyter-widgets/controls",
      "model_module_version": "1.5.0",
      "model_name": "LinkModel",
      "state": {
       "source": [
        "IPY_MODEL_1448734ba2434432b7fd91724f2718fa",
        "max"
       ],
       "target": [
        "IPY_MODEL_7c8419434b294e5dba07aa47192994f1",
        "max_frame"
       ]
      }
     },
     "47ef0da829bd4e4f99dd3651b047fd2b": {
      "model_module": "@jupyter-widgets/base",
      "model_module_version": "1.2.0",
      "model_name": "LayoutModel",
      "state": {}
     },
     "487757143f51498f908d70e342103583": {
      "model_module": "@jupyter-widgets/controls",
      "model_module_version": "1.5.0",
      "model_name": "HBoxModel",
      "state": {
       "children": [
        "IPY_MODEL_81462c4f5add41a2b3eb13594346df68",
        "IPY_MODEL_afd12e8fe1684452a2f3c3c8c2b7fc6e"
       ],
       "layout": "IPY_MODEL_52f9b0867e6742ec83c62fd2468d299a"
      }
     },
     "49a3546f239b463bb5f525e93bc36579": {
      "model_module": "@jupyter-widgets/controls",
      "model_module_version": "1.5.0",
      "model_name": "HBoxModel",
      "state": {
       "children": [
        "IPY_MODEL_8a2083bc2a874e2a8e3c1c7ec887796b",
        "IPY_MODEL_0da577b23a4e4dc698d0f455a0bdd7be"
       ],
       "layout": "IPY_MODEL_0af9985cbe1f4a39aaff65d7fb1e10de"
      }
     },
     "4b121e1b4d314c4a82ea51ff4f06dfb2": {
      "model_module": "@jupyter-widgets/controls",
      "model_module_version": "1.5.0",
      "model_name": "ButtonStyleModel",
      "state": {}
     },
     "4bce06a767a94b9489ae02c48aefb604": {
      "model_module": "@jupyter-widgets/controls",
      "model_module_version": "1.5.0",
      "model_name": "CheckboxModel",
      "state": {
       "description": "Show force",
       "disabled": false,
       "layout": "IPY_MODEL_bdd72598ead34c719346c9df5b35d415",
       "style": "IPY_MODEL_36917eb832714dc3a3ba4b91ba9dca02",
       "value": false
      }
     },
     "4c25fed232004bebb2dce0d3ed91e456": {
      "model_module": "@jupyter-widgets/controls",
      "model_module_version": "1.5.0",
      "model_name": "DropdownModel",
      "state": {
       "_options_labels": [
        " ",
        "picking",
        "random",
        "uniform",
        "atomindex",
        "residueindex",
        "chainindex",
        "modelindex",
        "sstruc",
        "element",
        "resname",
        "bfactor",
        "hydrophobicity",
        "value",
        "volume",
        "occupancy"
       ],
       "description": "Color scheme",
       "index": 9,
       "layout": "IPY_MODEL_ade1a8b062c4463b963598d533ce2864",
       "style": "IPY_MODEL_c538518ca4574615bc64a828dca4b969"
      }
     },
     "4c427797e3fe4374ae361bfb8f653bdd": {
      "model_module": "@jupyter-widgets/base",
      "model_module_version": "1.2.0",
      "model_name": "LayoutModel",
      "state": {}
     },
     "4d3edda95a1b4ecf8f3cb90d4cdc5707": {
      "model_module": "@jupyter-widgets/base",
      "model_module_version": "1.2.0",
      "model_name": "LayoutModel",
      "state": {}
     },
     "4d4bd03b80d84469bb6641345f5cefb1": {
      "model_module": "@jupyter-widgets/controls",
      "model_module_version": "1.5.0",
      "model_name": "LinkModel",
      "state": {
       "source": [
        "IPY_MODEL_c52d92fc56054803be1cafd344bc2132",
        "max"
       ],
       "target": [
        "IPY_MODEL_a80572f4629546a9bd9bad141bbc1155",
        "max_frame"
       ]
      }
     },
     "4fbc0d836c824430b3f5f9b777e6a3de": {
      "model_module": "@jupyter-widgets/base",
      "model_module_version": "1.2.0",
      "model_name": "LayoutModel",
      "state": {}
     },
     "513d1f9c594c4c4cbfc315bf59070e97": {
      "model_module": "@jupyter-widgets/controls",
      "model_module_version": "1.5.0",
      "model_name": "VBoxModel",
      "state": {
       "children": [
        "IPY_MODEL_9ff58f3fa156486f9c0423e7e7cc92fa",
        "IPY_MODEL_a1c5749cbfa94b27965fbcbf96d89e80",
        "IPY_MODEL_6b49a5b8a69e4e1da42a0fd45a192a2c",
        "IPY_MODEL_91a378159b3643d89512be4d0419201f",
        "IPY_MODEL_66f9afe8fe0f446d92a6f612c22465d4",
        "IPY_MODEL_96cdab6065e64ccb921ce89e42e9d12f",
        "IPY_MODEL_1be3ffc04572422f9fa1b3e6e2290592",
        "IPY_MODEL_694d89add37f4cbf8f4630d43e6b350c",
        "IPY_MODEL_a5f13a235401477899f39f0c2c736ad6",
        "IPY_MODEL_dc42af8f3b444e1e933117c25bcdebd0"
       ],
       "layout": "IPY_MODEL_f31a04020ceb4133b88502d64c8f08cf"
      }
     },
     "5170424d444449faa689c66e43eb91b9": {
      "model_module": "@jupyter-widgets/base",
      "model_module_version": "1.2.0",
      "model_name": "LayoutModel",
      "state": {}
     },
     "51f39778b16946bb80cd21bd9f864040": {
      "model_module": "@jupyter-widgets/controls",
      "model_module_version": "1.5.0",
      "model_name": "LinkModel",
      "state": {
       "source": [
        "IPY_MODEL_b67aa2cd76c24255a23354fa1e3d13a7",
        "max"
       ],
       "target": [
        "IPY_MODEL_413e58e4761342f09063472bef1ba125",
        "max_frame"
       ]
      }
     },
     "52f9b0867e6742ec83c62fd2468d299a": {
      "model_module": "@jupyter-widgets/base",
      "model_module_version": "1.2.0",
      "model_name": "LayoutModel",
      "state": {}
     },
     "53293eb4055f4ed5b4a0aa8b451fce44": {
      "model_module": "@jupyter-widgets/controls",
      "model_module_version": "1.5.0",
      "model_name": "SliderStyleModel",
      "state": {
       "description_width": ""
      }
     },
     "5361535c14f0472fa427ee5ec1da4ae3": {
      "model_module": "@jupyter-widgets/controls",
      "model_module_version": "1.5.0",
      "model_name": "ButtonStyleModel",
      "state": {}
     },
     "539e29a8671047f99499c6bec1b92397": {
      "model_module": "@jupyter-widgets/base",
      "model_module_version": "1.2.0",
      "model_name": "LayoutModel",
      "state": {}
     },
     "53f22786ddd04f418a571e826745abdc": {
      "model_module": "@jupyter-widgets/controls",
      "model_module_version": "1.5.0",
      "model_name": "DescriptionStyleModel",
      "state": {
       "description_width": ""
      }
     },
     "56b6be6323794fa29b110439a515aaf4": {
      "model_module": "@jupyter-widgets/controls",
      "model_module_version": "1.5.0",
      "model_name": "SliderStyleModel",
      "state": {
       "description_width": ""
      }
     },
     "570dc7727b5a474caab703c80e4f1320": {
      "model_module": "@jupyter-widgets/base",
      "model_module_version": "1.2.0",
      "model_name": "LayoutModel",
      "state": {}
     },
     "576db9bfaea2413c8b55245670d71686": {
      "model_module": "@jupyter-widgets/controls",
      "model_module_version": "1.5.0",
      "model_name": "LinkModel",
      "state": {
       "source": [
        "IPY_MODEL_c52d92fc56054803be1cafd344bc2132",
        "value"
       ],
       "target": [
        "IPY_MODEL_c65ae949b1b14375aac26cdb3e65f34a",
        "value"
       ]
      }
     },
     "5944834a3de145bd98db52668104d537": {
      "model_module": "@jupyter-widgets/controls",
      "model_module_version": "1.5.0",
      "model_name": "SliderStyleModel",
      "state": {
       "description_width": ""
      }
     },
     "5b64d123c8bf4a52b0589beabdd4543e": {
      "model_module": "@jupyter-widgets/controls",
      "model_module_version": "1.5.0",
      "model_name": "ButtonStyleModel",
      "state": {}
     },
     "5bcd1c9f77fd4dcf85514b7a621554ba": {
      "model_module": "@jupyter-widgets/base",
      "model_module_version": "1.2.0",
      "model_name": "LayoutModel",
      "state": {}
     },
     "5c38524fa11b4e68916511c19b6996a4": {
      "model_module": "@jupyter-widgets/base",
      "model_module_version": "1.2.0",
      "model_name": "LayoutModel",
      "state": {}
     },
     "5ca117497f9c4c08accf4cdcf7f42cde": {
      "model_module": "@jupyter-widgets/base",
      "model_module_version": "1.2.0",
      "model_name": "LayoutModel",
      "state": {}
     },
     "5d1bdea963ed428f8e50b1440a0e41bc": {
      "model_module": "@jupyter-widgets/base",
      "model_module_version": "1.2.0",
      "model_name": "LayoutModel",
      "state": {}
     },
     "5d38feb355ed47c9b72d9ff263fcb399": {
      "model_module": "@jupyter-widgets/controls",
      "model_module_version": "1.5.0",
      "model_name": "ImageModel",
      "state": {
       "layout": "IPY_MODEL_5d1bdea963ed428f8e50b1440a0e41bc",
       "width": "900.0"
      }
     },
     "5d5142fcef2349459f0273e1aa234d19": {
      "model_module": "@jupyter-widgets/base",
      "model_module_version": "1.2.0",
      "model_name": "LayoutModel",
      "state": {}
     },
     "5ed55e8251e144ba83d709ca19444130": {
      "model_module": "@jupyter-widgets/base",
      "model_module_version": "1.2.0",
      "model_name": "LayoutModel",
      "state": {
       "width": "34px"
      }
     },
     "5ee38e2cf9104277aca73ae08999f79b": {
      "model_module": "@jupyter-widgets/controls",
      "model_module_version": "1.5.0",
      "model_name": "TextModel",
      "state": {
       "description": "Filename: ",
       "layout": "IPY_MODEL_085b3993b47c46828cdcec02e050aec5",
       "style": "IPY_MODEL_9fcb865e083245e9808420ec2f02114e",
       "value": "screenshot.png"
      }
     },
     "5ee4c461b103445cbcedb4c246fb3b45": {
      "model_module": "@jupyter-widgets/base",
      "model_module_version": "1.2.0",
      "model_name": "LayoutModel",
      "state": {}
     },
     "5f3c2d88e1594b9397d27dde77075de3": {
      "model_module": "@jupyter-widgets/controls",
      "model_module_version": "1.5.0",
      "model_name": "HBoxModel",
      "state": {
       "children": [
        "IPY_MODEL_413e58e4761342f09063472bef1ba125",
        "IPY_MODEL_513d1f9c594c4c4cbfc315bf59070e97"
       ],
       "layout": "IPY_MODEL_e54acfcc3d554408a816d389c94d4a3e"
      }
     },
     "5f5d84b7962c4d748605bdd745c5fd34": {
      "model_module": "@jupyter-widgets/controls",
      "model_module_version": "1.5.0",
      "model_name": "SliderStyleModel",
      "state": {
       "description_width": ""
      }
     },
     "6039931c97bd46b38684ea9f6329612c": {
      "model_module": "@jupyter-widgets/controls",
      "model_module_version": "1.5.0",
      "model_name": "HTMLModel",
      "state": {
       "layout": "IPY_MODEL_d2d9ee0fec114ca1a585d2328c76aad5",
       "style": "IPY_MODEL_9d646f383493403c84071738fbc5fdd3",
       "value": " 5/5 [00:06&lt;00:00,  1.06s/it]"
      }
     },
     "604f3eb3158d4064be545d2b2734979f": {
      "model_module": "@jupyter-widgets/controls",
      "model_module_version": "1.5.0",
      "model_name": "LinkModel",
      "state": {
       "source": [
        "IPY_MODEL_6e7c9a2ff64247e2a3c4e36edefbc59e",
        "value"
       ],
       "target": [
        "IPY_MODEL_7c8419434b294e5dba07aa47192994f1",
        "frame"
       ]
      }
     },
     "6053d2c3c89c453c879a7b80462fc517": {
      "model_module": "@jupyter-widgets/controls",
      "model_module_version": "1.5.0",
      "model_name": "SliderStyleModel",
      "state": {
       "description_width": ""
      }
     },
     "611c7877a46b4bc6927b0bce87e74677": {
      "model_module": "@jupyter-widgets/base",
      "model_module_version": "1.2.0",
      "model_name": "LayoutModel",
      "state": {}
     },
     "613dfb8cdc39410791deeef50e3490ae": {
      "model_module": "@jupyter-widgets/controls",
      "model_module_version": "1.5.0",
      "model_name": "VBoxModel",
      "state": {
       "children": [
        "IPY_MODEL_3b9d506ababa4550a31f1d807fad28f6",
        "IPY_MODEL_d31e9da2b4e54a9aa310f63cf8a35e4b",
        "IPY_MODEL_3e7571f90ec242f3906c029831d996b0",
        "IPY_MODEL_ce6a7786ce2f4468ad419296f2ff9d70",
        "IPY_MODEL_49a3546f239b463bb5f525e93bc36579",
        "IPY_MODEL_4bce06a767a94b9489ae02c48aefb604",
        "IPY_MODEL_b9f7cf53526e4eac92daafe6d3d4a418",
        "IPY_MODEL_803198b838924b1c8d4a3d6d2b52506a",
        "IPY_MODEL_0ff2f27de717492490f64354521e6e9e",
        "IPY_MODEL_4214bcda2b3248c3bbee8f4e2c8f92e7"
       ],
       "layout": "IPY_MODEL_14526d3b4d944647a723d542daafdfb4"
      }
     },
     "63652abfabd149ddae7720b2cb0174ef": {
      "model_module": "@jupyter-widgets/controls",
      "model_module_version": "1.5.0",
      "model_name": "SliderStyleModel",
      "state": {
       "description_width": ""
      }
     },
     "656de54862a54186bc4149f6af437a16": {
      "model_module": "@jupyter-widgets/controls",
      "model_module_version": "1.5.0",
      "model_name": "LinkModel",
      "state": {
       "source": [
        "IPY_MODEL_c52d92fc56054803be1cafd344bc2132",
        "value"
       ],
       "target": [
        "IPY_MODEL_a80572f4629546a9bd9bad141bbc1155",
        "frame"
       ]
      }
     },
     "65854ebddc6a4c1f8bbce01daf2d3af3": {
      "model_module": "@jupyter-widgets/controls",
      "model_module_version": "1.5.0",
      "model_name": "DescriptionStyleModel",
      "state": {
       "description_width": ""
      }
     },
     "65d68af162d3472d9f316f2fd7ab5695": {
      "model_module": "@jupyter-widgets/base",
      "model_module_version": "1.2.0",
      "model_name": "LayoutModel",
      "state": {}
     },
     "66a501d7885f4604b0c5e3f970b92b70": {
      "model_module": "@jupyter-widgets/controls",
      "model_module_version": "1.5.0",
      "model_name": "DropdownModel",
      "state": {
       "_options_labels": [
        " ",
        "picking",
        "random",
        "uniform",
        "atomindex",
        "residueindex",
        "chainindex",
        "modelindex",
        "sstruc",
        "element",
        "resname",
        "bfactor",
        "hydrophobicity",
        "value",
        "volume",
        "occupancy"
       ],
       "description": "Color scheme",
       "index": 9,
       "layout": "IPY_MODEL_35380c2636ae4a19810003f7ff0902b3",
       "style": "IPY_MODEL_6998b79347df4ed8a4b02c720cfa832a"
      }
     },
     "66f9afe8fe0f446d92a6f612c22465d4": {
      "model_module": "@jupyter-widgets/controls",
      "model_module_version": "1.5.0",
      "model_name": "HBoxModel",
      "state": {
       "children": [
        "IPY_MODEL_bbe0a6b16e9c46dd825b4920adf698c4",
        "IPY_MODEL_0ece783ccd884833b47c3631639ae11d"
       ],
       "layout": "IPY_MODEL_18b0e4bf2cf14cdb98065161743b9ee2"
      }
     },
     "67a856647e2b46958c38e007d6d6d248": {
      "model_module": "@jupyter-widgets/base",
      "model_module_version": "1.2.0",
      "model_name": "LayoutModel",
      "state": {}
     },
     "67f010f2e1a44a7e84beaef81c794fc0": {
      "model_module": "@jupyter-widgets/controls",
      "model_module_version": "1.5.0",
      "model_name": "DescriptionStyleModel",
      "state": {
       "description_width": ""
      }
     },
     "68940beef66e477889c3872e5091d411": {
      "model_module": "@jupyter-widgets/base",
      "model_module_version": "1.2.0",
      "model_name": "LayoutModel",
      "state": {}
     },
     "68fff58247db4f57bd398137a43640c0": {
      "model_module": "@jupyter-widgets/controls",
      "model_module_version": "1.5.0",
      "model_name": "SliderStyleModel",
      "state": {
       "description_width": ""
      }
     },
     "694d89add37f4cbf8f4630d43e6b350c": {
      "model_module": "@jupyter-widgets/controls",
      "model_module_version": "1.5.0",
      "model_name": "CheckboxModel",
      "state": {
       "description": "Show charge",
       "disabled": false,
       "layout": "IPY_MODEL_996c89b52b1c4c2bb3e079ffbd3be9ef",
       "style": "IPY_MODEL_32c34f5c1ab74194a986672f1202a402",
       "value": false
      }
     },
     "6998b79347df4ed8a4b02c720cfa832a": {
      "model_module": "@jupyter-widgets/controls",
      "model_module_version": "1.5.0",
      "model_name": "DescriptionStyleModel",
      "state": {
       "description_width": ""
      }
     },
     "6a787a97d3664b3083092d19d0cc45f4": {
      "model_module": "@jupyter-widgets/controls",
      "model_module_version": "1.5.0",
      "model_name": "ButtonModel",
      "state": {
       "description": "Save image",
       "layout": "IPY_MODEL_adb728afde29401eb178d1bdfb51ef06",
       "style": "IPY_MODEL_4b121e1b4d314c4a82ea51ff4f06dfb2",
       "tooltip": "Save current frame to file.\nCurrently .png and .html are supported.\nIt takes a bit time, please be patient."
      }
     },
     "6b49a5b8a69e4e1da42a0fd45a192a2c": {
      "model_module": "@jupyter-widgets/controls",
      "model_module_version": "1.5.0",
      "model_name": "FloatSliderModel",
      "state": {
       "description": "Ball size",
       "layout": "IPY_MODEL_f03232dd7a274bea8cd0eba5e96187b1",
       "max": 1.5,
       "step": 0.01,
       "style": "IPY_MODEL_68fff58247db4f57bd398137a43640c0",
       "value": 0.5
      }
     },
     "6c5a8efdf84446a69dd930e40eecefc7": {
      "model_module": "@jupyter-widgets/base",
      "model_module_version": "1.2.0",
      "model_name": "LayoutModel",
      "state": {}
     },
     "6c90e8a0c73048928004f2982704026c": {
      "model_module": "@jupyter-widgets/controls",
      "model_module_version": "1.5.0",
      "model_name": "ImageModel",
      "state": {
       "layout": "IPY_MODEL_7c58f3fdd5ae41e99a23a0f3b873f13e",
       "width": "900.0"
      }
     },
     "6e7c9a2ff64247e2a3c4e36edefbc59e": {
      "model_module": "@jupyter-widgets/controls",
      "model_module_version": "1.5.0",
      "model_name": "PlayModel",
      "state": {
       "layout": "IPY_MODEL_d44e0392a88b4f3f982d3d29b993bdb0",
       "max": 2,
       "style": "IPY_MODEL_a96bea585cd04ce7b5ef167acf8acc1c"
      }
     },
     "6ef512e339944d9d848896e0c459908c": {
      "model_module": "@jupyter-widgets/base",
      "model_module_version": "1.2.0",
      "model_name": "LayoutModel",
      "state": {}
     },
     "71fbf84a03974a04ba60a0d787a87c2b": {
      "model_module": "@jupyter-widgets/base",
      "model_module_version": "1.2.0",
      "model_name": "LayoutModel",
      "state": {
       "border": "0px solid black"
      }
     },
     "72fc6d204ca24fcab8bea6180a443282": {
      "model_module": "@jupyter-widgets/base",
      "model_module_version": "1.2.0",
      "model_name": "LayoutModel",
      "state": {}
     },
     "747f2ac2422e433e9439be216f9c6daf": {
      "model_module": "@jupyter-widgets/controls",
      "model_module_version": "1.5.0",
      "model_name": "FloatSliderModel",
      "state": {
       "description": "Ball size",
       "layout": "IPY_MODEL_c87e218486ea4f4cb3ab2d62f9f2db28",
       "max": 1.5,
       "step": 0.01,
       "style": "IPY_MODEL_dedec2dc2ff24f9ebdaaeb901e3677d6",
       "value": 0.5
      }
     },
     "748b75b4a1b547e5a75d25055a97536f": {
      "model_module": "@jupyter-widgets/base",
      "model_module_version": "1.2.0",
      "model_name": "LayoutModel",
      "state": {}
     },
     "7621743b1dfa464991d70bf1e789cc38": {
      "model_module": "@jupyter-widgets/base",
      "model_module_version": "1.2.0",
      "model_name": "LayoutModel",
      "state": {}
     },
     "7637dca67b764d6a94890566e3cad2ca": {
      "model_module": "@jupyter-widgets/base",
      "model_module_version": "1.2.0",
      "model_name": "LayoutModel",
      "state": {}
     },
     "7661a98181db49ca8d0716ae6be782ca": {
      "model_module": "@jupyter-widgets/controls",
      "model_module_version": "1.5.0",
      "model_name": "ButtonModel",
      "state": {
       "icon": "compress",
       "layout": "IPY_MODEL_41fcf11d75cb4ef38786b0983a5e090a",
       "style": "IPY_MODEL_3d8bef3892d840f9a44f4a51da78ff65"
      }
     },
     "76a21886d49b471ebeb6e82df8ccd5f6": {
      "model_module": "@jupyter-widgets/controls",
      "model_module_version": "1.5.0",
      "model_name": "ButtonStyleModel",
      "state": {}
     },
     "77c307be283c4d3995c0d8007cb29e46": {
      "model_module": "@jupyter-widgets/controls",
      "model_module_version": "1.5.0",
      "model_name": "DescriptionStyleModel",
      "state": {
       "description_width": ""
      }
     },
     "79d1f01a9f84414086baa0b27352e629": {
      "model_module": "@jupyter-widgets/controls",
      "model_module_version": "1.5.0",
      "model_name": "LinkModel",
      "state": {
       "source": [
        "IPY_MODEL_6e7c9a2ff64247e2a3c4e36edefbc59e",
        "value"
       ],
       "target": [
        "IPY_MODEL_1448734ba2434432b7fd91724f2718fa",
        "value"
       ]
      }
     },
     "7a89ae373363436195bb9e619b062d60": {
      "model_module": "@jupyter-widgets/output",
      "model_module_version": "1.0.0",
      "model_name": "OutputModel",
      "state": {
       "layout": "IPY_MODEL_71fbf84a03974a04ba60a0d787a87c2b"
      }
     },
     "7b0a8f74b1be40e49c3faf90a83c7eb5": {
      "model_module": "@jupyter-widgets/controls",
      "model_module_version": "1.5.0",
      "model_name": "HBoxModel",
      "state": {
       "children": [
        "IPY_MODEL_3641d58bd84b4d99b9d8d4b4886d7e17",
        "IPY_MODEL_b67aa2cd76c24255a23354fa1e3d13a7"
       ],
       "layout": "IPY_MODEL_eb1f0078bceb4edd945155d1b3e52977"
      }
     },
     "7b3a1f752ea74b63be799d12095fdec1": {
      "model_module": "@jupyter-widgets/base",
      "model_module_version": "1.2.0",
      "model_name": "LayoutModel",
      "state": {}
     },
     "7c58f3fdd5ae41e99a23a0f3b873f13e": {
      "model_module": "@jupyter-widgets/base",
      "model_module_version": "1.2.0",
      "model_name": "LayoutModel",
      "state": {}
     },
     "7c8419434b294e5dba07aa47192994f1": {
      "model_module": "nglview-js-widgets",
      "model_module_version": "3.0.1",
      "model_name": "NGLModel",
      "state": {
       "_camera_orientation": [
        10.450886648609213,
        0,
        0,
        0,
        0,
        10.450886648609213,
        0,
        0,
        0,
        0,
        10.450886648609213,
        0,
        0.2575000524520874,
        -0.0065000057220458984,
        0.23100000619888306,
        1
       ],
       "_camera_str": "orthographic",
       "_gui_theme": null,
       "_ibtn_fullscreen": "IPY_MODEL_42237298c2b045f99d587aebc2c028c9",
       "_igui": null,
       "_iplayer": "IPY_MODEL_f5bce9e1f30d4f97bf5c233a49d3ab1e",
       "_ngl_color_dict": {},
       "_ngl_coordinate_resource": {},
       "_ngl_full_stage_parameters": {
        "ambientColor": 14540253,
        "ambientIntensity": 0.2,
        "backgroundColor": "white",
        "cameraEyeSep": 0.3,
        "cameraFov": 40,
        "cameraType": "orthographic",
        "clipDist": 0,
        "clipFar": 100,
        "clipNear": 0,
        "fogFar": 100,
        "fogNear": 50,
        "hoverTimeout": 0,
        "impostor": true,
        "lightColor": 14540253,
        "lightIntensity": 1,
        "mousePreset": "default",
        "panSpeed": 1,
        "quality": "medium",
        "rotateSpeed": 2,
        "sampleLevel": 0,
        "tooltip": true,
        "workerDefault": true,
        "zoomSpeed": 1.2
       },
       "_ngl_msg_archive": [
        {
         "args": [
          {
           "binary": false,
           "data": "MODEL     1\nATOM      1    C MOL     1       2.227  -0.002  -0.106  1.00  0.00           C  \nATOM      2    C MOL     1       0.720  -0.006  -0.023  1.00  0.00           C  \nATOM      3    C MOL     1      -0.009  -1.196  -0.076  1.00  0.00           C  \nATOM      4    C MOL     1      -1.402  -1.189  -0.017  1.00  0.00           C  \nATOM      5    C MOL     1      -2.090   0.015   0.095  1.00  0.00           C  \nATOM      6    C MOL     1      -1.376   1.210   0.148  1.00  0.00           C  \nATOM      7    C MOL     1       0.014   1.197   0.089  1.00  0.00           C  \nATOM      8    H MOL     1       2.564   0.333  -1.095  1.00  0.00           H  \nATOM      9    H MOL     1       2.639  -1.000   0.067  1.00  0.00           H  \nATOM     10    H MOL     1       2.659   0.682   0.633  1.00  0.00           H  \nATOM     11    H MOL     1       0.518  -2.142  -0.164  1.00  0.00           H  \nATOM     12    H MOL     1      -1.949  -2.126  -0.059  1.00  0.00           H  \nATOM     13    H MOL     1      -3.174   0.023   0.140  1.00  0.00           H  \nATOM     14    H MOL     1      -1.905   2.155   0.236  1.00  0.00           H  \nATOM     15    H MOL     1       0.564   2.134   0.131  1.00  0.00           H  \nENDMDL\n",
           "type": "blob"
          }
         ],
         "kwargs": {
          "defaultRepresentation": false,
          "ext": "pdb"
         },
         "methodName": "loadFile",
         "reconstruc_color_scheme": false,
         "target": "Stage",
         "type": "call_method"
        },
        {
         "args": [
          "500px",
          "500px"
         ],
         "kwargs": {},
         "methodName": "setSize",
         "reconstruc_color_scheme": false,
         "target": "Widget",
         "type": "call_method"
        },
        {
         "args": [
          "unitcell"
         ],
         "component_index": 0,
         "kwargs": {
          "sele": "all"
         },
         "methodName": "addRepresentation",
         "reconstruc_color_scheme": false,
         "target": "compList",
         "type": "call_method"
        },
        {
         "args": [
          "spacefill"
         ],
         "component_index": 0,
         "kwargs": {
          "sele": "all"
         },
         "methodName": "addRepresentation",
         "reconstruc_color_scheme": false,
         "target": "compList",
         "type": "call_method"
        },
        {
         "args": [],
         "kwargs": {
          "cameraType": "orthographic"
         },
         "methodName": "setParameters",
         "reconstruc_color_scheme": false,
         "target": "Stage",
         "type": "call_method"
        },
        {
         "args": [
          {
           "clipDist": 0
          }
         ],
         "kwargs": {},
         "methodName": "setParameters",
         "reconstruc_color_scheme": false,
         "target": "Widget",
         "type": "call_method"
        },
        {
         "args": [
          "spacefill",
          0
         ],
         "kwargs": {
          "colorScale": "rainbow",
          "colorScheme": "element",
          "radiusScale": 0.5,
          "radiusType": "covalent"
         },
         "methodName": "updateRepresentationsByName",
         "reconstruc_color_scheme": false,
         "target": "Widget",
         "type": "call_method"
        },
        {
         "args": [
          "this._Q = [[1.0, 0.0, 0.0], [0.0, 1.0, 0.0], [0.0, 0.0, 1.0]]\n    var tooltip = document.createElement('div');\n    Object.assign(tooltip.style, {\n      display: 'none',\n      position: 'fixed',\n      zIndex: 10,\n      pointerEvents: 'none',\n      backgroundColor: 'rgba( 0, 0, 0, 0.6 )',\n      color: 'lightgrey',\n      padding: '8px',\n      fontFamily: 'sans-serif'\n    });\n    document.body.appendChild(tooltip);\n\n    var that = this;\n    this.stage.mouseControls.remove('hoverPick');\n    this.stage.signals.hovered.add(function (pickingProxy) {\n      if (pickingProxy && (pickingProxy.atom || pickingProxy.bond)) {\n        var atom = pickingProxy.atom || pickingProxy.closestBondAtom\n        var mp = pickingProxy.mouse.position\n        //tooltip.innerText = atom.element + ' i=' + atom.index + ' (' + atom.x.toFixed(2) +  ', ' + atom.y.toFixed(2) +  ', ' + atom.z.toFixed(2) + ')'\n        //var pos = that._atoms_pos[atom.index]\n        var Q = that._Q\n        var pos_x = Q[0][0] * atom.x + Q[0][1] * atom.y + Q[0][2] * atom.z \n        var pos_y = Q[1][0] * atom.x + Q[1][1] * atom.y + Q[1][2] * atom.z\n        var pos_z = Q[2][0] * atom.x + Q[2][1] * atom.y + Q[2][2] * atom.z\n        tooltip.innerText = 'i=' + atom.index + ' ' + atom.element + ' (' + pos_x.toFixed(2) +  ', ' + pos_y.toFixed(2) +  ', ' + pos_z.toFixed(2) + ')'\n        tooltip.style.bottom = window.innerHeight - mp.y + 3 + 'px'\n        tooltip.style.left = mp.x + 3 + 'px'\n        tooltip.style.display = 'block'\n      } else {\n        tooltip.style.display = 'none'\n      }\n    });\n    this.stage.tooltip = tooltip;\n    "
         ],
         "kwargs": {},
         "methodName": "executeCode",
         "reconstruc_color_scheme": false,
         "target": "Widget",
         "type": "call_method"
        },
        {
         "args": [
          "ball+stick"
         ],
         "component_index": 0,
         "kwargs": {
          "sele": "all"
         },
         "methodName": "addRepresentation",
         "reconstruc_color_scheme": false,
         "target": "compList",
         "type": "call_method"
        }
       ],
       "_ngl_original_stage_parameters": {
        "ambientColor": 14540253,
        "ambientIntensity": 0.2,
        "backgroundColor": "white",
        "cameraEyeSep": 0.3,
        "cameraFov": 40,
        "cameraType": "perspective",
        "clipDist": 10,
        "clipFar": 100,
        "clipNear": 0,
        "fogFar": 100,
        "fogNear": 50,
        "hoverTimeout": 0,
        "impostor": true,
        "lightColor": 14540253,
        "lightIntensity": 1,
        "mousePreset": "default",
        "panSpeed": 1,
        "quality": "medium",
        "rotateSpeed": 2,
        "sampleLevel": 0,
        "tooltip": true,
        "workerDefault": true,
        "zoomSpeed": 1.2
       },
       "_ngl_repr_dict": {
        "0": {
         "0": {
          "params": {
           "clipCenter": {
            "x": 0,
            "y": 0,
            "z": 0
           },
           "clipNear": 0,
           "clipRadius": 0,
           "colorMode": "hcl",
           "colorReverse": false,
           "colorScale": "",
           "colorScheme": "element",
           "colorValue": "orange",
           "defaultAssembly": "",
           "depthWrite": true,
           "diffuse": 16777215,
           "diffuseInterior": false,
           "disableImpostor": false,
           "disablePicking": false,
           "flatShaded": false,
           "interiorColor": 2236962,
           "interiorDarkening": 0,
           "lazy": false,
           "matrix": {
            "elements": [
             1,
             0,
             0,
             0,
             0,
             1,
             0,
             0,
             0,
             0,
             1,
             0,
             0,
             0,
             0,
             1
            ]
           },
           "metalness": 0,
           "opacity": 1,
           "quality": "medium",
           "radialSegments": 10,
           "radiusData": {},
           "radiusScale": 1,
           "radiusSize": 0.5,
           "radiusType": "vdw",
           "roughness": 0.4,
           "sele": "all",
           "side": "double",
           "sphereDetail": 1,
           "useInteriorColor": true,
           "visible": true,
           "wireframe": false
          },
          "type": "unitcell"
         },
         "1": {
          "params": {
           "assembly": "default",
           "clipCenter": {
            "x": 0,
            "y": 0,
            "z": 0
           },
           "clipNear": 0,
           "clipRadius": 0,
           "colorMode": "hcl",
           "colorReverse": false,
           "colorScale": "rainbow",
           "colorScheme": "element",
           "colorValue": 9474192,
           "defaultAssembly": "",
           "depthWrite": true,
           "diffuse": 16777215,
           "diffuseInterior": false,
           "disableImpostor": false,
           "disablePicking": false,
           "flatShaded": false,
           "interiorColor": 2236962,
           "interiorDarkening": 0,
           "lazy": false,
           "matrix": {
            "elements": [
             1,
             0,
             0,
             0,
             0,
             1,
             0,
             0,
             0,
             0,
             1,
             0,
             0,
             0,
             0,
             1
            ]
           },
           "metalness": 0,
           "opacity": 1,
           "quality": "medium",
           "radiusData": {},
           "radiusScale": 0.5,
           "radiusSize": 1,
           "radiusType": "covalent",
           "roughness": 0.4,
           "sele": "all",
           "side": "double",
           "sphereDetail": 1,
           "useInteriorColor": true,
           "visible": true,
           "wireframe": false
          },
          "type": "spacefill"
         },
         "2": {
          "params": {
           "aspectRatio": 2,
           "assembly": "default",
           "bondScale": 0.4,
           "bondSpacing": 1,
           "clipCenter": {
            "x": 0,
            "y": 0,
            "z": 0
           },
           "clipNear": 0,
           "clipRadius": 0,
           "colorMode": "hcl",
           "colorReverse": false,
           "colorScale": "",
           "colorScheme": "element",
           "colorValue": 9474192,
           "cylinderOnly": false,
           "defaultAssembly": "",
           "depthWrite": true,
           "diffuse": 16777215,
           "diffuseInterior": false,
           "disableImpostor": false,
           "disablePicking": false,
           "flatShaded": false,
           "interiorColor": 2236962,
           "interiorDarkening": 0,
           "lazy": false,
           "lineOnly": false,
           "linewidth": 2,
           "matrix": {
            "elements": [
             1,
             0,
             0,
             0,
             0,
             1,
             0,
             0,
             0,
             0,
             1,
             0,
             0,
             0,
             0,
             1
            ]
           },
           "metalness": 0,
           "multipleBond": "off",
           "opacity": 1,
           "openEnded": true,
           "quality": "medium",
           "radialSegments": 10,
           "radiusData": {},
           "radiusScale": 1,
           "radiusSize": 0.15,
           "radiusType": "size",
           "roughness": 0.4,
           "sele": "all",
           "side": "double",
           "sphereDetail": 1,
           "useInteriorColor": true,
           "visible": true,
           "wireframe": false
          },
          "type": "ball+stick"
         }
        }
       },
       "_ngl_serialize": false,
       "_ngl_version": "2.0.0-dev.36",
       "_ngl_view_id": [
        "AD5FF655-9F3E-43D5-A739-F8B40DB31DE0"
       ],
       "_player_dict": {},
       "_scene_position": {},
       "_scene_rotation": {},
       "_synced_model_ids": [],
       "_synced_repr_model_ids": [],
       "_view_height": "",
       "_view_width": "",
       "background": "white",
       "frame": 0,
       "gui_style": null,
       "layout": "IPY_MODEL_6c5a8efdf84446a69dd930e40eecefc7",
       "max_frame": 2,
       "n_components": 1,
       "picked": {}
      }
     },
     "7e1ac37513d243309d6a60bcee1a68af": {
      "model_module": "@jupyter-widgets/base",
      "model_module_version": "1.2.0",
      "model_name": "LayoutModel",
      "state": {}
     },
     "7e957079ca42457f9e5f54460208a67f": {
      "model_module": "@jupyter-widgets/controls",
      "model_module_version": "1.5.0",
      "model_name": "ProgressStyleModel",
      "state": {
       "description_width": ""
      }
     },
     "7f522143770d4fe58783f8a0f9e8da61": {
      "model_module": "@jupyter-widgets/controls",
      "model_module_version": "1.5.0",
      "model_name": "LinkModel",
      "state": {
       "source": [
        "IPY_MODEL_2db52387cfb44a05a96005426c7b074d",
        "max"
       ],
       "target": [
        "IPY_MODEL_c2b1453970254e4d8bfed78e17a94bfd",
        "max_frame"
       ]
      }
     },
     "803198b838924b1c8d4a3d6d2b52506a": {
      "model_module": "@jupyter-widgets/controls",
      "model_module_version": "1.5.0",
      "model_name": "CheckboxModel",
      "state": {
       "description": "Show charge",
       "disabled": false,
       "layout": "IPY_MODEL_03f5627a519e4fffb5f2f369ef6c8170",
       "style": "IPY_MODEL_2b090fd42b2e44bfb9162cf2452c65d2",
       "value": false
      }
     },
     "81462c4f5add41a2b3eb13594346df68": {
      "model_module": "@jupyter-widgets/controls",
      "model_module_version": "1.5.0",
      "model_name": "ButtonModel",
      "state": {
       "description": "Download image",
       "layout": "IPY_MODEL_4d3edda95a1b4ecf8f3cb90d4cdc5707",
       "style": "IPY_MODEL_b68b243e731641ed9c6ff6fe514270f0",
       "tooltip": "Download current frame to your local PC"
      }
     },
     "821562b4896642caab82af83331bd86a": {
      "model_module": "@jupyter-widgets/controls",
      "model_module_version": "1.5.0",
      "model_name": "DescriptionStyleModel",
      "state": {
       "description_width": ""
      }
     },
     "822cc43237f44f2e9b034b32fbb3936b": {
      "model_module": "@jupyter-widgets/controls",
      "model_module_version": "1.5.0",
      "model_name": "ButtonStyleModel",
      "state": {}
     },
     "8279308157714aed80aa34ac25dc55e8": {
      "model_module": "@jupyter-widgets/base",
      "model_module_version": "1.2.0",
      "model_name": "LayoutModel",
      "state": {}
     },
     "84bc932da93c4d2b953b3ae57c77314a": {
      "model_module": "@jupyter-widgets/controls",
      "model_module_version": "1.5.0",
      "model_name": "PlayModel",
      "state": {
       "layout": "IPY_MODEL_96365c1c893c4490a74214ffc90f82eb",
       "max": 0,
       "style": "IPY_MODEL_2b982c6216ce44c1bbbd73618243ddc4"
      }
     },
     "8690a1dd99864fbe8be737441366e710": {
      "model_module": "@jupyter-widgets/base",
      "model_module_version": "1.2.0",
      "model_name": "LayoutModel",
      "state": {}
     },
     "87bf03aa092a4622a2d49f75bbfaabea": {
      "model_module": "@jupyter-widgets/controls",
      "model_module_version": "1.5.0",
      "model_name": "ImageModel",
      "state": {
       "layout": "IPY_MODEL_f82f04b657924591a72b7296eeab937c",
       "width": "900.0"
      }
     },
     "88bcca3eb4944f15bc2d20f74192f693": {
      "model_module": "@jupyter-widgets/controls",
      "model_module_version": "1.5.0",
      "model_name": "VBoxModel",
      "state": {
       "children": [
        "IPY_MODEL_34e7195ba50d4afc93061cb47e35385c",
        "IPY_MODEL_4c25fed232004bebb2dce0d3ed91e456",
        "IPY_MODEL_8c8f4122ddbb4cfd9db9150f6646477b",
        "IPY_MODEL_8fddebe4c4bd4ac0943f05b217547b55",
        "IPY_MODEL_487757143f51498f908d70e342103583",
        "IPY_MODEL_1143b62f6521471cb76ecc391da387ad",
        "IPY_MODEL_1d877806114c4d2b8d536de2f50b1ea9",
        "IPY_MODEL_f5cb21bee6564177ab94e6636c5d00af",
        "IPY_MODEL_0274632c597d46269d036ac4f3dcdbe0",
        "IPY_MODEL_b48248e3a6b64c5c9275dcdfff1b4dc5"
       ],
       "layout": "IPY_MODEL_7b3a1f752ea74b63be799d12095fdec1"
      }
     },
     "88da29db1f144e5cb1ac306045425385": {
      "model_module": "@jupyter-widgets/controls",
      "model_module_version": "1.5.0",
      "model_name": "SliderStyleModel",
      "state": {
       "description_width": ""
      }
     },
     "89f9179fe9ff4c08b730c87b1ce32e69": {
      "model_module": "@jupyter-widgets/base",
      "model_module_version": "1.2.0",
      "model_name": "LayoutModel",
      "state": {
       "width": "34px"
      }
     },
     "8a2083bc2a874e2a8e3c1c7ec887796b": {
      "model_module": "@jupyter-widgets/controls",
      "model_module_version": "1.5.0",
      "model_name": "ButtonModel",
      "state": {
       "description": "Download image",
       "layout": "IPY_MODEL_2cd06d47c1174051967aedc854a29513",
       "style": "IPY_MODEL_b58b46035b1549659e33a23affc056e2",
       "tooltip": "Download current frame to your local PC"
      }
     },
     "8c8f4122ddbb4cfd9db9150f6646477b": {
      "model_module": "@jupyter-widgets/controls",
      "model_module_version": "1.5.0",
      "model_name": "FloatSliderModel",
      "state": {
       "description": "Ball size",
       "layout": "IPY_MODEL_570dc7727b5a474caab703c80e4f1320",
       "max": 1.5,
       "step": 0.01,
       "style": "IPY_MODEL_fc80fbf3e6ee471a89a58d15614bcaea",
       "value": 0.5
      }
     },
     "8d0fc867ff2d4b929c9ed3f04d68d511": {
      "model_module": "@jupyter-widgets/controls",
      "model_module_version": "1.5.0",
      "model_name": "LinkModel",
      "state": {
       "source": [
        "IPY_MODEL_84bc932da93c4d2b953b3ae57c77314a",
        "value"
       ],
       "target": [
        "IPY_MODEL_b5a7e30cb0f94059a55ea3c68d9cbd04",
        "value"
       ]
      }
     },
     "8fddebe4c4bd4ac0943f05b217547b55": {
      "model_module": "@jupyter-widgets/controls",
      "model_module_version": "1.5.0",
      "model_name": "TextModel",
      "state": {
       "description": "Filename: ",
       "layout": "IPY_MODEL_b58972b3130b4de287b25f5c740e9b5b",
       "style": "IPY_MODEL_9fed0b477e884f6abb21b48e91608886",
       "value": "screenshot.png"
      }
     },
     "915db951cb684bc9af50d795ae5a476f": {
      "model_module": "@jupyter-widgets/controls",
      "model_module_version": "1.5.0",
      "model_name": "DescriptionStyleModel",
      "state": {
       "description_width": ""
      }
     },
     "91a378159b3643d89512be4d0419201f": {
      "model_module": "@jupyter-widgets/controls",
      "model_module_version": "1.5.0",
      "model_name": "TextModel",
      "state": {
       "description": "Filename: ",
       "layout": "IPY_MODEL_611c7877a46b4bc6927b0bce87e74677",
       "style": "IPY_MODEL_d2f1e05fa7614e09ac16262649bc55f2",
       "value": "screenshot.png"
      }
     },
     "921ba9fa73d14094a74ca27d6b64b520": {
      "model_module": "@jupyter-widgets/base",
      "model_module_version": "1.2.0",
      "model_name": "LayoutModel",
      "state": {}
     },
     "9229960922474cf0bb4f6f8deec9833f": {
      "model_module": "@jupyter-widgets/base",
      "model_module_version": "1.2.0",
      "model_name": "LayoutModel",
      "state": {}
     },
     "92fbe031655449d3890001871163ca5f": {
      "model_module": "@jupyter-widgets/base",
      "model_module_version": "1.2.0",
      "model_name": "LayoutModel",
      "state": {}
     },
     "955c950ea30a4bc8a5251acdbd0eeefd": {
      "model_module": "@jupyter-widgets/base",
      "model_module_version": "1.2.0",
      "model_name": "LayoutModel",
      "state": {}
     },
     "9562919e7f064722aa690895a29798b3": {
      "model_module": "@jupyter-widgets/controls",
      "model_module_version": "1.5.0",
      "model_name": "DescriptionStyleModel",
      "state": {
       "description_width": ""
      }
     },
     "95dbab02478b42d8890542b614ffa41a": {
      "model_module": "@jupyter-widgets/base",
      "model_module_version": "1.2.0",
      "model_name": "LayoutModel",
      "state": {}
     },
     "96365c1c893c4490a74214ffc90f82eb": {
      "model_module": "@jupyter-widgets/base",
      "model_module_version": "1.2.0",
      "model_name": "LayoutModel",
      "state": {}
     },
     "96cdab6065e64ccb921ce89e42e9d12f": {
      "model_module": "@jupyter-widgets/controls",
      "model_module_version": "1.5.0",
      "model_name": "CheckboxModel",
      "state": {
       "description": "Show force",
       "disabled": false,
       "layout": "IPY_MODEL_1b502ddf8d64468384f72a03c5add49a",
       "style": "IPY_MODEL_e9aea9d8a4ba424b889de9a376c5935d",
       "value": false
      }
     },
     "996c89b52b1c4c2bb3e079ffbd3be9ef": {
      "model_module": "@jupyter-widgets/base",
      "model_module_version": "1.2.0",
      "model_name": "LayoutModel",
      "state": {}
     },
     "9982b72731b047c98b990ad5cab44a65": {
      "model_module": "@jupyter-widgets/controls",
      "model_module_version": "1.5.0",
      "model_name": "HBoxModel",
      "state": {
       "children": [
        "IPY_MODEL_c2b1453970254e4d8bfed78e17a94bfd",
        "IPY_MODEL_3b7538639f894994a815cbcfd6144850"
       ],
       "layout": "IPY_MODEL_5bcd1c9f77fd4dcf85514b7a621554ba"
      }
     },
     "9990821ffea644daa1ba417047fcd95a": {
      "model_module": "@jupyter-widgets/controls",
      "model_module_version": "1.5.0",
      "model_name": "DescriptionStyleModel",
      "state": {
       "description_width": ""
      }
     },
     "9b97770a03ad408484885083eae39429": {
      "model_module": "@jupyter-widgets/base",
      "model_module_version": "1.2.0",
      "model_name": "LayoutModel",
      "state": {}
     },
     "9bda3ca57aa94d15bd3cca222383e957": {
      "model_module": "@jupyter-widgets/controls",
      "model_module_version": "1.5.0",
      "model_name": "SliderStyleModel",
      "state": {
       "description_width": ""
      }
     },
     "9beca9bdcd2149bfb86c747a4ba9fed7": {
      "model_module": "@jupyter-widgets/controls",
      "model_module_version": "1.5.0",
      "model_name": "VBoxModel",
      "state": {
       "children": [
        "IPY_MODEL_a61a3260f9404a23bf0464ba0e8a8257",
        "IPY_MODEL_f1b5c89154eb444e9fb4bc798b052e70",
        "IPY_MODEL_747f2ac2422e433e9439be216f9c6daf",
        "IPY_MODEL_e9e41de39cea48c69b483348bd002aa5",
        "IPY_MODEL_a7c7e1915e834c37b3d74860b40fbb4b",
        "IPY_MODEL_21c9f4b452c840f3a50c6d56a58b37f8",
        "IPY_MODEL_1c28c683142a46c5937b75059ae7e6c1",
        "IPY_MODEL_010e11659c0e492b80ce9942665f1573",
        "IPY_MODEL_2639075180ab4767a2f1ea0b71df1b6a",
        "IPY_MODEL_cc2314d74653460194c5d26d488a80da",
        "IPY_MODEL_7a89ae373363436195bb9e619b062d60"
       ],
       "layout": "IPY_MODEL_92fbe031655449d3890001871163ca5f"
      }
     },
     "9cab4ac3debe46d7a88436f6b0103ed5": {
      "model_module": "@jupyter-widgets/controls",
      "model_module_version": "1.5.0",
      "model_name": "CheckboxModel",
      "state": {
       "description": "Show charge",
       "disabled": false,
       "layout": "IPY_MODEL_65d68af162d3472d9f316f2fd7ab5695",
       "style": "IPY_MODEL_9990821ffea644daa1ba417047fcd95a",
       "value": false
      }
     },
     "9d12708de7494f7c951403d76fcd5033": {
      "model_module": "@jupyter-widgets/base",
      "model_module_version": "1.2.0",
      "model_name": "LayoutModel",
      "state": {}
     },
     "9d2b2482a5d444bc9098a9f85aabd063": {
      "model_module": "@jupyter-widgets/controls",
      "model_module_version": "1.5.0",
      "model_name": "ButtonStyleModel",
      "state": {}
     },
     "9d646f383493403c84071738fbc5fdd3": {
      "model_module": "@jupyter-widgets/controls",
      "model_module_version": "1.5.0",
      "model_name": "DescriptionStyleModel",
      "state": {
       "description_width": ""
      }
     },
     "9daf8caa581444fbb8c2ecf739f1e035": {
      "model_module": "@jupyter-widgets/controls",
      "model_module_version": "1.5.0",
      "model_name": "LinkModel",
      "state": {
       "source": [
        "IPY_MODEL_1b93450d255d4fc9a0d125c540d68d37",
        "max"
       ],
       "target": [
        "IPY_MODEL_c2b1453970254e4d8bfed78e17a94bfd",
        "max_frame"
       ]
      }
     },
     "9e92001798fc4305acb2e4a32d69a31a": {
      "model_module": "@jupyter-widgets/controls",
      "model_module_version": "1.5.0",
      "model_name": "DropdownModel",
      "state": {
       "_options_labels": [
        "All",
        "Pt"
       ],
       "description": "Show",
       "index": 0,
       "layout": "IPY_MODEL_7621743b1dfa464991d70bf1e789cc38",
       "style": "IPY_MODEL_53f22786ddd04f418a571e826745abdc"
      }
     },
     "9f9c7f2036f14fefbee06f1e04c714bc": {
      "model_module": "@jupyter-widgets/base",
      "model_module_version": "1.2.0",
      "model_name": "LayoutModel",
      "state": {}
     },
     "9fcb865e083245e9808420ec2f02114e": {
      "model_module": "@jupyter-widgets/controls",
      "model_module_version": "1.5.0",
      "model_name": "DescriptionStyleModel",
      "state": {
       "description_width": ""
      }
     },
     "9fe922139ca44cb3b12fefa0fa33d1f2": {
      "model_module": "@jupyter-widgets/controls",
      "model_module_version": "1.5.0",
      "model_name": "DescriptionStyleModel",
      "state": {
       "description_width": ""
      }
     },
     "9fed0b477e884f6abb21b48e91608886": {
      "model_module": "@jupyter-widgets/controls",
      "model_module_version": "1.5.0",
      "model_name": "DescriptionStyleModel",
      "state": {
       "description_width": ""
      }
     },
     "9ff58f3fa156486f9c0423e7e7cc92fa": {
      "model_module": "@jupyter-widgets/controls",
      "model_module_version": "1.5.0",
      "model_name": "DropdownModel",
      "state": {
       "_options_labels": [
        "All",
        "Fe"
       ],
       "description": "Show",
       "index": 0,
       "layout": "IPY_MODEL_db90c26c38cb425cb75978ab7c7046a3",
       "style": "IPY_MODEL_915db951cb684bc9af50d795ae5a476f"
      }
     },
     "a1c5749cbfa94b27965fbcbf96d89e80": {
      "model_module": "@jupyter-widgets/controls",
      "model_module_version": "1.5.0",
      "model_name": "DropdownModel",
      "state": {
       "_options_labels": [
        " ",
        "picking",
        "random",
        "uniform",
        "atomindex",
        "residueindex",
        "chainindex",
        "modelindex",
        "sstruc",
        "element",
        "resname",
        "bfactor",
        "hydrophobicity",
        "value",
        "volume",
        "occupancy"
       ],
       "description": "Color scheme",
       "index": 9,
       "layout": "IPY_MODEL_955c950ea30a4bc8a5251acdbd0eeefd",
       "style": "IPY_MODEL_bcc34e08ccde47a8b76715863d172ccd"
      }
     },
     "a48fb9cc40784137b20bfa7898049b61": {
      "model_module": "@jupyter-widgets/controls",
      "model_module_version": "1.5.0",
      "model_name": "DescriptionStyleModel",
      "state": {
       "description_width": ""
      }
     },
     "a5f13a235401477899f39f0c2c736ad6": {
      "model_module": "@jupyter-widgets/controls",
      "model_module_version": "1.5.0",
      "model_name": "FloatSliderModel",
      "state": {
       "description": "Charge scale",
       "layout": "IPY_MODEL_c88164c0f18d4b729ee54206a994e5f3",
       "step": 0.1,
       "style": "IPY_MODEL_aab913ab713c47868d8b3870a7161b5a",
       "value": 1
      }
     },
     "a61a3260f9404a23bf0464ba0e8a8257": {
      "model_module": "@jupyter-widgets/controls",
      "model_module_version": "1.5.0",
      "model_name": "DropdownModel",
      "state": {
       "_options_labels": [
        "All",
        "H",
        "C"
       ],
       "description": "Show",
       "index": 0,
       "layout": "IPY_MODEL_eb9a9ddb48964b1d99932d7264a5eb3e",
       "style": "IPY_MODEL_9562919e7f064722aa690895a29798b3"
      }
     },
     "a72525e2b94e4d979a4f12c6dd01dab4": {
      "model_module": "@jupyter-widgets/controls",
      "model_module_version": "1.5.0",
      "model_name": "LinkModel",
      "state": {
       "source": [
        "IPY_MODEL_b5a7e30cb0f94059a55ea3c68d9cbd04",
        "max"
       ],
       "target": [
        "IPY_MODEL_25aebf8bd2224ee89c813ef74b1d2dc3",
        "max_frame"
       ]
      }
     },
     "a7a7fc37bde94509abcc966a2ba75fb1": {
      "model_module": "@jupyter-widgets/controls",
      "model_module_version": "1.5.0",
      "model_name": "FloatSliderModel",
      "state": {
       "description": "Force scale",
       "layout": "IPY_MODEL_454e5cd30c424419a7aadb8e76e51c6f",
       "step": 0.1,
       "style": "IPY_MODEL_9bda3ca57aa94d15bd3cca222383e957",
       "value": 0.5
      }
     },
     "a7c7e1915e834c37b3d74860b40fbb4b": {
      "model_module": "@jupyter-widgets/controls",
      "model_module_version": "1.5.0",
      "model_name": "TextModel",
      "state": {
       "description": "Filename: ",
       "layout": "IPY_MODEL_e486261d3b3b460ca93471e11ad4905f",
       "style": "IPY_MODEL_1925d49f4fe6408ab711ef281bcaef4a",
       "value": "screenshot.png"
      }
     },
     "a80572f4629546a9bd9bad141bbc1155": {
      "model_module": "nglview-js-widgets",
      "model_module_version": "3.0.1",
      "model_name": "NGLModel",
      "state": {
       "_camera_orientation": [
        10.481783228970954,
        0,
        0,
        0,
        0,
        10.481783228970954,
        0,
        0,
        0,
        0,
        10.481783228970954,
        0,
        0.26649999618530273,
        -0.01100003719329834,
        0.218999981880188,
        1
       ],
       "_camera_str": "orthographic",
       "_gui_theme": null,
       "_ibtn_fullscreen": "IPY_MODEL_1353772df9414a4ab5cb9d5763fe0ac3",
       "_igui": null,
       "_iplayer": "IPY_MODEL_23ea776c32b44e19af6bf6ffe877a063",
       "_ngl_color_dict": {},
       "_ngl_coordinate_resource": {},
       "_ngl_full_stage_parameters": {
        "ambientColor": 14540253,
        "ambientIntensity": 0.2,
        "backgroundColor": "white",
        "cameraEyeSep": 0.3,
        "cameraFov": 40,
        "cameraType": "orthographic",
        "clipDist": 0,
        "clipFar": 100,
        "clipNear": 0,
        "fogFar": 100,
        "fogNear": 50,
        "hoverTimeout": 0,
        "impostor": true,
        "lightColor": 14540253,
        "lightIntensity": 1,
        "mousePreset": "default",
        "panSpeed": 1,
        "quality": "medium",
        "rotateSpeed": 2,
        "sampleLevel": 0,
        "tooltip": true,
        "workerDefault": true,
        "zoomSpeed": 1.2
       },
       "_ngl_msg_archive": [
        {
         "args": [
          {
           "binary": false,
           "data": "MODEL     1\nATOM      1    C MOL     1       2.215  -0.014  -0.123  1.00  0.00           C  \nATOM      2    C MOL     1       0.723  -0.001  -0.044  1.00  0.00           C  \nATOM      3    C MOL     1      -0.009  -1.171  -0.090  1.00  0.00           C  \nATOM      4    C MOL     1      -1.388  -1.167  -0.018  1.00  0.00           C  \nATOM      5    C MOL     1      -2.101   0.010   0.104  1.00  0.00           C  \nATOM      6    C MOL     1      -1.366   1.177   0.149  1.00  0.00           C  \nATOM      7    C MOL     1       0.011   1.176   0.077  1.00  0.00           C  \nATOM      8    H MOL     1       2.568   0.314  -1.111  1.00  0.00           H  \nATOM      9    H MOL     1       2.650  -0.976   0.104  1.00  0.00           H  \nATOM     10    H MOL     1       2.616   0.702   0.673  1.00  0.00           H  \nATOM     11    H MOL     1       0.513  -2.102  -0.184  1.00  0.00           H  \nATOM     12    H MOL     1      -1.973  -2.081  -0.053  1.00  0.00           H  \nATOM     13    H MOL     1      -3.183  -0.009   0.159  1.00  0.00           H  \nATOM     14    H MOL     1      -1.870   2.124   0.244  1.00  0.00           H  \nATOM     15    H MOL     1       0.593   2.106   0.114  1.00  0.00           H  \nENDMDL\n",
           "type": "blob"
          }
         ],
         "kwargs": {
          "defaultRepresentation": false,
          "ext": "pdb"
         },
         "methodName": "loadFile",
         "reconstruc_color_scheme": false,
         "target": "Stage",
         "type": "call_method"
        },
        {
         "args": [
          "600px",
          "600px"
         ],
         "kwargs": {},
         "methodName": "setSize",
         "reconstruc_color_scheme": false,
         "target": "Widget",
         "type": "call_method"
        },
        {
         "args": [
          "unitcell"
         ],
         "component_index": 0,
         "kwargs": {
          "sele": "all"
         },
         "methodName": "addRepresentation",
         "reconstruc_color_scheme": false,
         "target": "compList",
         "type": "call_method"
        },
        {
         "args": [
          "spacefill"
         ],
         "component_index": 0,
         "kwargs": {
          "sele": "all"
         },
         "methodName": "addRepresentation",
         "reconstruc_color_scheme": false,
         "target": "compList",
         "type": "call_method"
        },
        {
         "args": [],
         "kwargs": {
          "cameraType": "orthographic"
         },
         "methodName": "setParameters",
         "reconstruc_color_scheme": false,
         "target": "Stage",
         "type": "call_method"
        },
        {
         "args": [
          {
           "clipDist": 0
          }
         ],
         "kwargs": {},
         "methodName": "setParameters",
         "reconstruc_color_scheme": false,
         "target": "Widget",
         "type": "call_method"
        },
        {
         "args": [
          "spacefill",
          0
         ],
         "kwargs": {
          "colorScale": "rainbow",
          "colorScheme": "element",
          "radiusScale": 0.5,
          "radiusType": "covalent"
         },
         "methodName": "updateRepresentationsByName",
         "reconstruc_color_scheme": false,
         "target": "Widget",
         "type": "call_method"
        },
        {
         "args": [
          "this._Q = [[1.0, 0.0, 0.0], [0.0, 1.0, 0.0], [0.0, 0.0, 1.0]]\n    var tooltip = document.createElement('div');\n    Object.assign(tooltip.style, {\n      display: 'none',\n      position: 'fixed',\n      zIndex: 10,\n      pointerEvents: 'none',\n      backgroundColor: 'rgba( 0, 0, 0, 0.6 )',\n      color: 'lightgrey',\n      padding: '8px',\n      fontFamily: 'sans-serif'\n    });\n    document.body.appendChild(tooltip);\n\n    var that = this;\n    this.stage.mouseControls.remove('hoverPick');\n    this.stage.signals.hovered.add(function (pickingProxy) {\n      if (pickingProxy && (pickingProxy.atom || pickingProxy.bond)) {\n        var atom = pickingProxy.atom || pickingProxy.closestBondAtom\n        var mp = pickingProxy.mouse.position\n        //tooltip.innerText = atom.element + ' i=' + atom.index + ' (' + atom.x.toFixed(2) +  ', ' + atom.y.toFixed(2) +  ', ' + atom.z.toFixed(2) + ')'\n        //var pos = that._atoms_pos[atom.index]\n        var Q = that._Q\n        var pos_x = Q[0][0] * atom.x + Q[0][1] * atom.y + Q[0][2] * atom.z \n        var pos_y = Q[1][0] * atom.x + Q[1][1] * atom.y + Q[1][2] * atom.z\n        var pos_z = Q[2][0] * atom.x + Q[2][1] * atom.y + Q[2][2] * atom.z\n        tooltip.innerText = 'i=' + atom.index + ' ' + atom.element + ' (' + pos_x.toFixed(2) +  ', ' + pos_y.toFixed(2) +  ', ' + pos_z.toFixed(2) + ')'\n        tooltip.style.bottom = window.innerHeight - mp.y + 3 + 'px'\n        tooltip.style.left = mp.x + 3 + 'px'\n        tooltip.style.display = 'block'\n      } else {\n        tooltip.style.display = 'none'\n      }\n    });\n    this.stage.tooltip = tooltip;\n    "
         ],
         "kwargs": {},
         "methodName": "executeCode",
         "reconstruc_color_scheme": false,
         "target": "Widget",
         "type": "call_method"
        },
        {
         "args": [
          "ball+stick"
         ],
         "component_index": 0,
         "kwargs": {
          "sele": "all"
         },
         "methodName": "addRepresentation",
         "reconstruc_color_scheme": false,
         "target": "compList",
         "type": "call_method"
        }
       ],
       "_ngl_original_stage_parameters": {
        "ambientColor": 14540253,
        "ambientIntensity": 0.2,
        "backgroundColor": "white",
        "cameraEyeSep": 0.3,
        "cameraFov": 40,
        "cameraType": "perspective",
        "clipDist": 10,
        "clipFar": 100,
        "clipNear": 0,
        "fogFar": 100,
        "fogNear": 50,
        "hoverTimeout": 0,
        "impostor": true,
        "lightColor": 14540253,
        "lightIntensity": 1,
        "mousePreset": "default",
        "panSpeed": 1,
        "quality": "medium",
        "rotateSpeed": 2,
        "sampleLevel": 0,
        "tooltip": true,
        "workerDefault": true,
        "zoomSpeed": 1.2
       },
       "_ngl_repr_dict": {
        "0": {
         "0": {
          "params": {
           "clipCenter": {
            "x": 0,
            "y": 0,
            "z": 0
           },
           "clipNear": 0,
           "clipRadius": 0,
           "colorMode": "hcl",
           "colorReverse": false,
           "colorScale": "",
           "colorScheme": "element",
           "colorValue": "orange",
           "defaultAssembly": "",
           "depthWrite": true,
           "diffuse": 16777215,
           "diffuseInterior": false,
           "disableImpostor": false,
           "disablePicking": false,
           "flatShaded": false,
           "interiorColor": 2236962,
           "interiorDarkening": 0,
           "lazy": false,
           "matrix": {
            "elements": [
             1,
             0,
             0,
             0,
             0,
             1,
             0,
             0,
             0,
             0,
             1,
             0,
             0,
             0,
             0,
             1
            ]
           },
           "metalness": 0,
           "opacity": 1,
           "quality": "medium",
           "radialSegments": 10,
           "radiusData": {},
           "radiusScale": 1,
           "radiusSize": 0.5,
           "radiusType": "vdw",
           "roughness": 0.4,
           "sele": "all",
           "side": "double",
           "sphereDetail": 1,
           "useInteriorColor": true,
           "visible": true,
           "wireframe": false
          },
          "type": "unitcell"
         },
         "1": {
          "params": {
           "assembly": "default",
           "clipCenter": {
            "x": 0,
            "y": 0,
            "z": 0
           },
           "clipNear": 0,
           "clipRadius": 0,
           "colorMode": "hcl",
           "colorReverse": false,
           "colorScale": "rainbow",
           "colorScheme": "element",
           "colorValue": 9474192,
           "defaultAssembly": "",
           "depthWrite": true,
           "diffuse": 16777215,
           "diffuseInterior": false,
           "disableImpostor": false,
           "disablePicking": false,
           "flatShaded": false,
           "interiorColor": 2236962,
           "interiorDarkening": 0,
           "lazy": false,
           "matrix": {
            "elements": [
             1,
             0,
             0,
             0,
             0,
             1,
             0,
             0,
             0,
             0,
             1,
             0,
             0,
             0,
             0,
             1
            ]
           },
           "metalness": 0,
           "opacity": 1,
           "quality": "medium",
           "radiusData": {},
           "radiusScale": 0.5,
           "radiusSize": 1,
           "radiusType": "covalent",
           "roughness": 0.4,
           "sele": "all",
           "side": "double",
           "sphereDetail": 1,
           "useInteriorColor": true,
           "visible": true,
           "wireframe": false
          },
          "type": "spacefill"
         },
         "2": {
          "params": {
           "aspectRatio": 2,
           "assembly": "default",
           "bondScale": 0.4,
           "bondSpacing": 1,
           "clipCenter": {
            "x": 0,
            "y": 0,
            "z": 0
           },
           "clipNear": 0,
           "clipRadius": 0,
           "colorMode": "hcl",
           "colorReverse": false,
           "colorScale": "",
           "colorScheme": "element",
           "colorValue": 9474192,
           "cylinderOnly": false,
           "defaultAssembly": "",
           "depthWrite": true,
           "diffuse": 16777215,
           "diffuseInterior": false,
           "disableImpostor": false,
           "disablePicking": false,
           "flatShaded": false,
           "interiorColor": 2236962,
           "interiorDarkening": 0,
           "lazy": false,
           "lineOnly": false,
           "linewidth": 2,
           "matrix": {
            "elements": [
             1,
             0,
             0,
             0,
             0,
             1,
             0,
             0,
             0,
             0,
             1,
             0,
             0,
             0,
             0,
             1
            ]
           },
           "metalness": 0,
           "multipleBond": "off",
           "opacity": 1,
           "openEnded": true,
           "quality": "medium",
           "radialSegments": 10,
           "radiusData": {},
           "radiusScale": 1,
           "radiusSize": 0.15,
           "radiusType": "size",
           "roughness": 0.4,
           "sele": "all",
           "side": "double",
           "sphereDetail": 1,
           "useInteriorColor": true,
           "visible": true,
           "wireframe": false
          },
          "type": "ball+stick"
         }
        }
       },
       "_ngl_serialize": false,
       "_ngl_version": "2.0.0-dev.36",
       "_ngl_view_id": [
        "B4EDE362-7C53-4B7B-B0BA-72C6DDBE58A2"
       ],
       "_player_dict": {},
       "_scene_position": {},
       "_scene_rotation": {},
       "_synced_model_ids": [],
       "_synced_repr_model_ids": [],
       "_view_height": "",
       "_view_width": "",
       "background": "white",
       "frame": 0,
       "gui_style": null,
       "layout": "IPY_MODEL_6ef512e339944d9d848896e0c459908c",
       "max_frame": 0,
       "n_components": 1,
       "picked": {}
      }
     },
     "a96bea585cd04ce7b5ef167acf8acc1c": {
      "model_module": "@jupyter-widgets/controls",
      "model_module_version": "1.5.0",
      "model_name": "DescriptionStyleModel",
      "state": {
       "description_width": ""
      }
     },
     "aa46963727a24d2fbb6abeeee2c668c3": {
      "model_module": "@jupyter-widgets/base",
      "model_module_version": "1.2.0",
      "model_name": "LayoutModel",
      "state": {}
     },
     "aab913ab713c47868d8b3870a7161b5a": {
      "model_module": "@jupyter-widgets/controls",
      "model_module_version": "1.5.0",
      "model_name": "SliderStyleModel",
      "state": {
       "description_width": ""
      }
     },
     "aba3ea8bcc7342b3b9427bb267da8560": {
      "model_module": "@jupyter-widgets/controls",
      "model_module_version": "1.5.0",
      "model_name": "LinkModel",
      "state": {
       "source": [
        "IPY_MODEL_2db52387cfb44a05a96005426c7b074d",
        "value"
       ],
       "target": [
        "IPY_MODEL_1b93450d255d4fc9a0d125c540d68d37",
        "value"
       ]
      }
     },
     "adb728afde29401eb178d1bdfb51ef06": {
      "model_module": "@jupyter-widgets/base",
      "model_module_version": "1.2.0",
      "model_name": "LayoutModel",
      "state": {}
     },
     "ade1a8b062c4463b963598d533ce2864": {
      "model_module": "@jupyter-widgets/base",
      "model_module_version": "1.2.0",
      "model_name": "LayoutModel",
      "state": {}
     },
     "ae33fb64f8774ec9a94c3557515e8df9": {
      "model_module": "@jupyter-widgets/controls",
      "model_module_version": "1.5.0",
      "model_name": "ButtonModel",
      "state": {
       "description": "Save image",
       "layout": "IPY_MODEL_aa46963727a24d2fbb6abeeee2c668c3",
       "style": "IPY_MODEL_b1e34c895f5e447b95336b1d83b98191",
       "tooltip": "Save current frame to file.\nCurrently .png and .html are supported.\nIt takes a bit time, please be patient."
      }
     },
     "afd12e8fe1684452a2f3c3c8c2b7fc6e": {
      "model_module": "@jupyter-widgets/controls",
      "model_module_version": "1.5.0",
      "model_name": "ButtonModel",
      "state": {
       "description": "Save image",
       "layout": "IPY_MODEL_7e1ac37513d243309d6a60bcee1a68af",
       "style": "IPY_MODEL_5361535c14f0472fa427ee5ec1da4ae3",
       "tooltip": "Save current frame to file.\nCurrently .png and .html are supported.\nIt takes a bit time, please be patient."
      }
     },
     "b1e34c895f5e447b95336b1d83b98191": {
      "model_module": "@jupyter-widgets/controls",
      "model_module_version": "1.5.0",
      "model_name": "ButtonStyleModel",
      "state": {}
     },
     "b26e158251a34165a7a1f13e466d7f75": {
      "model_module": "@jupyter-widgets/controls",
      "model_module_version": "1.5.0",
      "model_name": "ButtonModel",
      "state": {
       "icon": "compress",
       "layout": "IPY_MODEL_89f9179fe9ff4c08b730c87b1ce32e69",
       "style": "IPY_MODEL_42700bee2a444e839d6b13c75657f165"
      }
     },
     "b393648ba42643ed99c462cd26c5a53a": {
      "model_module": "@jupyter-widgets/controls",
      "model_module_version": "1.5.0",
      "model_name": "SliderStyleModel",
      "state": {
       "description_width": ""
      }
     },
     "b48248e3a6b64c5c9275dcdfff1b4dc5": {
      "model_module": "@jupyter-widgets/output",
      "model_module_version": "1.0.0",
      "model_name": "OutputModel",
      "state": {
       "layout": "IPY_MODEL_b63ae93f429c4f5da7bafa3b6223dc76"
      }
     },
     "b58972b3130b4de287b25f5c740e9b5b": {
      "model_module": "@jupyter-widgets/base",
      "model_module_version": "1.2.0",
      "model_name": "LayoutModel",
      "state": {}
     },
     "b58b46035b1549659e33a23affc056e2": {
      "model_module": "@jupyter-widgets/controls",
      "model_module_version": "1.5.0",
      "model_name": "ButtonStyleModel",
      "state": {}
     },
     "b5a7e30cb0f94059a55ea3c68d9cbd04": {
      "model_module": "@jupyter-widgets/controls",
      "model_module_version": "1.5.0",
      "model_name": "IntSliderModel",
      "state": {
       "layout": "IPY_MODEL_748b75b4a1b547e5a75d25055a97536f",
       "max": 0,
       "style": "IPY_MODEL_56b6be6323794fa29b110439a515aaf4"
      }
     },
     "b63ae93f429c4f5da7bafa3b6223dc76": {
      "model_module": "@jupyter-widgets/base",
      "model_module_version": "1.2.0",
      "model_name": "LayoutModel",
      "state": {
       "border": "0px solid black"
      }
     },
     "b67aa2cd76c24255a23354fa1e3d13a7": {
      "model_module": "@jupyter-widgets/controls",
      "model_module_version": "1.5.0",
      "model_name": "IntSliderModel",
      "state": {
       "layout": "IPY_MODEL_cd2a3eadd4ec45318efe0a12f9cf40fb",
       "max": 0,
       "style": "IPY_MODEL_53293eb4055f4ed5b4a0aa8b451fce44"
      }
     },
     "b68b243e731641ed9c6ff6fe514270f0": {
      "model_module": "@jupyter-widgets/controls",
      "model_module_version": "1.5.0",
      "model_name": "ButtonStyleModel",
      "state": {}
     },
     "b89190e808414a2eb92bf61e8bc1b371": {
      "model_module": "@jupyter-widgets/base",
      "model_module_version": "1.2.0",
      "model_name": "LayoutModel",
      "state": {}
     },
     "b8d479fe1d904e72bca53288fd43579a": {
      "model_module": "@jupyter-widgets/controls",
      "model_module_version": "1.5.0",
      "model_name": "ButtonModel",
      "state": {
       "description": "Download image",
       "layout": "IPY_MODEL_5ee4c461b103445cbcedb4c246fb3b45",
       "style": "IPY_MODEL_3a95fcea2d8346d9b2d4c992e4afc2a1",
       "tooltip": "Download current frame to your local PC"
      }
     },
     "b9f7cf53526e4eac92daafe6d3d4a418": {
      "model_module": "@jupyter-widgets/controls",
      "model_module_version": "1.5.0",
      "model_name": "FloatSliderModel",
      "state": {
       "description": "Force scale",
       "layout": "IPY_MODEL_72fc6d204ca24fcab8bea6180a443282",
       "step": 0.1,
       "style": "IPY_MODEL_19baa15a2daf48ab97cbe648ca8b1a86",
       "value": 0.5
      }
     },
     "ba4b9cff724e413eacabdc94f593b637": {
      "model_module": "@jupyter-widgets/controls",
      "model_module_version": "1.5.0",
      "model_name": "SliderStyleModel",
      "state": {
       "description_width": ""
      }
     },
     "bbe0a6b16e9c46dd825b4920adf698c4": {
      "model_module": "@jupyter-widgets/controls",
      "model_module_version": "1.5.0",
      "model_name": "ButtonModel",
      "state": {
       "description": "Download image",
       "layout": "IPY_MODEL_5d5142fcef2349459f0273e1aa234d19",
       "style": "IPY_MODEL_265d8636c1cc43bb93c1cf18694ce43d",
       "tooltip": "Download current frame to your local PC"
      }
     },
     "bcc34e08ccde47a8b76715863d172ccd": {
      "model_module": "@jupyter-widgets/controls",
      "model_module_version": "1.5.0",
      "model_name": "DescriptionStyleModel",
      "state": {
       "description_width": ""
      }
     },
     "bccd8d341928406781f5869cb9e784ac": {
      "model_module": "@jupyter-widgets/controls",
      "model_module_version": "1.5.0",
      "model_name": "DescriptionStyleModel",
      "state": {
       "description_width": ""
      }
     },
     "bdd72598ead34c719346c9df5b35d415": {
      "model_module": "@jupyter-widgets/base",
      "model_module_version": "1.2.0",
      "model_name": "LayoutModel",
      "state": {}
     },
     "c1d87f41920c4a2d86924ef6709626cc": {
      "model_module": "@jupyter-widgets/controls",
      "model_module_version": "1.5.0",
      "model_name": "DescriptionStyleModel",
      "state": {
       "description_width": ""
      }
     },
     "c2b1453970254e4d8bfed78e17a94bfd": {
      "model_module": "nglview-js-widgets",
      "model_module_version": "3.0.1",
      "model_name": "NGLModel",
      "state": {
       "_camera_orientation": [
        28.1904821133341,
        0,
        0,
        0,
        0,
        28.1904821133341,
        0,
        0,
        0,
        0,
        28.1904821133341,
        0,
        -8.347999922931194,
        -4.860499793663621,
        -3.3990000560879707,
        1
       ],
       "_camera_str": "orthographic",
       "_gui_theme": null,
       "_ibtn_fullscreen": "IPY_MODEL_b26e158251a34165a7a1f13e466d7f75",
       "_igui": null,
       "_iplayer": "IPY_MODEL_26f1ae4422fd4b51ab95c7bad66da194",
       "_ngl_color_dict": {},
       "_ngl_coordinate_resource": {},
       "_ngl_full_stage_parameters": {
        "ambientColor": 14540253,
        "ambientIntensity": 0.2,
        "backgroundColor": "white",
        "cameraEyeSep": 0.3,
        "cameraFov": 40,
        "cameraType": "orthographic",
        "clipDist": 0,
        "clipFar": 100,
        "clipNear": 0,
        "fogFar": 100,
        "fogNear": 50,
        "hoverTimeout": 0,
        "impostor": true,
        "lightColor": 14540253,
        "lightIntensity": 1,
        "mousePreset": "default",
        "panSpeed": 1,
        "quality": "medium",
        "rotateSpeed": 2,
        "sampleLevel": 0,
        "tooltip": true,
        "workerDefault": true,
        "zoomSpeed": 1.2
       },
       "_ngl_msg_archive": [
        {
         "args": [
          {
           "binary": false,
           "data": "CRYST1   11.087   11.087   11.087  60.00  60.00  60.00 P 1\nMODEL     1\nATOM      1   Pt MOL     1       0.036   0.073  -0.017  1.00  0.00          PT  \nATOM      2   Pt MOL     1       1.353   0.925   2.351  1.00  0.00          PT  \nATOM      3   Pt MOL     1       2.793   1.679   4.689  1.00  0.00          PT  \nATOM      4   Pt MOL     1       4.092   2.445   6.821  1.00  0.00          PT  \nATOM      5   Pt MOL     1       1.129   2.428   0.003  1.00  0.00          PT  \nATOM      6   Pt MOL     1       2.722   3.209   2.154  1.00  0.00          PT  \nATOM      7   Pt MOL     1       4.162   4.044   4.308  1.00  0.00          PT  \nATOM      8   Pt MOL     1       5.448   4.722   6.863  1.00  0.00          PT  \nATOM      9   Pt MOL     1       2.698   4.705   0.041  1.00  0.00          PT  \nATOM     10   Pt MOL     1       4.095   5.644   2.267  1.00  0.00          PT  \nATOM     11   Pt MOL     1       5.674   6.276   4.599  1.00  0.00          PT  \nATOM     12   Pt MOL     1       6.901   7.032   6.847  1.00  0.00          PT  \nATOM     13   Pt MOL     1       3.925   7.244  -0.024  1.00  0.00          PT  \nATOM     14   Pt MOL     1       5.608   7.995   2.307  1.00  0.00          PT  \nATOM     15   Pt MOL     1       6.804   8.744   4.588  1.00  0.00          PT  \nATOM     16   Pt MOL     1       8.358   9.605   6.660  1.00  0.00          PT  \nATOM     17   Pt MOL     1       2.670   0.113  -0.101  1.00  0.00          PT  \nATOM     18   Pt MOL     1       4.153   0.821   2.167  1.00  0.00          PT  \nATOM     19   Pt MOL     1       5.550   1.612   4.688  1.00  0.00          PT  \nATOM     20   Pt MOL     1       7.022   2.402   6.735  1.00  0.00          PT  \nATOM     21   Pt MOL     1       4.066   2.324   0.025  1.00  0.00          PT  \nATOM     22   Pt MOL     1       5.697   3.125   2.163  1.00  0.00          PT  \nATOM     23   Pt MOL     1       7.026   3.969   4.559  1.00  0.00          PT  \nATOM     24   Pt MOL     1       8.450   4.796   6.684  1.00  0.00          PT  \nATOM     25   Pt MOL     1       5.469   4.627   0.240  1.00  0.00          PT  \nATOM     26   Pt MOL     1       6.915   5.653   2.333  1.00  0.00          PT  \nATOM     27   Pt MOL     1       8.160   6.481   4.430  1.00  0.00          PT  \nATOM     28   Pt MOL     1       9.769   7.149   6.926  1.00  0.00          PT  \nATOM     29   Pt MOL     1       6.959   7.193  -0.128  1.00  0.00          PT  \nATOM     30   Pt MOL     1       8.314   8.071   2.222  1.00  0.00          PT  \nATOM     31   Pt MOL     1       9.720   8.742   4.628  1.00  0.00          PT  \nATOM     32   Pt MOL     1      10.956   9.532   6.833  1.00  0.00          PT  \nATOM     33   Pt MOL     1       5.563   0.014   0.032  1.00  0.00          PT  \nATOM     34   Pt MOL     1       6.800   0.822   2.192  1.00  0.00          PT  \nATOM     35   Pt MOL     1       8.247   1.599   4.470  1.00  0.00          PT  \nATOM     36   Pt MOL     1       9.847   2.364   6.912  1.00  0.00          PT  \nATOM     37   Pt MOL     1       6.789   2.346   0.121  1.00  0.00          PT  \nATOM     38   Pt MOL     1       8.494   3.297   2.123  1.00  0.00          PT  \nATOM     39   Pt MOL     1       9.720   3.971   4.535  1.00  0.00          PT  \nATOM     40   Pt MOL     1      11.221   4.690   6.745  1.00  0.00          PT  \nATOM     41   Pt MOL     1       8.350   4.960  -0.088  1.00  0.00          PT  \nATOM     42   Pt MOL     1       9.898   5.552   2.090  1.00  0.00          PT  \nATOM     43   Pt MOL     1      11.054   6.348   4.431  1.00  0.00          PT  \nATOM     44   Pt MOL     1      12.369   7.226   6.667  1.00  0.00          PT  \nATOM     45   Pt MOL     1       9.670   7.058   0.019  1.00  0.00          PT  \nATOM     46   Pt MOL     1      11.009   8.147   2.326  1.00  0.00          PT  \nATOM     47   Pt MOL     1      12.402   8.928   4.489  1.00  0.00          PT  \nATOM     48   Pt MOL     1      13.759   9.782   6.762  1.00  0.00          PT  \nATOM     49   Pt MOL     1       8.283  -0.061   0.132  1.00  0.00          PT  \nATOM     50   Pt MOL     1       9.759   0.683   2.200  1.00  0.00          PT  \nATOM     51   Pt MOL     1      11.064   1.579   4.600  1.00  0.00          PT  \nATOM     52   Pt MOL     1      12.444   2.378   6.861  1.00  0.00          PT  \nATOM     53   Pt MOL     1       9.651   2.485   0.204  1.00  0.00          PT  \nATOM     54   Pt MOL     1      11.074   3.326   2.199  1.00  0.00          PT  \nATOM     55   Pt MOL     1      12.483   4.168   4.490  1.00  0.00          PT  \nATOM     56   Pt MOL     1      14.052   4.879   6.751  1.00  0.00          PT  \nATOM     57   Pt MOL     1      10.971   4.775  -0.006  1.00  0.00          PT  \nATOM     58   Pt MOL     1      12.492   5.552   2.192  1.00  0.00          PT  \nATOM     59   Pt MOL     1      13.919   6.391   4.589  1.00  0.00          PT  \nATOM     60   Pt MOL     1      15.419   7.442   6.701  1.00  0.00          PT  \nATOM     61   Pt MOL     1      12.337   7.244   0.048  1.00  0.00          PT  \nATOM     62   Pt MOL     1      13.894   8.079   2.237  1.00  0.00          PT  \nATOM     63   Pt MOL     1      15.180   8.809   4.598  1.00  0.00          PT  \nATOM     64   Pt MOL     1      16.660   9.532   6.627  1.00  0.00          PT  \nENDMDL\n",
           "type": "blob"
          }
         ],
         "kwargs": {
          "defaultRepresentation": false,
          "ext": "pdb"
         },
         "methodName": "loadFile",
         "reconstruc_color_scheme": false,
         "target": "Stage",
         "type": "call_method"
        },
        {
         "args": [
          "500px",
          "500px"
         ],
         "kwargs": {},
         "methodName": "setSize",
         "reconstruc_color_scheme": false,
         "target": "Widget",
         "type": "call_method"
        },
        {
         "args": [
          "unitcell"
         ],
         "component_index": 0,
         "kwargs": {
          "sele": "all"
         },
         "methodName": "addRepresentation",
         "reconstruc_color_scheme": false,
         "target": "compList",
         "type": "call_method"
        },
        {
         "args": [
          "spacefill"
         ],
         "component_index": 0,
         "kwargs": {
          "sele": "all"
         },
         "methodName": "addRepresentation",
         "reconstruc_color_scheme": false,
         "target": "compList",
         "type": "call_method"
        },
        {
         "args": [],
         "kwargs": {
          "cameraType": "orthographic"
         },
         "methodName": "setParameters",
         "reconstruc_color_scheme": false,
         "target": "Stage",
         "type": "call_method"
        },
        {
         "args": [
          {
           "clipDist": 0
          }
         ],
         "kwargs": {},
         "methodName": "setParameters",
         "reconstruc_color_scheme": false,
         "target": "Widget",
         "type": "call_method"
        },
        {
         "args": [
          "spacefill",
          0
         ],
         "kwargs": {
          "colorScale": "rainbow",
          "colorScheme": "element",
          "radiusScale": 0.5,
          "radiusType": "covalent"
         },
         "methodName": "updateRepresentationsByName",
         "reconstruc_color_scheme": false,
         "target": "Widget",
         "type": "call_method"
        },
        {
         "args": [
          "this._Q = [[-0.0, 0.7071067811865476, 0.7071067811865476], [0.8164965809277261, -0.40824829046386274, 0.408248290463863], [0.5773502691896257, 0.577350269189626, -0.5773502691896257]]\n    var tooltip = document.createElement('div');\n    Object.assign(tooltip.style, {\n      display: 'none',\n      position: 'fixed',\n      zIndex: 10,\n      pointerEvents: 'none',\n      backgroundColor: 'rgba( 0, 0, 0, 0.6 )',\n      color: 'lightgrey',\n      padding: '8px',\n      fontFamily: 'sans-serif'\n    });\n    document.body.appendChild(tooltip);\n\n    var that = this;\n    this.stage.mouseControls.remove('hoverPick');\n    this.stage.signals.hovered.add(function (pickingProxy) {\n      if (pickingProxy && (pickingProxy.atom || pickingProxy.bond)) {\n        var atom = pickingProxy.atom || pickingProxy.closestBondAtom\n        var mp = pickingProxy.mouse.position\n        //tooltip.innerText = atom.element + ' i=' + atom.index + ' (' + atom.x.toFixed(2) +  ', ' + atom.y.toFixed(2) +  ', ' + atom.z.toFixed(2) + ')'\n        //var pos = that._atoms_pos[atom.index]\n        var Q = that._Q\n        var pos_x = Q[0][0] * atom.x + Q[0][1] * atom.y + Q[0][2] * atom.z \n        var pos_y = Q[1][0] * atom.x + Q[1][1] * atom.y + Q[1][2] * atom.z\n        var pos_z = Q[2][0] * atom.x + Q[2][1] * atom.y + Q[2][2] * atom.z\n        tooltip.innerText = 'i=' + atom.index + ' ' + atom.element + ' (' + pos_x.toFixed(2) +  ', ' + pos_y.toFixed(2) +  ', ' + pos_z.toFixed(2) + ')'\n        tooltip.style.bottom = window.innerHeight - mp.y + 3 + 'px'\n        tooltip.style.left = mp.x + 3 + 'px'\n        tooltip.style.display = 'block'\n      } else {\n        tooltip.style.display = 'none'\n      }\n    });\n    this.stage.tooltip = tooltip;\n    "
         ],
         "kwargs": {},
         "methodName": "executeCode",
         "reconstruc_color_scheme": false,
         "target": "Widget",
         "type": "call_method"
        }
       ],
       "_ngl_original_stage_parameters": {
        "ambientColor": 14540253,
        "ambientIntensity": 0.2,
        "backgroundColor": "white",
        "cameraEyeSep": 0.3,
        "cameraFov": 40,
        "cameraType": "perspective",
        "clipDist": 10,
        "clipFar": 100,
        "clipNear": 0,
        "fogFar": 100,
        "fogNear": 50,
        "hoverTimeout": 0,
        "impostor": true,
        "lightColor": 14540253,
        "lightIntensity": 1,
        "mousePreset": "default",
        "panSpeed": 1,
        "quality": "medium",
        "rotateSpeed": 2,
        "sampleLevel": 0,
        "tooltip": true,
        "workerDefault": true,
        "zoomSpeed": 1.2
       },
       "_ngl_repr_dict": {
        "0": {
         "0": {
          "params": {
           "clipCenter": {
            "x": 0,
            "y": 0,
            "z": 0
           },
           "clipNear": 0,
           "clipRadius": 0,
           "colorMode": "hcl",
           "colorReverse": false,
           "colorScale": "",
           "colorScheme": "element",
           "colorValue": "orange",
           "defaultAssembly": "",
           "depthWrite": true,
           "diffuse": 16777215,
           "diffuseInterior": false,
           "disableImpostor": false,
           "disablePicking": false,
           "flatShaded": false,
           "interiorColor": 2236962,
           "interiorDarkening": 0,
           "lazy": false,
           "matrix": {
            "elements": [
             1,
             0,
             0,
             0,
             0,
             1,
             0,
             0,
             0,
             0,
             1,
             0,
             0,
             0,
             0,
             1
            ]
           },
           "metalness": 0,
           "opacity": 1,
           "quality": "medium",
           "radialSegments": 10,
           "radiusData": {},
           "radiusScale": 1,
           "radiusSize": 0.04938274510859151,
           "radiusType": "vdw",
           "roughness": 0.4,
           "sele": "all",
           "side": "double",
           "sphereDetail": 1,
           "useInteriorColor": true,
           "visible": true,
           "wireframe": false
          },
          "type": "unitcell"
         },
         "1": {
          "params": {
           "assembly": "default",
           "clipCenter": {
            "x": 0,
            "y": 0,
            "z": 0
           },
           "clipNear": 0,
           "clipRadius": 0,
           "colorMode": "hcl",
           "colorReverse": false,
           "colorScale": "rainbow",
           "colorScheme": "element",
           "colorValue": 9474192,
           "defaultAssembly": "",
           "depthWrite": true,
           "diffuse": 16777215,
           "diffuseInterior": false,
           "disableImpostor": false,
           "disablePicking": false,
           "flatShaded": false,
           "interiorColor": 2236962,
           "interiorDarkening": 0,
           "lazy": false,
           "matrix": {
            "elements": [
             1,
             0,
             0,
             0,
             0,
             1,
             0,
             0,
             0,
             0,
             1,
             0,
             0,
             0,
             0,
             1
            ]
           },
           "metalness": 0,
           "opacity": 1,
           "quality": "medium",
           "radiusData": {},
           "radiusScale": 0.5,
           "radiusSize": 1,
           "radiusType": "covalent",
           "roughness": 0.4,
           "sele": "all",
           "side": "double",
           "sphereDetail": 1,
           "useInteriorColor": true,
           "visible": true,
           "wireframe": false
          },
          "type": "spacefill"
         }
        }
       },
       "_ngl_serialize": false,
       "_ngl_version": "2.0.0-dev.36",
       "_ngl_view_id": [
        "2B1A6226-4075-419E-93E5-5F945C7E00B1"
       ],
       "_player_dict": {},
       "_scene_position": {},
       "_scene_rotation": {},
       "_synced_model_ids": [],
       "_synced_repr_model_ids": [],
       "_view_height": "",
       "_view_width": "",
       "background": "white",
       "frame": 0,
       "gui_style": null,
       "layout": "IPY_MODEL_c85e5f61e5fa4cc9b64f80ab75351109",
       "max_frame": 0,
       "n_components": 1,
       "picked": {}
      }
     },
     "c34fff38fd094349b474db89abdbc6e6": {
      "model_module": "@jupyter-widgets/controls",
      "model_module_version": "1.5.0",
      "model_name": "SliderStyleModel",
      "state": {
       "description_width": ""
      }
     },
     "c5207b10fc69499a9982098f4d4178ee": {
      "model_module": "@jupyter-widgets/controls",
      "model_module_version": "1.5.0",
      "model_name": "LinkModel",
      "state": {
       "source": [
        "IPY_MODEL_3641d58bd84b4d99b9d8d4b4886d7e17",
        "value"
       ],
       "target": [
        "IPY_MODEL_413e58e4761342f09063472bef1ba125",
        "frame"
       ]
      }
     },
     "c52d92fc56054803be1cafd344bc2132": {
      "model_module": "@jupyter-widgets/controls",
      "model_module_version": "1.5.0",
      "model_name": "PlayModel",
      "state": {
       "layout": "IPY_MODEL_180047eee6014174abcbb47ef3fcbff0",
       "max": 0,
       "style": "IPY_MODEL_bccd8d341928406781f5869cb9e784ac"
      }
     },
     "c5353d4120a143208be54647943c2021": {
      "model_module": "@jupyter-widgets/base",
      "model_module_version": "1.2.0",
      "model_name": "LayoutModel",
      "state": {}
     },
     "c538518ca4574615bc64a828dca4b969": {
      "model_module": "@jupyter-widgets/controls",
      "model_module_version": "1.5.0",
      "model_name": "DescriptionStyleModel",
      "state": {
       "description_width": ""
      }
     },
     "c65ae949b1b14375aac26cdb3e65f34a": {
      "model_module": "@jupyter-widgets/controls",
      "model_module_version": "1.5.0",
      "model_name": "IntSliderModel",
      "state": {
       "layout": "IPY_MODEL_4c427797e3fe4374ae361bfb8f653bdd",
       "max": 0,
       "style": "IPY_MODEL_5f5d84b7962c4d748605bdd745c5fd34"
      }
     },
     "c85e5f61e5fa4cc9b64f80ab75351109": {
      "model_module": "@jupyter-widgets/base",
      "model_module_version": "1.2.0",
      "model_name": "LayoutModel",
      "state": {}
     },
     "c87e218486ea4f4cb3ab2d62f9f2db28": {
      "model_module": "@jupyter-widgets/base",
      "model_module_version": "1.2.0",
      "model_name": "LayoutModel",
      "state": {}
     },
     "c88164c0f18d4b729ee54206a994e5f3": {
      "model_module": "@jupyter-widgets/base",
      "model_module_version": "1.2.0",
      "model_name": "LayoutModel",
      "state": {}
     },
     "c93c016e5458415ab017d9f05b7c554b": {
      "model_module": "@jupyter-widgets/controls",
      "model_module_version": "1.5.0",
      "model_name": "HBoxModel",
      "state": {
       "children": [
        "IPY_MODEL_a80572f4629546a9bd9bad141bbc1155",
        "IPY_MODEL_613dfb8cdc39410791deeef50e3490ae"
       ],
       "layout": "IPY_MODEL_fe2cb6ef716c40c3ac3f7c5829b0ff9e"
      }
     },
     "cc2314d74653460194c5d26d488a80da": {
      "model_module": "@jupyter-widgets/controls",
      "model_module_version": "1.5.0",
      "model_name": "FloatSliderModel",
      "state": {
       "description": "Charge scale",
       "layout": "IPY_MODEL_0580fac469194b3ea88fa5f9e8674a07",
       "step": 0.1,
       "style": "IPY_MODEL_c34fff38fd094349b474db89abdbc6e6",
       "value": 1
      }
     },
     "cce1c391b0fc42a0b02e9da3e16f3504": {
      "model_module": "@jupyter-widgets/base",
      "model_module_version": "1.2.0",
      "model_name": "LayoutModel",
      "state": {}
     },
     "cd2a3eadd4ec45318efe0a12f9cf40fb": {
      "model_module": "@jupyter-widgets/base",
      "model_module_version": "1.2.0",
      "model_name": "LayoutModel",
      "state": {}
     },
     "ce6a7786ce2f4468ad419296f2ff9d70": {
      "model_module": "@jupyter-widgets/controls",
      "model_module_version": "1.5.0",
      "model_name": "TextModel",
      "state": {
       "description": "Filename: ",
       "layout": "IPY_MODEL_95dbab02478b42d8890542b614ffa41a",
       "style": "IPY_MODEL_67f010f2e1a44a7e84beaef81c794fc0",
       "value": "screenshot.png"
      }
     },
     "d0a449f422db4592aa84a60fe8f75ef3": {
      "model_module": "@jupyter-widgets/controls",
      "model_module_version": "1.5.0",
      "model_name": "HTMLModel",
      "state": {
       "layout": "IPY_MODEL_9f9c7f2036f14fefbee06f1e04c714bc",
       "style": "IPY_MODEL_d70305a8dad44718a5e5701583edd01f",
       "value": "100%"
      }
     },
     "d2d9ee0fec114ca1a585d2328c76aad5": {
      "model_module": "@jupyter-widgets/base",
      "model_module_version": "1.2.0",
      "model_name": "LayoutModel",
      "state": {}
     },
     "d2f1e05fa7614e09ac16262649bc55f2": {
      "model_module": "@jupyter-widgets/controls",
      "model_module_version": "1.5.0",
      "model_name": "DescriptionStyleModel",
      "state": {
       "description_width": ""
      }
     },
     "d31e9da2b4e54a9aa310f63cf8a35e4b": {
      "model_module": "@jupyter-widgets/controls",
      "model_module_version": "1.5.0",
      "model_name": "DropdownModel",
      "state": {
       "_options_labels": [
        " ",
        "picking",
        "random",
        "uniform",
        "atomindex",
        "residueindex",
        "chainindex",
        "modelindex",
        "sstruc",
        "element",
        "resname",
        "bfactor",
        "hydrophobicity",
        "value",
        "volume",
        "occupancy"
       ],
       "description": "Color scheme",
       "index": 9,
       "layout": "IPY_MODEL_5170424d444449faa689c66e43eb91b9",
       "style": "IPY_MODEL_34486bc45d2e45b1ae6c8b02807f6473"
      }
     },
     "d44e0392a88b4f3f982d3d29b993bdb0": {
      "model_module": "@jupyter-widgets/base",
      "model_module_version": "1.2.0",
      "model_name": "LayoutModel",
      "state": {}
     },
     "d67b69a475d64686919c88ac0740be20": {
      "model_module": "@jupyter-widgets/controls",
      "model_module_version": "1.5.0",
      "model_name": "LinkModel",
      "state": {
       "source": [
        "IPY_MODEL_3641d58bd84b4d99b9d8d4b4886d7e17",
        "value"
       ],
       "target": [
        "IPY_MODEL_b67aa2cd76c24255a23354fa1e3d13a7",
        "value"
       ]
      }
     },
     "d70305a8dad44718a5e5701583edd01f": {
      "model_module": "@jupyter-widgets/controls",
      "model_module_version": "1.5.0",
      "model_name": "DescriptionStyleModel",
      "state": {
       "description_width": ""
      }
     },
     "d78c6d7941954690a59620ff04f26f9b": {
      "model_module": "@jupyter-widgets/base",
      "model_module_version": "1.2.0",
      "model_name": "LayoutModel",
      "state": {}
     },
     "daea647d2efa48aaa62d40b02bd798e3": {
      "model_module": "@jupyter-widgets/base",
      "model_module_version": "1.2.0",
      "model_name": "LayoutModel",
      "state": {}
     },
     "db90c26c38cb425cb75978ab7c7046a3": {
      "model_module": "@jupyter-widgets/base",
      "model_module_version": "1.2.0",
      "model_name": "LayoutModel",
      "state": {}
     },
     "dc09e081bbe2462e8bd4b36306a3e85e": {
      "model_module": "@jupyter-widgets/base",
      "model_module_version": "1.2.0",
      "model_name": "LayoutModel",
      "state": {
       "width": "34px"
      }
     },
     "dc42af8f3b444e1e933117c25bcdebd0": {
      "model_module": "@jupyter-widgets/output",
      "model_module_version": "1.0.0",
      "model_name": "OutputModel",
      "state": {
       "layout": "IPY_MODEL_effaa9f99a414d31953759980616224b"
      }
     },
     "dd7b54e3086345228369491e6ac4911d": {
      "model_module": "@jupyter-widgets/controls",
      "model_module_version": "1.5.0",
      "model_name": "ButtonStyleModel",
      "state": {}
     },
     "dedec2dc2ff24f9ebdaaeb901e3677d6": {
      "model_module": "@jupyter-widgets/controls",
      "model_module_version": "1.5.0",
      "model_name": "SliderStyleModel",
      "state": {
       "description_width": ""
      }
     },
     "e1156016ede04460abcf04479886e624": {
      "model_module": "@jupyter-widgets/base",
      "model_module_version": "1.2.0",
      "model_name": "LayoutModel",
      "state": {}
     },
     "e279d860f24e433ab3dc40ce9091e3e5": {
      "model_module": "@jupyter-widgets/controls",
      "model_module_version": "1.5.0",
      "model_name": "HBoxModel",
      "state": {
       "children": [
        "IPY_MODEL_d0a449f422db4592aa84a60fe8f75ef3",
        "IPY_MODEL_f6a7c389edbd4c62abb30f9007a3231e",
        "IPY_MODEL_6039931c97bd46b38684ea9f6329612c"
       ],
       "layout": "IPY_MODEL_fdabd88cf870464d861e66181dedc9e3"
      }
     },
     "e38a9604922144c0a29784ad0bc3c1d7": {
      "model_module": "@jupyter-widgets/base",
      "model_module_version": "1.2.0",
      "model_name": "LayoutModel",
      "state": {}
     },
     "e45fa7e6a7bb4f09b7aa2dab5e2e2901": {
      "model_module": "@jupyter-widgets/base",
      "model_module_version": "1.2.0",
      "model_name": "LayoutModel",
      "state": {}
     },
     "e486261d3b3b460ca93471e11ad4905f": {
      "model_module": "@jupyter-widgets/base",
      "model_module_version": "1.2.0",
      "model_name": "LayoutModel",
      "state": {}
     },
     "e4cf6995bc0940b5b43102d6d6ec2bd5": {
      "model_module": "@jupyter-widgets/controls",
      "model_module_version": "1.5.0",
      "model_name": "HBoxModel",
      "state": {
       "children": [
        "IPY_MODEL_b8d479fe1d904e72bca53288fd43579a",
        "IPY_MODEL_ae33fb64f8774ec9a94c3557515e8df9"
       ],
       "layout": "IPY_MODEL_e45fa7e6a7bb4f09b7aa2dab5e2e2901"
      }
     },
     "e54acfcc3d554408a816d389c94d4a3e": {
      "model_module": "@jupyter-widgets/base",
      "model_module_version": "1.2.0",
      "model_name": "LayoutModel",
      "state": {}
     },
     "e9aea9d8a4ba424b889de9a376c5935d": {
      "model_module": "@jupyter-widgets/controls",
      "model_module_version": "1.5.0",
      "model_name": "DescriptionStyleModel",
      "state": {
       "description_width": ""
      }
     },
     "e9e41de39cea48c69b483348bd002aa5": {
      "model_module": "@jupyter-widgets/controls",
      "model_module_version": "1.5.0",
      "model_name": "IntSliderModel",
      "state": {
       "layout": "IPY_MODEL_0e1c5481f0ef4a05aa649663d15c17ac",
       "max": 2,
       "style": "IPY_MODEL_41c53160940c47258dd0ba595b963c4d"
      }
     },
     "eb1f0078bceb4edd945155d1b3e52977": {
      "model_module": "@jupyter-widgets/base",
      "model_module_version": "1.2.0",
      "model_name": "LayoutModel",
      "state": {}
     },
     "eb9a9ddb48964b1d99932d7264a5eb3e": {
      "model_module": "@jupyter-widgets/base",
      "model_module_version": "1.2.0",
      "model_name": "LayoutModel",
      "state": {}
     },
     "effaa9f99a414d31953759980616224b": {
      "model_module": "@jupyter-widgets/base",
      "model_module_version": "1.2.0",
      "model_name": "LayoutModel",
      "state": {
       "border": "0px solid black"
      }
     },
     "f03232dd7a274bea8cd0eba5e96187b1": {
      "model_module": "@jupyter-widgets/base",
      "model_module_version": "1.2.0",
      "model_name": "LayoutModel",
      "state": {}
     },
     "f1b5c89154eb444e9fb4bc798b052e70": {
      "model_module": "@jupyter-widgets/controls",
      "model_module_version": "1.5.0",
      "model_name": "DropdownModel",
      "state": {
       "_options_labels": [
        " ",
        "picking",
        "random",
        "uniform",
        "atomindex",
        "residueindex",
        "chainindex",
        "modelindex",
        "sstruc",
        "element",
        "resname",
        "bfactor",
        "hydrophobicity",
        "value",
        "volume",
        "occupancy"
       ],
       "description": "Color scheme",
       "index": 9,
       "layout": "IPY_MODEL_9d12708de7494f7c951403d76fcd5033",
       "style": "IPY_MODEL_05a7742965f14cc084c8488e3a4b269a"
      }
     },
     "f31a04020ceb4133b88502d64c8f08cf": {
      "model_module": "@jupyter-widgets/base",
      "model_module_version": "1.2.0",
      "model_name": "LayoutModel",
      "state": {}
     },
     "f5bce9e1f30d4f97bf5c233a49d3ab1e": {
      "model_module": "@jupyter-widgets/controls",
      "model_module_version": "1.5.0",
      "model_name": "HBoxModel",
      "state": {
       "children": [
        "IPY_MODEL_6e7c9a2ff64247e2a3c4e36edefbc59e",
        "IPY_MODEL_1448734ba2434432b7fd91724f2718fa"
       ],
       "layout": "IPY_MODEL_e38a9604922144c0a29784ad0bc3c1d7"
      }
     },
     "f5cb21bee6564177ab94e6636c5d00af": {
      "model_module": "@jupyter-widgets/controls",
      "model_module_version": "1.5.0",
      "model_name": "CheckboxModel",
      "state": {
       "description": "Show charge",
       "disabled": false,
       "layout": "IPY_MODEL_2283bfde7f8d4495873a1fd5fb6ccc93",
       "style": "IPY_MODEL_fee96b10688146bc8996b9771a8ea662",
       "value": false
      }
     },
     "f6a7c389edbd4c62abb30f9007a3231e": {
      "model_module": "@jupyter-widgets/controls",
      "model_module_version": "1.5.0",
      "model_name": "FloatProgressModel",
      "state": {
       "bar_style": "success",
       "layout": "IPY_MODEL_f900d0d948a7462d8f3e29b965a2ca56",
       "max": 5,
       "style": "IPY_MODEL_7e957079ca42457f9e5f54460208a67f",
       "value": 5
      }
     },
     "f705775d1a5645f9ae22ce46d24f1626": {
      "model_module": "@jupyter-widgets/base",
      "model_module_version": "1.2.0",
      "model_name": "LayoutModel",
      "state": {}
     },
     "f82f04b657924591a72b7296eeab937c": {
      "model_module": "@jupyter-widgets/base",
      "model_module_version": "1.2.0",
      "model_name": "LayoutModel",
      "state": {}
     },
     "f900d0d948a7462d8f3e29b965a2ca56": {
      "model_module": "@jupyter-widgets/base",
      "model_module_version": "1.2.0",
      "model_name": "LayoutModel",
      "state": {}
     },
     "fc80fbf3e6ee471a89a58d15614bcaea": {
      "model_module": "@jupyter-widgets/controls",
      "model_module_version": "1.5.0",
      "model_name": "SliderStyleModel",
      "state": {
       "description_width": ""
      }
     },
     "fcf2b9b3ad724e4daa5b85dfdf36c558": {
      "model_module": "@jupyter-widgets/base",
      "model_module_version": "1.2.0",
      "model_name": "LayoutModel",
      "state": {}
     },
     "fd68a7cf181a4dd38affb3370cee9cfb": {
      "model_module": "@jupyter-widgets/controls",
      "model_module_version": "1.5.0",
      "model_name": "SliderStyleModel",
      "state": {
       "description_width": ""
      }
     },
     "fdabd88cf870464d861e66181dedc9e3": {
      "model_module": "@jupyter-widgets/base",
      "model_module_version": "1.2.0",
      "model_name": "LayoutModel",
      "state": {}
     },
     "fe2cb6ef716c40c3ac3f7c5829b0ff9e": {
      "model_module": "@jupyter-widgets/base",
      "model_module_version": "1.2.0",
      "model_name": "LayoutModel",
      "state": {}
     },
     "fee96b10688146bc8996b9771a8ea662": {
      "model_module": "@jupyter-widgets/controls",
      "model_module_version": "1.5.0",
      "model_name": "DescriptionStyleModel",
      "state": {
       "description_width": ""
      }
     },
     "ff8a30ce4dfd4299969e9a97c3c5942d": {
      "model_module": "@jupyter-widgets/controls",
      "model_module_version": "1.5.0",
      "model_name": "ButtonStyleModel",
      "state": {}
     }
    },
    "version_major": 2,
    "version_minor": 0
   }
  }
 },
 "nbformat": 4,
 "nbformat_minor": 5
}
